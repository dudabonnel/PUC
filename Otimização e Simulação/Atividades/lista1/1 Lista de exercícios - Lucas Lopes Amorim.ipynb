{
 "cells": [
  {
   "cell_type": "markdown",
   "id": "c4b15cb6",
   "metadata": {},
   "source": [
    "<a class=\"anchor\" id=\"section-0\"></a>\n",
    "<img src=\"https://i.imgur.com/lTCPbz0.jpeg\" alt='logo puc-sp' width='30%' align='left'>\n",
    "\n",
    "### Pontifícia Universidade Católica de São Paulo (PUC-SP)\n",
    "\n",
    "<h1 style=font-size:30px>Exercícios Otimização e Simulação</h1>\n",
    "\n",
    "\n",
    "### Bacharelado em Ciência de Dados e Inteligência Artificial\n",
    "\n",
    "#### Turma: CDIA21-MA\n",
    "\n",
    "**Aluno:** Lucas Lopes Amorim\n",
    "\n",
    "**Professor:** Dr. Rooney Coelho"
   ]
  },
  {
   "cell_type": "markdown",
   "id": "489e5c57",
   "metadata": {},
   "source": [
    "Resolva os problemas utilizando uma ferramenta computacional à sua escolha."
   ]
  },
  {
   "cell_type": "code",
   "execution_count": 8,
   "id": "03c1e31b",
   "metadata": {},
   "outputs": [],
   "source": [
    "# Importando pulp como solver\n",
    "import pulp as pl\n",
    "import numpy as np\n",
    "import pandas as pd\n",
    "import plotly.express as px\n",
    "import warnings\n",
    "warnings.filterwarnings('ignore')"
   ]
  },
  {
   "cell_type": "markdown",
   "id": "1c8f88c0",
   "metadata": {},
   "source": [
    "## Exercício 1\n",
    "\n",
    "Encontre $x_1$ e $x_2$ de forma a\n",
    "\n",
    "**Maximizar:**\n",
    "\n",
    "$Z = 3x_1 + 6x_2$\n",
    "\n",
    "**Sujeito a:**\n",
    "\n",
    "$9x_1+8x_2\\leq72$\n",
    "\n",
    "$x_2\\leq6$\n",
    "\n",
    "$-5x_1+4x_2\\leq20$\n",
    "\n",
    "$2x_1-4x_2\\leq20$\n",
    "\n",
    "$x_1,x_2\\geq0$\n",
    "\n",
    "**Resposta:**\n",
    "\n",
    "$x_1=2.67, \\,x_2=6,\\,Z=44$"
   ]
  },
  {
   "cell_type": "code",
   "execution_count": 2,
   "id": "d8a8a46e",
   "metadata": {},
   "outputs": [],
   "source": [
    "# Criando modelo\n",
    "model = pl.LpProblem('Ex1', pl.LpMaximize)\n",
    "\n",
    "# Criando variáveis\n",
    "x1 = pl.LpVariable('x1', lowBound=0, cat='Continuous')\n",
    "x2 = pl.LpVariable('x2', lowBound=0, upBound=6, cat='Continuous')\n"
   ]
  },
  {
   "cell_type": "code",
   "execution_count": 3,
   "id": "1d843fbe",
   "metadata": {},
   "outputs": [],
   "source": [
    "# Adicionando restrições ao modelo\n",
    "model += 9*x1 + 8*x2 <= 72\n",
    "model += -5*x1 + 4*x2 <= 20\n",
    "model += 2*x1 -4*x2 <= 20"
   ]
  },
  {
   "cell_type": "code",
   "execution_count": 4,
   "id": "cb62d41f",
   "metadata": {},
   "outputs": [],
   "source": [
    "# Adicionando Função Objetiva\n",
    "model += 3*x1 + 6*x2"
   ]
  },
  {
   "cell_type": "code",
   "execution_count": 5,
   "id": "45021eb6",
   "metadata": {},
   "outputs": [
    {
     "data": {
      "text/plain": [
       "1"
      ]
     },
     "execution_count": 5,
     "metadata": {},
     "output_type": "execute_result"
    }
   ],
   "source": [
    "model.solve()"
   ]
  },
  {
   "cell_type": "code",
   "execution_count": 28,
   "id": "bbf0e45b",
   "metadata": {},
   "outputs": [
    {
     "data": {
      "text/plain": [
       "37.6470592"
      ]
     },
     "execution_count": 28,
     "metadata": {},
     "output_type": "execute_result"
    }
   ],
   "source": [
    "model.objective.value()"
   ]
  },
  {
   "cell_type": "code",
   "execution_count": 7,
   "id": "a94bf3c5",
   "metadata": {},
   "outputs": [
    {
     "name": "stdout",
     "output_type": "stream",
     "text": [
      "x1 = 2.6666667\n",
      "x2 = 6.0\n"
     ]
    }
   ],
   "source": [
    "for v in model.variables():\n",
    "    print( v.name, '=', v.varValue )"
   ]
  },
  {
   "cell_type": "markdown",
   "id": "d73727a0",
   "metadata": {},
   "source": [
    "## Exercício 2\n",
    "\n",
    "Encontre $x_1$ e $x_2$ de forma a\n",
    "\n",
    "**Maximizar:**\n",
    "\n",
    "$Z = 10x_1 + 2x_2$\n",
    "\n",
    "**Sujeito a:**\n",
    "\n",
    "$10x_1+4x_2\\leq40$\n",
    "\n",
    "$8x_1+2x_2\\geq0$\n",
    "\n",
    "$x_2\\leq6$\n",
    "\n",
    "$x_1-3x_2\\leq0$\n",
    "\n",
    "$x_1,\\,x_2\\geq0$\n",
    "\n",
    "**Resposta:**\n",
    "\n",
    "$x_1 = 3.53,\\,x_2=1.18,\\,Z=37.65$\n"
   ]
  },
  {
   "cell_type": "code",
   "execution_count": 18,
   "id": "91b3e117",
   "metadata": {},
   "outputs": [],
   "source": [
    "# Criando modelo\n",
    "model = pl.LpProblem('Ex2', pl.LpMaximize)\n",
    "\n",
    "# Criando variáveis\n",
    "x1 = pl.LpVariable('x1', lowBound=0, cat='Continuous')\n",
    "x2 = pl.LpVariable('x2', lowBound=0, upBound=6, cat='Continuous')"
   ]
  },
  {
   "cell_type": "code",
   "execution_count": 19,
   "id": "769f5285",
   "metadata": {},
   "outputs": [],
   "source": [
    "# Adicionando restrições ao modelo\n",
    "model += 10*x1 + 4*x2 <= 40\n",
    "model += 8*x1 + 2*x2 >= 0\n",
    "model += x1 - 3*x2 <= 0"
   ]
  },
  {
   "cell_type": "code",
   "execution_count": 20,
   "id": "121ef858",
   "metadata": {},
   "outputs": [],
   "source": [
    "# Adicionando função objetivo\n",
    "model += 10*x1 + 2*x2"
   ]
  },
  {
   "cell_type": "code",
   "execution_count": 21,
   "id": "31e4eb45",
   "metadata": {},
   "outputs": [
    {
     "data": {
      "text/plain": [
       "1"
      ]
     },
     "execution_count": 21,
     "metadata": {},
     "output_type": "execute_result"
    }
   ],
   "source": [
    "# Encontrando solução\n",
    "model.solve()"
   ]
  },
  {
   "cell_type": "code",
   "execution_count": 27,
   "id": "5277728f",
   "metadata": {},
   "outputs": [
    {
     "data": {
      "text/plain": [
       "37.6470592"
      ]
     },
     "execution_count": 27,
     "metadata": {},
     "output_type": "execute_result"
    }
   ],
   "source": [
    "model.objective.value()"
   ]
  },
  {
   "cell_type": "code",
   "execution_count": 15,
   "id": "20ed3e60",
   "metadata": {},
   "outputs": [
    {
     "name": "stdout",
     "output_type": "stream",
     "text": [
      "x1 = 3.5294118\n",
      "x2 = 1.1764706\n"
     ]
    }
   ],
   "source": [
    "for v in model.variables():\n",
    "    print( v.name, '=', v.varValue )"
   ]
  },
  {
   "cell_type": "markdown",
   "id": "98c27509",
   "metadata": {},
   "source": [
    "## Exercício 3\n",
    "\n",
    "**Maximizar**: Lucro\n",
    "\n",
    "**Variáveis**:\n",
    "\n",
    "$x_1 =$ nº de peças do tipo *Standard*\n",
    "\n",
    "$x_2 =$  nº de peças do tipo *Luxo*\n",
    "\n",
    "**Restrições:**\n",
    "\n",
    "Tempo total de lixação\n",
    "\n",
    "$2x_1+2x_2<=80$\n",
    "\n",
    "Tempo total de polimento\n",
    "\n",
    "$x_1+3x_2 <=120$\n",
    "\n",
    "$x_1,\\,x_2 >= 0$\n",
    "\n",
    "**Função Objetivo:**\n",
    "\n",
    "$L = 24x_1 + 32x_2$\n",
    "\n",
    "**Resposta:**\n",
    "\n",
    "$x_1=0,\\,x_2=40,\\,L=1,280.00$"
   ]
  },
  {
   "cell_type": "code",
   "execution_count": 29,
   "id": "48538a50",
   "metadata": {},
   "outputs": [],
   "source": [
    "# Criando modelo\n",
    "model = pl.LpProblem('Ex3', pl.LpMaximize)\n",
    "\n",
    "# Criando variáveis\n",
    "x1 = pl.LpVariable('x1', lowBound=0, cat='Integer')\n",
    "x2 = pl.LpVariable('x2', lowBound=0, cat='Integer')"
   ]
  },
  {
   "cell_type": "code",
   "execution_count": 30,
   "id": "12c25ccd",
   "metadata": {},
   "outputs": [],
   "source": [
    "# Adicionando restrições\n",
    "model += 2*x1 + 2*x2 <= 80\n",
    "model += x1 + 3*x2 <= 120"
   ]
  },
  {
   "cell_type": "code",
   "execution_count": 31,
   "id": "e71d2579",
   "metadata": {},
   "outputs": [],
   "source": [
    "# Adicionando função objetivo\n",
    "model += 24*x1 + 32*x2"
   ]
  },
  {
   "cell_type": "code",
   "execution_count": 32,
   "id": "12573aa7",
   "metadata": {},
   "outputs": [
    {
     "data": {
      "text/plain": [
       "1"
      ]
     },
     "execution_count": 32,
     "metadata": {},
     "output_type": "execute_result"
    }
   ],
   "source": [
    "# Encontrando solução\n",
    "model.solve()"
   ]
  },
  {
   "cell_type": "code",
   "execution_count": 40,
   "id": "14aa0995",
   "metadata": {},
   "outputs": [
    {
     "data": {
      "text/plain": [
       "1280.0"
      ]
     },
     "execution_count": 40,
     "metadata": {},
     "output_type": "execute_result"
    }
   ],
   "source": [
    "# Encontrando valor da função objetivo\n",
    "model.objective.value()"
   ]
  },
  {
   "cell_type": "code",
   "execution_count": 39,
   "id": "4b169f3c",
   "metadata": {},
   "outputs": [
    {
     "name": "stdout",
     "output_type": "stream",
     "text": [
      "x1 = 0.0\n",
      "x2 = 40.0\n"
     ]
    }
   ],
   "source": [
    "for v in model.variables():\n",
    "    print(f'{v.name} = {v.varValue}')"
   ]
  },
  {
   "cell_type": "markdown",
   "id": "39bb7c6a",
   "metadata": {},
   "source": [
    "## Exercício 4\n",
    "**Maximizar:** Lucro\n",
    "\n",
    "**Variáveis**:\n",
    "\n",
    "$x_1 =$ nº hectares de milho\n",
    "\n",
    "$x_2 =$ nº hectares de trigo\n",
    "\n",
    "$x_3 =$ nº hectares de soja\n",
    "\n",
    "**Restrições:**\n",
    "\n",
    "Área cultivável\n",
    "\n",
    "$x_1+x_2+x_3 <= 400$\n",
    "\n",
    "Custos preparação do terreno\n",
    "\n",
    "$200x_1+240x_2+140x_3 <= 80,000$\n",
    "\n",
    "Disponibilidade de mão de obra\n",
    "\n",
    "$10x_1+16x_2+12x_3 <= 6,000$\n",
    "\n",
    "Não poderão haver nº de hectares negativos\n",
    "\n",
    "$x_1,\\,x_2,\\,x_3 >= 0$\n",
    "\n",
    "**Função Objetivo:**\n",
    "\n",
    "$L = 600x_1 + 700x_2 + 550x_3$\n",
    "\n",
    "**Resposta:**\n",
    "\n",
    "$x_1 = 0\\,\\text{ha},\\,x_2 = 240\\,\\text{ha},\\,x_3 = 160\\,\\text{ha}\\\\L=256,000.00$"
   ]
  },
  {
   "cell_type": "code",
   "execution_count": 41,
   "id": "59096d07",
   "metadata": {},
   "outputs": [],
   "source": [
    "# Criando modelo\n",
    "model = pl.LpProblem('Ex4', pl.LpMaximize)\n",
    "\n",
    "# Criando variáveis\n",
    "x1 = pl.LpVariable('x1', lowBound=0, cat='Integer')\n",
    "x2 = pl.LpVariable('x2', lowBound=0, cat='Integer')\n",
    "x3 = pl.LpVariable('x3', lowBound=0, cat='Integer')"
   ]
  },
  {
   "cell_type": "code",
   "execution_count": 42,
   "id": "2629c642",
   "metadata": {},
   "outputs": [],
   "source": [
    "# Adicionando restrições\n",
    "model += x1 + x2 + x3 <= 400\n",
    "model += 200*x1 + 240*x2 + 140*x3 <= 80000\n",
    "model += 10*x1 + 16*x2 + 12*x3 <= 6000"
   ]
  },
  {
   "cell_type": "code",
   "execution_count": 43,
   "id": "5cf01d3d",
   "metadata": {},
   "outputs": [],
   "source": [
    "# Adicionando função objetivo\n",
    "model += 600*x1 + 700*x2 + 550*x3"
   ]
  },
  {
   "cell_type": "code",
   "execution_count": 44,
   "id": "880133c2",
   "metadata": {},
   "outputs": [
    {
     "data": {
      "text/plain": [
       "1"
      ]
     },
     "execution_count": 44,
     "metadata": {},
     "output_type": "execute_result"
    }
   ],
   "source": [
    "# Encontrando solução\n",
    "model.solve()"
   ]
  },
  {
   "cell_type": "code",
   "execution_count": 45,
   "id": "2a6f696b",
   "metadata": {},
   "outputs": [
    {
     "data": {
      "text/plain": [
       "256000.0"
      ]
     },
     "execution_count": 45,
     "metadata": {},
     "output_type": "execute_result"
    }
   ],
   "source": [
    "# Encontrando valor da função objetivo\n",
    "model.objective.value()"
   ]
  },
  {
   "cell_type": "code",
   "execution_count": 48,
   "id": "b039d6f9",
   "metadata": {},
   "outputs": [
    {
     "name": "stdout",
     "output_type": "stream",
     "text": [
      "x1 = 0.0\n",
      "x2 = 240.0\n",
      "x3 = 160.0\n"
     ]
    }
   ],
   "source": [
    "for v in model.variables():\n",
    "    print(f'{v.name} = {v.varValue}')"
   ]
  },
  {
   "cell_type": "markdown",
   "id": "d3bdaa8f",
   "metadata": {},
   "source": [
    "## Exercício 5\n",
    "\n",
    "Encontre $x_1,x_3,x_3$ pelo método Simplex\n",
    "\n",
    "**Maximizar:**\n",
    "\n",
    "$\\Large L = 8x_1 + 10x_2 + 6x_3$\n",
    "\n",
    "**Sujeito a:**\n",
    "\n",
    "$\\Large x_1 + x_3 \\leq 400$\n",
    "\n",
    "$\\Large 4x_1 + 4x_2 + 2x_3 \\leq 1200$\n",
    "\n",
    "$\\Large 3x_1 + 3x_2 \\leq 600$\n",
    "\n",
    "$\\Large x_1,x_2,x_3 \\geq 0$"
   ]
  },
  {
   "cell_type": "markdown",
   "id": "88dc63bb",
   "metadata": {},
   "source": [
    "Vamos resolver esse problema utilizando a função $\\text{Simplex}$ fornecida pelo professor"
   ]
  },
  {
   "cell_type": "code",
   "execution_count": 1,
   "id": "cdd64a47",
   "metadata": {},
   "outputs": [],
   "source": [
    "def Simplex(T, rotulos=[], base=[]):\n",
    "    '''\n",
    "    Função para calcular o Tableau Simplex apresentando a sua evolução ao longo das iterações.\n",
    "    \n",
    "    Argumentos de entrada:\n",
    "        T: numpy array representando o Tableau inicial\n",
    "    \n",
    "    Argumentos de Saída\n",
    "        T: a tabela na última iteração do algoritmo\n",
    "        \n",
    "    Programador: Prof. Dr. Rooney Coelho\n",
    "    '''\n",
    "    \n",
    "    print('Tableu Simplex (inicial):')\n",
    "    if rotulos == [] and base == []:\n",
    "        print(T)\n",
    "    else:\n",
    "        print( pd.DataFrame(T, columns=rotulos, index=base ) )\n",
    "    \n",
    "    menor = -1\n",
    "    it = 0\n",
    "    while menor < 0:\n",
    "        # Inicialização dos parâmetros (sobreescrever)\n",
    "        pivo_linha = -1\n",
    "        pivo_coluna = -1\n",
    "        pivo = 0\n",
    "        menor = T[0,:-1].min()\n",
    "\n",
    "        if menor >=0:\n",
    "            print('\\nNenhum dos coeficientes da linha z associados com as variáveis não básicas é negativo assim essa tabela é ótima!')\n",
    "            break\n",
    "        else:\n",
    "            it += 1\n",
    "            print(f'\\nIteração: {it}')\n",
    "            # pega o menor elemento da primeira linha (função objetivo)\n",
    "            pivo_coluna = T[0,:-1].argmin()\n",
    "\n",
    "            aux = np.zeros(len(T)-1)\n",
    "            i = 0\n",
    "            for a,b in zip(T[1:,-1],T[1:,pivo_coluna]):\n",
    "                aux[i] = a/b\n",
    "                i+=1\n",
    "\n",
    "            val = aux[aux>0].min()\n",
    "            pivo_linha = np.argwhere(aux==val).item() + 1 # Soma um para a mesma referencia incluindo objetivo\n",
    "            pivo = T[pivo_linha, pivo_coluna]\n",
    "            print(f'Linha do pivô: {pivo_linha}, Coluna do pivô: {pivo_coluna}, Elemento pivô: {pivo}\\n')\n",
    "\n",
    "            # Nova linha do pivô = linha do pivô atual / elemento do pivô\n",
    "            T[pivo_linha] = T[pivo_linha]/pivo \n",
    "\n",
    "            # Todas as outras linhas, incluindo z\n",
    "            # Nova linha=(Linha atual)−(seu coeficiente de coluna do pivô)×(Nova linha do pivô)\n",
    "\n",
    "            nova_linha_pivo = T[pivo_linha]\n",
    "\n",
    "            for i in range(len(T)):\n",
    "                if i != pivo_linha:\n",
    "                    T[i] -= T[i,pivo_coluna]*nova_linha_pivo\n",
    "\n",
    "            print('Tableu Simplex:')\n",
    "            if rotulos == [] and base == []:\n",
    "                print(T)\n",
    "            else:\n",
    "                base[pivo_linha] = rotulos[pivo_coluna]\n",
    "                print( pd.DataFrame(T, columns=rotulos, index=base ) )\n",
    "    return T"
   ]
  },
  {
   "cell_type": "code",
   "execution_count": 10,
   "id": "b33a72ca",
   "metadata": {},
   "outputs": [
    {
     "name": "stdout",
     "output_type": "stream",
     "text": [
      "Tableu Simplex (inicial):\n",
      "      z   x1    x2   x3   x4   x5   x6      LD\n",
      "z   1.0 -8.0 -10.0 -6.0  0.0  0.0  0.0     0.0\n",
      "x4  0.0  1.0   0.0  1.0  1.0  0.0  0.0   400.0\n",
      "x5  0.0  4.0   4.0  2.0  0.0  1.0  0.0  1200.0\n",
      "x6  0.0  3.0   3.0  0.0  0.0  0.0  1.0   600.0\n",
      "\n",
      "Iteração: 1\n",
      "Linha do pivô: 3, Coluna do pivô: 2, Elemento pivô: 3.0\n",
      "\n",
      "Tableu Simplex:\n",
      "      z   x1   x2   x3   x4   x5        x6      LD\n",
      "z   1.0  2.0  0.0 -6.0  0.0  0.0  3.333333  2000.0\n",
      "x4  0.0  1.0  0.0  1.0  1.0  0.0  0.000000   400.0\n",
      "x5  0.0  0.0  0.0  2.0  0.0  1.0 -1.333333   400.0\n",
      "x2  0.0  1.0  1.0  0.0  0.0  0.0  0.333333   200.0\n",
      "\n",
      "Iteração: 2\n",
      "Linha do pivô: 2, Coluna do pivô: 3, Elemento pivô: 2.0\n",
      "\n",
      "Tableu Simplex:\n",
      "      z   x1   x2   x3   x4   x5        x6      LD\n",
      "z   1.0  2.0  0.0  0.0  0.0  3.0 -0.666667  3200.0\n",
      "x4  0.0  1.0  0.0  0.0  1.0 -0.5  0.666667   200.0\n",
      "x3  0.0  0.0  0.0  1.0  0.0  0.5 -0.666667   200.0\n",
      "x2  0.0  1.0  1.0  0.0  0.0  0.0  0.333333   200.0\n",
      "\n",
      "Iteração: 3\n",
      "Linha do pivô: 1, Coluna do pivô: 6, Elemento pivô: 0.6666666666666666\n",
      "\n",
      "Tableu Simplex:\n",
      "      z   x1   x2   x3   x4    x5   x6      LD\n",
      "z   1.0  3.0  0.0  0.0  1.0  2.50  0.0  3400.0\n",
      "x6  0.0  1.5  0.0  0.0  1.5 -0.75  1.0   300.0\n",
      "x3  0.0  1.0  0.0  1.0  1.0  0.00  0.0   400.0\n",
      "x2  0.0  0.5  1.0  0.0 -0.5  0.25  0.0   100.0\n",
      "\n",
      "Nenhum dos coeficientes da linha z associados com as variáveis não básicas é negativo assim essa tabela é ótima!\n"
     ]
    }
   ],
   "source": [
    "T = np.array([\n",
    "    [1,-8,-10,-6,0,0,0,0],\n",
    "    [0,1,0,1,1,0,0,400],\n",
    "    [0,4,4,2,0,1,0,1200],\n",
    "    [0,3,3,0,0,0,1,600]\n",
    "], dtype=float)\n",
    "\n",
    "rotulos = ['z', 'x1', 'x2', 'x3', 'x4', 'x5', 'x6', 'LD' ]\n",
    "base = ['z', 'x4', 'x5', 'x6']\n",
    "\n",
    "Simplex(T, rotulos, base);"
   ]
  },
  {
   "cell_type": "markdown",
   "id": "5e9d881e",
   "metadata": {},
   "source": [
    "## Exercício 6\n",
    "\n",
    "Resolva o seguinte problema pelo método das duas fases\n",
    "\n",
    "**Minimizar**\n",
    "\n",
    "$\\Large Z = 4x_1 + 2x_2$\n",
    "\n",
    "**Sujeito a:**\n",
    "\n",
    "$\\Large 4x_1 + 3x_2 \\geq 6$\n",
    "\n",
    "$\\Large 6x_1 + 2x_2 = 6$\n",
    "\n",
    "$\\Large 2x_1 + 4x_2 \\leq 6$\n",
    "\n",
    "$\\Large x_1,x_2 \\geq 0$"
   ]
  },
  {
   "cell_type": "markdown",
   "id": "b64f3274",
   "metadata": {},
   "source": [
    "Minimize $r = R_1 + R_2$\n",
    "\n",
    "$4x_1 + 3x_2 - x_3 + R_1 = 6$\n",
    "\n",
    "$6x_1 + 2x_2 + R_2 = 6$\n",
    "\n",
    "$2x_1 + 4x_2 + x_4 = 6$\n",
    "\n",
    "$x_1,x_2,x_3,x_4,R_1,R_2 \\geq 0$"
   ]
  },
  {
   "cell_type": "markdown",
   "id": "f73abad5",
   "metadata": {},
   "source": [
    "**1° fase:**"
   ]
  },
  {
   "attachments": {
    "WhatsApp%20Image%202022-05-03%20at%2020.17.27.jpeg": {
     "image/jpeg": "[encoded data removed]"
    }
   },
   "cell_type": "markdown",
   "id": "3c445af7",
   "metadata": {},
   "source": [
    "![WhatsApp%20Image%202022-05-03%20at%2020.17.27.jpeg](attachment:WhatsApp%20Image%202022-05-03%20at%2020.17.27.jpeg)"
   ]
  },
  {
   "attachments": {
    "WhatsApp%20Image%202022-05-03%20at%2020.17.27%20%281%29.jpeg": {
     "image/jpeg": "[encoded data removed]"
    }
   },
   "cell_type": "markdown",
   "id": "85428ff7",
   "metadata": {},
   "source": [
    "![WhatsApp%20Image%202022-05-03%20at%2020.17.27%20%281%29.jpeg](attachment:WhatsApp%20Image%202022-05-03%20at%2020.17.27%20%281%29.jpeg)"
   ]
  },
  {
   "attachments": {
    "WhatsApp%20Image%202022-05-03%20at%2020.17.27%20%282%29.jpeg": {
     "image/jpeg": "[encoded data removed]"
    }
   },
   "cell_type": "markdown",
   "id": "cbc6eb2b",
   "metadata": {},
   "source": [
    "![WhatsApp%20Image%202022-05-03%20at%2020.17.27%20%282%29.jpeg](attachment:WhatsApp%20Image%202022-05-03%20at%2020.17.27%20%282%29.jpeg)"
   ]
  },
  {
   "cell_type": "markdown",
   "id": "023fd4e4",
   "metadata": {},
   "source": [
    "Variáveis fora da base: $sx6=0,Rx4=0,Rx5=0$"
   ]
  },
  {
   "cell_type": "markdown",
   "id": "c77ea2ce",
   "metadata": {},
   "source": [
    "**2° fase:**"
   ]
  },
  {
   "attachments": {
    "WhatsApp%20Image%202022-05-03%20at%2020.17.27%20%283%29.jpeg": {
     "image/jpeg": "[encoded data removed]"
    }
   },
   "cell_type": "markdown",
   "id": "b78ca709",
   "metadata": {},
   "source": [
    "![WhatsApp%20Image%202022-05-03%20at%2020.17.27%20%283%29.jpeg](attachment:WhatsApp%20Image%202022-05-03%20at%2020.17.27%20%283%29.jpeg)"
   ]
  },
  {
   "cell_type": "markdown",
   "id": "62223345",
   "metadata": {},
   "source": [
    "Variáveis fora da base: $s𝑥6=0$\n",
    "\n",
    "Variáveis na base: $ 𝑥1=3/5 \\ (0,6)\\ ,𝑥2=6/5 \\ (1,2)\\ , S𝑥3=0 \\ e \\ 𝑍=24/5 \\ (4,80)$"
   ]
  },
  {
   "cell_type": "markdown",
   "id": "50b83e0d",
   "metadata": {},
   "source": [
    "## Exercício 7\n",
    "\n",
    "Encontre o problema dual\n",
    "\n",
    "Minimizar\n",
    "\n",
    "$\\Large Z = 10x_1 + 6x_2 - 2y_3$\n",
    "\n",
    "Sujeito a:\n",
    "\n",
    "$\\Large2x_1 + 2x_2 + 2x_3 = 10$\n",
    "\n",
    "$\\Large-2x_1 - x_2 - 3y_3 \\geq -10$\n",
    "\n",
    "$\\Large 2x_1 - 4x_2 + 2x_3 \\geq 4$\n",
    "\n",
    "$\\Large x_1,x_2,x_3 \\geq 0$"
   ]
  },
  {
   "cell_type": "markdown",
   "id": "71ec2dd3",
   "metadata": {},
   "source": [
    "O problema de minimização de programação linear corresponde um problema de maximização no Problema Dual."
   ]
  },
  {
   "cell_type": "markdown",
   "id": "1d9100c4",
   "metadata": {},
   "source": [
    "Transformando os termos constantes das restrições do Primal nos coeficientes da função-objetivo do Dual."
   ]
  },
  {
   "cell_type": "markdown",
   "id": "498becb6",
   "metadata": {},
   "source": [
    "$\\Large D = 10y_1 − 10𝑦_2 + 4𝑦_3$\n"
   ]
  },
  {
   "cell_type": "markdown",
   "id": "82fd3808",
   "metadata": {},
   "source": [
    "Invertendo a matriz dos coeficientes do Primal para as novas restrições do Dual"
   ]
  },
  {
   "cell_type": "markdown",
   "id": "b603a556",
   "metadata": {},
   "source": [
    "<center><b>Primal → Dual</b></center>\n",
    "\n",
    "$$\\Large\\begin{bmatrix} 2 & 2 & 2 \\\\ -2 & -1 & -3 \\\\ 2 & -4 & 2 \\end{bmatrix} \\rightarrow \\begin{bmatrix} 2 & -2 & 2 \\\\ 2 & -1 & -4 \\\\ 2 & -3 & -2 \\end{bmatrix}$$"
   ]
  },
  {
   "cell_type": "markdown",
   "id": "9a612c91",
   "metadata": {},
   "source": [
    "Transformando os coeficientes da função-objetivo do Dual nos termos constantes das restrições do Primal."
   ]
  },
  {
   "cell_type": "markdown",
   "id": "8820ccf5",
   "metadata": {},
   "source": [
    "Logo temos o problema Dual:\n",
    "\n",
    "**Maximizar:**\n",
    "\n",
    "$ \\Large D = 10y_1 − 10𝑦_2 + 4𝑦_3$\n",
    "\n",
    "**Sujeito a:**\n",
    "\n",
    "$ \\Large 2y_1 − 2y_2 + 2y_3 \\leq 10 $\n",
    "\n",
    "$ \\Large 2y_1 − y_2 - 4y_3 \\leq 6 $\n",
    "\n",
    "$ \\Large 2y_1 − 3y_2 + 2y_3 \\leq -2 $\n",
    "\n",
    "$ \\Large y_2, y_3 \\geq 0$"
   ]
  },
  {
   "cell_type": "markdown",
   "id": "9057ce32",
   "metadata": {},
   "source": [
    "## Exercício 8\n",
    "\n",
    "**Variáveis**\n",
    "\n",
    "$x_1 =$  **qtd(Kg)** de **carne** de porco na salsicha **econômica**\n",
    "\n",
    "$x_2 =$ **qtd(Kg)** de **carne** de porco na salsicha **premium**\n",
    "\n",
    "$x_3 =$ **qtd(Kg)** de **farinha** de trigo na salsicha **econômica**\n",
    "\n",
    "$x_4 =$  **qtd(Kg)** de **farinha** de trigo na salsicha **premium**\n",
    "\n",
    "$x_5 =$  **qtd(Kg)** de **amido** na salsicha **econômica**\n",
    "\n",
    "$x_6 =$  **qtd(Kg)** de **amido** na salsicha **premium**\n",
    "\n",
    "**Minimizar**: Custo total\n",
    "\n",
    "**Restrições**\n",
    "\n",
    "Composição ≥40% de carne de porco na salsicha econômica\n",
    "\n",
    "$\\Large\\frac{x_1 \\times 1000}{50 \\times 350}\\geq 0.4$\n",
    "\n",
    "Composição ≥60% de carne de porco na salsicha premium\n",
    "\n",
    "$\\Large\\frac{x_2 \\times 1000}{50 \\times 500}\\geq 0.6$\n",
    "\n",
    "Composição ≤25% de amido em cada uma das salsichas\n",
    "\n",
    "$\\Large\\frac{x_5 \\times 1000}{50 \\times 350} \\leq 0.25$\n",
    "\n",
    "$\\Large\\frac{x_6 \\times 1000}{50 \\times 500} \\leq 0.25$\n",
    "\n",
    "Usar totalmente os 23 Kg de carne de porco já comprados\n",
    "\n",
    "$\\Large x_1 + x_2 \\geq 23$\n",
    "\n",
    "Disponibilidade de carne de porco\n",
    "\n",
    "$\\Large x_1 + x_2 \\leq 30$\n",
    "\n",
    "Disponibilidade de Farinha de trigo\n",
    "\n",
    "$\\Large x_3 + x_4 \\leq 20$\n",
    "\n",
    "Disponibilidade de Amido\n",
    "\n",
    "$\\Large x_5 + x_6 \\leq 17$\n",
    "\n",
    "A mistura dos ingredientes precisa resultar em salsichas de 50g\n",
    "\n",
    "$\\Large x_1 + x_3 + x_5 = \\frac{350 \\times 50}{1000}$\n",
    "\n",
    "$\\Large x_2 + x_4 + x_6 = \\frac{500 \\times 50}{1000}$\n",
    "\n",
    "A quantidade de cada ingrediente não pode ser negativa\n",
    "\n",
    "$\\Large x_1,\\,x_2,\\,x_3,\\,x_4,\\,x_5,\\,x_6 \\geq 0$\n",
    "\n",
    "**Função Objetivo**\n",
    "\n",
    "$\\Large C_1 = (29.03 \\times x_1 + 16.53 \\times x_3 + 12.50 \\times x_5)$\n",
    "\n",
    "$\\Large C_2 = (29.03 \\times x_2 + 16.53 \\times x_4 + 12.50 \\times x_6)$\n",
    "\n",
    "$\\Large C_\\text{total} = C_1 + C_2$\n",
    "\n",
    "**Resposta:**\n",
    "\n",
    "$\\Large x_1 = 8,\\,x_2 = 15$\n",
    "\n",
    "$\\Large x_3=5.125,\\,x_4=3.75$\n",
    "\n",
    "$\\Large x_5=4.375, \\,x_6=6.25$\n",
    "\n",
    "$\\Large C_\\text{total}=947.21$"
   ]
  },
  {
   "cell_type": "code",
   "execution_count": 102,
   "id": "08409144",
   "metadata": {},
   "outputs": [],
   "source": [
    "# Criando modelo\n",
    "model = pl.LpProblem('Ex8', pl.LpMinimize)\n",
    "\n",
    "# Criando variáveis\n",
    "x1 = pl.LpVariable('x1', lowBound=0, cat='Continuous')\n",
    "x2 = pl.LpVariable('x2', lowBound=0, cat='Continuous')\n",
    "x3 = pl.LpVariable('x3', lowBound=0, cat='Continuous')\n",
    "x4 = pl.LpVariable('x4', lowBound=0, cat='Continuous')\n",
    "x5 = pl.LpVariable('x5', lowBound=0, cat='Continuous')\n",
    "x6 = pl.LpVariable('x6', lowBound=0, cat='Continuous')"
   ]
  },
  {
   "cell_type": "code",
   "execution_count": 103,
   "id": "a74d88f6",
   "metadata": {},
   "outputs": [],
   "source": [
    "# Adicionando restrições\n",
    "model += (x1*1000)/(50*350) >= 0.4\n",
    "model += (x2*1000)/(50*500) >= 0.6\n",
    "model += (x5*1000)/(50*350) <= 0.25\n",
    "model += (x6*1000)/(50*500) <= 0.25\n",
    "model += x1 + x2 >= 23\n",
    "model += x1 + x2 <= 30\n",
    "model += x3 + x4 <= 20\n",
    "model += x5 + x6 <= 17\n",
    "model += x1 + x3 + x5 == (350*50)/1000\n",
    "model += x2 + x4 + x6 == 500*50 /1000"
   ]
  },
  {
   "cell_type": "code",
   "execution_count": 104,
   "id": "7a940e71",
   "metadata": {},
   "outputs": [],
   "source": [
    "# Adicionando função objetivo\n",
    "model += ((29.03*x1+16.53*x3+12.50*x5)) + ((29.03*x2+16.53*x4+12.5*x6))"
   ]
  },
  {
   "cell_type": "code",
   "execution_count": 105,
   "id": "3eefdab1",
   "metadata": {},
   "outputs": [
    {
     "data": {
      "text/plain": [
       "1"
      ]
     },
     "execution_count": 105,
     "metadata": {},
     "output_type": "execute_result"
    }
   ],
   "source": [
    "# Encontrando solução\n",
    "model.solve()"
   ]
  },
  {
   "cell_type": "code",
   "execution_count": 106,
   "id": "7456fe34",
   "metadata": {},
   "outputs": [
    {
     "data": {
      "text/plain": [
       "947.20625"
      ]
     },
     "execution_count": 106,
     "metadata": {},
     "output_type": "execute_result"
    }
   ],
   "source": [
    "model.objective.value()"
   ]
  },
  {
   "cell_type": "code",
   "execution_count": 107,
   "id": "933aee30",
   "metadata": {},
   "outputs": [
    {
     "name": "stdout",
     "output_type": "stream",
     "text": [
      "x1 = 8.0\n",
      "x2 = 15.0\n",
      "x3 = 5.125\n",
      "x4 = 3.75\n",
      "x5 = 4.375\n",
      "x6 = 6.25\n"
     ]
    }
   ],
   "source": [
    "for v in model.variables():\n",
    "    print(f'{v.name} = {v.varValue}')"
   ]
  },
  {
   "cell_type": "code",
   "execution_count": 110,
   "id": "6df0cb82",
   "metadata": {},
   "outputs": [],
   "source": [
    "# Primeira tentativa esqueci de colocar as restrições de disponibilidade dos ingredientes\n",
    "# Na segunda tentativa esqueci de colocar as restrições do peso das salsichas\n",
    "# Na terceira tentativa coloquei unidades de medidas incompatíveis nas restrições do peso das salsichas\n",
    "# Na quarta tentativa percebi que minha fórmula da função objetivo estava errada\n",
    "# Na quinta tentativa percebi que novamente minha fórmula da função objetivo estava errada"
   ]
  },
  {
   "cell_type": "markdown",
   "id": "bfb661de",
   "metadata": {},
   "source": [
    "## Exercício 9\n",
    "**Maximizar**: Lucro\n",
    "\n",
    "**Variáveis**\n",
    "\n",
    "$x_1 =$  **área**(Km²) de **Trigo** utilizada na produção\n",
    "\n",
    "$x_2 =$  **área**(Km²) de **Arroz** utilizada na produção\n",
    "\n",
    "$x_3 =$  **área**(Km²) de **Milho** utilizada na produção\n",
    "\n",
    "**Restrições**\n",
    "\n",
    "A área utilizada para produção não pode ser maior que a área disponível na fazenda\n",
    "\n",
    "$\\Large x_1 + x_2 + x_3 \\leq 200$\n",
    "\n",
    "O total produzido não pode ser maior que a capacidade de armazenagem\n",
    "\n",
    "$\\Large 1800x_1 + 2100x_2 + 2900x_3 \\leq 700,000$\n",
    "\n",
    "A área utilizada para a produção não pode ser negativa para nenhum dos produtos\n",
    "\n",
    "$\\Large x_1,\\,x_2,\\,x_3 \\geq 0$\n",
    "\n",
    "**Função Objetiva**\n",
    "\n",
    "$\\Large L = 1.2 \\times 1800x_1 + 0.6 \\times 2100x_2 + 0.28 \\times 2900x_3$\n",
    "\n",
    "**Resposta**\n",
    "\n",
    "$\\Large x_1= 200,\\;x_2=0,\\;x_3=0$\n",
    "\n",
    "$\\Large L=432,000.00$"
   ]
  },
  {
   "cell_type": "code",
   "execution_count": 127,
   "id": "9e961243",
   "metadata": {},
   "outputs": [],
   "source": [
    "# Criando modelo\n",
    "model = pl.LpProblem('Ex9', pl.LpMaximize)\n",
    "\n",
    "# Criando variáveis\n",
    "x1 = pl.LpVariable('x1', lowBound=0, cat='Continuous')\n",
    "x2 = pl.LpVariable('x2', lowBound=0, cat='Continuous')\n",
    "x3 = pl.LpVariable('x3', lowBound=0, cat='Continuous')"
   ]
  },
  {
   "cell_type": "code",
   "execution_count": 128,
   "id": "dcd668e9",
   "metadata": {},
   "outputs": [],
   "source": [
    "# Adicionando restrições\n",
    "model += x1 + x2 + x3 <= 200\n",
    "model += 1800*x1 + 2100*x2 + 2900*x3 <= 700000"
   ]
  },
  {
   "cell_type": "code",
   "execution_count": 129,
   "id": "ee3c931b",
   "metadata": {},
   "outputs": [],
   "source": [
    "# Adicionando função objetiva\n",
    "model += 1.2 * 1800*x1 + 0.6 * 2100 * x2 + 0.28 * 2900*x3"
   ]
  },
  {
   "cell_type": "code",
   "execution_count": 130,
   "id": "4070ad23",
   "metadata": {},
   "outputs": [
    {
     "data": {
      "text/plain": [
       "1"
      ]
     },
     "execution_count": 130,
     "metadata": {},
     "output_type": "execute_result"
    }
   ],
   "source": [
    "# Encontrando solução\n",
    "model.solve()"
   ]
  },
  {
   "cell_type": "code",
   "execution_count": 131,
   "id": "c2e5527d",
   "metadata": {},
   "outputs": [
    {
     "data": {
      "text/plain": [
       "432000.0"
      ]
     },
     "execution_count": 131,
     "metadata": {},
     "output_type": "execute_result"
    }
   ],
   "source": [
    "model.objective.value()"
   ]
  },
  {
   "cell_type": "code",
   "execution_count": 132,
   "id": "d8a340e4",
   "metadata": {},
   "outputs": [
    {
     "name": "stdout",
     "output_type": "stream",
     "text": [
      "x1 = 200.0\n",
      "x2 = 0.0\n",
      "x3 = 0.0\n"
     ]
    }
   ],
   "source": [
    "for v in model.variables():\n",
    "    print(f'{v.name} = {v.varValue}')"
   ]
  },
  {
   "cell_type": "markdown",
   "id": "d92687bd",
   "metadata": {},
   "source": [
    "## Exercício 10\n",
    "\n",
    "**Maximizar**: Lucro\n",
    "\n",
    "$x_1 =$ quantidade(t) de fertilizante do tipo A\n",
    "\n",
    "$x_2 =$ quantidade(t) de fertilizante do tipo B\n",
    "\n",
    "$x_3 =$ quantidade(t) de fertilizante do tipo C\n",
    "\n",
    "### Restrições\n",
    "\n",
    "Produção Mínima fertilizante tipo A para atender contrato\n",
    "\n",
    "$\\Large x_1 \\geq 6500$\n",
    "\n",
    "Disponibilidade de Nitrato\n",
    "\n",
    "$\\Large 0.05x_1 + 0.05x_2 + 0.1x_3 \\leq 1200$\n",
    "\n",
    "Disponibilidade de Fosfato\n",
    "\n",
    "$\\Large 0.1x_1 + 0.1x_2 + 0.1x_3 \\leq 2000$\n",
    "\n",
    "Disponibilidade de Potássio\n",
    "\n",
    "$\\Large 0.05x_1 + 0.1x_2 + 0.1x_3 \\leq 1400$\n",
    "\n",
    "A quantidade produzida não pode ser negativa\n",
    "\n",
    "$\\Large x_1,\\;x_2,\\;x_3 \\geq 0$\n",
    "\n",
    "### **Função Objetivo**\n",
    "\n",
    "$\\large L_1 = 800 \\times x_1 - (0.05x_1 \\times 3000+0.1x_1 \\times 1000 + 0.05x_1 \\times 1800 + 0.8x_1 \\times 200 + 300x_1)$\n",
    "\n",
    "$\\large L_2 = 960 \\times x_2 - (0.05x_2 \\times 3000 + 0.1x_2 \\times 1000 + 0.1x_2 \\times 1800 + 0.75x_2 \\times 200 + 300x_2)$\n",
    "\n",
    "$\\large L_3 = 1100 \\times x_3 - (0.1x_3 \\times 3000 + 0.1x_3 \\times 1000 + 0.1x_3 \\times 1800 + 0.7x_3 \\times 200 + 300x_3)$\n",
    "\n",
    "$\\Large L_\\text{total}=L_1+L_2+L_3$"
   ]
  },
  {
   "cell_type": "code",
   "execution_count": 2,
   "id": "b8a19488",
   "metadata": {},
   "outputs": [],
   "source": [
    "# Criando modelo\n",
    "model = pl.LpProblem('Ex10', pl.LpMaximize)\n",
    "\n",
    "# Criando variáveis\n",
    "x1 = pl.LpVariable('x1', lowBound=0, cat='Continous')\n",
    "x2 = pl.LpVariable('x2', lowBound=0, cat='Continous')\n",
    "x3 = pl.LpVariable('x3', lowBound=0, cat='Continous')"
   ]
  },
  {
   "cell_type": "code",
   "execution_count": 3,
   "id": "26c96555",
   "metadata": {},
   "outputs": [],
   "source": [
    "# Adicionando restrições\n",
    "model += x1 >= 6500\n",
    "model += 0.05*x1 + 0.05*x2 + 0.1*x3 <= 1200\n",
    "model += 0.1*x1 + 0.1*x2 + 0.1*x3 <= 2000\n",
    "model += 0.05*x1 + 0.1*x2 + 0.1*x3 <= 1400"
   ]
  },
  {
   "cell_type": "code",
   "execution_count": 4,
   "id": "1cc9981b",
   "metadata": {},
   "outputs": [],
   "source": [
    "# Adicionando função objetivo\n",
    "L1 = 800 * x1 - (0.05*x1*3000 + 0.1*x1*1000 + 0.05*x1*1800 + 0.8*x1*200 + 300*x1)\n",
    "L2 = 960 * x2 - (0.05*x2*3000 + 0.1*x2*1000 + 0.1*x2*1800 + 0.75*x2*200 + 300*x2)\n",
    "L3 = 1100 * x3 - (0.1*x3*3000 + 0.1*x3*1000 + 0.1*x3*1800 + 0.7*x3*200 + 300*x3)\n",
    "model += L1 + L2 + L3"
   ]
  },
  {
   "cell_type": "code",
   "execution_count": 5,
   "id": "c267a727",
   "metadata": {},
   "outputs": [
    {
     "data": {
      "text/plain": [
       "0.0*x1 + 80.0*x2 + 80.0*x3 + 0.0"
      ]
     },
     "execution_count": 5,
     "metadata": {},
     "output_type": "execute_result"
    }
   ],
   "source": [
    "model.objective"
   ]
  },
  {
   "cell_type": "code",
   "execution_count": 204,
   "id": "bf3d6fca",
   "metadata": {},
   "outputs": [
    {
     "data": {
      "text/plain": [
       "1"
      ]
     },
     "execution_count": 204,
     "metadata": {},
     "output_type": "execute_result"
    }
   ],
   "source": [
    "# Encontrando solução\n",
    "model.solve()"
   ]
  },
  {
   "cell_type": "code",
   "execution_count": 205,
   "id": "22ebfef5",
   "metadata": {},
   "outputs": [
    {
     "data": {
      "text/plain": [
       "860000.0"
      ]
     },
     "execution_count": 205,
     "metadata": {},
     "output_type": "execute_result"
    }
   ],
   "source": [
    "# Encontrando lucro máximo\n",
    "model.objective.value()"
   ]
  },
  {
   "cell_type": "code",
   "execution_count": 206,
   "id": "22370fb5",
   "metadata": {},
   "outputs": [
    {
     "name": "stdout",
     "output_type": "stream",
     "text": [
      "x1 = 6500.0\n",
      "x2 = 4000.0\n",
      "x3 = 6750.0\n"
     ]
    }
   ],
   "source": [
    "for v in model.variables():\n",
    "    print(f'{v.name} = {v.varValue}')"
   ]
  },
  {
   "cell_type": "markdown",
   "id": "471af5a4",
   "metadata": {},
   "source": [
    "## Exercício 11\n",
    "\n",
    "**Minimizar:** Custo\n",
    "\n",
    "### Variáveis\n",
    "\n",
    "$x_1 =$  **quantidade** de produtos **A** de produção **própria**\n",
    "\n",
    "$x_2 =$  **quantidade** de produtos **B** de produção **própria**\n",
    "\n",
    "$x_3 =$  **quantidade** de produtos **A** de produção **privatizada**\n",
    "\n",
    "$x_4 =$  **quantidade** de produtos **B** de produção **privatizada**\n",
    "\n",
    "### Restrições\n",
    "\n",
    "A fábrica já se comprometeu a entregar 30000 produtos do tipo A\n",
    "\n",
    "$\\Large x_1 + x_3 \\geq 30,000$\n",
    "\n",
    "A fábrica já se comprometeu a entregar 15000 produtos do tipo B\n",
    "\n",
    "$\\Large x_2 + x_4 \\geq 15,000$\n",
    "\n",
    "Limite de horas na produção\n",
    "\n",
    "$\\Large 0.2x_1 + 0.4x_2 \\leq 10,000$\n",
    "\n",
    "Limite de horas na montagem\n",
    "\n",
    "$\\Large 0.3x_1 + 0.5x_2 \\leq 15,000$\n",
    "\n",
    "Limite de horas no teste de qualidade\n",
    "\n",
    "$\\Large 0.1x_1 + 0.1x_2 \\leq 5,000$\n",
    "\n",
    "A quantidade produzida de cada produto não pode ser negativa\n",
    "\n",
    "$\\Large x_1,\\;x_2,\\;x_3,\\;x_4 \\geq 0$\n",
    "\n",
    "### Função objetivo\n",
    "\n",
    "$\\Large C = 55x_1 + 67x_2 + 85x_3 + 95x_4$"
   ]
  },
  {
   "cell_type": "code",
   "execution_count": 227,
   "id": "c1cae246",
   "metadata": {},
   "outputs": [],
   "source": [
    "# Criando modelo\n",
    "model = pl.LpProblem('Ex11', pl.LpMinimize)\n",
    "\n",
    "# Criando variáveis\n",
    "x1 = pl.LpVariable('x1', lowBound=0, cat='Integer')\n",
    "x2 = pl.LpVariable('x2', lowBound=0, cat='Integer')\n",
    "x3 = pl.LpVariable('x3', lowBound=0, cat='Integer')\n",
    "x4 = pl.LpVariable('x4', lowBound=0, cat='Integer')"
   ]
  },
  {
   "cell_type": "code",
   "execution_count": 228,
   "id": "1625c139",
   "metadata": {},
   "outputs": [],
   "source": [
    "# Adicionando restrições ao modelo\n",
    "model += x1 + x3 >= 30000\n",
    "model += x2 + x4 >= 15000\n",
    "model += 0.2*x1 + 0.4*x2 <= 10000\n",
    "model += 0.3*x1 + 0.5*x2 <= 15000\n",
    "model += 0.1*x1 + 0.1*x2 <= 5000"
   ]
  },
  {
   "cell_type": "code",
   "execution_count": 229,
   "id": "de23dd18",
   "metadata": {},
   "outputs": [],
   "source": [
    "# Adicionando função objetivo ao modelo\n",
    "model += 55*x1 + 67*x2 + 85*x3 + 95*x4"
   ]
  },
  {
   "cell_type": "code",
   "execution_count": 230,
   "id": "5a66472b",
   "metadata": {},
   "outputs": [
    {
     "data": {
      "text/plain": [
       "1"
      ]
     },
     "execution_count": 230,
     "metadata": {},
     "output_type": "execute_result"
    }
   ],
   "source": [
    "# Encontrando solução\n",
    "model.solve()"
   ]
  },
  {
   "cell_type": "code",
   "execution_count": 231,
   "id": "ad40b7e7",
   "metadata": {},
   "outputs": [
    {
     "data": {
      "text/plain": [
       "2795000.0"
      ]
     },
     "execution_count": 231,
     "metadata": {},
     "output_type": "execute_result"
    }
   ],
   "source": [
    "# Encontrando custo mínimo\n",
    "model.objective.value()"
   ]
  },
  {
   "cell_type": "code",
   "execution_count": 232,
   "id": "28dd809a",
   "metadata": {},
   "outputs": [
    {
     "name": "stdout",
     "output_type": "stream",
     "text": [
      "x1 = 30000.0\n",
      "x2 = 10000.0\n",
      "x3 = 0.0\n",
      "x4 = 5000.0\n"
     ]
    }
   ],
   "source": [
    "for v in model.variables():\n",
    "    print(f'{v.name} = {v.varValue}')"
   ]
  },
  {
   "cell_type": "markdown",
   "id": "a37dc0d5",
   "metadata": {},
   "source": [
    "## Exercício 12\n",
    "\n",
    "**Maximizar**: Lucro\n",
    "\n",
    "### Variáveis\n",
    "\n",
    "$x_1 =$ quantidade(Kg) de queijo\n",
    "\n",
    "$x_2 =$ quantidade(Kg) de doce\n",
    "\n",
    "$x_3 =$ quantidade(Kg) de ricota\n",
    "\n",
    "### Restrições\n",
    "\n",
    "A mão-de-obra demandada não pode ultrapassar a disponível\n",
    "\n",
    "$\\Large \\frac{3x_1}{60} + \\frac{2x_2}{60} + \\frac{x_3}{60} \\leq 12 \\times 8$\n",
    "\n",
    "O total de leite utilizado não pode ultrapassar o total disponível\n",
    "\n",
    "$\\Large 10x_1 + 6x_2 <= 8,000$\n",
    "\n",
    "A quantidade de doce por dia não deve ultrapassar 200 kg\n",
    "\n",
    "$\\Large x_2 <= 200$\n",
    "\n",
    "A quantidade de queijo deve ser no mínimo igual a 3 vezes a quantidade de doce\n",
    "\n",
    "$\\Large x_1 \\geq 3x_2$\n",
    "\n",
    "A quantidade de ricota produzida depende da quantidade de queijo produzida, já que essa é um subproduto deste\n",
    "\n",
    "$\\Large x_3 \\leq \\frac{x_1}{3}$\n",
    "\n",
    "A quantidade produzida de cada um dos produtos não pode ser negativa\n",
    "\n",
    "$\\Large x_1,\\;x_2,\\;x_3 \\geq 0$\n",
    "\n",
    "### Função objetivo\n",
    "\n",
    "$\\Large L = 1.5x_1 +2x_2 + 1.2x_3$\n",
    "\n",
    "**Resposta**\n",
    "\n",
    "$x_1 = 680,\\;x_2=200,\\;x_3=226.66$\n",
    "\n",
    "$L = 1692$"
   ]
  },
  {
   "cell_type": "code",
   "execution_count": 246,
   "id": "52d834ab",
   "metadata": {},
   "outputs": [],
   "source": [
    "# Criando modelo\n",
    "model = pl.LpProblem('Ex12', pl.LpMaximize)\n",
    "\n",
    "# Criando variáveis\n",
    "x1 = pl.LpVariable('x1', lowBound=0, cat='Continuous')\n",
    "x2 = pl.LpVariable('x2', lowBound=0, upBound=200, cat='Continuous')\n",
    "x3 = pl.LpVariable('x3', lowBound=0, cat='Continuous')"
   ]
  },
  {
   "cell_type": "code",
   "execution_count": 247,
   "id": "17a8ff62",
   "metadata": {},
   "outputs": [],
   "source": [
    "# Adicionando restrições\n",
    "model += (3*x1) + (2*x2) + x3 <= 12*8*60\n",
    "model += 10*x1 + 6*x2 <= 8000\n",
    "model += x1 >= 3*x2\n",
    "model += 3*x3 <= x1"
   ]
  },
  {
   "cell_type": "code",
   "execution_count": 248,
   "id": "dbcabdc1",
   "metadata": {},
   "outputs": [],
   "source": [
    "# Adicionando função objetivo\n",
    "model += 1.5*x1 + 2*x2 + 1.2*x3"
   ]
  },
  {
   "cell_type": "code",
   "execution_count": 249,
   "id": "7ea76be2",
   "metadata": {},
   "outputs": [
    {
     "data": {
      "text/plain": [
       "1"
      ]
     },
     "execution_count": 249,
     "metadata": {},
     "output_type": "execute_result"
    }
   ],
   "source": [
    "# Encontrando solução\n",
    "model.solve()"
   ]
  },
  {
   "cell_type": "code",
   "execution_count": 250,
   "id": "3ddf843f",
   "metadata": {},
   "outputs": [
    {
     "data": {
      "text/plain": [
       "1692.000004"
      ]
     },
     "execution_count": 250,
     "metadata": {},
     "output_type": "execute_result"
    }
   ],
   "source": [
    "# Encontrando lucro máximo\n",
    "model.objective.value()"
   ]
  },
  {
   "cell_type": "code",
   "execution_count": 251,
   "id": "43254dd4",
   "metadata": {},
   "outputs": [
    {
     "name": "stdout",
     "output_type": "stream",
     "text": [
      "x1 = 680.0\n",
      "x2 = 200.0\n",
      "x3 = 226.66667\n"
     ]
    }
   ],
   "source": [
    "for v in model.variables():\n",
    "    print(f'{v.name} = {v.varValue}')"
   ]
  }
 ],
 "metadata": {
  "kernelspec": {
   "display_name": "Python 3 (ipykernel)",
   "language": "python",
   "name": "python3"
  },
  "language_info": {
   "codemirror_mode": {
    "name": "ipython",
    "version": 3
   },
   "file_extension": ".py",
   "mimetype": "text/x-python",
   "name": "python",
   "nbconvert_exporter": "python",
   "pygments_lexer": "ipython3",
   "version": "3.9.7"
  }
 },
 "nbformat": 4,
 "nbformat_minor": 5
}
