{
 "cells": [
  {
   "cell_type": "markdown",
   "id": "afaf168d",
   "metadata": {},
   "source": [
    "# Lista 2\n",
    "\n",
    "## Aluno: Lucas Lopes Amorim\n",
    "## Resolva os seguintes problemas usando o computador."
   ]
  },
  {
   "cell_type": "markdown",
   "id": "ab04b81d",
   "metadata": {},
   "source": [
    "### QUESTÃO 1\n",
    "Uma empresa de transporte italiana deve transportar alguns contêineres vazios de suas 6 \n",
    "lojas (em Verona, Perugia, Roma, Pescara, Taranto e Lamezia) para os principais portos \n",
    "nacionais (Gênova, Veneza, Ancona, Nápoles, Bari). Os estoques de contêineres nas lojas \n",
    "são os seguintes:\n",
    "\n",
    "| | Contêineres vazios|\n",
    "| -- | -- |\n",
    "| Verona | 10 |\n",
    "| Perugia | 12 |\n",
    "| Roma | 20 |\n",
    "| Pescara | 24 |\n",
    "| Taranto | 18 |\n",
    "| Lamezia | 40 |\n",
    "\n",
    "As demandas nos portos são as seguintes:\n",
    "\n",
    "| | Demanda de Contêineres |\n",
    "| -- | -- |\n",
    "| Gênova | 30 |\n",
    "| Veneza | 15 |\n",
    "| Ancona | 25 |\n",
    "| Nápoles | 33 |\n",
    "| Bari | 21 |\n",
    "\n",
    "O transporte é realizado por uma frota de caminhões. O custo de transporte de cada contêiner \n",
    "é proporcional à distância percorrida pelo caminhão, e equivale a 30 € /km. As distâncias são \n",
    "as seguintes:\n",
    "\n",
    "| | Gênova | Veneza | Ancona | Nápoles | Bari |\n",
    "| -- | -- | -- | -- | -- | -- |\n",
    "| **Verona** | 290 km | 115 km | 355 km | 715 km | 810 km |\n",
    "| **Perugia** | 380 km | 340 km | 165 km | 380 km | 610 km |\n",
    "| **Roma** | 505 km | 530 km | 285 km | 220 km | 450 km |\n",
    "| **Pescara** | 655 km | 450 km | 155 km | 240 km | 315 km |\n",
    "| **Taranto** | 1010 km | 840 km | 550 km | 305 km | 95 km |\n",
    "| **Lamezia** | 1072 km | 1097 km | 747 km | 372 km | 333 km |\n",
    "\n",
    "Formule o problema e encontre o menor custo total do transporte e a distribuição de \n",
    "contêineres de cada loja para cada porto."
   ]
  },
  {
   "cell_type": "markdown",
   "id": "ec08275c",
   "metadata": {},
   "source": [
    "**Resposta:**\n",
    "\n",
    "*Essa questão foi resolvida tanto no Python quanto no Excel*\n",
    "\n",
    "$C_{\\,i \\,\\times\\, j}$ = custo de transporte por contêiner da cidade $i$ para a cidade $j$\n",
    "\n",
    "$C_T$ = custo total de transporte\n",
    "\n",
    "$X_{\\,i \\,\\times\\, j}$ = quantidade de contêineres que vai da cidade $i$ para a cidade $j$\n",
    "\n",
    "$$\\large\n",
    "C_{6\\times5} = \\begin{bmatrix}\n",
    "    8700 &  3450 & 10650 & 21450 & 24300\\\\\n",
    "    11400 & 10200 &  4950 & 11400 & 18300\\\\\n",
    "    15150 & 15900 &  8550 &  6600 & 13500\\\\\n",
    "    19650 & 13500 &  4650 &  7200 &  9450\\\\\n",
    "    30300 & 25200 & 16500 &  9150 &  2850\\\\\n",
    "    32160 & 32910 & 22410 & 11160 &  9990\n",
    "\\end{bmatrix}\n",
    "$$\n",
    "\n",
    "\n",
    "$$\\large\n",
    "X_{6\\times5} = \\begin{bmatrix}\n",
    "    x_{1 \\times 1} & x_{1 \\times 2} & x_{1 \\times 3} & x_{1 \\times 4} & x_{1 \\times 5}\\\\\n",
    "    x_{2 \\times 1} & x_{2 \\times 2} & x_{2 \\times 3} & x_{2 \\times 4} & x_{2 \\times 5}\\\\\n",
    "    x_{3 \\times 1} & x_{3 \\times 2} & x_{3 \\times 3} & x_{3 \\times 4} & x_{3 \\times 5}\\\\\n",
    "    x_{4 \\times 1} & x_{4 \\times 2} & x_{4 \\times 3} & x_{4 \\times 4} & x_{4 \\times 5}\\\\\n",
    "    x_{5 \\times 1} & x_{5 \\times 2} & x_{5 \\times 3} & x_{5 \\times 4} & x_{5 \\times 5}\\\\\n",
    "    x_{6 \\times 1} & x_{6 \\times 2} & x_{6 \\times 3} & x_{6 \\times 4} & x_{6 \\times 5}\n",
    "\\end{bmatrix}\n",
    "$$\n",
    "\n",
    "**Função Objetivo:**\n",
    "\n",
    "$\\Large \\min C_T = \\sum C_{6\\times5} \\times X_{6\\times5}\n",
    "$\n",
    "\n",
    "**Restrições:**\n",
    "\n",
    "Não podem sair mais contêineres que disponíveis:\n",
    "\n",
    "*(cada elemento é uma restrição)*\n",
    "$$\\large\n",
    "I_{6\\times1} = \\begin{bmatrix}\n",
    "    \\displaystyle\\sum_{j=1}^j x_{1 \\times j}\\\\\n",
    "    \\displaystyle\\sum_{j=1}^j x_{2 \\times j}\\\\\n",
    "    \\displaystyle\\sum_{j=1}^j x_{3 \\times j}\\\\\n",
    "    \\displaystyle\\sum_{j=1}^j x_{4 \\times j}\\\\\n",
    "    \\displaystyle\\sum_{j=1}^j x_{5 \\times j}\\\\\n",
    "    \\displaystyle\\sum_{j=1}^j x_{6 \\times j} \n",
    "\\end{bmatrix}\n",
    "$$\n",
    "\n",
    "É preciso atender a demanda:\n",
    "\n",
    "*(cada elemento é uma restrição)*\n",
    "$$\\large\n",
    "D_{6\\times1} = \\begin{bmatrix}\n",
    "    \\displaystyle\\sum_{i=1}^i x_{i \\times 1}\\\\\n",
    "    \\displaystyle\\sum_{i=1}^i x_{i \\times 2}\\\\\n",
    "    \\displaystyle\\sum_{i=1}^i x_{i \\times 3}\\\\\n",
    "    \\displaystyle\\sum_{i=1}^i x_{i \\times 4}\\\\\n",
    "    \\displaystyle\\sum_{i=1}^i x_{i \\times 5}\\\\\n",
    "    \\displaystyle\\sum_{i=1}^i x_{i \\times 6}\n",
    "\\end{bmatrix}\n",
    "$$\n",
    "\n",
    "Não é possível fracionar contêineres:\n",
    "\n",
    "$$\n",
    "\\Large x_{i\\times j} \\in \\mathbb{Z}_+\n",
    "$$"
   ]
  },
  {
   "cell_type": "code",
   "execution_count": 4,
   "id": "60f94a80",
   "metadata": {},
   "outputs": [],
   "source": [
    "import pandas as pd\n",
    "import numpy as np\n",
    "import matplotlib.pyplot as plt\n",
    "from ortools.sat.python import cp_model"
   ]
  },
  {
   "cell_type": "code",
   "execution_count": 111,
   "id": "32827ae8",
   "metadata": {},
   "outputs": [],
   "source": [
    "distances = [\n",
    "    [290, 115, 355, 715, 810],\n",
    "    [380, 340, 165, 380, 610],\n",
    "    [505, 530, 285, 220, 450],\n",
    "    [655, 450, 155, 240, 315],\n",
    "    [1010, 840, 550, 305, 95],\n",
    "    [1072, 1097, 747, 372, 333]\n",
    "]\n",
    "\n",
    "transport_cost = np.array(distances)*30\n"
   ]
  },
  {
   "cell_type": "code",
   "execution_count": 112,
   "id": "59910afe",
   "metadata": {},
   "outputs": [
    {
     "data": {
      "text/plain": [
       "array([[ 8700,  3450, 10650, 21450, 24300],\n",
       "       [11400, 10200,  4950, 11400, 18300],\n",
       "       [15150, 15900,  8550,  6600, 13500],\n",
       "       [19650, 13500,  4650,  7200,  9450],\n",
       "       [30300, 25200, 16500,  9150,  2850],\n",
       "       [32160, 32910, 22410, 11160,  9990]])"
      ]
     },
     "execution_count": 112,
     "metadata": {},
     "output_type": "execute_result"
    }
   ],
   "source": [
    "transport_cost"
   ]
  },
  {
   "cell_type": "code",
   "execution_count": 125,
   "id": "0225fe07",
   "metadata": {},
   "outputs": [],
   "source": [
    "# Definindo modelo\n",
    "model = cp_model.CpModel()"
   ]
  },
  {
   "cell_type": "code",
   "execution_count": 126,
   "id": "9629c316",
   "metadata": {},
   "outputs": [],
   "source": [
    "# Número de contêineirs armazenados em cada uma das 6 cidades\n",
    "# As cidades que armazenam os contêineres são representadas\n",
    "# pelas linhas\n",
    "inventory = {\n",
    "    1: 10,\n",
    "    2: 12,\n",
    "    3: 20,\n",
    "    4: 24,\n",
    "    5: 18,\n",
    "    6: 40\n",
    "}"
   ]
  },
  {
   "cell_type": "code",
   "execution_count": 127,
   "id": "3dadb05d",
   "metadata": {},
   "outputs": [],
   "source": [
    "# Número de contêineirs demandados em cada uma das 6 cidades\n",
    "# As cidades que demandam os contêineres são representadas\n",
    "# pelas colunas\n",
    "demand = {\n",
    "    1: 30,\n",
    "    2: 15,\n",
    "    3: 25,\n",
    "    4: 33,\n",
    "    5: 21\n",
    "}"
   ]
  },
  {
   "cell_type": "code",
   "execution_count": 128,
   "id": "d2a6f95e",
   "metadata": {},
   "outputs": [
    {
     "data": {
      "text/plain": [
       "array([[x11(0..10), x12(0..10), x13(0..10), x14(0..10), x15(0..10)],\n",
       "       [x21(0..12), x22(0..12), x23(0..12), x24(0..12), x25(0..12)],\n",
       "       [x31(0..20), x32(0..20), x33(0..20), x34(0..20), x35(0..20)],\n",
       "       [x41(0..24), x42(0..24), x43(0..24), x44(0..24), x45(0..24)],\n",
       "       [x51(0..18), x52(0..18), x53(0..18), x54(0..18), x55(0..18)],\n",
       "       [x61(0..40), x62(0..40), x63(0..40), x64(0..40), x65(0..40)]],\n",
       "      dtype=object)"
      ]
     },
     "execution_count": 128,
     "metadata": {},
     "output_type": "execute_result"
    }
   ],
   "source": [
    "# Criando variáveis\n",
    "variables = np.array([[model.NewIntVar(0, inventory[i], f'x{i}{j}') for j in range(1, 6)] for i in range(1, 7)])\n",
    "variables"
   ]
  },
  {
   "cell_type": "code",
   "execution_count": 129,
   "id": "9e16a37c",
   "metadata": {},
   "outputs": [],
   "source": [
    "# Adicionando restrições\n",
    "# Todos os contêineres das cidades precisam ser deslocados\n",
    "for i in range(6):\n",
    "    model.Add(sum(variables[i]) == inventory[i+1])"
   ]
  },
  {
   "cell_type": "code",
   "execution_count": 130,
   "id": "98b1253b",
   "metadata": {},
   "outputs": [],
   "source": [
    "# Adicionando restrições\n",
    "# É preciso atender a demanda\n",
    "for j in range(5):\n",
    "    model.Add(sum([variables[i][j] for i in range(6)]) <= demand[j+1])"
   ]
  },
  {
   "cell_type": "code",
   "execution_count": 131,
   "id": "1bfd7fdf",
   "metadata": {},
   "outputs": [],
   "source": [
    "# Adicionando função objetivo\n",
    "model.Minimize((transport_cost * variables).sum())"
   ]
  },
  {
   "cell_type": "code",
   "execution_count": 132,
   "id": "ca4a3bb6",
   "metadata": {},
   "outputs": [
    {
     "data": {
      "text/plain": [
       "4"
      ]
     },
     "execution_count": 132,
     "metadata": {},
     "output_type": "execute_result"
    }
   ],
   "source": [
    "# Buscando solução\n",
    "solver = cp_model.CpSolver()\n",
    "status = solver.Solve(model)\n",
    "status"
   ]
  },
  {
   "cell_type": "code",
   "execution_count": 133,
   "id": "b209844b",
   "metadata": {},
   "outputs": [
    {
     "name": "stdout",
     "output_type": "stream",
     "text": [
      "Custo mínimo = $ 1,148,340.00\n",
      "\n",
      "Quantidade de contêineres que vai da cidade j para a cidade j:\n",
      "[[ 0 10  0  0  0]\n",
      " [ 7  5  0  0  0]\n",
      " [20  0  0  0  0]\n",
      " [ 0  0 24  0  0]\n",
      " [ 0  0  0  0 18]\n",
      " [ 3  0  1 33  3]]\n"
     ]
    }
   ],
   "source": [
    "if status == cp_model.OPTIMAL or status == cp_model.FEASIBLE:\n",
    "    print(f'Custo mínimo = $ {solver.ObjectiveValue():,.2f}')\n",
    "    print()\n",
    "    print('Quantidade de contêineres que vai da cidade j para a cidade j:')\n",
    "    print(np.array([list(map(lambda x: solver.Value(x), sublist)) for sublist in variables]))\n",
    "else:\n",
    "    print('Nenhuma solução encontrada.')"
   ]
  },
  {
   "cell_type": "markdown",
   "id": "aa30e327",
   "metadata": {},
   "source": [
    "### QUESTÃO 2\n",
    "Desenvolva um programa de computador para aplicar o algoritmo de Dijkistra para \n",
    "encontrar a menor distância entre os nós 1 e 3 no grafo abaixo.\n",
    "\n",
    "![Grafo Questão 2](https://i.imgur.com/R6u0e37.png)"
   ]
  },
  {
   "cell_type": "markdown",
   "id": "5255e827",
   "metadata": {},
   "source": [
    "**Resposta:**"
   ]
  },
  {
   "cell_type": "code",
   "execution_count": 3,
   "id": "b1cb7d3e",
   "metadata": {},
   "outputs": [],
   "source": [
    "import networkx as nx"
   ]
  },
  {
   "cell_type": "code",
   "execution_count": 4,
   "id": "a78997f7",
   "metadata": {},
   "outputs": [],
   "source": [
    "nodes_pos = {\n",
    "    2: (0, 2),\n",
    "    0: (1, 2),\n",
    "    1: (2, 2),\n",
    "    5: (0, 1),\n",
    "    6: (1, 1),\n",
    "    7: (2, 1),\n",
    "    3: (0, 0),\n",
    "    4: (1, 0)\n",
    "}\n",
    "edges_weights = {\n",
    "     (0, 2): 29,\n",
    "     (0, 5): 60,\n",
    "     (0, 6): 51,\n",
    "     (1, 0): 32,\n",
    "     (1, 7): 21,\n",
    "     (5, 3): 18,\n",
    "     (6, 4): 51,\n",
    "     (7, 0): 31,\n",
    "     (7, 6): 25,\n",
    "     (7, 4): 46,\n",
    "     (4, 3): 34,\n",
    "     (4, 5): 40\n",
    "}"
   ]
  },
  {
   "cell_type": "code",
   "execution_count": 5,
   "id": "841a9008",
   "metadata": {},
   "outputs": [],
   "source": [
    "G = nx.DiGraph()\n",
    "\n",
    "for node, pos in nodes_pos.items():\n",
    "    G.add_node(node, pos=pos)\n",
    "\n",
    "for nodes, weight in edges_weights.items():\n",
    "    G.add_edge(nodes[0], nodes[1], weight=weight)"
   ]
  },
  {
   "cell_type": "code",
   "execution_count": 6,
   "id": "f638ff84",
   "metadata": {},
   "outputs": [
    {
     "name": "stdout",
     "output_type": "stream",
     "text": [
      "A menor distância entre os nós um e três é: 101\n"
     ]
    }
   ],
   "source": [
    "dij_dist = nx.dijkstra_path_length(G, source=1, target=3)\n",
    "print(f'A menor distância entre os nós um e três é: {dij_dist}')"
   ]
  },
  {
   "cell_type": "code",
   "execution_count": 7,
   "id": "03362da1",
   "metadata": {},
   "outputs": [
    {
     "data": {
      "image/png": "[encoded data removed]",
      "text/plain": [
       "<Figure size 432x288 with 1 Axes>"
      ]
     },
     "metadata": {},
     "output_type": "display_data"
    }
   ],
   "source": [
    "plt.figure()\n",
    "plt.title(f\"Menor distância entre os nós um e três: {dij_dist}\", weight='bold')\n",
    "# Encontra os nós do melhor caminho\n",
    "dij = nx.dijkstra_path(G,source=1,target=3)\n",
    "\n",
    "dijkstra = G.subgraph(dij)  # Obtém o subgrafo dos nós\n",
    "pos_ = nx.get_node_attributes(G,'pos')  # Obtém as posições de todos os nós\n",
    "labels = nx.get_edge_attributes(G,'weight') # Obtém os pesos dos vértices\n",
    "\n",
    "# Constrói um grafo com todos os nós\n",
    "nx.draw(G,pos_,with_labels=True, node_size=800, width=0.5)\n",
    "# Colore os nós do caminho de vermelho\n",
    "nx.draw(dijkstra,pos_,with_labels=True, edge_color=\"red\", width=3, node_size=800)\n",
    "# Adiciona rótulos aos vértices\n",
    "nx.draw_networkx_edge_labels(G,pos_,edge_labels=labels)\n",
    "plt.show()"
   ]
  },
  {
   "cell_type": "markdown",
   "id": "80bc8c69",
   "metadata": {},
   "source": [
    "### QUESTÃO 3"
   ]
  },
  {
   "cell_type": "markdown",
   "id": "c4dc8c05",
   "metadata": {},
   "source": [
    "Resolva o seguinte problema de programação linear inteira:"
   ]
  },
  {
   "cell_type": "markdown",
   "id": "28302956",
   "metadata": {},
   "source": [
    "$$\\Large\\max 2x_1 + 3x_2 \\\\ \\Large x_1 + 2x_2 \\leq 3 \\\\\\Large 6x_1 + 8x_2 \\leq 15 \\\\\\Large x_1,x_2 \\in \\mathbb{Z}_+$$"
   ]
  },
  {
   "cell_type": "markdown",
   "id": "be562a32",
   "metadata": {},
   "source": [
    "**Resposta:**\n",
    "\n",
    "*Essa questão foi resolvida tanto no Python quanto no Excel*"
   ]
  },
  {
   "cell_type": "code",
   "execution_count": 135,
   "id": "7224f908",
   "metadata": {},
   "outputs": [],
   "source": [
    "from ortools.linear_solver import pywraplp"
   ]
  },
  {
   "cell_type": "code",
   "execution_count": 9,
   "id": "c869bd47",
   "metadata": {},
   "outputs": [],
   "source": [
    "# Cria um solver usando o SCIP\n",
    "solver = pywraplp.Solver.CreateSolver('SCIP')"
   ]
  },
  {
   "cell_type": "code",
   "execution_count": 10,
   "id": "4c69e62e",
   "metadata": {},
   "outputs": [],
   "source": [
    "infinity = solver.infinity()\n",
    "# cria as variáveis INTEIRAS x e y como não-negativas\n",
    "x1 = solver.IntVar(0.0, infinity, 'x1')\n",
    "x2 = solver.IntVar(0.0, infinity, 'x2')"
   ]
  },
  {
   "cell_type": "code",
   "execution_count": 11,
   "id": "86c15c6c",
   "metadata": {},
   "outputs": [],
   "source": [
    "# Adicionando restrições\n",
    "solver.Add(x1 + 2*x2 <= 3)\n",
    "solver.Add(6*x1 + 8*x2 <= 15);"
   ]
  },
  {
   "cell_type": "code",
   "execution_count": 12,
   "id": "3d35d41d",
   "metadata": {},
   "outputs": [],
   "source": [
    "# Definindo função objetivo\n",
    "solver.Maximize(2*x1 + 3*x2)"
   ]
  },
  {
   "cell_type": "code",
   "execution_count": 15,
   "id": "0f8ae92d",
   "metadata": {},
   "outputs": [
    {
     "data": {
      "text/plain": [
       "0"
      ]
     },
     "execution_count": 15,
     "metadata": {},
     "output_type": "execute_result"
    }
   ],
   "source": [
    "# Executando o solver\n",
    "status = solver.Solve()\n",
    "status"
   ]
  },
  {
   "cell_type": "code",
   "execution_count": 16,
   "id": "e301b6b8",
   "metadata": {},
   "outputs": [
    {
     "name": "stdout",
     "output_type": "stream",
     "text": [
      "Solução:\n",
      "Valor da função objetivo = 5.0\n",
      "x1 = 1.0\n",
      "x2 = 1.0\n"
     ]
    }
   ],
   "source": [
    "if status == pywraplp.Solver.OPTIMAL:\n",
    "    print('Solução:')\n",
    "    print('Valor da função objetivo =', solver.Objective().Value())\n",
    "    print('x1 =', x1.solution_value())\n",
    "    print('x2 =', x2.solution_value())\n",
    "else:\n",
    "    print('O problema não tem uma solução ótima.')"
   ]
  },
  {
   "cell_type": "markdown",
   "id": "71aaf0c6",
   "metadata": {},
   "source": [
    "### QUESTÃO 4\n",
    "Um banco de investimento tem um orçamento total de 14 milhões de euros, podendo fazer \n",
    "4 tipos de investimentos (numerados 1,2,3,4). As tabelas a seguir especificam o valor a ser \n",
    "investido e a receita líquida de cada investimento. Cada investimento, se feito, deve ser \n",
    "feito integralmente\n",
    "\n",
    "| Investimento | 1 | 2 | 3 | 4 |\n",
    "| -- | -- | -- | -- | -- |\n",
    "| Valor investido | 5 | 7 | 4 | 3 |\n",
    "| Receita líquida | 16 | 22 | 12 | 8 |\n",
    "\n",
    "Formule e resolva um programa para maximizar a receita líquida total, respeitando a \n",
    "restrição de orçamento.\n"
   ]
  },
  {
   "cell_type": "markdown",
   "id": "f5471122",
   "metadata": {},
   "source": [
    "**Resposta:**\n",
    "\n",
    "```weights```: Vetor contendo o valor a ser investido em nada investimento\n",
    "\n",
    "```values```: Vetor contendo a receita líquida de cada investimento\n",
    "\n",
    "```capacities```: Vetor contendo o orçamento total do banco para investimento."
   ]
  },
  {
   "cell_type": "code",
   "execution_count": 20,
   "id": "a212d33c",
   "metadata": {},
   "outputs": [],
   "source": [
    "from ortools.algorithms import pywrapknapsack_solver"
   ]
  },
  {
   "cell_type": "code",
   "execution_count": 19,
   "id": "fdafbe33",
   "metadata": {},
   "outputs": [],
   "source": [
    "values = [16, 22, 12, 8]\n",
    "\n",
    "weights = [[5, 7, 4, 3]]\n",
    "\n",
    "capacities = [14]"
   ]
  },
  {
   "cell_type": "code",
   "execution_count": 21,
   "id": "aec8f15e",
   "metadata": {},
   "outputs": [],
   "source": [
    "# Declarando o Solver\n",
    "solver = pywrapknapsack_solver.KnapsackSolver(\n",
    "    pywrapknapsack_solver.KnapsackSolver.\n",
    "    KNAPSACK_MULTIDIMENSION_BRANCH_AND_BOUND_SOLVER, 'Investimento')"
   ]
  },
  {
   "cell_type": "code",
   "execution_count": 31,
   "id": "28bab3f5",
   "metadata": {},
   "outputs": [
    {
     "name": "stdout",
     "output_type": "stream",
     "text": [
      "Receita líquida total = 42 milhões de euros\n",
      "Valor investido total = 14 milhões de euros\n",
      "Investimentos realizados: [2, 3, 4]\n",
      "Valor dos investimentos realizados: [7, 4, 3]\n"
     ]
    }
   ],
   "source": [
    "solver.Init(values, weights, capacities)\n",
    "computed_value = solver.Solve()\n",
    "packed_items = []\n",
    "packed_weights = []\n",
    "total_weight = 0\n",
    "print('Receita líquida total =', computed_value, 'milhões de euros')\n",
    "for i in range(len(values)):\n",
    "    if solver.BestSolutionContains(i):\n",
    "        packed_items.append(i)\n",
    "        packed_weights.append(weights[0][i])\n",
    "        total_weight += weights[0][i]\n",
    "print('Valor investido total =', total_weight, 'milhões de euros')\n",
    "print('Investimentos realizados:', list(np.array(packed_items)+1))\n",
    "print('Valor dos investimentos realizados:', packed_weights)"
   ]
  }
 ],
 "metadata": {
  "kernelspec": {
   "display_name": "Python 3 (ipykernel)",
   "language": "python",
   "name": "python3"
  },
  "language_info": {
   "codemirror_mode": {
    "name": "ipython",
    "version": 3
   },
   "file_extension": ".py",
   "mimetype": "text/x-python",
   "name": "python",
   "nbconvert_exporter": "python",
   "pygments_lexer": "ipython3",
   "version": "3.9.7"
  }
 },
 "nbformat": 4,
 "nbformat_minor": 5
}
