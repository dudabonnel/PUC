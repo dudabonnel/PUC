{
  "cells": [
    {
      "cell_type": "code",
      "execution_count": 4,
      "metadata": {
        "id": "6jJZeTokWoY2"
      },
      "outputs": [],
      "source": [
        "from ortools.sat.python import cp_model"
      ]
    },
    {
      "cell_type": "markdown",
      "metadata": {
        "id": "9M4l1oJdWoY3"
      },
      "source": [
        "### O quebra cabeça do copo"
      ]
    },
    {
      "cell_type": "code",
      "execution_count": 5,
      "metadata": {
        "id": "EqoxLxVXWoY4"
      },
      "outputs": [],
      "source": [
        "model = cp_model.CpModel()\n",
        "\n",
        "# Variáveis\n",
        "vermelho = model.NewIntVar(0, 99, 'vermelho') \n",
        "amarelo = model.NewIntVar(0, 99, 'amarelo') \n",
        "azul = model.NewIntVar(0, 99, 'azul') \n",
        "\n",
        "# Restrições\n",
        "model.Add( vermelho + amarelo + azul == 18 )\n",
        "model.Add( azul + azul + azul == 2*amarelo )\n",
        "model.Add( amarelo + amarelo == 2*vermelho - azul )\n",
        "model.Add( vermelho + vermelho == 12 + azul )\n",
        "\n",
        "#Solucionar o modelo\n",
        "solver = cp_model.CpSolver()\n",
        "status = solver.Solve(model)"
      ]
    },
    {
      "cell_type": "code",
      "execution_count": 6,
      "metadata": {
        "colab": {
          "base_uri": "https://localhost:8080/"
        },
        "id": "OLQ8tkWjWoY5",
        "outputId": "a980033e-4140-4902-e40e-290822322361"
      },
      "outputs": [
        {
          "output_type": "execute_result",
          "data": {
            "text/plain": [
              "36"
            ]
          },
          "metadata": {},
          "execution_count": 6
        }
      ],
      "source": [
        "# Sobrescreve as variáveis para simplificar a notação\n",
        "vermelho = solver.Value(vermelho)\n",
        "amarelo = solver.Value(amarelo)\n",
        "azul = solver.Value(azul)\n",
        "\n",
        "# Responde a pergunta\n",
        "vermelho//2 + ( azul//2 + amarelo ) * azul"
      ]
    },
    {
      "cell_type": "markdown",
      "metadata": {
        "id": "t1OuDh_oWoY6"
      },
      "source": [
        "### O quebra cabeça do diamante"
      ]
    },
    {
      "cell_type": "code",
      "execution_count": null,
      "metadata": {
        "id": "j5jRPH78WoY6"
      },
      "outputs": [],
      "source": [
        "model = cp_model.CpModel()\n",
        "\n",
        "coroa_vermelha = model.NewIntVar(0, 99, 'coroa_vermelha') \n",
        "anel_azul = model.NewIntVar(0, 99, 'anel_azul')\n",
        "diamante_azul = model.NewIntVar(0, 99, 'diamante_azul') \n",
        "diamante_vermelho = model.NewIntVar(0, 99, 'diamante_vermelho') \n",
        "coroa_azul = model.NewIntVar(0, 99, 'coroa_azul') \n",
        "anel_vermelho = model.NewIntVar(0, 99, 'anel_vermelho')\n",
        "\n",
        "# Restrições\n",
        "model.Add( coroa_vermelha + coroa_vermelha + coroa_vermelha == 24 )\n",
        "model.Add( anel_azul + anel_azul + coroa_vermelha == 22 )\n",
        "model.Add( 2*diamante_azul + 2*diamante_azul + anel_azul == 19 )\n",
        "model.Add( 2*diamante_vermelho + 2*diamante_vermelho + coroa_vermelha == 16 )\n",
        "\n",
        "x = [coroa_vermelha, anel_azul, diamante_azul, diamante_vermelho, coroa_azul, anel_vermelho]\n",
        "\n",
        "#Solucionar o modelo\n",
        "solver = cp_model.CpSolver()\n",
        "status = solver.Solve(model)\n",
        "\n",
        "# Imprime solução\n",
        "for i in x:\n",
        "    print(i, solver.Value(i))"
      ]
    },
    {
      "cell_type": "code",
      "execution_count": null,
      "metadata": {
        "id": "YX2QI10EWoY6"
      },
      "outputs": [],
      "source": [
        "model.Add( coroa_azul == coroa_vermelha - diamante_vermelho + diamante_azul )\n",
        "model.Add( anel_vermelho == anel_azul - diamante_azul + diamante_vermelho )\n",
        "\n",
        "x = [coroa_vermelha, anel_azul, diamante_azul, diamante_vermelho, coroa_azul, anel_vermelho]\n",
        "\n",
        "#Solucionar o modelo\n",
        "solver = cp_model.CpSolver()\n",
        "status = solver.Solve(model)\n",
        "\n",
        "# Imprime solução\n",
        "for i in x:\n",
        "    print(i, solver.Value(i))"
      ]
    },
    {
      "cell_type": "code",
      "execution_count": null,
      "metadata": {
        "id": "cwzOdMWoWoY7"
      },
      "outputs": [],
      "source": [
        "# Converte para o seu valor numérico\n",
        "coroa_vermelha = solver.Value(coroa_vermelha)\n",
        "anel_azul = solver.Value(coroa_azul)\n",
        "diamante_azul = solver.Value(diamante_azul)\n",
        "diamante_vermelho = solver.Value(diamante_vermelho)\n",
        "coroa_azul = solver.Value(coroa_azul)\n",
        "anel_vermelho = solver.Value(anel_vermelho)\n",
        "\n",
        "# Resposta para a pergunta\n",
        "coroa_azul + (diamante_azul + diamante_vermelho) * anel_vermelho"
      ]
    },
    {
      "cell_type": "markdown",
      "metadata": {
        "id": "w2lP4bH2WoY7"
      },
      "source": [
        "### SUDOKU"
      ]
    },
    {
      "cell_type": "code",
      "execution_count": 7,
      "metadata": {
        "id": "vb0ufJaJWoY7"
      },
      "outputs": [],
      "source": [
        "grid = [[0, 0, 0, 9, 0, 2, 0, 0, 0],\n",
        "        [0, 4, 0, 0, 0, 0, 0, 5, 0],\n",
        "        [0, 0, 2, 0, 0, 0, 3, 0, 0],\n",
        "        [2, 0, 0, 0, 0, 0, 0, 0, 7],\n",
        "        [0, 0, 0, 4, 5, 6, 0, 0, 0],\n",
        "        [6, 0, 0, 0, 0, 0, 0, 0, 9],\n",
        "        [0, 0, 7, 0, 0, 0, 8, 0, 0],\n",
        "        [0, 3, 0, 0, 0, 0, 0, 4, 0],\n",
        "        [0, 0, 0, 2, 0, 7, 0, 0, 0]]\n",
        "\n",
        "model = cp_model.CpModel()\n",
        "\n",
        "x = [[0 for i in range(9)] for j in range(9)]\n",
        "\n",
        "for i in range(9):\n",
        "    for j in range(9):\n",
        "        if grid[i][j] != 0:\n",
        "            x[i][j] = grid[i][j]\n",
        "        else:\n",
        "            x[i][j] = model.NewIntVar(1,9, 'x[%d][%d]'%(i,j) )\n",
        "            \n",
        "# Restrições\n",
        "\n",
        "# Todos os elementos da caluna de uma linha são diferentes\n",
        "for i in range(9):\n",
        "    model.AddAllDifferent([x[i][j] for j in range(9)])\n",
        "    \n",
        "# Todos os elementas de linha da mesma coluna são diferentes    \n",
        "for j in range(9):\n",
        "    model.AddAllDifferent([x[i][j] for i in range(9)])\n",
        "    \n",
        "# Todos os elementos do bloco são diferentes    \n",
        "for ii in range(0,9,3):\n",
        "    for jj in range(0,9,3):\n",
        "        model.AddAllDifferent([x[ii+i][jj+j] for j in range(3) for i in range(3)] )\n",
        "\n",
        "solver = cp_model.CpSolver()\n",
        "status = solver.Solve(model)"
      ]
    },
    {
      "cell_type": "code",
      "execution_count": 8,
      "metadata": {
        "colab": {
          "base_uri": "https://localhost:8080/"
        },
        "id": "1Qmxn1OhWoY8",
        "outputId": "216f7c5b-adc5-46c3-d3a4-fdbe9a246a09"
      },
      "outputs": [
        {
          "output_type": "execute_result",
          "data": {
            "text/plain": [
              "[[3, 8, 5, 9, 4, 2, 6, 7, 1],\n",
              " [9, 4, 6, 1, 7, 3, 2, 5, 8],\n",
              " [1, 7, 2, 5, 6, 8, 3, 9, 4],\n",
              " [2, 1, 4, 8, 3, 9, 5, 6, 7],\n",
              " [7, 9, 8, 4, 5, 6, 1, 2, 3],\n",
              " [6, 5, 3, 7, 2, 1, 4, 8, 9],\n",
              " [5, 2, 7, 3, 9, 4, 8, 1, 6],\n",
              " [8, 3, 9, 6, 1, 5, 7, 4, 2],\n",
              " [4, 6, 1, 2, 8, 7, 9, 3, 5]]"
            ]
          },
          "metadata": {},
          "execution_count": 8
        }
      ],
      "source": [
        "res = [[0 for i in range(9)] for j in range(9)]\n",
        "\n",
        "for i in range(9):\n",
        "    for j in range(9):\n",
        "        res[i][j] = solver.Value(x[i][j])\n",
        "res        "
      ]
    },
    {
      "cell_type": "markdown",
      "metadata": {
        "id": "JWapVBWlWoY8"
      },
      "source": [
        "### Criptoaritmética"
      ]
    },
    {
      "cell_type": "markdown",
      "metadata": {
        "id": "3-GulqcgWoY8"
      },
      "source": [
        "SEND MORE MONEY (SMM)"
      ]
    },
    {
      "cell_type": "code",
      "execution_count": null,
      "metadata": {
        "id": "vsEcZCtwWoY9"
      },
      "outputs": [],
      "source": [
        "model = cp_model.CpModel()\n",
        "\n",
        "S = model.NewIntVar(0,9, 'S') \n",
        "E = model.NewIntVar(0,9, 'E')\n",
        "N = model.NewIntVar(0,9, 'N')\n",
        "D = model.NewIntVar(0,9, 'D')\n",
        "M = model.NewIntVar(0,9, 'M') \n",
        "O = model.NewIntVar(0,9, 'O')\n",
        "R = model.NewIntVar(0,9, 'R')\n",
        "Y = model.NewIntVar(0,9, 'Y')\n",
        "\n",
        "letras = [S,E,N,D,M,O,R,Y]\n",
        "\n",
        "# Restrições\n",
        "model.AddAllDifferent(letras)\n",
        "\n",
        "# Não se costuma colocar o zero no começo\n",
        "model.Add(S != 0)\n",
        "model.Add(M != 0)\n",
        "\n",
        "# SEND + MORE = MONEY\n",
        "model.Add( 1000*S + 100*E + 10*N + D + \\\n",
        "           1000*M + 100*O + 10*R + E == \\\n",
        " 10000*M + 1000*O + 100*N + 10*E + Y )\n",
        "\n",
        "# Solucionar o problema\n",
        "solver = cp_model.CpSolver()\n",
        "status = solver.Solve(model)\n",
        "\n",
        "for i in letras:\n",
        "    print(i,solver.Value(i))"
      ]
    },
    {
      "cell_type": "markdown",
      "metadata": {
        "id": "rKBINc5kWoY9"
      },
      "source": [
        "SEND MOST MONEY (SMM++)"
      ]
    },
    {
      "cell_type": "code",
      "execution_count": null,
      "metadata": {
        "id": "DYrbSN0OWoY9"
      },
      "outputs": [],
      "source": [
        "model = cp_model.CpModel()\n",
        "\n",
        "S = model.NewIntVar(0,9, 'S') \n",
        "E = model.NewIntVar(0,9, 'E')\n",
        "N = model.NewIntVar(0,9, 'N')\n",
        "D = model.NewIntVar(0,9, 'D')\n",
        "M = model.NewIntVar(0,9, 'M') \n",
        "O = model.NewIntVar(0,9, 'O')\n",
        "T = model.NewIntVar(0,9, 'T')\n",
        "Y = model.NewIntVar(0,9, 'Y')\n",
        "\n",
        "letras = [S,E,N,D,M,O,T,Y]\n",
        "\n",
        "# Restrições\n",
        "model.AddAllDifferent(letras)\n",
        "\n",
        "# Não se costuma colocar o zero no começo\n",
        "model.Add(S != 0)\n",
        "model.Add(M != 0)\n",
        "\n",
        "# SEND + MOST = MONEY\n",
        "model.Add( 1000*S + 100*E + 10*N + D + \\\n",
        "           1000*M + 100*O + 10*S + T == \\\n",
        " 10000*M + 1000*O + 100*N + 10*E + Y )\n",
        "\n",
        "# Maximizar MONEY\n",
        "model.Maximize(10000*M + 1000*O + 100*N + 10*E + Y)\n",
        "\n",
        "# Solucionar o problema\n",
        "solver = cp_model.CpSolver()\n",
        "status = solver.Solve(model)\n",
        "\n",
        "for i in letras:\n",
        "    print(i,solver.Value(i))"
      ]
    }
  ],
  "metadata": {
    "kernelspec": {
      "display_name": "Python 3.10.5 64-bit (windows store)",
      "language": "python",
      "name": "python3"
    },
    "language_info": {
      "codemirror_mode": {
        "name": "ipython",
        "version": 3
      },
      "file_extension": ".py",
      "mimetype": "text/x-python",
      "name": "python",
      "nbconvert_exporter": "python",
      "pygments_lexer": "ipython3",
      "version": "3.10.5"
    },
    "orig_nbformat": 4,
    "vscode": {
      "interpreter": {
        "hash": "19f8edf9f3d47184070387e5526ef4245906fb1893b7f74c12e591a863440618"
      }
    },
    "colab": {
      "name": "draft.ipynb",
      "provenance": []
    }
  },
  "nbformat": 4,
  "nbformat_minor": 0
}