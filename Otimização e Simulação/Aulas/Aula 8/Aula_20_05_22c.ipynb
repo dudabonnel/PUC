{
  "cells": [
    {
      "cell_type": "code",
      "execution_count": 9,
      "metadata": {
        "id": "s0YG0fsfV9Hr"
      },
      "outputs": [],
      "source": [
        "import networkx as nx\n",
        "import matplotlib.pyplot as plt"
      ]
    },
    {
      "cell_type": "code",
      "execution_count": 10,
      "metadata": {
        "id": "tlqy_G5WV9Hu"
      },
      "outputs": [],
      "source": [
        "# Criar o grafo (vazio)\n",
        "g = nx.Graph()\n",
        "\n",
        "g.add_node(3,pos=(0,0))\n",
        "g.add_node(4,pos=(1,0))\n",
        "g.add_node(5,pos=(0,1))\n",
        "g.add_node(6,pos=(1,1))\n",
        "g.add_node(7,pos=(2,1))\n",
        "g.add_node(2,pos=(0,2))\n",
        "g.add_node(0,pos=(1,2))\n",
        "g.add_node(1,pos=(2,2))\n",
        "      \n",
        "g.add_edge(0,2,weight=29)\n",
        "g.add_edge(1,0,weight=32)\n",
        "g.add_edge(1,7,weight=21)\n",
        "g.add_edge(7,0,weight=31)\n",
        "g.add_edge(7,4,weight=46)\n",
        "g.add_edge(7,6,weight=25)\n",
        "g.add_edge(6,4,weight=51)\n",
        "g.add_edge(4,5,weight=40)\n",
        "g.add_edge(4,3,weight=34)\n",
        "g.add_edge(5,3,weight=18)\n",
        "g.add_edge(0,5,weight=60)"
      ]
    },
    {
      "cell_type": "code",
      "execution_count": 11,
      "metadata": {
        "id": "o374llNoV9Hv"
      },
      "outputs": [],
      "source": [
        "pos = nx.get_node_attributes(g,'pos')\n",
        "labels = nx.get_edge_attributes(g,'weight')"
      ]
    },
    {
      "cell_type": "code",
      "execution_count": 12,
      "metadata": {
        "colab": {
          "base_uri": "https://localhost:8080/",
          "height": 248
        },
        "id": "Kj8YgtgTV9Hw",
        "outputId": "e53982d8-4ec0-42c3-d33c-819caebb856e"
      },
      "outputs": [
        {
          "output_type": "display_data",
          "data": {
            "text/plain": [
              "<Figure size 432x288 with 1 Axes>"
            ],
            "image/png": "[encoded data removed]"
          },
          "metadata": {}
        }
      ],
      "source": [
        "nx.draw_networkx_edge_labels(g,pos,edge_labels=labels)\n",
        "nx.draw(g,pos,with_labels=True)\n",
        "plt.show()"
      ]
    },
    {
      "cell_type": "markdown",
      "source": [
        "## Árvore de custo mínimo"
      ],
      "metadata": {
        "id": "sb8D0s4gpYyG"
      }
    },
    {
      "cell_type": "code",
      "source": [
        "T = nx.minimum_spanning_tree(g)"
      ],
      "metadata": {
        "id": "IeP5e9uXXJeB"
      },
      "execution_count": 13,
      "outputs": []
    },
    {
      "cell_type": "code",
      "source": [
        "pos = nx.get_node_attributes(T,'pos')\n",
        "labels = nx.get_edge_attributes(T,'weight')"
      ],
      "metadata": {
        "id": "Ff2jNz4uXMtg"
      },
      "execution_count": 14,
      "outputs": []
    },
    {
      "cell_type": "code",
      "execution_count": 15,
      "metadata": {
        "colab": {
          "base_uri": "https://localhost:8080/",
          "height": 248
        },
        "id": "bPOSLZrvTMSp",
        "outputId": "33fcb108-862a-4e06-83d4-b30af6734a36"
      },
      "outputs": [
        {
          "output_type": "display_data",
          "data": {
            "text/plain": [
              "<Figure size 432x288 with 1 Axes>"
            ],
            "image/png": "[encoded data removed]"
          },
          "metadata": {}
        }
      ],
      "source": [
        "nx.draw_networkx_edge_labels(T,pos,edge_labels=labels)\n",
        "nx.draw(T,pos,with_labels=True)\n",
        "plt.show()"
      ]
    },
    {
      "cell_type": "markdown",
      "source": [
        "## Menor caminho"
      ],
      "metadata": {
        "id": "1xnkhf2ipnHk"
      }
    },
    {
      "cell_type": "code",
      "source": [
        "nx.shortest_path(g,source=1, target=3, weight='weight')"
      ],
      "metadata": {
        "colab": {
          "base_uri": "https://localhost:8080/"
        },
        "id": "dbeT-J8WgILE",
        "outputId": "37a5487c-c819-4d17-814a-e454179cf3ce"
      },
      "execution_count": 16,
      "outputs": [
        {
          "output_type": "execute_result",
          "data": {
            "text/plain": [
              "[1, 7, 4, 3]"
            ]
          },
          "metadata": {},
          "execution_count": 16
        }
      ]
    },
    {
      "cell_type": "code",
      "execution_count": 17,
      "metadata": {
        "id": "zKRmeesjV9Hx",
        "outputId": "07556d8e-a87b-4de7-a9e1-212a3aa04f63",
        "colab": {
          "base_uri": "https://localhost:8080/"
        }
      },
      "outputs": [
        {
          "output_type": "execute_result",
          "data": {
            "text/plain": [
              "[1, 7, 4, 3]"
            ]
          },
          "metadata": {},
          "execution_count": 17
        }
      ],
      "source": [
        "nx.dijkstra_path(g,source=1,target=3)"
      ]
    }
  ],
  "metadata": {
    "kernelspec": {
      "display_name": "Python 3",
      "language": "python",
      "name": "python3"
    },
    "language_info": {
      "codemirror_mode": {
        "name": "ipython",
        "version": 3
      },
      "file_extension": ".py",
      "mimetype": "text/x-python",
      "name": "python",
      "nbconvert_exporter": "python",
      "pygments_lexer": "ipython3",
      "version": "3.8.5"
    },
    "colab": {
      "name": "Aula 20-05-22c.ipynb",
      "provenance": []
    }
  },
  "nbformat": 4,
  "nbformat_minor": 0
}