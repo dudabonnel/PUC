{
  "nbformat": 4,
  "nbformat_minor": 0,
  "metadata": {
    "colab": {
      "name": "Fluxo.ipynb",
      "provenance": []
    },
    "kernelspec": {
      "name": "python3",
      "display_name": "Python 3"
    },
    "language_info": {
      "name": "python"
    }
  },
  "cells": [
    {
      "cell_type": "code",
      "execution_count": 1,
      "metadata": {
        "id": "y78GkuHTxZyn"
      },
      "outputs": [],
      "source": [
        "import networkx as nx\n",
        "import matplotlib.pyplot as plt"
      ]
    },
    {
      "cell_type": "code",
      "source": [
        "# Criar o grafo (vazio)\n",
        "g = nx.DiGraph()\n",
        "\n",
        "g.add_node(3,pos=(0,0))\n",
        "g.add_node(4,pos=(1,0))\n",
        "g.add_node(5,pos=(0,1))\n",
        "g.add_node(6,pos=(1,1))\n",
        "g.add_node(7,pos=(2,1))\n",
        "g.add_node(2,pos=(0,2))\n",
        "g.add_node(0,pos=(1,2))\n",
        "g.add_node(1,pos=(2,2))\n",
        "      \n",
        "g.add_edge(0,2,weight=29)\n",
        "g.add_edge(1,0,weight=32)\n",
        "g.add_edge(1,7,weight=21)\n",
        "g.add_edge(7,0,weight=31)\n",
        "g.add_edge(7,4,weight=46)\n",
        "g.add_edge(7,6,weight=25)\n",
        "g.add_edge(6,4,weight=51)\n",
        "g.add_edge(4,5,weight=40)\n",
        "g.add_edge(4,3,weight=34)\n",
        "g.add_edge(5,3,weight=18)\n",
        "g.add_edge(0,5,weight=60)"
      ],
      "metadata": {
        "id": "Uj9ScJnfxcgZ"
      },
      "execution_count": 2,
      "outputs": []
    },
    {
      "cell_type": "code",
      "source": [
        "pos = nx.get_node_attributes(g,'pos')\n",
        "labels = nx.get_edge_attributes(g,'weight')"
      ],
      "metadata": {
        "id": "Gm-qov5exeSQ"
      },
      "execution_count": 3,
      "outputs": []
    },
    {
      "cell_type": "code",
      "source": [
        "nx.draw_networkx_edge_labels(g,pos,edge_labels=labels)\n",
        "nx.draw(g,pos,with_labels=True)\n",
        "plt.show()"
      ],
      "metadata": {
        "colab": {
          "base_uri": "https://localhost:8080/",
          "height": 248
        },
        "id": "YAZ4qQ6hxhkc",
        "outputId": "39ef5323-f5c1-4367-8048-96bc47afc3b7"
      },
      "execution_count": 4,
      "outputs": [
        {
          "output_type": "display_data",
          "data": {
            "text/plain": [
              "<Figure size 432x288 with 1 Axes>"
            ],
            "image/png": "[encoded data removed]"
          },
          "metadata": {}
        }
      ]
    },
    {
      "cell_type": "code",
      "source": [
        "import networkx as nx\n",
        "\n",
        "G = nx.DiGraph()\n",
        "G.add_edge('x','a', capacity=3.0)\n",
        "G.add_edge('x','b', capacity=1.0)\n",
        "G.add_edge('a','c', capacity=3.0)\n",
        "G.add_edge('b','c', capacity=5.0)\n",
        "G.add_edge('b','d', capacity=4.0)\n",
        "G.add_edge('d','e', capacity=2.0)\n",
        "G.add_edge('c','y', capacity=2.0)\n",
        "G.add_edge('e','y', capacity=3.0)\n",
        "\n",
        "flow_value, flow_dict = nx.maximum_flow(G, \"x\", \"y\")\n"
      ],
      "metadata": {
        "id": "VvIme2LkxwxA"
      },
      "execution_count": 11,
      "outputs": []
    },
    {
      "cell_type": "code",
      "source": [
        "flow_value"
      ],
      "metadata": {
        "colab": {
          "base_uri": "https://localhost:8080/"
        },
        "id": "dvwfeQbfypyu",
        "outputId": "2ef4279a-0fb4-438e-d2cb-fa1822f66d74"
      },
      "execution_count": 12,
      "outputs": [
        {
          "output_type": "execute_result",
          "data": {
            "text/plain": [
              "3.0"
            ]
          },
          "metadata": {},
          "execution_count": 12
        }
      ]
    },
    {
      "cell_type": "code",
      "source": [
        "flow_dict"
      ],
      "metadata": {
        "colab": {
          "base_uri": "https://localhost:8080/"
        },
        "id": "wlUSYDNQyshW",
        "outputId": "661b75b8-67fd-4b69-da2c-ccf88378eca4"
      },
      "execution_count": 13,
      "outputs": [
        {
          "output_type": "execute_result",
          "data": {
            "text/plain": [
              "{'a': {'c': 2.0},\n",
              " 'b': {'c': 0, 'd': 1.0},\n",
              " 'c': {'y': 2.0},\n",
              " 'd': {'e': 1.0},\n",
              " 'e': {'y': 1.0},\n",
              " 'x': {'a': 2.0, 'b': 1.0},\n",
              " 'y': {}}"
            ]
          },
          "metadata": {},
          "execution_count": 13
        }
      ]
    }
  ]
}