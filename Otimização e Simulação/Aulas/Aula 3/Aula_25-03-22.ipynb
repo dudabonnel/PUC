{
 "cells": [
  {
   "cell_type": "markdown",
   "id": "12b2e7e0",
   "metadata": {},
   "source": [
    "# Solução de sistemas lineares"
   ]
  },
  {
   "cell_type": "code",
   "execution_count": 1,
   "id": "34f6baa2",
   "metadata": {},
   "outputs": [],
   "source": [
    "import numpy as np"
   ]
  },
  {
   "cell_type": "code",
   "execution_count": 2,
   "id": "1d7eea88",
   "metadata": {},
   "outputs": [
    {
     "data": {
      "text/plain": [
       "array([[10, 10],\n",
       "       [ 3,  7]])"
      ]
     },
     "execution_count": 2,
     "metadata": {},
     "output_type": "execute_result"
    }
   ],
   "source": [
    "A = np.array([[10,10],[3,7]])\n",
    "A"
   ]
  },
  {
   "cell_type": "code",
   "execution_count": 3,
   "id": "9a922b70",
   "metadata": {},
   "outputs": [
    {
     "data": {
      "text/plain": [
       "[[100], [42]]"
      ]
     },
     "execution_count": 3,
     "metadata": {},
     "output_type": "execute_result"
    }
   ],
   "source": [
    "b = [[100],[42]]\n",
    "b"
   ]
  },
  {
   "cell_type": "code",
   "execution_count": 4,
   "id": "98150d56",
   "metadata": {},
   "outputs": [
    {
     "data": {
      "text/plain": [
       "array([[7.],\n",
       "       [3.]])"
      ]
     },
     "execution_count": 4,
     "metadata": {},
     "output_type": "execute_result"
    }
   ],
   "source": [
    "x = np.linalg.solve(A,b)\n",
    "x"
   ]
  },
  {
   "cell_type": "markdown",
   "id": "15bf205d",
   "metadata": {},
   "source": [
    "# Método Simplex"
   ]
  },
  {
   "cell_type": "code",
   "execution_count": 6,
   "id": "d80b7142",
   "metadata": {},
   "outputs": [
    {
     "name": "stdout",
     "output_type": "stream",
     "text": [
      "Collecting pulp\n",
      "  Downloading PuLP-2.6.0-py3-none-any.whl (14.2 MB)\n",
      "Installing collected packages: pulp\n",
      "Successfully installed pulp-2.6.0\n"
     ]
    }
   ],
   "source": [
    "!pip install pulp"
   ]
  },
  {
   "cell_type": "code",
   "execution_count": 7,
   "id": "1957c1d5",
   "metadata": {},
   "outputs": [],
   "source": [
    "from pulp import *"
   ]
  },
  {
   "cell_type": "code",
   "execution_count": 8,
   "id": "33e1c91f",
   "metadata": {},
   "outputs": [],
   "source": [
    "# Criar as variáveis\n",
    "x1 = LpVariable('x1', lowBound=0, cat='Continuous')\n",
    "x2 = LpVariable('x2', lowBound=0, cat='Continuous')\n",
    "\n",
    "# Criar o problema\n",
    "prob = LpProblem('Aula_25-03-22', LpMaximize)"
   ]
  },
  {
   "cell_type": "code",
   "execution_count": 9,
   "id": "656ff698",
   "metadata": {},
   "outputs": [],
   "source": [
    "# Incluir a função objetivo\n",
    "prob += 5*x1 + 4 *x2\n",
    "\n",
    "# Entrar com as restrições\n",
    "prob += 6*x1 + 4*x2 <= 24\n",
    "prob += x1 + 2*x2 <= 6\n",
    "prob += -x1 + x2 <= 1\n",
    "prob += x2 <= 2"
   ]
  },
  {
   "cell_type": "code",
   "execution_count": 11,
   "id": "466af7e3",
   "metadata": {},
   "outputs": [
    {
     "data": {
      "text/plain": [
       "1"
      ]
     },
     "execution_count": 11,
     "metadata": {},
     "output_type": "execute_result"
    }
   ],
   "source": [
    "# Resolver o problema\n",
    "prob.solve()"
   ]
  },
  {
   "cell_type": "code",
   "execution_count": 14,
   "id": "07c55f44",
   "metadata": {},
   "outputs": [
    {
     "data": {
      "text/plain": [
       "3.0"
      ]
     },
     "execution_count": 14,
     "metadata": {},
     "output_type": "execute_result"
    }
   ],
   "source": [
    "x1.value()"
   ]
  },
  {
   "cell_type": "code",
   "execution_count": 15,
   "id": "59f914e6",
   "metadata": {},
   "outputs": [
    {
     "data": {
      "text/plain": [
       "1.5"
      ]
     },
     "execution_count": 15,
     "metadata": {},
     "output_type": "execute_result"
    }
   ],
   "source": [
    "x2.value()"
   ]
  },
  {
   "cell_type": "code",
   "execution_count": 17,
   "id": "56f365c5",
   "metadata": {},
   "outputs": [
    {
     "data": {
      "text/plain": [
       "21.0"
      ]
     },
     "execution_count": 17,
     "metadata": {},
     "output_type": "execute_result"
    }
   ],
   "source": [
    "prob.objective.value()"
   ]
  },
  {
   "cell_type": "code",
   "execution_count": 20,
   "id": "1956e8e8",
   "metadata": {},
   "outputs": [
    {
     "name": "stdout",
     "output_type": "stream",
     "text": [
      "x1 = 3.0\n",
      "x2 = 1.5\n"
     ]
    }
   ],
   "source": [
    "for v in prob.variables():\n",
    "    print( v.name, '=', v.varValue )"
   ]
  },
  {
   "cell_type": "code",
   "execution_count": null,
   "id": "04763ccb",
   "metadata": {},
   "outputs": [],
   "source": []
  }
 ],
 "metadata": {
  "kernelspec": {
   "display_name": "Python 3 (ipykernel)",
   "language": "python",
   "name": "python3"
  },
  "language_info": {
   "codemirror_mode": {
    "name": "ipython",
    "version": 3
   },
   "file_extension": ".py",
   "mimetype": "text/x-python",
   "name": "python",
   "nbconvert_exporter": "python",
   "pygments_lexer": "ipython3",
   "version": "3.9.7"
  }
 },
 "nbformat": 4,
 "nbformat_minor": 5
}
