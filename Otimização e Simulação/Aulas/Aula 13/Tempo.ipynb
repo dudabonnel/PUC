{
 "cells": [
  {
   "cell_type": "code",
   "execution_count": 4,
   "metadata": {},
   "outputs": [],
   "source": [
    "import numpy as np\n",
    "import scipy.stats as stats\n",
    "import matplotlib.pyplot as plt"
   ]
  },
  {
   "cell_type": "code",
   "execution_count": 10,
   "metadata": {},
   "outputs": [],
   "source": [
    "n = 100000\n",
    "\n",
    "Etapa1 = stats.norm.rvs(5,1,n)\n",
    "\n",
    "##\n",
    "left = 5\n",
    "mode = 10\n",
    "right = 15\n",
    "\n",
    "c = (mode - left) / (right - left)\n",
    "loc = left\n",
    "scale = right - left\n",
    "\n",
    "Etapa2 = stats.triang.rvs(c,loc,scale,n)\n",
    "##\n",
    "\n",
    "Etapa3 = stats.norm.rvs(10,2,n)"
   ]
  },
  {
   "cell_type": "code",
   "execution_count": 9,
   "metadata": {},
   "outputs": [
    {
     "data": {
      "image/png": "[encoded data removed]",
      "text/plain": [
       "<Figure size 432x288 with 1 Axes>"
      ]
     },
     "metadata": {
      "needs_background": "light"
     },
     "output_type": "display_data"
    }
   ],
   "source": [
    "plt.hist( Etapa2 , bins=100, edgecolor='black');"
   ]
  },
  {
   "cell_type": "code",
   "execution_count": 11,
   "metadata": {},
   "outputs": [],
   "source": [
    "Tempo = np.zeros(n)\n",
    "for i in range(n):\n",
    "    Tempo[i] = Etapa1[i] + Etapa2[i] + Etapa3[i]"
   ]
  },
  {
   "cell_type": "code",
   "execution_count": 12,
   "metadata": {},
   "outputs": [
    {
     "data": {
      "image/png": "[encoded data removed]",
      "text/plain": [
       "<Figure size 432x288 with 1 Axes>"
      ]
     },
     "metadata": {
      "needs_background": "light"
     },
     "output_type": "display_data"
    }
   ],
   "source": [
    "plt.hist( Tempo , bins=100, edgecolor='black');"
   ]
  },
  {
   "cell_type": "code",
   "execution_count": 14,
   "metadata": {},
   "outputs": [
    {
     "name": "stdout",
     "output_type": "stream",
     "text": [
      "Valor mínimo: 13.233026\n",
      "Valor máximo: 37.775559\n",
      "Média: 24.986608\n",
      "Desvio padrão: 3.024228\n"
     ]
    }
   ],
   "source": [
    "resumo = stats.describe(Tempo)\n",
    "\n",
    "print('Valor mínimo: %.6f'%resumo.minmax[0])\n",
    "print('Valor máximo: %.6f'%resumo.minmax[1])\n",
    "print('Média: %.6f'%resumo.mean)\n",
    "print('Desvio padrão: %.6f'%np.sqrt(resumo.variance))"
   ]
  },
  {
   "cell_type": "code",
   "execution_count": 18,
   "metadata": {},
   "outputs": [
    {
     "data": {
      "text/plain": [
       "<matplotlib.lines.Line2D at 0x247ed74e610>"
      ]
     },
     "execution_count": 18,
     "metadata": {},
     "output_type": "execute_result"
    },
    {
     "data": {
      "image/png": "[encoded data removed]",
      "text/plain": [
       "<Figure size 432x288 with 1 Axes>"
      ]
     },
     "metadata": {
      "needs_background": "light"
     },
     "output_type": "display_data"
    }
   ],
   "source": [
    "#plt.hist( Rugosidade , bins=100, edgecolor='black');\n",
    "\n",
    "x = np.linspace(Tempo.min(),Tempo.max(),100)\n",
    "\n",
    "plt.plot( x , stats.norm.cdf(x,24.986608,3.024228) )\n",
    "plt.axvline(x=30, ymin=0, ymax=1, color = 'r')"
   ]
  },
  {
   "cell_type": "code",
   "execution_count": 21,
   "metadata": {},
   "outputs": [
    {
     "name": "stdout",
     "output_type": "stream",
     "text": [
      "A probabilidade do tempo estar acima de 30 min é 4.868%\n",
      "A probabilidade do tempo estar abaixo de 30 min é 95.132%\n"
     ]
    }
   ],
   "source": [
    "# c, loc, scale -> c é o parâmetro da distribuição\n",
    "prob = stats.norm.sf(30,24.986608,3.024228)\n",
    "print('A probabilidade do tempo estar acima de 30 min é %.3f%%'%(prob*100) )\n",
    "\n",
    "# Pelo menos 30 min\n",
    "prob = stats.norm.cdf(30,24.986608,3.024228)\n",
    "print('A probabilidade do tempo estar abaixo de 30 min é %.3f%%'%(prob*100) )\n"
   ]
  }
 ],
 "metadata": {
  "kernelspec": {
   "display_name": "Python 3",
   "language": "python",
   "name": "python3"
  },
  "language_info": {
   "codemirror_mode": {
    "name": "ipython",
    "version": 3
   },
   "file_extension": ".py",
   "mimetype": "text/x-python",
   "name": "python",
   "nbconvert_exporter": "python",
   "pygments_lexer": "ipython3",
   "version": "3.8.5"
  }
 },
 "nbformat": 4,
 "nbformat_minor": 4
}
