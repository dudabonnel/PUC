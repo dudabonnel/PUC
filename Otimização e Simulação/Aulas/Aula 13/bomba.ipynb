{
 "cells": [
  {
   "cell_type": "code",
   "execution_count": 18,
   "metadata": {},
   "outputs": [],
   "source": [
    "import numpy as np\n",
    "import scipy.stats as stats\n",
    "import matplotlib.pyplot as plt"
   ]
  },
  {
   "cell_type": "code",
   "execution_count": 100,
   "metadata": {},
   "outputs": [],
   "source": [
    "n = 1000000\n",
    "d = stats.norm.rvs(0.8,0.003,n)\n",
    "l = stats.norm.rvs(2.5,0.15,n)\n",
    "rpm = stats.norm.rvs(9.549,0.17,n)"
   ]
  },
  {
   "cell_type": "code",
   "execution_count": 101,
   "metadata": {},
   "outputs": [],
   "source": [
    "flow = np.zeros(n)\n",
    "for i in range(n):\n",
    "    flow[i] = np.pi*( d[i]/2 )**2 * l[i] * rpm[i]"
   ]
  },
  {
   "cell_type": "code",
   "execution_count": 102,
   "metadata": {},
   "outputs": [
    {
     "data": {
      "image/png": "[encoded data removed]",
      "text/plain": [
       "<Figure size 432x288 with 1 Axes>"
      ]
     },
     "metadata": {
      "needs_background": "light"
     },
     "output_type": "display_data"
    }
   ],
   "source": [
    "plt.hist( flow , bins=100, edgecolor='black');"
   ]
  },
  {
   "cell_type": "code",
   "execution_count": 123,
   "metadata": {},
   "outputs": [
    {
     "name": "stdout",
     "output_type": "stream",
     "text": [
      "Valor mínimo: 8.408182\n",
      "Valor máximo: 15.806772\n",
      "Média: 12.000744\n",
      "Desvio padrão: 0.756623\n"
     ]
    }
   ],
   "source": [
    "resumo = stats.describe(flow)\n",
    "\n",
    "print('Valor mínimo: %.6f'%resumo.minmax[0])\n",
    "print('Valor máximo: %.6f'%resumo.minmax[1])\n",
    "print('Média: %.6f'%resumo.mean)\n",
    "print('Desvio padrão: %.6f'%np.sqrt(resumo.variance))"
   ]
  },
  {
   "cell_type": "code",
   "execution_count": null,
   "metadata": {},
   "outputs": [],
   "source": [
    "# Confidence interval"
   ]
  }
 ],
 "metadata": {
  "kernelspec": {
   "display_name": "Python 3",
   "language": "python",
   "name": "python3"
  },
  "language_info": {
   "codemirror_mode": {
    "name": "ipython",
    "version": 3
   },
   "file_extension": ".py",
   "mimetype": "text/x-python",
   "name": "python",
   "nbconvert_exporter": "python",
   "pygments_lexer": "ipython3",
   "version": "3.8.5"
  }
 },
 "nbformat": 4,
 "nbformat_minor": 4
}
