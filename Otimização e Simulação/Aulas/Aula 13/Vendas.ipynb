{
 "cells": [
  {
   "cell_type": "code",
   "execution_count": 3,
   "metadata": {},
   "outputs": [],
   "source": [
    "import numpy as np\n",
    "import scipy.stats as stats\n",
    "import matplotlib.pyplot as plt"
   ]
  },
  {
   "cell_type": "code",
   "execution_count": 20,
   "metadata": {},
   "outputs": [],
   "source": [
    "n = 100000\n",
    "\n",
    "L = stats.norm.rvs(1500,100,n)\n",
    "C = stats.norm.rvs(0.5,0.1,n)\n",
    "R = stats.norm.rvs(3/100,1/100,n)\n",
    "P = stats.norm.rvs(50,3,n)\n",
    "H = 800"
   ]
  },
  {
   "cell_type": "code",
   "execution_count": 21,
   "metadata": {},
   "outputs": [],
   "source": [
    "Lucro = np.zeros(n)\n",
    "for i in range(n):\n",
    "    Lucro[i] = L[i]*R[i]*P[i] - (H+L[i]*C[i])"
   ]
  },
  {
   "cell_type": "code",
   "execution_count": 22,
   "metadata": {},
   "outputs": [
    {
     "data": {
      "image/png": "[encoded data removed]",
      "text/plain": [
       "<Figure size 432x288 with 1 Axes>"
      ]
     },
     "metadata": {
      "needs_background": "light"
     },
     "output_type": "display_data"
    }
   ],
   "source": [
    "plt.hist( Lucro , bins=100, edgecolor='black');"
   ]
  },
  {
   "cell_type": "code",
   "execution_count": 23,
   "metadata": {},
   "outputs": [
    {
     "name": "stdout",
     "output_type": "stream",
     "text": [
      "Valor mínimo: -2755.509414\n",
      "Valor máximo: 4541.355799\n",
      "Média: 701.744253\n",
      "Desvio padrão: 788.584136\n"
     ]
    }
   ],
   "source": [
    "resumo = stats.describe(Lucro)\n",
    "\n",
    "print('Valor mínimo: %.6f'%resumo.minmax[0])\n",
    "print('Valor máximo: %.6f'%resumo.minmax[1])\n",
    "print('Média: %.6f'%resumo.mean)\n",
    "print('Desvio padrão: %.6f'%np.sqrt(resumo.variance))"
   ]
  },
  {
   "cell_type": "code",
   "execution_count": 24,
   "metadata": {},
   "outputs": [
    {
     "data": {
      "text/plain": [
       "<matplotlib.lines.Line2D at 0x21a1a68f820>"
      ]
     },
     "execution_count": 24,
     "metadata": {},
     "output_type": "execute_result"
    },
    {
     "data": {
      "image/png": "[encoded data removed]",
      "text/plain": [
       "<Figure size 432x288 with 1 Axes>"
      ]
     },
     "metadata": {
      "needs_background": "light"
     },
     "output_type": "display_data"
    }
   ],
   "source": [
    "x = np.linspace(Lucro.min(),Lucro.max(),100)\n",
    "\n",
    "mu = resumo.mean\n",
    "sigma = np.sqrt(resumo.variance)\n",
    "\n",
    "plt.plot( x , stats.norm.cdf(x,mu,sigma) )\n",
    "plt.axvline(x=2000, ymin=0, ymax=1, color = 'r')"
   ]
  },
  {
   "cell_type": "code",
   "execution_count": 26,
   "metadata": {},
   "outputs": [
    {
     "name": "stdout",
     "output_type": "stream",
     "text": [
      "A probabilidade de lucro maior que R$ 2000 é 4.985%\n",
      "A probabilidade de dar prejuízo é 18.677%\n"
     ]
    }
   ],
   "source": [
    "# c, loc, scale -> c é o parâmetro da distribuição\n",
    "prob = stats.norm.sf(2000,mu,sigma)\n",
    "print('A probabilidade de lucro maior que R$ 2000 é %.3f%%'%(prob*100) )\n",
    "\n",
    "# Pelo menos 30 min\n",
    "prob = stats.norm.cdf(0,mu,sigma)\n",
    "print('A probabilidade de dar prejuízo é %.3f%%'%(prob*100) )\n"
   ]
  }
 ],
 "metadata": {
  "kernelspec": {
   "display_name": "Python 3",
   "language": "python",
   "name": "python3"
  },
  "language_info": {
   "codemirror_mode": {
    "name": "ipython",
    "version": 3
   },
   "file_extension": ".py",
   "mimetype": "text/x-python",
   "name": "python",
   "nbconvert_exporter": "python",
   "pygments_lexer": "ipython3",
   "version": "3.8.5"
  }
 },
 "nbformat": 4,
 "nbformat_minor": 4
}
