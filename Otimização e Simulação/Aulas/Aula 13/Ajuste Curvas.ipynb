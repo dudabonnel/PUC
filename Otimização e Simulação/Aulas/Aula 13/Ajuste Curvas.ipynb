{
 "cells": [
  {
   "cell_type": "code",
   "execution_count": 37,
   "metadata": {},
   "outputs": [],
   "source": [
    "import matplotlib.pyplot as plt\n",
    "from scipy.optimize import curve_fit, minimize\n",
    "import warnings\n",
    "warnings.filterwarnings(\"ignore\")"
   ]
  },
  {
   "cell_type": "code",
   "execution_count": 33,
   "metadata": {},
   "outputs": [],
   "source": [
    "def func(X, b0, b1, b2, b12, b11, b22):\n",
    "    x1,x2 = X\n",
    "    return b0 + b1*x1 + b2*x2 + b12*x1*x2 + b11*x1**2 + b22*x2**2"
   ]
  },
  {
   "cell_type": "code",
   "execution_count": 29,
   "metadata": {},
   "outputs": [],
   "source": [
    "x1 = [80, 80, 80, 80, 150, 178.995, -18.995, 80, 80, 150, 10, 80, 10]\n",
    "x2 = [13.864, 7.5, 7.5, 7.5, 12, 7.5, 7.5, 7.5, 7.5, 3, 12, 1.136, 3]\n",
    "y  = [501.413, 39.885, 40.1, 39.885, 424.19, 355.97, 329.44, 40.5, 40.55, 473.69, 405.43, 571.417, 454.93]\n",
    "\n",
    "p0 = [1,1,1,1,1,1]"
   ]
  },
  {
   "cell_type": "code",
   "execution_count": 39,
   "metadata": {},
   "outputs": [
    {
     "data": {
      "text/plain": [
       "array([ 9.57483208e+02, -4.80514105e+00, -1.89287600e+02, -1.17288401e-11,\n",
       "        3.08696211e-02,  1.22525067e+01])"
      ]
     },
     "execution_count": 39,
     "metadata": {},
     "output_type": "execute_result"
    }
   ],
   "source": [
    "p = curve_fit(func, (x1,x2), y, p0)\n",
    "b = p[0];\n",
    "b"
   ]
  },
  {
   "cell_type": "code",
   "execution_count": 35,
   "metadata": {},
   "outputs": [],
   "source": [
    "def func2(X, args):\n",
    "    x1,x2 = X\n",
    "    b0, b1, b2, b12, b11, b22 = args\n",
    "    return b0 + b1*x1 + b2*x2 + b12*x1*x2 + b11*x1**2 + b22*x2**2"
   ]
  },
  {
   "cell_type": "code",
   "execution_count": 42,
   "metadata": {},
   "outputs": [
    {
     "data": {
      "text/plain": [
       "array([77.82962643,  7.72444288])"
      ]
     },
     "execution_count": 42,
     "metadata": {},
     "output_type": "execute_result"
    }
   ],
   "source": [
    "x0 = [80, 10]\n",
    "\n",
    "res = minimize(func2, x0, args=b, method='Nelder-Mead');\n",
    "res.x"
   ]
  }
 ],
 "metadata": {
  "kernelspec": {
   "display_name": "Python 3",
   "language": "python",
   "name": "python3"
  },
  "language_info": {
   "codemirror_mode": {
    "name": "ipython",
    "version": 3
   },
   "file_extension": ".py",
   "mimetype": "text/x-python",
   "name": "python",
   "nbconvert_exporter": "python",
   "pygments_lexer": "ipython3",
   "version": "3.8.5"
  }
 },
 "nbformat": 4,
 "nbformat_minor": 4
}
