{
  "cells": [
    {
      "cell_type": "code",
      "source": [
        "!pip install pulp"
      ],
      "metadata": {
        "colab": {
          "base_uri": "https://localhost:8080/"
        },
        "id": "ZMFSlzADcvZU",
        "outputId": "e4ff0c2d-fd76-44da-8477-f290d9aa49c7"
      },
      "execution_count": null,
      "outputs": [
        {
          "output_type": "stream",
          "name": "stdout",
          "text": [
            "Collecting pulp\n",
            "  Downloading PuLP-2.6.0-py3-none-any.whl (14.2 MB)\n",
            "\u001b[K     |████████████████████████████████| 14.2 MB 5.3 MB/s \n",
            "\u001b[?25hInstalling collected packages: pulp\n",
            "Successfully installed pulp-2.6.0\n"
          ]
        }
      ]
    },
    {
      "cell_type": "code",
      "execution_count": null,
      "metadata": {
        "id": "reEzSn8LcMlE"
      },
      "outputs": [],
      "source": [
        "from pulp import *"
      ]
    },
    {
      "cell_type": "code",
      "execution_count": null,
      "metadata": {
        "id": "1Sl5ND0pcMlI"
      },
      "outputs": [],
      "source": [
        "# Criar variáveis\n",
        "x11 = LpVariable('x11', lowBound=0, cat='Continuous')\n",
        "x12 = LpVariable('x12', lowBound=0, cat='Continuous')\n",
        "x13 = LpVariable('x13', lowBound=0, cat='Continuous')\n",
        "\n",
        "x21 = LpVariable('x21', lowBound=0, cat='Continuous')\n",
        "x22 = LpVariable('x22', lowBound=0, cat='Continuous')\n",
        "x23 = LpVariable('x23', lowBound=0, cat='Continuous')\n",
        "\n",
        "# Criar o problema\n",
        "prob = LpProblem('Engradado',LpMinimize)"
      ]
    },
    {
      "cell_type": "code",
      "execution_count": null,
      "metadata": {
        "id": "hboDGAo8cMlI"
      },
      "outputs": [],
      "source": [
        "# Incluir a função objetivo ao problema criado\n",
        "prob += 13*x11 + 8*x12 + 9*x13 + \\\n",
        "        12*x21 + 10*x22 + 10*x23\n",
        "\n",
        "# Incluir as restrições ao problema\n",
        "\n",
        "# Fornecimento\n",
        "prob += x11 + x12 + x13 <= 10000\n",
        "prob += x21 + x22 + x23 <= 15000\n",
        "\n",
        "# Demanda\n",
        "prob += x11 + x21 >= 10000\n",
        "prob += x12 + x22 >= 4000\n",
        "prob += x13 + x23 >= 11000"
      ]
    },
    {
      "cell_type": "code",
      "execution_count": null,
      "metadata": {
        "colab": {
          "base_uri": "https://localhost:8080/"
        },
        "id": "f_tCGaPvcMlJ",
        "outputId": "00242970-35d4-4df7-8e22-137b26eecb47"
      },
      "outputs": [
        {
          "output_type": "execute_result",
          "data": {
            "text/plain": [
              "1"
            ]
          },
          "metadata": {},
          "execution_count": 8
        }
      ],
      "source": [
        "# Solucionar o problema\n",
        "prob.solve()"
      ]
    },
    {
      "cell_type": "code",
      "execution_count": null,
      "metadata": {
        "colab": {
          "base_uri": "https://localhost:8080/"
        },
        "id": "IqI_SUdTcMlK",
        "outputId": "b3dcd03a-8e2b-4bd1-9025-5870c820d32d"
      },
      "outputs": [
        {
          "output_type": "stream",
          "name": "stdout",
          "text": [
            "Status: Optimal\n"
          ]
        }
      ],
      "source": [
        "# Imprime o satus da solução: ótima ou não\n",
        "print('Status:',LpStatus[prob.status])"
      ]
    },
    {
      "cell_type": "code",
      "execution_count": null,
      "metadata": {
        "colab": {
          "base_uri": "https://localhost:8080/"
        },
        "id": "VZK8FtulcMlK",
        "outputId": "d3d0b6cd-3b7c-4351-e6eb-4caaaec232b5"
      },
      "outputs": [
        {
          "output_type": "stream",
          "name": "stdout",
          "text": [
            "x11 = 0.0\n",
            "x12 = 4000.0\n",
            "x13 = 6000.0\n",
            "x21 = 10000.0\n",
            "x22 = 0.0\n",
            "x23 = 5000.0\n"
          ]
        }
      ],
      "source": [
        "# Mostrar a solução\n",
        "for v in prob.variables():\n",
        "    print(v.name,'=',v.varValue)"
      ]
    },
    {
      "cell_type": "code",
      "execution_count": null,
      "metadata": {
        "colab": {
          "base_uri": "https://localhost:8080/"
        },
        "id": "FNky1H_hcMlL",
        "outputId": "7f71f264-e7c1-4bb1-d86e-c84e9ea9bd61"
      },
      "outputs": [
        {
          "output_type": "stream",
          "name": "stdout",
          "text": [
            "Valor da função objetivo =  256000.0\n"
          ]
        }
      ],
      "source": [
        "# Mostrar o valor da função objetivo\n",
        "print('Valor da função objetivo = ', value(prob.objective))"
      ]
    }
  ],
  "metadata": {
    "kernelspec": {
      "display_name": "Python 3 (ipykernel)",
      "language": "python",
      "name": "python3"
    },
    "language_info": {
      "codemirror_mode": {
        "name": "ipython",
        "version": 3
      },
      "file_extension": ".py",
      "mimetype": "text/x-python",
      "name": "python",
      "nbconvert_exporter": "python",
      "pygments_lexer": "ipython3",
      "version": "3.8.8"
    },
    "colab": {
      "name": "Aula_6.ipynb",
      "provenance": []
    }
  },
  "nbformat": 4,
  "nbformat_minor": 0
}