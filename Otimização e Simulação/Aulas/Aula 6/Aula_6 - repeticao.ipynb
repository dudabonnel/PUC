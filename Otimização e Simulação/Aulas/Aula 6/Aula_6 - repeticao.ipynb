{
 "cells": [
  {
   "cell_type": "code",
   "execution_count": 1,
   "metadata": {},
   "outputs": [],
   "source": [
    "from pulp import *"
   ]
  },
  {
   "cell_type": "code",
   "execution_count": 2,
   "metadata": {},
   "outputs": [],
   "source": [
    "# Criar variáveis\n",
    "x11 = LpVariable('x11', lowBound=0, cat='Continuous')\n",
    "x12 = LpVariable('x12', lowBound=0, cat='Continuous')\n",
    "x21 = LpVariable('x21', lowBound=0, cat='Continuous')\n",
    "x22 = LpVariable('x22', lowBound=0, cat='Continuous')\n",
    "x31 = LpVariable('x31', lowBound=0, cat='Continuous')\n",
    "x32 = LpVariable('x32', lowBound=0, cat='Continuous')\n",
    "\n",
    "# Criar o problema\n",
    "prob = LpProblem('Laranja',LpMinimize)"
   ]
  },
  {
   "cell_type": "code",
   "execution_count": 3,
   "metadata": {},
   "outputs": [],
   "source": [
    "# Incluir a função objetivo ao problema criado\n",
    "prob += 15*x11 + 20*x12 + 12*x21 + 15*x22 + 21*x31 + 7*x32\n",
    "\n",
    "# Incluir as restrições ao problema\n",
    "\n",
    "# Fornecimento\n",
    "prob += x11 + x12 == 10000\n",
    "prob += x21 + x22 == 15000\n",
    "prob += x31 + x32 == 5000\n",
    "\n",
    "# Demanda\n",
    "prob += x11 + x21 + x31 == 15000\n",
    "prob += x12 + x22 + x32 == 15000"
   ]
  },
  {
   "cell_type": "code",
   "execution_count": 5,
   "metadata": {},
   "outputs": [
    {
     "data": {
      "text/plain": [
       "1"
      ]
     },
     "execution_count": 5,
     "metadata": {},
     "output_type": "execute_result"
    }
   ],
   "source": [
    "# Solucionar o problema\n",
    "prob.solve()"
   ]
  },
  {
   "cell_type": "code",
   "execution_count": 6,
   "metadata": {},
   "outputs": [
    {
     "name": "stdout",
     "output_type": "stream",
     "text": [
      "Status: Optimal\n"
     ]
    }
   ],
   "source": [
    "# Imprime o satus da solução: ótima ou não\n",
    "print('Status:',LpStatus[prob.status])"
   ]
  },
  {
   "cell_type": "code",
   "execution_count": 7,
   "metadata": {},
   "outputs": [
    {
     "name": "stdout",
     "output_type": "stream",
     "text": [
      "x11 = 10000.0\n",
      "x12 = 0.0\n",
      "x21 = 5000.0\n",
      "x22 = 10000.0\n",
      "x31 = 0.0\n",
      "x32 = 5000.0\n"
     ]
    }
   ],
   "source": [
    "# Mostrar a solução\n",
    "for v in prob.variables():\n",
    "    print(v.name,'=',v.varValue)"
   ]
  },
  {
   "cell_type": "code",
   "execution_count": 8,
   "metadata": {},
   "outputs": [
    {
     "name": "stdout",
     "output_type": "stream",
     "text": [
      "Valor da função objetivo =  395000.0\n"
     ]
    }
   ],
   "source": [
    "# Mostrar o valor da função objetivo\n",
    "print('Valor da função objetivo = ', value(prob.objective))"
   ]
  },
  {
   "cell_type": "code",
   "execution_count": null,
   "metadata": {},
   "outputs": [],
   "source": []
  }
 ],
 "metadata": {
  "kernelspec": {
   "display_name": "Python 3 (ipykernel)",
   "language": "python",
   "name": "python3"
  },
  "language_info": {
   "codemirror_mode": {
    "name": "ipython",
    "version": 3
   },
   "file_extension": ".py",
   "mimetype": "text/x-python",
   "name": "python",
   "nbconvert_exporter": "python",
   "pygments_lexer": "ipython3",
   "version": "3.8.8"
  }
 },
 "nbformat": 4,
 "nbformat_minor": 4
}
