{
 "cells": [
  {
   "attachments": {},
   "cell_type": "markdown",
   "metadata": {},
   "source": [
    "# Experimento 01 – Multiplicação de Matrizes"
   ]
  },
  {
   "attachments": {},
   "cell_type": "markdown",
   "metadata": {},
   "source": [
    "### Grupo:\n",
    "\n",
    "<table align=\"left\" style=font-size:15px>\n",
    "<thead>\n",
    "  <tr>\n",
    "    <th style=\"text-align:left;\">Nome</th>\n",
    "    <th style=\"text-align:left;\">RA</th>\n",
    "  </tr>\n",
    "</thead>\n",
    "<tbody>\n",
    "  </tr>\n",
    "    <tr>\n",
    "    <td style=\"text-align:left;\">Carlos Eduardo de Oliveira</td>\n",
    "    <td>RA00297792</td>\n",
    "  </tr>\n",
    "  <tr>\n",
    "    <td style=\"text-align:left;\">Isaac Higuchi</td>\n",
    "    <td>RA00306191</td>\n",
    "  </tr>\n",
    "  <tr>\n",
    "    <td style=\"text-align:left;\">Lucas Lopes Amorim</td>\n",
    "    <td>RA00303799</td>\n",
    "</tbody>\n",
    "</table>"
   ]
  },
  {
   "attachments": {},
   "cell_type": "markdown",
   "metadata": {},
   "source": [
    "A multiplicação de matrizes é uma operação muito utilizada na área de computação. Em  computação  gráfica  e  jogos  os  objetos  gráficos  no  vídeo  do  computador  são manipulados  através  da  multiplicação  de  matrizes  que  representam  transformações geométricas como: reflexões, contrações, rotações, projeções, translações etc. Enquanto muitas destas transformações são lineares, como por exemplo as reflexões, contrações e projeções,  as  translações  e  rotações  fora  da  origem  não  são  lineares  1.  Além  da computação  gráfica,  multiplicação  de  matrizes  são  utilizadas  na  área  de  Inteligência Artificial. A maioria das operações de deep learning e machine learning são em vetores e  matrizes.  Nos  links  abaixo  você  encontrará  as  informações  de  como  multiplicar matrizes. Fique à vontade para consultar outros sites sobre o assunto durante o laboratório.\n",
    "\n",
    "- https://www.todamateria.com.br/multiplicacao-de-matrizes/\n",
    "- https://brasilescola.uol.com.br/matematica/multiplicacao-matrizes.htm\n",
    "\n",
    "Considerando a importância dessa operação matemática para a área de computação, cumpra as seguintes etapas propostas para o experimento.  \n",
    " \n",
    "**[Etapa I:](#etapa-i)** Implementar um programa sequencial na linguagem Python para multiplicação \n",
    "de duas matrizes NxN. Após a implementação faça os testes necessários.\n",
    "\n",
    "**[Etapa  II:](#etapa-ii)**  Após  a  implementação  faça  uma  análise  do  desempenho  do  algoritmo \n",
    "implementado e calcule o tempo para a computação da operação considerando uma matriz \n",
    "de dimensão 500X500. Inicialize com dados aleatórios antes do processamento.  \n",
    "\n",
    "**[Etapa III:](#etapa-iii)** Implementar um programa paralelo em Python usando Numba para \n",
    "multiplicação de duas matrizes NxN. Utilize um conjunto de 4 threads para o \n",
    "processamento paralelo.  \n",
    "\n",
    "**[Etapa IV:](#etapa-iv)** Calcule o tempo para a computação da operação considerando uma matriz de \n",
    "dimensão 500X500 e conjuntos de 2, 4 e 9 threads. Inicialize com dados aleatórios antes \n",
    "do processamento. \n",
    "\n",
    "**[Etapa V:](#etapa-v)** Calcule o SpeedUp da solução paralela proposta na etapa III. Indique no final \n",
    "do cálculo as informações de configuração do hardware utilizado (CPU, Clock, Cache, \n",
    "memória RAM e SO). "
   ]
  },
  {
   "attachments": {},
   "cell_type": "markdown",
   "metadata": {},
   "source": [
    "### Exemplo de multiplicação de matrizes.\n",
    "$$\n",
    "    \\begin{bmatrix}\n",
    "        a_{11} & a_{12} & \\cdots & a_{1n}\\\\\n",
    "        a_{21} & a_{22} & \\cdots & a_{2n}\\\\ \n",
    "        \\vdots & \\vdots & \\ddots & \\vdots\\\\ \n",
    "        a_{m1} & a_{m2} & \\cdots & a_{mn} \n",
    "    \\end{bmatrix}\n",
    "    \\times\n",
    "    \\begin{bmatrix}\n",
    "        b_{11} & b_{12} & \\cdots & b_{1p}\\\\\n",
    "        b_{21} & b_{22} & \\cdots & b_{2p}\\\\ \n",
    "        \\vdots & \\vdots & \\ddots & \\vdots\\\\ \n",
    "        b_{n1} & b_{n2} & \\cdots & b_{np} \n",
    "    \\end{bmatrix}\n",
    "    =\n",
    "    \\begin{bmatrix}\n",
    "        c_{11} & c_{12} & \\cdots & c_{1p}\\\\\n",
    "        c_{21} & c_{22} & \\cdots & c_{2p}\\\\ \n",
    "        \\vdots & \\vdots & \\ddots & \\vdots\\\\ \n",
    "        c_{m1} & c_{m2} & \\cdots & c_{mp} \n",
    "    \\end{bmatrix}\n",
    "$$\n",
    "$$ c_{ij}= a_{i1} b_{1j} + a_{i2} b_{2j} +\\cdots+ a_{in} + b_{nj} = \\sum_{k=1}^n a_{ik}b_{kj} $$   \n",
    "\n",
    "[Referência](https://www.physicsread.com/latex-matrix-multiplication/)"
   ]
  },
  {
   "cell_type": "code",
   "execution_count": 1,
   "metadata": {},
   "outputs": [],
   "source": [
    "def print_matriz(A):\n",
    "    \"\"\"\n",
    "    Função auxiliar para facilitar a visualização das matrizes\n",
    "    \"\"\"\n",
    "    for row in (A):\n",
    "        print(str(row).replace(',', ''))"
   ]
  },
  {
   "cell_type": "code",
   "execution_count": 2,
   "metadata": {},
   "outputs": [],
   "source": [
    "# Dicionário para armazenar o tempo gasto com cada tipo de implementação\n",
    "tempo_por_implementacao = dict()\n",
    "# Variável para controlar quantas vezes o tempo de cada implementação será calculado\n",
    "# Desconsiderado na implementação sequencial pois o tempo de execução seria muito longo\n",
    "N_EXPERIMENTOS = 10"
   ]
  },
  {
   "attachments": {},
   "cell_type": "markdown",
   "metadata": {},
   "source": [
    "## Etapa I\n",
    "\n",
    "[Voltar ao topo](#experimento-01-–-multiplicação-de-matrizes)"
   ]
  },
  {
   "attachments": {},
   "cell_type": "markdown",
   "metadata": {},
   "source": [
    "Implementar um programa sequencial na linguagem Python para multiplicação de duas matrizes NxN. Após a implementação faça os testes necessários."
   ]
  },
  {
   "cell_type": "code",
   "execution_count": 3,
   "metadata": {},
   "outputs": [],
   "source": [
    "def MM_python_sequencial(A, B):\n",
    "    \"\"\"\n",
    "    Multiplicação de matrizes em Python calculada sequencialmente sem usar bibliotecas externas\n",
    "\n",
    "    Args\n",
    "    ------\n",
    "        A: matriz m x x\n",
    "        B: matriz n x p\n",
    "    \n",
    "    Returns\n",
    "    -------\n",
    "        C: matriz m x n\n",
    "    \"\"\"\n",
    "    # Testando se o número de linhas da primeira é igual ao número de colunas da segunda\n",
    "    if len(A) != len(B[0]):\n",
    "        raise ValueError('O número de linhas da primeira matriz deve ser igual ao número de colunas da segunda')\n",
    "    \n",
    "    C = []\n",
    "    for i in range(len(A)):\n",
    "        ci=[]\n",
    "        for j in range(len(B[0])):\n",
    "            cij = 0\n",
    "            for k in range(len(A[0])):\n",
    "                cij += A[i][k]*B[k][j]\n",
    "            ci.append(cij)\n",
    "        C.append(ci)\n",
    "    \n",
    "    return C"
   ]
  },
  {
   "attachments": {},
   "cell_type": "markdown",
   "metadata": {},
   "source": [
    "### Testando propriedade das matrizes\n",
    "\n",
    "#### Uma matriz multiplicada pela sua inversa é igual a sua identidade"
   ]
  },
  {
   "cell_type": "code",
   "execution_count": 4,
   "metadata": {},
   "outputs": [],
   "source": [
    "A = [\n",
    "    [2, 1],\n",
    "    [5, 3]\n",
    "]\n",
    "\n",
    "inv_A = [\n",
    "    [3, -1],\n",
    "    [-5, 2]\n",
    "]"
   ]
  },
  {
   "cell_type": "code",
   "execution_count": 5,
   "metadata": {},
   "outputs": [
    {
     "name": "stdout",
     "output_type": "stream",
     "text": [
      "[1 0]\n",
      "[0 1]\n"
     ]
    }
   ],
   "source": [
    "result = MM_python_sequencial(A, inv_A)\n",
    "print_matriz(result)"
   ]
  },
  {
   "attachments": {},
   "cell_type": "markdown",
   "metadata": {},
   "source": [
    "Resultado esperado:\n",
    "$$\n",
    "    \\begin{bmatrix}\n",
    "        1 & 0 \\\\\n",
    "        0 & 1 \\\\\n",
    "    \\end{bmatrix}\n",
    "$$"
   ]
  },
  {
   "attachments": {},
   "cell_type": "markdown",
   "metadata": {},
   "source": [
    "#### Para a multiplicação, o número de linhas da primeira deve ser igual ao número de colunas da segunda, caso contrário é esperado um erro"
   ]
  },
  {
   "cell_type": "code",
   "execution_count": 6,
   "metadata": {},
   "outputs": [],
   "source": [
    "B = [\n",
    "    [9, 4, 0],\n",
    "    [5, 4, 2],\n",
    "    [1, 1, 6]\n",
    "]"
   ]
  },
  {
   "cell_type": "code",
   "execution_count": 7,
   "metadata": {},
   "outputs": [],
   "source": [
    "# Comentado para não parar a execução do caderno\n",
    "# result = MM_python_sequencial(A, B)"
   ]
  },
  {
   "attachments": {},
   "cell_type": "markdown",
   "metadata": {},
   "source": [
    "Resultado esperado:\n",
    "\n",
    "**ValueError: O número de linhas da primeira matriz deve ser igual ao número de colunas da segunda**"
   ]
  },
  {
   "attachments": {},
   "cell_type": "markdown",
   "metadata": {},
   "source": [
    "## Etapa II\n",
    "\n",
    "[Voltar ao topo](#experimento-01-–-multiplicação-de-matrizes)"
   ]
  },
  {
   "attachments": {},
   "cell_type": "markdown",
   "metadata": {},
   "source": [
    "Após  a  implementação  faça  uma  análise  do  desempenho  do  algoritmo implementado e calcule o tempo para a computação da operação considerando uma matriz de dimensão 500X500. Inicialize com dados aleatórios antes do processamento.  "
   ]
  },
  {
   "cell_type": "code",
   "execution_count": 8,
   "metadata": {},
   "outputs": [],
   "source": [
    "import random\n",
    "import time"
   ]
  },
  {
   "cell_type": "code",
   "execution_count": 9,
   "metadata": {},
   "outputs": [],
   "source": [
    "# Criando matriz aleatória de números entre 0-9\n",
    "ordem = 500\n",
    "random.seed(42)\n",
    "A = [[random.randint(0, 9) for j in range(ordem)] for i in range(ordem)]\n",
    "B = [[random.randint(0, 9) for j in range(ordem)] for i in range(ordem)]"
   ]
  },
  {
   "cell_type": "code",
   "execution_count": 10,
   "metadata": {},
   "outputs": [
    {
     "name": "stdout",
     "output_type": "stream",
     "text": [
      "Tempo de execução: 26.61 segundos\n"
     ]
    }
   ],
   "source": [
    "start_time = time.time()\n",
    "result = MM_python_sequencial(A, B)\n",
    "final_time_py_seq = time.time() - start_time\n",
    "tempo_por_implementacao['sequencial'] = final_time_py_seq\n",
    "print(f'Tempo de execução: {final_time_py_seq:.2f} segundos')"
   ]
  },
  {
   "attachments": {},
   "cell_type": "markdown",
   "metadata": {},
   "source": [
    "## Etapa III\n",
    "\n",
    "[Voltar ao topo](#experimento-01-–-multiplicação-de-matrizes)"
   ]
  },
  {
   "attachments": {},
   "cell_type": "markdown",
   "metadata": {},
   "source": [
    "Implementar um programa paralelo em Python usando Numba para multiplicação de duas matrizes NxN. Utilize um conjunto de 4 threads para o processamento paralelo"
   ]
  },
  {
   "cell_type": "code",
   "execution_count": 11,
   "metadata": {},
   "outputs": [],
   "source": [
    "from numba import njit, prange, set_num_threads\n",
    "import numpy as np\n",
    "set_num_threads(4)"
   ]
  },
  {
   "cell_type": "code",
   "execution_count": 12,
   "metadata": {},
   "outputs": [],
   "source": [
    "@njit(parallel=True)\n",
    "def MM_numba_parallel(A, B):\n",
    "    \"\"\"\n",
    "    Multiplicação de matrizes em Python calculada paralelamente usando o numba\n",
    "\n",
    "    Args\n",
    "    ------\n",
    "        A: matriz m x x\n",
    "        B: matriz n x p\n",
    "    \n",
    "    Returns\n",
    "    -------\n",
    "        C: matriz m x n\n",
    "    \"\"\"\n",
    "\n",
    "    # Testando se o número de linhas da primeira é igual ao número de colunas da segunda\n",
    "    if A.shape[1] != B.shape[0]:\n",
    "        raise ValueError('O número de linhas da primeira matriz deve ser igual ao número de colunas da segunda')\n",
    "\n",
    "    # Usando numpy para criar uma matriz vazia para que os valores de cada elemento da matriz possam ser colocados\n",
    "    # em seu devido lugar paralelamente, sem precisar seguir uma ordem\n",
    "    C = np.zeros((A.shape[0], B.shape[1]))\n",
    "    for i in prange(A.shape[0]):\n",
    "        for j in prange(B.shape[1]):\n",
    "            cij = 0\n",
    "            for k in prange(A.shape[1]):\n",
    "                cij += A[i,k] * B[k,j]\n",
    "            C[i,j] = cij\n",
    "\n",
    "    return C"
   ]
  },
  {
   "cell_type": "code",
   "execution_count": 13,
   "metadata": {},
   "outputs": [
    {
     "name": "stdout",
     "output_type": "stream",
     "text": [
      "Tempo de execução: 3.22 segundos\n"
     ]
    }
   ],
   "source": [
    "start_time = time.time()\n",
    "result = MM_numba_parallel(np.array(A), np.array(B))\n",
    "final_time_py_numba4 = time.time() - start_time\n",
    "print(f'Tempo de execução: {final_time_py_numba4:.2f} segundos')"
   ]
  },
  {
   "attachments": {},
   "cell_type": "markdown",
   "metadata": {},
   "source": [
    "## Etapa IV\n",
    "\n",
    "[Voltar ao topo](#experimento-01-–-multiplicação-de-matrizes)"
   ]
  },
  {
   "attachments": {},
   "cell_type": "markdown",
   "metadata": {},
   "source": [
    "Calcule o tempo para a computação da operação considerando uma matriz de dimensão 500X500 e conjuntos de 2, 4 e 9 threads. Inicialize com dados aleatórios antes do processamento. "
   ]
  },
  {
   "cell_type": "code",
   "execution_count": 14,
   "metadata": {},
   "outputs": [
    {
     "name": "stdout",
     "output_type": "stream",
     "text": [
      "Tempo de execução para 2 threads: 0.201 segundos\n",
      "Tempo de execução para 4 threads: 0.145 segundos\n",
      "Tempo de execução para 8 threads: 0.129 segundos\n"
     ]
    }
   ],
   "source": [
    "tempos = dict()\n",
    "conjuntos_threads = [2, 4, 8]\n",
    "for _ in range(N_EXPERIMENTOS):\n",
    "    for num_thread in conjuntos_threads:\n",
    "        set_num_threads(num_thread)\n",
    "        start_time = time.time()\n",
    "        result = MM_numba_parallel(np.array(A), np.array(B))\n",
    "        final_time_numba = time.time() - start_time\n",
    "        tempos[num_thread] = tempos.get(num_thread, []) + [final_time_numba]\n",
    "\n",
    "for num_thread in conjuntos_threads:\n",
    "    tempo_medio = sum(tempos[num_thread]) / len(tempos[num_thread])\n",
    "    tempo_por_implementacao[f'paralelo {num_thread} threads'] = tempo_medio\n",
    "    print(f'Tempo de execução para {num_thread} threads: {tempo_medio:.3f} segundos')"
   ]
  },
  {
   "attachments": {},
   "cell_type": "markdown",
   "metadata": {},
   "source": [
    "Como esperado, como meu computador só tem 8 núcleos lógicos, não foi possível rodar o código com 9 threads. Então o experimento foi realizado com até 8 threads"
   ]
  },
  {
   "attachments": {},
   "cell_type": "markdown",
   "metadata": {},
   "source": [
    "## Etapa V\n",
    "\n",
    "[Voltar ao topo](#experimento-01-–-multiplicação-de-matrizes)"
   ]
  },
  {
   "attachments": {},
   "cell_type": "markdown",
   "metadata": {},
   "source": [
    "Calcule o SpeedUp da solução paralela proposta na etapa III. Indique no final do cálculo as informações de configuração do hardware utilizado (CPU, Clock, Cache, memória RAM e SO). "
   ]
  },
  {
   "cell_type": "code",
   "execution_count": 15,
   "metadata": {},
   "outputs": [],
   "source": [
    "from utils import plot_comparacao_implementacoes"
   ]
  },
  {
   "cell_type": "code",
   "execution_count": 16,
   "metadata": {},
   "outputs": [
    {
     "data": {
      "image/png": "[encoded data removed]",
      "text/plain": [
       "<Figure size 640x480 with 1 Axes>"
      ]
     },
     "metadata": {},
     "output_type": "display_data"
    }
   ],
   "source": [
    "plot_comparacao_implementacoes(tempo_por_implementacao)"
   ]
  },
  {
   "attachments": {},
   "cell_type": "markdown",
   "metadata": {},
   "source": [
    "### Configuração do hardware utilizado\n",
    "\n",
    "<table>\n",
    "  <tr>\n",
    "    <th>CPU</th>\n",
    "    <td>Intel Core i5-8250U</td>\n",
    "  </tr>\n",
    "  <tr>\n",
    "    <th>CPU BASE CLOCK</th>\n",
    "    <td>1.60 GHz</td>\n",
    "  </tr>\n",
    "    <tr>\n",
    "    <th>CPU CACHE</th>\n",
    "    <td>6 MB Intel® Smart Cache</td>\n",
    "    </tr>\n",
    "    <tr>\n",
    "    <th>MEMÓRIA RAM</th>\n",
    "    <td>8.0 GB</td>\n",
    "  </tr>\n",
    "    <tr>\n",
    "    <th>SISTEMA OPERACIONAL</th>\n",
    "    <td>Windows 10 Home v22H2</td>\n",
    "  </tr>\n",
    "</table>"
   ]
  }
 ],
 "metadata": {
  "kernelspec": {
   "display_name": "base",
   "language": "python",
   "name": "python3"
  },
  "language_info": {
   "codemirror_mode": {
    "name": "ipython",
    "version": 3
   },
   "file_extension": ".py",
   "mimetype": "text/x-python",
   "name": "python",
   "nbconvert_exporter": "python",
   "pygments_lexer": "ipython3",
   "version": "3.9.15"
  },
  "orig_nbformat": 4,
  "vscode": {
   "interpreter": {
    "hash": "665796ea3363072d3a6057ac2fdbe3c4fcb0d17a4b92295d9707f78e9c46c0af"
   }
  }
 },
 "nbformat": 4,
 "nbformat_minor": 2
}
