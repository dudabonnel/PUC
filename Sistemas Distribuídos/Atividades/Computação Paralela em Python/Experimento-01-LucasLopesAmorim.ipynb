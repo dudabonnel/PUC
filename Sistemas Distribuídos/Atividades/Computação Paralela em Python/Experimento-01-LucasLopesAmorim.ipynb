{
 "cells": [
  {
   "attachments": {},
   "cell_type": "markdown",
   "metadata": {},
   "source": [
    "# Experimento 01 – Multiplicação de Matrizes"
   ]
  },
  {
   "attachments": {},
   "cell_type": "markdown",
   "metadata": {},
   "source": [
    "A multiplicação de matrizes é uma operação muito utilizada na área de computação. Em  computação  gráfica  e  jogos  os  objetos  gráficos  no  vídeo  do  computador  são manipulados  através  da  multiplicação  de  matrizes  que  representam  transformações geométricas como: reflexões, contrações, rotações, projeções, translações etc. Enquanto muitas destas transformações são lineares, como por exemplo as reflexões, contrações e projeções,  as  translações  e  rotações  fora  da  origem  não  são  lineares  1.  Além  da computação  gráfica,  multiplicação  de  matrizes  são  utilizadas  na  área  de  Inteligência Artificial. A maioria das operações de deep learning e machine learning são em vetores e  matrizes.  Nos  links  abaixo  você  encontrará  as  informações  de  como  multiplicar matrizes. Fique à vontade para consultar outros sites sobre o assunto durante o laboratório.\n",
    "\n",
    "- https://www.todamateria.com.br/multiplicacao-de-matrizes/\n",
    "- https://brasilescola.uol.com.br/matematica/multiplicacao-matrizes.htm\n",
    "\n",
    "Considerando a importância dessa operação matemática para a área de computação, cumpra as seguintes etapas propostas para o experimento.  \n",
    " \n",
    "**Etapa I:** Implementar um programa sequencial na linguagem Python para multiplicação \n",
    "de duas matrizes NxN. Após a implementação faça os testes necessários.\n",
    "\n",
    "**Etapa  II:**  Após  a  implementação  faça  uma  análise  do  desempenho  do  algoritmo \n",
    "implementado e calcule o tempo para a computação da operação considerando uma matriz \n",
    "de dimensão 500X500. Inicialize com dados aleatórios antes do processamento.  \n",
    "\n",
    "**Etapa III:** Implementar um programa paralelo em Python usando Numba para \n",
    "multiplicação de duas matrizes NxN. Utilize um conjunto de 4 threads para o \n",
    "processamento paralelo.  \n",
    "\n",
    "**[Etapa IV:](#etapa-iv)** Calcule o tempo para a computação da operação considerando uma matriz de \n",
    "dimensão 500X500 e conjuntos de 2, 4 e 9 threads. Inicialize com dados aleatórios antes \n",
    "do processamento. \n",
    "\n",
    "**Etapa V:** Calcule o SpeedUp da solução paralela proposta na etapa III. Indique no final \n",
    "do cálculo as informações de configuração do hardware utilizado (CPU, Clock, Cache, \n",
    "memória RAM e SO). "
   ]
  },
  {
   "attachments": {},
   "cell_type": "markdown",
   "metadata": {},
   "source": [
    "### Exemplo de multiplicação de matrizes.\n",
    "$$\n",
    "    \\begin{bmatrix}\n",
    "        a_{11} & a_{12} & \\cdots & a_{1n}\\\\\n",
    "        a_{21} & a_{22} & \\cdots & a_{2n}\\\\ \n",
    "        \\vdots & \\vdots & \\ddots & \\vdots\\\\ \n",
    "        a_{m1} & a_{m2} & \\cdots & a_{mn} \n",
    "    \\end{bmatrix}\n",
    "    \\times\n",
    "    \\begin{bmatrix}\n",
    "        b_{11} & b_{12} & \\cdots & b_{1p}\\\\\n",
    "        b_{21} & b_{22} & \\cdots & b_{2p}\\\\ \n",
    "        \\vdots & \\vdots & \\ddots & \\vdots\\\\ \n",
    "        b_{n1} & b_{n2} & \\cdots & b_{np} \n",
    "    \\end{bmatrix}\n",
    "    =\n",
    "    \\begin{bmatrix}\n",
    "        c_{11} & c_{12} & \\cdots & c_{1p}\\\\\n",
    "        c_{21} & c_{22} & \\cdots & c_{2p}\\\\ \n",
    "        \\vdots & \\vdots & \\ddots & \\vdots\\\\ \n",
    "        c_{m1} & c_{m2} & \\cdots & c_{mp} \n",
    "    \\end{bmatrix}\n",
    "$$\n",
    "$$ c_{ij}= a_{i1} b_{1j} + a_{i2} b_{2j} +\\cdots+ a_{in} + b_{nj} = \\sum_{k=1}^n a_{ik}b_{kj} $$   \n",
    "\n",
    "[Referência](https://www.physicsread.com/latex-matrix-multiplication/)"
   ]
  },
  {
   "cell_type": "code",
   "execution_count": 30,
   "metadata": {},
   "outputs": [],
   "source": [
    "def print_matriz(A):\n",
    "    \"\"\"\n",
    "    Função auxiliar para facilitar a visualização das matrizes\n",
    "    \"\"\"\n",
    "    for row in (A):\n",
    "        print(str(row).replace(',', ''))"
   ]
  },
  {
   "cell_type": "code",
   "execution_count": 31,
   "metadata": {},
   "outputs": [],
   "source": [
    "# Dicionário para armazenar o tempo gasto com cada tipo de implementação\n",
    "tempo_por_implementacao = dict()"
   ]
  },
  {
   "attachments": {},
   "cell_type": "markdown",
   "metadata": {},
   "source": [
    "## Etapa I"
   ]
  },
  {
   "attachments": {},
   "cell_type": "markdown",
   "metadata": {},
   "source": [
    "Implementar um programa sequencial na linguagem Python para multiplicação de duas matrizes NxN. Após a implementação faça os testes necessários."
   ]
  },
  {
   "cell_type": "code",
   "execution_count": 32,
   "metadata": {},
   "outputs": [],
   "source": [
    "def MM_python_sequencial(A, B):\n",
    "    \"\"\"\n",
    "    Multiplicação de matrizes em Python calculada sequencialmente sem usar bibliotecas externas\n",
    "    A: lista m x x\n",
    "    B: lista n x p\n",
    "    \n",
    "    \"\"\"\n",
    "    # Testando se o número de linhas da primeira é igual ao número de colunas da segunda\n",
    "    if len(A) != len(B[0]):\n",
    "        raise ValueError('O número de linhas da primeira matriz deve ser igual ao número de colunas da segunda')\n",
    "    \n",
    "    C = []\n",
    "    for i in range(len(A)):\n",
    "        ci=[]\n",
    "        for j in range(len(B[0])):\n",
    "            cij = 0\n",
    "            for k in range(len(A[0])):\n",
    "                cij += A[i][k]*B[k][j]\n",
    "            ci.append(cij)\n",
    "        C.append(ci)\n",
    "    \n",
    "    return C"
   ]
  },
  {
   "attachments": {},
   "cell_type": "markdown",
   "metadata": {},
   "source": [
    "### Testando propriedade das matrizes\n",
    "\n",
    "#### Uma matriz multiplicada pela sua inversa é igual a sua identidade"
   ]
  },
  {
   "cell_type": "code",
   "execution_count": 33,
   "metadata": {},
   "outputs": [],
   "source": [
    "A = [\n",
    "    [2, 1],\n",
    "    [5, 3]\n",
    "]\n",
    "\n",
    "inv_A = [\n",
    "    [3, -1],\n",
    "    [-5, 2]\n",
    "]"
   ]
  },
  {
   "cell_type": "code",
   "execution_count": 34,
   "metadata": {},
   "outputs": [
    {
     "name": "stdout",
     "output_type": "stream",
     "text": [
      "[1 0]\n",
      "[0 1]\n"
     ]
    }
   ],
   "source": [
    "result = MM_python_sequencial(A, inv_A)\n",
    "print_matriz(result)"
   ]
  },
  {
   "attachments": {},
   "cell_type": "markdown",
   "metadata": {},
   "source": [
    "Resultado esperado:\n",
    "$$\n",
    "    \\begin{bmatrix}\n",
    "        1 & 0 \\\\\n",
    "        0 & 1 \\\\\n",
    "    \\end{bmatrix}\n",
    "$$"
   ]
  },
  {
   "attachments": {},
   "cell_type": "markdown",
   "metadata": {},
   "source": [
    "#### Para a multiplicação, o número de linhas da primeira deve ser igual ao número de colunas da segunda, caso contrário é esperado um erro"
   ]
  },
  {
   "cell_type": "code",
   "execution_count": 35,
   "metadata": {},
   "outputs": [],
   "source": [
    "B = [\n",
    "    [9, 4, 0],\n",
    "    [5, 4, 2],\n",
    "    [1, 1, 6]\n",
    "]"
   ]
  },
  {
   "cell_type": "code",
   "execution_count": 36,
   "metadata": {},
   "outputs": [
    {
     "ename": "ValueError",
     "evalue": "O número de linhas da primeira matriz deve ser igual ao número de colunas da segunda",
     "output_type": "error",
     "traceback": [
      "\u001b[1;31m---------------------------------------------------------------------------\u001b[0m",
      "\u001b[1;31mValueError\u001b[0m                                Traceback (most recent call last)",
      "Cell \u001b[1;32mIn[36], line 1\u001b[0m\n\u001b[1;32m----> 1\u001b[0m result \u001b[39m=\u001b[39m MM_python_sequencial(A, B)\n",
      "Cell \u001b[1;32mIn[32], line 10\u001b[0m, in \u001b[0;36mMM_python_sequencial\u001b[1;34m(A, B)\u001b[0m\n\u001b[0;32m      8\u001b[0m \u001b[39m# Testando se o número de linhas da primeira é igual ao número de colunas da segunda\u001b[39;00m\n\u001b[0;32m      9\u001b[0m \u001b[39mif\u001b[39;00m \u001b[39mlen\u001b[39m(A) \u001b[39m!=\u001b[39m \u001b[39mlen\u001b[39m(B[\u001b[39m0\u001b[39m]):\n\u001b[1;32m---> 10\u001b[0m     \u001b[39mraise\u001b[39;00m \u001b[39mValueError\u001b[39;00m(\u001b[39m'\u001b[39m\u001b[39mO número de linhas da primeira matriz deve ser igual ao número de colunas da segunda\u001b[39m\u001b[39m'\u001b[39m)\n\u001b[0;32m     12\u001b[0m C \u001b[39m=\u001b[39m []\n\u001b[0;32m     13\u001b[0m \u001b[39mfor\u001b[39;00m i \u001b[39min\u001b[39;00m \u001b[39mrange\u001b[39m(\u001b[39mlen\u001b[39m(A)):\n",
      "\u001b[1;31mValueError\u001b[0m: O número de linhas da primeira matriz deve ser igual ao número de colunas da segunda"
     ]
    }
   ],
   "source": [
    "result = MM_python_sequencial(A, B)"
   ]
  },
  {
   "attachments": {},
   "cell_type": "markdown",
   "metadata": {},
   "source": [
    "Resultado esperado:\n",
    "\n",
    "**ValueError: O número de linhas da primeira matriz deve ser igual ao número de colunas da segunda**"
   ]
  },
  {
   "attachments": {},
   "cell_type": "markdown",
   "metadata": {},
   "source": [
    "## Etapa II"
   ]
  },
  {
   "attachments": {},
   "cell_type": "markdown",
   "metadata": {},
   "source": [
    "Após  a  implementação  faça  uma  análise  do  desempenho  do  algoritmo implementado e calcule o tempo para a computação da operação considerando uma matriz de dimensão 500X500. Inicialize com dados aleatórios antes do processamento.  "
   ]
  },
  {
   "cell_type": "code",
   "execution_count": 37,
   "metadata": {},
   "outputs": [],
   "source": [
    "import random\n",
    "import time\n",
    "random.seed(42)"
   ]
  },
  {
   "cell_type": "code",
   "execution_count": 38,
   "metadata": {},
   "outputs": [],
   "source": [
    "# Criando matriz aleatória de números entre 0-9\n",
    "ordem = 500\n",
    "A = [[random.randint(0, 9) for j in range(ordem)] for i in range(ordem)]\n",
    "B = [[random.randint(0, 9) for j in range(ordem)] for i in range(ordem)]"
   ]
  },
  {
   "cell_type": "code",
   "execution_count": 39,
   "metadata": {},
   "outputs": [
    {
     "name": "stdout",
     "output_type": "stream",
     "text": [
      "Tempo de execução: 27.74 segundos\n"
     ]
    }
   ],
   "source": [
    "start_time = time.time()\n",
    "result = MM_python_sequencial(A, B)\n",
    "final_time_py_seq = time.time() - start_time\n",
    "tempo_por_implementacao['sequencial'] = final_time_py_seq\n",
    "print(f'Tempo de execução: {final_time_py_seq:.2f} segundos')"
   ]
  },
  {
   "cell_type": "markdown",
   "metadata": {},
   "source": [
    "## Etapa III"
   ]
  },
  {
   "attachments": {},
   "cell_type": "markdown",
   "metadata": {},
   "source": [
    "Implementar um programa paralelo em Python usando Numba para multiplicação de duas matrizes NxN. Utilize um conjunto de 4 threads para o processamento paralelo"
   ]
  },
  {
   "cell_type": "code",
   "execution_count": 40,
   "metadata": {},
   "outputs": [],
   "source": [
    "from numba import njit, prange, set_num_threads\n",
    "import numpy as np\n",
    "set_num_threads(4)"
   ]
  },
  {
   "cell_type": "code",
   "execution_count": 41,
   "metadata": {},
   "outputs": [],
   "source": [
    "@njit(parallel=True)\n",
    "def MM_numba_parallel(A, B):\n",
    "    \"\"\"\n",
    "    Multiplicação de matrizes em Python calculada sequencialmente sem usar bibliotecas externas\n",
    "    A: matriz m x x\n",
    "    B: matriz n x p\n",
    "    \n",
    "    \"\"\"\n",
    "\n",
    "    # Testando se o número de linhas da primeira é igual ao número de colunas da segunda\n",
    "    if A.shape[1] != B.shape[0]:\n",
    "        raise ValueError('O número de linhas da primeira matriz deve ser igual ao número de colunas da segunda')\n",
    "\n",
    "    # Usando numpy para criar uma matriz vazia para que os valores de cada elemento da matriz possam ser colocados\n",
    "    # em seu devido lugar paralelamente, sem precisar seguir uma ordem\n",
    "    C = np.zeros((A.shape[0], B.shape[1]))\n",
    "    for i in prange(A.shape[0]):\n",
    "        for j in prange(B.shape[1]):\n",
    "            cij = 0\n",
    "            for k in prange(A.shape[1]):\n",
    "                cij += A[i,k] * B[k,j]\n",
    "            C[i,j] = cij\n",
    "\n",
    "    return C"
   ]
  },
  {
   "cell_type": "code",
   "execution_count": 42,
   "metadata": {},
   "outputs": [
    {
     "name": "stdout",
     "output_type": "stream",
     "text": [
      "Tempo de execução: 1.98 segundos\n"
     ]
    }
   ],
   "source": [
    "start_time = time.time()\n",
    "result = MM_numba_parallel(np.array(A), np.array(B))\n",
    "final_time_py_numba4 = time.time() - start_time\n",
    "print(f'Tempo de execução: {final_time_py_numba4:.2f} segundos')"
   ]
  },
  {
   "attachments": {},
   "cell_type": "markdown",
   "metadata": {},
   "source": [
    "## Etapa IV\n",
    "\n",
    "[Voltar ao topo](#experimento-01-–-multiplicação-de-matrizes)"
   ]
  },
  {
   "attachments": {},
   "cell_type": "markdown",
   "metadata": {},
   "source": [
    "Calcule o tempo para a computação da operação considerando uma matriz de dimensão 500X500 e conjuntos de 2, 4 e 9 threads. Inicialize com dados aleatórios antes do processamento. "
   ]
  },
  {
   "cell_type": "code",
   "execution_count": 43,
   "metadata": {},
   "outputs": [],
   "source": [
    "conjuntos_threads = [2, 4, 9]"
   ]
  },
  {
   "cell_type": "code",
   "execution_count": 47,
   "metadata": {},
   "outputs": [
    {
     "name": "stdout",
     "output_type": "stream",
     "text": [
      "Tempo de execução para 2 threads: 0.20 segundos\n",
      "Tempo de execução para 4 threads: 0.15 segundos\n"
     ]
    },
    {
     "ename": "ValueError",
     "evalue": "The number of threads must be between 1 and 8",
     "output_type": "error",
     "traceback": [
      "\u001b[1;31m---------------------------------------------------------------------------\u001b[0m",
      "\u001b[1;31mValueError\u001b[0m                                Traceback (most recent call last)",
      "Cell \u001b[1;32mIn[47], line 3\u001b[0m\n\u001b[0;32m      1\u001b[0m conjuntos_threads \u001b[39m=\u001b[39m [\u001b[39m2\u001b[39m, \u001b[39m4\u001b[39m, \u001b[39m9\u001b[39m]\n\u001b[0;32m      2\u001b[0m \u001b[39mfor\u001b[39;00m num_thread \u001b[39min\u001b[39;00m conjuntos_threads:\n\u001b[1;32m----> 3\u001b[0m     set_num_threads(num_thread)\n\u001b[0;32m      4\u001b[0m     start_time \u001b[39m=\u001b[39m time\u001b[39m.\u001b[39mtime()\n\u001b[0;32m      5\u001b[0m     result \u001b[39m=\u001b[39m MM_numba_parallel(np\u001b[39m.\u001b[39marray(A), np\u001b[39m.\u001b[39marray(B))\n",
      "File \u001b[1;32mc:\\Users\\lucas\\anaconda3\\lib\\site-packages\\numba\\np\\ufunc\\parallel.py:607\u001b[0m, in \u001b[0;36mset_num_threads\u001b[1;34m(n)\u001b[0m\n\u001b[0;32m    605\u001b[0m \u001b[39mif\u001b[39;00m \u001b[39mnot\u001b[39;00m \u001b[39misinstance\u001b[39m(n, (\u001b[39mint\u001b[39m, np\u001b[39m.\u001b[39minteger)):\n\u001b[0;32m    606\u001b[0m     \u001b[39mraise\u001b[39;00m \u001b[39mTypeError\u001b[39;00m(\u001b[39m\"\u001b[39m\u001b[39mThe number of threads specified must be an integer\u001b[39m\u001b[39m\"\u001b[39m)\n\u001b[1;32m--> 607\u001b[0m snt_check(n)\n\u001b[0;32m    608\u001b[0m _set_num_threads(n)\n",
      "File \u001b[1;32mc:\\Users\\lucas\\anaconda3\\lib\\site-packages\\numba\\np\\ufunc\\parallel.py:569\u001b[0m, in \u001b[0;36mgen_snt_check.<locals>.snt_check\u001b[1;34m(n)\u001b[0m\n\u001b[0;32m    567\u001b[0m \u001b[39mdef\u001b[39;00m \u001b[39msnt_check\u001b[39m(n):\n\u001b[0;32m    568\u001b[0m     \u001b[39mif\u001b[39;00m n \u001b[39m>\u001b[39m NUMBA_NUM_THREADS \u001b[39mor\u001b[39;00m n \u001b[39m<\u001b[39m \u001b[39m1\u001b[39m:\n\u001b[1;32m--> 569\u001b[0m         \u001b[39mraise\u001b[39;00m \u001b[39mValueError\u001b[39;00m(msg)\n",
      "\u001b[1;31mValueError\u001b[0m: The number of threads must be between 1 and 8"
     ]
    }
   ],
   "source": [
    "conjuntos_threads = [2, 4, 9]\n",
    "for num_thread in conjuntos_threads:\n",
    "    set_num_threads(num_thread)\n",
    "    start_time = time.time()\n",
    "    result = MM_numba_parallel(np.array(A), np.array(B))\n",
    "    final_time_py_numba = time.time() - start_time\n",
    "    tempo_por_implementacao[f'paralelo {num_thread} threads'] = final_time_py_numba\n",
    "    print(f'Tempo de execução para {num_thread} threads: {final_time_py_numba:.2f} segundos')"
   ]
  },
  {
   "attachments": {},
   "cell_type": "markdown",
   "metadata": {},
   "source": [
    "Como esperado, como meu computador só tem 8 núcleos lógicos, não foi possível rodar o código com 9 threads"
   ]
  },
  {
   "attachments": {},
   "cell_type": "markdown",
   "metadata": {},
   "source": [
    "## Etapa V"
   ]
  },
  {
   "attachments": {},
   "cell_type": "markdown",
   "metadata": {},
   "source": [
    "Calcule o SpeedUp da solução paralela proposta na etapa III. Indique no final do cálculo as informações de configuração do hardware utilizado (CPU, Clock, Cache, memória RAM e SO). "
   ]
  },
  {
   "cell_type": "code",
   "execution_count": 217,
   "metadata": {},
   "outputs": [],
   "source": [
    "import pandas as pd\n",
    "import matplotlib.pyplot as plt\n",
    "plt.style.use('ggplot')\n"
   ]
  },
  {
   "cell_type": "code",
   "execution_count": 211,
   "metadata": {},
   "outputs": [],
   "source": [
    "df = pd.DataFrame(tempo_por_implementacao.items(), columns=['implementação', 'tempo'])"
   ]
  },
  {
   "cell_type": "code",
   "execution_count": 212,
   "metadata": {},
   "outputs": [],
   "source": [
    "ganho_velocidade = df.copy()\n",
    "ganho_velocidade = df.assign(\n",
    "    ganho=(ganho_velocidade['tempo'] / ganho_velocidade['tempo'].shift(-1)).round(1),\n",
    "    atual=ganho_velocidade['tempo'].shift(-1)\n",
    "    ).rename(columns={'tempo':'anterior'}).dropna(axis=0)"
   ]
  },
  {
   "cell_type": "code",
   "execution_count": 213,
   "metadata": {},
   "outputs": [
    {
     "data": {
      "text/html": [
       "<div>\n",
       "<style scoped>\n",
       "    .dataframe tbody tr th:only-of-type {\n",
       "        vertical-align: middle;\n",
       "    }\n",
       "\n",
       "    .dataframe tbody tr th {\n",
       "        vertical-align: top;\n",
       "    }\n",
       "\n",
       "    .dataframe thead th {\n",
       "        text-align: right;\n",
       "    }\n",
       "</style>\n",
       "<table border=\"1\" class=\"dataframe\">\n",
       "  <thead>\n",
       "    <tr style=\"text-align: right;\">\n",
       "      <th></th>\n",
       "      <th>implementação</th>\n",
       "      <th>anterior</th>\n",
       "      <th>ganho</th>\n",
       "      <th>atual</th>\n",
       "    </tr>\n",
       "  </thead>\n",
       "  <tbody>\n",
       "    <tr>\n",
       "      <th>0</th>\n",
       "      <td>sequencial</td>\n",
       "      <td>27.738851</td>\n",
       "      <td>138.7</td>\n",
       "      <td>0.199991</td>\n",
       "    </tr>\n",
       "    <tr>\n",
       "      <th>1</th>\n",
       "      <td>paralelo 2 threads</td>\n",
       "      <td>0.199991</td>\n",
       "      <td>1.4</td>\n",
       "      <td>0.146608</td>\n",
       "    </tr>\n",
       "  </tbody>\n",
       "</table>\n",
       "</div>"
      ],
      "text/plain": [
       "        implementação   anterior  ganho     atual\n",
       "0          sequencial  27.738851  138.7  0.199991\n",
       "1  paralelo 2 threads   0.199991    1.4  0.146608"
      ]
     },
     "execution_count": 213,
     "metadata": {},
     "output_type": "execute_result"
    }
   ],
   "source": [
    "ganho_velocidade"
   ]
  },
  {
   "cell_type": "code",
   "execution_count": 219,
   "metadata": {},
   "outputs": [
    {
     "data": {
      "image/png": "[encoded data removed]",
      "text/plain": [
       "<Figure size 640x480 with 1 Axes>"
      ]
     },
     "metadata": {},
     "output_type": "display_data"
    }
   ],
   "source": [
    "ax = df.plot(x='implementação', y='tempo', kind='bar')\n",
    "for container in ax.containers:\n",
    "    labels = [f'{i}s' for i in container.datavalues.round(2)]\n",
    "    ax.bar_label(container, labels, fmt='%d')\n",
    "plt.suptitle('Performance por tipo de implementação', weight='bold', x=0.25, size=14)\n",
    "plt.title('A melhor performance foi da implementação paralela com mais threads',)\n",
    "plt.yscale('log')\n",
    "plt.ylabel('Tempo (segundos)')\n",
    "plt.yticks([10**k for k in range(2)], [f'{10**k}s' for k in range(2)])\n",
    "plt.xlabel('')\n",
    "plt.xticks(rotation=0)\n",
    "zip_items = zip(ganho_velocidade['ganho'], ganho_velocidade['anterior'], ganho_velocidade['atual'])\n",
    "for index, (ganho, anterior, atual) in enumerate(zip_items):\n",
    "    plt.annotate(f'{ganho}x\\nmais rápido', xy=(index+1, atual), xytext=(index+0.5, anterior*0.6),\n",
    "                arrowprops=dict(facecolor='black', shrink=0.05, width=3, alpha=0.9), ha='center', size=9)\n",
    "plt.show()"
   ]
  },
  {
   "attachments": {},
   "cell_type": "markdown",
   "metadata": {},
   "source": [
    "### Configuração do hardware utilizado\n",
    "\n",
    "<table>\n",
    "  <tr>\n",
    "    <th>CPU</th>\n",
    "    <td>Intel Core i5-8250U</td>\n",
    "  </tr>\n",
    "  <tr>\n",
    "    <th>CPU BASE CLOCK</th>\n",
    "    <td>1.60 GHz</td>\n",
    "  </tr>\n",
    "    <tr>\n",
    "    <th>CPU CACHE</th>\n",
    "    <td>6 MB Intel® Smart Cache</td>\n",
    "    </tr>\n",
    "    <tr>\n",
    "    <th>MEMÓRIA RAM</th>\n",
    "    <td>8.0 GB</td>\n",
    "  </tr>\n",
    "    <tr>\n",
    "    <th>SISTEMA OPERACIONAL</th>\n",
    "    <td>Windows 10 Home v22H2</td>\n",
    "  </tr>\n",
    "</table>"
   ]
  },
  {
   "attachments": {},
   "cell_type": "markdown",
   "metadata": {},
   "source": [
    "## Sandbox\n",
    "\n",
    "Tentando implementar a função `MM_numba_parallel` sem o uso do numpy\n",
    "\n",
    "**SEM SUCESSO POR ENQUANTO**"
   ]
  },
  {
   "cell_type": "code",
   "execution_count": null,
   "metadata": {},
   "outputs": [],
   "source": [
    "@njit(parallel=True)\n",
    "def MM_numba_parallel(A, B):\n",
    "    \"\"\"\n",
    "    Multiplicação de matrizes em Python calculada sequencialmente sem usar bibliotecas externas\n",
    "    A: matriz m x x\n",
    "    B: matriz n x p\n",
    "    \n",
    "    \"\"\"\n",
    "\n",
    "    # Testando se o número de linhas da primeira é igual ao número de colunas da segunda\n",
    "    if len(A) != len(B[0]):\n",
    "        raise ValueError('O número de linhas da primeira matriz deve ser igual ao número de colunas da segunda')\n",
    "\n",
    "    # Usando numpy para criar uma matriz vazia para que os valores de cada elemento da matriz possam ser colocados\n",
    "    # em seu devido lugar paralelamente, sem precisar seguir uma ordem\n",
    "    C = [[0 for _ in prange(len(B[0]))] for _ in prange(len(A))]\n",
    "    for i in prange(len(A)):\n",
    "        for j in prange(len(B[0])):\n",
    "            cij = 0\n",
    "            for k in prange(len(A[0])):\n",
    "                cij += A[i][k] * B[k][j]\n",
    "            C[i][j] = cij\n",
    "\n",
    "    return C"
   ]
  }
 ],
 "metadata": {
  "kernelspec": {
   "display_name": "base",
   "language": "python",
   "name": "python3"
  },
  "language_info": {
   "codemirror_mode": {
    "name": "ipython",
    "version": 3
   },
   "file_extension": ".py",
   "mimetype": "text/x-python",
   "name": "python",
   "nbconvert_exporter": "python",
   "pygments_lexer": "ipython3",
   "version": "3.9.15"
  },
  "orig_nbformat": 4,
  "vscode": {
   "interpreter": {
    "hash": "665796ea3363072d3a6057ac2fdbe3c4fcb0d17a4b92295d9707f78e9c46c0af"
   }
  }
 },
 "nbformat": 4,
 "nbformat_minor": 2
}
