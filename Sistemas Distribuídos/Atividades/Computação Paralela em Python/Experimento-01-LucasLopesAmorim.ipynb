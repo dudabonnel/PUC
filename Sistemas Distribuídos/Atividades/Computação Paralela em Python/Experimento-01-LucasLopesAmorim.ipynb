{
 "cells": [
  {
   "attachments": {},
   "cell_type": "markdown",
   "metadata": {},
   "source": [
    "# Experimento 01 – Multiplicação de Matrizes"
   ]
  },
  {
   "attachments": {},
   "cell_type": "markdown",
   "metadata": {},
   "source": [
    "A multiplicação de matrizes é uma operação muito utilizada na área de computação. Em  computação  gráfica  e  jogos  os  objetos  gráficos  no  vídeo  do  computador  são manipulados  através  da  multiplicação  de  matrizes  que  representam  transformações geométricas como: reflexões, contrações, rotações, projeções, translações etc. Enquanto muitas destas transformações são lineares, como por exemplo as reflexões, contrações e projeções,  as  translações  e  rotações  fora  da  origem  não  são  lineares  1.  Além  da computação  gráfica,  multiplicação  de  matrizes  são  utilizadas  na  área  de  Inteligência Artificial. A maioria das operações de deep learning e machine learning são em vetores e  matrizes.  Nos  links  abaixo  você  encontrará  as  informações  de  como  multiplicar matrizes. Fique à vontade para consultar outros sites sobre o assunto durante o laboratório.\n",
    "\n",
    "- https://www.todamateria.com.br/multiplicacao-de-matrizes/\n",
    "- https://brasilescola.uol.com.br/matematica/multiplicacao-matrizes.htm\n",
    "\n",
    "Considerando a importância dessa operação matemática para a área de computação, cumpra as seguintes etapas propostas para o experimento.  \n",
    " \n",
    "**Etapa I:** Implementar um programa sequencial na linguagem Python para multiplicação \n",
    "de duas matrizes NxN. Após a implementação faça os testes necessários.\n",
    "\n",
    "**Etapa  II:**  Após  a  implementação  faça  uma  análise  do  desempenho  do  algoritmo \n",
    "implementado e calcule o tempo para a computação da operação considerando uma matriz \n",
    "de dimensão 500X500. Inicialize com dados aleatórios antes do processamento.  \n",
    "\n",
    "**Etapa III:** Implementar um programa paralelo em Python usando Numba para \n",
    "multiplicação de duas matrizes NxN. Utilize um conjunto de 4 threads para o \n",
    "processamento paralelo.  \n",
    "\n",
    "**Etapa IV:** Calcule o tempo para a computação da operação considerando uma matriz de \n",
    "dimensão 500X500 e conjuntos de 2, 4 e 9 threads. Inicialize com dados aleatórios antes \n",
    "do processamento. \n",
    "\n",
    "**Etapa V:** Calcule o SpeedUp da solução paralela proposta na etapa III. Indique no final \n",
    "do cálculo as informações de configuração do hardware utilizado (CPU, Clock, Cache, \n",
    "memória RAM e SO). "
   ]
  },
  {
   "attachments": {},
   "cell_type": "markdown",
   "metadata": {},
   "source": [
    "### Exemplo de multiplicação de matrizes.\n",
    "$$\n",
    "    \\begin{bmatrix}\n",
    "        a_{11} & a_{12} & \\cdots & a_{1n}\\\\\n",
    "        a_{21} & a_{22} & \\cdots & a_{2n}\\\\ \n",
    "        \\vdots & \\vdots & \\ddots & \\vdots\\\\ \n",
    "        a_{m1} & a_{m2} & \\cdots & a_{mn} \n",
    "    \\end{bmatrix}\n",
    "    \\times\n",
    "    \\begin{bmatrix}\n",
    "        b_{11} & b_{12} & \\cdots & b_{1p}\\\\\n",
    "        b_{21} & b_{22} & \\cdots & b_{2p}\\\\ \n",
    "        \\vdots & \\vdots & \\ddots & \\vdots\\\\ \n",
    "        b_{n1} & b_{n2} & \\cdots & b_{np} \n",
    "    \\end{bmatrix}\n",
    "    =\n",
    "    \\begin{bmatrix}\n",
    "        c_{11} & c_{12} & \\cdots & c_{1p}\\\\\n",
    "        c_{21} & c_{22} & \\cdots & c_{2p}\\\\ \n",
    "        \\vdots & \\vdots & \\ddots & \\vdots\\\\ \n",
    "        c_{m1} & c_{m2} & \\cdots & c_{mp} \n",
    "    \\end{bmatrix}\n",
    "$$\n",
    "$$ c_{ij}= a_{i1} b_{1j} + a_{i2} b_{2j} +\\cdots+ a_{in} + b_{nj} = \\sum_{k=1}^n a_{ik}b_{kj} $$   \n",
    "\n",
    "[Referência](https://www.physicsread.com/latex-matrix-multiplication/)"
   ]
  },
  {
   "attachments": {},
   "cell_type": "markdown",
   "metadata": {},
   "source": [
    "## Etapa I"
   ]
  },
  {
   "attachments": {},
   "cell_type": "markdown",
   "metadata": {},
   "source": [
    "Implementar um programa sequencial na linguagem Python para multiplicação de duas matrizes NxN. Após a implementação faça os testes necessários."
   ]
  },
  {
   "cell_type": "code",
   "execution_count": 81,
   "metadata": {},
   "outputs": [],
   "source": [
    "def print_matriz(A):\n",
    "    \"\"\"\n",
    "    Função auxiliar para facilitar a visualização das matrizes\n",
    "    \"\"\"\n",
    "    for row in (A):\n",
    "        print(str(row).replace(',', ''))"
   ]
  },
  {
   "cell_type": "code",
   "execution_count": 95,
   "metadata": {},
   "outputs": [],
   "source": [
    "def MM_python_sequencial(A, B):\n",
    "    \"\"\"\n",
    "    Multiplicação de matrizes em Python calculada sequencialmente sem usar bibliotecas externas\n",
    "    A: lista m x x\n",
    "    B: lista n x p\n",
    "    \n",
    "    \"\"\"\n",
    "    # Testando se o número de linhas da primeira é igual ao número de colunas da segunda\n",
    "    if len(A) != len(B[0]):\n",
    "        raise ValueError('O número de linhas da primeira matriz deve ser igual ao número de colunas da segunda')\n",
    "    \n",
    "    C = []\n",
    "    for i in range(len(A)):\n",
    "        ci=[]\n",
    "        for j in range(len(B[0])):\n",
    "            cij = 0\n",
    "            for k in range(len(A[0])):\n",
    "                cij += A[i][k]*B[k][j]\n",
    "            ci.append(cij)\n",
    "        C.append(ci)\n",
    "    \n",
    "    return C"
   ]
  },
  {
   "attachments": {},
   "cell_type": "markdown",
   "metadata": {},
   "source": [
    "### Testando propriedade das matrizes\n",
    "\n",
    "> Uma matriz multiplicada pela sua inversa é igual a sua identidade"
   ]
  },
  {
   "cell_type": "code",
   "execution_count": 35,
   "metadata": {},
   "outputs": [],
   "source": [
    "A = [\n",
    "    [2, 1],\n",
    "    [5, 3]\n",
    "]\n",
    "\n",
    "inv_A = [\n",
    "    [3, -1],\n",
    "    [-5, 2]\n",
    "]"
   ]
  },
  {
   "cell_type": "code",
   "execution_count": 88,
   "metadata": {},
   "outputs": [
    {
     "name": "stdout",
     "output_type": "stream",
     "text": [
      "[1 0]\n",
      "[0 1]\n"
     ]
    }
   ],
   "source": [
    "result = MM_python_sequencial(A, inv_A)\n",
    "print_matriz(result)"
   ]
  },
  {
   "attachments": {},
   "cell_type": "markdown",
   "metadata": {},
   "source": [
    "Resultado esperado:\n",
    "$$\n",
    "    \\begin{bmatrix}\n",
    "        1 & 0 \\\\\n",
    "        0 & 1 \\\\\n",
    "    \\end{bmatrix}\n",
    "$$"
   ]
  },
  {
   "attachments": {},
   "cell_type": "markdown",
   "metadata": {},
   "source": [
    "> Para a multiplicação, o número de linhas da primeira deve ser igual ao número de colunas da segunda, caso contrário é esperado um erro"
   ]
  },
  {
   "cell_type": "code",
   "execution_count": 93,
   "metadata": {},
   "outputs": [],
   "source": [
    "B = [\n",
    "    [9, 4, 0],\n",
    "    [5, 4, 2],\n",
    "    [1, 1, 6]\n",
    "]"
   ]
  },
  {
   "cell_type": "code",
   "execution_count": 97,
   "metadata": {},
   "outputs": [
    {
     "ename": "ValueError",
     "evalue": "O número de linhas da primeira matriz deve ser igual ao número de colunas da segunda",
     "output_type": "error",
     "traceback": [
      "\u001b[1;31m---------------------------------------------------------------------------\u001b[0m",
      "\u001b[1;31mValueError\u001b[0m                                Traceback (most recent call last)",
      "Cell \u001b[1;32mIn[97], line 1\u001b[0m\n\u001b[1;32m----> 1\u001b[0m result \u001b[39m=\u001b[39m MM_python_sequencial(A, B)\n",
      "Cell \u001b[1;32mIn[95], line 10\u001b[0m, in \u001b[0;36mMM_python_sequencial\u001b[1;34m(A, B)\u001b[0m\n\u001b[0;32m      8\u001b[0m \u001b[39m# Testando se o número de linhas da primeira é igual ao número de colunas da segunda\u001b[39;00m\n\u001b[0;32m      9\u001b[0m \u001b[39mif\u001b[39;00m \u001b[39mlen\u001b[39m(A) \u001b[39m!=\u001b[39m \u001b[39mlen\u001b[39m(B[\u001b[39m0\u001b[39m]):\n\u001b[1;32m---> 10\u001b[0m     \u001b[39mraise\u001b[39;00m \u001b[39mValueError\u001b[39;00m(\u001b[39m'\u001b[39m\u001b[39mO número de linhas da primeira matriz deve ser igual ao número de colunas da segunda\u001b[39m\u001b[39m'\u001b[39m)\n\u001b[0;32m     12\u001b[0m C \u001b[39m=\u001b[39m []\n\u001b[0;32m     13\u001b[0m \u001b[39mfor\u001b[39;00m i \u001b[39min\u001b[39;00m \u001b[39mrange\u001b[39m(\u001b[39mlen\u001b[39m(A)):\n",
      "\u001b[1;31mValueError\u001b[0m: O número de linhas da primeira matriz deve ser igual ao número de colunas da segunda"
     ]
    }
   ],
   "source": [
    "result = MM_python_sequencial(A, B)"
   ]
  },
  {
   "attachments": {},
   "cell_type": "markdown",
   "metadata": {},
   "source": [
    "Resultado esperado:\n",
    "\n",
    "**ValueError: O número de linhas da primeira matriz deve ser igual ao número de colunas da segunda**"
   ]
  },
  {
   "attachments": {},
   "cell_type": "markdown",
   "metadata": {},
   "source": [
    "## Etapa II"
   ]
  },
  {
   "attachments": {},
   "cell_type": "markdown",
   "metadata": {},
   "source": [
    "Após  a  implementação  faça  uma  análise  do  desempenho  do  algoritmo implementado e calcule o tempo para a computação da operação considerando uma matriz de dimensão 500X500. Inicialize com dados aleatórios antes do processamento.  "
   ]
  },
  {
   "cell_type": "code",
   "execution_count": 101,
   "metadata": {},
   "outputs": [],
   "source": [
    "import random\n",
    "import time\n",
    "random.seed(42)"
   ]
  },
  {
   "cell_type": "code",
   "execution_count": 102,
   "metadata": {},
   "outputs": [],
   "source": [
    "# Criando matriz aleatória de números entre 0-9\n",
    "ordem = 500\n",
    "A = [[random.randint(0, 9) for j in range(ordem)] for i in range(ordem)]\n",
    "B = [[random.randint(0, 9) for j in range(ordem)] for i in range(ordem)]"
   ]
  },
  {
   "cell_type": "code",
   "execution_count": 105,
   "metadata": {},
   "outputs": [
    {
     "name": "stdout",
     "output_type": "stream",
     "text": [
      "Tempo de execução: 25.62\n"
     ]
    }
   ],
   "source": [
    "start_time = time.time()\n",
    "result = MM_python_sequencial(A, B)\n",
    "final_time_py_seq = time.time() - start_time\n",
    "print(f'Tempo de execução: {final_time_py_seq:.2f} segundos')"
   ]
  }
 ],
 "metadata": {
  "kernelspec": {
   "display_name": "base",
   "language": "python",
   "name": "python3"
  },
  "language_info": {
   "codemirror_mode": {
    "name": "ipython",
    "version": 3
   },
   "file_extension": ".py",
   "mimetype": "text/x-python",
   "name": "python",
   "nbconvert_exporter": "python",
   "pygments_lexer": "ipython3",
   "version": "3.9.15"
  },
  "orig_nbformat": 4,
  "vscode": {
   "interpreter": {
    "hash": "665796ea3363072d3a6057ac2fdbe3c4fcb0d17a4b92295d9707f78e9c46c0af"
   }
  }
 },
 "nbformat": 4,
 "nbformat_minor": 2
}
