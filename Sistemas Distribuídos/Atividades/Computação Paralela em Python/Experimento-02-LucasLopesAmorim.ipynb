{
 "cells": [
  {
   "attachments": {},
   "cell_type": "markdown",
   "metadata": {},
   "source": [
    "# Experimento 02 – Produto Escalar"
   ]
  },
  {
   "attachments": {},
   "cell_type": "markdown",
   "metadata": {},
   "source": [
    "### Grupo:\n",
    "\n",
    "<table align=\"left\" style=font-size:15px>\n",
    "<thead>\n",
    "  <tr>\n",
    "    <th style=\"text-align:left;\">Nome</th>\n",
    "    <th style=\"text-align:left;\">RA</th>\n",
    "  </tr>\n",
    "</thead>\n",
    "<tbody>\n",
    "  </tr>\n",
    "    <tr>\n",
    "    <td style=\"text-align:left;\">Carlos Eduardo de Oliveira</td>\n",
    "    <td>RA00297792</td>\n",
    "  </tr>\n",
    "  <tr>\n",
    "    <td style=\"text-align:left;\">Isaac Higuchi</td>\n",
    "    <td>RA00306191</td>\n",
    "  </tr>\n",
    "  <tr>\n",
    "    <td style=\"text-align:left;\">Lucas Lopes Amorim</td>\n",
    "    <td>RA00303799</td>\n",
    "</tbody>\n",
    "</table>"
   ]
  },
  {
   "attachments": {},
   "cell_type": "markdown",
   "metadata": {},
   "source": [
    "Assim  como  a  operação  de  multiplicação  matricial,  o  produto  escalar  é  operação matemática da álgebra linear amplamente utilizada na área de computação gráfica e jogos — ex: shaders são programas que utilizam o produto escalar para criar um efeito holográfico).  Normalmente  são  executados  pelas  placas  de  vídeo  ou  GPUs.  Nos  links abaixo  você  encontrará  as  informações  de  como  realizar  o  produto  escalar.  Fique  à \n",
    "vontade para consultar outros sites sobre o assunto durante o laboratório.\n",
    "- https://www.matematica.pt/geogebra/11-ano-produto-escalar-vetores.php\n",
    "- https://pt.khanacademy.org/math/multivariable-calculus/thinking-about-multivariable-function/786f2022:vectors-and-matrices/a/dot-products-mvc\n",
    "\n",
    "Considerando a importância dessa operação matemática para a área de computação, \n",
    "cumpra as seguintes etapas propostas para o experimento:\n",
    "\n",
    "**[Etapa  I:](#etapa-i)**  Implementar  um  programa  sequencial  na  linguagem  Python  que  calcule  o \n",
    "produto escalar entre dois vetores (u e v) de tamanho 100. Após a implementação faça os \n",
    "testes necessários.\n",
    "\n",
    "**[Etapa  II:](#etapa-ii)**  Após  a  implementação  faça  uma  análise  do  desempenho  do  algoritmo \n",
    "implementado  e  calcule  o  tempo  para  a  computação  da  operação  considerando  dois \n",
    "vetores de tamanho 100. Inicialize com dados aleatórios antes do processamento.\n",
    "\n",
    "**[Etapa  III:](#etapa-iii)**  Implementar  um  programa  paralelo  em  Python  usando  Numba  para  calcule \n",
    "produto escalar de dois vetores de tamanho 100. Utilize um conjunto de 4 threads para o \n",
    "processamento paralelo.\n",
    "\n",
    "**[Etapa IV:](#etapa-iv)** Calcule o tempo para a computação do produto escalar considerando 2, 4 e 8 \n",
    "threads. Inicialize com dados aleatórios antes do processamento.\n",
    "\n",
    "**[Etapa V:](#etapa-v)** Calcule o SpeedUp da solução paralela proposta na etapa III. Indique no final \n",
    "do cálculo as informações de configuração do hardware utilizado (CPU, Clock, Cache, \n",
    "memória RAM e SO)."
   ]
  },
  {
   "attachments": {},
   "cell_type": "markdown",
   "metadata": {},
   "source": [
    "### Definições de Produto Escalar\n",
    "\n",
    "#### Geométrica\n",
    "$$\n",
    "\\mathbf {A} \\cdot \\mathbf {B} =\\left\\|\\mathbf {A} \\right\\|\\left\\|\\mathbf {B} \\right\\|\\cos \\theta\n",
    "$$\n",
    "\n",
    "#### Algébrica\n",
    "$$\n",
    "\\text{Sendo,} \\newline\n",
    "\\mathbf {A} =\\left(a_{1},a_{2},\\cdots ,a_{n}\\right) \\newline\n",
    "\\mathbf {B} =\\left(b_{1},b_{2},\\cdots ,b_{n}\\right)\n",
    "$$\n",
    "\n",
    "\n",
    "\n",
    "$$\n",
    "    \\mathbf {A} \\cdot \\mathbf {B} =\\sum _{i=1}^{n}a_{i}b_{i}=a_{1}b_{1}+a_{2}b_{2}+\\cdots +a_{n}b_{n}\n",
    "$$   \n",
    "\n",
    "[Referência](https://pt.wikipedia.org/wiki/Produto_escalar)"
   ]
  },
  {
   "cell_type": "code",
   "execution_count": 1,
   "metadata": {},
   "outputs": [],
   "source": [
    "# Dicionário para armazenar o tempo gasto com cada tipo de implementação\n",
    "tempo_por_implementacao = dict()\n",
    "# Variável para controlar quantas vezes o tempo de cada implementação será calculado\n",
    "N_EXPERIMENTOS = 100"
   ]
  },
  {
   "attachments": {},
   "cell_type": "markdown",
   "metadata": {},
   "source": [
    "## Etapa I\n",
    "\n",
    "[Voltar ao topo](#experimento-02-–-produto-escalar)"
   ]
  },
  {
   "attachments": {},
   "cell_type": "markdown",
   "metadata": {},
   "source": [
    "Implementar um programa sequencial na linguagem Python para multiplicação de duas matrizes NxN. Após a implementação faça os testes necessários."
   ]
  },
  {
   "cell_type": "code",
   "execution_count": 2,
   "metadata": {},
   "outputs": [],
   "source": [
    "import random\n",
    "import time"
   ]
  },
  {
   "cell_type": "code",
   "execution_count": 3,
   "metadata": {},
   "outputs": [],
   "source": [
    "def produto_escalar_sequencial(u, v):\n",
    "    \"\"\"\n",
    "    Produto escalar de vetores em Python calculado sequencialmente sem usar bibliotecas externas\n",
    "\n",
    "    Args\n",
    "    -----\n",
    "        u: vetor unidimensional\n",
    "        v: vetor unidimensional\n",
    "\n",
    "    Returns\n",
    "    -------\n",
    "        soma: int\n",
    "    \n",
    "    \"\"\"\n",
    "    # Testando se os dois vetores são da mesma dimensão\n",
    "    if len(u) != len(v):\n",
    "        raise ValueError('Os dois vetores do produto escalar devem ser de mesma dimensão')\n",
    "\n",
    "    soma = 0\n",
    "    for i in range(len(u)):\n",
    "        soma += u[i] * v[i]\n",
    "    return soma"
   ]
  },
  {
   "attachments": {},
   "cell_type": "markdown",
   "metadata": {},
   "source": [
    "### Testando com dois vetores de ordem 3"
   ]
  },
  {
   "cell_type": "code",
   "execution_count": 4,
   "metadata": {},
   "outputs": [],
   "source": [
    "a = [1, 1, 2]\n",
    "b = [-2, 2, 2]"
   ]
  },
  {
   "cell_type": "code",
   "execution_count": 5,
   "metadata": {},
   "outputs": [
    {
     "data": {
      "text/plain": [
       "4"
      ]
     },
     "execution_count": 5,
     "metadata": {},
     "output_type": "execute_result"
    }
   ],
   "source": [
    "produto_escalar_sequencial(a, b)"
   ]
  },
  {
   "attachments": {},
   "cell_type": "markdown",
   "metadata": {},
   "source": [
    "Resultado esperado:\n",
    "$$\n",
    "    4\n",
    "$$"
   ]
  },
  {
   "attachments": {},
   "cell_type": "markdown",
   "metadata": {},
   "source": [
    "## Testando com dois vetores de diferentes ordens"
   ]
  },
  {
   "cell_type": "code",
   "execution_count": 6,
   "metadata": {},
   "outputs": [],
   "source": [
    "a = [1, 1, 2]\n",
    "b = [-2, 2]"
   ]
  },
  {
   "cell_type": "code",
   "execution_count": 7,
   "metadata": {},
   "outputs": [],
   "source": [
    "# Comentado para não parar a execução do caderno\n",
    "# produto_escalar_sequencial(a, b)"
   ]
  },
  {
   "attachments": {},
   "cell_type": "markdown",
   "metadata": {},
   "source": [
    "Resultado esperado:\n",
    "\n",
    "**ValueError: Os dois vetores do produto escalar devem ser de mesma dimensão**"
   ]
  },
  {
   "attachments": {},
   "cell_type": "markdown",
   "metadata": {},
   "source": [
    "## Etapa II\n",
    "\n",
    "[Voltar ao topo](#experimento-02-–-produto-escalar)"
   ]
  },
  {
   "attachments": {},
   "cell_type": "markdown",
   "metadata": {},
   "source": [
    "Após  a  implementação  faça  uma  análise  do  desempenho  do  algoritmo implementado  e  calcule  o  tempo  para  a  computação  da  operação  considerando  dois vetores de tamanho 100. Inicialize com dados aleatórios antes do processamento."
   ]
  },
  {
   "attachments": {},
   "cell_type": "markdown",
   "metadata": {},
   "source": [
    "### Criando dois vetores $a$ e $b$ de ordem 100 com valores valores de 0 a 9"
   ]
  },
  {
   "cell_type": "code",
   "execution_count": 8,
   "metadata": {},
   "outputs": [],
   "source": [
    "random.seed(42)\n",
    "ordem = 1_000_000\n",
    "c = [random.randint(0, 9) for j in range(ordem)]\n",
    "d = [random.randint(0, 9) for j in range(ordem)]"
   ]
  },
  {
   "cell_type": "code",
   "execution_count": 9,
   "metadata": {},
   "outputs": [
    {
     "name": "stdout",
     "output_type": "stream",
     "text": [
      "Tempo médio de execução: 0.138 segundos\n"
     ]
    }
   ],
   "source": [
    "tempos = list()\n",
    "for _ in range(N_EXPERIMENTOS):\n",
    "    start_time = time.time()\n",
    "    result = produto_escalar_sequencial(c, d)\n",
    "    final_time_py_seq = time.time() - start_time\n",
    "    tempos.append(final_time_py_seq)\n",
    "    \n",
    "tempo_medio = sum(tempos) / len(tempos)\n",
    "tempo_por_implementacao['sequencial'] = tempo_medio\n",
    "print(f'Tempo médio de execução: {tempo_medio:.3f} segundos')"
   ]
  },
  {
   "attachments": {},
   "cell_type": "markdown",
   "metadata": {},
   "source": [
    "## Etapa III\n",
    "\n",
    "[Voltar ao topo](#experimento-02-–-produto-escalar)"
   ]
  },
  {
   "attachments": {},
   "cell_type": "markdown",
   "metadata": {},
   "source": [
    "Implementar  um  programa  paralelo  em  Python  usando  Numba  para  calcule produto escalar de dois vetores de tamanho 100. Utilize um conjunto de 4 threads para o processamento paralelo."
   ]
  },
  {
   "cell_type": "code",
   "execution_count": 10,
   "metadata": {},
   "outputs": [],
   "source": [
    "from numba import njit, prange, set_num_threads\n",
    "import numpy as np\n",
    "set_num_threads(4)"
   ]
  },
  {
   "cell_type": "code",
   "execution_count": 11,
   "metadata": {},
   "outputs": [],
   "source": [
    "@njit(parallel=True)\n",
    "def produto_escalar_numba(u, v):\n",
    "    \"\"\"\n",
    "    Produto escalar de vetores em Python calculado paralelamente usando o numba\n",
    "\n",
    "    Args\n",
    "    -----\n",
    "        u: vetor unidimensional\n",
    "        v: vetor unidimensional\n",
    "\n",
    "    Returns\n",
    "    -------\n",
    "        soma: int\n",
    "    \n",
    "    \"\"\"\n",
    "    # Testando se os dois vetores são da mesma dimensão\n",
    "    if len(u) != len(v):\n",
    "        raise ValueError('Os dois vetores do produto escalar devem ser de mesma dimensão')\n",
    "    \n",
    "    soma = 0\n",
    "    for i in prange(len(u)):\n",
    "        soma += u[i] * v[i]\n",
    "    return soma"
   ]
  },
  {
   "cell_type": "code",
   "execution_count": 12,
   "metadata": {},
   "outputs": [
    {
     "name": "stdout",
     "output_type": "stream",
     "text": [
      "Tempo de execução: 1.761 segundos\n"
     ]
    }
   ],
   "source": [
    "c_array, d_array = np.array(c), np.array(d)\n",
    "start_time = time.time()\n",
    "result = produto_escalar_numba(c_array, d_array)\n",
    "final_time_numba = time.time() - start_time\n",
    "tempo_por_implementacao['paralelo 2 threads'] = final_time_numba\n",
    "print(f'Tempo de execução: {final_time_numba:.3f} segundos')"
   ]
  },
  {
   "attachments": {},
   "cell_type": "markdown",
   "metadata": {},
   "source": [
    "## Etapa IV\n",
    "\n",
    "[Voltar ao topo](#experimento-02-–-produto-escalar)"
   ]
  },
  {
   "attachments": {},
   "cell_type": "markdown",
   "metadata": {},
   "source": [
    "Calcule o tempo para a computação do produto escalar considerando 2, 4 e 8 threads. Inicialize com dados aleatórios antes do processamento.\n"
   ]
  },
  {
   "cell_type": "code",
   "execution_count": 13,
   "metadata": {},
   "outputs": [
    {
     "name": "stdout",
     "output_type": "stream",
     "text": [
      "Tempo de execução para 2 threads: 0.001 segundos\n",
      "Tempo de execução para 4 threads: 0.000 segundos\n",
      "Tempo de execução para 8 threads: 0.000 segundos\n"
     ]
    }
   ],
   "source": [
    "tempos = dict()\n",
    "conjuntos_threads = [2, 4, 8]\n",
    "for _ in range(N_EXPERIMENTOS):\n",
    "    for num_thread in conjuntos_threads:\n",
    "        set_num_threads(num_thread)\n",
    "        start_time = time.time()\n",
    "        result = produto_escalar_numba(c_array, d_array)\n",
    "        final_time_numba = time.time() - start_time\n",
    "        tempos[num_thread] = tempos.get(num_thread, []) + [final_time_numba]\n",
    "\n",
    "for num_thread in conjuntos_threads:\n",
    "    tempo_medio = sum(tempos[num_thread]) / len(tempos[num_thread])\n",
    "    tempo_por_implementacao[f'paralelo {num_thread} threads'] = tempo_medio\n",
    "    print(f'Tempo de execução para {num_thread} threads: {tempo_medio:.3f} segundos')"
   ]
  },
  {
   "attachments": {},
   "cell_type": "markdown",
   "metadata": {},
   "source": [
    "Como esperado, como meu computador só tem 8 núcleos lógicos, não foi possível rodar o código com 9 threads"
   ]
  },
  {
   "attachments": {},
   "cell_type": "markdown",
   "metadata": {},
   "source": [
    "## Etapa V\n",
    "\n",
    "[Voltar ao topo](#experimento-02-–-produto-escalar)"
   ]
  },
  {
   "attachments": {},
   "cell_type": "markdown",
   "metadata": {},
   "source": [
    "Calcule o SpeedUp da solução paralela proposta na etapa III. Indique no final do cálculo as informações de configuração do hardware utilizado (CPU, Clock, Cache, memória RAM e SO)."
   ]
  },
  {
   "cell_type": "code",
   "execution_count": 14,
   "metadata": {},
   "outputs": [],
   "source": [
    "from utils import plot_comparacao_implementacoes"
   ]
  },
  {
   "cell_type": "code",
   "execution_count": 15,
   "metadata": {},
   "outputs": [
    {
     "data": {
      "image/png": "[encoded data removed]",
      "text/plain": [
       "<Figure size 640x480 with 1 Axes>"
      ]
     },
     "metadata": {},
     "output_type": "display_data"
    }
   ],
   "source": [
    "plot_comparacao_implementacoes(tempo_por_implementacao)"
   ]
  },
  {
   "attachments": {},
   "cell_type": "markdown",
   "metadata": {},
   "source": [
    "### Configuração do hardware utilizado\n",
    "\n",
    "<table>\n",
    "  <tr>\n",
    "    <th>CPU</th>\n",
    "    <td>Intel Core i5-8250U</td>\n",
    "  </tr>\n",
    "  <tr>\n",
    "    <th>CPU BASE CLOCK</th>\n",
    "    <td>1.60 GHz</td>\n",
    "  </tr>\n",
    "    <tr>\n",
    "    <th>CPU CACHE</th>\n",
    "    <td>6 MB Intel® Smart Cache</td>\n",
    "    </tr>\n",
    "    <tr>\n",
    "    <th>MEMÓRIA RAM</th>\n",
    "    <td>8.0 GB</td>\n",
    "  </tr>\n",
    "    <tr>\n",
    "    <th>SISTEMA OPERACIONAL</th>\n",
    "    <td>Windows 10 Home v22H2</td>\n",
    "  </tr>\n",
    "</table>"
   ]
  }
 ],
 "metadata": {
  "kernelspec": {
   "display_name": "base",
   "language": "python",
   "name": "python3"
  },
  "language_info": {
   "codemirror_mode": {
    "name": "ipython",
    "version": 3
   },
   "file_extension": ".py",
   "mimetype": "text/x-python",
   "name": "python",
   "nbconvert_exporter": "python",
   "pygments_lexer": "ipython3",
   "version": "3.9.15"
  },
  "orig_nbformat": 4,
  "vscode": {
   "interpreter": {
    "hash": "665796ea3363072d3a6057ac2fdbe3c4fcb0d17a4b92295d9707f78e9c46c0af"
   }
  }
 },
 "nbformat": 4,
 "nbformat_minor": 2
}
