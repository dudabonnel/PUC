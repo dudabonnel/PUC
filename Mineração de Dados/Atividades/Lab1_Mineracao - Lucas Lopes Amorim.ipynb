{
 "cells": [
  {
   "cell_type": "markdown",
   "metadata": {
    "id": "Yh7WPunsip6q"
   },
   "source": [
    "Pontifícia Universidade Católica de São Paulo \n",
    "\n",
    "`Ciência de Dados e Inteligência Artificial`\n",
    "\n",
    "🎓 Laboratório 1 - Revisão de programação em Python\n",
    "\n",
    "**Objetivos de aprendizagem**\n",
    "- Revisar os tipos de variáveis em Python\n",
    "- Revisar as principais estruturas de dados em Python\n",
    "- Revisar condicionais e repetições \n",
    "- Revisar funções e seus recursos em Python\n",
    "- Utilização de list comprehensions\n",
    "- Utilização de classes\n",
    "\n",
    "---\n",
    "Seja bem-vindo de volta! \n",
    "\n",
    "\n",
    "Este semestre estamos com um formato de aula um pouco diferente e preciso avaliá-los semanalmente para um melhor aprendizado 😲. Para isso utilizaremos, muitos cadernos Jupyter com blocos com um pouco de teoria e alguns blocos\n",
    "a serem preenchidos 👨‍💻. Espero que gostem deste formato de aulas! 🤩\n",
    "\n",
    "> 👨‍🏫*Professor Rooney Coelho (rracoelho@pucsp.br)*\n",
    "---\n",
    "\n",
    "\n"
   ]
  },
  {
   "cell_type": "markdown",
   "metadata": {
    "id": "guqLl4irmYGt"
   },
   "source": [
    "## Exemplo de utilização\n",
    "\n",
    "Este aqui é um exemplo de como vamos proceder. Todos sabem imprimir uma simples mensagem usanda a função `print()` do Python. Use esta função para imprimir a frase `Mineração de dados`.\n"
   ]
  },
  {
   "cell_type": "code",
   "execution_count": 1,
   "metadata": {
    "colab": {
     "base_uri": "https://localhost:8080/"
    },
    "id": "BkCkCKGbnCUV",
    "outputId": "8bc8787e-dfcd-4f2e-df89-eed464da6e20"
   },
   "outputs": [
    {
     "name": "stdout",
     "output_type": "stream",
     "text": [
      "Mineração de dados\n"
     ]
    }
   ],
   "source": [
    "# Escreva o seu código aqui. Não se esqueça de apertar Shift+Enter para executar a célula.\n",
    "print('Mineração de dados')"
   ]
  },
  {
   "cell_type": "markdown",
   "metadata": {
    "id": "hHsEKuPvnV0o"
   },
   "source": [
    "<details><summary>Clique aqui para ver a solução</summary>\n",
    "\n",
    "```python\n",
    "print(\"Mineração de dados\")\n",
    "\n",
    "```\n",
    "\n",
    "</details>"
   ]
  },
  {
   "cell_type": "markdown",
   "metadata": {
    "id": "LoTG5q9Bt-Xa"
   },
   "source": [
    "## Tipos de dados em Python\n",
    "\n",
    "Os dados podem ser representados em python como:\n",
    "* Int\n",
    "* float\n",
    "* String\n",
    "* Bool\n",
    "\n",
    "Sabendo que a função `int()` realiza o casting (moldar uma variável a determinado formato) para inteiro, `float()`para ponto flutuante, `str()` para string e `bool()` para booleano, faça o que se pede:"
   ]
  },
  {
   "cell_type": "code",
   "execution_count": 2,
   "metadata": {
    "colab": {
     "base_uri": "https://localhost:8080/"
    },
    "id": "8PhOHUCdt5l1",
    "outputId": "55d9929f-b5c0-4040-c2fb-121081a4c7a7"
   },
   "outputs": [
    {
     "data": {
      "text/plain": [
       "1"
      ]
     },
     "execution_count": 2,
     "metadata": {},
     "output_type": "execute_result"
    }
   ],
   "source": [
    "# Faça o casting de True para inteiro\n",
    "int(True)"
   ]
  },
  {
   "cell_type": "code",
   "execution_count": 3,
   "metadata": {
    "colab": {
     "base_uri": "https://localhost:8080/",
     "height": 35
    },
    "id": "xwHignufz94J",
    "outputId": "e78b3df7-c4b4-4cbc-d433-8f450708f222"
   },
   "outputs": [
    {
     "data": {
      "text/plain": [
       "'3'"
      ]
     },
     "execution_count": 3,
     "metadata": {},
     "output_type": "execute_result"
    }
   ],
   "source": [
    "# Faça o casting de 3 para string\n",
    "str(3)"
   ]
  },
  {
   "cell_type": "markdown",
   "metadata": {
    "id": "3X7e94F10Nai"
   },
   "source": [
    "Podemos utilzar o Python como uma calculadora. Temos os operadores artméticos `+`, `-`, `*`,`**` (potência), `\\`, etc. Estes operadores têm precedência, que definem a ordem de execução de cada operador em uma linha de código. Observe a tabela de precedência de operadores abaixo:\n",
    "\n",
    "<div class=\"table-responsive\">\n",
    "\t<table border=\"0\"><tbody><tr><th>Operators</th>\n",
    "\t\t\t\t<th>Meaning</th>\n",
    "\t\t\t</tr><tr><td><code>()</code></td>\n",
    "\t\t\t\t<td>Parentheses</td>\n",
    "\t\t\t</tr><tr><td><code>**</code></td>\n",
    "\t\t\t\t<td>Exponent</td>\n",
    "\t\t\t</tr><tr><td><code>+x</code>, <code>-x</code>, <code>~x</code></td>\n",
    "\t\t\t\t<td>Unary plus, Unary minus, Bitwise NOT</td>\n",
    "\t\t\t</tr><tr><td><code>*</code>, <code>/</code>, <code>//</code>, <code>%</code></td>\n",
    "\t\t\t\t<td>Multiplication, Division, Floor division, Modulus</td>\n",
    "\t\t\t</tr><tr><td><code>+</code>, <code>-</code></td>\n",
    "\t\t\t\t<td>Addition, Subtraction</td>\n",
    "\t\t\t</tr><tr><td><code>&lt;&lt;</code>, <code>&gt;&gt;</code></td>\n",
    "\t\t\t\t<td>Bitwise shift operators</td>\n",
    "\t\t\t</tr><tr><td><code>&amp;</code></td>\n",
    "\t\t\t\t<td>Bitwise AND</td>\n",
    "\t\t\t</tr><tr><td><code>^</code></td>\n",
    "\t\t\t\t<td>Bitwise XOR</td>\n",
    "\t\t\t</tr><tr><td><code>|</code></td>\n",
    "\t\t\t\t<td>Bitwise OR</td>\n",
    "\t\t\t</tr><tr><td><code>==</code>, <code>!=</code>, <code>&gt;</code>, <code>&gt;=</code>, <code>&lt;</code>, <code>&lt;=</code>, <code>is</code>, <code>is not</code>, <code>in</code>, <code>not in</code></td>\n",
    "\t\t\t\t<td>Comparisons, Identity, Membership operators</td>\n",
    "\t\t\t</tr><tr><td><code>not</code></td>\n",
    "\t\t\t\t<td>Logical NOT</td>\n",
    "\t\t\t</tr><tr><td><code>and</code></td>\n",
    "\t\t\t\t<td>Logical AND</td>\n",
    "\t\t\t</tr><tr><td><code>or</code></td>\n",
    "\t\t\t\t<td>Logical OR</td>\n",
    "\t\t\t</tr></tbody></table></div>\n",
    "\n",
    "Baseado nas informações desta tabela, faça o que se pede: "
   ]
  },
  {
   "cell_type": "code",
   "execution_count": 4,
   "metadata": {
    "colab": {
     "base_uri": "https://localhost:8080/"
    },
    "id": "jUeoR-2q19_7",
    "outputId": "92fa5eb1-5dc5-40c4-b520-e61bd17a42da"
   },
   "outputs": [
    {
     "data": {
      "text/plain": [
       "7"
      ]
     },
     "execution_count": 4,
     "metadata": {},
     "output_type": "execute_result"
    }
   ],
   "source": [
    "# Qual o valor de x na expressão x = 3 + 2 * 2:\n",
    "x = 3 + 2 * 2\n",
    "x"
   ]
  },
  {
   "cell_type": "code",
   "execution_count": 5,
   "metadata": {
    "colab": {
     "base_uri": "https://localhost:8080/"
    },
    "id": "akuRoxx52vVS",
    "outputId": "56c05f5a-03d4-42f0-a01c-d1ab19b26025"
   },
   "outputs": [
    {
     "data": {
      "text/plain": [
       "8.333333333333332"
      ]
     },
     "execution_count": 5,
     "metadata": {},
     "output_type": "execute_result"
    }
   ],
   "source": [
    "# Qual o valor de x na expressão x = 3 + 4 * 2 ** 2 / 3:\n",
    "x = 3 + 4 * 2 ** 2 / 3\n",
    "x"
   ]
  },
  {
   "cell_type": "code",
   "execution_count": 6,
   "metadata": {
    "colab": {
     "base_uri": "https://localhost:8080/"
    },
    "id": "56wiTXMC4Pvu",
    "outputId": "5455ed4e-e962-4186-b6c0-13aa1886f62b"
   },
   "outputs": [
    {
     "name": "stdout",
     "output_type": "stream",
     "text": [
      "False\n"
     ]
    }
   ],
   "source": [
    "# Escreva uma expressão lógica para \"não banana e não abacate\" onde banana e abacate são variáveis booleanas\n",
    "banana = True\n",
    "abacate = False\n",
    "print(not banana and not abacate)"
   ]
  },
  {
   "cell_type": "markdown",
   "metadata": {
    "id": "AWpdpOKe5Fd2"
   },
   "source": [
    "## Strings\n",
    "\n",
    "Strings são sequências ordenadas de caracteres, onde cada elemento pode ser acessado por um índice. As strings em Python são imutáveis.\n",
    "\n",
    "Existem diversas funções e [métodos](https://www.w3schools.com/python/python_ref_string.asp) para a manipulação das Strings. Tome a seguinte String, com o índice de cada caractre representado e responda o que se pede:\n",
    "\n",
    "<img src=\"https://cf-courses-data.s3.us.cloud-object-storage.appdomain.cloud/IBMDeveloperSkillsNetwork-PY0101EN-SkillsNetwork/labs/Module%201/images/StringsIndex.png\" width=\"600\" align=\"center\" />\n"
   ]
  },
  {
   "cell_type": "code",
   "execution_count": 7,
   "metadata": {
    "colab": {
     "base_uri": "https://localhost:8080/"
    },
    "id": "Qfe29jhZ7QpO",
    "outputId": "12da1b85-11e8-4434-caf0-702ee165918c"
   },
   "outputs": [
    {
     "name": "stdout",
     "output_type": "stream",
     "text": [
      "M\n",
      "n\n"
     ]
    }
   ],
   "source": [
    "# Escreva o código para acessar o primeiro e o último caractere de 'Michael Jackson'\n",
    "mj = \"Michael Jackson\"\n",
    "print(mj[0])\n",
    "print(mj[-1])"
   ]
  },
  {
   "cell_type": "code",
   "execution_count": 8,
   "metadata": {
    "colab": {
     "base_uri": "https://localhost:8080/"
    },
    "id": "zTRl8DGG8L3G",
    "outputId": "5b641983-0fe1-4309-d241-569abe306ace"
   },
   "outputs": [
    {
     "name": "stdout",
     "output_type": "stream",
     "text": [
      "Mich\n"
     ]
    }
   ],
   "source": [
    "# Escreva o código para imprimir os quatro primeiros caracteres de 'Michael Jackson'\n",
    "print(mj[:4])"
   ]
  },
  {
   "cell_type": "code",
   "execution_count": 9,
   "metadata": {
    "colab": {
     "base_uri": "https://localhost:8080/"
    },
    "id": "AkRH013E8YCK",
    "outputId": "3c489e6e-6b9f-49d9-814f-2af78d1e27f4"
   },
   "outputs": [
    {
     "name": "stdout",
     "output_type": "stream",
     "text": [
      "noskcaJ leahciM\n"
     ]
    }
   ],
   "source": [
    "# Escreva o código imprimir 'Michael Jackson' ao contrário\n",
    "print(mj[::-1])"
   ]
  },
  {
   "cell_type": "code",
   "execution_count": 10,
   "metadata": {
    "colab": {
     "base_uri": "https://localhost:8080/"
    },
    "id": "2IydbFss8gSL",
    "outputId": "813f837a-5e1d-4c82-9299-108ff97ad0a0"
   },
   "outputs": [
    {
     "name": "stdout",
     "output_type": "stream",
     "text": [
      "McalJcsn\n"
     ]
    }
   ],
   "source": [
    "# Escreva o código imprimir 'McalJcsn' usando os índices da String\n",
    "print(mj[::2])"
   ]
  },
  {
   "cell_type": "code",
   "execution_count": 11,
   "metadata": {
    "colab": {
     "base_uri": "https://localhost:8080/"
    },
    "id": "hbkqiMwn9Aa6",
    "outputId": "51030c64-130d-4434-f403-e29d72455699"
   },
   "outputs": [],
   "source": [
    "# Qual o resultado de 3*'1'? Meu palpite é '3', estou correto?"
   ]
  },
  {
   "cell_type": "markdown",
   "metadata": {},
   "source": [
    "*Não, pois a multiplicação de strings faz que que o valor da string se repita n vezes*"
   ]
  },
  {
   "cell_type": "code",
   "execution_count": 12,
   "metadata": {},
   "outputs": [
    {
     "data": {
      "text/plain": [
       "'111'"
      ]
     },
     "execution_count": 12,
     "metadata": {},
     "output_type": "execute_result"
    }
   ],
   "source": [
    "3*'1'"
   ]
  },
  {
   "cell_type": "code",
   "execution_count": 13,
   "metadata": {
    "colab": {
     "base_uri": "https://localhost:8080/"
    },
    "id": "t6Cg9IUu9Od6",
    "outputId": "8ea3b4f4-2ad4-4afa-e3e0-3283f1c71e93"
   },
   "outputs": [],
   "source": [
    "# Use um operador aritmético para concatenar as strings 'Michael Jackson' e ' is the best!'\n",
    "citb = \" is the best\""
   ]
  },
  {
   "cell_type": "code",
   "execution_count": 14,
   "metadata": {},
   "outputs": [
    {
     "data": {
      "text/plain": [
       "'Michael Jackson is the best'"
      ]
     },
     "execution_count": 14,
     "metadata": {},
     "output_type": "execute_result"
    }
   ],
   "source": [
    "concatenacao = mj + citb\n",
    "concatenacao"
   ]
  },
  {
   "cell_type": "code",
   "execution_count": 15,
   "metadata": {
    "colab": {
     "base_uri": "https://localhost:8080/"
    },
    "id": "5KLr40AF9liq",
    "outputId": "930c3ad5-1fcd-487e-9349-129b8a26d5d9"
   },
   "outputs": [
    {
     "data": {
      "text/plain": [
       "'Janet Jackson is the best'"
      ]
     },
     "execution_count": 15,
     "metadata": {},
     "output_type": "execute_result"
    }
   ],
   "source": [
    "# Use um método para substituir 'Michael' por 'Janet' em 'Michael Jackson is the best!'\n",
    "concatenacao.replace('Michael', 'Janet')"
   ]
  },
  {
   "cell_type": "markdown",
   "metadata": {
    "id": "9ByHfc2U_MDF"
   },
   "source": [
    "## Listas, tuplas e conjuntos\n",
    "\n",
    "### Listas\n",
    "\n",
    "Uma lista é uma sequência de objetos de tipos distintos ou do mesmo tipo. O endereço de cada elemento em uma lista é chamado de **índice**. Uma lista vazia é criada ao atribuir um colchete vazio `lista = []`. Uma lista é preenchida ao adicionar os elementos dentro do colchete e separados por vírgulas \n",
    "\n",
    "`lista = ['banana', 2 ,3.78, True]`\n",
    "\n",
    "De maneira muito similar às Strings, as listas possuem funções para as modificá-las e também os seus [métodos](https://www.w3schools.com/python/python_ref_list.asp).\n",
    "\n",
    "### Tuplas\n",
    "\n",
    "As tuplas são parecidas com as listas, mas são imutáveis. Geralmente se trabalha com listas de variáveis do mesmo tipo e quando são heterogêneas se usam tuplas, as tuplas por serem imutáveis são percorridas de maneira muito mais eficiente em loop!\n",
    "\n",
    "`tupla = ('banana', 2 ,3.78, True, [1,2,3])`\n",
    "\n",
    "### Conjuntos\n",
    "\n",
    "Os conjuntos são definidos por chaves e representam ítens não repetidos, onde automaticamente as duplicatas são removidas. Existem funções e [métodos](https://www.w3schools.com/python/python_ref_set.asp) para sua manipulação. Podemos aplicar todas as propriedades matemáticas dos conjuntos a essa estrutura de dados, como união, interseção, testes de subconjuntos, etc.\n",
    "\n",
    "`conjunto = {'pop','rock','soul','hard rock', 'R&B', 'disco'}`\n"
   ]
  },
  {
   "cell_type": "code",
   "execution_count": 16,
   "metadata": {
    "colab": {
     "base_uri": "https://localhost:8080/"
    },
    "id": "X_yc6b9ZDxsD",
    "outputId": "cf5c81b7-5b66-4910-831e-c31d3671f24e"
   },
   "outputs": [],
   "source": [
    "# Escreva um código para inserir 'pop' à seguinte lista\n",
    "L = [ 'Michael Jackson', 10.2]"
   ]
  },
  {
   "cell_type": "code",
   "execution_count": 17,
   "metadata": {},
   "outputs": [
    {
     "data": {
      "text/plain": [
       "['Michael Jackson', 10.2, 'pop']"
      ]
     },
     "execution_count": 17,
     "metadata": {},
     "output_type": "execute_result"
    }
   ],
   "source": [
    "L.append('pop')\n",
    "L"
   ]
  },
  {
   "cell_type": "code",
   "execution_count": 18,
   "metadata": {
    "colab": {
     "base_uri": "https://localhost:8080/"
    },
    "id": "WB3sm0-MEF-T",
    "outputId": "6e9ff5fc-0318-4ba4-dc35-28ac0dcb5299"
   },
   "outputs": [],
   "source": [
    "# Use um método para separar as palavras de:\n",
    "string = 'Michael Jackson is the best'"
   ]
  },
  {
   "cell_type": "code",
   "execution_count": 19,
   "metadata": {},
   "outputs": [
    {
     "data": {
      "text/plain": [
       "['Michael', 'Jackson', 'is', 'the', 'best']"
      ]
     },
     "execution_count": 19,
     "metadata": {},
     "output_type": "execute_result"
    }
   ],
   "source": [
    "string.split()"
   ]
  },
  {
   "cell_type": "code",
   "execution_count": 20,
   "metadata": {
    "colab": {
     "base_uri": "https://localhost:8080/"
    },
    "id": "bg9R5E9EEk3q",
    "outputId": "8a1f716f-0aa2-4184-baa7-137fb3a2d328"
   },
   "outputs": [
    {
     "name": "stdout",
     "output_type": "stream",
     "text": [
      "A: ['hard rock', 10, 1.2]\n",
      "B: ['hard rock', 10, 1.2]\n",
      "B[0]: hard rock\n",
      "B[0]: banana\n"
     ]
    }
   ],
   "source": [
    "# Porque no código a seguir o valor de B é igual ao de A? Como corrigir isso? \n",
    "A = [\"hard rock\", 10, 1.2]\n",
    "B = A\n",
    "print('A:', A)\n",
    "print('B:', B)\n",
    "\n",
    "print('B[0]:', B[0])\n",
    "A[0] = \"banana\"\n",
    "print('B[0]:', B[0])"
   ]
  },
  {
   "cell_type": "markdown",
   "metadata": {},
   "source": [
    "*Pois como as listas elementos mutáveis, a variável B aponta para o mesmo local na memória que a variável A, logo quando modificamos o valor da variável A estamos modificando também o valor da variável B.*\n",
    "\n",
    "*Para corrigir isso basta atribuirmos a variável B a uma cópia da variável A, pois assim será criado um novo local na memória para onde será apontada a variável B, como no exemplo abaixo.*"
   ]
  },
  {
   "cell_type": "code",
   "execution_count": 21,
   "metadata": {},
   "outputs": [
    {
     "name": "stdout",
     "output_type": "stream",
     "text": [
      "A: ['hard rock', 10, 1.2]\n",
      "B: ['hard rock', 10, 1.2]\n",
      "B[0]: hard rock\n",
      "B[0]: hard rock\n"
     ]
    }
   ],
   "source": [
    "# Solução\n",
    "A = [\"hard rock\", 10, 1.2]\n",
    "B = A.copy()\n",
    "print('A:', A)\n",
    "print('B:', B)\n",
    "\n",
    "print('B[0]:', B[0])\n",
    "A[0] = \"banana\"\n",
    "print('B[0]:', B[0])"
   ]
  },
  {
   "cell_type": "code",
   "execution_count": 22,
   "metadata": {
    "colab": {
     "base_uri": "https://localhost:8080/",
     "height": 35
    },
    "id": "iKXtnAIdE-cM",
    "outputId": "04c827c4-e9ac-45a5-bd4e-7b4d29fa22bb"
   },
   "outputs": [],
   "source": [
    "# Para a seguinte tupla, como acessar o ítem \"rock\"?\n",
    "NestedT =(1, 2, (\"pop\", \"rock\") ,(3,4),(\"disco\",(1,2)))"
   ]
  },
  {
   "cell_type": "code",
   "execution_count": 23,
   "metadata": {},
   "outputs": [
    {
     "data": {
      "text/plain": [
       "'rock'"
      ]
     },
     "execution_count": 23,
     "metadata": {},
     "output_type": "execute_result"
    }
   ],
   "source": [
    "# Solução\n",
    "NestedT[2][1]"
   ]
  },
  {
   "cell_type": "code",
   "execution_count": 24,
   "metadata": {
    "colab": {
     "base_uri": "https://localhost:8080/"
    },
    "id": "VpiwMTOAFQaB",
    "outputId": "4f3a853b-9a2e-41d6-96d8-cd4afbfd5aa4"
   },
   "outputs": [],
   "source": [
    "# Quantas vezes a string \"rock\" aparece no conjunto abaixo após sua declaração?\n",
    "set1 = {\"pop\", \"rock\", \"soul\", \"hard rock\", \"rock\", \"R&B\", \"rock\", \"disco\"}"
   ]
  },
  {
   "cell_type": "markdown",
   "metadata": {},
   "source": [
    "*Somente uma, pois sets armazenam somente valores únicos*"
   ]
  },
  {
   "cell_type": "code",
   "execution_count": 25,
   "metadata": {
    "colab": {
     "base_uri": "https://localhost:8080/"
    },
    "id": "m-C59l7aFgPu",
    "outputId": "117593eb-fc33-4b87-e035-c201191ea2de"
   },
   "outputs": [],
   "source": [
    "# Qual a interseção de album_set1 e album_set2? Use o método \"intersection\" para o conjunto.\n",
    "album_set1 = set([\"Thriller\", 'AC/DC', 'Back in Black'])\n",
    "album_set2 = set([ \"AC/DC\", \"Back in Black\", \"The Dark Side of the Moon\"])"
   ]
  },
  {
   "cell_type": "code",
   "execution_count": 26,
   "metadata": {},
   "outputs": [
    {
     "data": {
      "text/plain": [
       "{'AC/DC', 'Back in Black'}"
      ]
     },
     "execution_count": 26,
     "metadata": {},
     "output_type": "execute_result"
    }
   ],
   "source": [
    "# Solucao\n",
    "album_set1.intersection(album_set2)"
   ]
  },
  {
   "cell_type": "markdown",
   "metadata": {
    "id": "pVbiH1c9GM2A"
   },
   "source": [
    "## Dicionários\n",
    "\n",
    "O dicionário é uma estrutura de dados que possui chaves e valores associados. Os elementos em uma lista, por exemplo, são acessados por seus índices (numéricos), em um dicionário os elementos são acessados por chaves, que podem ter qualquer tipo de dado associado.\n",
    "\n",
    "<img src=\"https://cf-courses-data.s3.us.cloud-object-storage.appdomain.cloud/IBMDeveloperSkillsNetwork-PY0101EN-SkillsNetwork/labs/Module%202/images/DictsList.png\" width=\"650\" />\n",
    "\n",
    "Exemplo de um dicionário:\n",
    "\n",
    "`Dict = {\"key1\": 1, \"key2\": \"2\", \"key3\": [3, 3, 3], \"key4\": (4, 4, 4), ('key5'): 5, (0, 1): 6}`\n",
    "\n",
    "Aqui o primeiro ítem é acessado como `Dict[\"key1\"]` e o último como `Dict[(0,1)]`. A tabela a seguir apresenta os métodos dessa classe em Python.\n",
    "\n",
    "<div class=\"table-responsive\">\n",
    "\t<table border=\"0\"><tbody><tr><th>Method</th>\n",
    "\t\t\t\t<th>Description</th>\n",
    "\t\t\t</tr><tr><td><a href=\"/python-programming/methods/dictionary/clear\">clear()</a></td>\n",
    "\t\t\t\t<td>Removes all items from the dictionary.</td>\n",
    "\t\t\t</tr><tr><td><a href=\"/python-programming/methods/dictionary/copy\">copy()</a></td>\n",
    "\t\t\t\t<td>Returns a shallow copy of the dictionary.</td>\n",
    "\t\t\t</tr><tr><td><a href=\"/python-programming/methods/dictionary/fromkeys\">fromkeys(seq[, v])</a></td>\n",
    "\t\t\t\t<td>Returns a new dictionary with keys from <var>seq</var> and value equal to <var>v</var> (defaults to <code>None</code>).</td>\n",
    "\t\t\t</tr><tr><td><a href=\"/python-programming/methods/dictionary/get\">get(key[,d])</a></td>\n",
    "\t\t\t\t<td>Returns the value of the <var>key</var>. If the <var>key</var> does not exist, returns <var>d</var> (defaults to <code>None</code>).</td>\n",
    "\t\t\t</tr><tr><td><a href=\"/python-programming/methods/dictionary/items\">items()</a></td>\n",
    "\t\t\t\t<td>Return a new object of the dictionary's items in (key, value) format.</td>\n",
    "\t\t\t</tr><tr><td><a href=\"/python-programming/methods/dictionary/keys\">keys()</a></td>\n",
    "\t\t\t\t<td>Returns a new object of the dictionary's keys.</td>\n",
    "\t\t\t</tr><tr><td><a href=\"/python-programming/methods/dictionary/pop\">pop(key[,d])</a></td>\n",
    "\t\t\t\t<td>Removes the item with the <var>key</var> and returns its value or <var>d</var> if <var>key</var> is not found. If <var>d</var> is not provided and the <var>key</var> is not found, it raises <code>KeyError</code>.</td>\n",
    "\t\t\t</tr><tr><td><a href=\"/python-programming/methods/dictionary/popitem\">popitem()</a></td>\n",
    "\t\t\t\t<td>Removes and returns an arbitrary item (<strong>key, value</strong>). Raises <code>KeyError</code> if the dictionary is empty.</td>\n",
    "\t\t\t</tr><tr><td><a href=\"/python-programming/methods/dictionary/setdefault\">setdefault(key[,d])</a></td>\n",
    "\t\t\t\t<td>Returns the corresponding value if the <var>key</var> is in the dictionary. If not, inserts the <var>key</var> with a value of <var>d</var> and returns <var>d</var> (defaults to <code>None</code>).</td>\n",
    "\t\t\t</tr><tr><td><a href=\"/python-programming/methods/dictionary/update\">update([other])</a></td>\n",
    "\t\t\t\t<td>Updates the dictionary with the key/value pairs from <var>other</var>, overwriting existing keys.</td>\n",
    "\t\t\t</tr><tr><td><a href=\"/python-programming/methods/dictionary/values\">values()</a></td>\n",
    "\t\t\t\t<td>Returns a new object of the dictionary's values</td>\n",
    "\t\t\t</tr></tbody></table></div>"
   ]
  },
  {
   "cell_type": "code",
   "execution_count": 27,
   "metadata": {
    "colab": {
     "base_uri": "https://localhost:8080/"
    },
    "id": "n3Z54v7mIzXo",
    "outputId": "7046fbb3-d72b-409d-f0d6-adccb0d40890"
   },
   "outputs": [],
   "source": [
    "# Tome o seguinte dicionário de anos de lançamentos de albuns. Na delclaração o caractere \\ é usado para quebra de linha. Usando a chave do dicionário para acessar o dado, qual o ano de lançamento do album \"The Dark Side of the Moon\"?\n",
    "release_year_dict = {\"Thriller\": \"1982\", \"Back in Black\": \"1980\", \\\n",
    "                    \"The Dark Side of the Moon\": \"1973\", \"The Bodyguard\": \"1992\", \\\n",
    "                    \"Bat Out of Hell\": \"1977\", \"Their Greatest Hits (1971-1975)\": \"1976\", \\\n",
    "                    \"Saturday Night Fever\": \"1977\", \"Rumours\": \"1977\"}\n",
    "                    "
   ]
  },
  {
   "cell_type": "code",
   "execution_count": 28,
   "metadata": {},
   "outputs": [
    {
     "data": {
      "text/plain": [
       "'1973'"
      ]
     },
     "execution_count": 28,
     "metadata": {},
     "output_type": "execute_result"
    }
   ],
   "source": [
    "# Solução\n",
    "release_year_dict['The Dark Side of the Moon']"
   ]
  },
  {
   "cell_type": "code",
   "execution_count": 29,
   "metadata": {
    "colab": {
     "base_uri": "https://localhost:8080/"
    },
    "id": "VzFwoktbJL8s",
    "outputId": "3966fcb9-aeba-4f9a-ba53-0ad6a605c850"
   },
   "outputs": [
    {
     "data": {
      "text/plain": [
       "dict_keys(['Thriller', 'Back in Black', 'The Dark Side of the Moon', 'The Bodyguard', 'Bat Out of Hell', 'Their Greatest Hits (1971-1975)', 'Saturday Night Fever', 'Rumours'])"
      ]
     },
     "execution_count": 29,
     "metadata": {},
     "output_type": "execute_result"
    }
   ],
   "source": [
    "# Escreva um programa para retornar um objeto com todas as chaves do dicionário. Use um método para isso.\n",
    "release_year_dict.keys()"
   ]
  },
  {
   "cell_type": "code",
   "execution_count": 30,
   "metadata": {
    "id": "BkYjKukdJuF5"
   },
   "outputs": [
    {
     "data": {
      "text/plain": [
       "'2012'"
      ]
     },
     "execution_count": 30,
     "metadata": {},
     "output_type": "execute_result"
    }
   ],
   "source": [
    "# Adicione o álbum 'Eternos Namorados' de '2012' da Banda Calypso ao dicionário.\n",
    "release_year_dict['Eternos Namorados'] = '2012'\n",
    "release_year_dict['Eternos Namorados']"
   ]
  },
  {
   "cell_type": "code",
   "execution_count": 31,
   "metadata": {
    "colab": {
     "base_uri": "https://localhost:8080/"
    },
    "id": "130OGMdeKb-6",
    "outputId": "ce30235b-9384-4066-8b5b-7ea8ea51ddde"
   },
   "outputs": [
    {
     "data": {
      "text/plain": [
       "True"
      ]
     },
     "execution_count": 31,
     "metadata": {},
     "output_type": "execute_result"
    }
   ],
   "source": [
    "# Escreva um programa para verificar se 'Thriller' está no dicionário. Use o operador \"in\" dos conjuntos\n",
    "'Thriller' in release_year_dict"
   ]
  },
  {
   "cell_type": "code",
   "execution_count": 32,
   "metadata": {
    "id": "_eHHlKGrLI38"
   },
   "outputs": [
    {
     "data": {
      "text/plain": [
       "{'Thriller': '1982',\n",
       " 'Back in Black': '1980',\n",
       " 'The Dark Side of the Moon': '1973',\n",
       " 'Bat Out of Hell': '1977',\n",
       " 'Their Greatest Hits (1971-1975)': '1976',\n",
       " 'Saturday Night Fever': '1977',\n",
       " 'Rumours': '1977',\n",
       " 'Eternos Namorados': '2012',\n",
       " '25 anos': '2020'}"
      ]
     },
     "execution_count": 32,
     "metadata": {},
     "output_type": "execute_result"
    }
   ],
   "source": [
    "# Escreva um programa para apagar 'The Bodyguard' do dicionário. Adicione em seguida o álbum '25 anos' de '2020' da cantora Joelma Mendes.\n",
    "release_year_dict.pop('The Bodyguard')\n",
    "release_year_dict['25 anos'] = '2020'\n",
    "release_year_dict"
   ]
  },
  {
   "cell_type": "markdown",
   "metadata": {
    "id": "FtdrnOpINN0t"
   },
   "source": [
    "<details><summary>Dica</summary>\n",
    "\n",
    "```python\n",
    "Dicionario['chave'] = valor\n",
    "```\n",
    "\n",
    "```python\n",
    "Dicionario.pop('chave') # Apagar\n",
    "```\n",
    "\n",
    "![Eternos Namorados\"](https://www.vagalume.com.br/banda-calypso/discografia/eternos-namorados.jpg)"
   ]
  },
  {
   "cell_type": "markdown",
   "metadata": {
    "id": "NWskZBx5OLo8"
   },
   "source": [
    "## Condições\n",
    "\n",
    "O comando `if` em Python é utilizado para desviar o fluxo do código baseado em um teste lógico. Caso o teste seja verdadeiro o comando interno à condição é executado. Após o comando ser executado o fluxo do código volta a ser sequêncial de cima para baixo. É possível adicionar o comando `else` para avaliar um bloco caso o teste lógico seja falso. O comando `elif`é usado para caso o teste inicial seja falso realize um segundo teste antes de executar o `else`, se o segundo teste for verdadeiro o `else` não é executado.\n",
    "\n",
    "Somente o `if`\n",
    "```python\n",
    "if condição:\n",
    "  bloco\n",
    "```\n",
    "Estrutura `if-else`\n",
    "```python\n",
    "if condição:\n",
    "  bloco 1\n",
    "else:\n",
    "  bloco 2\n",
    "```\n",
    "Estrutura `if-elif-else`\n",
    "```python\n",
    "if condição 1:\n",
    "  bloco 1\n",
    "elif condição 2:\n",
    "  bloco2\n",
    "else:\n",
    "  bloco 3\n",
    "```"
   ]
  },
  {
   "cell_type": "code",
   "execution_count": 33,
   "metadata": {
    "colab": {
     "base_uri": "https://localhost:8080/"
    },
    "id": "Kb0bHvvhQNmj",
    "outputId": "1b601d6a-e74a-4e41-8cc2-2aa2c2f51aa3"
   },
   "outputs": [],
   "source": [
    "# Faça um programa com a condição preço, se menor que 10 imprima 'compro'\n",
    "preco = 7"
   ]
  },
  {
   "cell_type": "code",
   "execution_count": 34,
   "metadata": {},
   "outputs": [
    {
     "name": "stdout",
     "output_type": "stream",
     "text": [
      "compro\n"
     ]
    }
   ],
   "source": [
    "# Solução\n",
    "if preco < 10:\n",
    "    print('compro')"
   ]
  },
  {
   "cell_type": "code",
   "execution_count": 35,
   "metadata": {
    "colab": {
     "base_uri": "https://localhost:8080/"
    },
    "id": "x51xARNFQdGO",
    "outputId": "49dcfca6-f4be-4546-9f7d-3e03f9cbd7bf"
   },
   "outputs": [],
   "source": [
    "# Faça um programa com a condição preço, se menor que 10 imprima 'compro', caso contrário imprima 'não compro'\n",
    "preco = 12"
   ]
  },
  {
   "cell_type": "code",
   "execution_count": 36,
   "metadata": {},
   "outputs": [
    {
     "name": "stdout",
     "output_type": "stream",
     "text": [
      "não compro\n"
     ]
    }
   ],
   "source": [
    "# Solução\n",
    "if preco < 10:\n",
    "    print('compro')\n",
    "else:\n",
    "    print('não compro')"
   ]
  },
  {
   "cell_type": "code",
   "execution_count": 37,
   "metadata": {
    "colab": {
     "base_uri": "https://localhost:8080/"
    },
    "id": "-oKNLjrdSdAA",
    "outputId": "e690e52b-3046-4f3e-9297-27cf95a08558"
   },
   "outputs": [],
   "source": [
    "# Faça um programa com a condição preço, se menor que 10 imprima 'compro', se menor que 12 imprima 'vou pensar', caso contrário imprima 'não compro'\n",
    "preco = 11"
   ]
  },
  {
   "cell_type": "code",
   "execution_count": 38,
   "metadata": {},
   "outputs": [
    {
     "name": "stdout",
     "output_type": "stream",
     "text": [
      "vou pensar\n"
     ]
    }
   ],
   "source": [
    "# Solução\n",
    "if preco < 10:\n",
    "    print('compro')\n",
    "elif preco < 12:\n",
    "    print('vou pensar')\n",
    "else:\n",
    "    print('não compro')"
   ]
  },
  {
   "cell_type": "markdown",
   "metadata": {
    "id": "AH7-XRjWQyAy"
   },
   "source": [
    "## Repetição\n",
    "\n",
    "Às vezes, você pode querer repetir uma determinada operação muitas vezes. Execuções repetidas como essa são realizadas por loops. Veremos dois tipos de loops, `for` e `while`.\n",
    "\n",
    "### Loop `for`\n",
    "\n",
    "O loop `for` permite que você execute um bloco de código várias vezes. Por exemplo, você o usaria para imprimir todos os elementos de uma lista.\n",
    "\n",
    "```python\n",
    "# x é um objeto com N elementos\n",
    "for i in range(N):\n",
    "  print(x[i])\n",
    "```\n",
    "A função `range()` gera um objeto para iteração, por padrão ele varia de 0 a N, podemos alterar essa sequência alterando a entrada da função.\n",
    "\n",
    "Outra maneira muito usual de usar esse loop é a seguite:\n",
    "\n",
    "```python\n",
    "for val in lista:\n",
    "  print(val)\n",
    "```\n",
    "\n",
    "### Loop `while`\n",
    "\n",
    "Como você pode ver, o loop for é usado para um fluxo controlado de repetição. No entanto, e se não soubermos quando queremos interromper o loop? E se quisermos continuar executando um bloco de código até que uma determinada condição seja atendida? O loop while existe como uma ferramenta para execução repetida com base em uma condição. O bloco de código continuará sendo executado até que a condição lógica fornecida retorne um valor booleano False.\n",
    "\n",
    "```python\n",
    "# Aqui geralmente se inicia um contador ou valor\n",
    "while condição:\n",
    "  bloco\n",
    "  # aqui geralmente se incrementa um contador ou altera esse valor\n",
    "```"
   ]
  },
  {
   "cell_type": "code",
   "execution_count": 39,
   "metadata": {
    "colab": {
     "base_uri": "https://localhost:8080/"
    },
    "id": "v6OsHzvoTZ0x",
    "outputId": "51edc490-d1bd-4a97-cffc-0e616547b068"
   },
   "outputs": [
    {
     "name": "stdout",
     "output_type": "stream",
     "text": [
      "-5\n",
      "-4\n",
      "-3\n",
      "-2\n",
      "-1\n",
      "0\n",
      "1\n",
      "2\n",
      "3\n",
      "4\n",
      "5\n"
     ]
    }
   ],
   "source": [
    "# Escreva um programa para imprimir os números de -5 a 5\n",
    "for n in range(-5, 6):\n",
    "    print(n)"
   ]
  },
  {
   "cell_type": "code",
   "execution_count": 40,
   "metadata": {
    "colab": {
     "base_uri": "https://localhost:8080/"
    },
    "id": "YbDdbpzvTgAK",
    "outputId": "052f238f-4b63-4c5b-ad96-bc47396ff14d"
   },
   "outputs": [
    {
     "name": "stdout",
     "output_type": "stream",
     "text": [
      "bacon\n",
      "requeijão\n",
      "salame\n",
      "calabresa\n",
      "coca-cola zero\n"
     ]
    }
   ],
   "source": [
    "# Escreva um programa para imprimir minha lista_de_compras\n",
    "lista_de_compras = ['bacon', 'requeijão', 'salame', 'calabresa', 'coca-cola zero']\n",
    "\n",
    "for e in lista_de_compras:\n",
    "    print(e)"
   ]
  },
  {
   "cell_type": "code",
   "execution_count": 41,
   "metadata": {
    "colab": {
     "base_uri": "https://localhost:8080/"
    },
    "id": "vP8MXQG2T-54",
    "outputId": "d5e2137b-fea7-45ba-b256-43def4bd5751"
   },
   "outputs": [
    {
     "name": "stdout",
     "output_type": "stream",
     "text": [
      "Digite o valor do dólar hoje: 4\n",
      "Digite o valor do dólar hoje: 5\n",
      "Digite o valor do dólar hoje: 6\n",
      "Digite o valor do dólar hoje: 3\n",
      "Digite o valor do dólar hoje: 2\n",
      "Vamos viajar!\n"
     ]
    }
   ],
   "source": [
    "# Escreva um programa para saber quando iremos para a Disney pelo valor do Dólar. Se esse valor estiver abaixo de R$ 3 podemos parar de checar seu preço e imprimir 'Vamos viajar!', caso contrário continuamos olhando o preço do Dólar. \n",
    "# Simule a leitura do câmbio por uma entrada do teclado. \n",
    "while True:\n",
    "    dolar = float(input('Digite o valor do dólar hoje: '))\n",
    "    if dolar < 3:\n",
    "        print('Vamos viajar!')\n",
    "        break"
   ]
  },
  {
   "cell_type": "markdown",
   "metadata": {
    "id": "D4eVh64sVGTk"
   },
   "source": [
    "<details><summary>Dica</summary>\n",
    "\n",
    "```python\n",
    "x = input('alguma pergunta') # lê uma string do teclado\n",
    "```"
   ]
  },
  {
   "cell_type": "markdown",
   "metadata": {},
   "source": [
    "### Segundo bloco de exercícios"
   ]
  },
  {
   "cell_type": "markdown",
   "metadata": {},
   "source": [
    "1) Crie uma função que receba um inteiro como argumento e retorne o seu fatorial.\n",
    "\n",
    "$$\n",
    "n! = n \\cdot (n-1)! = n! \\cdot (n-1) \\cdot (n-2) \\cdots 3 \\cdot 2 \\cdot 1\n",
    "$$\n",
    "e sabendo que $0!=1$. \n",
    "\n",
    "Caso o usuário digite um número inválido, não retorne nada."
   ]
  },
  {
   "cell_type": "code",
   "execution_count": 4,
   "metadata": {},
   "outputs": [],
   "source": [
    "# Crie aqui a função solicitada\n",
    "def fatorial(n):\n",
    "    \"\"\"\n",
    "    Calcula o fatorial de um número utilizando recursão\n",
    "    \n",
    "    Parameters\n",
    "    ----------\n",
    "        n: int\n",
    "    \n",
    "    Returns\n",
    "    -------\n",
    "        n!: int\n",
    "    \"\"\"\n",
    "    if not isinstance(n , int):\n",
    "        raise ValueError('n precisa ser um inteiro')\n",
    "    if n == 0 or n == 1:\n",
    "        return 1\n",
    "    return n * fatorial(n-1)"
   ]
  },
  {
   "cell_type": "code",
   "execution_count": 5,
   "metadata": {},
   "outputs": [
    {
     "data": {
      "text/plain": [
       "120"
      ]
     },
     "execution_count": 5,
     "metadata": {},
     "output_type": "execute_result"
    }
   ],
   "source": [
    "# Utilizando a função criada, calcule 5!\n",
    "fatorial(5)"
   ]
  },
  {
   "cell_type": "markdown",
   "metadata": {},
   "source": [
    "2) Crie uma função `Comb(n,k)` que calcule a quantidade das $k$-combinações de um determinado conjunto $n$. \n",
    "$$\n",
    "{n\\choose k} = \\frac{n!}{k! (n-k)!}\n",
    "$$\n",
    "\n",
    "**Observação:** Para uma melhor representação considere a divisão como somente a sua parte inteira `//` ou invés da divisão tradicional `/`"
   ]
  },
  {
   "cell_type": "code",
   "execution_count": 6,
   "metadata": {},
   "outputs": [],
   "source": [
    "# Crie aqui a função solicitada\n",
    "def combinacao(n, k):\n",
    "    \"\"\"\n",
    "    Calcula a quantidade das  𝑘-combinações de um determinado conjunto 𝑛\n",
    "    \n",
    "    Parameters\n",
    "    ----------\n",
    "        n: int\n",
    "        k: int\n",
    "    \n",
    "    Returns\n",
    "    -------\n",
    "        comb(n, k): int\n",
    "    \"\"\"\n",
    "    if not isinstance(n , int):\n",
    "        raise ValueError('n precisa ser um inteiro')\n",
    "    if not isinstance(k , int):\n",
    "        raise ValueError('k precisa ser um inteiro')\n",
    "\n",
    "    return fatorial(n) // (fatorial(k) * fatorial(n-k))"
   ]
  },
  {
   "cell_type": "code",
   "execution_count": 7,
   "metadata": {},
   "outputs": [
    {
     "data": {
      "text/plain": [
       "10"
      ]
     },
     "execution_count": 7,
     "metadata": {},
     "output_type": "execute_result"
    }
   ],
   "source": [
    "# Utilizando a função criada, calcule Comb(5,3)\n",
    "combinacao(5, 3)"
   ]
  },
  {
   "cell_type": "markdown",
   "metadata": {},
   "source": [
    "3) Utilizando uma *list comprehension*, crie a seguinte lista:\n",
    "```\n",
    "[[0],\n",
    " [0, 1],\n",
    " [0, 1, 2],\n",
    " [0, 1, 2, 3],\n",
    " [0, 1, 2, 3, 4],\n",
    " [0, 1, 2, 3, 4, 5],\n",
    " [0, 1, 2, 3, 4, 5, 6],\n",
    " [0, 1, 2, 3, 4, 5, 6, 7],\n",
    " [0, 1, 2, 3, 4, 5, 6, 7, 8],\n",
    " [0, 1, 2, 3, 4, 5, 6, 7, 8, 9],\n",
    " [0, 1, 2, 3, 4, 5, 6, 7, 8, 9, 10]]\n",
    " ```\n",
    " **Dicas:** \n",
    "* Serão necessários dois loops `for`. \n",
    "* Você pode criar uma list comprehension dentro de outra.\n",
    "* Note que a quantidade de elementos de cada lista interna é função de seu índice na lista."
   ]
  },
  {
   "cell_type": "code",
   "execution_count": 8,
   "metadata": {},
   "outputs": [
    {
     "data": {
      "text/plain": [
       "[[0],\n",
       " [0, 1],\n",
       " [0, 1, 2],\n",
       " [0, 1, 2, 3],\n",
       " [0, 1, 2, 3, 4],\n",
       " [0, 1, 2, 3, 4, 5],\n",
       " [0, 1, 2, 3, 4, 5, 6],\n",
       " [0, 1, 2, 3, 4, 5, 6, 7],\n",
       " [0, 1, 2, 3, 4, 5, 6, 7, 8],\n",
       " [0, 1, 2, 3, 4, 5, 6, 7, 8, 9],\n",
       " [0, 1, 2, 3, 4, 5, 6, 7, 8, 9, 10]]"
      ]
     },
     "execution_count": 8,
     "metadata": {},
     "output_type": "execute_result"
    }
   ],
   "source": [
    "# Escreva aqui o código\n",
    "[[j for j in range(i)] for i in range(1, 12)]"
   ]
  },
  {
   "cell_type": "markdown",
   "metadata": {},
   "source": [
    "4) Utilizando a função `Comb(n,k)` da questão 2 crie o triângulo de Pascal: \n",
    "$$\n",
    "{0\\choose 0} \\\\\n",
    "{1\\choose 0} {1\\choose 1}\\\\\n",
    "{2\\choose 0} {2\\choose 1} {2\\choose 2}\\\\\n",
    "{3\\choose 0} {3\\choose 1} {3\\choose 2} {3\\choose 3}\\\\\n",
    "{4\\choose 0} {4\\choose 1} {4\\choose 2} {4\\choose 3} {4\\choose 4}\\\\\n",
    "{5\\choose 0} {5\\choose 1} {5\\choose 2} {5\\choose 3} {5\\choose 4} {5\\choose 5}\\\\\n",
    "$$\n",
    "\n",
    "Armazene cada termo calculado em uma lista. O resultado esperado para as 10 primeiras linhas do triângulo de Pascal é:\n",
    "```\n",
    "[[1],\n",
    " [1, 1],\n",
    " [1, 2, 1],\n",
    " [1, 3, 3, 1],\n",
    " [1, 4, 6, 4, 1],\n",
    " [1, 5, 10, 10, 5, 1],\n",
    " [1, 6, 15, 20, 15, 6, 1],\n",
    " [1, 7, 21, 35, 35, 21, 7, 1],\n",
    " [1, 8, 28, 56, 70, 56, 28, 8, 1],\n",
    " [1, 9, 36, 84, 126, 126, 84, 36, 9, 1],\n",
    " [1, 10, 45, 120, 210, 252, 210, 120, 45, 10, 1]]\n",
    "```"
   ]
  },
  {
   "cell_type": "code",
   "execution_count": 11,
   "metadata": {},
   "outputs": [
    {
     "name": "stdout",
     "output_type": "stream",
     "text": [
      "[1]\n",
      "[1, 1]\n",
      "[1, 2, 1]\n",
      "[1, 3, 3, 1]\n",
      "[1, 4, 6, 4, 1]\n",
      "[1, 5, 10, 10, 5, 1]\n",
      "[1, 6, 15, 20, 15, 6, 1]\n",
      "[1, 7, 21, 35, 35, 21, 7, 1]\n",
      "[1, 8, 28, 56, 70, 56, 28, 8, 1]\n",
      "[1, 9, 36, 84, 126, 126, 84, 36, 9, 1]\n",
      "[1, 10, 45, 120, 210, 252, 210, 120, 45, 10, 1]\n"
     ]
    }
   ],
   "source": [
    "# Digite o código aqui, faça uma lista para armanezar as 10 primeiras linhas do triângulo de Pascal\n",
    "\n",
    "def calcular_triangulo_pascal(n):\n",
    "    \"\"\"\n",
    "    Calcula o triângulo de pascal para n linhas\n",
    "    \"\"\"\n",
    "    linhas = []  # Agregação de  todas as combinações em todas as linhas\n",
    "    for n in range(n+1): \n",
    "        comb_linha = []  # Todas as combinações dentro de uma linha\n",
    "        for k in range(n+1):\n",
    "            comb_linha.append(combinacao(n, k))\n",
    "        linhas.append(comb_linha)\n",
    "    return linhas\n",
    "\n",
    "resultados = calcular_triangulo_pascal(10)\n",
    "\n",
    "# Para um print bonito\n",
    "for e in resultados:\n",
    "    print(e)"
   ]
  },
  {
   "cell_type": "code",
   "execution_count": 47,
   "metadata": {},
   "outputs": [
    {
     "name": "stdout",
     "output_type": "stream",
     "text": [
      "[1]\n",
      "[1, 1]\n",
      "[1, 2, 1]\n",
      "[1, 3, 3, 1]\n",
      "[1, 4, 6, 4, 1]\n",
      "[1, 5, 10, 10, 5, 1]\n",
      "[1, 6, 15, 20, 15, 6, 1]\n",
      "[1, 7, 21, 35, 35, 21, 7, 1]\n",
      "[1, 8, 28, 56, 70, 56, 28, 8, 1]\n",
      "[1, 9, 36, 84, 126, 126, 84, 36, 9, 1]\n",
      "[1, 10, 45, 120, 210, 252, 210, 120, 45, 10, 1]\n"
     ]
    }
   ],
   "source": [
    "# Digite o código aqui, faça uma lista para armanezar as 10 primeiras linhas do triângulo de Pascal\n",
    "\n",
    "def calcular_triangulo_pascal(n):\n",
    "    \"\"\"\n",
    "    Calcula o triângulo de pascal para n linhas\n",
    "    \"\"\"\n",
    "    return [[combinacao(n, k) for k in range(n+1)] for n in range(n+1)]\n",
    "\n",
    "resultados = calcular_triangulo_pascal(10)\n",
    "\n",
    "# Para um print bonito\n",
    "for e in resultados:\n",
    "    print(e)"
   ]
  },
  {
   "cell_type": "code",
   "execution_count": 48,
   "metadata": {},
   "outputs": [
    {
     "data": {
      "text/plain": [
       "[1, 2, 4, 8, 16, 32, 64, 128, 256, 512, 1024]"
      ]
     },
     "execution_count": 48,
     "metadata": {},
     "output_type": "execute_result"
    }
   ],
   "source": [
    "# Calcule e crie uma lista contendo a soma de cada linha do triângulo de Pascal que você obteve\n",
    "[sum(l) for l in resultados]"
   ]
  },
  {
   "cell_type": "markdown",
   "metadata": {},
   "source": [
    "5) Escreva uma função em python que calcule a média aritmética de uma quantidade variável de parâmetros numéricos desta função.\n",
    "\n",
    "> A média aritmética é calculada como:\n",
    "\n",
    "$$\n",
    "\\bar{x} = \\frac{x_1 + x_2 + x_3 + \\cdots + x_n}{n}\n",
    "$$"
   ]
  },
  {
   "cell_type": "code",
   "execution_count": 49,
   "metadata": {},
   "outputs": [],
   "source": [
    "# Digite aqui o código para a sua função\n",
    "def media_aritmetica(*args):\n",
    "    return sum(args)/len(args)"
   ]
  },
  {
   "cell_type": "code",
   "execution_count": 50,
   "metadata": {},
   "outputs": [
    {
     "data": {
      "text/plain": [
       "8.333333333333334"
      ]
     },
     "execution_count": 50,
     "metadata": {},
     "output_type": "execute_result"
    }
   ],
   "source": [
    "# Aplique a sua função para os valores: 10,8 e 7\n",
    "media_aritmetica(10, 8, 7)"
   ]
  },
  {
   "cell_type": "code",
   "execution_count": 51,
   "metadata": {},
   "outputs": [
    {
     "data": {
      "text/plain": [
       "8.125"
      ]
     },
     "execution_count": 51,
     "metadata": {},
     "output_type": "execute_result"
    }
   ],
   "source": [
    "# Aplique a sua função para os valores: 10,8,7,9,10,5,7,9\n",
    "media_aritmetica(10,8,7,9,10,5,7,9)"
   ]
  },
  {
   "cell_type": "markdown",
   "metadata": {},
   "source": [
    "5) Faça uma função que receba uma lista `notas`, uma lista `pesos` em que o valor padrão é uma lista vazia e uma string `tipo` que pode ser `aritmética` (valor padrão), `ponderada`, `geométrica` e `harmônica`. As fórmulas para o cálculo de cada média são apresentadas a seguir:\n",
    "\n",
    "- Aritmética\n",
    "$$\n",
    "\\bar{x} = \\frac{x_1 + x_2 + x_3 + \\cdots + x_n}{n}\n",
    "$$\n",
    "\n",
    "- Ponderada\n",
    "$$\n",
    "\\bar{x} = \\frac{x_1 p_1 + x_2 p_2 + x_3 p_3 + \\cdots + x_n p_n}{p_1 + p_2 + p_3 + \\cdots + p_n}\n",
    "$$\n",
    "\n",
    "\n",
    "- Geométrica\n",
    "$$\n",
    "\\bar{x} = \\sqrt[n]{x_1 \\cdot x_2 \\cdot x_3 \\cdots x_n}\n",
    "$$\n",
    "\n",
    "- Harmônica\n",
    "$$\n",
    "\\bar{x} = \\frac{n}{ \\frac{1}{x_1} + \\frac{1}{x_2} + \\frac{1}{x_3} + \\cdots + \\frac{1}{x_n} }\n",
    "$$\n",
    "\n",
    "Caso a função receba uma `string` inválida para o tipo digite tipo inválido. \n",
    "\n",
    "**dicas:** a biblioteca `numpy` possui uma função para fazer um produto de vários termos `prod(lista)` e a n-ésima raiz pode ser obtida como `pow(valor, 1/"
   ]
  },
  {
   "cell_type": "code",
   "execution_count": 15,
   "metadata": {},
   "outputs": [],
   "source": [
    "import numpy as np"
   ]
  },
  {
   "cell_type": "code",
   "execution_count": 31,
   "metadata": {},
   "outputs": [],
   "source": [
    "# Escreva aqui a declaração da função\n",
    "def media(notas, pesos=[], tipo='aritmética'):\n",
    "    \"\"\"\n",
    "    Calcula as médias aritmética, ponderada, geométrica e harmônica\n",
    "    \"\"\"\n",
    "    notas_ = np.array(notas)\n",
    "    pesos_ = np.array(pesos)\n",
    "    n = len(notas)\n",
    "\n",
    "    if tipo == 'aritmética':\n",
    "        return np.sum(notas_)/n\n",
    "    elif tipo == 'ponderada':\n",
    "        return np.dot(notas_, pesos_)/np.sum(pesos_)\n",
    "    elif tipo == 'geométrica':\n",
    "        return np.power(np.prod(notas_), 1/n)\n",
    "    elif tipo == 'harmônica':\n",
    "        return n/(np.sum(1/notas_))\n",
    "    else:\n",
    "        raise ValueError(\"tipo precisa ser uma das médias ['aritmética', 'ponderada', 'geométrica', 'harmônica']\")"
   ]
  },
  {
   "cell_type": "code",
   "execution_count": 54,
   "metadata": {},
   "outputs": [],
   "source": [
    "# Para as seguintes notas calcule a média aritmética usando a função criada\n",
    "notas = [5,8,6]"
   ]
  },
  {
   "cell_type": "code",
   "execution_count": 55,
   "metadata": {},
   "outputs": [
    {
     "data": {
      "text/plain": [
       "6.333333333333333"
      ]
     },
     "execution_count": 55,
     "metadata": {},
     "output_type": "execute_result"
    }
   ],
   "source": [
    "# Solução\n",
    "media(notas)"
   ]
  },
  {
   "cell_type": "code",
   "execution_count": 20,
   "metadata": {},
   "outputs": [],
   "source": [
    "# Para as seguintes notas e pesos calcule a média ponderada usando a função criada\n",
    "notas = [5,8,6]\n",
    "pesos = [1,2,1]"
   ]
  },
  {
   "cell_type": "code",
   "execution_count": 21,
   "metadata": {},
   "outputs": [
    {
     "data": {
      "text/plain": [
       "6.75"
      ]
     },
     "execution_count": 21,
     "metadata": {},
     "output_type": "execute_result"
    }
   ],
   "source": [
    "# Solução\n",
    "media(notas, pesos, tipo='ponderada')"
   ]
  },
  {
   "cell_type": "code",
   "execution_count": 58,
   "metadata": {},
   "outputs": [],
   "source": [
    "# Para as seguintes notas calcule a média geométrica usando a função criada\n",
    "notas = [5,8,6]"
   ]
  },
  {
   "cell_type": "code",
   "execution_count": 59,
   "metadata": {},
   "outputs": [
    {
     "data": {
      "text/plain": [
       "6.214465011907717"
      ]
     },
     "execution_count": 59,
     "metadata": {},
     "output_type": "execute_result"
    }
   ],
   "source": [
    "# Solução\n",
    "media(notas, tipo='geométrica')"
   ]
  },
  {
   "cell_type": "code",
   "execution_count": 60,
   "metadata": {},
   "outputs": [],
   "source": [
    "# Para as seguintes notas calcule a média harmônica usando a função criada\n",
    "notas = [5,8,6]"
   ]
  },
  {
   "cell_type": "code",
   "execution_count": 61,
   "metadata": {},
   "outputs": [
    {
     "data": {
      "text/plain": [
       "6.101694915254237"
      ]
     },
     "execution_count": 61,
     "metadata": {},
     "output_type": "execute_result"
    }
   ],
   "source": [
    "# Solução\n",
    "media(notas, tipo='harmônica')"
   ]
  },
  {
   "cell_type": "markdown",
   "metadata": {},
   "source": [
    "6) Dada a classe `Pessoa` definida no bloco a seguir, adicione o método `maior()` que retorna `True` caso a pessoa seja maior que 18 anos e `False` caso contrário."
   ]
  },
  {
   "cell_type": "code",
   "execution_count": 35,
   "metadata": {},
   "outputs": [],
   "source": [
    "class Pessoa:\n",
    "    def __init__(self, nome, sobrenome, idade):\n",
    "        self.nome = nome\n",
    "        self.sobrenome = sobrenome\n",
    "        self.idade = idade\n",
    "    def imprime(self):\n",
    "        print(self.nome, self.sobrenome,',', self.idade, 'anos')\n",
    "    def maior(self):\n",
    "        if self.idade >= 18:\n",
    "            return True\n",
    "        else:\n",
    "            return False"
   ]
  },
  {
   "cell_type": "code",
   "execution_count": 29,
   "metadata": {},
   "outputs": [],
   "source": [
    "# Para as seguintes listas crie uma lista de Pessoas com [nome, sobrenome e idade] em cada item\n",
    "nome = ['André', 'Bruna', 'Caio', 'Daniel', 'João']\n",
    "sobrenome = ['Silva', 'Vasconcelos', 'Pereira', 'Castro', 'Farias']\n",
    "idade = [20, 18, 17, 30, 16]"
   ]
  },
  {
   "cell_type": "code",
   "execution_count": 30,
   "metadata": {},
   "outputs": [
    {
     "data": {
      "text/plain": [
       "[André, Silva, 20, anos,\n",
       " Bruna, Vasconcelos, 18, anos,\n",
       " Caio, Pereira, 17, anos,\n",
       " Daniel, Castro, 30, anos,\n",
       " João, Farias, 16, anos]"
      ]
     },
     "execution_count": 30,
     "metadata": {},
     "output_type": "execute_result"
    }
   ],
   "source": [
    "# Solução\n",
    "lista_pessoas = [Pessoa(n, s, i) for n, s, i in zip(nome, sobrenome, idade)]\n",
    "lista_pessoas"
   ]
  },
  {
   "cell_type": "code",
   "execution_count": 65,
   "metadata": {},
   "outputs": [
    {
     "name": "stdout",
     "output_type": "stream",
     "text": [
      "André Silva , 20 anos\n",
      "Bruna Vasconcelos , 18 anos\n",
      "Caio Pereira , 17 anos\n",
      "Daniel Castro , 30 anos\n",
      "João Farias , 16 anos\n"
     ]
    }
   ],
   "source": [
    "# Use um método da classe Pessoa para imprimir os dados de cada pessoa da lista. Faça uma varredura na lista de pessoas para isso.\n",
    "for p in lista_pessoas:\n",
    "    p.imprime()"
   ]
  },
  {
   "cell_type": "code",
   "execution_count": 66,
   "metadata": {},
   "outputs": [
    {
     "name": "stdout",
     "output_type": "stream",
     "text": [
      "André Silva , 20 anos\n",
      "Bruna Vasconcelos , 18 anos\n",
      "Daniel Castro , 30 anos\n"
     ]
    }
   ],
   "source": [
    "# Use um método da classe Pessoa para imprimir os dados das pessoas maiores de idade. Faça uma varredura na lista de pessoas para isso.\n",
    "for p in lista_pessoas:\n",
    "    if p.maior():\n",
    "        p.imprime()"
   ]
  },
  {
   "cell_type": "markdown",
   "metadata": {},
   "source": [
    "7) Crie uma classe `Aluno` que receba como herança a classe `Pessoa`. Fora o nome, sobrenome e idade, essa classe derivada também recebe uma lista de notas e armazena uma variável `media` que na sua declaração é igual a zero.\n",
    "\n",
    "Aproveite a função `media()`da questão 5 e crie um método `calculaMedia` que receba uma lista de pesos (valor padrão vazio) e o tipo (valor padrão 'aritmética'). Para simplificar, faça uma chamada para `media()` dentro do método. Armazene o valor calculado na variável `media` da classe.\n",
    "\n",
    "Crie um método `aprovado` que receba um argumento `necessario` cujo valor padrão é 5 e retorne `True` se a média for maior ou igual a `necessário` ou `False` caso contrário."
   ]
  },
  {
   "cell_type": "code",
   "execution_count": 67,
   "metadata": {},
   "outputs": [],
   "source": [
    "# Entre aqui com a classe derivada\n",
    "class Aluno(Pessoa):\n",
    "    def __init__(self, nome, sobrenome, idade, notas):\n",
    "        super().__init__(nome, sobrenome, idade)\n",
    "        self.notas = notas\n",
    "        self.media = 0\n",
    "    def calculaMedia(self, pesos=[], tipo='aritmética'):\n",
    "        med = round(media(self.notas, pesos, tipo), 2)\n",
    "        self.media = med\n",
    "        return med\n",
    "    def aprovado(self, necessario=5):\n",
    "        if self.media >= necessario:\n",
    "            return True\n",
    "        else:\n",
    "            return False"
   ]
  },
  {
   "cell_type": "code",
   "execution_count": 68,
   "metadata": {},
   "outputs": [],
   "source": [
    "# Crie uma lista de alunos com os seguintes nomes, sobrenomes, idades e notas\n",
    "nome = ['André', 'Bruna', 'Caio', 'Daniel', 'João']\n",
    "sobrenome = ['Silva', 'Vasconcelos', 'Pereira', 'Castro', 'Farias']\n",
    "idade = [20, 18, 17, 30, 16]\n",
    "notas = [ [8,7,6], [9,3,10], [6,5,4], [5,4,5], [0,0,10] ]"
   ]
  },
  {
   "cell_type": "code",
   "execution_count": 69,
   "metadata": {},
   "outputs": [
    {
     "name": "stdout",
     "output_type": "stream",
     "text": [
      "André Silva , 20 anos\n",
      "Média: 7.0\n",
      "\n",
      "Bruna Vasconcelos , 18 anos\n",
      "Média: 7.33\n",
      "\n",
      "Caio Pereira , 17 anos\n",
      "Média: 5.0\n",
      "\n",
      "Daniel Castro , 30 anos\n",
      "Média: 4.67\n",
      "\n",
      "João Farias , 16 anos\n",
      "Média: 3.33\n",
      "\n"
     ]
    }
   ],
   "source": [
    "# Imprima os dados dos alunos com o método imprime da classe pessoa. Faça uma varredura na lista de alunos para isso.\n",
    "# Imprima também em outra linha a média de cada aluno (você pode acessar como aluno.media). Use a média aritmética das notas.\n",
    "lista_alunos = [Aluno(nom, s, i, nota) for nom, s, i, nota in zip(nome, sobrenome, idade, notas)]\n",
    "\n",
    "for a in lista_alunos:\n",
    "    a.imprime()\n",
    "    a.calculaMedia()\n",
    "    print(f'Média: {a.media}\\n')"
   ]
  },
  {
   "cell_type": "code",
   "execution_count": 70,
   "metadata": {},
   "outputs": [
    {
     "name": "stdout",
     "output_type": "stream",
     "text": [
      "André Silva , 20 anos\n",
      "Média: 7.0\n",
      "\n",
      "Bruna Vasconcelos , 18 anos\n",
      "Média: 7.33\n",
      "\n",
      "Caio Pereira , 17 anos\n",
      "Média: 5.0\n",
      "\n"
     ]
    }
   ],
   "source": [
    "# Imprima agora só os alunos aprovados. Para isso use o método aprovado(). Faça uma varredura na lista de alunos para isso.\n",
    "# Use o método imprime da classe pessoa para imprimir os dados e imprima a média em outra linha (você pode acessar como aluno.media). \n",
    "# Use a média aritmética das notas.\n",
    "for a in lista_alunos:\n",
    "    a.calculaMedia()\n",
    "    if a.aprovado():\n",
    "        a.imprime()\n",
    "        print(f'Média: {a.media}\\n')"
   ]
  },
  {
   "cell_type": "code",
   "execution_count": null,
   "metadata": {},
   "outputs": [],
   "source": []
  }
 ],
 "metadata": {
  "colab": {
   "collapsed_sections": [],
   "name": "Aula1 - Enzo B. C.",
   "provenance": []
  },
  "kernelspec": {
   "display_name": "Python 3 (ipykernel)",
   "language": "python",
   "name": "python3"
  },
  "language_info": {
   "codemirror_mode": {
    "name": "ipython",
    "version": 3
   },
   "file_extension": ".py",
   "mimetype": "text/x-python",
   "name": "python",
   "nbconvert_exporter": "python",
   "pygments_lexer": "ipython3",
   "version": "3.9.7"
  },
  "vscode": {
   "interpreter": {
    "hash": "19f8edf9f3d47184070387e5526ef4245906fb1893b7f74c12e591a863440618"
   }
  }
 },
 "nbformat": 4,
 "nbformat_minor": 1
}
