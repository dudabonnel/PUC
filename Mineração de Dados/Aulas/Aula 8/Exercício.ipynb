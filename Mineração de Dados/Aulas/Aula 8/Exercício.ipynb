{
  "nbformat": 4,
  "nbformat_minor": 0,
  "metadata": {
    "colab": {
      "provenance": [],
      "collapsed_sections": []
    },
    "kernelspec": {
      "name": "python3",
      "display_name": "Python 3"
    },
    "language_info": {
      "name": "python"
    }
  },
  "cells": [
    {
      "cell_type": "code",
      "execution_count": null,
      "metadata": {
        "colab": {
          "base_uri": "https://localhost:8080/"
        },
        "id": "I0Di-mjM2-GZ",
        "outputId": "41c05627-b576-4c02-aadd-dd28f901d4e8"
      },
      "outputs": [
        {
          "output_type": "stream",
          "name": "stderr",
          "text": [
            "[nltk_data] Downloading package punkt to /root/nltk_data...\n",
            "[nltk_data]   Package punkt is already up-to-date!\n"
          ]
        }
      ],
      "source": [
        "import nltk\n",
        "nltk.download('punkt')\n",
        "from nltk.corpus import stopwords\n",
        "import string\n",
        "\n",
        "import pandas as pd\n",
        "from sklearn import feature_extraction\n",
        "from sklearn.model_selection import train_test_split\n",
        "from sklearn import metrics\n",
        "from sklearn import naive_bayes"
      ]
    },
    {
      "cell_type": "code",
      "source": [
        "url = 'https://github.com/americanas-tech/b2w-reviews01/blob/main/B2W-Reviews01.csv?raw=true'\n",
        "\n",
        "b2w = pd.read_csv(url)\n",
        "b2w"
      ],
      "metadata": {
        "colab": {
          "base_uri": "https://localhost:8080/",
          "height": 1000
        },
        "id": "KAx0Dqe43qMd",
        "outputId": "6026cac8-9e5e-4bd7-f13b-575060caaff2"
      },
      "execution_count": null,
      "outputs": [
        {
          "output_type": "stream",
          "name": "stderr",
          "text": [
            "/usr/local/lib/python3.7/dist-packages/IPython/core/interactiveshell.py:3326: DtypeWarning: Columns (2) have mixed types.Specify dtype option on import or set low_memory=False.\n",
            "  exec(code_obj, self.user_global_ns, self.user_ns)\n"
          ]
        },
        {
          "output_type": "execute_result",
          "data": {
            "text/plain": [
              "            submission_date  \\\n",
              "0       2018-01-01 00:11:28   \n",
              "1       2018-01-01 00:13:48   \n",
              "2       2018-01-01 00:26:02   \n",
              "3       2018-01-01 00:35:54   \n",
              "4       2018-01-01 01:00:28   \n",
              "...                     ...   \n",
              "132368  2018-05-31 23:30:50   \n",
              "132369  2018-05-31 23:42:25   \n",
              "132370  2018-05-31 23:44:16   \n",
              "132371  2018-05-31 23:46:48   \n",
              "132372  2018-05-31 23:50:33   \n",
              "\n",
              "                                              reviewer_id product_id  \\\n",
              "0       d0fb1ca69422530334178f5c8624aa7a99da47907c44de...  132532965   \n",
              "1       014d6dc5a10aed1ff1e6f349fb2b059a2d3de511c7538a...   22562178   \n",
              "2       44f2c8edd93471926fff601274b8b2b5c4824e386ae4f2...  113022329   \n",
              "3       ce741665c1764ab2d77539e18d0e4f66dde6213c9f0863...  113851581   \n",
              "4       7d7b6b18dda804a897359276cef0ca252f9932bf4b5c8e...  131788803   \n",
              "...                                                   ...        ...   \n",
              "132368  15f20e95ff44163f3175aaf67a5ae4a94d5030b409e521...   17962233   \n",
              "132369  def7cf9028b0673ab8bca3b1d06e085461fafb88cd48d9...  132631701   \n",
              "132370  7bcbf542f5d7dd9a9a192a6805adba7a7a4c1ce3bf00df...   16095859   \n",
              "132371  e6fb0b19277d01c2a300c7837a105f3c369377e92f9c19...    6774907   \n",
              "132372  ea9467aa73271fb4f68c04f4dd4f4eef304d6ee85441fb...  114081902   \n",
              "\n",
              "                                             product_name   product_brand  \\\n",
              "0       Notebook Asus Vivobook Max X541NA-GO472T Intel...             NaN   \n",
              "1                    Copo Acrílico Com Canudo 500ml Rocie             NaN   \n",
              "2       Panela de Pressão Elétrica Philips Walita Dail...  philips walita   \n",
              "3                    Betoneira Columbus - Roma Brinquedos     roma jensen   \n",
              "4       Smart TV LED 43\" LG 43UJ6525 Ultra HD 4K com C...              lg   \n",
              "...                                                   ...             ...   \n",
              "132368     Carregador De Pilha Sony + 4 Pilhas Aa 2500mah             NaN   \n",
              "132369          Mop Giratório Fit + Refil Extra - At Home             NaN   \n",
              "132370  Fita Led 5m Rgb 3528 Siliconada Com 300 Leds C...             NaN   \n",
              "132371       Etiquetas Jurídicas Vade Mecum - Marca Fácil     marca facil   \n",
              "132372  Painel de Fotos Bee Colection Rue Bac (74x94x3...           kapos   \n",
              "\n",
              "            site_category_lv1                     site_category_lv2  \\\n",
              "0                 Informática                              Notebook   \n",
              "1       Utilidades Domésticas                Copos, Taças e Canecas   \n",
              "2             Eletroportáteis                       Panela Elétrica   \n",
              "3                  Brinquedos                 Veículos de Brinquedo   \n",
              "4           TV e Home Theater                                    TV   \n",
              "...                       ...                                   ...   \n",
              "132368   Câmeras e Filmadoras  Acessórios para Câmeras e Filmadoras   \n",
              "132369  Utilidades Domésticas                   Material de Limpeza   \n",
              "132370             Automotivo                            Iluminação   \n",
              "132371              Papelaria                Material de Escritório   \n",
              "132372              Decoração                       Painel de Fotos   \n",
              "\n",
              "                            review_title  overall_rating  \\\n",
              "0                                    Bom               4   \n",
              "1       Preço imbatível, ótima qualidade               4   \n",
              "2           ATENDE TODAS AS EXPECTATIVA.               4   \n",
              "3             presente mais que desejado               4   \n",
              "4                 Sem duvidas, excelente               5   \n",
              "...                                  ...             ...   \n",
              "132368                    Ótimo produto!               5   \n",
              "132369                       Sensacional               5   \n",
              "132370                     Ótimo produto               4   \n",
              "132371              O produto não é bom.               1   \n",
              "132372              Produto não entregue               1   \n",
              "\n",
              "       recommend_to_a_friend  \\\n",
              "0                        Yes   \n",
              "1                        Yes   \n",
              "2                        Yes   \n",
              "3                        Yes   \n",
              "4                        Yes   \n",
              "...                      ...   \n",
              "132368                   Yes   \n",
              "132369                   Yes   \n",
              "132370                   Yes   \n",
              "132371                    No   \n",
              "132372                    No   \n",
              "\n",
              "                                              review_text  \\\n",
              "0       Estou contente com a compra entrega rápida o ú...   \n",
              "1       Por apenas R$1994.20,eu consegui comprar esse ...   \n",
              "2       SUPERA EM AGILIDADE E PRATICIDADE OUTRAS PANEL...   \n",
              "3       MEU FILHO AMOU! PARECE DE VERDADE COM TANTOS D...   \n",
              "4       A entrega foi no prazo, as americanas estão de...   \n",
              "...                                                   ...   \n",
              "132368  Vale muito, estou usando no controle do Xbox e...   \n",
              "132369  Prático e barato, super indico o produto para ...   \n",
              "132370  Chegou antes do prazo previsto e corresponde a...   \n",
              "132371  Material fraco, poderia ser melhor. Ficou deve...   \n",
              "132372  Comprei esse produto, quando chegou estava com...   \n",
              "\n",
              "        reviewer_birth_year reviewer_gender reviewer_state  \n",
              "0                    1958.0               F             RJ  \n",
              "1                    1996.0               M             SC  \n",
              "2                    1984.0               M             SP  \n",
              "3                    1985.0               F             SP  \n",
              "4                    1994.0               M             MG  \n",
              "...                     ...             ...            ...  \n",
              "132368               1988.0               M             RS  \n",
              "132369               1979.0               F             SP  \n",
              "132370               1979.0               F             PR  \n",
              "132371               1991.0               M             RJ  \n",
              "132372               1982.0               F             ES  \n",
              "\n",
              "[132373 rows x 14 columns]"
            ],
            "text/html": [
              "\n",
              "  <div id=\"df-ee5ae000-ce43-4c5f-9371-d903465c0f63\">\n",
              "    <div class=\"colab-df-container\">\n",
              "      <div>\n",
              "<style scoped>\n",
              "    .dataframe tbody tr th:only-of-type {\n",
              "        vertical-align: middle;\n",
              "    }\n",
              "\n",
              "    .dataframe tbody tr th {\n",
              "        vertical-align: top;\n",
              "    }\n",
              "\n",
              "    .dataframe thead th {\n",
              "        text-align: right;\n",
              "    }\n",
              "</style>\n",
              "<table border=\"1\" class=\"dataframe\">\n",
              "  <thead>\n",
              "    <tr style=\"text-align: right;\">\n",
              "      <th></th>\n",
              "      <th>submission_date</th>\n",
              "      <th>reviewer_id</th>\n",
              "      <th>product_id</th>\n",
              "      <th>product_name</th>\n",
              "      <th>product_brand</th>\n",
              "      <th>site_category_lv1</th>\n",
              "      <th>site_category_lv2</th>\n",
              "      <th>review_title</th>\n",
              "      <th>overall_rating</th>\n",
              "      <th>recommend_to_a_friend</th>\n",
              "      <th>review_text</th>\n",
              "      <th>reviewer_birth_year</th>\n",
              "      <th>reviewer_gender</th>\n",
              "      <th>reviewer_state</th>\n",
              "    </tr>\n",
              "  </thead>\n",
              "  <tbody>\n",
              "    <tr>\n",
              "      <th>0</th>\n",
              "      <td>2018-01-01 00:11:28</td>\n",
              "      <td>d0fb1ca69422530334178f5c8624aa7a99da47907c44de...</td>\n",
              "      <td>132532965</td>\n",
              "      <td>Notebook Asus Vivobook Max X541NA-GO472T Intel...</td>\n",
              "      <td>NaN</td>\n",
              "      <td>Informática</td>\n",
              "      <td>Notebook</td>\n",
              "      <td>Bom</td>\n",
              "      <td>4</td>\n",
              "      <td>Yes</td>\n",
              "      <td>Estou contente com a compra entrega rápida o ú...</td>\n",
              "      <td>1958.0</td>\n",
              "      <td>F</td>\n",
              "      <td>RJ</td>\n",
              "    </tr>\n",
              "    <tr>\n",
              "      <th>1</th>\n",
              "      <td>2018-01-01 00:13:48</td>\n",
              "      <td>014d6dc5a10aed1ff1e6f349fb2b059a2d3de511c7538a...</td>\n",
              "      <td>22562178</td>\n",
              "      <td>Copo Acrílico Com Canudo 500ml Rocie</td>\n",
              "      <td>NaN</td>\n",
              "      <td>Utilidades Domésticas</td>\n",
              "      <td>Copos, Taças e Canecas</td>\n",
              "      <td>Preço imbatível, ótima qualidade</td>\n",
              "      <td>4</td>\n",
              "      <td>Yes</td>\n",
              "      <td>Por apenas R$1994.20,eu consegui comprar esse ...</td>\n",
              "      <td>1996.0</td>\n",
              "      <td>M</td>\n",
              "      <td>SC</td>\n",
              "    </tr>\n",
              "    <tr>\n",
              "      <th>2</th>\n",
              "      <td>2018-01-01 00:26:02</td>\n",
              "      <td>44f2c8edd93471926fff601274b8b2b5c4824e386ae4f2...</td>\n",
              "      <td>113022329</td>\n",
              "      <td>Panela de Pressão Elétrica Philips Walita Dail...</td>\n",
              "      <td>philips walita</td>\n",
              "      <td>Eletroportáteis</td>\n",
              "      <td>Panela Elétrica</td>\n",
              "      <td>ATENDE TODAS AS EXPECTATIVA.</td>\n",
              "      <td>4</td>\n",
              "      <td>Yes</td>\n",
              "      <td>SUPERA EM AGILIDADE E PRATICIDADE OUTRAS PANEL...</td>\n",
              "      <td>1984.0</td>\n",
              "      <td>M</td>\n",
              "      <td>SP</td>\n",
              "    </tr>\n",
              "    <tr>\n",
              "      <th>3</th>\n",
              "      <td>2018-01-01 00:35:54</td>\n",
              "      <td>ce741665c1764ab2d77539e18d0e4f66dde6213c9f0863...</td>\n",
              "      <td>113851581</td>\n",
              "      <td>Betoneira Columbus - Roma Brinquedos</td>\n",
              "      <td>roma jensen</td>\n",
              "      <td>Brinquedos</td>\n",
              "      <td>Veículos de Brinquedo</td>\n",
              "      <td>presente mais que desejado</td>\n",
              "      <td>4</td>\n",
              "      <td>Yes</td>\n",
              "      <td>MEU FILHO AMOU! PARECE DE VERDADE COM TANTOS D...</td>\n",
              "      <td>1985.0</td>\n",
              "      <td>F</td>\n",
              "      <td>SP</td>\n",
              "    </tr>\n",
              "    <tr>\n",
              "      <th>4</th>\n",
              "      <td>2018-01-01 01:00:28</td>\n",
              "      <td>7d7b6b18dda804a897359276cef0ca252f9932bf4b5c8e...</td>\n",
              "      <td>131788803</td>\n",
              "      <td>Smart TV LED 43\" LG 43UJ6525 Ultra HD 4K com C...</td>\n",
              "      <td>lg</td>\n",
              "      <td>TV e Home Theater</td>\n",
              "      <td>TV</td>\n",
              "      <td>Sem duvidas, excelente</td>\n",
              "      <td>5</td>\n",
              "      <td>Yes</td>\n",
              "      <td>A entrega foi no prazo, as americanas estão de...</td>\n",
              "      <td>1994.0</td>\n",
              "      <td>M</td>\n",
              "      <td>MG</td>\n",
              "    </tr>\n",
              "    <tr>\n",
              "      <th>...</th>\n",
              "      <td>...</td>\n",
              "      <td>...</td>\n",
              "      <td>...</td>\n",
              "      <td>...</td>\n",
              "      <td>...</td>\n",
              "      <td>...</td>\n",
              "      <td>...</td>\n",
              "      <td>...</td>\n",
              "      <td>...</td>\n",
              "      <td>...</td>\n",
              "      <td>...</td>\n",
              "      <td>...</td>\n",
              "      <td>...</td>\n",
              "      <td>...</td>\n",
              "    </tr>\n",
              "    <tr>\n",
              "      <th>132368</th>\n",
              "      <td>2018-05-31 23:30:50</td>\n",
              "      <td>15f20e95ff44163f3175aaf67a5ae4a94d5030b409e521...</td>\n",
              "      <td>17962233</td>\n",
              "      <td>Carregador De Pilha Sony + 4 Pilhas Aa 2500mah</td>\n",
              "      <td>NaN</td>\n",
              "      <td>Câmeras e Filmadoras</td>\n",
              "      <td>Acessórios para Câmeras e Filmadoras</td>\n",
              "      <td>Ótimo produto!</td>\n",
              "      <td>5</td>\n",
              "      <td>Yes</td>\n",
              "      <td>Vale muito, estou usando no controle do Xbox e...</td>\n",
              "      <td>1988.0</td>\n",
              "      <td>M</td>\n",
              "      <td>RS</td>\n",
              "    </tr>\n",
              "    <tr>\n",
              "      <th>132369</th>\n",
              "      <td>2018-05-31 23:42:25</td>\n",
              "      <td>def7cf9028b0673ab8bca3b1d06e085461fafb88cd48d9...</td>\n",
              "      <td>132631701</td>\n",
              "      <td>Mop Giratório Fit + Refil Extra - At Home</td>\n",
              "      <td>NaN</td>\n",
              "      <td>Utilidades Domésticas</td>\n",
              "      <td>Material de Limpeza</td>\n",
              "      <td>Sensacional</td>\n",
              "      <td>5</td>\n",
              "      <td>Yes</td>\n",
              "      <td>Prático e barato, super indico o produto para ...</td>\n",
              "      <td>1979.0</td>\n",
              "      <td>F</td>\n",
              "      <td>SP</td>\n",
              "    </tr>\n",
              "    <tr>\n",
              "      <th>132370</th>\n",
              "      <td>2018-05-31 23:44:16</td>\n",
              "      <td>7bcbf542f5d7dd9a9a192a6805adba7a7a4c1ce3bf00df...</td>\n",
              "      <td>16095859</td>\n",
              "      <td>Fita Led 5m Rgb 3528 Siliconada Com 300 Leds C...</td>\n",
              "      <td>NaN</td>\n",
              "      <td>Automotivo</td>\n",
              "      <td>Iluminação</td>\n",
              "      <td>Ótimo produto</td>\n",
              "      <td>4</td>\n",
              "      <td>Yes</td>\n",
              "      <td>Chegou antes do prazo previsto e corresponde a...</td>\n",
              "      <td>1979.0</td>\n",
              "      <td>F</td>\n",
              "      <td>PR</td>\n",
              "    </tr>\n",
              "    <tr>\n",
              "      <th>132371</th>\n",
              "      <td>2018-05-31 23:46:48</td>\n",
              "      <td>e6fb0b19277d01c2a300c7837a105f3c369377e92f9c19...</td>\n",
              "      <td>6774907</td>\n",
              "      <td>Etiquetas Jurídicas Vade Mecum - Marca Fácil</td>\n",
              "      <td>marca facil</td>\n",
              "      <td>Papelaria</td>\n",
              "      <td>Material de Escritório</td>\n",
              "      <td>O produto não é bom.</td>\n",
              "      <td>1</td>\n",
              "      <td>No</td>\n",
              "      <td>Material fraco, poderia ser melhor. Ficou deve...</td>\n",
              "      <td>1991.0</td>\n",
              "      <td>M</td>\n",
              "      <td>RJ</td>\n",
              "    </tr>\n",
              "    <tr>\n",
              "      <th>132372</th>\n",
              "      <td>2018-05-31 23:50:33</td>\n",
              "      <td>ea9467aa73271fb4f68c04f4dd4f4eef304d6ee85441fb...</td>\n",
              "      <td>114081902</td>\n",
              "      <td>Painel de Fotos Bee Colection Rue Bac (74x94x3...</td>\n",
              "      <td>kapos</td>\n",
              "      <td>Decoração</td>\n",
              "      <td>Painel de Fotos</td>\n",
              "      <td>Produto não entregue</td>\n",
              "      <td>1</td>\n",
              "      <td>No</td>\n",
              "      <td>Comprei esse produto, quando chegou estava com...</td>\n",
              "      <td>1982.0</td>\n",
              "      <td>F</td>\n",
              "      <td>ES</td>\n",
              "    </tr>\n",
              "  </tbody>\n",
              "</table>\n",
              "<p>132373 rows × 14 columns</p>\n",
              "</div>\n",
              "      <button class=\"colab-df-convert\" onclick=\"convertToInteractive('df-ee5ae000-ce43-4c5f-9371-d903465c0f63')\"\n",
              "              title=\"Convert this dataframe to an interactive table.\"\n",
              "              style=\"display:none;\">\n",
              "        \n",
              "  <svg xmlns=\"http://www.w3.org/2000/svg\" height=\"24px\"viewBox=\"0 0 24 24\"\n",
              "       width=\"24px\">\n",
              "    <path d=\"M0 0h24v24H0V0z\" fill=\"none\"/>\n",
              "    <path d=\"M18.56 5.44l.94 2.06.94-2.06 2.06-.94-2.06-.94-.94-2.06-.94 2.06-2.06.94zm-11 1L8.5 8.5l.94-2.06 2.06-.94-2.06-.94L8.5 2.5l-.94 2.06-2.06.94zm10 10l.94 2.06.94-2.06 2.06-.94-2.06-.94-.94-2.06-.94 2.06-2.06.94z\"/><path d=\"M17.41 7.96l-1.37-1.37c-.4-.4-.92-.59-1.43-.59-.52 0-1.04.2-1.43.59L10.3 9.45l-7.72 7.72c-.78.78-.78 2.05 0 2.83L4 21.41c.39.39.9.59 1.41.59.51 0 1.02-.2 1.41-.59l7.78-7.78 2.81-2.81c.8-.78.8-2.07 0-2.86zM5.41 20L4 18.59l7.72-7.72 1.47 1.35L5.41 20z\"/>\n",
              "  </svg>\n",
              "      </button>\n",
              "      \n",
              "  <style>\n",
              "    .colab-df-container {\n",
              "      display:flex;\n",
              "      flex-wrap:wrap;\n",
              "      gap: 12px;\n",
              "    }\n",
              "\n",
              "    .colab-df-convert {\n",
              "      background-color: #E8F0FE;\n",
              "      border: none;\n",
              "      border-radius: 50%;\n",
              "      cursor: pointer;\n",
              "      display: none;\n",
              "      fill: #1967D2;\n",
              "      height: 32px;\n",
              "      padding: 0 0 0 0;\n",
              "      width: 32px;\n",
              "    }\n",
              "\n",
              "    .colab-df-convert:hover {\n",
              "      background-color: #E2EBFA;\n",
              "      box-shadow: 0px 1px 2px rgba(60, 64, 67, 0.3), 0px 1px 3px 1px rgba(60, 64, 67, 0.15);\n",
              "      fill: #174EA6;\n",
              "    }\n",
              "\n",
              "    [theme=dark] .colab-df-convert {\n",
              "      background-color: #3B4455;\n",
              "      fill: #D2E3FC;\n",
              "    }\n",
              "\n",
              "    [theme=dark] .colab-df-convert:hover {\n",
              "      background-color: #434B5C;\n",
              "      box-shadow: 0px 1px 3px 1px rgba(0, 0, 0, 0.15);\n",
              "      filter: drop-shadow(0px 1px 2px rgba(0, 0, 0, 0.3));\n",
              "      fill: #FFFFFF;\n",
              "    }\n",
              "  </style>\n",
              "\n",
              "      <script>\n",
              "        const buttonEl =\n",
              "          document.querySelector('#df-ee5ae000-ce43-4c5f-9371-d903465c0f63 button.colab-df-convert');\n",
              "        buttonEl.style.display =\n",
              "          google.colab.kernel.accessAllowed ? 'block' : 'none';\n",
              "\n",
              "        async function convertToInteractive(key) {\n",
              "          const element = document.querySelector('#df-ee5ae000-ce43-4c5f-9371-d903465c0f63');\n",
              "          const dataTable =\n",
              "            await google.colab.kernel.invokeFunction('convertToInteractive',\n",
              "                                                     [key], {});\n",
              "          if (!dataTable) return;\n",
              "\n",
              "          const docLinkHtml = 'Like what you see? Visit the ' +\n",
              "            '<a target=\"_blank\" href=https://colab.research.google.com/notebooks/data_table.ipynb>data table notebook</a>'\n",
              "            + ' to learn more about interactive tables.';\n",
              "          element.innerHTML = '';\n",
              "          dataTable['output_type'] = 'display_data';\n",
              "          await google.colab.output.renderOutput(dataTable, element);\n",
              "          const docLink = document.createElement('div');\n",
              "          docLink.innerHTML = docLinkHtml;\n",
              "          element.appendChild(docLink);\n",
              "        }\n",
              "      </script>\n",
              "    </div>\n",
              "  </div>\n",
              "  "
            ]
          },
          "metadata": {},
          "execution_count": 5
        }
      ]
    },
    {
      "cell_type": "code",
      "source": [
        "df = b2w[['review_text', 'overall_rating']]\n",
        "df"
      ],
      "metadata": {
        "id": "IfGpIbHZ3H2l",
        "colab": {
          "base_uri": "https://localhost:8080/",
          "height": 424
        },
        "outputId": "66970a97-054e-47ed-844e-7a0a554af307"
      },
      "execution_count": null,
      "outputs": [
        {
          "output_type": "execute_result",
          "data": {
            "text/plain": [
              "                                              review_text  overall_rating\n",
              "0       Estou contente com a compra entrega rápida o ú...               4\n",
              "1       Por apenas R$1994.20,eu consegui comprar esse ...               4\n",
              "2       SUPERA EM AGILIDADE E PRATICIDADE OUTRAS PANEL...               4\n",
              "3       MEU FILHO AMOU! PARECE DE VERDADE COM TANTOS D...               4\n",
              "4       A entrega foi no prazo, as americanas estão de...               5\n",
              "...                                                   ...             ...\n",
              "132368  Vale muito, estou usando no controle do Xbox e...               5\n",
              "132369  Prático e barato, super indico o produto para ...               5\n",
              "132370  Chegou antes do prazo previsto e corresponde a...               4\n",
              "132371  Material fraco, poderia ser melhor. Ficou deve...               1\n",
              "132372  Comprei esse produto, quando chegou estava com...               1\n",
              "\n",
              "[132373 rows x 2 columns]"
            ],
            "text/html": [
              "\n",
              "  <div id=\"df-91bd206d-67f4-47ea-b97e-57ff8d705e2e\">\n",
              "    <div class=\"colab-df-container\">\n",
              "      <div>\n",
              "<style scoped>\n",
              "    .dataframe tbody tr th:only-of-type {\n",
              "        vertical-align: middle;\n",
              "    }\n",
              "\n",
              "    .dataframe tbody tr th {\n",
              "        vertical-align: top;\n",
              "    }\n",
              "\n",
              "    .dataframe thead th {\n",
              "        text-align: right;\n",
              "    }\n",
              "</style>\n",
              "<table border=\"1\" class=\"dataframe\">\n",
              "  <thead>\n",
              "    <tr style=\"text-align: right;\">\n",
              "      <th></th>\n",
              "      <th>review_text</th>\n",
              "      <th>overall_rating</th>\n",
              "    </tr>\n",
              "  </thead>\n",
              "  <tbody>\n",
              "    <tr>\n",
              "      <th>0</th>\n",
              "      <td>Estou contente com a compra entrega rápida o ú...</td>\n",
              "      <td>4</td>\n",
              "    </tr>\n",
              "    <tr>\n",
              "      <th>1</th>\n",
              "      <td>Por apenas R$1994.20,eu consegui comprar esse ...</td>\n",
              "      <td>4</td>\n",
              "    </tr>\n",
              "    <tr>\n",
              "      <th>2</th>\n",
              "      <td>SUPERA EM AGILIDADE E PRATICIDADE OUTRAS PANEL...</td>\n",
              "      <td>4</td>\n",
              "    </tr>\n",
              "    <tr>\n",
              "      <th>3</th>\n",
              "      <td>MEU FILHO AMOU! PARECE DE VERDADE COM TANTOS D...</td>\n",
              "      <td>4</td>\n",
              "    </tr>\n",
              "    <tr>\n",
              "      <th>4</th>\n",
              "      <td>A entrega foi no prazo, as americanas estão de...</td>\n",
              "      <td>5</td>\n",
              "    </tr>\n",
              "    <tr>\n",
              "      <th>...</th>\n",
              "      <td>...</td>\n",
              "      <td>...</td>\n",
              "    </tr>\n",
              "    <tr>\n",
              "      <th>132368</th>\n",
              "      <td>Vale muito, estou usando no controle do Xbox e...</td>\n",
              "      <td>5</td>\n",
              "    </tr>\n",
              "    <tr>\n",
              "      <th>132369</th>\n",
              "      <td>Prático e barato, super indico o produto para ...</td>\n",
              "      <td>5</td>\n",
              "    </tr>\n",
              "    <tr>\n",
              "      <th>132370</th>\n",
              "      <td>Chegou antes do prazo previsto e corresponde a...</td>\n",
              "      <td>4</td>\n",
              "    </tr>\n",
              "    <tr>\n",
              "      <th>132371</th>\n",
              "      <td>Material fraco, poderia ser melhor. Ficou deve...</td>\n",
              "      <td>1</td>\n",
              "    </tr>\n",
              "    <tr>\n",
              "      <th>132372</th>\n",
              "      <td>Comprei esse produto, quando chegou estava com...</td>\n",
              "      <td>1</td>\n",
              "    </tr>\n",
              "  </tbody>\n",
              "</table>\n",
              "<p>132373 rows × 2 columns</p>\n",
              "</div>\n",
              "      <button class=\"colab-df-convert\" onclick=\"convertToInteractive('df-91bd206d-67f4-47ea-b97e-57ff8d705e2e')\"\n",
              "              title=\"Convert this dataframe to an interactive table.\"\n",
              "              style=\"display:none;\">\n",
              "        \n",
              "  <svg xmlns=\"http://www.w3.org/2000/svg\" height=\"24px\"viewBox=\"0 0 24 24\"\n",
              "       width=\"24px\">\n",
              "    <path d=\"M0 0h24v24H0V0z\" fill=\"none\"/>\n",
              "    <path d=\"M18.56 5.44l.94 2.06.94-2.06 2.06-.94-2.06-.94-.94-2.06-.94 2.06-2.06.94zm-11 1L8.5 8.5l.94-2.06 2.06-.94-2.06-.94L8.5 2.5l-.94 2.06-2.06.94zm10 10l.94 2.06.94-2.06 2.06-.94-2.06-.94-.94-2.06-.94 2.06-2.06.94z\"/><path d=\"M17.41 7.96l-1.37-1.37c-.4-.4-.92-.59-1.43-.59-.52 0-1.04.2-1.43.59L10.3 9.45l-7.72 7.72c-.78.78-.78 2.05 0 2.83L4 21.41c.39.39.9.59 1.41.59.51 0 1.02-.2 1.41-.59l7.78-7.78 2.81-2.81c.8-.78.8-2.07 0-2.86zM5.41 20L4 18.59l7.72-7.72 1.47 1.35L5.41 20z\"/>\n",
              "  </svg>\n",
              "      </button>\n",
              "      \n",
              "  <style>\n",
              "    .colab-df-container {\n",
              "      display:flex;\n",
              "      flex-wrap:wrap;\n",
              "      gap: 12px;\n",
              "    }\n",
              "\n",
              "    .colab-df-convert {\n",
              "      background-color: #E8F0FE;\n",
              "      border: none;\n",
              "      border-radius: 50%;\n",
              "      cursor: pointer;\n",
              "      display: none;\n",
              "      fill: #1967D2;\n",
              "      height: 32px;\n",
              "      padding: 0 0 0 0;\n",
              "      width: 32px;\n",
              "    }\n",
              "\n",
              "    .colab-df-convert:hover {\n",
              "      background-color: #E2EBFA;\n",
              "      box-shadow: 0px 1px 2px rgba(60, 64, 67, 0.3), 0px 1px 3px 1px rgba(60, 64, 67, 0.15);\n",
              "      fill: #174EA6;\n",
              "    }\n",
              "\n",
              "    [theme=dark] .colab-df-convert {\n",
              "      background-color: #3B4455;\n",
              "      fill: #D2E3FC;\n",
              "    }\n",
              "\n",
              "    [theme=dark] .colab-df-convert:hover {\n",
              "      background-color: #434B5C;\n",
              "      box-shadow: 0px 1px 3px 1px rgba(0, 0, 0, 0.15);\n",
              "      filter: drop-shadow(0px 1px 2px rgba(0, 0, 0, 0.3));\n",
              "      fill: #FFFFFF;\n",
              "    }\n",
              "  </style>\n",
              "\n",
              "      <script>\n",
              "        const buttonEl =\n",
              "          document.querySelector('#df-91bd206d-67f4-47ea-b97e-57ff8d705e2e button.colab-df-convert');\n",
              "        buttonEl.style.display =\n",
              "          google.colab.kernel.accessAllowed ? 'block' : 'none';\n",
              "\n",
              "        async function convertToInteractive(key) {\n",
              "          const element = document.querySelector('#df-91bd206d-67f4-47ea-b97e-57ff8d705e2e');\n",
              "          const dataTable =\n",
              "            await google.colab.kernel.invokeFunction('convertToInteractive',\n",
              "                                                     [key], {});\n",
              "          if (!dataTable) return;\n",
              "\n",
              "          const docLinkHtml = 'Like what you see? Visit the ' +\n",
              "            '<a target=\"_blank\" href=https://colab.research.google.com/notebooks/data_table.ipynb>data table notebook</a>'\n",
              "            + ' to learn more about interactive tables.';\n",
              "          element.innerHTML = '';\n",
              "          dataTable['output_type'] = 'display_data';\n",
              "          await google.colab.output.renderOutput(dataTable, element);\n",
              "          const docLink = document.createElement('div');\n",
              "          docLink.innerHTML = docLinkHtml;\n",
              "          element.appendChild(docLink);\n",
              "        }\n",
              "      </script>\n",
              "    </div>\n",
              "  </div>\n",
              "  "
            ]
          },
          "metadata": {},
          "execution_count": 13
        }
      ]
    },
    {
      "cell_type": "code",
      "source": [
        "df.dropna(inplace=True)\n",
        "df"
      ],
      "metadata": {
        "colab": {
          "base_uri": "https://localhost:8080/",
          "height": 530
        },
        "id": "ddfFzZEh7voG",
        "outputId": "61479ceb-7176-426e-c622-c830ceff89ca"
      },
      "execution_count": null,
      "outputs": [
        {
          "output_type": "stream",
          "name": "stderr",
          "text": [
            "/usr/local/lib/python3.7/dist-packages/pandas/util/_decorators.py:311: SettingWithCopyWarning: \n",
            "A value is trying to be set on a copy of a slice from a DataFrame\n",
            "\n",
            "See the caveats in the documentation: https://pandas.pydata.org/pandas-docs/stable/user_guide/indexing.html#returning-a-view-versus-a-copy\n",
            "  return func(*args, **kwargs)\n"
          ]
        },
        {
          "output_type": "execute_result",
          "data": {
            "text/plain": [
              "                                              review_text  overall_rating\n",
              "0       Estou contente com a compra entrega rápida o ú...               4\n",
              "1       Por apenas R$1994.20,eu consegui comprar esse ...               4\n",
              "2       SUPERA EM AGILIDADE E PRATICIDADE OUTRAS PANEL...               4\n",
              "3       MEU FILHO AMOU! PARECE DE VERDADE COM TANTOS D...               4\n",
              "4       A entrega foi no prazo, as americanas estão de...               5\n",
              "...                                                   ...             ...\n",
              "132368  Vale muito, estou usando no controle do Xbox e...               5\n",
              "132369  Prático e barato, super indico o produto para ...               5\n",
              "132370  Chegou antes do prazo previsto e corresponde a...               4\n",
              "132371  Material fraco, poderia ser melhor. Ficou deve...               1\n",
              "132372  Comprei esse produto, quando chegou estava com...               1\n",
              "\n",
              "[129098 rows x 2 columns]"
            ],
            "text/html": [
              "\n",
              "  <div id=\"df-3a0f1a6f-661a-40e3-a718-0c6ba56b8389\">\n",
              "    <div class=\"colab-df-container\">\n",
              "      <div>\n",
              "<style scoped>\n",
              "    .dataframe tbody tr th:only-of-type {\n",
              "        vertical-align: middle;\n",
              "    }\n",
              "\n",
              "    .dataframe tbody tr th {\n",
              "        vertical-align: top;\n",
              "    }\n",
              "\n",
              "    .dataframe thead th {\n",
              "        text-align: right;\n",
              "    }\n",
              "</style>\n",
              "<table border=\"1\" class=\"dataframe\">\n",
              "  <thead>\n",
              "    <tr style=\"text-align: right;\">\n",
              "      <th></th>\n",
              "      <th>review_text</th>\n",
              "      <th>overall_rating</th>\n",
              "    </tr>\n",
              "  </thead>\n",
              "  <tbody>\n",
              "    <tr>\n",
              "      <th>0</th>\n",
              "      <td>Estou contente com a compra entrega rápida o ú...</td>\n",
              "      <td>4</td>\n",
              "    </tr>\n",
              "    <tr>\n",
              "      <th>1</th>\n",
              "      <td>Por apenas R$1994.20,eu consegui comprar esse ...</td>\n",
              "      <td>4</td>\n",
              "    </tr>\n",
              "    <tr>\n",
              "      <th>2</th>\n",
              "      <td>SUPERA EM AGILIDADE E PRATICIDADE OUTRAS PANEL...</td>\n",
              "      <td>4</td>\n",
              "    </tr>\n",
              "    <tr>\n",
              "      <th>3</th>\n",
              "      <td>MEU FILHO AMOU! PARECE DE VERDADE COM TANTOS D...</td>\n",
              "      <td>4</td>\n",
              "    </tr>\n",
              "    <tr>\n",
              "      <th>4</th>\n",
              "      <td>A entrega foi no prazo, as americanas estão de...</td>\n",
              "      <td>5</td>\n",
              "    </tr>\n",
              "    <tr>\n",
              "      <th>...</th>\n",
              "      <td>...</td>\n",
              "      <td>...</td>\n",
              "    </tr>\n",
              "    <tr>\n",
              "      <th>132368</th>\n",
              "      <td>Vale muito, estou usando no controle do Xbox e...</td>\n",
              "      <td>5</td>\n",
              "    </tr>\n",
              "    <tr>\n",
              "      <th>132369</th>\n",
              "      <td>Prático e barato, super indico o produto para ...</td>\n",
              "      <td>5</td>\n",
              "    </tr>\n",
              "    <tr>\n",
              "      <th>132370</th>\n",
              "      <td>Chegou antes do prazo previsto e corresponde a...</td>\n",
              "      <td>4</td>\n",
              "    </tr>\n",
              "    <tr>\n",
              "      <th>132371</th>\n",
              "      <td>Material fraco, poderia ser melhor. Ficou deve...</td>\n",
              "      <td>1</td>\n",
              "    </tr>\n",
              "    <tr>\n",
              "      <th>132372</th>\n",
              "      <td>Comprei esse produto, quando chegou estava com...</td>\n",
              "      <td>1</td>\n",
              "    </tr>\n",
              "  </tbody>\n",
              "</table>\n",
              "<p>129098 rows × 2 columns</p>\n",
              "</div>\n",
              "      <button class=\"colab-df-convert\" onclick=\"convertToInteractive('df-3a0f1a6f-661a-40e3-a718-0c6ba56b8389')\"\n",
              "              title=\"Convert this dataframe to an interactive table.\"\n",
              "              style=\"display:none;\">\n",
              "        \n",
              "  <svg xmlns=\"http://www.w3.org/2000/svg\" height=\"24px\"viewBox=\"0 0 24 24\"\n",
              "       width=\"24px\">\n",
              "    <path d=\"M0 0h24v24H0V0z\" fill=\"none\"/>\n",
              "    <path d=\"M18.56 5.44l.94 2.06.94-2.06 2.06-.94-2.06-.94-.94-2.06-.94 2.06-2.06.94zm-11 1L8.5 8.5l.94-2.06 2.06-.94-2.06-.94L8.5 2.5l-.94 2.06-2.06.94zm10 10l.94 2.06.94-2.06 2.06-.94-2.06-.94-.94-2.06-.94 2.06-2.06.94z\"/><path d=\"M17.41 7.96l-1.37-1.37c-.4-.4-.92-.59-1.43-.59-.52 0-1.04.2-1.43.59L10.3 9.45l-7.72 7.72c-.78.78-.78 2.05 0 2.83L4 21.41c.39.39.9.59 1.41.59.51 0 1.02-.2 1.41-.59l7.78-7.78 2.81-2.81c.8-.78.8-2.07 0-2.86zM5.41 20L4 18.59l7.72-7.72 1.47 1.35L5.41 20z\"/>\n",
              "  </svg>\n",
              "      </button>\n",
              "      \n",
              "  <style>\n",
              "    .colab-df-container {\n",
              "      display:flex;\n",
              "      flex-wrap:wrap;\n",
              "      gap: 12px;\n",
              "    }\n",
              "\n",
              "    .colab-df-convert {\n",
              "      background-color: #E8F0FE;\n",
              "      border: none;\n",
              "      border-radius: 50%;\n",
              "      cursor: pointer;\n",
              "      display: none;\n",
              "      fill: #1967D2;\n",
              "      height: 32px;\n",
              "      padding: 0 0 0 0;\n",
              "      width: 32px;\n",
              "    }\n",
              "\n",
              "    .colab-df-convert:hover {\n",
              "      background-color: #E2EBFA;\n",
              "      box-shadow: 0px 1px 2px rgba(60, 64, 67, 0.3), 0px 1px 3px 1px rgba(60, 64, 67, 0.15);\n",
              "      fill: #174EA6;\n",
              "    }\n",
              "\n",
              "    [theme=dark] .colab-df-convert {\n",
              "      background-color: #3B4455;\n",
              "      fill: #D2E3FC;\n",
              "    }\n",
              "\n",
              "    [theme=dark] .colab-df-convert:hover {\n",
              "      background-color: #434B5C;\n",
              "      box-shadow: 0px 1px 3px 1px rgba(0, 0, 0, 0.15);\n",
              "      filter: drop-shadow(0px 1px 2px rgba(0, 0, 0, 0.3));\n",
              "      fill: #FFFFFF;\n",
              "    }\n",
              "  </style>\n",
              "\n",
              "      <script>\n",
              "        const buttonEl =\n",
              "          document.querySelector('#df-3a0f1a6f-661a-40e3-a718-0c6ba56b8389 button.colab-df-convert');\n",
              "        buttonEl.style.display =\n",
              "          google.colab.kernel.accessAllowed ? 'block' : 'none';\n",
              "\n",
              "        async function convertToInteractive(key) {\n",
              "          const element = document.querySelector('#df-3a0f1a6f-661a-40e3-a718-0c6ba56b8389');\n",
              "          const dataTable =\n",
              "            await google.colab.kernel.invokeFunction('convertToInteractive',\n",
              "                                                     [key], {});\n",
              "          if (!dataTable) return;\n",
              "\n",
              "          const docLinkHtml = 'Like what you see? Visit the ' +\n",
              "            '<a target=\"_blank\" href=https://colab.research.google.com/notebooks/data_table.ipynb>data table notebook</a>'\n",
              "            + ' to learn more about interactive tables.';\n",
              "          element.innerHTML = '';\n",
              "          dataTable['output_type'] = 'display_data';\n",
              "          await google.colab.output.renderOutput(dataTable, element);\n",
              "          const docLink = document.createElement('div');\n",
              "          docLink.innerHTML = docLinkHtml;\n",
              "          element.appendChild(docLink);\n",
              "        }\n",
              "      </script>\n",
              "    </div>\n",
              "  </div>\n",
              "  "
            ]
          },
          "metadata": {},
          "execution_count": 14
        }
      ]
    },
    {
      "cell_type": "code",
      "source": [
        "def classificacao(x):\n",
        "  if x==1:\n",
        "    return 0\n",
        "  elif x== 5:\n",
        "    return 2\n",
        "  else:\n",
        "    return 1 "
      ],
      "metadata": {
        "id": "k6D8hnua7DS8"
      },
      "execution_count": null,
      "outputs": []
    },
    {
      "cell_type": "code",
      "source": [
        "df['classe'] = df['overall_rating'].apply(classificacao)\n",
        "df"
      ],
      "metadata": {
        "colab": {
          "base_uri": "https://localhost:8080/",
          "height": 548
        },
        "id": "T8lmkgx86c6O",
        "outputId": "ecd0d4e4-c226-42cd-a54e-42ce194d6f56"
      },
      "execution_count": null,
      "outputs": [
        {
          "output_type": "stream",
          "name": "stderr",
          "text": [
            "/usr/local/lib/python3.7/dist-packages/ipykernel_launcher.py:1: SettingWithCopyWarning: \n",
            "A value is trying to be set on a copy of a slice from a DataFrame.\n",
            "Try using .loc[row_indexer,col_indexer] = value instead\n",
            "\n",
            "See the caveats in the documentation: https://pandas.pydata.org/pandas-docs/stable/user_guide/indexing.html#returning-a-view-versus-a-copy\n",
            "  \"\"\"Entry point for launching an IPython kernel.\n"
          ]
        },
        {
          "output_type": "execute_result",
          "data": {
            "text/plain": [
              "                                              review_text  overall_rating  \\\n",
              "0       Estou contente com a compra entrega rápida o ú...               4   \n",
              "1       Por apenas R$1994.20,eu consegui comprar esse ...               4   \n",
              "2       SUPERA EM AGILIDADE E PRATICIDADE OUTRAS PANEL...               4   \n",
              "3       MEU FILHO AMOU! PARECE DE VERDADE COM TANTOS D...               4   \n",
              "4       A entrega foi no prazo, as americanas estão de...               5   \n",
              "...                                                   ...             ...   \n",
              "132368  Vale muito, estou usando no controle do Xbox e...               5   \n",
              "132369  Prático e barato, super indico o produto para ...               5   \n",
              "132370  Chegou antes do prazo previsto e corresponde a...               4   \n",
              "132371  Material fraco, poderia ser melhor. Ficou deve...               1   \n",
              "132372  Comprei esse produto, quando chegou estava com...               1   \n",
              "\n",
              "        classe  \n",
              "0            1  \n",
              "1            1  \n",
              "2            1  \n",
              "3            1  \n",
              "4            2  \n",
              "...        ...  \n",
              "132368       2  \n",
              "132369       2  \n",
              "132370       1  \n",
              "132371       0  \n",
              "132372       0  \n",
              "\n",
              "[129098 rows x 3 columns]"
            ],
            "text/html": [
              "\n",
              "  <div id=\"df-56505fb4-eea7-4e19-a947-73326de46df0\">\n",
              "    <div class=\"colab-df-container\">\n",
              "      <div>\n",
              "<style scoped>\n",
              "    .dataframe tbody tr th:only-of-type {\n",
              "        vertical-align: middle;\n",
              "    }\n",
              "\n",
              "    .dataframe tbody tr th {\n",
              "        vertical-align: top;\n",
              "    }\n",
              "\n",
              "    .dataframe thead th {\n",
              "        text-align: right;\n",
              "    }\n",
              "</style>\n",
              "<table border=\"1\" class=\"dataframe\">\n",
              "  <thead>\n",
              "    <tr style=\"text-align: right;\">\n",
              "      <th></th>\n",
              "      <th>review_text</th>\n",
              "      <th>overall_rating</th>\n",
              "      <th>classe</th>\n",
              "    </tr>\n",
              "  </thead>\n",
              "  <tbody>\n",
              "    <tr>\n",
              "      <th>0</th>\n",
              "      <td>Estou contente com a compra entrega rápida o ú...</td>\n",
              "      <td>4</td>\n",
              "      <td>1</td>\n",
              "    </tr>\n",
              "    <tr>\n",
              "      <th>1</th>\n",
              "      <td>Por apenas R$1994.20,eu consegui comprar esse ...</td>\n",
              "      <td>4</td>\n",
              "      <td>1</td>\n",
              "    </tr>\n",
              "    <tr>\n",
              "      <th>2</th>\n",
              "      <td>SUPERA EM AGILIDADE E PRATICIDADE OUTRAS PANEL...</td>\n",
              "      <td>4</td>\n",
              "      <td>1</td>\n",
              "    </tr>\n",
              "    <tr>\n",
              "      <th>3</th>\n",
              "      <td>MEU FILHO AMOU! PARECE DE VERDADE COM TANTOS D...</td>\n",
              "      <td>4</td>\n",
              "      <td>1</td>\n",
              "    </tr>\n",
              "    <tr>\n",
              "      <th>4</th>\n",
              "      <td>A entrega foi no prazo, as americanas estão de...</td>\n",
              "      <td>5</td>\n",
              "      <td>2</td>\n",
              "    </tr>\n",
              "    <tr>\n",
              "      <th>...</th>\n",
              "      <td>...</td>\n",
              "      <td>...</td>\n",
              "      <td>...</td>\n",
              "    </tr>\n",
              "    <tr>\n",
              "      <th>132368</th>\n",
              "      <td>Vale muito, estou usando no controle do Xbox e...</td>\n",
              "      <td>5</td>\n",
              "      <td>2</td>\n",
              "    </tr>\n",
              "    <tr>\n",
              "      <th>132369</th>\n",
              "      <td>Prático e barato, super indico o produto para ...</td>\n",
              "      <td>5</td>\n",
              "      <td>2</td>\n",
              "    </tr>\n",
              "    <tr>\n",
              "      <th>132370</th>\n",
              "      <td>Chegou antes do prazo previsto e corresponde a...</td>\n",
              "      <td>4</td>\n",
              "      <td>1</td>\n",
              "    </tr>\n",
              "    <tr>\n",
              "      <th>132371</th>\n",
              "      <td>Material fraco, poderia ser melhor. Ficou deve...</td>\n",
              "      <td>1</td>\n",
              "      <td>0</td>\n",
              "    </tr>\n",
              "    <tr>\n",
              "      <th>132372</th>\n",
              "      <td>Comprei esse produto, quando chegou estava com...</td>\n",
              "      <td>1</td>\n",
              "      <td>0</td>\n",
              "    </tr>\n",
              "  </tbody>\n",
              "</table>\n",
              "<p>129098 rows × 3 columns</p>\n",
              "</div>\n",
              "      <button class=\"colab-df-convert\" onclick=\"convertToInteractive('df-56505fb4-eea7-4e19-a947-73326de46df0')\"\n",
              "              title=\"Convert this dataframe to an interactive table.\"\n",
              "              style=\"display:none;\">\n",
              "        \n",
              "  <svg xmlns=\"http://www.w3.org/2000/svg\" height=\"24px\"viewBox=\"0 0 24 24\"\n",
              "       width=\"24px\">\n",
              "    <path d=\"M0 0h24v24H0V0z\" fill=\"none\"/>\n",
              "    <path d=\"M18.56 5.44l.94 2.06.94-2.06 2.06-.94-2.06-.94-.94-2.06-.94 2.06-2.06.94zm-11 1L8.5 8.5l.94-2.06 2.06-.94-2.06-.94L8.5 2.5l-.94 2.06-2.06.94zm10 10l.94 2.06.94-2.06 2.06-.94-2.06-.94-.94-2.06-.94 2.06-2.06.94z\"/><path d=\"M17.41 7.96l-1.37-1.37c-.4-.4-.92-.59-1.43-.59-.52 0-1.04.2-1.43.59L10.3 9.45l-7.72 7.72c-.78.78-.78 2.05 0 2.83L4 21.41c.39.39.9.59 1.41.59.51 0 1.02-.2 1.41-.59l7.78-7.78 2.81-2.81c.8-.78.8-2.07 0-2.86zM5.41 20L4 18.59l7.72-7.72 1.47 1.35L5.41 20z\"/>\n",
              "  </svg>\n",
              "      </button>\n",
              "      \n",
              "  <style>\n",
              "    .colab-df-container {\n",
              "      display:flex;\n",
              "      flex-wrap:wrap;\n",
              "      gap: 12px;\n",
              "    }\n",
              "\n",
              "    .colab-df-convert {\n",
              "      background-color: #E8F0FE;\n",
              "      border: none;\n",
              "      border-radius: 50%;\n",
              "      cursor: pointer;\n",
              "      display: none;\n",
              "      fill: #1967D2;\n",
              "      height: 32px;\n",
              "      padding: 0 0 0 0;\n",
              "      width: 32px;\n",
              "    }\n",
              "\n",
              "    .colab-df-convert:hover {\n",
              "      background-color: #E2EBFA;\n",
              "      box-shadow: 0px 1px 2px rgba(60, 64, 67, 0.3), 0px 1px 3px 1px rgba(60, 64, 67, 0.15);\n",
              "      fill: #174EA6;\n",
              "    }\n",
              "\n",
              "    [theme=dark] .colab-df-convert {\n",
              "      background-color: #3B4455;\n",
              "      fill: #D2E3FC;\n",
              "    }\n",
              "\n",
              "    [theme=dark] .colab-df-convert:hover {\n",
              "      background-color: #434B5C;\n",
              "      box-shadow: 0px 1px 3px 1px rgba(0, 0, 0, 0.15);\n",
              "      filter: drop-shadow(0px 1px 2px rgba(0, 0, 0, 0.3));\n",
              "      fill: #FFFFFF;\n",
              "    }\n",
              "  </style>\n",
              "\n",
              "      <script>\n",
              "        const buttonEl =\n",
              "          document.querySelector('#df-56505fb4-eea7-4e19-a947-73326de46df0 button.colab-df-convert');\n",
              "        buttonEl.style.display =\n",
              "          google.colab.kernel.accessAllowed ? 'block' : 'none';\n",
              "\n",
              "        async function convertToInteractive(key) {\n",
              "          const element = document.querySelector('#df-56505fb4-eea7-4e19-a947-73326de46df0');\n",
              "          const dataTable =\n",
              "            await google.colab.kernel.invokeFunction('convertToInteractive',\n",
              "                                                     [key], {});\n",
              "          if (!dataTable) return;\n",
              "\n",
              "          const docLinkHtml = 'Like what you see? Visit the ' +\n",
              "            '<a target=\"_blank\" href=https://colab.research.google.com/notebooks/data_table.ipynb>data table notebook</a>'\n",
              "            + ' to learn more about interactive tables.';\n",
              "          element.innerHTML = '';\n",
              "          dataTable['output_type'] = 'display_data';\n",
              "          await google.colab.output.renderOutput(dataTable, element);\n",
              "          const docLink = document.createElement('div');\n",
              "          docLink.innerHTML = docLinkHtml;\n",
              "          element.appendChild(docLink);\n",
              "        }\n",
              "      </script>\n",
              "    </div>\n",
              "  </div>\n",
              "  "
            ]
          },
          "metadata": {},
          "execution_count": 17
        }
      ]
    },
    {
      "cell_type": "code",
      "source": [
        "def preprocessText(msg):\n",
        "    removepunc = [c for c in msg if c not in string.punctuation]\n",
        "    removepunc = \"\".join(removepunc)\n",
        "    lower = removepunc.lower()\n",
        "    tokenize = nltk.word_tokenize(lower)\n",
        "    remove_stop = [word for word in tokenize if word not in stopwords.words('portuguese')]\n",
        "    remove_digit = [word for word in remove_stop if not word.isdigit()]\n",
        "    joinagain = \" \".join(remove_digit)\n",
        "    return joinagain"
      ],
      "metadata": {
        "id": "NBSJSf6h6c82"
      },
      "execution_count": null,
      "outputs": []
    },
    {
      "cell_type": "code",
      "source": [
        "nltk.download('stopwords')"
      ],
      "metadata": {
        "colab": {
          "base_uri": "https://localhost:8080/"
        },
        "id": "q_xTHwOD9DT6",
        "outputId": "9a40861a-2690-4acd-987b-18ada4d379e2"
      },
      "execution_count": null,
      "outputs": [
        {
          "output_type": "stream",
          "name": "stderr",
          "text": [
            "[nltk_data] Downloading package stopwords to /root/nltk_data...\n",
            "[nltk_data]   Unzipping corpora/stopwords.zip.\n"
          ]
        },
        {
          "output_type": "execute_result",
          "data": {
            "text/plain": [
              "True"
            ]
          },
          "metadata": {},
          "execution_count": 25
        }
      ]
    },
    {
      "cell_type": "code",
      "source": [
        "df['texto_pre'] = df['review_text'].apply(preprocessText)\n",
        "df"
      ],
      "metadata": {
        "colab": {
          "base_uri": "https://localhost:8080/",
          "height": 765
        },
        "id": "Mkcz9J8F6c_Y",
        "outputId": "1bc7921d-d367-4264-f6c3-e53db53336fd"
      },
      "execution_count": null,
      "outputs": [
        {
          "output_type": "stream",
          "name": "stderr",
          "text": [
            "/usr/local/lib/python3.7/dist-packages/ipykernel_launcher.py:1: SettingWithCopyWarning: \n",
            "A value is trying to be set on a copy of a slice from a DataFrame.\n",
            "Try using .loc[row_indexer,col_indexer] = value instead\n",
            "\n",
            "See the caveats in the documentation: https://pandas.pydata.org/pandas-docs/stable/user_guide/indexing.html#returning-a-view-versus-a-copy\n",
            "  \"\"\"Entry point for launching an IPython kernel.\n"
          ]
        },
        {
          "output_type": "execute_result",
          "data": {
            "text/plain": [
              "                                              review_text  overall_rating  \\\n",
              "0       Estou contente com a compra entrega rápida o ú...               4   \n",
              "1       Por apenas R$1994.20,eu consegui comprar esse ...               4   \n",
              "2       SUPERA EM AGILIDADE E PRATICIDADE OUTRAS PANEL...               4   \n",
              "3       MEU FILHO AMOU! PARECE DE VERDADE COM TANTOS D...               4   \n",
              "4       A entrega foi no prazo, as americanas estão de...               5   \n",
              "...                                                   ...             ...   \n",
              "132368  Vale muito, estou usando no controle do Xbox e...               5   \n",
              "132369  Prático e barato, super indico o produto para ...               5   \n",
              "132370  Chegou antes do prazo previsto e corresponde a...               4   \n",
              "132371  Material fraco, poderia ser melhor. Ficou deve...               1   \n",
              "132372  Comprei esse produto, quando chegou estava com...               1   \n",
              "\n",
              "        classe                                          texto_pre  \n",
              "0            1  contente compra entrega rápida único problema ...  \n",
              "1            1  apenas r199420eu consegui comprar lindo copo a...  \n",
              "2            1  supera agilidade praticidade outras panelas el...  \n",
              "3            1      filho amou parece verdade tantos detalhes têm  \n",
              "4            2  entrega prazo americanas parabéns smart tv boa...  \n",
              "...        ...                                                ...  \n",
              "132368       2  vale usando controle xbox durou semana carga p...  \n",
              "132369       2  prático barato super indico produto corre dia ...  \n",
              "132370       1    chegou antes prazo previsto corresponde anúncio  \n",
              "132371       0  material fraco poderia melhor ficou devendo op...  \n",
              "132372       0  comprei produto chegou avaria devolvi vai faze...  \n",
              "\n",
              "[129098 rows x 4 columns]"
            ],
            "text/html": [
              "\n",
              "  <div id=\"df-994a324e-6042-4016-bfaa-9de38796004f\">\n",
              "    <div class=\"colab-df-container\">\n",
              "      <div>\n",
              "<style scoped>\n",
              "    .dataframe tbody tr th:only-of-type {\n",
              "        vertical-align: middle;\n",
              "    }\n",
              "\n",
              "    .dataframe tbody tr th {\n",
              "        vertical-align: top;\n",
              "    }\n",
              "\n",
              "    .dataframe thead th {\n",
              "        text-align: right;\n",
              "    }\n",
              "</style>\n",
              "<table border=\"1\" class=\"dataframe\">\n",
              "  <thead>\n",
              "    <tr style=\"text-align: right;\">\n",
              "      <th></th>\n",
              "      <th>review_text</th>\n",
              "      <th>overall_rating</th>\n",
              "      <th>classe</th>\n",
              "      <th>texto_pre</th>\n",
              "    </tr>\n",
              "  </thead>\n",
              "  <tbody>\n",
              "    <tr>\n",
              "      <th>0</th>\n",
              "      <td>Estou contente com a compra entrega rápida o ú...</td>\n",
              "      <td>4</td>\n",
              "      <td>1</td>\n",
              "      <td>contente compra entrega rápida único problema ...</td>\n",
              "    </tr>\n",
              "    <tr>\n",
              "      <th>1</th>\n",
              "      <td>Por apenas R$1994.20,eu consegui comprar esse ...</td>\n",
              "      <td>4</td>\n",
              "      <td>1</td>\n",
              "      <td>apenas r199420eu consegui comprar lindo copo a...</td>\n",
              "    </tr>\n",
              "    <tr>\n",
              "      <th>2</th>\n",
              "      <td>SUPERA EM AGILIDADE E PRATICIDADE OUTRAS PANEL...</td>\n",
              "      <td>4</td>\n",
              "      <td>1</td>\n",
              "      <td>supera agilidade praticidade outras panelas el...</td>\n",
              "    </tr>\n",
              "    <tr>\n",
              "      <th>3</th>\n",
              "      <td>MEU FILHO AMOU! PARECE DE VERDADE COM TANTOS D...</td>\n",
              "      <td>4</td>\n",
              "      <td>1</td>\n",
              "      <td>filho amou parece verdade tantos detalhes têm</td>\n",
              "    </tr>\n",
              "    <tr>\n",
              "      <th>4</th>\n",
              "      <td>A entrega foi no prazo, as americanas estão de...</td>\n",
              "      <td>5</td>\n",
              "      <td>2</td>\n",
              "      <td>entrega prazo americanas parabéns smart tv boa...</td>\n",
              "    </tr>\n",
              "    <tr>\n",
              "      <th>...</th>\n",
              "      <td>...</td>\n",
              "      <td>...</td>\n",
              "      <td>...</td>\n",
              "      <td>...</td>\n",
              "    </tr>\n",
              "    <tr>\n",
              "      <th>132368</th>\n",
              "      <td>Vale muito, estou usando no controle do Xbox e...</td>\n",
              "      <td>5</td>\n",
              "      <td>2</td>\n",
              "      <td>vale usando controle xbox durou semana carga p...</td>\n",
              "    </tr>\n",
              "    <tr>\n",
              "      <th>132369</th>\n",
              "      <td>Prático e barato, super indico o produto para ...</td>\n",
              "      <td>5</td>\n",
              "      <td>2</td>\n",
              "      <td>prático barato super indico produto corre dia ...</td>\n",
              "    </tr>\n",
              "    <tr>\n",
              "      <th>132370</th>\n",
              "      <td>Chegou antes do prazo previsto e corresponde a...</td>\n",
              "      <td>4</td>\n",
              "      <td>1</td>\n",
              "      <td>chegou antes prazo previsto corresponde anúncio</td>\n",
              "    </tr>\n",
              "    <tr>\n",
              "      <th>132371</th>\n",
              "      <td>Material fraco, poderia ser melhor. Ficou deve...</td>\n",
              "      <td>1</td>\n",
              "      <td>0</td>\n",
              "      <td>material fraco poderia melhor ficou devendo op...</td>\n",
              "    </tr>\n",
              "    <tr>\n",
              "      <th>132372</th>\n",
              "      <td>Comprei esse produto, quando chegou estava com...</td>\n",
              "      <td>1</td>\n",
              "      <td>0</td>\n",
              "      <td>comprei produto chegou avaria devolvi vai faze...</td>\n",
              "    </tr>\n",
              "  </tbody>\n",
              "</table>\n",
              "<p>129098 rows × 4 columns</p>\n",
              "</div>\n",
              "      <button class=\"colab-df-convert\" onclick=\"convertToInteractive('df-994a324e-6042-4016-bfaa-9de38796004f')\"\n",
              "              title=\"Convert this dataframe to an interactive table.\"\n",
              "              style=\"display:none;\">\n",
              "        \n",
              "  <svg xmlns=\"http://www.w3.org/2000/svg\" height=\"24px\"viewBox=\"0 0 24 24\"\n",
              "       width=\"24px\">\n",
              "    <path d=\"M0 0h24v24H0V0z\" fill=\"none\"/>\n",
              "    <path d=\"M18.56 5.44l.94 2.06.94-2.06 2.06-.94-2.06-.94-.94-2.06-.94 2.06-2.06.94zm-11 1L8.5 8.5l.94-2.06 2.06-.94-2.06-.94L8.5 2.5l-.94 2.06-2.06.94zm10 10l.94 2.06.94-2.06 2.06-.94-2.06-.94-.94-2.06-.94 2.06-2.06.94z\"/><path d=\"M17.41 7.96l-1.37-1.37c-.4-.4-.92-.59-1.43-.59-.52 0-1.04.2-1.43.59L10.3 9.45l-7.72 7.72c-.78.78-.78 2.05 0 2.83L4 21.41c.39.39.9.59 1.41.59.51 0 1.02-.2 1.41-.59l7.78-7.78 2.81-2.81c.8-.78.8-2.07 0-2.86zM5.41 20L4 18.59l7.72-7.72 1.47 1.35L5.41 20z\"/>\n",
              "  </svg>\n",
              "      </button>\n",
              "      \n",
              "  <style>\n",
              "    .colab-df-container {\n",
              "      display:flex;\n",
              "      flex-wrap:wrap;\n",
              "      gap: 12px;\n",
              "    }\n",
              "\n",
              "    .colab-df-convert {\n",
              "      background-color: #E8F0FE;\n",
              "      border: none;\n",
              "      border-radius: 50%;\n",
              "      cursor: pointer;\n",
              "      display: none;\n",
              "      fill: #1967D2;\n",
              "      height: 32px;\n",
              "      padding: 0 0 0 0;\n",
              "      width: 32px;\n",
              "    }\n",
              "\n",
              "    .colab-df-convert:hover {\n",
              "      background-color: #E2EBFA;\n",
              "      box-shadow: 0px 1px 2px rgba(60, 64, 67, 0.3), 0px 1px 3px 1px rgba(60, 64, 67, 0.15);\n",
              "      fill: #174EA6;\n",
              "    }\n",
              "\n",
              "    [theme=dark] .colab-df-convert {\n",
              "      background-color: #3B4455;\n",
              "      fill: #D2E3FC;\n",
              "    }\n",
              "\n",
              "    [theme=dark] .colab-df-convert:hover {\n",
              "      background-color: #434B5C;\n",
              "      box-shadow: 0px 1px 3px 1px rgba(0, 0, 0, 0.15);\n",
              "      filter: drop-shadow(0px 1px 2px rgba(0, 0, 0, 0.3));\n",
              "      fill: #FFFFFF;\n",
              "    }\n",
              "  </style>\n",
              "\n",
              "      <script>\n",
              "        const buttonEl =\n",
              "          document.querySelector('#df-994a324e-6042-4016-bfaa-9de38796004f button.colab-df-convert');\n",
              "        buttonEl.style.display =\n",
              "          google.colab.kernel.accessAllowed ? 'block' : 'none';\n",
              "\n",
              "        async function convertToInteractive(key) {\n",
              "          const element = document.querySelector('#df-994a324e-6042-4016-bfaa-9de38796004f');\n",
              "          const dataTable =\n",
              "            await google.colab.kernel.invokeFunction('convertToInteractive',\n",
              "                                                     [key], {});\n",
              "          if (!dataTable) return;\n",
              "\n",
              "          const docLinkHtml = 'Like what you see? Visit the ' +\n",
              "            '<a target=\"_blank\" href=https://colab.research.google.com/notebooks/data_table.ipynb>data table notebook</a>'\n",
              "            + ' to learn more about interactive tables.';\n",
              "          element.innerHTML = '';\n",
              "          dataTable['output_type'] = 'display_data';\n",
              "          await google.colab.output.renderOutput(dataTable, element);\n",
              "          const docLink = document.createElement('div');\n",
              "          docLink.innerHTML = docLinkHtml;\n",
              "          element.appendChild(docLink);\n",
              "        }\n",
              "      </script>\n",
              "    </div>\n",
              "  </div>\n",
              "  "
            ]
          },
          "metadata": {},
          "execution_count": 26
        }
      ]
    },
    {
      "cell_type": "code",
      "source": [
        "df.to_csv('preprocessado.csv')"
      ],
      "metadata": {
        "id": "nvg6Xx553H5c"
      },
      "execution_count": null,
      "outputs": []
    },
    {
      "cell_type": "markdown",
      "source": [
        "## Usando no modelo Bag-of-Words"
      ],
      "metadata": {
        "id": "497tzF2rDxLu"
      }
    },
    {
      "cell_type": "code",
      "source": [
        " from sklearn.feature_extraction.text import CountVectorizer"
      ],
      "metadata": {
        "id": "8wdodsoy3H8E"
      },
      "execution_count": 28,
      "outputs": []
    },
    {
      "cell_type": "code",
      "source": [
        "vectorizer = CountVectorizer()\n",
        "vectorizer.fit(df['texto_pre'].values)"
      ],
      "metadata": {
        "id": "AYJOAoN-3H-Z",
        "colab": {
          "base_uri": "https://localhost:8080/"
        },
        "outputId": "4c4d777f-16a7-42ad-cf0f-40ea05608dfb"
      },
      "execution_count": 29,
      "outputs": [
        {
          "output_type": "execute_result",
          "data": {
            "text/plain": [
              "CountVectorizer()"
            ]
          },
          "metadata": {},
          "execution_count": 29
        }
      ]
    },
    {
      "cell_type": "code",
      "source": [
        "X = vectorizer.transform(df['texto_pre'].values)\n",
        "X.shape"
      ],
      "metadata": {
        "id": "uVbefAx83ICU",
        "colab": {
          "base_uri": "https://localhost:8080/"
        },
        "outputId": "17dfa6aa-d082-4246-b842-7f61f9b5c474"
      },
      "execution_count": 30,
      "outputs": [
        {
          "output_type": "execute_result",
          "data": {
            "text/plain": [
              "(129098, 64588)"
            ]
          },
          "metadata": {},
          "execution_count": 30
        }
      ]
    },
    {
      "cell_type": "code",
      "source": [
        "y = df['classe']\n",
        "y"
      ],
      "metadata": {
        "id": "0dwPM4uIAc0s",
        "colab": {
          "base_uri": "https://localhost:8080/"
        },
        "outputId": "2f2db1c8-d478-4276-b566-de83aee8deee"
      },
      "execution_count": 31,
      "outputs": [
        {
          "output_type": "execute_result",
          "data": {
            "text/plain": [
              "0         1\n",
              "1         1\n",
              "2         1\n",
              "3         1\n",
              "4         2\n",
              "         ..\n",
              "132368    2\n",
              "132369    2\n",
              "132370    1\n",
              "132371    0\n",
              "132372    0\n",
              "Name: classe, Length: 129098, dtype: int64"
            ]
          },
          "metadata": {},
          "execution_count": 31
        }
      ]
    },
    {
      "cell_type": "code",
      "source": [
        "X_train, X_test, y_train, y_test = train_test_split(\n",
        "    X, y, test_size=0.2, random_state=42\n",
        ")"
      ],
      "metadata": {
        "id": "WFOxhFBcAc3s"
      },
      "execution_count": 33,
      "outputs": []
    },
    {
      "cell_type": "code",
      "source": [
        "model_naive = naive_bayes.MultinomialNB()\n",
        "model_naive.fit(X_train, y_train)"
      ],
      "metadata": {
        "id": "alAXFgVNAc6j",
        "colab": {
          "base_uri": "https://localhost:8080/"
        },
        "outputId": "20d6446f-e518-4ce7-af73-706ddc1a3e2d"
      },
      "execution_count": 34,
      "outputs": [
        {
          "output_type": "execute_result",
          "data": {
            "text/plain": [
              "MultinomialNB()"
            ]
          },
          "metadata": {},
          "execution_count": 34
        }
      ]
    },
    {
      "cell_type": "code",
      "source": [
        "model_naive.score(X_train, y_train)"
      ],
      "metadata": {
        "id": "5xLunteiAc9L",
        "colab": {
          "base_uri": "https://localhost:8080/"
        },
        "outputId": "51b56da3-7aab-4087-e10d-5d130a64301b"
      },
      "execution_count": 35,
      "outputs": [
        {
          "output_type": "execute_result",
          "data": {
            "text/plain": [
              "0.7104804508220531"
            ]
          },
          "metadata": {},
          "execution_count": 35
        }
      ]
    },
    {
      "cell_type": "code",
      "source": [
        "model_naive.score(X_test, y_test)"
      ],
      "metadata": {
        "id": "jTXAMXU8Ac_z",
        "colab": {
          "base_uri": "https://localhost:8080/"
        },
        "outputId": "44922e14-a00c-4a5d-f93b-afa51523d357"
      },
      "execution_count": 36,
      "outputs": [
        {
          "output_type": "execute_result",
          "data": {
            "text/plain": [
              "0.6609217660728117"
            ]
          },
          "metadata": {},
          "execution_count": 36
        }
      ]
    },
    {
      "cell_type": "code",
      "source": [
        "from sklearn.metrics import classification_report\n",
        "\n",
        "y_true = y_test\n",
        "y_pred = model_naive.predict(X_test)\n",
        "\n",
        "print(classification_report(y_true, y_pred, target_names=['negativo', 'neutro', 'positivo']))"
      ],
      "metadata": {
        "id": "8aKVKMigAdCk",
        "colab": {
          "base_uri": "https://localhost:8080/"
        },
        "outputId": "edb60fad-3959-4779-85f8-fa9ce6adf3d8"
      },
      "execution_count": 37,
      "outputs": [
        {
          "output_type": "stream",
          "name": "stdout",
          "text": [
            "              precision    recall  f1-score   support\n",
            "\n",
            "    negativo       0.73      0.80      0.77      5186\n",
            "      neutro       0.65      0.52      0.58     11150\n",
            "    positivo       0.63      0.74      0.68      9484\n",
            "\n",
            "    accuracy                           0.66     25820\n",
            "   macro avg       0.67      0.69      0.68     25820\n",
            "weighted avg       0.66      0.66      0.66     25820\n",
            "\n"
          ]
        }
      ]
    },
    {
      "cell_type": "code",
      "source": [
        "metrics.confusion_matrix(y_test, model_naive.predict(X_test))"
      ],
      "metadata": {
        "colab": {
          "base_uri": "https://localhost:8080/"
        },
        "id": "qCTt2Y1KEp1d",
        "outputId": "66901ed6-bf80-4d74-ab9e-d06e36e58ef8"
      },
      "execution_count": 38,
      "outputs": [
        {
          "output_type": "execute_result",
          "data": {
            "text/plain": [
              "array([[4174,  952,   60],\n",
              "       [1289, 5846, 4015],\n",
              "       [ 256, 2183, 7045]])"
            ]
          },
          "metadata": {},
          "execution_count": 38
        }
      ]
    },
    {
      "cell_type": "markdown",
      "source": [
        "## Usando n-grams"
      ],
      "metadata": {
        "id": "91vWsP6zFL7H"
      }
    },
    {
      "cell_type": "code",
      "source": [
        "counts = feature_extraction.text.CountVectorizer(\n",
        "    ngram_range=(1, 3)\n",
        ")\n",
        "\n",
        "counts.fit(df['texto_pre'].values)\n",
        "X = counts.transform(df['texto_pre'].values)"
      ],
      "metadata": {
        "id": "vhqZTnw3Ep4V"
      },
      "execution_count": 39,
      "outputs": []
    },
    {
      "cell_type": "code",
      "source": [
        "X.shape"
      ],
      "metadata": {
        "colab": {
          "base_uri": "https://localhost:8080/"
        },
        "id": "k0p9Tn_eEp7G",
        "outputId": "ade3af4e-0f29-4f08-f81c-e0c81895b462"
      },
      "execution_count": 40,
      "outputs": [
        {
          "output_type": "execute_result",
          "data": {
            "text/plain": [
              "(129098, 1908751)"
            ]
          },
          "metadata": {},
          "execution_count": 40
        }
      ]
    },
    {
      "cell_type": "code",
      "source": [
        "X_train, X_test, y_train, y_test = train_test_split(\n",
        "    X, y, test_size=0.2, random_state=42\n",
        ")"
      ],
      "metadata": {
        "id": "D2qlN9smEp91"
      },
      "execution_count": 41,
      "outputs": []
    },
    {
      "cell_type": "code",
      "source": [
        "model_naive = naive_bayes.MultinomialNB()\n",
        "model_naive.fit(X_train, y_train)"
      ],
      "metadata": {
        "id": "RS7A1-O8FqH_",
        "outputId": "7c8160ef-457d-4d37-9ea8-f193060caa48",
        "colab": {
          "base_uri": "https://localhost:8080/"
        }
      },
      "execution_count": 42,
      "outputs": [
        {
          "output_type": "execute_result",
          "data": {
            "text/plain": [
              "MultinomialNB()"
            ]
          },
          "metadata": {},
          "execution_count": 42
        }
      ]
    },
    {
      "cell_type": "code",
      "source": [
        "from sklearn.metrics import classification_report\n",
        "\n",
        "y_true = y_test\n",
        "y_pred = model_naive.predict(X_test)\n",
        "\n",
        "print(classification_report(y_true, y_pred, target_names=['negativo', 'neutro', 'positivo']))"
      ],
      "metadata": {
        "id": "RSoH_SbhFqKt",
        "outputId": "faf1be2e-7141-4b58-c85e-51ffa2cbae67",
        "colab": {
          "base_uri": "https://localhost:8080/"
        }
      },
      "execution_count": 43,
      "outputs": [
        {
          "output_type": "stream",
          "name": "stdout",
          "text": [
            "              precision    recall  f1-score   support\n",
            "\n",
            "    negativo       0.76      0.83      0.79      5186\n",
            "      neutro       0.68      0.57      0.62     11150\n",
            "    positivo       0.66      0.74      0.70      9484\n",
            "\n",
            "    accuracy                           0.68     25820\n",
            "   macro avg       0.70      0.71      0.70     25820\n",
            "weighted avg       0.68      0.68      0.68     25820\n",
            "\n"
          ]
        }
      ]
    },
    {
      "cell_type": "markdown",
      "source": [
        "## Testando"
      ],
      "metadata": {
        "id": "UbgYlTDKGKdX"
      }
    },
    {
      "cell_type": "code",
      "source": [
        "rev1 = 'Mas que porcaria de produto!'"
      ],
      "metadata": {
        "id": "kVFHeFMqFqNV"
      },
      "execution_count": 45,
      "outputs": []
    },
    {
      "cell_type": "code",
      "source": [
        "X1 = counts.transform([preprocessText(rev1)])\n",
        "X1.shape"
      ],
      "metadata": {
        "id": "q7g1LUNcFqPt",
        "outputId": "d1ca003b-c7f5-4f15-d53b-0224bd2cb499",
        "colab": {
          "base_uri": "https://localhost:8080/"
        }
      },
      "execution_count": 46,
      "outputs": [
        {
          "output_type": "execute_result",
          "data": {
            "text/plain": [
              "(1, 1908751)"
            ]
          },
          "metadata": {},
          "execution_count": 46
        }
      ]
    },
    {
      "cell_type": "code",
      "source": [
        "model_naive.predict( X1 )"
      ],
      "metadata": {
        "colab": {
          "base_uri": "https://localhost:8080/"
        },
        "id": "d649dX6eEqAH",
        "outputId": "827607f0-8f84-4766-c3e4-276ec2530444"
      },
      "execution_count": 47,
      "outputs": [
        {
          "output_type": "execute_result",
          "data": {
            "text/plain": [
              "array([0])"
            ]
          },
          "metadata": {},
          "execution_count": 47
        }
      ]
    },
    {
      "cell_type": "code",
      "source": [
        "rev2 = 'Produtinho bem mais ou menos...'\n",
        "X2 = counts.transform([preprocessText(rev2)])\n",
        "\n",
        "model_naive.predict( X2 )"
      ],
      "metadata": {
        "id": "ONATzIuxGci-",
        "outputId": "737b2c37-fd88-41a2-9a26-5eeedec19451",
        "colab": {
          "base_uri": "https://localhost:8080/"
        }
      },
      "execution_count": 48,
      "outputs": [
        {
          "output_type": "execute_result",
          "data": {
            "text/plain": [
              "array([1])"
            ]
          },
          "metadata": {},
          "execution_count": 48
        }
      ]
    },
    {
      "cell_type": "code",
      "source": [
        "rev3 = 'Amei, topísiimo!!!!'\n",
        "X3 = counts.transform([preprocessText(rev3)])\n",
        "\n",
        "model_naive.predict( X3 )"
      ],
      "metadata": {
        "id": "xgYszm7YGclu",
        "outputId": "07ae137f-ad38-45c8-9118-e988e3430e72",
        "colab": {
          "base_uri": "https://localhost:8080/"
        }
      },
      "execution_count": 49,
      "outputs": [
        {
          "output_type": "execute_result",
          "data": {
            "text/plain": [
              "array([2])"
            ]
          },
          "metadata": {},
          "execution_count": 49
        }
      ]
    },
    {
      "cell_type": "code",
      "source": [
        "rev4 = 'Produto não chegou, quero meu dinheiro de volta.'\n",
        "X4 = counts.transform([preprocessText(rev4)])\n",
        "\n",
        "model_naive.predict( X4 )"
      ],
      "metadata": {
        "id": "hsPbaLmlGcoW",
        "outputId": "a24a85b0-b910-4f9d-b87c-f06a2c3e1a41",
        "colab": {
          "base_uri": "https://localhost:8080/"
        }
      },
      "execution_count": 54,
      "outputs": [
        {
          "output_type": "execute_result",
          "data": {
            "text/plain": [
              "array([0])"
            ]
          },
          "metadata": {},
          "execution_count": 54
        }
      ]
    },
    {
      "cell_type": "code",
      "source": [
        "model_naive.predict_proba(X4)"
      ],
      "metadata": {
        "id": "sodb_wFOAdE_",
        "colab": {
          "base_uri": "https://localhost:8080/"
        },
        "outputId": "7a946980-1392-455c-84be-955f1c82882a"
      },
      "execution_count": 55,
      "outputs": [
        {
          "output_type": "execute_result",
          "data": {
            "text/plain": [
              "array([[9.99999704e-01, 2.95176831e-07, 8.43572886e-10]])"
            ]
          },
          "metadata": {},
          "execution_count": 55
        }
      ]
    },
    {
      "cell_type": "code",
      "source": [
        "rev5 = 'Minha bisavó amou!'\n",
        "X5 = counts.transform([preprocessText(rev5)])\n",
        "\n",
        "model_naive.predict( X5 )\n",
        "print(model_naive.predict_proba(X5))"
      ],
      "metadata": {
        "id": "oUtx-8hmH_dQ",
        "outputId": "51ba84c4-c3d9-4e70-a8ef-7ddc2e781869",
        "colab": {
          "base_uri": "https://localhost:8080/"
        }
      },
      "execution_count": 57,
      "outputs": [
        {
          "output_type": "stream",
          "name": "stdout",
          "text": [
            "[[0.00283498 0.39156907 0.60559595]]\n"
          ]
        }
      ]
    }
  ]
}