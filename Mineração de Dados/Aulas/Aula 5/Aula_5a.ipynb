{
 "cells": [
  {
   "cell_type": "markdown",
   "metadata": {
    "id": "PFINRLKIU9ZG"
   },
   "source": [
    "## Cálculo da Entropia"
   ]
  },
  {
   "cell_type": "code",
   "execution_count": null,
   "metadata": {
    "id": "lL8pe7zkEzCu"
   },
   "outputs": [],
   "source": [
    "import pandas as pd\n",
    "import numpy as np\n",
    "import matplotlib.pyplot as plt\n",
    "\n",
    "from sklearn.tree import DecisionTreeClassifier\n",
    "from sklearn import tree"
   ]
  },
  {
   "cell_type": "code",
   "execution_count": null,
   "metadata": {
    "id": "58pvLWc96_A2"
   },
   "outputs": [],
   "source": [
    "\n",
    "def Entropy(pA, pB):\n",
    "  return - pA*np.log2(pA) - pB*np.log2(pB)"
   ]
  },
  {
   "cell_type": "markdown",
   "metadata": {},
   "source": [
    "# Exemplo"
   ]
  },
  {
   "cell_type": "code",
   "execution_count": null,
   "metadata": {},
   "outputs": [],
   "source": [
    "df = pd.read_csv('tabela.txt', sep='\\s+')\n",
    "df = df.set_index('Patient')\n",
    "df"
   ]
  },
  {
   "cell_type": "markdown",
   "metadata": {},
   "source": [
    "A entropia para esta divisão dos 14 pacientes em 5 para **Drug A** e 9 para **Drug B** corresponde a seguinte entropia."
   ]
  },
  {
   "cell_type": "code",
   "execution_count": null,
   "metadata": {},
   "outputs": [],
   "source": [
    "df['Drug'].value_counts()"
   ]
  },
  {
   "cell_type": "code",
   "execution_count": null,
   "metadata": {
    "colab": {
     "base_uri": "https://localhost:8080/"
    },
    "id": "R2B22Te9FMQD",
    "outputId": "f18403bb-e489-482b-85d3-4b217b634f12"
   },
   "outputs": [],
   "source": [
    "Entropy(5/14, 9/14)"
   ]
  },
  {
   "cell_type": "markdown",
   "metadata": {},
   "source": [
    "## Seleção de uma variável de decisão para a árvore"
   ]
  },
  {
   "cell_type": "markdown",
   "metadata": {},
   "source": [
    "A variável Cholesterol, tem como saída **Normal** e **High**.\n",
    "\n",
    "Dos 5 **Drug A** temos 2 com Cholesterol **Normal** e 3 com Cholesterol **High**\n",
    "\n",
    "Dos 9 **Drug B** temos 3 com Cholesterol **Normal** e 3 com Cholesterol **High**"
   ]
  },
  {
   "cell_type": "code",
   "execution_count": null,
   "metadata": {},
   "outputs": [],
   "source": [
    "df.groupby(['Drug','Cholesterol']).size()"
   ]
  },
  {
   "cell_type": "code",
   "execution_count": null,
   "metadata": {},
   "outputs": [],
   "source": [
    "# Cholesterol Normal\n",
    "Entropy(2/8, 6/8)"
   ]
  },
  {
   "cell_type": "code",
   "execution_count": null,
   "metadata": {},
   "outputs": [],
   "source": [
    "# Cholesterol High\n",
    "Entropy(3/6, 3/6)"
   ]
  },
  {
   "cell_type": "markdown",
   "metadata": {},
   "source": [
    "Variável **Sex** "
   ]
  },
  {
   "cell_type": "code",
   "execution_count": null,
   "metadata": {},
   "outputs": [],
   "source": [
    "df.groupby(['Drug','Sex']).size()"
   ]
  },
  {
   "cell_type": "code",
   "execution_count": null,
   "metadata": {},
   "outputs": [],
   "source": [
    "# Sex = F\n",
    "Entropy(4/7, 3/7)"
   ]
  },
  {
   "cell_type": "code",
   "execution_count": null,
   "metadata": {},
   "outputs": [],
   "source": [
    "# Sex = M\n",
    "Entropy(1/7, 6/7)"
   ]
  },
  {
   "cell_type": "markdown",
   "metadata": {},
   "source": [
    "## Qual atributo fornece maior ganho de informação?\n",
    "\n",
    "`O ganho de informação é o grau de certeza na classificação gerado por uma divisão nos dados.`\n",
    "\n",
    "$$\n",
    "\\text{Ganho de Informação} = \\text{Entropia antes da divisão} - \\text{Entropia ponderada após a divisão}\n",
    "$$"
   ]
  },
  {
   "cell_type": "code",
   "execution_count": null,
   "metadata": {},
   "outputs": [],
   "source": [
    "# Ganho de informação para Sex\n",
    "\n",
    "Entropy(5/14, 9/14) - ( 7/14 * Entropy(4/7, 3/7) + 7/14 * Entropy(1/7, 6/7) )"
   ]
  },
  {
   "cell_type": "code",
   "execution_count": null,
   "metadata": {},
   "outputs": [],
   "source": [
    "# Ganho de informação para Cholesterol\n",
    "\n",
    "Entropy(5/14, 9/14) - ( 8/14 * Entropy(2/8, 6/8) + 6/14 * Entropy(3/6, 3/6) )"
   ]
  },
  {
   "cell_type": "markdown",
   "metadata": {},
   "source": [
    "O Maior ganho de informação vem através de Cholesterol! Esse teste deve ser feito para todas as colunas para encontrar a melhor partição."
   ]
  },
  {
   "cell_type": "markdown",
   "metadata": {},
   "source": [
    "## Usando o Scikit-Learn"
   ]
  },
  {
   "cell_type": "code",
   "execution_count": null,
   "metadata": {},
   "outputs": [],
   "source": [
    "X = df.drop('Drug', axis=1)\n",
    "y = df['Drug']"
   ]
  },
  {
   "cell_type": "code",
   "execution_count": null,
   "metadata": {},
   "outputs": [],
   "source": [
    "X.columns"
   ]
  },
  {
   "cell_type": "code",
   "execution_count": null,
   "metadata": {},
   "outputs": [],
   "source": [
    "dic = {}\n",
    "for col in ('Age', 'Sex', 'BP', 'Cholesterol'):\n",
    "    X[col], aux = pd.factorize( X[col] )\n",
    "    dic[col] = {val: i for i,val in enumerate(aux)}    "
   ]
  },
  {
   "cell_type": "code",
   "execution_count": null,
   "metadata": {},
   "outputs": [],
   "source": [
    "dic2 = {}\n",
    "y, aux = pd.factorize( y )\n",
    "dic2['Drug'] = {val: i for i,val in enumerate(aux)}  "
   ]
  },
  {
   "cell_type": "code",
   "execution_count": null,
   "metadata": {},
   "outputs": [],
   "source": [
    "# Criar a árvore de decisão\n",
    "model = DecisionTreeClassifier(criterion=\"entropy\")"
   ]
  },
  {
   "cell_type": "code",
   "execution_count": null,
   "metadata": {},
   "outputs": [],
   "source": [
    "# Treinar o modelo\n",
    "clf = model.fit(X,y)"
   ]
  },
  {
   "cell_type": "code",
   "execution_count": null,
   "metadata": {},
   "outputs": [],
   "source": [
    "# Gera a figura\n",
    "fig, axes = plt.subplots(nrows = 1,ncols = 1,figsize = (10,10), dpi=600)\n",
    "tree.plot_tree(clf, filled=True, \n",
    "                feature_names = X.columns);"
   ]
  },
  {
   "cell_type": "code",
   "execution_count": null,
   "metadata": {},
   "outputs": [],
   "source": [
    "imp = pd.DataFrame({'Feature': clf.feature_names_in_, 'Importância': clf.feature_importances_})\n",
    "imp = imp.set_index('Feature')\n",
    "imp.sort_values(by='Importância', ascending=False)"
   ]
  },
  {
   "cell_type": "markdown",
   "metadata": {},
   "source": [
    "**Obs:** Esse dataset tem poucos pontos e não reflete a realidade"
   ]
  },
  {
   "cell_type": "markdown",
   "metadata": {},
   "source": [
    "## Outra abordagem"
   ]
  },
  {
   "cell_type": "code",
   "execution_count": null,
   "metadata": {},
   "outputs": [],
   "source": [
    "X = pd.get_dummies(df.drop('Drug', axis=1))"
   ]
  },
  {
   "cell_type": "code",
   "execution_count": null,
   "metadata": {},
   "outputs": [],
   "source": [
    "# Treinar o modelo\n",
    "clf = model.fit(X,y)"
   ]
  },
  {
   "cell_type": "code",
   "execution_count": null,
   "metadata": {},
   "outputs": [],
   "source": [
    "# Gera a figura\n",
    "fig, axes = plt.subplots(nrows = 1,ncols = 1,figsize = (10,6), dpi=600)\n",
    "tree.plot_tree(clf, filled=True, \n",
    "                feature_names = X.columns);"
   ]
  },
  {
   "cell_type": "code",
   "execution_count": null,
   "metadata": {},
   "outputs": [],
   "source": [
    "tree.export_graphviz(clf,\n",
    "                     out_file=\"tree.dot\",\n",
    "                     feature_names = X.columns, \n",
    "                     filled = True)"
   ]
  },
  {
   "cell_type": "markdown",
   "metadata": {},
   "source": [
    "https://dreampuf.github.io/GraphvizOnline/"
   ]
  },
  {
   "cell_type": "markdown",
   "metadata": {},
   "source": [
    "# Random Forest"
   ]
  },
  {
   "cell_type": "code",
   "execution_count": null,
   "metadata": {},
   "outputs": [],
   "source": [
    "# Load the Breast Cancer (Diagnostic) Dataset\n",
    "from sklearn.datasets import load_breast_cancer\n",
    "from sklearn.model_selection import train_test_split\n",
    "from sklearn.ensemble import RandomForestClassifier\n",
    "\n",
    "data = load_breast_cancer()\n",
    "df = pd.DataFrame(data.data, columns=data.feature_names)\n",
    "df['target'] = data.target\n",
    "# Arrange Data into Features Matrix and Target Vector\n",
    "X = df.loc[:, df.columns != 'target']\n",
    "y = df.loc[:, 'target'].values\n",
    "# Split the data into training and testing sets\n",
    "X_train, X_test, Y_train, Y_test = train_test_split(X, y, random_state=0)\n",
    "# Random Forests in `scikit-learn` (with N = 100)\n",
    "rf = RandomForestClassifier(n_estimators=100,\n",
    "                            random_state=0)\n",
    "rf.fit(X_train, Y_train)"
   ]
  },
  {
   "cell_type": "code",
   "execution_count": null,
   "metadata": {},
   "outputs": [],
   "source": [
    "rf.estimators_"
   ]
  },
  {
   "cell_type": "code",
   "execution_count": null,
   "metadata": {},
   "outputs": [],
   "source": [
    "fn=data.feature_names\n",
    "cn=data.target_names\n",
    "fig, axes = plt.subplots(nrows = 1,ncols = 1,figsize = (10,10), dpi=800)\n",
    "tree.plot_tree(rf.estimators_[0],\n",
    "               feature_names = X.columns, \n",
    "               filled = True);"
   ]
  },
  {
   "cell_type": "code",
   "execution_count": null,
   "metadata": {},
   "outputs": [],
   "source": [
    "# This may not the best way to view each estimator as it is small\n",
    "fn=X.columns\n",
    "#cn=data.target_names\n",
    "fig, axes = plt.subplots(nrows = 1,ncols = 5,figsize = (10,2), dpi=3000)\n",
    "for index in range(0, 5):\n",
    "    tree.plot_tree(rf.estimators_[index],\n",
    "                   feature_names = fn, \n",
    "                   #class_names=cn,\n",
    "                   filled = True,\n",
    "                   ax = axes[index]);\n",
    "    \n",
    "    axes[index].set_title('Estimator: ' + str(index), fontsize = 11)\n",
    "fig.savefig('rf_5trees.png')"
   ]
  }
 ],
 "metadata": {
  "colab": {
   "name": "Aula_4.ipynb",
   "provenance": []
  },
  "kernelspec": {
   "display_name": "Python 3.9.12",
   "language": "python",
   "name": "python3"
  },
  "language_info": {
   "codemirror_mode": {
    "name": "ipython",
    "version": 3
   },
   "file_extension": ".py",
   "mimetype": "text/x-python",
   "name": "python",
   "nbconvert_exporter": "python",
   "pygments_lexer": "ipython3",
   "version": "3.9.12"
  },
  "vscode": {
   "interpreter": {
    "hash": "96a4d46fb4d684cbfd3f8b74572f59798a14754efc78a275069398d557c8ef3f"
   }
  }
 },
 "nbformat": 4,
 "nbformat_minor": 1
}
