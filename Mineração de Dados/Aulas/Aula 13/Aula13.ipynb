{
 "cells": [
  {
   "cell_type": "code",
   "execution_count": 64,
   "metadata": {},
   "outputs": [],
   "source": [
    "import pandas as pd\n",
    "import yaml\n",
    "import spotipy\n",
    "import spotipy.util as util\n",
    "\n",
    "from sklearn.preprocessing import StandardScaler\n",
    "from sklearn.preprocessing import MinMaxScaler\n",
    "from sklearn.decomposition import PCA\n",
    "\n",
    "from sklearn.cluster import KMeans\n",
    "\n",
    "import matplotlib.pyplot as plt\n",
    "import seaborn as sns"
   ]
  },
  {
   "cell_type": "markdown",
   "metadata": {},
   "source": [
    "## Configurando a comunicação"
   ]
  },
  {
   "cell_type": "code",
   "execution_count": 13,
   "metadata": {},
   "outputs": [],
   "source": [
    "def load_config():\n",
    "    stream = open('config.yaml')\n",
    "    user_config = yaml.load(stream, Loader=yaml.FullLoader)\n",
    "    return user_config\n",
    "\n",
    "user_config = load_config()"
   ]
  },
  {
   "cell_type": "code",
   "execution_count": 71,
   "metadata": {},
   "outputs": [],
   "source": [
    "#token = util.prompt_for_user_token(user_config['username'], scope='playlist-read-private', client_id=user_config['client_id'], client_secret=user_config['client_secret'], redirect_uri=user_config['redirect_uri'])\n",
    "\n",
    "token = util.prompt_for_user_token(user_config['username'], scope='playlist-modify-public', client_id=user_config['client_id'], client_secret=user_config['client_secret'], redirect_uri=user_config['redirect_uri'])\n",
    "sp = spotipy.Spotify(auth=token)"
   ]
  },
  {
   "cell_type": "markdown",
   "metadata": {},
   "source": [
    "## Funções auxiliares"
   ]
  },
  {
   "cell_type": "code",
   "execution_count": 15,
   "metadata": {},
   "outputs": [],
   "source": [
    "def get_playlist_info(username, playlist_uri):\n",
    "    offset = 0\n",
    "    tracks, uris, names, artists = [], [], [], []\n",
    "\n",
    "    playlist_id = playlist_uri.split(':')[2]\n",
    "    playlist_name = sp.user_playlist(username, playlist_id)['name']\n",
    "\n",
    "    while True:\n",
    "        results = sp.user_playlist_tracks(username, playlist_id, offset=offset)\n",
    "        tracks += results['items']\n",
    "        if results['next'] is not None:\n",
    "            offset += 100\n",
    "        else:\n",
    "            break\n",
    "        \n",
    "    for track in tracks:\n",
    "        names.append(track['track']['name'])\n",
    "        artists.append(track['track']['artists'][0]['name'])\n",
    "        uris.append(track['track']['uri'])\n",
    "    \n",
    "    return playlist_name, names, artists, uris"
   ]
  },
  {
   "cell_type": "code",
   "execution_count": 21,
   "metadata": {},
   "outputs": [
    {
     "data": {
      "text/plain": [
       "('Cantando com Mundo Bita',\n",
       " ['Odara',\n",
       "  'É Alegria',\n",
       "  'O Leãozinho',\n",
       "  'O Amor É Tudo de Bom',\n",
       "  'Pra Lidar Com a Raiva',\n",
       "  'Que É Que o Macaco É?',\n",
       "  'Amiga Baleia',\n",
       "  'Vento Ventania',\n",
       "  'Fazendinha',\n",
       "  'Dona Girafa',\n",
       "  'Fazendinha Sambão - Remix',\n",
       "  'O Morcego (Me Perdoe a Hora)',\n",
       "  'Lá no Galinheiro',\n",
       "  'La Bamba',\n",
       "  'Todo Mundo Chora',\n",
       "  'Que Saudade Que Eu Tô',\n",
       "  'Bagunça de Criança',\n",
       "  'Aquilo Que Te Move',\n",
       "  'O Esporte Que Escolher',\n",
       "  'Meu Papai',\n",
       "  'O Amor da Adoção',\n",
       "  'Querida Chupeta, Bye-Bye',\n",
       "  'Hora de Tomar Vacina',\n",
       "  'Nessa Dança',\n",
       "  'O Carimbador Maluco',\n",
       "  'Mãe Música',\n",
       "  'Como É Grande o Meu Amor por Você',\n",
       "  'Fundo do Mar',\n",
       "  'Viajar Pelo Safari',\n",
       "  'Matemagicamente',\n",
       "  'Como uma Onda',\n",
       "  'O Circo Chegou',\n",
       "  'Palhaçada',\n",
       "  'A Vida do Viajante',\n",
       "  'Dinossauros',\n",
       "  'De Estimação',\n",
       "  'Como é Verde na Floresta',\n",
       "  'Para Papar',\n",
       "  'Ai, Que Vontade!',\n",
       "  'Hora da Escola',\n",
       "  'Chuá Tchibum',\n",
       "  'O Parquinho',\n",
       "  'O Sol Já Vem',\n",
       "  'São João do Bita',\n",
       "  'Xic, Xic, Xic',\n",
       "  'Página por Página',\n",
       "  'Vamos Passear',\n",
       "  'Cada Coisa Tem Seu Formato',\n",
       "  'Meu Papai',\n",
       "  'Anunciação',\n",
       "  'Bom Banho',\n",
       "  'Eu Quero Ver Você Me Pegar',\n",
       "  'A Verdadeira Força',\n",
       "  'Aquarela',\n",
       "  'Bem-Vindo ao Planeta Boo',\n",
       "  'Recadinho para Mamãe',\n",
       "  'Num Passe de Mágica',\n",
       "  'Sinto o Que Sinto',\n",
       "  'Todos os Povos',\n",
       "  'O Esporte Que Escolher',\n",
       "  'Tô Dodói',\n",
       "  'Ela e Ele',\n",
       "  'Esplêndida Fauna',\n",
       "  'Palco de Brinquedos',\n",
       "  'Nossa Casa',\n",
       "  'A Amizade',\n",
       "  'Alfabita',\n",
       "  'Magia das Cores',\n",
       "  'Boa Noite',\n",
       "  'Vou Desenhar',\n",
       "  'Chuva Chove',\n",
       "  'Coragem'],\n",
       " ['Mundo Bita',\n",
       "  'Mundo Bita',\n",
       "  'Mundo Bita',\n",
       "  'Mundo Bita',\n",
       "  'Mundo Bita',\n",
       "  'Mundo Bita',\n",
       "  'Mundo Bita',\n",
       "  'Mundo Bita',\n",
       "  'Mundo Bita',\n",
       "  'Mundo Bita',\n",
       "  'Mundo Bita',\n",
       "  'Mundo Bita',\n",
       "  'Mundo Bita',\n",
       "  'Mundo Bita',\n",
       "  'Mundo Bita',\n",
       "  'Mundo Bita',\n",
       "  'Mundo Bita',\n",
       "  'Mundo Bita',\n",
       "  'Mundo Bita',\n",
       "  'Mundo Bita',\n",
       "  'Mundo Bita',\n",
       "  'Mundo Bita',\n",
       "  'Mundo Bita',\n",
       "  'Mundo Bita',\n",
       "  'Mundo Bita',\n",
       "  'Mundo Bita',\n",
       "  'Mundo Bita',\n",
       "  'Mundo Bita',\n",
       "  'Mundo Bita',\n",
       "  'Mundo Bita',\n",
       "  'Mundo Bita',\n",
       "  'Mundo Bita',\n",
       "  'Mundo Bita',\n",
       "  'Mundo Bita',\n",
       "  'Mundo Bita',\n",
       "  'Mundo Bita',\n",
       "  'Mundo Bita',\n",
       "  'Mundo Bita',\n",
       "  'Mundo Bita',\n",
       "  'Mundo Bita',\n",
       "  'Mundo Bita',\n",
       "  'Mundo Bita',\n",
       "  'Mundo Bita',\n",
       "  'Mundo Bita',\n",
       "  'Mundo Bita',\n",
       "  'Mundo Bita',\n",
       "  'Mundo Bita',\n",
       "  'Mundo Bita',\n",
       "  'Mundo Bita',\n",
       "  'Mundo Bita',\n",
       "  'Mundo Bita',\n",
       "  'Mundo Bita',\n",
       "  'Mundo Bita',\n",
       "  'Mundo Bita',\n",
       "  'Planeta Boo',\n",
       "  'Mundo Bita',\n",
       "  'Mundo Bita',\n",
       "  'Mundo Bita',\n",
       "  'Mundo Bita',\n",
       "  'Mundo Bita',\n",
       "  'Mundo Bita',\n",
       "  'Mundo Bita',\n",
       "  'Mundo Bita',\n",
       "  'Mundo Bita',\n",
       "  'Mundo Bita',\n",
       "  'Mundo Bita',\n",
       "  'Mundo Bita',\n",
       "  'Mundo Bita',\n",
       "  'Mundo Bita',\n",
       "  'Mundo Bita',\n",
       "  'Mundo Bita',\n",
       "  'Mundo Bita'],\n",
       " ['spotify:track:55D55juXTRrq7dHW8N9NEZ',\n",
       "  'spotify:track:27QXzBX98JZUlFuhDP64rf',\n",
       "  'spotify:track:28M9MWK5TOvIr5e9f0Xrcm',\n",
       "  'spotify:track:6FgOPZIzN8J8Cssm1U5FlG',\n",
       "  'spotify:track:0rJ8PIZEvUaOi82Nm18DQS',\n",
       "  'spotify:track:1P5tgxU3fdjwuR28OsplGu',\n",
       "  'spotify:track:3BetYdrAvI8dwi9EoBNLBI',\n",
       "  'spotify:track:1JWrF5UcjEjax2Fu0sZPxv',\n",
       "  'spotify:track:34wql54jkOhSmc7Sy7qtYA',\n",
       "  'spotify:track:7DXK6gU6FBuilX0tSA7MxH',\n",
       "  'spotify:track:0I5lGOVkxoTbvPkVDOCW8K',\n",
       "  'spotify:track:02sug2UH2z5LHwjzXBv2wk',\n",
       "  'spotify:track:3s4ctqh1ZS036QaaaaEQbu',\n",
       "  'spotify:track:2SA5a2TTWECfdsNjUUgwwA',\n",
       "  'spotify:track:6BQw7y346PO7ULQBDn9pzW',\n",
       "  'spotify:track:6kIhBhOX1jS4eWpuurbcWY',\n",
       "  'spotify:track:235QQLSFVRxDYIsHBng6wW',\n",
       "  'spotify:track:0zXndo4Xh4j86lqMymrQtL',\n",
       "  'spotify:track:7CX003Unlqf8m2dehDmxSX',\n",
       "  'spotify:track:2FoA6yuDWLmatlBgMHF3JL',\n",
       "  'spotify:track:6Kdo1eeIwcLz23ic5lNV7W',\n",
       "  'spotify:track:0U0a5MAMmE69lkTXuM6tZc',\n",
       "  'spotify:track:6xtLtk1ccozDP3Vna1UnDV',\n",
       "  'spotify:track:5jsSyqZ1PcMBcMBg2nCndv',\n",
       "  'spotify:track:37xJcrhOxy0XSMTxBqnaDJ',\n",
       "  'spotify:track:2TEd2HZPKNDnPVeINSSFLB',\n",
       "  'spotify:track:0PIPrd6c5PmEctpdY4ib6H',\n",
       "  'spotify:track:3T6COhSUR1019RS4JMwLBU',\n",
       "  'spotify:track:2vfemG0nIh6OsMN49vWpc9',\n",
       "  'spotify:track:4v8A4016v3bULFapEtJyrZ',\n",
       "  'spotify:track:4eHRaAX2KFLQlf5PDiNeKC',\n",
       "  'spotify:track:6sz9qBzHDnHRAoz9oYmYdb',\n",
       "  'spotify:track:7uBYuEbJ9vC7o2UB2xcMdy',\n",
       "  'spotify:track:3Gy1VDLTMVPlmgEZAegcDH',\n",
       "  'spotify:track:2c9JSOnIet8d2SIL0BZfhN',\n",
       "  'spotify:track:3YNU4qRQ2dzkl3IKpIZ17s',\n",
       "  'spotify:track:1KU5UNqFd2Pphn9L8SC7dp',\n",
       "  'spotify:track:7jzTP5ilBAaBAEuhfTq6Hc',\n",
       "  'spotify:track:3ozu2vvddtv0FKIcOZsBq4',\n",
       "  'spotify:track:06jJRyN77zRtidBnOQFiPe',\n",
       "  'spotify:track:1Y5SEcW1ffE2FQd6saTvfn',\n",
       "  'spotify:track:3i9jy3LT6kDsMNE3wD5EhJ',\n",
       "  'spotify:track:5AocXOP25ppdZkwBy9FFeW',\n",
       "  'spotify:track:1ajQWMsz1qSnNVI0zjF2aN',\n",
       "  'spotify:track:0q3DqdQeJn4JPMLmnWuCZG',\n",
       "  'spotify:track:6sj7B1M4c7wXhv5VP72ixk',\n",
       "  'spotify:track:3WweR30K24peeusJdpHgfU',\n",
       "  'spotify:track:3TSFu0lC4BDKQqNpVpdLsL',\n",
       "  'spotify:track:2FoA6yuDWLmatlBgMHF3JL',\n",
       "  'spotify:track:4uJUQn3dPS3ofFdvICNZDZ',\n",
       "  'spotify:track:1MkpO6yIjASu2WXGHU2LX1',\n",
       "  'spotify:track:1447Srx0yBQjZnO9ktE4jl',\n",
       "  'spotify:track:1vhiJ5kpSfg1nHuUuzRe1D',\n",
       "  'spotify:track:0u4vS6zKr5RqzkFaIK4RGN',\n",
       "  'spotify:track:1ydvYQVhpzOptyCFDcvlKU',\n",
       "  'spotify:track:6xHdWoft44ukyL6jcVCrPz',\n",
       "  'spotify:track:6lCJqmSRfxpOe8Yqy7qh3x',\n",
       "  'spotify:track:2t9efPHIjAcozu2jDBdACj',\n",
       "  'spotify:track:08iQAQpLyLS9KNxW4c65Xy',\n",
       "  'spotify:track:7CX003Unlqf8m2dehDmxSX',\n",
       "  'spotify:track:0B9ZwybZxUVoF6z9pIZIoT',\n",
       "  'spotify:track:0oi9r2PhP87tVdjmxTdgfE',\n",
       "  'spotify:track:1I5Xk4N3cM1lWHccJrEIik',\n",
       "  'spotify:track:5tijzkTMuUnphrs19JUARc',\n",
       "  'spotify:track:6cUlgjdWrAkCOgCeC1kllQ',\n",
       "  'spotify:track:00PD8YkbbSCjBU572gjlWz',\n",
       "  'spotify:track:5NocuAhFRFOpAB6HbkGLCj',\n",
       "  'spotify:track:5zA0LdKF1BlYiBXgreLg9Z',\n",
       "  'spotify:track:0Vkkrh0GbrHRprDkMfHnp1',\n",
       "  'spotify:track:5HFwipvtnKdDossIyuBOVF',\n",
       "  'spotify:track:0ad5AE2vCykKXm2ERbTaGr',\n",
       "  'spotify:track:6WoKiuHQSzZtfjaHwYDbuk'])"
      ]
     },
     "execution_count": 21,
     "metadata": {},
     "output_type": "execute_result"
    }
   ],
   "source": [
    "playlist_uri = 'spotify:playlist:37i9dQZF1DWUMIaJLw9MPy'\n",
    "get_playlist_info(user_config['username'], playlist_uri)"
   ]
  },
  {
   "cell_type": "code",
   "execution_count": 16,
   "metadata": {},
   "outputs": [],
   "source": [
    "def get_features_for_playlist(df, username, uri):\n",
    "  \n",
    "    playlist_name, names, artists, uris = get_playlist_info(username, uri)\n",
    "    \n",
    "    for name, artist, track_uri in zip(names, artists, uris):\n",
    "\n",
    "        audio_features = sp.audio_features(track_uri)\n",
    "\n",
    "        feature_subset = [audio_features[0][col] for col in df.columns if col not in [\"name\", \"artist\", \"track_URI\", \"playlist\"]]\n",
    "\n",
    "        row = [name, artist, track_uri, *feature_subset, playlist_name]\n",
    "        df.loc[len(df.index)] = row\n",
    "    return df"
   ]
  },
  {
   "cell_type": "code",
   "execution_count": 22,
   "metadata": {},
   "outputs": [
    {
     "data": {
      "text/plain": [
       "[{'danceability': 0.593,\n",
       "  'energy': 0.735,\n",
       "  'key': 11,\n",
       "  'loudness': -7.919,\n",
       "  'mode': 1,\n",
       "  'speechiness': 0.0353,\n",
       "  'acousticness': 0.0181,\n",
       "  'instrumentalness': 0.000435,\n",
       "  'liveness': 0.134,\n",
       "  'valence': 0.844,\n",
       "  'tempo': 174.991,\n",
       "  'type': 'audio_features',\n",
       "  'id': '6WoKiuHQSzZtfjaHwYDbuk',\n",
       "  'uri': 'spotify:track:6WoKiuHQSzZtfjaHwYDbuk',\n",
       "  'track_href': 'https://api.spotify.com/v1/tracks/6WoKiuHQSzZtfjaHwYDbuk',\n",
       "  'analysis_url': 'https://api.spotify.com/v1/audio-analysis/6WoKiuHQSzZtfjaHwYDbuk',\n",
       "  'duration_ms': 165086,\n",
       "  'time_signature': 4}]"
      ]
     },
     "execution_count": 22,
     "metadata": {},
     "output_type": "execute_result"
    }
   ],
   "source": [
    "track_uri = 'spotify:track:6WoKiuHQSzZtfjaHwYDbuk'\n",
    "sp.audio_features(track_uri)"
   ]
  },
  {
   "cell_type": "code",
   "execution_count": 74,
   "metadata": {},
   "outputs": [
    {
     "data": {
      "text/html": [
       "<div>\n",
       "<style scoped>\n",
       "    .dataframe tbody tr th:only-of-type {\n",
       "        vertical-align: middle;\n",
       "    }\n",
       "\n",
       "    .dataframe tbody tr th {\n",
       "        vertical-align: top;\n",
       "    }\n",
       "\n",
       "    .dataframe thead th {\n",
       "        text-align: right;\n",
       "    }\n",
       "</style>\n",
       "<table border=\"1\" class=\"dataframe\">\n",
       "  <thead>\n",
       "    <tr style=\"text-align: right;\">\n",
       "      <th></th>\n",
       "      <th>name</th>\n",
       "      <th>artist</th>\n",
       "      <th>track_URI</th>\n",
       "      <th>acousticness</th>\n",
       "      <th>danceability</th>\n",
       "      <th>energy</th>\n",
       "      <th>instrumentalness</th>\n",
       "      <th>liveness</th>\n",
       "      <th>loudness</th>\n",
       "      <th>speechiness</th>\n",
       "      <th>tempo</th>\n",
       "      <th>valence</th>\n",
       "      <th>playlist</th>\n",
       "    </tr>\n",
       "  </thead>\n",
       "  <tbody>\n",
       "  </tbody>\n",
       "</table>\n",
       "</div>"
      ],
      "text/plain": [
       "Empty DataFrame\n",
       "Columns: [name, artist, track_URI, acousticness, danceability, energy, instrumentalness, liveness, loudness, speechiness, tempo, valence, playlist]\n",
       "Index: []"
      ]
     },
     "execution_count": 74,
     "metadata": {},
     "output_type": "execute_result"
    }
   ],
   "source": [
    "#playlist_uri = 'spotify:playlist:37i9dQZF1DX9FSYmdU9mbT'\n",
    "playlist_uri = 'spotify:playlist:7K8SQif6BmZv6KWndNj9QW'\n",
    "\n",
    "df = pd.DataFrame(columns=['name', 'artist', 'track_URI', 'acousticness', 'danceability', 'energy', 'instrumentalness', 'liveness', 'loudness', 'speechiness', 'tempo', 'valence', 'playlist'])\n",
    "df"
   ]
  },
  {
   "cell_type": "code",
   "execution_count": 75,
   "metadata": {},
   "outputs": [
    {
     "data": {
      "text/html": [
       "<div>\n",
       "<style scoped>\n",
       "    .dataframe tbody tr th:only-of-type {\n",
       "        vertical-align: middle;\n",
       "    }\n",
       "\n",
       "    .dataframe tbody tr th {\n",
       "        vertical-align: top;\n",
       "    }\n",
       "\n",
       "    .dataframe thead th {\n",
       "        text-align: right;\n",
       "    }\n",
       "</style>\n",
       "<table border=\"1\" class=\"dataframe\">\n",
       "  <thead>\n",
       "    <tr style=\"text-align: right;\">\n",
       "      <th></th>\n",
       "      <th>name</th>\n",
       "      <th>artist</th>\n",
       "      <th>track_URI</th>\n",
       "      <th>acousticness</th>\n",
       "      <th>danceability</th>\n",
       "      <th>energy</th>\n",
       "      <th>instrumentalness</th>\n",
       "      <th>liveness</th>\n",
       "      <th>loudness</th>\n",
       "      <th>speechiness</th>\n",
       "      <th>tempo</th>\n",
       "      <th>valence</th>\n",
       "      <th>playlist</th>\n",
       "    </tr>\n",
       "  </thead>\n",
       "  <tbody>\n",
       "    <tr>\n",
       "      <th>0</th>\n",
       "      <td>Ex's &amp; Oh's</td>\n",
       "      <td>Elle King</td>\n",
       "      <td>spotify:track:70eDxAyAraNTiD6lx2ZEnH</td>\n",
       "      <td>0.01830</td>\n",
       "      <td>0.612</td>\n",
       "      <td>0.921</td>\n",
       "      <td>0.000000</td>\n",
       "      <td>0.0576</td>\n",
       "      <td>-2.882</td>\n",
       "      <td>0.0850</td>\n",
       "      <td>139.988</td>\n",
       "      <td>0.446</td>\n",
       "      <td>Nova playlist 2</td>\n",
       "    </tr>\n",
       "    <tr>\n",
       "      <th>1</th>\n",
       "      <td>Yesterday - Remastered 2015</td>\n",
       "      <td>The Beatles</td>\n",
       "      <td>spotify:track:63uskN0xLezVg4281wzeQn</td>\n",
       "      <td>0.87100</td>\n",
       "      <td>0.401</td>\n",
       "      <td>0.189</td>\n",
       "      <td>0.000000</td>\n",
       "      <td>0.0968</td>\n",
       "      <td>-11.189</td>\n",
       "      <td>0.0287</td>\n",
       "      <td>94.509</td>\n",
       "      <td>0.357</td>\n",
       "      <td>Nova playlist 2</td>\n",
       "    </tr>\n",
       "    <tr>\n",
       "      <th>2</th>\n",
       "      <td>Cocaine</td>\n",
       "      <td>Eric Clapton</td>\n",
       "      <td>spotify:track:2udGjDmpK1dH9VGyw7nrei</td>\n",
       "      <td>0.06070</td>\n",
       "      <td>0.699</td>\n",
       "      <td>0.502</td>\n",
       "      <td>0.033700</td>\n",
       "      <td>0.3170</td>\n",
       "      <td>-12.526</td>\n",
       "      <td>0.0278</td>\n",
       "      <td>105.267</td>\n",
       "      <td>0.676</td>\n",
       "      <td>Nova playlist 2</td>\n",
       "    </tr>\n",
       "    <tr>\n",
       "      <th>3</th>\n",
       "      <td>Hotel California - 2013 Remaster</td>\n",
       "      <td>Eagles</td>\n",
       "      <td>spotify:track:40riOy7x9W7GXjyGp4pjAv</td>\n",
       "      <td>0.00574</td>\n",
       "      <td>0.579</td>\n",
       "      <td>0.508</td>\n",
       "      <td>0.000494</td>\n",
       "      <td>0.0575</td>\n",
       "      <td>-9.484</td>\n",
       "      <td>0.0270</td>\n",
       "      <td>147.125</td>\n",
       "      <td>0.609</td>\n",
       "      <td>Nova playlist 2</td>\n",
       "    </tr>\n",
       "    <tr>\n",
       "      <th>4</th>\n",
       "      <td>Strawberry Fields Forever - Remastered</td>\n",
       "      <td>The Beatles</td>\n",
       "      <td>spotify:track:5EuraV2jbqB15ihd3d2Hex</td>\n",
       "      <td>0.33600</td>\n",
       "      <td>0.390</td>\n",
       "      <td>0.502</td>\n",
       "      <td>0.000138</td>\n",
       "      <td>0.0713</td>\n",
       "      <td>-12.277</td>\n",
       "      <td>0.1780</td>\n",
       "      <td>97.871</td>\n",
       "      <td>0.289</td>\n",
       "      <td>Nova playlist 2</td>\n",
       "    </tr>\n",
       "    <tr>\n",
       "      <th>...</th>\n",
       "      <td>...</td>\n",
       "      <td>...</td>\n",
       "      <td>...</td>\n",
       "      <td>...</td>\n",
       "      <td>...</td>\n",
       "      <td>...</td>\n",
       "      <td>...</td>\n",
       "      <td>...</td>\n",
       "      <td>...</td>\n",
       "      <td>...</td>\n",
       "      <td>...</td>\n",
       "      <td>...</td>\n",
       "      <td>...</td>\n",
       "    </tr>\n",
       "    <tr>\n",
       "      <th>881</th>\n",
       "      <td>Hey Ya!</td>\n",
       "      <td>Outkast</td>\n",
       "      <td>spotify:track:2PpruBYCo4H7WOBJ7Q2EwM</td>\n",
       "      <td>0.10300</td>\n",
       "      <td>0.727</td>\n",
       "      <td>0.974</td>\n",
       "      <td>0.000532</td>\n",
       "      <td>0.1740</td>\n",
       "      <td>-2.261</td>\n",
       "      <td>0.0664</td>\n",
       "      <td>79.526</td>\n",
       "      <td>0.965</td>\n",
       "      <td>Nova playlist 2</td>\n",
       "    </tr>\n",
       "    <tr>\n",
       "      <th>882</th>\n",
       "      <td>Wish You Were Here - 2011 Remaster</td>\n",
       "      <td>Pink Floyd</td>\n",
       "      <td>spotify:track:7aE5WXu5sFeNRh3Z05wwu4</td>\n",
       "      <td>0.72800</td>\n",
       "      <td>0.500</td>\n",
       "      <td>0.185</td>\n",
       "      <td>0.000746</td>\n",
       "      <td>0.2730</td>\n",
       "      <td>-20.242</td>\n",
       "      <td>0.0535</td>\n",
       "      <td>121.002</td>\n",
       "      <td>0.293</td>\n",
       "      <td>Nova playlist 2</td>\n",
       "    </tr>\n",
       "    <tr>\n",
       "      <th>883</th>\n",
       "      <td>bad guy</td>\n",
       "      <td>Billie Eilish</td>\n",
       "      <td>spotify:track:2Fxmhks0bxGSBdJ92vM42m</td>\n",
       "      <td>0.32800</td>\n",
       "      <td>0.701</td>\n",
       "      <td>0.425</td>\n",
       "      <td>0.130000</td>\n",
       "      <td>0.1000</td>\n",
       "      <td>-10.965</td>\n",
       "      <td>0.3750</td>\n",
       "      <td>135.128</td>\n",
       "      <td>0.562</td>\n",
       "      <td>Nova playlist 2</td>\n",
       "    </tr>\n",
       "    <tr>\n",
       "      <th>884</th>\n",
       "      <td>La Vie En Rose</td>\n",
       "      <td>Lady Gaga</td>\n",
       "      <td>spotify:track:3tv3f29zjhzL3kcvQE8tGl</td>\n",
       "      <td>0.75800</td>\n",
       "      <td>0.276</td>\n",
       "      <td>0.405</td>\n",
       "      <td>0.000000</td>\n",
       "      <td>0.7060</td>\n",
       "      <td>-7.296</td>\n",
       "      <td>0.0329</td>\n",
       "      <td>76.180</td>\n",
       "      <td>0.335</td>\n",
       "      <td>Nova playlist 2</td>\n",
       "    </tr>\n",
       "    <tr>\n",
       "      <th>885</th>\n",
       "      <td>Pra não dizer que não falei das flores</td>\n",
       "      <td>Geraldo Vandre</td>\n",
       "      <td>spotify:track:34xP8fbC6O8TvKFWNcZihk</td>\n",
       "      <td>0.35300</td>\n",
       "      <td>0.525</td>\n",
       "      <td>0.284</td>\n",
       "      <td>0.099700</td>\n",
       "      <td>0.1270</td>\n",
       "      <td>-15.206</td>\n",
       "      <td>0.0472</td>\n",
       "      <td>114.195</td>\n",
       "      <td>0.306</td>\n",
       "      <td>Nova playlist 2</td>\n",
       "    </tr>\n",
       "  </tbody>\n",
       "</table>\n",
       "<p>886 rows × 13 columns</p>\n",
       "</div>"
      ],
      "text/plain": [
       "                                       name          artist  \\\n",
       "0                               Ex's & Oh's       Elle King   \n",
       "1               Yesterday - Remastered 2015     The Beatles   \n",
       "2                                   Cocaine    Eric Clapton   \n",
       "3          Hotel California - 2013 Remaster          Eagles   \n",
       "4    Strawberry Fields Forever - Remastered     The Beatles   \n",
       "..                                      ...             ...   \n",
       "881                                 Hey Ya!         Outkast   \n",
       "882      Wish You Were Here - 2011 Remaster      Pink Floyd   \n",
       "883                                 bad guy   Billie Eilish   \n",
       "884                          La Vie En Rose       Lady Gaga   \n",
       "885  Pra não dizer que não falei das flores  Geraldo Vandre   \n",
       "\n",
       "                                track_URI  acousticness  danceability  energy  \\\n",
       "0    spotify:track:70eDxAyAraNTiD6lx2ZEnH       0.01830         0.612   0.921   \n",
       "1    spotify:track:63uskN0xLezVg4281wzeQn       0.87100         0.401   0.189   \n",
       "2    spotify:track:2udGjDmpK1dH9VGyw7nrei       0.06070         0.699   0.502   \n",
       "3    spotify:track:40riOy7x9W7GXjyGp4pjAv       0.00574         0.579   0.508   \n",
       "4    spotify:track:5EuraV2jbqB15ihd3d2Hex       0.33600         0.390   0.502   \n",
       "..                                    ...           ...           ...     ...   \n",
       "881  spotify:track:2PpruBYCo4H7WOBJ7Q2EwM       0.10300         0.727   0.974   \n",
       "882  spotify:track:7aE5WXu5sFeNRh3Z05wwu4       0.72800         0.500   0.185   \n",
       "883  spotify:track:2Fxmhks0bxGSBdJ92vM42m       0.32800         0.701   0.425   \n",
       "884  spotify:track:3tv3f29zjhzL3kcvQE8tGl       0.75800         0.276   0.405   \n",
       "885  spotify:track:34xP8fbC6O8TvKFWNcZihk       0.35300         0.525   0.284   \n",
       "\n",
       "     instrumentalness  liveness  loudness  speechiness    tempo  valence  \\\n",
       "0            0.000000    0.0576    -2.882       0.0850  139.988    0.446   \n",
       "1            0.000000    0.0968   -11.189       0.0287   94.509    0.357   \n",
       "2            0.033700    0.3170   -12.526       0.0278  105.267    0.676   \n",
       "3            0.000494    0.0575    -9.484       0.0270  147.125    0.609   \n",
       "4            0.000138    0.0713   -12.277       0.1780   97.871    0.289   \n",
       "..                ...       ...       ...          ...      ...      ...   \n",
       "881          0.000532    0.1740    -2.261       0.0664   79.526    0.965   \n",
       "882          0.000746    0.2730   -20.242       0.0535  121.002    0.293   \n",
       "883          0.130000    0.1000   -10.965       0.3750  135.128    0.562   \n",
       "884          0.000000    0.7060    -7.296       0.0329   76.180    0.335   \n",
       "885          0.099700    0.1270   -15.206       0.0472  114.195    0.306   \n",
       "\n",
       "            playlist  \n",
       "0    Nova playlist 2  \n",
       "1    Nova playlist 2  \n",
       "2    Nova playlist 2  \n",
       "3    Nova playlist 2  \n",
       "4    Nova playlist 2  \n",
       "..               ...  \n",
       "881  Nova playlist 2  \n",
       "882  Nova playlist 2  \n",
       "883  Nova playlist 2  \n",
       "884  Nova playlist 2  \n",
       "885  Nova playlist 2  \n",
       "\n",
       "[886 rows x 13 columns]"
      ]
     },
     "execution_count": 75,
     "metadata": {},
     "output_type": "execute_result"
    }
   ],
   "source": [
    "df = get_features_for_playlist(df, user_config['username'], playlist_uri)\n",
    "df"
   ]
  },
  {
   "cell_type": "markdown",
   "metadata": {},
   "source": [
    "## Testando as Features"
   ]
  },
  {
   "cell_type": "code",
   "execution_count": 28,
   "metadata": {},
   "outputs": [
    {
     "data": {
      "text/html": [
       "<div>\n",
       "<style scoped>\n",
       "    .dataframe tbody tr th:only-of-type {\n",
       "        vertical-align: middle;\n",
       "    }\n",
       "\n",
       "    .dataframe tbody tr th {\n",
       "        vertical-align: top;\n",
       "    }\n",
       "\n",
       "    .dataframe thead th {\n",
       "        text-align: right;\n",
       "    }\n",
       "</style>\n",
       "<table border=\"1\" class=\"dataframe\">\n",
       "  <thead>\n",
       "    <tr style=\"text-align: right;\">\n",
       "      <th></th>\n",
       "      <th>name</th>\n",
       "      <th>artist</th>\n",
       "      <th>track_URI</th>\n",
       "      <th>acousticness</th>\n",
       "      <th>danceability</th>\n",
       "      <th>energy</th>\n",
       "      <th>instrumentalness</th>\n",
       "      <th>liveness</th>\n",
       "      <th>loudness</th>\n",
       "      <th>speechiness</th>\n",
       "      <th>tempo</th>\n",
       "      <th>valence</th>\n",
       "      <th>playlist</th>\n",
       "    </tr>\n",
       "  </thead>\n",
       "  <tbody>\n",
       "    <tr>\n",
       "      <th>61</th>\n",
       "      <td>Anunciação - Ao Vivo</td>\n",
       "      <td>Alceu Valença</td>\n",
       "      <td>spotify:track:3JrFuUhcNLHiD3hJPVaHTy</td>\n",
       "      <td>0.419</td>\n",
       "      <td>0.54</td>\n",
       "      <td>0.898</td>\n",
       "      <td>0.000001</td>\n",
       "      <td>0.984</td>\n",
       "      <td>-7.18</td>\n",
       "      <td>0.0528</td>\n",
       "      <td>109.984</td>\n",
       "      <td>0.473</td>\n",
       "      <td>O Melhor da MPB</td>\n",
       "    </tr>\n",
       "  </tbody>\n",
       "</table>\n",
       "</div>"
      ],
      "text/plain": [
       "                    name         artist                             track_URI  \\\n",
       "61  Anunciação - Ao Vivo  Alceu Valença  spotify:track:3JrFuUhcNLHiD3hJPVaHTy   \n",
       "\n",
       "    acousticness  danceability  energy  instrumentalness  liveness  loudness  \\\n",
       "61         0.419          0.54   0.898          0.000001     0.984     -7.18   \n",
       "\n",
       "    speechiness    tempo  valence         playlist  \n",
       "61       0.0528  109.984    0.473  O Melhor da MPB  "
      ]
     },
     "execution_count": 28,
     "metadata": {},
     "output_type": "execute_result"
    }
   ],
   "source": [
    "df[df['energy']==df['energy'].max()]"
   ]
  },
  {
   "cell_type": "code",
   "execution_count": 29,
   "metadata": {},
   "outputs": [
    {
     "data": {
      "text/html": [
       "<div>\n",
       "<style scoped>\n",
       "    .dataframe tbody tr th:only-of-type {\n",
       "        vertical-align: middle;\n",
       "    }\n",
       "\n",
       "    .dataframe tbody tr th {\n",
       "        vertical-align: top;\n",
       "    }\n",
       "\n",
       "    .dataframe thead th {\n",
       "        text-align: right;\n",
       "    }\n",
       "</style>\n",
       "<table border=\"1\" class=\"dataframe\">\n",
       "  <thead>\n",
       "    <tr style=\"text-align: right;\">\n",
       "      <th></th>\n",
       "      <th>name</th>\n",
       "      <th>artist</th>\n",
       "      <th>track_URI</th>\n",
       "      <th>acousticness</th>\n",
       "      <th>danceability</th>\n",
       "      <th>energy</th>\n",
       "      <th>instrumentalness</th>\n",
       "      <th>liveness</th>\n",
       "      <th>loudness</th>\n",
       "      <th>speechiness</th>\n",
       "      <th>tempo</th>\n",
       "      <th>valence</th>\n",
       "      <th>playlist</th>\n",
       "    </tr>\n",
       "  </thead>\n",
       "  <tbody>\n",
       "    <tr>\n",
       "      <th>28</th>\n",
       "      <td>Outra Vez</td>\n",
       "      <td>Roberto Carlos</td>\n",
       "      <td>spotify:track:33dHjdJ014lYbaQ0DXfzKw</td>\n",
       "      <td>0.806</td>\n",
       "      <td>0.391</td>\n",
       "      <td>0.0572</td>\n",
       "      <td>0.0</td>\n",
       "      <td>0.114</td>\n",
       "      <td>-23.63</td>\n",
       "      <td>0.0413</td>\n",
       "      <td>135.771</td>\n",
       "      <td>0.173</td>\n",
       "      <td>O Melhor da MPB</td>\n",
       "    </tr>\n",
       "  </tbody>\n",
       "</table>\n",
       "</div>"
      ],
      "text/plain": [
       "         name          artist                             track_URI  \\\n",
       "28  Outra Vez  Roberto Carlos  spotify:track:33dHjdJ014lYbaQ0DXfzKw   \n",
       "\n",
       "    acousticness  danceability  energy  instrumentalness  liveness  loudness  \\\n",
       "28         0.806         0.391  0.0572               0.0     0.114    -23.63   \n",
       "\n",
       "    speechiness    tempo  valence         playlist  \n",
       "28       0.0413  135.771    0.173  O Melhor da MPB  "
      ]
     },
     "execution_count": 29,
     "metadata": {},
     "output_type": "execute_result"
    }
   ],
   "source": [
    "df[df['energy']==df['energy'].min()]"
   ]
  },
  {
   "cell_type": "code",
   "execution_count": 30,
   "metadata": {},
   "outputs": [
    {
     "data": {
      "text/html": [
       "<div>\n",
       "<style scoped>\n",
       "    .dataframe tbody tr th:only-of-type {\n",
       "        vertical-align: middle;\n",
       "    }\n",
       "\n",
       "    .dataframe tbody tr th {\n",
       "        vertical-align: top;\n",
       "    }\n",
       "\n",
       "    .dataframe thead th {\n",
       "        text-align: right;\n",
       "    }\n",
       "</style>\n",
       "<table border=\"1\" class=\"dataframe\">\n",
       "  <thead>\n",
       "    <tr style=\"text-align: right;\">\n",
       "      <th></th>\n",
       "      <th>name</th>\n",
       "      <th>artist</th>\n",
       "      <th>track_URI</th>\n",
       "      <th>acousticness</th>\n",
       "      <th>danceability</th>\n",
       "      <th>energy</th>\n",
       "      <th>instrumentalness</th>\n",
       "      <th>liveness</th>\n",
       "      <th>loudness</th>\n",
       "      <th>speechiness</th>\n",
       "      <th>tempo</th>\n",
       "      <th>valence</th>\n",
       "      <th>playlist</th>\n",
       "    </tr>\n",
       "  </thead>\n",
       "  <tbody>\n",
       "    <tr>\n",
       "      <th>86</th>\n",
       "      <td>Lança Perfume</td>\n",
       "      <td>Rita Lee</td>\n",
       "      <td>spotify:track:0rAX31FT5w3ZQbQMUSkxy8</td>\n",
       "      <td>0.0396</td>\n",
       "      <td>0.843</td>\n",
       "      <td>0.528</td>\n",
       "      <td>0.0202</td>\n",
       "      <td>0.0594</td>\n",
       "      <td>-12.88</td>\n",
       "      <td>0.0473</td>\n",
       "      <td>127.284</td>\n",
       "      <td>0.962</td>\n",
       "      <td>O Melhor da MPB</td>\n",
       "    </tr>\n",
       "  </tbody>\n",
       "</table>\n",
       "</div>"
      ],
      "text/plain": [
       "             name    artist                             track_URI  \\\n",
       "86  Lança Perfume  Rita Lee  spotify:track:0rAX31FT5w3ZQbQMUSkxy8   \n",
       "\n",
       "    acousticness  danceability  energy  instrumentalness  liveness  loudness  \\\n",
       "86        0.0396         0.843   0.528            0.0202    0.0594    -12.88   \n",
       "\n",
       "    speechiness    tempo  valence         playlist  \n",
       "86       0.0473  127.284    0.962  O Melhor da MPB  "
      ]
     },
     "execution_count": 30,
     "metadata": {},
     "output_type": "execute_result"
    }
   ],
   "source": [
    "df[df['danceability']==df['danceability'].max()]"
   ]
  },
  {
   "cell_type": "markdown",
   "metadata": {},
   "source": [
    "## Análise de componentes principais (PCA)"
   ]
  },
  {
   "cell_type": "code",
   "execution_count": 76,
   "metadata": {},
   "outputs": [
    {
     "data": {
      "text/html": [
       "<div>\n",
       "<style scoped>\n",
       "    .dataframe tbody tr th:only-of-type {\n",
       "        vertical-align: middle;\n",
       "    }\n",
       "\n",
       "    .dataframe tbody tr th {\n",
       "        vertical-align: top;\n",
       "    }\n",
       "\n",
       "    .dataframe thead th {\n",
       "        text-align: right;\n",
       "    }\n",
       "</style>\n",
       "<table border=\"1\" class=\"dataframe\">\n",
       "  <thead>\n",
       "    <tr style=\"text-align: right;\">\n",
       "      <th></th>\n",
       "      <th>acousticness</th>\n",
       "      <th>danceability</th>\n",
       "      <th>energy</th>\n",
       "      <th>instrumentalness</th>\n",
       "      <th>liveness</th>\n",
       "      <th>loudness</th>\n",
       "      <th>speechiness</th>\n",
       "      <th>tempo</th>\n",
       "      <th>valence</th>\n",
       "    </tr>\n",
       "  </thead>\n",
       "  <tbody>\n",
       "    <tr>\n",
       "      <th>0</th>\n",
       "      <td>0.01830</td>\n",
       "      <td>0.612</td>\n",
       "      <td>0.921</td>\n",
       "      <td>0.000000</td>\n",
       "      <td>0.0576</td>\n",
       "      <td>-2.882</td>\n",
       "      <td>0.0850</td>\n",
       "      <td>139.988</td>\n",
       "      <td>0.446</td>\n",
       "    </tr>\n",
       "    <tr>\n",
       "      <th>1</th>\n",
       "      <td>0.87100</td>\n",
       "      <td>0.401</td>\n",
       "      <td>0.189</td>\n",
       "      <td>0.000000</td>\n",
       "      <td>0.0968</td>\n",
       "      <td>-11.189</td>\n",
       "      <td>0.0287</td>\n",
       "      <td>94.509</td>\n",
       "      <td>0.357</td>\n",
       "    </tr>\n",
       "    <tr>\n",
       "      <th>2</th>\n",
       "      <td>0.06070</td>\n",
       "      <td>0.699</td>\n",
       "      <td>0.502</td>\n",
       "      <td>0.033700</td>\n",
       "      <td>0.3170</td>\n",
       "      <td>-12.526</td>\n",
       "      <td>0.0278</td>\n",
       "      <td>105.267</td>\n",
       "      <td>0.676</td>\n",
       "    </tr>\n",
       "    <tr>\n",
       "      <th>3</th>\n",
       "      <td>0.00574</td>\n",
       "      <td>0.579</td>\n",
       "      <td>0.508</td>\n",
       "      <td>0.000494</td>\n",
       "      <td>0.0575</td>\n",
       "      <td>-9.484</td>\n",
       "      <td>0.0270</td>\n",
       "      <td>147.125</td>\n",
       "      <td>0.609</td>\n",
       "    </tr>\n",
       "    <tr>\n",
       "      <th>4</th>\n",
       "      <td>0.33600</td>\n",
       "      <td>0.390</td>\n",
       "      <td>0.502</td>\n",
       "      <td>0.000138</td>\n",
       "      <td>0.0713</td>\n",
       "      <td>-12.277</td>\n",
       "      <td>0.1780</td>\n",
       "      <td>97.871</td>\n",
       "      <td>0.289</td>\n",
       "    </tr>\n",
       "    <tr>\n",
       "      <th>...</th>\n",
       "      <td>...</td>\n",
       "      <td>...</td>\n",
       "      <td>...</td>\n",
       "      <td>...</td>\n",
       "      <td>...</td>\n",
       "      <td>...</td>\n",
       "      <td>...</td>\n",
       "      <td>...</td>\n",
       "      <td>...</td>\n",
       "    </tr>\n",
       "    <tr>\n",
       "      <th>881</th>\n",
       "      <td>0.10300</td>\n",
       "      <td>0.727</td>\n",
       "      <td>0.974</td>\n",
       "      <td>0.000532</td>\n",
       "      <td>0.1740</td>\n",
       "      <td>-2.261</td>\n",
       "      <td>0.0664</td>\n",
       "      <td>79.526</td>\n",
       "      <td>0.965</td>\n",
       "    </tr>\n",
       "    <tr>\n",
       "      <th>882</th>\n",
       "      <td>0.72800</td>\n",
       "      <td>0.500</td>\n",
       "      <td>0.185</td>\n",
       "      <td>0.000746</td>\n",
       "      <td>0.2730</td>\n",
       "      <td>-20.242</td>\n",
       "      <td>0.0535</td>\n",
       "      <td>121.002</td>\n",
       "      <td>0.293</td>\n",
       "    </tr>\n",
       "    <tr>\n",
       "      <th>883</th>\n",
       "      <td>0.32800</td>\n",
       "      <td>0.701</td>\n",
       "      <td>0.425</td>\n",
       "      <td>0.130000</td>\n",
       "      <td>0.1000</td>\n",
       "      <td>-10.965</td>\n",
       "      <td>0.3750</td>\n",
       "      <td>135.128</td>\n",
       "      <td>0.562</td>\n",
       "    </tr>\n",
       "    <tr>\n",
       "      <th>884</th>\n",
       "      <td>0.75800</td>\n",
       "      <td>0.276</td>\n",
       "      <td>0.405</td>\n",
       "      <td>0.000000</td>\n",
       "      <td>0.7060</td>\n",
       "      <td>-7.296</td>\n",
       "      <td>0.0329</td>\n",
       "      <td>76.180</td>\n",
       "      <td>0.335</td>\n",
       "    </tr>\n",
       "    <tr>\n",
       "      <th>885</th>\n",
       "      <td>0.35300</td>\n",
       "      <td>0.525</td>\n",
       "      <td>0.284</td>\n",
       "      <td>0.099700</td>\n",
       "      <td>0.1270</td>\n",
       "      <td>-15.206</td>\n",
       "      <td>0.0472</td>\n",
       "      <td>114.195</td>\n",
       "      <td>0.306</td>\n",
       "    </tr>\n",
       "  </tbody>\n",
       "</table>\n",
       "<p>886 rows × 9 columns</p>\n",
       "</div>"
      ],
      "text/plain": [
       "     acousticness  danceability  energy  instrumentalness  liveness  loudness  \\\n",
       "0         0.01830         0.612   0.921          0.000000    0.0576    -2.882   \n",
       "1         0.87100         0.401   0.189          0.000000    0.0968   -11.189   \n",
       "2         0.06070         0.699   0.502          0.033700    0.3170   -12.526   \n",
       "3         0.00574         0.579   0.508          0.000494    0.0575    -9.484   \n",
       "4         0.33600         0.390   0.502          0.000138    0.0713   -12.277   \n",
       "..            ...           ...     ...               ...       ...       ...   \n",
       "881       0.10300         0.727   0.974          0.000532    0.1740    -2.261   \n",
       "882       0.72800         0.500   0.185          0.000746    0.2730   -20.242   \n",
       "883       0.32800         0.701   0.425          0.130000    0.1000   -10.965   \n",
       "884       0.75800         0.276   0.405          0.000000    0.7060    -7.296   \n",
       "885       0.35300         0.525   0.284          0.099700    0.1270   -15.206   \n",
       "\n",
       "     speechiness    tempo  valence  \n",
       "0         0.0850  139.988    0.446  \n",
       "1         0.0287   94.509    0.357  \n",
       "2         0.0278  105.267    0.676  \n",
       "3         0.0270  147.125    0.609  \n",
       "4         0.1780   97.871    0.289  \n",
       "..           ...      ...      ...  \n",
       "881       0.0664   79.526    0.965  \n",
       "882       0.0535  121.002    0.293  \n",
       "883       0.3750  135.128    0.562  \n",
       "884       0.0329   76.180    0.335  \n",
       "885       0.0472  114.195    0.306  \n",
       "\n",
       "[886 rows x 9 columns]"
      ]
     },
     "execution_count": 76,
     "metadata": {},
     "output_type": "execute_result"
    }
   ],
   "source": [
    "df_X = df.drop(columns=['name', 'artist', 'track_URI', 'playlist'])\n",
    "df_X"
   ]
  },
  {
   "cell_type": "markdown",
   "metadata": {},
   "source": [
    "Padronização dos dados"
   ]
  },
  {
   "cell_type": "code",
   "execution_count": 77,
   "metadata": {},
   "outputs": [],
   "source": [
    "scaler = StandardScaler()\n",
    "X_std = scaler.fit_transform(df_X)"
   ]
  },
  {
   "cell_type": "code",
   "execution_count": 39,
   "metadata": {},
   "outputs": [
    {
     "data": {
      "text/html": [
       "<style>#sk-container-id-1 {color: black;background-color: white;}#sk-container-id-1 pre{padding: 0;}#sk-container-id-1 div.sk-toggleable {background-color: white;}#sk-container-id-1 label.sk-toggleable__label {cursor: pointer;display: block;width: 100%;margin-bottom: 0;padding: 0.3em;box-sizing: border-box;text-align: center;}#sk-container-id-1 label.sk-toggleable__label-arrow:before {content: \"▸\";float: left;margin-right: 0.25em;color: #696969;}#sk-container-id-1 label.sk-toggleable__label-arrow:hover:before {color: black;}#sk-container-id-1 div.sk-estimator:hover label.sk-toggleable__label-arrow:before {color: black;}#sk-container-id-1 div.sk-toggleable__content {max-height: 0;max-width: 0;overflow: hidden;text-align: left;background-color: #f0f8ff;}#sk-container-id-1 div.sk-toggleable__content pre {margin: 0.2em;color: black;border-radius: 0.25em;background-color: #f0f8ff;}#sk-container-id-1 input.sk-toggleable__control:checked~div.sk-toggleable__content {max-height: 200px;max-width: 100%;overflow: auto;}#sk-container-id-1 input.sk-toggleable__control:checked~label.sk-toggleable__label-arrow:before {content: \"▾\";}#sk-container-id-1 div.sk-estimator input.sk-toggleable__control:checked~label.sk-toggleable__label {background-color: #d4ebff;}#sk-container-id-1 div.sk-label input.sk-toggleable__control:checked~label.sk-toggleable__label {background-color: #d4ebff;}#sk-container-id-1 input.sk-hidden--visually {border: 0;clip: rect(1px 1px 1px 1px);clip: rect(1px, 1px, 1px, 1px);height: 1px;margin: -1px;overflow: hidden;padding: 0;position: absolute;width: 1px;}#sk-container-id-1 div.sk-estimator {font-family: monospace;background-color: #f0f8ff;border: 1px dotted black;border-radius: 0.25em;box-sizing: border-box;margin-bottom: 0.5em;}#sk-container-id-1 div.sk-estimator:hover {background-color: #d4ebff;}#sk-container-id-1 div.sk-parallel-item::after {content: \"\";width: 100%;border-bottom: 1px solid gray;flex-grow: 1;}#sk-container-id-1 div.sk-label:hover label.sk-toggleable__label {background-color: #d4ebff;}#sk-container-id-1 div.sk-serial::before {content: \"\";position: absolute;border-left: 1px solid gray;box-sizing: border-box;top: 0;bottom: 0;left: 50%;z-index: 0;}#sk-container-id-1 div.sk-serial {display: flex;flex-direction: column;align-items: center;background-color: white;padding-right: 0.2em;padding-left: 0.2em;position: relative;}#sk-container-id-1 div.sk-item {position: relative;z-index: 1;}#sk-container-id-1 div.sk-parallel {display: flex;align-items: stretch;justify-content: center;background-color: white;position: relative;}#sk-container-id-1 div.sk-item::before, #sk-container-id-1 div.sk-parallel-item::before {content: \"\";position: absolute;border-left: 1px solid gray;box-sizing: border-box;top: 0;bottom: 0;left: 50%;z-index: -1;}#sk-container-id-1 div.sk-parallel-item {display: flex;flex-direction: column;z-index: 1;position: relative;background-color: white;}#sk-container-id-1 div.sk-parallel-item:first-child::after {align-self: flex-end;width: 50%;}#sk-container-id-1 div.sk-parallel-item:last-child::after {align-self: flex-start;width: 50%;}#sk-container-id-1 div.sk-parallel-item:only-child::after {width: 0;}#sk-container-id-1 div.sk-dashed-wrapped {border: 1px dashed gray;margin: 0 0.4em 0.5em 0.4em;box-sizing: border-box;padding-bottom: 0.4em;background-color: white;}#sk-container-id-1 div.sk-label label {font-family: monospace;font-weight: bold;display: inline-block;line-height: 1.2em;}#sk-container-id-1 div.sk-label-container {text-align: center;}#sk-container-id-1 div.sk-container {/* jupyter's `normalize.less` sets `[hidden] { display: none; }` but bootstrap.min.css set `[hidden] { display: none !important; }` so we also need the `!important` here to be able to override the default hidden behavior on the sphinx rendered scikit-learn.org. See: https://github.com/scikit-learn/scikit-learn/issues/21755 */display: inline-block !important;position: relative;}#sk-container-id-1 div.sk-text-repr-fallback {display: none;}</style><div id=\"sk-container-id-1\" class=\"sk-top-container\"><div class=\"sk-text-repr-fallback\"><pre>PCA()</pre><b>In a Jupyter environment, please rerun this cell to show the HTML representation or trust the notebook. <br />On GitHub, the HTML representation is unable to render, please try loading this page with nbviewer.org.</b></div><div class=\"sk-container\" hidden><div class=\"sk-item\"><div class=\"sk-estimator sk-toggleable\"><input class=\"sk-toggleable__control sk-hidden--visually\" id=\"sk-estimator-id-1\" type=\"checkbox\" checked><label for=\"sk-estimator-id-1\" class=\"sk-toggleable__label sk-toggleable__label-arrow\">PCA</label><div class=\"sk-toggleable__content\"><pre>PCA()</pre></div></div></div></div></div>"
      ],
      "text/plain": [
       "PCA()"
      ]
     },
     "execution_count": 39,
     "metadata": {},
     "output_type": "execute_result"
    }
   ],
   "source": [
    "pca = PCA()\n",
    "pca.fit(X_std)"
   ]
  },
  {
   "cell_type": "code",
   "execution_count": 78,
   "metadata": {},
   "outputs": [
    {
     "data": {
      "text/plain": [
       "array([0.28173366, 0.1560153 , 0.14153967, 0.11938157, 0.08692216,\n",
       "       0.07197593])"
      ]
     },
     "execution_count": 78,
     "metadata": {},
     "output_type": "execute_result"
    }
   ],
   "source": [
    "evr = pca.explained_variance_ratio_\n",
    "evr"
   ]
  },
  {
   "cell_type": "code",
   "execution_count": null,
   "metadata": {},
   "outputs": [],
   "source": [
    "fig = plt.figure()\n",
    "plt.plot(range(1, len(df_X.columns)+1), evr.cumsum(), marker='o', linestyle='--')\n",
    "plt.xlabel('Number of Components', fontsize=18)\n",
    "plt.ylabel('Cumulative Explained Variance',fontsize=18)"
   ]
  },
  {
   "cell_type": "code",
   "execution_count": 80,
   "metadata": {},
   "outputs": [
    {
     "name": "stdout",
     "output_type": "stream",
     "text": [
      "Number of components: 6\n"
     ]
    }
   ],
   "source": [
    "for i, exp_var in enumerate(evr.cumsum()):\n",
    "    if exp_var >= 0.8:\n",
    "        n_comps = i + 1\n",
    "        break\n",
    "print(\"Number of components:\", n_comps)"
   ]
  },
  {
   "cell_type": "code",
   "execution_count": 81,
   "metadata": {},
   "outputs": [],
   "source": [
    "pca = PCA(n_components=n_comps)\n",
    "pca.fit(X_std)\n",
    "scores_pca = pca.transform(X_std)"
   ]
  },
  {
   "cell_type": "markdown",
   "metadata": {},
   "source": [
    "## Usando o K-Means"
   ]
  },
  {
   "cell_type": "code",
   "execution_count": 82,
   "metadata": {},
   "outputs": [],
   "source": [
    "#pip install yellowbrick\n",
    "from yellowbrick.cluster import KElbowVisualizer"
   ]
  },
  {
   "cell_type": "markdown",
   "metadata": {},
   "source": [
    "Busca da melhor quantidade de grupos"
   ]
  },
  {
   "cell_type": "code",
   "execution_count": 83,
   "metadata": {},
   "outputs": [
    {
     "data": {
      "image/png": "[encoded data removed]",
      "text/plain": [
       "<Figure size 576x396 with 1 Axes>"
      ]
     },
     "metadata": {},
     "output_type": "display_data"
    },
    {
     "name": "stdout",
     "output_type": "stream",
     "text": [
      "Optimal number of clusters: 6\n"
     ]
    }
   ],
   "source": [
    "visualizer = KElbowVisualizer(KMeans(init='k-means++', random_state=42), k=(1,21), timings=False)\n",
    "visualizer.fit(scores_pca)\n",
    "visualizer.show()\n",
    "n_clusters = visualizer.elbow_value_\n",
    "print(\"Optimal number of clusters:\", n_clusters)"
   ]
  },
  {
   "cell_type": "code",
   "execution_count": 84,
   "metadata": {},
   "outputs": [
    {
     "data": {
      "text/html": [
       "<style>#sk-container-id-3 {color: black;background-color: white;}#sk-container-id-3 pre{padding: 0;}#sk-container-id-3 div.sk-toggleable {background-color: white;}#sk-container-id-3 label.sk-toggleable__label {cursor: pointer;display: block;width: 100%;margin-bottom: 0;padding: 0.3em;box-sizing: border-box;text-align: center;}#sk-container-id-3 label.sk-toggleable__label-arrow:before {content: \"▸\";float: left;margin-right: 0.25em;color: #696969;}#sk-container-id-3 label.sk-toggleable__label-arrow:hover:before {color: black;}#sk-container-id-3 div.sk-estimator:hover label.sk-toggleable__label-arrow:before {color: black;}#sk-container-id-3 div.sk-toggleable__content {max-height: 0;max-width: 0;overflow: hidden;text-align: left;background-color: #f0f8ff;}#sk-container-id-3 div.sk-toggleable__content pre {margin: 0.2em;color: black;border-radius: 0.25em;background-color: #f0f8ff;}#sk-container-id-3 input.sk-toggleable__control:checked~div.sk-toggleable__content {max-height: 200px;max-width: 100%;overflow: auto;}#sk-container-id-3 input.sk-toggleable__control:checked~label.sk-toggleable__label-arrow:before {content: \"▾\";}#sk-container-id-3 div.sk-estimator input.sk-toggleable__control:checked~label.sk-toggleable__label {background-color: #d4ebff;}#sk-container-id-3 div.sk-label input.sk-toggleable__control:checked~label.sk-toggleable__label {background-color: #d4ebff;}#sk-container-id-3 input.sk-hidden--visually {border: 0;clip: rect(1px 1px 1px 1px);clip: rect(1px, 1px, 1px, 1px);height: 1px;margin: -1px;overflow: hidden;padding: 0;position: absolute;width: 1px;}#sk-container-id-3 div.sk-estimator {font-family: monospace;background-color: #f0f8ff;border: 1px dotted black;border-radius: 0.25em;box-sizing: border-box;margin-bottom: 0.5em;}#sk-container-id-3 div.sk-estimator:hover {background-color: #d4ebff;}#sk-container-id-3 div.sk-parallel-item::after {content: \"\";width: 100%;border-bottom: 1px solid gray;flex-grow: 1;}#sk-container-id-3 div.sk-label:hover label.sk-toggleable__label {background-color: #d4ebff;}#sk-container-id-3 div.sk-serial::before {content: \"\";position: absolute;border-left: 1px solid gray;box-sizing: border-box;top: 0;bottom: 0;left: 50%;z-index: 0;}#sk-container-id-3 div.sk-serial {display: flex;flex-direction: column;align-items: center;background-color: white;padding-right: 0.2em;padding-left: 0.2em;position: relative;}#sk-container-id-3 div.sk-item {position: relative;z-index: 1;}#sk-container-id-3 div.sk-parallel {display: flex;align-items: stretch;justify-content: center;background-color: white;position: relative;}#sk-container-id-3 div.sk-item::before, #sk-container-id-3 div.sk-parallel-item::before {content: \"\";position: absolute;border-left: 1px solid gray;box-sizing: border-box;top: 0;bottom: 0;left: 50%;z-index: -1;}#sk-container-id-3 div.sk-parallel-item {display: flex;flex-direction: column;z-index: 1;position: relative;background-color: white;}#sk-container-id-3 div.sk-parallel-item:first-child::after {align-self: flex-end;width: 50%;}#sk-container-id-3 div.sk-parallel-item:last-child::after {align-self: flex-start;width: 50%;}#sk-container-id-3 div.sk-parallel-item:only-child::after {width: 0;}#sk-container-id-3 div.sk-dashed-wrapped {border: 1px dashed gray;margin: 0 0.4em 0.5em 0.4em;box-sizing: border-box;padding-bottom: 0.4em;background-color: white;}#sk-container-id-3 div.sk-label label {font-family: monospace;font-weight: bold;display: inline-block;line-height: 1.2em;}#sk-container-id-3 div.sk-label-container {text-align: center;}#sk-container-id-3 div.sk-container {/* jupyter's `normalize.less` sets `[hidden] { display: none; }` but bootstrap.min.css set `[hidden] { display: none !important; }` so we also need the `!important` here to be able to override the default hidden behavior on the sphinx rendered scikit-learn.org. See: https://github.com/scikit-learn/scikit-learn/issues/21755 */display: inline-block !important;position: relative;}#sk-container-id-3 div.sk-text-repr-fallback {display: none;}</style><div id=\"sk-container-id-3\" class=\"sk-top-container\"><div class=\"sk-text-repr-fallback\"><pre>KMeans(n_clusters=6, random_state=42)</pre><b>In a Jupyter environment, please rerun this cell to show the HTML representation or trust the notebook. <br />On GitHub, the HTML representation is unable to render, please try loading this page with nbviewer.org.</b></div><div class=\"sk-container\" hidden><div class=\"sk-item\"><div class=\"sk-estimator sk-toggleable\"><input class=\"sk-toggleable__control sk-hidden--visually\" id=\"sk-estimator-id-3\" type=\"checkbox\" checked><label for=\"sk-estimator-id-3\" class=\"sk-toggleable__label sk-toggleable__label-arrow\">KMeans</label><div class=\"sk-toggleable__content\"><pre>KMeans(n_clusters=6, random_state=42)</pre></div></div></div></div></div>"
      ],
      "text/plain": [
       "KMeans(n_clusters=6, random_state=42)"
      ]
     },
     "execution_count": 84,
     "metadata": {},
     "output_type": "execute_result"
    }
   ],
   "source": [
    "kmeans_pca = KMeans(n_clusters=n_clusters, init='k-means++', random_state=42)\n",
    "kmeans_pca.fit(scores_pca)"
   ]
  },
  {
   "cell_type": "code",
   "execution_count": 85,
   "metadata": {},
   "outputs": [
    {
     "data": {
      "text/plain": [
       "array([2, 1, 0, 2, 1, 1, 0, 2, 2, 1, 2, 2, 1, 2, 0, 2, 2, 2, 2, 2, 5, 5,\n",
       "       1, 0, 2, 1, 2, 2, 1, 4, 1, 1, 0, 1, 0, 0, 2, 2, 1, 2, 1, 2, 1, 2,\n",
       "       1, 0, 0, 0, 3, 0, 2, 2, 2, 0, 0, 0, 0, 0, 2, 2, 0, 1, 1, 2, 0, 0,\n",
       "       4, 0, 2, 2, 0, 2, 2, 0, 0, 2, 0, 5, 4, 0, 4, 2, 2, 2, 2, 2, 1, 0,\n",
       "       0, 0, 0, 5, 5, 2, 1, 0, 2, 0, 2, 2, 5, 0, 0, 2, 4, 0, 0, 0, 0, 0,\n",
       "       0, 0, 1, 3, 0, 0, 0, 0, 1, 2, 0, 2, 0, 2, 0, 1, 2, 2, 0, 2, 0, 0,\n",
       "       0, 0, 2, 5, 5, 5, 2, 2, 0, 1, 0, 2, 2, 1, 0, 0, 3, 4, 2, 0, 2, 2,\n",
       "       2, 2, 0, 2, 1, 2, 2, 0, 2, 5, 3, 2, 0, 0, 0, 3, 1, 0, 3, 2, 2, 2,\n",
       "       2, 3, 0, 2, 0, 0, 2, 0, 2, 0, 2, 0, 1, 0, 0, 1, 1, 5, 0, 3, 3, 3,\n",
       "       1, 2, 0, 1, 2, 1, 2, 2, 2, 2, 2, 2, 2, 2, 2, 2, 5, 2, 2, 2, 2, 0,\n",
       "       0, 2, 2, 0, 1, 1, 2, 2, 0, 2, 0, 1, 0, 0, 5, 0, 0, 1, 0, 0, 5, 2,\n",
       "       0, 0, 0, 1, 1, 0, 3, 1, 1, 1, 3, 0, 2, 3, 1, 2, 1, 0, 2, 2, 2, 3,\n",
       "       2, 0, 2, 2, 2, 2, 2, 1, 2, 2, 2, 3, 2, 2, 1, 2, 4, 2, 0, 3, 0, 1,\n",
       "       0, 0, 1, 0, 5, 5, 0, 3, 5, 0, 2, 1, 0, 3, 4, 3, 0, 4, 0, 1, 3, 4,\n",
       "       1, 3, 1, 2, 4, 4, 4, 4, 0, 0, 1, 1, 3, 1, 3, 0, 3, 3, 0, 2, 0, 3,\n",
       "       5, 2, 0, 3, 0, 0, 2, 2, 2, 3, 0, 3, 0, 0, 0, 2, 0, 2, 0, 0, 2, 0,\n",
       "       2, 1, 0, 1, 3, 3, 1, 5, 3, 0, 3, 0, 5, 0, 1, 1, 0, 5, 1, 1, 0, 0,\n",
       "       2, 2, 3, 2, 3, 3, 3, 0, 3, 3, 1, 0, 3, 3, 2, 1, 2, 1, 3, 3, 3, 3,\n",
       "       3, 3, 3, 3, 3, 3, 3, 3, 1, 2, 0, 0, 1, 0, 0, 1, 2, 2, 0, 2, 2, 0,\n",
       "       2, 0, 1, 2, 2, 0, 0, 1, 1, 1, 1, 2, 5, 2, 2, 2, 5, 3, 0, 1, 0, 0,\n",
       "       1, 2, 1, 2, 0, 1, 1, 2, 1, 2, 0, 1, 0, 1, 2, 2, 0, 1, 0, 0, 1, 2,\n",
       "       5, 1, 1, 1, 0, 1, 2, 4, 1, 1, 1, 2, 2, 0, 2, 0, 3, 2, 0, 5, 0, 3,\n",
       "       0, 0, 0, 2, 0, 0, 0, 1, 0, 0, 2, 0, 0, 5, 0, 0, 5, 0, 1, 0, 2, 5,\n",
       "       0, 3, 3, 0, 0, 0, 0, 3, 0, 2, 5, 0, 0, 0, 0, 2, 5, 2, 2, 0, 2, 0,\n",
       "       1, 2, 1, 2, 0, 1, 2, 1, 0, 3, 3, 2, 2, 1, 0, 1, 2, 1, 2, 5, 5, 1,\n",
       "       1, 2, 0, 2, 0, 0, 0, 1, 0, 0, 0, 0, 3, 0, 1, 4, 0, 3, 4, 0, 1, 0,\n",
       "       2, 0, 5, 2, 1, 1, 2, 1, 0, 2, 0, 1, 5, 2, 0, 0, 2, 0, 2, 2, 2, 2,\n",
       "       1, 1, 2, 1, 2, 0, 5, 5, 0, 5, 0, 0, 0, 0, 2, 1, 3, 2, 5, 0, 1, 1,\n",
       "       1, 1, 1, 2, 0, 2, 1, 1, 2, 2, 5, 0, 1, 1, 0, 1, 1, 2, 0, 5, 2, 1,\n",
       "       1, 5, 0, 1, 1, 1, 3, 3, 3, 3, 1, 0, 2, 2, 2, 1, 5, 0, 2, 2, 0, 0,\n",
       "       2, 2, 3, 0, 1, 5, 5, 1, 1, 1, 5, 0, 3, 2, 0, 1, 1, 1, 2, 0, 2, 1,\n",
       "       2, 2, 0, 2, 2, 1, 2, 2, 0, 1, 5, 1, 2, 2, 2, 0, 2, 0, 2, 2, 2, 2,\n",
       "       0, 1, 3, 3, 0, 3, 1, 0, 3, 0, 5, 3, 2, 3, 3, 5, 0, 1, 3, 1, 1, 1,\n",
       "       2, 0, 3, 3, 2, 1, 5, 3, 0, 0, 3, 1, 1, 2, 2, 0, 3, 3, 3, 0, 5, 0,\n",
       "       3, 4, 2, 4, 3, 3, 3, 3, 2, 3, 3, 3, 3, 0, 0, 0, 5, 2, 1, 3, 2, 0,\n",
       "       0, 2, 1, 1, 0, 2, 0, 2, 2, 2, 1, 0, 2, 1, 0, 1, 5, 2, 1, 1, 2, 0,\n",
       "       1, 0, 0, 0, 0, 5, 5, 0, 3, 5, 0, 5, 5, 2, 2, 0, 3, 0, 3, 0, 3, 0,\n",
       "       3, 1, 2, 2, 3, 2, 3, 3, 3, 0, 3, 1, 0, 1, 0, 4, 2, 1, 1, 2, 1, 0,\n",
       "       2, 5, 5, 0, 1, 1, 1, 0, 2, 1, 2, 2, 1, 0, 1, 1, 1, 0, 0, 1, 2, 2,\n",
       "       0, 2, 5, 1, 0, 0, 2, 5, 1, 2, 2, 3, 0, 3, 2, 2, 2, 0, 2, 2, 2, 1,\n",
       "       0, 0, 1, 3, 5, 1])"
      ]
     },
     "execution_count": 85,
     "metadata": {},
     "output_type": "execute_result"
    }
   ],
   "source": [
    "kmeans_pca.labels_"
   ]
  },
  {
   "cell_type": "markdown",
   "metadata": {},
   "source": [
    "Juntando as features e componentes principais no mesmo DataFrame"
   ]
  },
  {
   "cell_type": "code",
   "execution_count": 86,
   "metadata": {},
   "outputs": [],
   "source": [
    "df_seg_pca_kmeans = pd.concat([df_X.reset_index(drop=True), pd.DataFrame(scores_pca)], axis=1)\n",
    "df_seg_pca_kmeans.columns.values[(-1*n_comps):] = [\"Component \" + str(i+1) for i in range(n_comps)]\n",
    "df_seg_pca_kmeans['Cluster'] = kmeans_pca.labels_"
   ]
  },
  {
   "cell_type": "code",
   "execution_count": 87,
   "metadata": {},
   "outputs": [
    {
     "data": {
      "text/html": [
       "<div>\n",
       "<style scoped>\n",
       "    .dataframe tbody tr th:only-of-type {\n",
       "        vertical-align: middle;\n",
       "    }\n",
       "\n",
       "    .dataframe tbody tr th {\n",
       "        vertical-align: top;\n",
       "    }\n",
       "\n",
       "    .dataframe thead th {\n",
       "        text-align: right;\n",
       "    }\n",
       "</style>\n",
       "<table border=\"1\" class=\"dataframe\">\n",
       "  <thead>\n",
       "    <tr style=\"text-align: right;\">\n",
       "      <th></th>\n",
       "      <th>acousticness</th>\n",
       "      <th>danceability</th>\n",
       "      <th>energy</th>\n",
       "      <th>instrumentalness</th>\n",
       "      <th>liveness</th>\n",
       "      <th>loudness</th>\n",
       "      <th>speechiness</th>\n",
       "      <th>tempo</th>\n",
       "      <th>valence</th>\n",
       "      <th>Component 1</th>\n",
       "      <th>Component 2</th>\n",
       "      <th>Component 3</th>\n",
       "      <th>Component 4</th>\n",
       "      <th>Component 5</th>\n",
       "      <th>Component 6</th>\n",
       "      <th>Cluster</th>\n",
       "    </tr>\n",
       "  </thead>\n",
       "  <tbody>\n",
       "    <tr>\n",
       "      <th>0</th>\n",
       "      <td>0.01830</td>\n",
       "      <td>0.612</td>\n",
       "      <td>0.921</td>\n",
       "      <td>0.000000</td>\n",
       "      <td>0.0576</td>\n",
       "      <td>-2.882</td>\n",
       "      <td>0.0850</td>\n",
       "      <td>139.988</td>\n",
       "      <td>0.446</td>\n",
       "      <td>-1.787543</td>\n",
       "      <td>-0.568162</td>\n",
       "      <td>-0.845384</td>\n",
       "      <td>-0.371210</td>\n",
       "      <td>-0.411376</td>\n",
       "      <td>0.500737</td>\n",
       "      <td>2</td>\n",
       "    </tr>\n",
       "    <tr>\n",
       "      <th>1</th>\n",
       "      <td>0.87100</td>\n",
       "      <td>0.401</td>\n",
       "      <td>0.189</td>\n",
       "      <td>0.000000</td>\n",
       "      <td>0.0968</td>\n",
       "      <td>-11.189</td>\n",
       "      <td>0.0287</td>\n",
       "      <td>94.509</td>\n",
       "      <td>0.357</td>\n",
       "      <td>3.490200</td>\n",
       "      <td>-0.540932</td>\n",
       "      <td>0.247246</td>\n",
       "      <td>-0.802078</td>\n",
       "      <td>-0.341030</td>\n",
       "      <td>-0.477283</td>\n",
       "      <td>1</td>\n",
       "    </tr>\n",
       "    <tr>\n",
       "      <th>2</th>\n",
       "      <td>0.06070</td>\n",
       "      <td>0.699</td>\n",
       "      <td>0.502</td>\n",
       "      <td>0.033700</td>\n",
       "      <td>0.3170</td>\n",
       "      <td>-12.526</td>\n",
       "      <td>0.0278</td>\n",
       "      <td>105.267</td>\n",
       "      <td>0.676</td>\n",
       "      <td>0.882622</td>\n",
       "      <td>0.704489</td>\n",
       "      <td>-0.239999</td>\n",
       "      <td>0.184478</td>\n",
       "      <td>0.608706</td>\n",
       "      <td>-0.905098</td>\n",
       "      <td>0</td>\n",
       "    </tr>\n",
       "    <tr>\n",
       "      <th>3</th>\n",
       "      <td>0.00574</td>\n",
       "      <td>0.579</td>\n",
       "      <td>0.508</td>\n",
       "      <td>0.000494</td>\n",
       "      <td>0.0575</td>\n",
       "      <td>-9.484</td>\n",
       "      <td>0.0270</td>\n",
       "      <td>147.125</td>\n",
       "      <td>0.609</td>\n",
       "      <td>0.254686</td>\n",
       "      <td>-0.227702</td>\n",
       "      <td>-1.085719</td>\n",
       "      <td>0.250667</td>\n",
       "      <td>-0.958467</td>\n",
       "      <td>-0.417157</td>\n",
       "      <td>2</td>\n",
       "    </tr>\n",
       "    <tr>\n",
       "      <th>4</th>\n",
       "      <td>0.33600</td>\n",
       "      <td>0.390</td>\n",
       "      <td>0.502</td>\n",
       "      <td>0.000138</td>\n",
       "      <td>0.0713</td>\n",
       "      <td>-12.277</td>\n",
       "      <td>0.1780</td>\n",
       "      <td>97.871</td>\n",
       "      <td>0.289</td>\n",
       "      <td>1.855047</td>\n",
       "      <td>-0.482352</td>\n",
       "      <td>0.123950</td>\n",
       "      <td>-0.711112</td>\n",
       "      <td>-0.305148</td>\n",
       "      <td>1.223589</td>\n",
       "      <td>1</td>\n",
       "    </tr>\n",
       "    <tr>\n",
       "      <th>...</th>\n",
       "      <td>...</td>\n",
       "      <td>...</td>\n",
       "      <td>...</td>\n",
       "      <td>...</td>\n",
       "      <td>...</td>\n",
       "      <td>...</td>\n",
       "      <td>...</td>\n",
       "      <td>...</td>\n",
       "      <td>...</td>\n",
       "      <td>...</td>\n",
       "      <td>...</td>\n",
       "      <td>...</td>\n",
       "      <td>...</td>\n",
       "      <td>...</td>\n",
       "      <td>...</td>\n",
       "      <td>...</td>\n",
       "    </tr>\n",
       "    <tr>\n",
       "      <th>881</th>\n",
       "      <td>0.10300</td>\n",
       "      <td>0.727</td>\n",
       "      <td>0.974</td>\n",
       "      <td>0.000532</td>\n",
       "      <td>0.1740</td>\n",
       "      <td>-2.261</td>\n",
       "      <td>0.0664</td>\n",
       "      <td>79.526</td>\n",
       "      <td>0.965</td>\n",
       "      <td>-2.273661</td>\n",
       "      <td>1.265569</td>\n",
       "      <td>-0.818876</td>\n",
       "      <td>-0.776380</td>\n",
       "      <td>1.401835</td>\n",
       "      <td>-0.912122</td>\n",
       "      <td>0</td>\n",
       "    </tr>\n",
       "    <tr>\n",
       "      <th>882</th>\n",
       "      <td>0.72800</td>\n",
       "      <td>0.500</td>\n",
       "      <td>0.185</td>\n",
       "      <td>0.000746</td>\n",
       "      <td>0.2730</td>\n",
       "      <td>-20.242</td>\n",
       "      <td>0.0535</td>\n",
       "      <td>121.002</td>\n",
       "      <td>0.293</td>\n",
       "      <td>4.510793</td>\n",
       "      <td>-0.180786</td>\n",
       "      <td>0.844726</td>\n",
       "      <td>0.354861</td>\n",
       "      <td>-0.841534</td>\n",
       "      <td>-0.547741</td>\n",
       "      <td>1</td>\n",
       "    </tr>\n",
       "    <tr>\n",
       "      <th>883</th>\n",
       "      <td>0.32800</td>\n",
       "      <td>0.701</td>\n",
       "      <td>0.425</td>\n",
       "      <td>0.130000</td>\n",
       "      <td>0.1000</td>\n",
       "      <td>-10.965</td>\n",
       "      <td>0.3750</td>\n",
       "      <td>135.128</td>\n",
       "      <td>0.562</td>\n",
       "      <td>1.161528</td>\n",
       "      <td>1.852278</td>\n",
       "      <td>0.224013</td>\n",
       "      <td>1.402591</td>\n",
       "      <td>-0.603626</td>\n",
       "      <td>2.000801</td>\n",
       "      <td>3</td>\n",
       "    </tr>\n",
       "    <tr>\n",
       "      <th>884</th>\n",
       "      <td>0.75800</td>\n",
       "      <td>0.276</td>\n",
       "      <td>0.405</td>\n",
       "      <td>0.000000</td>\n",
       "      <td>0.7060</td>\n",
       "      <td>-7.296</td>\n",
       "      <td>0.0329</td>\n",
       "      <td>76.180</td>\n",
       "      <td>0.335</td>\n",
       "      <td>1.899366</td>\n",
       "      <td>-1.687241</td>\n",
       "      <td>2.680303</td>\n",
       "      <td>-0.664303</td>\n",
       "      <td>1.590713</td>\n",
       "      <td>-0.900693</td>\n",
       "      <td>5</td>\n",
       "    </tr>\n",
       "    <tr>\n",
       "      <th>885</th>\n",
       "      <td>0.35300</td>\n",
       "      <td>0.525</td>\n",
       "      <td>0.284</td>\n",
       "      <td>0.099700</td>\n",
       "      <td>0.1270</td>\n",
       "      <td>-15.206</td>\n",
       "      <td>0.0472</td>\n",
       "      <td>114.195</td>\n",
       "      <td>0.306</td>\n",
       "      <td>3.079249</td>\n",
       "      <td>-0.386406</td>\n",
       "      <td>-0.475127</td>\n",
       "      <td>0.261638</td>\n",
       "      <td>-0.109903</td>\n",
       "      <td>0.239716</td>\n",
       "      <td>1</td>\n",
       "    </tr>\n",
       "  </tbody>\n",
       "</table>\n",
       "<p>886 rows × 16 columns</p>\n",
       "</div>"
      ],
      "text/plain": [
       "     acousticness  danceability  energy  instrumentalness  liveness  loudness  \\\n",
       "0         0.01830         0.612   0.921          0.000000    0.0576    -2.882   \n",
       "1         0.87100         0.401   0.189          0.000000    0.0968   -11.189   \n",
       "2         0.06070         0.699   0.502          0.033700    0.3170   -12.526   \n",
       "3         0.00574         0.579   0.508          0.000494    0.0575    -9.484   \n",
       "4         0.33600         0.390   0.502          0.000138    0.0713   -12.277   \n",
       "..            ...           ...     ...               ...       ...       ...   \n",
       "881       0.10300         0.727   0.974          0.000532    0.1740    -2.261   \n",
       "882       0.72800         0.500   0.185          0.000746    0.2730   -20.242   \n",
       "883       0.32800         0.701   0.425          0.130000    0.1000   -10.965   \n",
       "884       0.75800         0.276   0.405          0.000000    0.7060    -7.296   \n",
       "885       0.35300         0.525   0.284          0.099700    0.1270   -15.206   \n",
       "\n",
       "     speechiness    tempo  valence  Component 1  Component 2  Component 3  \\\n",
       "0         0.0850  139.988    0.446    -1.787543    -0.568162    -0.845384   \n",
       "1         0.0287   94.509    0.357     3.490200    -0.540932     0.247246   \n",
       "2         0.0278  105.267    0.676     0.882622     0.704489    -0.239999   \n",
       "3         0.0270  147.125    0.609     0.254686    -0.227702    -1.085719   \n",
       "4         0.1780   97.871    0.289     1.855047    -0.482352     0.123950   \n",
       "..           ...      ...      ...          ...          ...          ...   \n",
       "881       0.0664   79.526    0.965    -2.273661     1.265569    -0.818876   \n",
       "882       0.0535  121.002    0.293     4.510793    -0.180786     0.844726   \n",
       "883       0.3750  135.128    0.562     1.161528     1.852278     0.224013   \n",
       "884       0.0329   76.180    0.335     1.899366    -1.687241     2.680303   \n",
       "885       0.0472  114.195    0.306     3.079249    -0.386406    -0.475127   \n",
       "\n",
       "     Component 4  Component 5  Component 6  Cluster  \n",
       "0      -0.371210    -0.411376     0.500737        2  \n",
       "1      -0.802078    -0.341030    -0.477283        1  \n",
       "2       0.184478     0.608706    -0.905098        0  \n",
       "3       0.250667    -0.958467    -0.417157        2  \n",
       "4      -0.711112    -0.305148     1.223589        1  \n",
       "..           ...          ...          ...      ...  \n",
       "881    -0.776380     1.401835    -0.912122        0  \n",
       "882     0.354861    -0.841534    -0.547741        1  \n",
       "883     1.402591    -0.603626     2.000801        3  \n",
       "884    -0.664303     1.590713    -0.900693        5  \n",
       "885     0.261638    -0.109903     0.239716        1  \n",
       "\n",
       "[886 rows x 16 columns]"
      ]
     },
     "execution_count": 87,
     "metadata": {},
     "output_type": "execute_result"
    }
   ],
   "source": [
    "df_seg_pca_kmeans"
   ]
  },
  {
   "cell_type": "code",
   "execution_count": 89,
   "metadata": {},
   "outputs": [
    {
     "name": "stderr",
     "output_type": "stream",
     "text": [
      "c:\\Users\\307145\\AppData\\Local\\Programs\\Python\\Python310\\lib\\site-packages\\seaborn\\_decorators.py:36: FutureWarning: Pass the following variables as keyword args: x, y. From version 0.12, the only valid positional argument will be `data`, and passing other arguments without an explicit keyword will result in an error or misinterpretation.\n",
      "  warnings.warn(\n"
     ]
    },
    {
     "data": {
      "text/plain": [
       "<AxesSubplot:xlabel='Component 1', ylabel='Component 2'>"
      ]
     },
     "execution_count": 89,
     "metadata": {},
     "output_type": "execute_result"
    },
    {
     "data": {
      "image/png": "[encoded data removed]",
      "text/plain": [
       "<Figure size 720x720 with 1 Axes>"
      ]
     },
     "metadata": {},
     "output_type": "display_data"
    }
   ],
   "source": [
    "x = df_seg_pca_kmeans['Component 1']\n",
    "y = df_seg_pca_kmeans['Component 2']\n",
    "\n",
    "plt.figure(figsize=(10,10))\n",
    "\n",
    "#palette = ['tab:blue', 'tab:orange', 'tab:green', 'tab:red', 'tab:purple', 'goldenrod', 'tab:cyan']\n",
    "palette = ['tab:blue', 'tab:orange', 'tab:green', 'tab:red', 'tab:purple', 'goldenrod']\n",
    "\n",
    "sns.scatterplot(x,y, hue=df_seg_pca_kmeans['Cluster'], palette=palette)"
   ]
  },
  {
   "cell_type": "code",
   "execution_count": 90,
   "metadata": {},
   "outputs": [
    {
     "data": {
      "text/html": [
       "<div>\n",
       "<style scoped>\n",
       "    .dataframe tbody tr th:only-of-type {\n",
       "        vertical-align: middle;\n",
       "    }\n",
       "\n",
       "    .dataframe tbody tr th {\n",
       "        vertical-align: top;\n",
       "    }\n",
       "\n",
       "    .dataframe thead th {\n",
       "        text-align: right;\n",
       "    }\n",
       "</style>\n",
       "<table border=\"1\" class=\"dataframe\">\n",
       "  <thead>\n",
       "    <tr style=\"text-align: right;\">\n",
       "      <th></th>\n",
       "      <th>name</th>\n",
       "      <th>artist</th>\n",
       "      <th>track_URI</th>\n",
       "      <th>acousticness</th>\n",
       "      <th>danceability</th>\n",
       "      <th>energy</th>\n",
       "      <th>instrumentalness</th>\n",
       "      <th>liveness</th>\n",
       "      <th>loudness</th>\n",
       "      <th>speechiness</th>\n",
       "      <th>tempo</th>\n",
       "      <th>valence</th>\n",
       "      <th>playlist</th>\n",
       "      <th>Cluster</th>\n",
       "    </tr>\n",
       "  </thead>\n",
       "  <tbody>\n",
       "    <tr>\n",
       "      <th>0</th>\n",
       "      <td>Ex's &amp; Oh's</td>\n",
       "      <td>Elle King</td>\n",
       "      <td>spotify:track:70eDxAyAraNTiD6lx2ZEnH</td>\n",
       "      <td>0.01830</td>\n",
       "      <td>0.612</td>\n",
       "      <td>0.921</td>\n",
       "      <td>0.000000</td>\n",
       "      <td>0.0576</td>\n",
       "      <td>-2.882</td>\n",
       "      <td>0.0850</td>\n",
       "      <td>139.988</td>\n",
       "      <td>0.446</td>\n",
       "      <td>Nova playlist 2</td>\n",
       "      <td>2</td>\n",
       "    </tr>\n",
       "    <tr>\n",
       "      <th>1</th>\n",
       "      <td>Yesterday - Remastered 2015</td>\n",
       "      <td>The Beatles</td>\n",
       "      <td>spotify:track:63uskN0xLezVg4281wzeQn</td>\n",
       "      <td>0.87100</td>\n",
       "      <td>0.401</td>\n",
       "      <td>0.189</td>\n",
       "      <td>0.000000</td>\n",
       "      <td>0.0968</td>\n",
       "      <td>-11.189</td>\n",
       "      <td>0.0287</td>\n",
       "      <td>94.509</td>\n",
       "      <td>0.357</td>\n",
       "      <td>Nova playlist 2</td>\n",
       "      <td>1</td>\n",
       "    </tr>\n",
       "    <tr>\n",
       "      <th>2</th>\n",
       "      <td>Cocaine</td>\n",
       "      <td>Eric Clapton</td>\n",
       "      <td>spotify:track:2udGjDmpK1dH9VGyw7nrei</td>\n",
       "      <td>0.06070</td>\n",
       "      <td>0.699</td>\n",
       "      <td>0.502</td>\n",
       "      <td>0.033700</td>\n",
       "      <td>0.3170</td>\n",
       "      <td>-12.526</td>\n",
       "      <td>0.0278</td>\n",
       "      <td>105.267</td>\n",
       "      <td>0.676</td>\n",
       "      <td>Nova playlist 2</td>\n",
       "      <td>0</td>\n",
       "    </tr>\n",
       "    <tr>\n",
       "      <th>3</th>\n",
       "      <td>Hotel California - 2013 Remaster</td>\n",
       "      <td>Eagles</td>\n",
       "      <td>spotify:track:40riOy7x9W7GXjyGp4pjAv</td>\n",
       "      <td>0.00574</td>\n",
       "      <td>0.579</td>\n",
       "      <td>0.508</td>\n",
       "      <td>0.000494</td>\n",
       "      <td>0.0575</td>\n",
       "      <td>-9.484</td>\n",
       "      <td>0.0270</td>\n",
       "      <td>147.125</td>\n",
       "      <td>0.609</td>\n",
       "      <td>Nova playlist 2</td>\n",
       "      <td>2</td>\n",
       "    </tr>\n",
       "    <tr>\n",
       "      <th>4</th>\n",
       "      <td>Strawberry Fields Forever - Remastered</td>\n",
       "      <td>The Beatles</td>\n",
       "      <td>spotify:track:5EuraV2jbqB15ihd3d2Hex</td>\n",
       "      <td>0.33600</td>\n",
       "      <td>0.390</td>\n",
       "      <td>0.502</td>\n",
       "      <td>0.000138</td>\n",
       "      <td>0.0713</td>\n",
       "      <td>-12.277</td>\n",
       "      <td>0.1780</td>\n",
       "      <td>97.871</td>\n",
       "      <td>0.289</td>\n",
       "      <td>Nova playlist 2</td>\n",
       "      <td>1</td>\n",
       "    </tr>\n",
       "    <tr>\n",
       "      <th>...</th>\n",
       "      <td>...</td>\n",
       "      <td>...</td>\n",
       "      <td>...</td>\n",
       "      <td>...</td>\n",
       "      <td>...</td>\n",
       "      <td>...</td>\n",
       "      <td>...</td>\n",
       "      <td>...</td>\n",
       "      <td>...</td>\n",
       "      <td>...</td>\n",
       "      <td>...</td>\n",
       "      <td>...</td>\n",
       "      <td>...</td>\n",
       "      <td>...</td>\n",
       "    </tr>\n",
       "    <tr>\n",
       "      <th>881</th>\n",
       "      <td>Hey Ya!</td>\n",
       "      <td>Outkast</td>\n",
       "      <td>spotify:track:2PpruBYCo4H7WOBJ7Q2EwM</td>\n",
       "      <td>0.10300</td>\n",
       "      <td>0.727</td>\n",
       "      <td>0.974</td>\n",
       "      <td>0.000532</td>\n",
       "      <td>0.1740</td>\n",
       "      <td>-2.261</td>\n",
       "      <td>0.0664</td>\n",
       "      <td>79.526</td>\n",
       "      <td>0.965</td>\n",
       "      <td>Nova playlist 2</td>\n",
       "      <td>0</td>\n",
       "    </tr>\n",
       "    <tr>\n",
       "      <th>882</th>\n",
       "      <td>Wish You Were Here - 2011 Remaster</td>\n",
       "      <td>Pink Floyd</td>\n",
       "      <td>spotify:track:7aE5WXu5sFeNRh3Z05wwu4</td>\n",
       "      <td>0.72800</td>\n",
       "      <td>0.500</td>\n",
       "      <td>0.185</td>\n",
       "      <td>0.000746</td>\n",
       "      <td>0.2730</td>\n",
       "      <td>-20.242</td>\n",
       "      <td>0.0535</td>\n",
       "      <td>121.002</td>\n",
       "      <td>0.293</td>\n",
       "      <td>Nova playlist 2</td>\n",
       "      <td>1</td>\n",
       "    </tr>\n",
       "    <tr>\n",
       "      <th>883</th>\n",
       "      <td>bad guy</td>\n",
       "      <td>Billie Eilish</td>\n",
       "      <td>spotify:track:2Fxmhks0bxGSBdJ92vM42m</td>\n",
       "      <td>0.32800</td>\n",
       "      <td>0.701</td>\n",
       "      <td>0.425</td>\n",
       "      <td>0.130000</td>\n",
       "      <td>0.1000</td>\n",
       "      <td>-10.965</td>\n",
       "      <td>0.3750</td>\n",
       "      <td>135.128</td>\n",
       "      <td>0.562</td>\n",
       "      <td>Nova playlist 2</td>\n",
       "      <td>3</td>\n",
       "    </tr>\n",
       "    <tr>\n",
       "      <th>884</th>\n",
       "      <td>La Vie En Rose</td>\n",
       "      <td>Lady Gaga</td>\n",
       "      <td>spotify:track:3tv3f29zjhzL3kcvQE8tGl</td>\n",
       "      <td>0.75800</td>\n",
       "      <td>0.276</td>\n",
       "      <td>0.405</td>\n",
       "      <td>0.000000</td>\n",
       "      <td>0.7060</td>\n",
       "      <td>-7.296</td>\n",
       "      <td>0.0329</td>\n",
       "      <td>76.180</td>\n",
       "      <td>0.335</td>\n",
       "      <td>Nova playlist 2</td>\n",
       "      <td>5</td>\n",
       "    </tr>\n",
       "    <tr>\n",
       "      <th>885</th>\n",
       "      <td>Pra não dizer que não falei das flores</td>\n",
       "      <td>Geraldo Vandre</td>\n",
       "      <td>spotify:track:34xP8fbC6O8TvKFWNcZihk</td>\n",
       "      <td>0.35300</td>\n",
       "      <td>0.525</td>\n",
       "      <td>0.284</td>\n",
       "      <td>0.099700</td>\n",
       "      <td>0.1270</td>\n",
       "      <td>-15.206</td>\n",
       "      <td>0.0472</td>\n",
       "      <td>114.195</td>\n",
       "      <td>0.306</td>\n",
       "      <td>Nova playlist 2</td>\n",
       "      <td>1</td>\n",
       "    </tr>\n",
       "  </tbody>\n",
       "</table>\n",
       "<p>886 rows × 14 columns</p>\n",
       "</div>"
      ],
      "text/plain": [
       "                                       name          artist  \\\n",
       "0                               Ex's & Oh's       Elle King   \n",
       "1               Yesterday - Remastered 2015     The Beatles   \n",
       "2                                   Cocaine    Eric Clapton   \n",
       "3          Hotel California - 2013 Remaster          Eagles   \n",
       "4    Strawberry Fields Forever - Remastered     The Beatles   \n",
       "..                                      ...             ...   \n",
       "881                                 Hey Ya!         Outkast   \n",
       "882      Wish You Were Here - 2011 Remaster      Pink Floyd   \n",
       "883                                 bad guy   Billie Eilish   \n",
       "884                          La Vie En Rose       Lady Gaga   \n",
       "885  Pra não dizer que não falei das flores  Geraldo Vandre   \n",
       "\n",
       "                                track_URI  acousticness  danceability  energy  \\\n",
       "0    spotify:track:70eDxAyAraNTiD6lx2ZEnH       0.01830         0.612   0.921   \n",
       "1    spotify:track:63uskN0xLezVg4281wzeQn       0.87100         0.401   0.189   \n",
       "2    spotify:track:2udGjDmpK1dH9VGyw7nrei       0.06070         0.699   0.502   \n",
       "3    spotify:track:40riOy7x9W7GXjyGp4pjAv       0.00574         0.579   0.508   \n",
       "4    spotify:track:5EuraV2jbqB15ihd3d2Hex       0.33600         0.390   0.502   \n",
       "..                                    ...           ...           ...     ...   \n",
       "881  spotify:track:2PpruBYCo4H7WOBJ7Q2EwM       0.10300         0.727   0.974   \n",
       "882  spotify:track:7aE5WXu5sFeNRh3Z05wwu4       0.72800         0.500   0.185   \n",
       "883  spotify:track:2Fxmhks0bxGSBdJ92vM42m       0.32800         0.701   0.425   \n",
       "884  spotify:track:3tv3f29zjhzL3kcvQE8tGl       0.75800         0.276   0.405   \n",
       "885  spotify:track:34xP8fbC6O8TvKFWNcZihk       0.35300         0.525   0.284   \n",
       "\n",
       "     instrumentalness  liveness  loudness  speechiness    tempo  valence  \\\n",
       "0            0.000000    0.0576    -2.882       0.0850  139.988    0.446   \n",
       "1            0.000000    0.0968   -11.189       0.0287   94.509    0.357   \n",
       "2            0.033700    0.3170   -12.526       0.0278  105.267    0.676   \n",
       "3            0.000494    0.0575    -9.484       0.0270  147.125    0.609   \n",
       "4            0.000138    0.0713   -12.277       0.1780   97.871    0.289   \n",
       "..                ...       ...       ...          ...      ...      ...   \n",
       "881          0.000532    0.1740    -2.261       0.0664   79.526    0.965   \n",
       "882          0.000746    0.2730   -20.242       0.0535  121.002    0.293   \n",
       "883          0.130000    0.1000   -10.965       0.3750  135.128    0.562   \n",
       "884          0.000000    0.7060    -7.296       0.0329   76.180    0.335   \n",
       "885          0.099700    0.1270   -15.206       0.0472  114.195    0.306   \n",
       "\n",
       "            playlist  Cluster  \n",
       "0    Nova playlist 2        2  \n",
       "1    Nova playlist 2        1  \n",
       "2    Nova playlist 2        0  \n",
       "3    Nova playlist 2        2  \n",
       "4    Nova playlist 2        1  \n",
       "..               ...      ...  \n",
       "881  Nova playlist 2        0  \n",
       "882  Nova playlist 2        1  \n",
       "883  Nova playlist 2        3  \n",
       "884  Nova playlist 2        5  \n",
       "885  Nova playlist 2        1  \n",
       "\n",
       "[886 rows x 14 columns]"
      ]
     },
     "execution_count": 90,
     "metadata": {},
     "output_type": "execute_result"
    }
   ],
   "source": [
    "df['Cluster'] = kmeans_pca.labels_\n",
    "df"
   ]
  },
  {
   "cell_type": "code",
   "execution_count": 91,
   "metadata": {},
   "outputs": [
    {
     "data": {
      "text/html": [
       "<div>\n",
       "<style scoped>\n",
       "    .dataframe tbody tr th:only-of-type {\n",
       "        vertical-align: middle;\n",
       "    }\n",
       "\n",
       "    .dataframe tbody tr th {\n",
       "        vertical-align: top;\n",
       "    }\n",
       "\n",
       "    .dataframe thead th {\n",
       "        text-align: right;\n",
       "    }\n",
       "</style>\n",
       "<table border=\"1\" class=\"dataframe\">\n",
       "  <thead>\n",
       "    <tr style=\"text-align: right;\">\n",
       "      <th></th>\n",
       "      <th>name</th>\n",
       "      <th>artist</th>\n",
       "      <th>track_URI</th>\n",
       "      <th>acousticness</th>\n",
       "      <th>danceability</th>\n",
       "      <th>energy</th>\n",
       "      <th>instrumentalness</th>\n",
       "      <th>liveness</th>\n",
       "      <th>loudness</th>\n",
       "      <th>speechiness</th>\n",
       "      <th>tempo</th>\n",
       "      <th>valence</th>\n",
       "      <th>playlist</th>\n",
       "      <th>Cluster</th>\n",
       "    </tr>\n",
       "  </thead>\n",
       "  <tbody>\n",
       "    <tr>\n",
       "      <th>1</th>\n",
       "      <td>Yesterday - Remastered 2015</td>\n",
       "      <td>The Beatles</td>\n",
       "      <td>spotify:track:63uskN0xLezVg4281wzeQn</td>\n",
       "      <td>0.871</td>\n",
       "      <td>0.401</td>\n",
       "      <td>0.189</td>\n",
       "      <td>0.000000</td>\n",
       "      <td>0.0968</td>\n",
       "      <td>-11.189</td>\n",
       "      <td>0.0287</td>\n",
       "      <td>94.509</td>\n",
       "      <td>0.357</td>\n",
       "      <td>Nova playlist 2</td>\n",
       "      <td>1</td>\n",
       "    </tr>\n",
       "    <tr>\n",
       "      <th>4</th>\n",
       "      <td>Strawberry Fields Forever - Remastered</td>\n",
       "      <td>The Beatles</td>\n",
       "      <td>spotify:track:5EuraV2jbqB15ihd3d2Hex</td>\n",
       "      <td>0.336</td>\n",
       "      <td>0.390</td>\n",
       "      <td>0.502</td>\n",
       "      <td>0.000138</td>\n",
       "      <td>0.0713</td>\n",
       "      <td>-12.277</td>\n",
       "      <td>0.1780</td>\n",
       "      <td>97.871</td>\n",
       "      <td>0.289</td>\n",
       "      <td>Nova playlist 2</td>\n",
       "      <td>1</td>\n",
       "    </tr>\n",
       "    <tr>\n",
       "      <th>5</th>\n",
       "      <td>Like a Rolling Stone</td>\n",
       "      <td>Bob Dylan</td>\n",
       "      <td>spotify:track:3AhXZa8sUQht0UEdBJgpGc</td>\n",
       "      <td>0.731</td>\n",
       "      <td>0.482</td>\n",
       "      <td>0.721</td>\n",
       "      <td>0.000000</td>\n",
       "      <td>0.1890</td>\n",
       "      <td>-6.839</td>\n",
       "      <td>0.0321</td>\n",
       "      <td>95.263</td>\n",
       "      <td>0.557</td>\n",
       "      <td>Nova playlist 2</td>\n",
       "      <td>1</td>\n",
       "    </tr>\n",
       "    <tr>\n",
       "      <th>9</th>\n",
       "      <td>Dream On</td>\n",
       "      <td>Aerosmith</td>\n",
       "      <td>spotify:track:5MxNLUsfh7uzROypsoO5qe</td>\n",
       "      <td>0.388</td>\n",
       "      <td>0.307</td>\n",
       "      <td>0.433</td>\n",
       "      <td>0.000091</td>\n",
       "      <td>0.3320</td>\n",
       "      <td>-10.057</td>\n",
       "      <td>0.0290</td>\n",
       "      <td>160.900</td>\n",
       "      <td>0.224</td>\n",
       "      <td>Nova playlist 2</td>\n",
       "      <td>1</td>\n",
       "    </tr>\n",
       "    <tr>\n",
       "      <th>12</th>\n",
       "      <td>Do I Wanna Know?</td>\n",
       "      <td>Arctic Monkeys</td>\n",
       "      <td>spotify:track:2UzMpPKPhbcC8RbsmuURAZ</td>\n",
       "      <td>0.174</td>\n",
       "      <td>0.550</td>\n",
       "      <td>0.532</td>\n",
       "      <td>0.000347</td>\n",
       "      <td>0.2180</td>\n",
       "      <td>-7.591</td>\n",
       "      <td>0.0320</td>\n",
       "      <td>85.032</td>\n",
       "      <td>0.410</td>\n",
       "      <td>Nova playlist 2</td>\n",
       "      <td>1</td>\n",
       "    </tr>\n",
       "    <tr>\n",
       "      <th>...</th>\n",
       "      <td>...</td>\n",
       "      <td>...</td>\n",
       "      <td>...</td>\n",
       "      <td>...</td>\n",
       "      <td>...</td>\n",
       "      <td>...</td>\n",
       "      <td>...</td>\n",
       "      <td>...</td>\n",
       "      <td>...</td>\n",
       "      <td>...</td>\n",
       "      <td>...</td>\n",
       "      <td>...</td>\n",
       "      <td>...</td>\n",
       "      <td>...</td>\n",
       "    </tr>\n",
       "    <tr>\n",
       "      <th>861</th>\n",
       "      <td>Convite para Nascer de Novo</td>\n",
       "      <td>Erasmo Carlos</td>\n",
       "      <td>spotify:track:0zvvjjj3MkBwhWWxrOfflu</td>\n",
       "      <td>0.256</td>\n",
       "      <td>0.703</td>\n",
       "      <td>0.361</td>\n",
       "      <td>0.000053</td>\n",
       "      <td>0.0962</td>\n",
       "      <td>-14.385</td>\n",
       "      <td>0.0371</td>\n",
       "      <td>138.171</td>\n",
       "      <td>0.368</td>\n",
       "      <td>Nova playlist 2</td>\n",
       "      <td>1</td>\n",
       "    </tr>\n",
       "    <tr>\n",
       "      <th>866</th>\n",
       "      <td>Poema</td>\n",
       "      <td>Ney Matogrosso</td>\n",
       "      <td>spotify:track:7qvL8BbYdxvhOinapMiEeF</td>\n",
       "      <td>0.728</td>\n",
       "      <td>0.606</td>\n",
       "      <td>0.563</td>\n",
       "      <td>0.000362</td>\n",
       "      <td>0.3350</td>\n",
       "      <td>-6.604</td>\n",
       "      <td>0.0307</td>\n",
       "      <td>124.181</td>\n",
       "      <td>0.464</td>\n",
       "      <td>Nova playlist 2</td>\n",
       "      <td>1</td>\n",
       "    </tr>\n",
       "    <tr>\n",
       "      <th>879</th>\n",
       "      <td>Tempo de Pipa</td>\n",
       "      <td>Cícero</td>\n",
       "      <td>spotify:track:40rIF99coDZOA10HnF46R4</td>\n",
       "      <td>0.840</td>\n",
       "      <td>0.639</td>\n",
       "      <td>0.468</td>\n",
       "      <td>0.015000</td>\n",
       "      <td>0.1010</td>\n",
       "      <td>-9.568</td>\n",
       "      <td>0.0254</td>\n",
       "      <td>109.013</td>\n",
       "      <td>0.610</td>\n",
       "      <td>Nova playlist 2</td>\n",
       "      <td>1</td>\n",
       "    </tr>\n",
       "    <tr>\n",
       "      <th>882</th>\n",
       "      <td>Wish You Were Here - 2011 Remaster</td>\n",
       "      <td>Pink Floyd</td>\n",
       "      <td>spotify:track:7aE5WXu5sFeNRh3Z05wwu4</td>\n",
       "      <td>0.728</td>\n",
       "      <td>0.500</td>\n",
       "      <td>0.185</td>\n",
       "      <td>0.000746</td>\n",
       "      <td>0.2730</td>\n",
       "      <td>-20.242</td>\n",
       "      <td>0.0535</td>\n",
       "      <td>121.002</td>\n",
       "      <td>0.293</td>\n",
       "      <td>Nova playlist 2</td>\n",
       "      <td>1</td>\n",
       "    </tr>\n",
       "    <tr>\n",
       "      <th>885</th>\n",
       "      <td>Pra não dizer que não falei das flores</td>\n",
       "      <td>Geraldo Vandre</td>\n",
       "      <td>spotify:track:34xP8fbC6O8TvKFWNcZihk</td>\n",
       "      <td>0.353</td>\n",
       "      <td>0.525</td>\n",
       "      <td>0.284</td>\n",
       "      <td>0.099700</td>\n",
       "      <td>0.1270</td>\n",
       "      <td>-15.206</td>\n",
       "      <td>0.0472</td>\n",
       "      <td>114.195</td>\n",
       "      <td>0.306</td>\n",
       "      <td>Nova playlist 2</td>\n",
       "      <td>1</td>\n",
       "    </tr>\n",
       "  </tbody>\n",
       "</table>\n",
       "<p>178 rows × 14 columns</p>\n",
       "</div>"
      ],
      "text/plain": [
       "                                       name          artist  \\\n",
       "1               Yesterday - Remastered 2015     The Beatles   \n",
       "4    Strawberry Fields Forever - Remastered     The Beatles   \n",
       "5                      Like a Rolling Stone       Bob Dylan   \n",
       "9                                  Dream On       Aerosmith   \n",
       "12                         Do I Wanna Know?  Arctic Monkeys   \n",
       "..                                      ...             ...   \n",
       "861             Convite para Nascer de Novo   Erasmo Carlos   \n",
       "866                                   Poema  Ney Matogrosso   \n",
       "879                           Tempo de Pipa          Cícero   \n",
       "882      Wish You Were Here - 2011 Remaster      Pink Floyd   \n",
       "885  Pra não dizer que não falei das flores  Geraldo Vandre   \n",
       "\n",
       "                                track_URI  acousticness  danceability  energy  \\\n",
       "1    spotify:track:63uskN0xLezVg4281wzeQn         0.871         0.401   0.189   \n",
       "4    spotify:track:5EuraV2jbqB15ihd3d2Hex         0.336         0.390   0.502   \n",
       "5    spotify:track:3AhXZa8sUQht0UEdBJgpGc         0.731         0.482   0.721   \n",
       "9    spotify:track:5MxNLUsfh7uzROypsoO5qe         0.388         0.307   0.433   \n",
       "12   spotify:track:2UzMpPKPhbcC8RbsmuURAZ         0.174         0.550   0.532   \n",
       "..                                    ...           ...           ...     ...   \n",
       "861  spotify:track:0zvvjjj3MkBwhWWxrOfflu         0.256         0.703   0.361   \n",
       "866  spotify:track:7qvL8BbYdxvhOinapMiEeF         0.728         0.606   0.563   \n",
       "879  spotify:track:40rIF99coDZOA10HnF46R4         0.840         0.639   0.468   \n",
       "882  spotify:track:7aE5WXu5sFeNRh3Z05wwu4         0.728         0.500   0.185   \n",
       "885  spotify:track:34xP8fbC6O8TvKFWNcZihk         0.353         0.525   0.284   \n",
       "\n",
       "     instrumentalness  liveness  loudness  speechiness    tempo  valence  \\\n",
       "1            0.000000    0.0968   -11.189       0.0287   94.509    0.357   \n",
       "4            0.000138    0.0713   -12.277       0.1780   97.871    0.289   \n",
       "5            0.000000    0.1890    -6.839       0.0321   95.263    0.557   \n",
       "9            0.000091    0.3320   -10.057       0.0290  160.900    0.224   \n",
       "12           0.000347    0.2180    -7.591       0.0320   85.032    0.410   \n",
       "..                ...       ...       ...          ...      ...      ...   \n",
       "861          0.000053    0.0962   -14.385       0.0371  138.171    0.368   \n",
       "866          0.000362    0.3350    -6.604       0.0307  124.181    0.464   \n",
       "879          0.015000    0.1010    -9.568       0.0254  109.013    0.610   \n",
       "882          0.000746    0.2730   -20.242       0.0535  121.002    0.293   \n",
       "885          0.099700    0.1270   -15.206       0.0472  114.195    0.306   \n",
       "\n",
       "            playlist  Cluster  \n",
       "1    Nova playlist 2        1  \n",
       "4    Nova playlist 2        1  \n",
       "5    Nova playlist 2        1  \n",
       "9    Nova playlist 2        1  \n",
       "12   Nova playlist 2        1  \n",
       "..               ...      ...  \n",
       "861  Nova playlist 2        1  \n",
       "866  Nova playlist 2        1  \n",
       "879  Nova playlist 2        1  \n",
       "882  Nova playlist 2        1  \n",
       "885  Nova playlist 2        1  \n",
       "\n",
       "[178 rows x 14 columns]"
      ]
     },
     "execution_count": 91,
     "metadata": {},
     "output_type": "execute_result"
    }
   ],
   "source": [
    "df[df['Cluster']==1]"
   ]
  },
  {
   "cell_type": "markdown",
   "metadata": {},
   "source": [
    "## Criando as playlists"
   ]
  },
  {
   "cell_type": "code",
   "execution_count": 93,
   "metadata": {},
   "outputs": [],
   "source": [
    "for i in range(n_clusters):\n",
    "    result = sp.user_playlist_create(user_config['username'], 'cluster'+str(i), public=True, collaborative=False, description='')\n",
    "    playlist_id = result['id']\n",
    "    songs = list(df.loc[df['Cluster'] == i]['track_URI'])\n",
    "    if len(songs) > 100:\n",
    "        sp.playlist_add_items(playlist_id, songs[:100])\n",
    "        if len(songs) > 200:\n",
    "            sp.playlist_add_items(playlist_id, songs[100:200])\n",
    "        else:\n",
    "            sp.playlist_add_items(playlist_id, songs[100:])\n",
    "    else:\n",
    "        sp.playlist_add_items(playlist_id, songs)\n"
   ]
  },
  {
   "cell_type": "markdown",
   "metadata": {},
   "source": [
    "## Análise usando Radar Chart"
   ]
  },
  {
   "cell_type": "code",
   "execution_count": 102,
   "metadata": {},
   "outputs": [],
   "source": [
    "import numpy as np\n",
    "import plotly.graph_objects as go\n",
    "from plotly.subplots import make_subplots"
   ]
  },
  {
   "cell_type": "code",
   "execution_count": 99,
   "metadata": {},
   "outputs": [
    {
     "data": {
      "text/html": [
       "<div>\n",
       "<style scoped>\n",
       "    .dataframe tbody tr th:only-of-type {\n",
       "        vertical-align: middle;\n",
       "    }\n",
       "\n",
       "    .dataframe tbody tr th {\n",
       "        vertical-align: top;\n",
       "    }\n",
       "\n",
       "    .dataframe thead th {\n",
       "        text-align: right;\n",
       "    }\n",
       "</style>\n",
       "<table border=\"1\" class=\"dataframe\">\n",
       "  <thead>\n",
       "    <tr style=\"text-align: right;\">\n",
       "      <th></th>\n",
       "      <th>name</th>\n",
       "      <th>artist</th>\n",
       "      <th>track_URI</th>\n",
       "      <th>cluster</th>\n",
       "      <th>acousticness</th>\n",
       "      <th>danceability</th>\n",
       "      <th>energy</th>\n",
       "      <th>instrumentalness</th>\n",
       "      <th>liveness</th>\n",
       "      <th>loudness</th>\n",
       "      <th>speechiness</th>\n",
       "      <th>tempo</th>\n",
       "      <th>valence</th>\n",
       "    </tr>\n",
       "  </thead>\n",
       "  <tbody>\n",
       "    <tr>\n",
       "      <th>0</th>\n",
       "      <td>Ex's &amp; Oh's</td>\n",
       "      <td>Elle King</td>\n",
       "      <td>spotify:track:70eDxAyAraNTiD6lx2ZEnH</td>\n",
       "      <td>2</td>\n",
       "      <td>0.018439</td>\n",
       "      <td>0.553729</td>\n",
       "      <td>0.925761</td>\n",
       "      <td>0.000000</td>\n",
       "      <td>0.036179</td>\n",
       "      <td>0.877648</td>\n",
       "      <td>0.092708</td>\n",
       "      <td>0.554439</td>\n",
       "      <td>0.435570</td>\n",
       "    </tr>\n",
       "    <tr>\n",
       "      <th>1</th>\n",
       "      <td>Yesterday - Remastered 2015</td>\n",
       "      <td>The Beatles</td>\n",
       "      <td>spotify:track:63uskN0xLezVg4281wzeQn</td>\n",
       "      <td>1</td>\n",
       "      <td>0.878023</td>\n",
       "      <td>0.286979</td>\n",
       "      <td>0.149433</td>\n",
       "      <td>0.000000</td>\n",
       "      <td>0.076700</td>\n",
       "      <td>0.529813</td>\n",
       "      <td>0.007003</td>\n",
       "      <td>0.284754</td>\n",
       "      <td>0.340788</td>\n",
       "    </tr>\n",
       "    <tr>\n",
       "      <th>2</th>\n",
       "      <td>Cocaine</td>\n",
       "      <td>Eric Clapton</td>\n",
       "      <td>spotify:track:2udGjDmpK1dH9VGyw7nrei</td>\n",
       "      <td>0</td>\n",
       "      <td>0.061181</td>\n",
       "      <td>0.663717</td>\n",
       "      <td>0.481387</td>\n",
       "      <td>0.034886</td>\n",
       "      <td>0.304321</td>\n",
       "      <td>0.473830</td>\n",
       "      <td>0.005633</td>\n",
       "      <td>0.348547</td>\n",
       "      <td>0.680511</td>\n",
       "    </tr>\n",
       "    <tr>\n",
       "      <th>3</th>\n",
       "      <td>Hotel California - 2013 Remaster</td>\n",
       "      <td>Eagles</td>\n",
       "      <td>spotify:track:40riOy7x9W7GXjyGp4pjAv</td>\n",
       "      <td>2</td>\n",
       "      <td>0.005777</td>\n",
       "      <td>0.512010</td>\n",
       "      <td>0.487751</td>\n",
       "      <td>0.000511</td>\n",
       "      <td>0.036076</td>\n",
       "      <td>0.601206</td>\n",
       "      <td>0.004415</td>\n",
       "      <td>0.596761</td>\n",
       "      <td>0.609159</td>\n",
       "    </tr>\n",
       "    <tr>\n",
       "      <th>4</th>\n",
       "      <td>Strawberry Fields Forever - Remastered</td>\n",
       "      <td>The Beatles</td>\n",
       "      <td>spotify:track:5EuraV2jbqB15ihd3d2Hex</td>\n",
       "      <td>1</td>\n",
       "      <td>0.338704</td>\n",
       "      <td>0.273072</td>\n",
       "      <td>0.481387</td>\n",
       "      <td>0.000143</td>\n",
       "      <td>0.050341</td>\n",
       "      <td>0.484256</td>\n",
       "      <td>0.234282</td>\n",
       "      <td>0.304690</td>\n",
       "      <td>0.268371</td>\n",
       "    </tr>\n",
       "    <tr>\n",
       "      <th>...</th>\n",
       "      <td>...</td>\n",
       "      <td>...</td>\n",
       "      <td>...</td>\n",
       "      <td>...</td>\n",
       "      <td>...</td>\n",
       "      <td>...</td>\n",
       "      <td>...</td>\n",
       "      <td>...</td>\n",
       "      <td>...</td>\n",
       "      <td>...</td>\n",
       "      <td>...</td>\n",
       "      <td>...</td>\n",
       "      <td>...</td>\n",
       "    </tr>\n",
       "    <tr>\n",
       "      <th>881</th>\n",
       "      <td>Hey Ya!</td>\n",
       "      <td>Outkast</td>\n",
       "      <td>spotify:track:2PpruBYCo4H7WOBJ7Q2EwM</td>\n",
       "      <td>0</td>\n",
       "      <td>0.103823</td>\n",
       "      <td>0.699115</td>\n",
       "      <td>0.981971</td>\n",
       "      <td>0.000551</td>\n",
       "      <td>0.156502</td>\n",
       "      <td>0.903651</td>\n",
       "      <td>0.064393</td>\n",
       "      <td>0.195906</td>\n",
       "      <td>0.988285</td>\n",
       "    </tr>\n",
       "    <tr>\n",
       "      <th>882</th>\n",
       "      <td>Wish You Were Here - 2011 Remaster</td>\n",
       "      <td>Pink Floyd</td>\n",
       "      <td>spotify:track:7aE5WXu5sFeNRh3Z05wwu4</td>\n",
       "      <td>1</td>\n",
       "      <td>0.733869</td>\n",
       "      <td>0.412137</td>\n",
       "      <td>0.145190</td>\n",
       "      <td>0.000772</td>\n",
       "      <td>0.258838</td>\n",
       "      <td>0.150741</td>\n",
       "      <td>0.044756</td>\n",
       "      <td>0.441854</td>\n",
       "      <td>0.272630</td>\n",
       "    </tr>\n",
       "    <tr>\n",
       "      <th>883</th>\n",
       "      <td>bad guy</td>\n",
       "      <td>Billie Eilish</td>\n",
       "      <td>spotify:track:2Fxmhks0bxGSBdJ92vM42m</td>\n",
       "      <td>3</td>\n",
       "      <td>0.330639</td>\n",
       "      <td>0.666245</td>\n",
       "      <td>0.399724</td>\n",
       "      <td>0.134576</td>\n",
       "      <td>0.080008</td>\n",
       "      <td>0.539193</td>\n",
       "      <td>0.534176</td>\n",
       "      <td>0.525620</td>\n",
       "      <td>0.559105</td>\n",
       "    </tr>\n",
       "    <tr>\n",
       "      <th>884</th>\n",
       "      <td>La Vie En Rose</td>\n",
       "      <td>Lady Gaga</td>\n",
       "      <td>spotify:track:3tv3f29zjhzL3kcvQE8tGl</td>\n",
       "      <td>5</td>\n",
       "      <td>0.764111</td>\n",
       "      <td>0.128951</td>\n",
       "      <td>0.378513</td>\n",
       "      <td>0.000000</td>\n",
       "      <td>0.706430</td>\n",
       "      <td>0.692823</td>\n",
       "      <td>0.013396</td>\n",
       "      <td>0.176065</td>\n",
       "      <td>0.317359</td>\n",
       "    </tr>\n",
       "    <tr>\n",
       "      <th>885</th>\n",
       "      <td>Pra não dizer que não falei das flores</td>\n",
       "      <td>Geraldo Vandre</td>\n",
       "      <td>spotify:track:34xP8fbC6O8TvKFWNcZihk</td>\n",
       "      <td>1</td>\n",
       "      <td>0.355841</td>\n",
       "      <td>0.443742</td>\n",
       "      <td>0.250186</td>\n",
       "      <td>0.103209</td>\n",
       "      <td>0.107918</td>\n",
       "      <td>0.361611</td>\n",
       "      <td>0.035165</td>\n",
       "      <td>0.401490</td>\n",
       "      <td>0.286475</td>\n",
       "    </tr>\n",
       "  </tbody>\n",
       "</table>\n",
       "<p>886 rows × 13 columns</p>\n",
       "</div>"
      ],
      "text/plain": [
       "                                       name          artist  \\\n",
       "0                               Ex's & Oh's       Elle King   \n",
       "1               Yesterday - Remastered 2015     The Beatles   \n",
       "2                                   Cocaine    Eric Clapton   \n",
       "3          Hotel California - 2013 Remaster          Eagles   \n",
       "4    Strawberry Fields Forever - Remastered     The Beatles   \n",
       "..                                      ...             ...   \n",
       "881                                 Hey Ya!         Outkast   \n",
       "882      Wish You Were Here - 2011 Remaster      Pink Floyd   \n",
       "883                                 bad guy   Billie Eilish   \n",
       "884                          La Vie En Rose       Lady Gaga   \n",
       "885  Pra não dizer que não falei das flores  Geraldo Vandre   \n",
       "\n",
       "                                track_URI  cluster  acousticness  \\\n",
       "0    spotify:track:70eDxAyAraNTiD6lx2ZEnH        2      0.018439   \n",
       "1    spotify:track:63uskN0xLezVg4281wzeQn        1      0.878023   \n",
       "2    spotify:track:2udGjDmpK1dH9VGyw7nrei        0      0.061181   \n",
       "3    spotify:track:40riOy7x9W7GXjyGp4pjAv        2      0.005777   \n",
       "4    spotify:track:5EuraV2jbqB15ihd3d2Hex        1      0.338704   \n",
       "..                                    ...      ...           ...   \n",
       "881  spotify:track:2PpruBYCo4H7WOBJ7Q2EwM        0      0.103823   \n",
       "882  spotify:track:7aE5WXu5sFeNRh3Z05wwu4        1      0.733869   \n",
       "883  spotify:track:2Fxmhks0bxGSBdJ92vM42m        3      0.330639   \n",
       "884  spotify:track:3tv3f29zjhzL3kcvQE8tGl        5      0.764111   \n",
       "885  spotify:track:34xP8fbC6O8TvKFWNcZihk        1      0.355841   \n",
       "\n",
       "     danceability    energy  instrumentalness  liveness  loudness  \\\n",
       "0        0.553729  0.925761          0.000000  0.036179  0.877648   \n",
       "1        0.286979  0.149433          0.000000  0.076700  0.529813   \n",
       "2        0.663717  0.481387          0.034886  0.304321  0.473830   \n",
       "3        0.512010  0.487751          0.000511  0.036076  0.601206   \n",
       "4        0.273072  0.481387          0.000143  0.050341  0.484256   \n",
       "..            ...       ...               ...       ...       ...   \n",
       "881      0.699115  0.981971          0.000551  0.156502  0.903651   \n",
       "882      0.412137  0.145190          0.000772  0.258838  0.150741   \n",
       "883      0.666245  0.399724          0.134576  0.080008  0.539193   \n",
       "884      0.128951  0.378513          0.000000  0.706430  0.692823   \n",
       "885      0.443742  0.250186          0.103209  0.107918  0.361611   \n",
       "\n",
       "     speechiness     tempo   valence  \n",
       "0       0.092708  0.554439  0.435570  \n",
       "1       0.007003  0.284754  0.340788  \n",
       "2       0.005633  0.348547  0.680511  \n",
       "3       0.004415  0.596761  0.609159  \n",
       "4       0.234282  0.304690  0.268371  \n",
       "..           ...       ...       ...  \n",
       "881     0.064393  0.195906  0.988285  \n",
       "882     0.044756  0.441854  0.272630  \n",
       "883     0.534176  0.525620  0.559105  \n",
       "884     0.013396  0.176065  0.317359  \n",
       "885     0.035165  0.401490  0.286475  \n",
       "\n",
       "[886 rows x 13 columns]"
      ]
     },
     "execution_count": 99,
     "metadata": {},
     "output_type": "execute_result"
    }
   ],
   "source": [
    "def make_normalized_df(df, col_sep):\n",
    "    non_features = df[df.columns[:col_sep]]\n",
    "    features = df[df.columns[col_sep:]]\n",
    "    norm = MinMaxScaler().fit_transform(features)\n",
    "    scaled = pd.DataFrame(norm, index=df.index, columns = df.columns[col_sep:])\n",
    "    return pd.concat([non_features, scaled], axis=1)\n",
    "\n",
    "cluster_labels = df['Cluster']\n",
    "orig = df.drop(columns=['playlist', 'Cluster'])\n",
    "values_df = make_normalized_df(orig, 3)\n",
    "values_df.insert(3, 'cluster', cluster_labels)\n",
    "values_df"
   ]
  },
  {
   "cell_type": "code",
   "execution_count": 103,
   "metadata": {},
   "outputs": [
    {
     "data": {
      "application/vnd.plotly.v1+json": {
       "config": {
        "plotlyServerURL": "https://plot.ly"
       },
       "data": [
        {
         "fill": "toself",
         "name": "Cluster 0",
         "r": [
          0.19991991480363078,
          0.6696828079944318,
          0.706114255049467,
          0.003916709625390622,
          0.14946507066704143,
          0.745775499827962,
          0.06583242251797826,
          0.4104797799515254,
          0.7016189826614496,
          0.19991991480363078
         ],
         "theta": [
          "acousticness",
          "danceability",
          "energy",
          "instrumentalness",
          "liveness",
          "loudness",
          "speechiness",
          "tempo",
          "valence",
          "acousticness"
         ],
         "type": "scatterpolar"
        },
        {
         "fill": "toself",
         "name": "Cluster 1",
         "r": [
          0.6065936456070282,
          0.4715763007997273,
          0.3622972874743352,
          0.011867761125456533,
          0.13355095204800077,
          0.5586636637625629,
          0.03772314976199068,
          0.3814313811335871,
          0.35127616039056614,
          0.6065936456070282
         ],
         "theta": [
          "acousticness",
          "danceability",
          "energy",
          "instrumentalness",
          "liveness",
          "loudness",
          "speechiness",
          "tempo",
          "valence",
          "acousticness"
         ],
         "type": "scatterpolar"
        },
        {
         "fill": "toself",
         "name": "Cluster 2",
         "r": [
          0.10030737200212177,
          0.39352073375272617,
          0.7639096810340567,
          0.011772917439970965,
          0.15100977112842817,
          0.7647977723141435,
          0.07023936526689709,
          0.5541115010064169,
          0.426224813207235,
          0.10030737200212177
         ],
         "theta": [
          "acousticness",
          "danceability",
          "energy",
          "instrumentalness",
          "liveness",
          "loudness",
          "speechiness",
          "tempo",
          "valence",
          "acousticness"
         ],
         "type": "scatterpolar"
        },
        {
         "fill": "toself",
         "name": "Cluster 3",
         "r": [
          0.27644823073274183,
          0.7084094207988014,
          0.6275183339028922,
          0.002935682654704394,
          0.1845601803995436,
          0.7041371620343233,
          0.4708591983671904,
          0.41518276490880374,
          0.5491756399637123,
          0.27644823073274183
         ],
         "theta": [
          "acousticness",
          "danceability",
          "energy",
          "instrumentalness",
          "liveness",
          "loudness",
          "speechiness",
          "tempo",
          "valence",
          "acousticness"
         ],
         "type": "scatterpolar"
        },
        {
         "fill": "toself",
         "name": "Cluster 4",
         "r": [
          0.4353925378809331,
          0.48375474083438685,
          0.4557164068299926,
          0.6993788819875777,
          0.13254083109365308,
          0.5416233983753456,
          0.053409955853250105,
          0.41066047190118427,
          0.4239616613418531,
          0.4353925378809331
         ],
         "theta": [
          "acousticness",
          "danceability",
          "energy",
          "instrumentalness",
          "liveness",
          "loudness",
          "speechiness",
          "tempo",
          "valence",
          "acousticness"
         ],
         "type": "scatterpolar"
        },
        {
         "fill": "toself",
         "name": "Cluster 5",
         "r": [
          0.3271514274002033,
          0.46358223563476214,
          0.7417541626895746,
          0.0032665192346223197,
          0.7761375686075744,
          0.7657130083123745,
          0.10923742505119352,
          0.49410749984649227,
          0.534800233604727,
          0.3271514274002033
         ],
         "theta": [
          "acousticness",
          "danceability",
          "energy",
          "instrumentalness",
          "liveness",
          "loudness",
          "speechiness",
          "tempo",
          "valence",
          "acousticness"
         ],
         "type": "scatterpolar"
        }
       ],
       "layout": {
        "polar": {
         "radialaxis": {
          "range": [
           0,
           1
          ],
          "visible": true
         }
        },
        "showlegend": true,
        "template": {
         "data": {
          "bar": [
           {
            "error_x": {
             "color": "#2a3f5f"
            },
            "error_y": {
             "color": "#2a3f5f"
            },
            "marker": {
             "line": {
              "color": "#E5ECF6",
              "width": 0.5
             },
             "pattern": {
              "fillmode": "overlay",
              "size": 10,
              "solidity": 0.2
             }
            },
            "type": "bar"
           }
          ],
          "barpolar": [
           {
            "marker": {
             "line": {
              "color": "#E5ECF6",
              "width": 0.5
             },
             "pattern": {
              "fillmode": "overlay",
              "size": 10,
              "solidity": 0.2
             }
            },
            "type": "barpolar"
           }
          ],
          "carpet": [
           {
            "aaxis": {
             "endlinecolor": "#2a3f5f",
             "gridcolor": "white",
             "linecolor": "white",
             "minorgridcolor": "white",
             "startlinecolor": "#2a3f5f"
            },
            "baxis": {
             "endlinecolor": "#2a3f5f",
             "gridcolor": "white",
             "linecolor": "white",
             "minorgridcolor": "white",
             "startlinecolor": "#2a3f5f"
            },
            "type": "carpet"
           }
          ],
          "choropleth": [
           {
            "colorbar": {
             "outlinewidth": 0,
             "ticks": ""
            },
            "type": "choropleth"
           }
          ],
          "contour": [
           {
            "colorbar": {
             "outlinewidth": 0,
             "ticks": ""
            },
            "colorscale": [
             [
              0,
              "#0d0887"
             ],
             [
              0.1111111111111111,
              "#46039f"
             ],
             [
              0.2222222222222222,
              "#7201a8"
             ],
             [
              0.3333333333333333,
              "#9c179e"
             ],
             [
              0.4444444444444444,
              "#bd3786"
             ],
             [
              0.5555555555555556,
              "#d8576b"
             ],
             [
              0.6666666666666666,
              "#ed7953"
             ],
             [
              0.7777777777777778,
              "#fb9f3a"
             ],
             [
              0.8888888888888888,
              "#fdca26"
             ],
             [
              1,
              "#f0f921"
             ]
            ],
            "type": "contour"
           }
          ],
          "contourcarpet": [
           {
            "colorbar": {
             "outlinewidth": 0,
             "ticks": ""
            },
            "type": "contourcarpet"
           }
          ],
          "heatmap": [
           {
            "colorbar": {
             "outlinewidth": 0,
             "ticks": ""
            },
            "colorscale": [
             [
              0,
              "#0d0887"
             ],
             [
              0.1111111111111111,
              "#46039f"
             ],
             [
              0.2222222222222222,
              "#7201a8"
             ],
             [
              0.3333333333333333,
              "#9c179e"
             ],
             [
              0.4444444444444444,
              "#bd3786"
             ],
             [
              0.5555555555555556,
              "#d8576b"
             ],
             [
              0.6666666666666666,
              "#ed7953"
             ],
             [
              0.7777777777777778,
              "#fb9f3a"
             ],
             [
              0.8888888888888888,
              "#fdca26"
             ],
             [
              1,
              "#f0f921"
             ]
            ],
            "type": "heatmap"
           }
          ],
          "heatmapgl": [
           {
            "colorbar": {
             "outlinewidth": 0,
             "ticks": ""
            },
            "colorscale": [
             [
              0,
              "#0d0887"
             ],
             [
              0.1111111111111111,
              "#46039f"
             ],
             [
              0.2222222222222222,
              "#7201a8"
             ],
             [
              0.3333333333333333,
              "#9c179e"
             ],
             [
              0.4444444444444444,
              "#bd3786"
             ],
             [
              0.5555555555555556,
              "#d8576b"
             ],
             [
              0.6666666666666666,
              "#ed7953"
             ],
             [
              0.7777777777777778,
              "#fb9f3a"
             ],
             [
              0.8888888888888888,
              "#fdca26"
             ],
             [
              1,
              "#f0f921"
             ]
            ],
            "type": "heatmapgl"
           }
          ],
          "histogram": [
           {
            "marker": {
             "pattern": {
              "fillmode": "overlay",
              "size": 10,
              "solidity": 0.2
             }
            },
            "type": "histogram"
           }
          ],
          "histogram2d": [
           {
            "colorbar": {
             "outlinewidth": 0,
             "ticks": ""
            },
            "colorscale": [
             [
              0,
              "#0d0887"
             ],
             [
              0.1111111111111111,
              "#46039f"
             ],
             [
              0.2222222222222222,
              "#7201a8"
             ],
             [
              0.3333333333333333,
              "#9c179e"
             ],
             [
              0.4444444444444444,
              "#bd3786"
             ],
             [
              0.5555555555555556,
              "#d8576b"
             ],
             [
              0.6666666666666666,
              "#ed7953"
             ],
             [
              0.7777777777777778,
              "#fb9f3a"
             ],
             [
              0.8888888888888888,
              "#fdca26"
             ],
             [
              1,
              "#f0f921"
             ]
            ],
            "type": "histogram2d"
           }
          ],
          "histogram2dcontour": [
           {
            "colorbar": {
             "outlinewidth": 0,
             "ticks": ""
            },
            "colorscale": [
             [
              0,
              "#0d0887"
             ],
             [
              0.1111111111111111,
              "#46039f"
             ],
             [
              0.2222222222222222,
              "#7201a8"
             ],
             [
              0.3333333333333333,
              "#9c179e"
             ],
             [
              0.4444444444444444,
              "#bd3786"
             ],
             [
              0.5555555555555556,
              "#d8576b"
             ],
             [
              0.6666666666666666,
              "#ed7953"
             ],
             [
              0.7777777777777778,
              "#fb9f3a"
             ],
             [
              0.8888888888888888,
              "#fdca26"
             ],
             [
              1,
              "#f0f921"
             ]
            ],
            "type": "histogram2dcontour"
           }
          ],
          "mesh3d": [
           {
            "colorbar": {
             "outlinewidth": 0,
             "ticks": ""
            },
            "type": "mesh3d"
           }
          ],
          "parcoords": [
           {
            "line": {
             "colorbar": {
              "outlinewidth": 0,
              "ticks": ""
             }
            },
            "type": "parcoords"
           }
          ],
          "pie": [
           {
            "automargin": true,
            "type": "pie"
           }
          ],
          "scatter": [
           {
            "fillpattern": {
             "fillmode": "overlay",
             "size": 10,
             "solidity": 0.2
            },
            "type": "scatter"
           }
          ],
          "scatter3d": [
           {
            "line": {
             "colorbar": {
              "outlinewidth": 0,
              "ticks": ""
             }
            },
            "marker": {
             "colorbar": {
              "outlinewidth": 0,
              "ticks": ""
             }
            },
            "type": "scatter3d"
           }
          ],
          "scattercarpet": [
           {
            "marker": {
             "colorbar": {
              "outlinewidth": 0,
              "ticks": ""
             }
            },
            "type": "scattercarpet"
           }
          ],
          "scattergeo": [
           {
            "marker": {
             "colorbar": {
              "outlinewidth": 0,
              "ticks": ""
             }
            },
            "type": "scattergeo"
           }
          ],
          "scattergl": [
           {
            "marker": {
             "colorbar": {
              "outlinewidth": 0,
              "ticks": ""
             }
            },
            "type": "scattergl"
           }
          ],
          "scattermapbox": [
           {
            "marker": {
             "colorbar": {
              "outlinewidth": 0,
              "ticks": ""
             }
            },
            "type": "scattermapbox"
           }
          ],
          "scatterpolar": [
           {
            "marker": {
             "colorbar": {
              "outlinewidth": 0,
              "ticks": ""
             }
            },
            "type": "scatterpolar"
           }
          ],
          "scatterpolargl": [
           {
            "marker": {
             "colorbar": {
              "outlinewidth": 0,
              "ticks": ""
             }
            },
            "type": "scatterpolargl"
           }
          ],
          "scatterternary": [
           {
            "marker": {
             "colorbar": {
              "outlinewidth": 0,
              "ticks": ""
             }
            },
            "type": "scatterternary"
           }
          ],
          "surface": [
           {
            "colorbar": {
             "outlinewidth": 0,
             "ticks": ""
            },
            "colorscale": [
             [
              0,
              "#0d0887"
             ],
             [
              0.1111111111111111,
              "#46039f"
             ],
             [
              0.2222222222222222,
              "#7201a8"
             ],
             [
              0.3333333333333333,
              "#9c179e"
             ],
             [
              0.4444444444444444,
              "#bd3786"
             ],
             [
              0.5555555555555556,
              "#d8576b"
             ],
             [
              0.6666666666666666,
              "#ed7953"
             ],
             [
              0.7777777777777778,
              "#fb9f3a"
             ],
             [
              0.8888888888888888,
              "#fdca26"
             ],
             [
              1,
              "#f0f921"
             ]
            ],
            "type": "surface"
           }
          ],
          "table": [
           {
            "cells": {
             "fill": {
              "color": "#EBF0F8"
             },
             "line": {
              "color": "white"
             }
            },
            "header": {
             "fill": {
              "color": "#C8D4E3"
             },
             "line": {
              "color": "white"
             }
            },
            "type": "table"
           }
          ]
         },
         "layout": {
          "annotationdefaults": {
           "arrowcolor": "#2a3f5f",
           "arrowhead": 0,
           "arrowwidth": 1
          },
          "autotypenumbers": "strict",
          "coloraxis": {
           "colorbar": {
            "outlinewidth": 0,
            "ticks": ""
           }
          },
          "colorscale": {
           "diverging": [
            [
             0,
             "#8e0152"
            ],
            [
             0.1,
             "#c51b7d"
            ],
            [
             0.2,
             "#de77ae"
            ],
            [
             0.3,
             "#f1b6da"
            ],
            [
             0.4,
             "#fde0ef"
            ],
            [
             0.5,
             "#f7f7f7"
            ],
            [
             0.6,
             "#e6f5d0"
            ],
            [
             0.7,
             "#b8e186"
            ],
            [
             0.8,
             "#7fbc41"
            ],
            [
             0.9,
             "#4d9221"
            ],
            [
             1,
             "#276419"
            ]
           ],
           "sequential": [
            [
             0,
             "#0d0887"
            ],
            [
             0.1111111111111111,
             "#46039f"
            ],
            [
             0.2222222222222222,
             "#7201a8"
            ],
            [
             0.3333333333333333,
             "#9c179e"
            ],
            [
             0.4444444444444444,
             "#bd3786"
            ],
            [
             0.5555555555555556,
             "#d8576b"
            ],
            [
             0.6666666666666666,
             "#ed7953"
            ],
            [
             0.7777777777777778,
             "#fb9f3a"
            ],
            [
             0.8888888888888888,
             "#fdca26"
            ],
            [
             1,
             "#f0f921"
            ]
           ],
           "sequentialminus": [
            [
             0,
             "#0d0887"
            ],
            [
             0.1111111111111111,
             "#46039f"
            ],
            [
             0.2222222222222222,
             "#7201a8"
            ],
            [
             0.3333333333333333,
             "#9c179e"
            ],
            [
             0.4444444444444444,
             "#bd3786"
            ],
            [
             0.5555555555555556,
             "#d8576b"
            ],
            [
             0.6666666666666666,
             "#ed7953"
            ],
            [
             0.7777777777777778,
             "#fb9f3a"
            ],
            [
             0.8888888888888888,
             "#fdca26"
            ],
            [
             1,
             "#f0f921"
            ]
           ]
          },
          "colorway": [
           "#636efa",
           "#EF553B",
           "#00cc96",
           "#ab63fa",
           "#FFA15A",
           "#19d3f3",
           "#FF6692",
           "#B6E880",
           "#FF97FF",
           "#FECB52"
          ],
          "font": {
           "color": "#2a3f5f"
          },
          "geo": {
           "bgcolor": "white",
           "lakecolor": "white",
           "landcolor": "#E5ECF6",
           "showlakes": true,
           "showland": true,
           "subunitcolor": "white"
          },
          "hoverlabel": {
           "align": "left"
          },
          "hovermode": "closest",
          "mapbox": {
           "style": "light"
          },
          "paper_bgcolor": "white",
          "plot_bgcolor": "#E5ECF6",
          "polar": {
           "angularaxis": {
            "gridcolor": "white",
            "linecolor": "white",
            "ticks": ""
           },
           "bgcolor": "#E5ECF6",
           "radialaxis": {
            "gridcolor": "white",
            "linecolor": "white",
            "ticks": ""
           }
          },
          "scene": {
           "xaxis": {
            "backgroundcolor": "#E5ECF6",
            "gridcolor": "white",
            "gridwidth": 2,
            "linecolor": "white",
            "showbackground": true,
            "ticks": "",
            "zerolinecolor": "white"
           },
           "yaxis": {
            "backgroundcolor": "#E5ECF6",
            "gridcolor": "white",
            "gridwidth": 2,
            "linecolor": "white",
            "showbackground": true,
            "ticks": "",
            "zerolinecolor": "white"
           },
           "zaxis": {
            "backgroundcolor": "#E5ECF6",
            "gridcolor": "white",
            "gridwidth": 2,
            "linecolor": "white",
            "showbackground": true,
            "ticks": "",
            "zerolinecolor": "white"
           }
          },
          "shapedefaults": {
           "line": {
            "color": "#2a3f5f"
           }
          },
          "ternary": {
           "aaxis": {
            "gridcolor": "white",
            "linecolor": "white",
            "ticks": ""
           },
           "baxis": {
            "gridcolor": "white",
            "linecolor": "white",
            "ticks": ""
           },
           "bgcolor": "#E5ECF6",
           "caxis": {
            "gridcolor": "white",
            "linecolor": "white",
            "ticks": ""
           }
          },
          "title": {
           "x": 0.05
          },
          "xaxis": {
           "automargin": true,
           "gridcolor": "white",
           "linecolor": "white",
           "ticks": "",
           "title": {
            "standoff": 15
           },
           "zerolinecolor": "white",
           "zerolinewidth": 2
          },
          "yaxis": {
           "automargin": true,
           "gridcolor": "white",
           "linecolor": "white",
           "ticks": "",
           "title": {
            "standoff": 15
           },
           "zerolinecolor": "white",
           "zerolinewidth": 2
          }
         }
        }
       }
      }
     },
     "metadata": {},
     "output_type": "display_data"
    }
   ],
   "source": [
    "fig = go.Figure()\n",
    "\n",
    "angles = list(values_df.columns[4:])\n",
    "angles.append(angles[0])\n",
    "\n",
    "layoutdict = dict(\n",
    "            radialaxis=dict(\n",
    "            visible=True,\n",
    "            range=[0, 1]\n",
    "            ))\n",
    "\n",
    "for i in range(n_clusters):\n",
    "    subset = values_df[values_df['cluster'] == i]\n",
    "    data = [np.mean(subset[col]) for col in subset.columns[4:]]\n",
    "    data.append(data[0])\n",
    "    fig.add_trace(go.Scatterpolar(\n",
    "        r=data,\n",
    "        theta=angles,\n",
    "        fill='toself',\n",
    "        name=\"Cluster \" + str(i)))\n",
    "    \n",
    "fig.update_layout(\n",
    "        polar=layoutdict,\n",
    "        showlegend=True\n",
    "        )\n",
    "fig.show()"
   ]
  }
 ],
 "metadata": {
  "kernelspec": {
   "display_name": "Python 3.10.6 64-bit",
   "language": "python",
   "name": "python3"
  },
  "language_info": {
   "codemirror_mode": {
    "name": "ipython",
    "version": 3
   },
   "file_extension": ".py",
   "mimetype": "text/x-python",
   "name": "python",
   "nbconvert_exporter": "python",
   "pygments_lexer": "ipython3",
   "version": "3.10.6"
  },
  "orig_nbformat": 4,
  "vscode": {
   "interpreter": {
    "hash": "5fe8ef569c9c2a7d6f6f4604c3dd3e325cd38c6a3a4c920304da28dd78ba0144"
   }
  }
 },
 "nbformat": 4,
 "nbformat_minor": 2
}
