{
 "cells": [
  {
   "cell_type": "code",
   "execution_count": null,
   "metadata": {},
   "outputs": [],
   "source": [
    "# CENÁRIO de codificação de um argumento\n",
    "# PREMISSA  P1: [a=5, b=3]\n",
    "assert (a == 5 and b == 3)\n",
    "# CONCLUSÃO C1: [a=3, b=5]\n",
    "assert (a == 3 and b == 5)"
   ],
   "id": "c3c043be-5690-4ecc-bd6c-dcb39f5b89fd"
  },
  {
   "cell_type": "code",
   "execution_count": null,
   "metadata": {},
   "outputs": [],
   "source": [
    "# CENÁRIO definição de variáveis e predicado inicial\n",
    "# VARIÁVEIS e PREDICADO INICIAL\n",
    "a = 5\n",
    "b = 3\n",
    "# O predicado \"início\" é verdadeiro\n",
    "# PREMISSA P1: [a=5, b=3]\n",
    "assert (a == 5 and b == 3)\n",
    "print (a, b) # observação do estado da máquina"
   ],
   "id": "f7b1b4e1-c431-4188-a8c4-fa0476a59013"
  },
  {
   "cell_type": "code",
   "execution_count": null,
   "metadata": {},
   "outputs": [],
   "source": [
    "# CENÁRIO de implementação da ação \"troca2\":\n",
    "t = a\n",
    "a = b\n",
    "b = t\n",
    "# A ação \"troca2\" é verdadeira\n",
    "# [a=3, b=5, t=5]\n",
    "assert (a == 3 and b == 5 and t == 5)\n",
    "print (a, b, t) # observação do estado da máquina"
   ],
   "id": "a324f335-abaa-4b3b-8541-0b83a07bd827"
  },
  {
   "cell_type": "code",
   "execution_count": null,
   "metadata": {},
   "outputs": [],
   "source": [
    "# CENÁRIO de definição de estado por conjunção lógica\n",
    "# [a=3,   b=5,        t=5]\n",
    "assert (a == 3 and b == 5 and t == 5)\n",
    "# (a=3 /\\ b=5)   /\\   t=5\n",
    "assert (a == 3 and b == 5)\n",
    "assert (t == 5)\n",
    "print (a, b, t) # observação do estado da máquina"
   ],
   "id": "383f4f33-383d-42a5-bca8-7cdae5b23236"
  },
  {
   "cell_type": "code",
   "execution_count": null,
   "metadata": {},
   "outputs": [],
   "source": [
    "# CENÁRIO de eliminação de conjunção lógica:\n",
    "# (a=3 /\\ b=5)   /\\   t=5\n",
    "assert a == 3 and b == 5\n",
    "assert t == 5\n",
    "# (a=3 /\\ b=5)\n",
    "# CONCLUSÃO C1: [a=3, b=5]\n",
    "assert a == 3 and b == 5\n",
    "print (a, b) # visão de usuário..."
   ],
   "id": "297320d5-26ab-4d0e-abc0-11620c3ec902"
  },
  {
   "cell_type": "code",
   "execution_count": null,
   "metadata": {},
   "outputs": [],
   "source": [
    "# CENÁRIO do código de intercâmio de valores\n",
    "a = 5\n",
    "b = 3\n",
    "t = a\n",
    "a = b\n",
    "b = t\n",
    "print (a, b)"
   ],
   "id": "8646225b-c5e7-41e4-b41f-9b92a43564a2"
  },
  {
   "cell_type": "code",
   "execution_count": null,
   "metadata": {},
   "outputs": [],
   "source": [
    "# CENÁRIO de lógica interativa (caso especial)\n",
    "# VARIÁVEIS e PREDICADO INICIAL\n",
    "a = input (\"Digite o valor numérico de 'a' [4]\")\n",
    "b = input (\"Digite o valor numérico de 'b' [3]\")\n",
    "# predicado inicial \"início2\" é verdadeiro\n",
    "# a máquina se encontra no estado [a=4, b=3]\n",
    "print (a, b)"
   ],
   "id": "fbb580a5-b7a7-47cf-b65c-2c2332a2993c"
  },
  {
   "cell_type": "code",
   "execution_count": null,
   "metadata": {},
   "outputs": [],
   "source": [
    "# CENÁRIO de passo de prova\n",
    "t = a\n",
    "a = b\n",
    "b = t\n",
    "# ação \"troca2\" é verdadeira\n",
    "# a máquina muda para o estado [a=4, b=5, t=5]\n",
    "assert (a == 3 and b == 5 and t == 5)\n",
    "# eliminação de conjunção lógica\n",
    "# a máquina encontra-se no subestado [a=3, b=5]\n",
    "assert (a == 3 and b == 5)\n",
    "# a máquina produz absurdo para este argumento\n",
    "print (a, b, t)"
   ],
   "id": "e948070b-eee9-4e06-a4d0-5753dc8ae8c3"
  },
  {
   "cell_type": "code",
   "execution_count": null,
   "metadata": {},
   "outputs": [],
   "source": [
    "# CENÁRIO de lógica interativa 2 (caso especial)\n",
    "# VARIÁVEIS e PREDICADO INICIAL\n",
    "k1 = input (\"Digite o valor numérico de 'a'\")\n",
    "k2 = input (\"Digite o valor numérico de 'b'\")\n",
    "a = k1\n",
    "b = k2\n",
    "# predicado inicial \"início2\" é verdadeiro\n",
    "# a máquina se encontra no estado [a=k1, b=k2]\n",
    "assert (a == k1 and b == k2)\n",
    "t = a\n",
    "a = b\n",
    "b = t\n",
    "# ação \"troca2\" é verdadeira\n",
    "# a máquina muda para o estado [a=k2, b=k1, t=k1]\n",
    "assert (a == k2 and b == k1 and t == k1)\n",
    "# eliminação de conjunção lógica\n",
    "# a máquina encontra-se no subestado [a=k2, b=k1]\n",
    "assert (a == k2 and b == k1)"
   ],
   "id": "44caccf0-567d-473c-929e-5cb6a2cbd8c5"
  },
  {
   "cell_type": "code",
   "execution_count": null,
   "metadata": {},
   "outputs": [],
   "source": [
    "# CENÁRIO do código interativo para intercâmbio de valores numéricos\n",
    "# (caso: literais do tipo 'int')\n",
    "a = input (\"Digite o valor numérico de 'a'\")\n",
    "b = input (\"Digite o valor numérico de 'b'\")\n",
    "print (a, b)\n",
    "t = a\n",
    "a = b\n",
    "b = t\n",
    "print (a, b)"
   ],
   "id": "1c11196a-5792-4778-81e4-1b9ffd7680f9"
  }
 ],
 "nbformat": 4,
 "nbformat_minor": 5,
 "metadata": {
  "kernelspec": {
   "name": "python",
   "display_name": "Python",
   "language": "python"
  },
  "language_info": {
   "name": "python",
   "codemirror_mode": "python",
   "nbconvert_exporter": "python",
   "pygments_lexer": "python"
  }
 }
}
