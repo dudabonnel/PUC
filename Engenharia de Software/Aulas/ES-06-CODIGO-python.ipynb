{
 "cells": [
  {
   "cell_type": "code",
   "execution_count": null,
   "metadata": {},
   "outputs": [],
   "source": [
    "# CENÁRIO de implementação de um DNA por \"list\"\n",
    "def dom(lst) :\n",
    "  return [i+1 for i in range(len(lst))]\n",
    "\n",
    "def ran(lst) :\n",
    "  return lst\n",
    "\n",
    "// Arrays como sequências\n",
    "DNA_1 = ['G', 'A', 'T', 'C', 'T', 'C', 'C', 'C']\n",
    "print (dom (DNA_1) == [1, 2, 3, 4, 5, 6, 7, 8])                 # <-- (A)\n",
    "print (ran (DNA_1) == ['G', 'A', 'T', 'C', 'T', 'C', 'C', 'C']) # <-- (B)\n",
    "print (DNA_1[2] == 'G')  # <-- (C)\n",
    "print (len (DNA_1) == 8) # <-- (D)"
   ],
   "id": "9d7b14ab-6b70-4fa8-a376-8fa70d4d6f44"
  },
  {
   "cell_type": "code",
   "execution_count": null,
   "metadata": {},
   "outputs": [],
   "source": [
    "# CENÁRIO de implementação da sequência\n",
    "#   s = <a,b,c,d>\n",
    "def s (i) :\n",
    "    return chr (i+96)\n",
    "def s_inv (x) :\n",
    "    return ord(x) - 96"
   ],
   "id": "16e80bc0-3d13-4ea2-8d8d-20bd4a3fa30b"
  },
  {
   "cell_type": "code",
   "execution_count": null,
   "metadata": {},
   "outputs": [],
   "source": [
    "# CENÁRIO de aplicações\n",
    "print (s (1))\n",
    "print (s_inv ('d') == 4)"
   ],
   "id": "3421272c-e2cc-4a6f-87f2-ba6f51533428"
  },
  {
   "cell_type": "code",
   "execution_count": null,
   "metadata": {},
   "outputs": [],
   "source": [
    "def A_inv(x) :\n",
    "  dom = [1, 2, 3, 4, 5, 6, 7, 8, 9, 10, \n",
    "    11, 12, 13, 14, 15, 16, 17, 18, 19, 20, \n",
    "    21, 22, 23, 24, 25, 26, 27, 28]\n",
    "  ran = [' ','a','b','c','d','e','f',\n",
    "    'g','h','i','j','k','l','m','n','o',\n",
    "    'p','q','r','s','t','u','v','w','x','y','z', 'ç']\n",
    "  return { ran[i]: dom[i] for i in range (len (dom)) } [x]"
   ],
   "id": "dc5a8de4-92b9-4b8b-90b0-f38aac429e28"
  },
  {
   "cell_type": "code",
   "execution_count": null,
   "metadata": {},
   "outputs": [],
   "source": [
    "# CENÁRIO de implementação da função \"cifraPosErro\"\n",
    "def cifraPosErro (x) :\n",
    "  return x+3"
   ],
   "id": "2b64c997-fd92-43a4-9c1c-80503ff2b358"
  },
  {
   "cell_type": "code",
   "execution_count": null,
   "metadata": {},
   "outputs": [],
   "source": [
    "# CENÁRIO de cifragem logicamente ERRADA de um símbolo\n",
    "def A (i):\n",
    "  if (i == 1) :\n",
    "    return ' '\n",
    "  if (i == 28) :\n",
    "    return 'ç'\n",
    "  return chr (i + 95)\n",
    "\n",
    "def cifraPosErro (i) :\n",
    "  return (i + 3)\n",
    "\n",
    "def A_inv (x) :\n",
    "  if x == ' ' :\n",
    "    return 1\n",
    "  if x == 'ç' :\n",
    "    return 28\n",
    "  return ord(x) - 95    "
   ],
   "id": "d64da950-5650-46e3-a8d8-e682b7fd34eb"
  },
  {
   "cell_type": "code",
   "execution_count": null,
   "metadata": {},
   "outputs": [],
   "source": [
    "# CENÁRIO de uso dos métodos de cifragem de letras\n",
    "A_inv ('a') == 2         # <-- (1)\n",
    "cifraPosErro (2) == 2)   # <-- (2)\n",
    "cifraPosErro (28) == 31) # <-- (3)\n",
    "A (2) == 'a'             # <-- (4)"
   ],
   "id": "418e96b6-9382-4f03-8970-f0ce9bde5406"
  },
  {
   "cell_type": "code",
   "execution_count": null,
   "metadata": {},
   "outputs": [],
   "source": [
    "# CENÁRIO de implementação do método \"cifraPos\"\n",
    "def cifraPos(s, i) :\n",
    "  return (x+3) if 1 <= i <= len(s) and (x+3) <= len(s) else ((x+3) - len(s))\n",
    "# aplicação de \"cifraPos\"\n",
    "A = [' ','a','b','c','d','e','f',\n",
    "    'g','h','i','j','k','l','m','n','o',\n",
    "    'p','q','r','s','t','u','v','w','x','y','z', 'ç']"
   ],
   "id": "e463fd0f-d29f-4602-bb90-b9cd50cd0cfc"
  },
  {
   "cell_type": "code",
   "execution_count": null,
   "metadata": {},
   "outputs": [],
   "source": [
    "cifraPos(A, 1)  == 4)  # <-- (A)\n",
    "cifraPos(A, 2)  == 5)  # <-- (B)\n",
    "cifraPos(A, 25) == 28) # <-- (C)\n",
    "cifraPos(A, 28) == 2)  # <-- (D)"
   ],
   "id": "0bcc0968-60a5-45a2-8a92-9d81eb919e28"
  }
 ],
 "nbformat": 4,
 "nbformat_minor": 5,
 "metadata": {
  "kernelspec": {
   "name": "python",
   "display_name": "Python",
   "language": "python"
  },
  "language_info": {
   "name": "python",
   "codemirror_mode": "python",
   "nbconvert_exporter": "python",
   "pygments_lexer": "python"
  }
 }
}
