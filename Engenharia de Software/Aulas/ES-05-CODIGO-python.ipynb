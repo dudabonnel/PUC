{
 "cells": [
  {
   "cell_type": "code",
   "execution_count": null,
   "metadata": {},
   "outputs": [],
   "source": [
    "# CENÁRIO de implementação da Cifra de César\n",
    "# Definição do método \"cesar\"\n",
    "def cesar(x) :\n",
    "  alfabetoCesar   = [ ' ', 'a', 'b' ]\n",
    "  alfabetoCifrado = [ 'c', 'd', 'e' ]\n",
    "  i = alfabetoCesar.index (x)\n",
    "  return alfabetoCifrado [i]\n",
    "# Chamada do método\n",
    "cesar(' ')"
   ],
   "id": "d39f5cc8-5adf-45f4-9b06-55c41081b77c"
  },
  {
   "cell_type": "code",
   "execution_count": null,
   "metadata": {},
   "outputs": [],
   "source": [
    "# CENÁRIO de implementação de \"f\"\n",
    "def f (x) :\n",
    "  return chr(x)"
   ],
   "id": "d93b3ee4-356e-4f23-a70b-a0eeceaa2c51"
  },
  {
   "cell_type": "code",
   "execution_count": null,
   "metadata": {},
   "outputs": [],
   "source": [
    "f (32) == ' ';  # <-- (1)\n",
    "f (2)  == 'a';  # <-- (2)\n",
    "f (3)  == 'b';  # <-- (3)\n",
    "f (4)  == 'c';  # <-- (4)"
   ],
   "id": "6e2e3be4-1c30-4f68-afdb-d5eb7bbada60"
  }
 ],
 "nbformat": 4,
 "nbformat_minor": 5,
 "metadata": {
  "kernelspec": {
   "name": "python",
   "display_name": "Python",
   "language": "python"
  },
  "language_info": {
   "name": "python",
   "codemirror_mode": "python",
   "nbconvert_exporter": "python",
   "pygments_lexer": "python"
  }
 }
}
