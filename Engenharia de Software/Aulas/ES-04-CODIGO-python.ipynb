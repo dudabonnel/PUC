{
 "cells": [
  {
   "cell_type": "code",
   "execution_count": null,
   "metadata": {},
   "outputs": [],
   "source": [
    "# CENÁRIO de implementação de \"f\"\n",
    "f = [1, 4, 9] # implementação de função\n",
    "print (f[0], f[1], f[2])"
   ],
   "id": "759f78ec-6a6c-412e-80d9-c0ae674e4175"
  },
  {
   "cell_type": "code",
   "execution_count": null,
   "metadata": {},
   "outputs": [],
   "source": [
    "# CENÁRIO de uma função em Python\n",
    "# Função matemática: g = {(1, FUBÃ),(2, ESPEC),(3, PROFE)}\n",
    "g = [\"FUBA\", \"ESPEC\", \"PROFE\"] # implementação de função\n",
    "print (g[1])"
   ],
   "id": "5764f552-30eb-4cdc-b640-e0a31c985196"
  },
  {
   "cell_type": "code",
   "execution_count": null,
   "metadata": {},
   "outputs": [],
   "source": [
    "# CENÁRIO de implementação da função lambda \"f\"\n",
    "def f(x) : # declaração de parâmetro\n",
    "  if (1 <= x <= 3) : # predicado\n",
    "    return x*x # expressão que calcula a imagem de \"x\"\n",
    "  \n",
    "  raise ValueError(f\"Inválido x= {x}\")\n",
    "\n",
    "# Chamada do método \"f\"\n",
    "f(3)"
   ],
   "id": "8e56347d-6786-4d9f-870a-a1abb425a962"
  },
  {
   "cell_type": "code",
   "execution_count": null,
   "metadata": {},
   "outputs": [],
   "source": [
    "# CENÁRIO de implementação da função lambda \"f1\"\n",
    "def f1 (x) : # declaração de parâmetro\n",
    "  if (-10.0 <= x <= 10.0) : # predicado\n",
    "    return x*x - 3*x + 2 # expressão que calcula a imagem de \"x\"\n",
    "\n",
    "  raise ValueError(f\"Inválido x= {x}\")\n",
    "\n",
    "# Chamada do método \"f\"\n",
    "print (f1(0), f1(0.5), f1(1.5), f1(2.5), f1(3))"
   ],
   "id": "208ef8ee-e8c7-42b1-8fd0-52c96acd37b0"
  },
  {
   "cell_type": "code",
   "execution_count": null,
   "metadata": {},
   "outputs": [],
   "source": [
    "# CENÁRIO de implementação da fórmula quadrática\n",
    "import math\n",
    "def h(a, b, c) : # declaração\n",
    "  if (a != 0) : # predicado\n",
    "    delta = b*b - 4*a*c;\n",
    "    if (delta > 0) : # predicado\n",
    "      x1 = (-b + math.sqrt(delta)) / (2*a)\n",
    "      x2 = (-b - math.sqrt(delta)) / (2*a)\n",
    "      return [x1, x2] # expressão\n",
    "\n",
    "    raise ValueError (\"Sem soluções reais!\")\n",
    "  raise ValueError (\"'a' não pode ser zero!\")"
   ],
   "id": "f6ce6a9f-03f3-4d54-bad9-1575a36af257"
  },
  {
   "cell_type": "code",
   "execution_count": null,
   "metadata": {},
   "outputs": [],
   "source": [
    "# CENÁRIO de aplicação de função\n",
    "x = h(1,-3,2)\n",
    "print (x[0], x[1])"
   ],
   "id": "0b284bc3-6e1a-4061-99a1-d77d97fb9409"
  },
  {
   "cell_type": "code",
   "execution_count": null,
   "metadata": {},
   "outputs": [],
   "source": [
    "# CENÁRIO de implementação de Newton-Raphson\n",
    "# Raiz quadrada de 'n' com precisão 'EPS'\n",
    "n   = 2.0\n",
    "EPS = 0.001\n",
    "r   = n\n",
    "# o predicado inicial \"início\" é verdadeiro\n",
    "while (abs(r - n/r) > r * EPS) :\n",
    "  r = (r + n/r) / 2.0\n",
    "  print (abs(r - n/r))\n",
    "  # a ação \"passo\" é verdadeira\n",
    "# a ação \"passo\" é verdadeira\n",
    "print (n , EPS , f\"{r:.3f}\" )"
   ],
   "id": "9888840b-f278-4ba7-b375-c6b417b200e0"
  },
  {
   "cell_type": "code",
   "execution_count": null,
   "metadata": {},
   "outputs": [],
   "source": [
    "# CENÁRIO de implementação das coordenadas dos navios\n",
    "coords = { \"N1\" : (1, 1), \"N2\" : (2, 2), \"N3\" : (3, 3), \n",
    "          \"N4\" : (4, 4), \"N5\" : (5, 5) }"
   ],
   "id": "bf0c1ebb-698a-422c-aa4d-024dff92b7f1"
  },
  {
   "cell_type": "code",
   "execution_count": null,
   "metadata": {},
   "outputs": [],
   "source": [
    "# CENÁRIO de aplicação da função \"coord\"\n",
    "coords[\"N1\"] == (1, 1)"
   ],
   "id": "cb9d8d03-4769-429f-9ae5-91c23f318f5f"
  },
  {
   "cell_type": "code",
   "execution_count": null,
   "metadata": {},
   "outputs": [],
   "source": [
    "# CENÁRIO da contagem de navios em uma coordenada X\n",
    "# VARIÁVEIS de estado\n",
    "Navios = {'N1', 'N2', 'N3', 'N4', 'N5'}\n",
    "coords  = {\"N1\" : (1, 1), \"N2\" : (2, 2), \"N3\" : (3, 3), \n",
    "          \"N4\" : (4, 4), \"N5\" : (5, 5)}\n",
    "# Função de cálculo da dica\n",
    "def dica (x) :\n",
    "  k = []\n",
    "  for n in Navios :\n",
    "    (xn, yn) = coords[n]\n",
    "    if x == xn :\n",
    "      k.append (coords[n])\n",
    "  return len(k)\n",
    "# Dica de quantos navios encontram-se na coordenada \"x=1\"\n",
    "dica (1)"
   ],
   "id": "051a840b-6606-4ebf-b8f0-c9a127ee8d28"
  }
 ],
 "nbformat": 4,
 "nbformat_minor": 5,
 "metadata": {
  "kernelspec": {
   "name": "python",
   "display_name": "Python",
   "language": "python"
  },
  "language_info": {
   "name": "python",
   "codemirror_mode": "python",
   "nbconvert_exporter": "python",
   "pygments_lexer": "python"
  }
 }
}
