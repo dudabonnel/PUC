{
 "cells": [
  {
   "cell_type": "code",
   "execution_count": null,
   "metadata": {},
   "outputs": [],
   "source": [
    "# CENÁRIO de declaração de variável e atribuição de valor\n",
    "a = 5"
   ],
   "id": "ef7247e4-86a1-4bb2-bbde-d3b9dc97a347"
  },
  {
   "cell_type": "code",
   "execution_count": null,
   "metadata": {},
   "outputs": [],
   "source": [
    "# CENÁRIO de declaração do nome 'a' e atribuição de valor à variável\n",
    "a = 5\n",
    "# início\n",
    "assert (a == 5)"
   ],
   "id": "ba6b6178-9143-4434-b4c6-5c5a28f2aa24"
  },
  {
   "cell_type": "code",
   "execution_count": null,
   "metadata": {},
   "outputs": [],
   "source": [
    "# CENÁRIO com uma expressão inválida\n",
    "(3 == 3 and 3 = 3)"
   ],
   "id": "d49a88d1-00c7-4f81-b371-434f89a5fe3b"
  },
  {
   "cell_type": "code",
   "execution_count": null,
   "metadata": {},
   "outputs": [],
   "source": [
    "# CENÁRIO de declaração de variáveis e atribuição de valores\n",
    "a = 5\n",
    "b = 3\n",
    "# início\n",
    "assert (a == 5 and b == 3)"
   ],
   "id": "f36a487c-f182-4ab8-9e8e-388c8bc8d8d8"
  },
  {
   "cell_type": "code",
   "execution_count": null,
   "metadata": {},
   "outputs": [],
   "source": [
    "# CENÁRIO de troca de valores entre 'a' e 'b' (absurdo lógico)\n",
    "a = 5\n",
    "b = 3\n",
    "# início\n",
    "a = b\n",
    "b = a\n",
    "# troca\n",
    "assert (a == 3 and b == 5)"
   ],
   "id": "0886fed2-036a-4e64-a01d-23a59039c932"
  },
  {
   "cell_type": "code",
   "execution_count": null,
   "metadata": {},
   "outputs": [],
   "source": [
    "# CENÁRIO de troca de valores entre 'a' e 'b'\n",
    "a = 5\n",
    "b = 3\n",
    "# início\n",
    "t = a\n",
    "a = b\n",
    "b = t\n",
    "# troca2\n",
    "assert (a == 3 and b == 5 and t == 5)"
   ],
   "id": "e13d3682-20fd-42b1-89b5-e130566ed750"
  }
 ],
 "nbformat": 4,
 "nbformat_minor": 5,
 "metadata": {
  "kernelspec": {
   "name": "python",
   "display_name": "Python",
   "language": "python"
  },
  "language_info": {
   "name": "python",
   "codemirror_mode": "python",
   "nbconvert_exporter": "python",
   "pygments_lexer": "python"
  }
 }
}
