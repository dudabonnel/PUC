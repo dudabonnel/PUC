{
  "nbformat": 4,
  "nbformat_minor": 0,
  "metadata": {
    "kernelspec": {
      "display_name": "Python 3",
      "language": "python",
      "name": "python3"
    },
    "language_info": {
      "codemirror_mode": {
        "name": "ipython",
        "version": 3
      },
      "file_extension": ".py",
      "mimetype": "text/x-python",
      "name": "python",
      "nbconvert_exporter": "python",
      "pygments_lexer": "ipython3",
      "version": "3.8.5"
    },
    "colab": {
      "name": "Lucas Lopes Amorim - prova-P2.ipynb",
      "provenance": []
    }
  },
  "cells": [
    {
      "cell_type": "markdown",
      "metadata": {
        "id": "_5nHwJNThUFr"
      },
      "source": [
        "# Prova P2 | 2021"
      ]
    },
    {
      "cell_type": "markdown",
      "metadata": {
        "id": "I5NE1zhShUFs"
      },
      "source": [
        "### PUC-SP | Ciência de Dados e Inteligência Artificial | Algoritmos e Programação"
      ]
    },
    {
      "cell_type": "markdown",
      "metadata": {
        "id": "9Xv0QsTHhUFt"
      },
      "source": [
        "Em toda a prova, utilize suas próprias palavras. Utilize somente o conhecimento apresentado durante o curso. Prova individual, com consulta."
      ]
    },
    {
      "cell_type": "markdown",
      "metadata": {
        "id": "uHp2HRqlhUFv"
      },
      "source": [
        "-------\n",
        "\n",
        "RA: RA00303799\n",
        "\n",
        "\n",
        "Nome: Lucas Lopes Amorim\n",
        "\n",
        "-----"
      ]
    },
    {
      "cell_type": "markdown",
      "metadata": {
        "id": "UoMy0318hUFw"
      },
      "source": [
        "**1)** [2,0] Explique **com suas palavras**."
      ]
    },
    {
      "cell_type": "markdown",
      "metadata": {
        "id": "6w9qDw0khUFw"
      },
      "source": [
        "a) A diferença entre declaração e chamada de função."
      ]
    },
    {
      "cell_type": "markdown",
      "metadata": {
        "id": "pI1F11GEhUFx"
      },
      "source": [
        "Quando você declara uma função você define ela com todo o código que a segue. Quando o interpretador lê uma função declarada ele armazena na memória o \"processo\" dessa função. Quando você chama uma função, você dá a ela argumentos. Quando o interpretador lê uma chamada de função ele busca a função armazenada na memória e executa o \"processo\" da função com os argumentos dados na chamada."
      ]
    },
    {
      "cell_type": "markdown",
      "metadata": {
        "id": "loQ7LxbfhUFy"
      },
      "source": [
        "b) Parâmetros e argumentos."
      ]
    },
    {
      "cell_type": "markdown",
      "metadata": {
        "id": "hXwbBDqQhUFz"
      },
      "source": [
        "Parâmetros são as variáveis listadas entre parentêsis quando a função é definida. Argumentos são os valores que são enviados para uma função quando ela é chamada."
      ]
    },
    {
      "cell_type": "markdown",
      "metadata": {
        "id": "WyS6k-GfhUF0"
      },
      "source": [
        "c) Retorno de função e tipo de retorno de função."
      ]
    },
    {
      "cell_type": "markdown",
      "metadata": {
        "id": "tOgbv0X6hUF0"
      },
      "source": [
        "Retorno da função é tudo aquilo que \"sai\" da função depois dela ser executada. Em geral, é o que vem acompanhado do `return` ou se a função não tiver `return` o `None`. O tipo de retorno da função é o `type` do que a função retorna; a classe ou subclasse que o que é retornado pela função pertence. Pode ser um built-in type, como `str`, `list`, `tuple`, `dict`, ou mesmo um tipo de uma classe criada no código ou o tipo proveniente de uma biblioteca ou módulo externo."
      ]
    },
    {
      "cell_type": "markdown",
      "metadata": {
        "id": "prjmrIlZhUF1"
      },
      "source": [
        "-----"
      ]
    },
    {
      "cell_type": "markdown",
      "metadata": {
        "id": "cnWGfcQdhUF1"
      },
      "source": [
        "**2)** [4,0] Implemente **sem usar bibliotecas externas**."
      ]
    },
    {
      "cell_type": "markdown",
      "metadata": {
        "id": "EHnL6ZQUhUF2"
      },
      "source": [
        "a) Uma função que **retorne** o maior valor entre dois parâmetros."
      ]
    },
    {
      "cell_type": "code",
      "metadata": {
        "id": "LYsu5huBhUF2"
      },
      "source": [
        "def maior2(a, b):\n",
        "    #Se a é o maior, retorna a\n",
        "    if a > b:\n",
        "      return a\n",
        "    #Se não, retona b, pois se a não foi maior ou b é maior ou a == b e tanto faz quem retornar\n",
        "    else:\n",
        "      return b"
      ],
      "execution_count": null,
      "outputs": []
    },
    {
      "cell_type": "markdown",
      "metadata": {
        "id": "7utK-9PphUF2"
      },
      "source": [
        "b) Utilizando **apenas** a função `maior2()` criada no item (a), implemente a função de forma que **retorne** o maior entre três parâmetros."
      ]
    },
    {
      "cell_type": "code",
      "metadata": {
        "id": "3S02VtprhUF3"
      },
      "source": [
        "def maior3(a, b, c):\n",
        "    #retorna o maior entre os dois primeiros argumentos\n",
        "    temp = maior2(a, b)\n",
        "    #retorna o maior entre o maior dos dois primeiros argumentos(temp) e o terceiro argumento\n",
        "    return maior2(temp, c)"
      ],
      "execution_count": null,
      "outputs": []
    },
    {
      "cell_type": "markdown",
      "metadata": {
        "id": "ASuNMPaxhUF3"
      },
      "source": [
        "c) Utilizando **apenas** a função `maior2()` criada no item (a), implemente a função de forma que **retorne** o maior na lista.\n",
        "\n",
        "> *Dica: use estruturas de repetição*"
      ]
    },
    {
      "cell_type": "code",
      "metadata": {
        "id": "Mo8sLtfBhUF3"
      },
      "source": [
        "def maior(nums):\n",
        "    \"\"\"\n",
        "    nums: uma lista de números. Ex: [1,2,3,4,5,6]\n",
        "    não utilize funções como a List.max() para determinar o maior elemento\n",
        "    \"\"\"\n",
        "    #Para retornar o maior elemento de uma lista, utilizei uma lógica que utiliza-se de um for loop e pede que eu\n",
        "    #iniciei uma variável fora do loop para comparar com os elememtos do da lista nums. A convenção pede para que\n",
        "    #iniciemos variáveis com elementos neutros, como o 0 na soma e o 1 na multiplicação, mas nesse caso nenhum dos\n",
        "    #dois convém. Se eu iniciasse essa variável com 0, por exemplo e a lista fosse toda negativa ela seria retornada\n",
        "    #como maior número mesmo não estando na lista. Logo, iniciei a variável com o primeiro número da lista\n",
        "    maior = nums[0]\n",
        "    for e in nums[1:]:\n",
        "      maior = maior2(maior, e)\n",
        "    return maior"
      ],
      "execution_count": null,
      "outputs": []
    },
    {
      "cell_type": "markdown",
      "metadata": {
        "id": "61rS-PZ-hUF4"
      },
      "source": [
        "----"
      ]
    },
    {
      "cell_type": "markdown",
      "metadata": {
        "id": "Y4MjgCuXhUF4"
      },
      "source": [
        "Considere o dataset a seguir, que foi extraído das mensagens no Twitter para companhias aéreas."
      ]
    },
    {
      "cell_type": "markdown",
      "metadata": {
        "id": "hQ01e0KihUF4"
      },
      "source": [
        "**Descrição do dataset**\n",
        "\n",
        "- *tweet*: O tweet de um usuário para uma companhia aérea"
      ]
    },
    {
      "cell_type": "markdown",
      "metadata": {
        "id": "wiSSSCbnhUF4"
      },
      "source": [
        "**Dataset**"
      ]
    },
    {
      "cell_type": "code",
      "metadata": {
        "colab": {
          "base_uri": "https://localhost:8080/"
        },
        "id": "2x_UzWx7hUF5",
        "outputId": "ed40e048-4056-47a3-c359-8f4b9a5d0076"
      },
      "source": [
        "dataset = [\"@VirginAmerica Estou tendo problemas para adicionar este voo que minha esposa reservou na minha conta Elevate. Ajuda????? http://t.co/pX8hQOKS3R\", \"@VirginAmerica eu preciso mudar meu vôo que está programado em 09 horas e tempo de espera de 0120 minutos no telefone. \\n\\n\\n Estou ligando para estagiário. Ajuda!!!\", \"@united Preciso registrar um cão-guia para uma passagem de primeira classe da SFO & gt; Dulles. A fila de espera do telefone é de uma hora ou mais. \\n\\n\\n Por favor, avise http://t.co/pX9hRORS2S\", \"@gol Como faço para reagendar meus voos cancelados online? O botão de alteração está esmaecido!\", \"@VirginAmerica Liguei, mas há uma espera de 035 minutos !! Posso reservar o mesmo ingresso através de um vendedor,,, consertar seu site\", \"@VirginAmerica você é horrível. Voo cancelado de PSP para JFK e sem notificação ou possibilidade de remarcar #disappointed... #esperavamais\", \"@VirginAmerica por que voos de voos cancelados hoje? Nenhuma precipitação para ter medo!\", \"@united A seção Problemas de reserva de voo do seu site parece estar corrompida no Chrome. Poderiam dar uma olhada nisso.\", \"@VirginAmerica sério. não haverá voos diretos de SFO-FLL em maio ???\", \"@united no vôo VX399 partindo do JFK para LA - o avião VA mais sujo em que já estive. Triste para uma grande companhia aérea.\"]\n",
        "dataset"
      ],
      "execution_count": 12,
      "outputs": [
        {
          "output_type": "execute_result",
          "data": {
            "text/plain": [
              "['@VirginAmerica Estou tendo problemas para adicionar este voo que minha esposa reservou na minha conta Elevate. Ajuda????? http://t.co/pX8hQOKS3R',\n",
              " '@VirginAmerica eu preciso mudar meu vôo que está programado em 09 horas e tempo de espera de 0120 minutos no telefone. \\n\\n\\n Estou ligando para estagiário. Ajuda!!!',\n",
              " '@united Preciso registrar um cão-guia para uma passagem de primeira classe da SFO & gt; Dulles. A fila de espera do telefone é de uma hora ou mais. \\n\\n\\n Por favor, avise http://t.co/pX9hRORS2S',\n",
              " '@gol Como faço para reagendar meus voos cancelados online? O botão de alteração está esmaecido!',\n",
              " '@VirginAmerica Liguei, mas há uma espera de 035 minutos !! Posso reservar o mesmo ingresso através de um vendedor,,, consertar seu site',\n",
              " '@VirginAmerica você é horrível. Voo cancelado de PSP para JFK e sem notificação ou possibilidade de remarcar #disappointed... #esperavamais',\n",
              " '@VirginAmerica por que voos de voos cancelados hoje? Nenhuma precipitação para ter medo!',\n",
              " '@united A seção Problemas de reserva de voo do seu site parece estar corrompida no Chrome. Poderiam dar uma olhada nisso.',\n",
              " '@VirginAmerica sério. não haverá voos diretos de SFO-FLL em maio ???',\n",
              " '@united no vôo VX399 partindo do JFK para LA - o avião VA mais sujo em que já estive. Triste para uma grande companhia aérea.']"
            ]
          },
          "metadata": {
            "tags": []
          },
          "execution_count": 12
        }
      ]
    },
    {
      "cell_type": "markdown",
      "metadata": {
        "id": "mz0mtoRwhUF6"
      },
      "source": [
        "-----"
      ]
    },
    {
      "cell_type": "markdown",
      "metadata": {
        "id": "ph6-CN15hUF6"
      },
      "source": [
        "**3)** [4,0] Nesta questão, você deverá tratar este dataset utilizando expressões regulares no Python. (Não utilize frameworks para resolver a questão)"
      ]
    },
    {
      "cell_type": "markdown",
      "metadata": {
        "id": "uWucsobihUF6"
      },
      "source": [
        "- Remover os links no formato: `http://t.co/AAAAAAAAAA`, em que `A` representa um caractere alfa-numérico\n",
        "\n",
        "- Remover menções a usuários no Twitter: Ex: (`@VirginAmerica`, `@united` etc)\n",
        "\n",
        "- Remover todas as hashtags Ex: (`#disappointed`)\n",
        "\n",
        "- Substituir repetições de sinais de pontuação por uma única ocorrência. Ex: de `,,,` para `,`; de `!!` para `!`; de `??????` para `?`.\n",
        "\n",
        "- Substitua todos os espaços duplos, triplos... por um único espaço."
      ]
    },
    {
      "cell_type": "markdown",
      "metadata": {
        "id": "Cy5lCmMphUF7"
      },
      "source": [
        "Ao final, seu código salvar os tratamentos na lista `tweets`."
      ]
    },
    {
      "cell_type": "code",
      "metadata": {
        "colab": {
          "base_uri": "https://localhost:8080/"
        },
        "id": "D2_5aJ7ahUF7",
        "outputId": "aee8983e-5a79-4a47-c890-61fb6059f1d8"
      },
      "source": [
        "import re\n",
        " \n",
        "tweets = []\n",
        " \n",
        "def tratar(tweet):\n",
        "    \"\"\"\n",
        "    tweet: representa um tweet do dataset\n",
        "    Retorna o tweet tratado\n",
        "    \"\"\"\n",
        "    # Removendo links de tweets\n",
        "    tweet = re.sub(\"http://t.co/\\w+\", \"\", tweet)\n",
        "    # Removendo menções a usuários\n",
        "    tweet = re.sub(\"@\\w+\", \"\", tweet)\n",
        "    # Removendo hashtags\n",
        "    tweet = re.sub(\"#\\w+\", \"\", tweet)\n",
        "    # Substituindo sinais de pontuação com várias recorrências por uma única\n",
        "    # Peguei essa lista de sinais de pontuação da internet e tive que escapar alguns\n",
        "    #como o \"-\",\"]\", \"\\\" e o \"[\".\n",
        "    tweet = re.sub(\"\"\"([?!\"#$%&\\'()*+,\\-./:;<=>?@\\[\\\\]^_`{|}~])\\\\1+\"\"\", \"\\\\1\", tweet)\n",
        "    # Extra: Como a boa prática pede, tirando o espaço antes da pontuação\n",
        "    tweet = re.sub(r\"[ ]+([:;,.!?])\", r\"\\1\", tweet)\n",
        "    # Substituindo múltiplos espaços vazios por um único espaço vazio\n",
        "    tweet = re.sub(\"[ ]+\", \" \", tweet)\n",
        "    # Extra: Excluindo espaços vazios no começo da string\n",
        "    tweet = re.sub(\"^ +\", \"\", tweet)\n",
        "    # Extra: Excluindo espaços vazios no final da string\n",
        "    tweet = re.sub(\" +$\", \"\", tweet)\n",
        "    # Extra: Excluindo os \\n\n",
        "    tweet = re.sub(\"\\n\", \"\", tweet)\n",
        "    return tweet\n",
        " \n",
        " \n",
        "# Utilize a função tratar para tratar cada tweet do dataset. \n",
        "# Armazene o resultado na lista de tweets\n",
        "for t in dataset:\n",
        "  tweets.append(tratar(t))\n",
        "tweets"
      ],
      "execution_count": 15,
      "outputs": [
        {
          "output_type": "execute_result",
          "data": {
            "text/plain": [
              "['Estou tendo problemas para adicionar este voo que minha esposa reservou na minha conta Elevate. Ajuda?',\n",
              " 'eu preciso mudar meu vôo que está programado em 09 horas e tempo de espera de 0120 minutos no telefone.  Estou ligando para estagiário. Ajuda!',\n",
              " 'Preciso registrar um cão-guia para uma passagem de primeira classe da SFO & gt; Dulles. A fila de espera do telefone é de uma hora ou mais.  Por favor, avise',\n",
              " 'Como faço para reagendar meus voos cancelados online? O botão de alteração está esmaecido!',\n",
              " 'Liguei, mas há uma espera de 035 minutos! Posso reservar o mesmo ingresso através de um vendedor, consertar seu site',\n",
              " 'você é horrível. Voo cancelado de PSP para JFK e sem notificação ou possibilidade de remarcar.',\n",
              " 'por que voos de voos cancelados hoje? Nenhuma precipitação para ter medo!',\n",
              " 'A seção Problemas de reserva de voo do seu site parece estar corrompida no Chrome. Poderiam dar uma olhada nisso.',\n",
              " 'sério. não haverá voos diretos de SFO-FLL em maio?',\n",
              " 'no vôo VX399 partindo do JFK para LA - o avião VA mais sujo em que já estive. Triste para uma grande companhia aérea.']"
            ]
          },
          "metadata": {
            "tags": []
          },
          "execution_count": 15
        }
      ]
    }
  ]
}