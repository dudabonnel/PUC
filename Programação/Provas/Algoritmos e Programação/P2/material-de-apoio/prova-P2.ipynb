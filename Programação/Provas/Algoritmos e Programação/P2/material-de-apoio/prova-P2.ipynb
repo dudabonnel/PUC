{
 "cells": [
  {
   "cell_type": "markdown",
   "metadata": {},
   "source": [
    "# Prova P2 | 2021"
   ]
  },
  {
   "cell_type": "markdown",
   "metadata": {},
   "source": [
    "### PUC-SP | Ciência de Dados e Inteligência Artificial | Algoritmos e Programação"
   ]
  },
  {
   "cell_type": "markdown",
   "metadata": {},
   "source": [
    "Em toda a prova, utilize suas próprias palavras. Utilize somente o conhecimento apresentado durante o curso. Prova individual, com consulta."
   ]
  },
  {
   "cell_type": "markdown",
   "metadata": {},
   "source": [
    "-------\n",
    "\n",
    "RA:\n",
    "\n",
    "\n",
    "Nome:\n",
    "\n",
    "-----"
   ]
  },
  {
   "cell_type": "markdown",
   "metadata": {},
   "source": [
    "**1)** [2,0] Explique **com suas palavras**."
   ]
  },
  {
   "cell_type": "markdown",
   "metadata": {},
   "source": [
    "a) A diferença entre declaração e chamada de função."
   ]
  },
  {
   "cell_type": "markdown",
   "metadata": {},
   "source": [
    "*Sua resposta*"
   ]
  },
  {
   "cell_type": "markdown",
   "metadata": {},
   "source": [
    "b) Parâmetros e argumentos."
   ]
  },
  {
   "cell_type": "markdown",
   "metadata": {},
   "source": [
    "*Sua resposta*"
   ]
  },
  {
   "cell_type": "markdown",
   "metadata": {},
   "source": [
    "c) Retorno de função e tipo de retorno de função."
   ]
  },
  {
   "cell_type": "markdown",
   "metadata": {},
   "source": [
    "*Sua resposta aqui*"
   ]
  },
  {
   "cell_type": "markdown",
   "metadata": {},
   "source": [
    "-----"
   ]
  },
  {
   "cell_type": "markdown",
   "metadata": {},
   "source": [
    "**2)** [4,0] Implemente **sem usar bibliotecas externas**."
   ]
  },
  {
   "cell_type": "markdown",
   "metadata": {},
   "source": [
    "a) Uma função que **retorne** o maior valor entre dois parâmetros."
   ]
  },
  {
   "cell_type": "code",
   "execution_count": 5,
   "metadata": {},
   "outputs": [],
   "source": [
    "def maior2(a, b):\n",
    "    # Implemente sua lógica nesta função\n",
    "    pass"
   ]
  },
  {
   "cell_type": "markdown",
   "metadata": {},
   "source": [
    "b) Utilizando **apenas** a função `maior2()` criada no item (a), implemente a função de forma que **retorne** o maior entre três parâmetros."
   ]
  },
  {
   "cell_type": "code",
   "execution_count": null,
   "metadata": {},
   "outputs": [],
   "source": [
    "def maior3(a, b, c):\n",
    "    # Implemente sua lógica nesta função\n",
    "    pass"
   ]
  },
  {
   "cell_type": "markdown",
   "metadata": {},
   "source": [
    "c) Utilizando **apenas** a função `maior2()` criada no item (a), implemente a função de forma que **retorne** o maior na lista.\n",
    "\n",
    "> *Dica: use estruturas de repetição*"
   ]
  },
  {
   "cell_type": "code",
   "execution_count": null,
   "metadata": {},
   "outputs": [],
   "source": [
    "def maior(nums):\n",
    "    \"\"\"\n",
    "    nums: uma lista de números. Ex: [1,2,3,4,5,6]\n",
    "    não utilize funções como a List.max() para determinar o maior elemento\n",
    "    \"\"\"\n",
    "    # Implemente sua lógica nesta função\n",
    "    pass"
   ]
  },
  {
   "cell_type": "markdown",
   "metadata": {},
   "source": [
    "----"
   ]
  },
  {
   "cell_type": "markdown",
   "metadata": {},
   "source": [
    "Considere o dataset a seguir, que foi extraído das mensagens no Twitter para companhias aéreas."
   ]
  },
  {
   "cell_type": "markdown",
   "metadata": {},
   "source": [
    "**Descrição do dataset**\n",
    "\n",
    "- *tweet*: O tweet de um usuário para uma companhia aérea"
   ]
  },
  {
   "cell_type": "markdown",
   "metadata": {},
   "source": [
    "**Dataset**"
   ]
  },
  {
   "cell_type": "code",
   "execution_count": 6,
   "metadata": {},
   "outputs": [
    {
     "data": {
      "text/plain": [
       "['@VirginAmerica Estou tendo problemas para adicionar este voo que minha esposa reservou na minha conta Elevate. Ajuda????? http://t.co/pX8hQOKS3R',\n",
       " '@VirginAmerica eu preciso mudar meu vôo que está programado em 09 horas e tempo de espera de 0120 minutos no telefone. \\n\\n\\n Estou ligando para estagiário. Ajuda!!!',\n",
       " '@united Preciso registrar um cão-guia para uma passagem de primeira classe da SFO & gt; Dulles. A fila de espera do telefone é de uma hora ou mais. \\n\\n\\n Por favor, avise http://t.co/pX9hRORS2S',\n",
       " '@gol Como faço para reagendar meus voos cancelados online? O botão de alteração está esmaecido!',\n",
       " '@VirginAmerica Liguei, mas há uma espera de 035 minutos !! Posso reservar o mesmo ingresso através de um vendedor,,, consertar seu site',\n",
       " '@VirginAmerica você é horrível. Voo cancelado de PSP para JFK e sem notificação ou possibilidade de remarcar #disappointed... #esperavamais',\n",
       " '@VirginAmerica por que voos de voos cancelados hoje? Nenhuma precipitação para ter medo!',\n",
       " '@united A seção Problemas de reserva de voo do seu site parece estar corrompida no Chrome. Poderiam dar uma olhada nisso.',\n",
       " '@VirginAmerica sério. não haverá voos diretos de SFO-FLL em maio ???',\n",
       " '@united no vôo VX399 partindo do JFK para LA - o avião VA mais sujo em que já estive. Triste para uma grande companhia aérea.']"
      ]
     },
     "execution_count": 6,
     "metadata": {},
     "output_type": "execute_result"
    }
   ],
   "source": [
    "dataset = [\"@VirginAmerica Estou tendo problemas para adicionar este voo que minha esposa reservou na minha conta Elevate. Ajuda????? http://t.co/pX8hQOKS3R\", \"@VirginAmerica eu preciso mudar meu vôo que está programado em 09 horas e tempo de espera de 0120 minutos no telefone. \\n\\n\\n Estou ligando para estagiário. Ajuda!!!\", \"@united Preciso registrar um cão-guia para uma passagem de primeira classe da SFO & gt; Dulles. A fila de espera do telefone é de uma hora ou mais. \\n\\n\\n Por favor, avise http://t.co/pX9hRORS2S\", \"@gol Como faço para reagendar meus voos cancelados online? O botão de alteração está esmaecido!\", \"@VirginAmerica Liguei, mas há uma espera de 035 minutos !! Posso reservar o mesmo ingresso através de um vendedor,,, consertar seu site\", \"@VirginAmerica você é horrível. Voo cancelado de PSP para JFK e sem notificação ou possibilidade de remarcar #disappointed... #esperavamais\", \"@VirginAmerica por que voos de voos cancelados hoje? Nenhuma precipitação para ter medo!\", \"@united A seção Problemas de reserva de voo do seu site parece estar corrompida no Chrome. Poderiam dar uma olhada nisso.\", \"@VirginAmerica sério. não haverá voos diretos de SFO-FLL em maio ???\", \"@united no vôo VX399 partindo do JFK para LA - o avião VA mais sujo em que já estive. Triste para uma grande companhia aérea.\"]\n",
    "dataset"
   ]
  },
  {
   "cell_type": "markdown",
   "metadata": {},
   "source": [
    "-----"
   ]
  },
  {
   "cell_type": "markdown",
   "metadata": {},
   "source": [
    "**3)** [4,0] Nesta questão, você deverá tratar este dataset utilizando expressões regulares no Python. (Não utilize frameworks para resolver a questão)"
   ]
  },
  {
   "cell_type": "markdown",
   "metadata": {},
   "source": [
    "- Remover os links no formato: `http://t.co/AAAAAAAAAA`, em que `A` representa um caractere alfa-numérico\n",
    "\n",
    "- Remover menções a usuários no Twitter: Ex: (`@VirginAmerica`, `@united` etc)\n",
    "\n",
    "- Remover todas as hashtags Ex: (`#disappointed`)\n",
    "\n",
    "- Substituir repetições de sinais de pontuação por uma única ocorrência. Ex: de `,,,` para `,`; de `!!` para `!`; de `??????` para `?`.\n",
    "\n",
    "- Substitua todos os espaços duplos, triplos... por um único espaço."
   ]
  },
  {
   "cell_type": "markdown",
   "metadata": {},
   "source": [
    "Ao final, seu código salvar os tratamentos na lista `tweets`."
   ]
  },
  {
   "cell_type": "code",
   "execution_count": 8,
   "metadata": {},
   "outputs": [
    {
     "data": {
      "text/plain": [
       "[]"
      ]
     },
     "execution_count": 8,
     "metadata": {},
     "output_type": "execute_result"
    }
   ],
   "source": [
    "import re\n",
    "\n",
    "tweets = []\n",
    "\n",
    "def tratar(tweet):\n",
    "    \"\"\"\n",
    "    tweet: representa um tweet do dataset\n",
    "    Retorna o tweet tratado\n",
    "    \"\"\"\n",
    "    # Implemente sua lógica aqui\n",
    "    pass\n",
    "\n",
    "# Utilize a função tratar para tratar cada tweet do dataset. \n",
    "# Armazene o resultado na lista de tweets\n",
    "\n",
    "tweets"
   ]
  }
 ],
 "metadata": {
  "kernelspec": {
   "display_name": "Python 3",
   "language": "python",
   "name": "python3"
  },
  "language_info": {
   "codemirror_mode": {
    "name": "ipython",
    "version": 3
   },
   "file_extension": ".py",
   "mimetype": "text/x-python",
   "name": "python",
   "nbconvert_exporter": "python",
   "pygments_lexer": "ipython3",
   "version": "3.8.5"
  }
 },
 "nbformat": 4,
 "nbformat_minor": 4
}
