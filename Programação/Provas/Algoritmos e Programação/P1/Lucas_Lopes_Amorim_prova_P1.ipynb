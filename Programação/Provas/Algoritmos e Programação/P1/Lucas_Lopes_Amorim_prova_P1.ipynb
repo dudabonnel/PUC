{
  "nbformat": 4,
  "nbformat_minor": 0,
  "metadata": {
    "kernelspec": {
      "display_name": "Python 3",
      "language": "python",
      "name": "python3"
    },
    "language_info": {
      "codemirror_mode": {
        "name": "ipython",
        "version": 3
      },
      "file_extension": ".py",
      "mimetype": "text/x-python",
      "name": "python",
      "nbconvert_exporter": "python",
      "pygments_lexer": "ipython3",
      "version": "3.8.5"
    },
    "colab": {
      "name": "Lucas Lopes Amorim - prova-P1.ipynb",
      "provenance": []
    }
  },
  "cells": [
    {
      "cell_type": "markdown",
      "metadata": {
        "id": "IIsOgCqSVBCJ"
      },
      "source": [
        "# Prova P1 | 2021"
      ]
    },
    {
      "cell_type": "markdown",
      "metadata": {
        "id": "MdAGb92gVBCL"
      },
      "source": [
        "### PUC-SP | Ciência de Dados e Inteligência Artificial | Algoritmos e Programação"
      ]
    },
    {
      "cell_type": "markdown",
      "metadata": {
        "id": "R4GbQtmUVBCM"
      },
      "source": [
        "Em toda a prova, utilize suas próprias palavras. Prova individual, com consulta."
      ]
    },
    {
      "cell_type": "markdown",
      "metadata": {
        "id": "ga14mlUUVBCM"
      },
      "source": [
        "-------\n",
        "\n",
        "RA: RA00303799\n",
        "\n",
        "\n",
        "Nome: Lucas Lopes Amorim\n",
        "\n",
        "-----"
      ]
    },
    {
      "cell_type": "markdown",
      "metadata": {
        "id": "nTpLnWMTVBCN"
      },
      "source": [
        "**01)** Explique qual a relação entre variáveis e tipos de dados primitivos. Quais são os tipos de dados primitivos em Python? Explique cada um deles."
      ]
    },
    {
      "cell_type": "markdown",
      "metadata": {
        "id": "KRKfvcVNVBCO"
      },
      "source": [
        "Atribuindo variáveis aos tipos primitivos podemos podemos traduzir uma série de questões do mundo real para a linguagem de programação - eles são essenciais pra isso. A atribuição de variáveis aos tipos primitivos é a base de toda linguagem de programação. \n",
        "\n",
        "Os tipos primitos do python são quatro:\n",
        "*   int: é o tipo de um número inteiro\n",
        "*   float: é o tipo de um número decimal\n",
        "*   str: é o tipo de um conjunto de caracteres entre aspas\n",
        "*   bool: representa uma condição; True(Verdadeiro) ou False(Falso)\n",
        "\n",
        "Fontes:\n",
        "\n",
        "https://www.datacamp.com/community/tutorials/data-structures-python\n",
        "\n",
        "https://docs.python.org/3/library/stdtypes.html\n"
      ]
    },
    {
      "cell_type": "markdown",
      "metadata": {
        "id": "sgi2FfLJVBCO"
      },
      "source": [
        "**02)** A série de Fettuccine pode ser descrita como similar à de Fibonacci. A relação de recorrência para seus elementos é dada a seguir.\n",
        "\n",
        "$Fet_{n} = Fet_{n-3} * Fet_{n-2} * Fet_{n-1}$, para $n \\geq 3$\n",
        "\n",
        "$Fet_{0} = 1$\n",
        "\n",
        "$Fet_{1} = 1$ \n",
        "\n",
        "$Fet_{2} = 2$\n",
        "\n",
        "Escreva um programa para calcular $Fet_{n}$."
      ]
    },
    {
      "cell_type": "code",
      "metadata": {
        "colab": {
          "base_uri": "https://localhost:8080/"
        },
        "id": "KuWBvkM6VBCP",
        "outputId": "797ef624-46ed-4bca-8fb0-aa66a892dccd"
      },
      "source": [
        "# Seu código aqui\n",
        "n = 10\n",
        "#aqui eu defino os 3 primeiros números da sequência\n",
        "y0 = 1\n",
        "y1 = 1\n",
        "y2 = 2\n",
        "for _ in range(n-2):\n",
        "  y = y0 * y1 * y2 #conforme a relação de recorrência\n",
        "  #agora eu avanço uma casa na minha mini-sequência\n",
        "  y0 = y1\n",
        "  y1 = y2\n",
        "  y2 = y\n",
        "print(y)"
      ],
      "execution_count": 41,
      "outputs": [
        {
          "output_type": "stream",
          "text": [
            "2417851639229258349412352\n"
          ],
          "name": "stdout"
        }
      ]
    },
    {
      "cell_type": "markdown",
      "metadata": {
        "id": "COmE6q8rVBCP"
      },
      "source": [
        "**03)** Escreva um programa que some todos os divisores de um número $n$ (excluindo ele mesmo), que deve ser informado pelo usuário."
      ]
    },
    {
      "cell_type": "code",
      "metadata": {
        "colab": {
          "base_uri": "https://localhost:8080/"
        },
        "id": "t74SSICqVBCQ",
        "outputId": "0a6f8d06-5197-4757-b552-e66fc738de0c"
      },
      "source": [
        "# Seu código aqui\n",
        "n = 10\n",
        "soma = 0 #iniciando a variável fora do looop\n",
        "for div in range(1, n): #dessa forma div vai ser igualado a todos os números de 1 a n-1\n",
        "  if n%div == 0: #para cada um dos números de div, verifica se eles são divisores de n, ou seja, verifica se a divisão de n por div tem resto 0\n",
        "    soma += div #se essa condição se satisfazer, logo div é divisor de n e então eu somo div com a variável soma e atualizo a variável\n",
        "print(soma)"
      ],
      "execution_count": 42,
      "outputs": [
        {
          "output_type": "stream",
          "text": [
            "8\n"
          ],
          "name": "stdout"
        }
      ]
    },
    {
      "cell_type": "markdown",
      "metadata": {
        "id": "NG88EQJCVBCQ"
      },
      "source": [
        "**04)** Em muitas situações é útil criar um dataset com dados aleatórios para fins de validação de prova de conceito. Durante o curso, criamos dois datasets assim. Na lista preparatória para esta prova, o código implementado na função `obter_dados_pesq_campo(n_livros)` cria uma lista `livros`, que por sua vez contém listas com alguns atributos relacionados à produção de livros. Naquela questão, cada livro é descrito pela lista: `[n_identificação_livro, n_vendas_prováveis, custo_fixo, n_páginas]`. Diz-se que cada uma destas listas é uma instância deste dataset. Python implementa o conceito de matrizes com listas contendo outras listas. Um outro caso refere-se à lista de pesos de jogadores de futebol (semana 06). Neste caso, uma lista unidimensional é suficiente, mas cada peso de jogador foi gerado aleatoriamente. \n",
        "\n",
        "Nesta questão, você deverá gerar um dataset com dados aleatórios. Faz parte da sua tarefa criar um contexto de uso, assim como feito com o dataset do custo de produção de livros ou dos pesos dos jogadores. Qualquer contexto é válido e exemplos incluem o hospitalar, financeiro, políticas públicas, educacional etc. Embora os dados seja aleatórios, os intervalos devem ser realistas, tanto quanto possível. Por exemplo, idades devem ser compatíveis com idades dos seres humanos bem como pesos e alturas. Salários como R$ 0,56 por mês não fazem sentido, e seu dataset deve evitar ao máximo estas ocorrências.\n",
        "\n",
        "Você pode utilizar as bibliotecas como `random` e a `numpy.random.normal(média, desvio_padrão, 1)`, mas você só pode gerar um único valor por vez, muito embora estas bibliotecas ofereçam alternativas para se criar distribuições com um único comando. Assim como acontece no dataset do custo de produção de livros, cada instância do seu dataset deve conter ao menos 4 atributos (valores).\n",
        "\n",
        "`[id da instância, valor 1, valor 2, valor 3, ..., valor n]`\n",
        "\n",
        "Ao final, espera-se o dataset que você criou. Leia a próxima questão antes de começar a trabalhar nesta."
      ]
    },
    {
      "cell_type": "markdown",
      "metadata": {
        "id": "n_p_JgqwVBCR"
      },
      "source": [
        "**Contexto**\n",
        "\n",
        "Decidi criar um dataset com algumas estatísticas de equipes de futebol, inspirada  nas estatísticas do Brasileirão.\n",
        "\n",
        "**Descrição do dataset**\n",
        "\n",
        "- `id`: identificação da <instância-x>\n",
        "\n",
        "- `vitórias`: atributo $1$ da <instância-x>\n",
        "\n",
        "- `empates`: atributo $2$ da <instância-x>\n",
        "\n",
        "- `derrotas`: atributo $3$ da <instância-x>\n",
        "\n",
        "- `pontos`: atributo $4$ da <instância-x>"
      ]
    },
    {
      "cell_type": "code",
      "metadata": {
        "id": "Nt3MJIOHVBCR"
      },
      "source": [
        "import random\n",
        "\"\"\"\n",
        "  Vou criar uma lista contendo estatísticas\n",
        "  aleatórias para 20 equipes de futebol.\n",
        "\n",
        "  A lista contém um id e 4 variáveis para cada time, conforme a ilustração: \n",
        "      \n",
        "  [[id_time, vitórias, empates, derrotas, pontos], [id_time, vitórias, empates, derrotas, pontos]...]\n",
        "  \n",
        "  A lista contendo as estatísticas das 20 equipes será atribuída a uma variável chamada times\n",
        "  \n",
        "  limitações: número de jogos tem que ser fixo; decidi que o id também deveria ser igual a posição dos\n",
        "              times na tabela, o número de pontos tem que ser calculado por uma fórmula\n",
        "\"\"\"\n",
        "times = [] #iniciando a variável\n",
        "\n",
        "for _ in range(20): #criando um loop for porque sei que o loop tem que rodar 20 vezes\n",
        "\n",
        "    #iniciando mais variáveis\n",
        "    vitorias = 0 \n",
        "    empates = 0\n",
        "    derrotas = 0\n",
        "    while vitorias + empates + derrotas != 38: #Um jeito definitivamente não computacionalmente eficiente\n",
        "        vitorias = random.randrange(3, 28)     #mas é o único jeito que pensei para assegurar que \n",
        "        derrotas = random.randrange(4, 25)     #haveriam 38 rodados assim como no brasileirão.\n",
        "        empates = random.randrange(6, 18)      #Para que isso ocorra, a soma das variáveis geradas tem que dar 38.\n",
        "\n",
        "    pontos = (3 * vitorias) + empates #os pontos são calculados pela fórmula\n",
        "\n",
        "    times.append([vitorias, empates, derrotas , pontos]) #gerado os dados de um time, vamos add uma lista deles na lista global\n",
        "\n",
        "times = sorted(times, key=lambda x:x[3], reverse=True) #já fora do loop, ordenando as listas de times pela pontuação dos times\n",
        "\n",
        "#A partir de agora eu atribuo o id a cada um dos times\n",
        "#Decidi atribuir o id separadamente porque queria ordenar a lista primeiro\n",
        "#e para que o id representasse também a posição dos times na tabela de acordo com os pontos\n",
        "\n",
        "index = 1  #iniciando a variável\n",
        "for t in times: #pra cada lista dentro da lista global\n",
        "    t.insert(0, index) #inserir na posição 0 o variável index\n",
        "    index += 1 #atualizando a variável"
      ],
      "execution_count": 3,
      "outputs": []
    },
    {
      "cell_type": "code",
      "metadata": {
        "colab": {
          "base_uri": "https://localhost:8080/"
        },
        "id": "GkL5R7-IwMG0",
        "outputId": "55942ec0-d629-4e75-ef15-a4cde9714504"
      },
      "source": [
        "times"
      ],
      "execution_count": 4,
      "outputs": [
        {
          "output_type": "execute_result",
          "data": {
            "text/plain": [
              "[[1, 23, 10, 5, 79],\n",
              " [2, 22, 11, 5, 77],\n",
              " [3, 20, 8, 10, 68],\n",
              " [4, 17, 14, 7, 65],\n",
              " [5, 17, 12, 9, 63],\n",
              " [6, 16, 12, 10, 60],\n",
              " [7, 14, 15, 9, 57],\n",
              " [8, 14, 11, 13, 53],\n",
              " [9, 12, 16, 10, 52],\n",
              " [10, 12, 10, 16, 46],\n",
              " [11, 10, 13, 15, 43],\n",
              " [12, 10, 13, 15, 43],\n",
              " [13, 8, 15, 15, 39],\n",
              " [14, 7, 14, 17, 35],\n",
              " [15, 6, 17, 15, 35],\n",
              " [16, 9, 6, 23, 33],\n",
              " [17, 7, 12, 19, 33],\n",
              " [18, 7, 10, 21, 31],\n",
              " [19, 4, 14, 20, 26],\n",
              " [20, 3, 11, 24, 20]]"
            ]
          },
          "metadata": {
            "tags": []
          },
          "execution_count": 4
        }
      ]
    },
    {
      "cell_type": "markdown",
      "metadata": {
        "id": "ymW-9L1cVBCS"
      },
      "source": [
        "**05)** Utilizando o laço `while` e o método `pop()`, que está disponível para as listas, remova todas as identificações das instâncias do dataset que você criou. Por exemplo, um dataset possível de custos de produção de livros de tamanho 5 poderia ser:\n",
        "\n",
        "```\n",
        "[[1, 98296, 458.41, 266],\n",
        " [2, 89354, 9264.77, 297],\n",
        " [3, 44216, 6418.27, 752],\n",
        " [4, 63999, 6195.78, 727],\n",
        " [5, 78403, 3152.79, 347]]\n",
        "```\n",
        "em que os valores de 1 a 5 da primeira coluna representam as identificações das instâncias (livros, neste caso). Ao final da remoção, o dataset deveria ficar como a seguir:\n",
        "\n",
        "```\n",
        "[[98296, 458.41, 266],\n",
        " [89354, 9264.77, 297],\n",
        " [44216, 6418.27, 752],\n",
        " [63999, 6195.78, 727],\n",
        " [78403, 3152.79, 347]]\n",
        "```"
      ]
    },
    {
      "cell_type": "code",
      "metadata": {
        "id": "dH1LNg0sVBCS"
      },
      "source": [
        "# Nesse caso eu defini a variável index para ser cada um dos números de 0 até 19 (20 números porque são 20 times)\n",
        "#Essa variável vai ser usada pra direcionar o pop a cada uma das listas dentro de times.\n",
        "\n",
        "index = 0 #iniciando a variável index\n",
        "\n",
        "while index < len(times): #enquanto o index for menor que o comprimento da lista times\n",
        "  times[index].pop(0) #remova o primeiro elemento(nesse caso o id)\n",
        "  index += 1 #atualize a variável"
      ],
      "execution_count": 5,
      "outputs": []
    },
    {
      "cell_type": "code",
      "metadata": {
        "colab": {
          "base_uri": "https://localhost:8080/"
        },
        "id": "rBsKmlJWvbbT",
        "outputId": "59599ace-ffdd-4c7a-f2bd-4173eb1dc20a"
      },
      "source": [
        "times"
      ],
      "execution_count": 6,
      "outputs": [
        {
          "output_type": "execute_result",
          "data": {
            "text/plain": [
              "[[23, 10, 5, 79],\n",
              " [22, 11, 5, 77],\n",
              " [20, 8, 10, 68],\n",
              " [17, 14, 7, 65],\n",
              " [17, 12, 9, 63],\n",
              " [16, 12, 10, 60],\n",
              " [14, 15, 9, 57],\n",
              " [14, 11, 13, 53],\n",
              " [12, 16, 10, 52],\n",
              " [12, 10, 16, 46],\n",
              " [10, 13, 15, 43],\n",
              " [10, 13, 15, 43],\n",
              " [8, 15, 15, 39],\n",
              " [7, 14, 17, 35],\n",
              " [6, 17, 15, 35],\n",
              " [9, 6, 23, 33],\n",
              " [7, 12, 19, 33],\n",
              " [7, 10, 21, 31],\n",
              " [4, 14, 20, 26],\n",
              " [3, 11, 24, 20]]"
            ]
          },
          "metadata": {
            "tags": []
          },
          "execution_count": 6
        }
      ]
    }
  ]
}