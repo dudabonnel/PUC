{
 "cells": [
  {
   "cell_type": "markdown",
   "metadata": {},
   "source": [
    "# Prova P1 | 2021"
   ]
  },
  {
   "cell_type": "markdown",
   "metadata": {},
   "source": [
    "### PUC-SP | Ciência de Dados e Inteligência Artificial | Algoritmos e Programação"
   ]
  },
  {
   "cell_type": "markdown",
   "metadata": {},
   "source": [
    "Em toda a prova, utilize suas próprias palavras. Prova individual, com consulta."
   ]
  },
  {
   "cell_type": "markdown",
   "metadata": {},
   "source": [
    "-------\n",
    "\n",
    "RA:\n",
    "\n",
    "\n",
    "Nome:\n",
    "\n",
    "-----"
   ]
  },
  {
   "cell_type": "markdown",
   "metadata": {},
   "source": [
    "**01)** Explique qual a relação entre variáveis e tipos de dados primitivos. Quais são os tipos de dados primitivos em Python? Explique cada um deles."
   ]
  },
  {
   "cell_type": "markdown",
   "metadata": {},
   "source": [
    "*Sua resposta*"
   ]
  },
  {
   "cell_type": "markdown",
   "metadata": {},
   "source": [
    "**02)** A série de Fettuccine pode ser descrita como similar à de Fibonacci. A relação de recorrência para seus elementos é dada a seguir.\n",
    "\n",
    "$Fet_{n} = Fet_{n-3} * Fet_{n-2} * Fet_{n-1}$, para $n \\geq 3$\n",
    "\n",
    "$Fet_{0} = 1$\n",
    "\n",
    "$Fet_{1} = 1$ \n",
    "\n",
    "$Fet_{2} = 2$\n",
    "\n",
    "Escreva um programa para calcular $Fet_{n}$."
   ]
  },
  {
   "cell_type": "code",
   "execution_count": null,
   "metadata": {},
   "outputs": [],
   "source": [
    "# Seu código aqui"
   ]
  },
  {
   "cell_type": "markdown",
   "metadata": {},
   "source": [
    "**03)** Escreva um programa que some todos os divisores de um número $n$ (excluindo ele mesmo), que deve ser informado pelo usuário."
   ]
  },
  {
   "cell_type": "code",
   "execution_count": 1,
   "metadata": {},
   "outputs": [],
   "source": [
    "# Seu código aqui"
   ]
  },
  {
   "cell_type": "markdown",
   "metadata": {},
   "source": [
    "**04)** Em muitas situações é útil criar um dataset com dados aleatórios para fins de validação de prova de conceito. Durante o curso, criamos dois datasets assim. Na lista preparatória para esta prova, o código implementado na função `obter_dados_pesq_campo(n_livros)` cria uma lista `livros`, que por sua vez contém listas com alguns atributos relacionados à produção de livros. Naquela questão, cada livro é descrito pela lista: `[n_identificação_livro, n_vendas_prováveis, custo_fixo, n_páginas]`. Diz-se que cada uma destas listas é uma instância deste dataset. Python implementa o conceito de matrizes com listas contendo outras listas. Um outro caso refere-se à lista de pesos de jogadores de futebol (semana 06). Neste caso, uma lista unidimensional é suficiente, mas cada peso de jogador foi gerado aleatoriamente. \n",
    "\n",
    "Nesta questão, você deverá gerar um dataset com dados aleatórios. Faz parte da sua tarefa criar um contexto de uso, assim como feito com o dataset do custo de produção de livros ou dos pesos dos jogadores. Qualquer contexto é válido e exemplos incluem o hospitalar, financeiro, políticas públicas, educacional etc. Embora os dados seja aleatórios, os intervalos devem ser realistas, tanto quanto possível. Por exemplo, idades devem ser compatíveis com idades dos seres humanos bem como pesos e alturas. Salários como R$ 0,56 por mês não fazem sentido, e seu dataset deve evitar ao máximo estas ocorrências.\n",
    "\n",
    "Você pode utilizar as bibliotecas como `random` e a `numpy.random.normal(média, desvio_padrão, 1)`, mas você só pode gerar um único valor por vez, muito embora estas bibliotecas ofereçam alternativas para se criar distribuições com um único comando. Assim como acontece no dataset do custo de produção de livros, cada instância do seu dataset deve conter ao menos 4 atributos (valores).\n",
    "\n",
    "`[id da instância, valor 1, valor 2, valor 3, ..., valor n]`\n",
    "\n",
    "Ao final, espera-se o dataset que você criou. Leia a próxima questão antes de começar a trabalhar nesta."
   ]
  },
  {
   "cell_type": "markdown",
   "metadata": {},
   "source": [
    "**Contexto**\n",
    "\n",
    "Explique o contexto aqui.\n",
    "\n",
    "**Descrição do dataset**\n",
    "\n",
    "- `id`: identificação da <instância-x>\n",
    "\n",
    "- `valor 1`: atributo $1$ da <instância-x>\n",
    "\n",
    "- `valor 2`: atributo $2$ da <instância-x>\n",
    "\n",
    "- ...\n",
    "\n",
    "- `valor n`: atributo $n$ da <instância-x>"
   ]
  },
  {
   "cell_type": "code",
   "execution_count": null,
   "metadata": {},
   "outputs": [],
   "source": [
    "# Seu código aqui"
   ]
  },
  {
   "cell_type": "markdown",
   "metadata": {},
   "source": [
    "**05)** Utilizando o laço `while` e o método `pop()`, que está disponível para as listas, remova todas as identificações das instâncias do dataset que você criou. Por exemplo, um dataset possível de custos de produção de livros de tamanho 5 poderia ser:\n",
    "\n",
    "```\n",
    "[[1, 98296, 458.41, 266],\n",
    " [2, 89354, 9264.77, 297],\n",
    " [3, 44216, 6418.27, 752],\n",
    " [4, 63999, 6195.78, 727],\n",
    " [5, 78403, 3152.79, 347]]\n",
    "```\n",
    "em que os valores de 1 a 5 da primeira coluna representam as identificações das instâncias (livros, neste caso). Ao final da remoção, o dataset deveria ficar como a seguir:\n",
    "\n",
    "```\n",
    "[[98296, 458.41, 266],\n",
    " [89354, 9264.77, 297],\n",
    " [44216, 6418.27, 752],\n",
    " [63999, 6195.78, 727],\n",
    " [78403, 3152.79, 347]]\n",
    "```"
   ]
  },
  {
   "cell_type": "code",
   "execution_count": 2,
   "metadata": {},
   "outputs": [],
   "source": [
    "# Seu código aqui"
   ]
  }
 ],
 "metadata": {
  "kernelspec": {
   "display_name": "Python 3",
   "language": "python",
   "name": "python3"
  },
  "language_info": {
   "codemirror_mode": {
    "name": "ipython",
    "version": 3
   },
   "file_extension": ".py",
   "mimetype": "text/x-python",
   "name": "python",
   "nbconvert_exporter": "python",
   "pygments_lexer": "ipython3",
   "version": "3.8.5"
  }
 },
 "nbformat": 4,
 "nbformat_minor": 4
}
