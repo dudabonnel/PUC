{
 "cells": [
  {
   "cell_type": "markdown",
   "metadata": {},
   "source": [
    "# Funções de Programação"
   ]
  },
  {
   "cell_type": "markdown",
   "metadata": {},
   "source": [
    "## Semana 10"
   ]
  },
  {
   "cell_type": "markdown",
   "metadata": {},
   "source": [
    "# Introdução"
   ]
  },
  {
   "cell_type": "markdown",
   "metadata": {},
   "source": [
    "O que o código abaixo faz?"
   ]
  },
  {
   "cell_type": "code",
   "execution_count": 5,
   "metadata": {},
   "outputs": [
    {
     "name": "stdout",
     "output_type": "stream",
     "text": [
      "1\t1\t1.4142135623730951\n",
      "1\t2\t2.23606797749979\n",
      "1\t3\t3.1622776601683795\n",
      "1\t4\t4.123105625617661\n",
      "1\t5\t5.0990195135927845\n",
      "2\t1\t2.23606797749979\n",
      "2\t2\t2.8284271247461903\n",
      "2\t3\t3.605551275463989\n",
      "2\t4\t4.47213595499958\n",
      "2\t5\t5.385164807134504\n",
      "3\t1\t3.1622776601683795\n",
      "3\t2\t3.605551275463989\n",
      "3\t3\t4.242640687119285\n",
      "3\t4\t5.0\n",
      "3\t5\t5.830951894845301\n",
      "4\t1\t4.123105625617661\n",
      "4\t2\t4.47213595499958\n",
      "4\t3\t5.0\n",
      "4\t4\t5.656854249492381\n",
      "4\t5\t6.4031242374328485\n",
      "5\t1\t5.0990195135927845\n",
      "5\t2\t5.385164807134504\n",
      "5\t3\t5.830951894845301\n",
      "5\t4\t6.4031242374328485\n",
      "5\t5\t7.0710678118654755\n"
     ]
    }
   ],
   "source": [
    "from math import sqrt\n",
    "\n",
    "n = 5\n",
    "lst = []\n",
    "for x in range(1, n+1):\n",
    "    for y in range(1, n+1):\n",
    "        lst.append((x, y))\n",
    "\n",
    "for cat1, cat2 in lst:\n",
    "    print(\"{}\\t{}\\t{}\".format(cat1, cat2, sqrt(cat1 ** 2 + cat2 ** 2)))"
   ]
  },
  {
   "cell_type": "markdown",
   "metadata": {},
   "source": [
    "Agora analise este código."
   ]
  },
  {
   "cell_type": "code",
   "execution_count": 7,
   "metadata": {},
   "outputs": [
    {
     "name": "stdout",
     "output_type": "stream",
     "text": [
      "1\t1\t1.4142135623730951\n",
      "1\t2\t2.23606797749979\n",
      "1\t3\t3.1622776601683795\n",
      "1\t4\t4.123105625617661\n",
      "1\t5\t5.0990195135927845\n",
      "2\t1\t2.23606797749979\n",
      "2\t2\t2.8284271247461903\n",
      "2\t3\t3.605551275463989\n",
      "2\t4\t4.47213595499958\n",
      "2\t5\t5.385164807134504\n",
      "3\t1\t3.1622776601683795\n",
      "3\t2\t3.605551275463989\n",
      "3\t3\t4.242640687119285\n",
      "3\t4\t5.0\n",
      "3\t5\t5.830951894845301\n",
      "4\t1\t4.123105625617661\n",
      "4\t2\t4.47213595499958\n",
      "4\t3\t5.0\n",
      "4\t4\t5.656854249492381\n",
      "4\t5\t6.4031242374328485\n",
      "5\t1\t5.0990195135927845\n",
      "5\t2\t5.385164807134504\n",
      "5\t3\t5.830951894845301\n",
      "5\t4\t6.4031242374328485\n",
      "5\t5\t7.0710678118654755\n"
     ]
    }
   ],
   "source": [
    "def obter_lst_de_catetos(n):\n",
    "    lst = []\n",
    "    for x in range(1, n+1):\n",
    "        for y in range(1, n+1):\n",
    "            lst.append((x, y))\n",
    "    return lst\n",
    "\n",
    "def hipotenusa(cat1, cat2):\n",
    "    return sqrt(cat1 ** 2 + cat2 ** 2)\n",
    "\n",
    "def imprimir_hipotenusas(lst_catetos):\n",
    "    for cat1, cat2 in lst_catetos:\n",
    "        print(\"{}\\t{}\\t{}\".format(cat1, cat2, hipotenusa(cat1, cat2)))\n",
    "\n",
    "lst_catetos = obter_lst_de_catetos(5)\n",
    "imprimir_hipotenusas(lst_catetos)"
   ]
  },
  {
   "cell_type": "markdown",
   "metadata": {},
   "source": [
    "# Funções"
   ]
  },
  {
   "cell_type": "markdown",
   "metadata": {},
   "source": [
    "As **funções** em Python permitem dividir uma tarefa em subtarefas. Na essência, uma função agrupa um conjunto de um ou mais comandos. No entanto, quando esses comandos forem agrupados para resolver uma tarefa específica, as funções permitem que a programação seja feita em um nível de abstração mais alto. As funções permitem a criação de programas mais complexos."
   ]
  },
  {
   "cell_type": "markdown",
   "metadata": {},
   "source": [
    "### Definindo uma função\n",
    "\n",
    "A palavra reservada ```def``` indica que o restante da linha define o **nome da função** e, se houver, seus **parâmetros**. As próximas linhas que estiverem indentadas pertencem à função.\n",
    "\n",
    "A sintaxe da definição da função é a seguinte.\n",
    "\n",
    "\n",
    "```\n",
    "def <nome-da-função>(<parâmetros>):\n",
    "  <corpo-da-função>\n",
    "```"
   ]
  },
  {
   "cell_type": "code",
   "execution_count": 15,
   "metadata": {},
   "outputs": [],
   "source": [
    "# Exemplo de função sem parâmetros e sem retorno explícito\n",
    "def saudar1():\n",
    "    print(\"Olá\")\n",
    "    print(\"Hello\")\n",
    "#print(\"Hola\") # Não faz parte do corpo da função"
   ]
  },
  {
   "cell_type": "code",
   "execution_count": 3,
   "metadata": {},
   "outputs": [],
   "source": [
    "# Exemplo de função com um parâmetro, mas sem retorno explícito\n",
    "def saudar2(nome_da_pessoa):\n",
    "    print(\"Olá \" + nome_da_pessoa)"
   ]
  },
  {
   "cell_type": "markdown",
   "metadata": {},
   "source": [
    "##### O comando  ```return```\n",
    "\n",
    "As funções podem retornar valores para que a chama. Esse envio do valor para quem a chamou é feito pelo comando ```return```.\n",
    "\n",
    "```\n",
    "return <expressão>\n",
    "```"
   ]
  },
  {
   "cell_type": "code",
   "execution_count": 4,
   "metadata": {},
   "outputs": [],
   "source": [
    "# Exemplo de função com um parâmetro e com retorno explícito\n",
    "def saudar3(nome_da_pessoa):\n",
    "    return \"Olá \" + nome_da_pessoa"
   ]
  },
  {
   "cell_type": "markdown",
   "metadata": {},
   "source": [
    "**Exercício de fixação**"
   ]
  },
  {
   "cell_type": "markdown",
   "metadata": {},
   "source": [
    "- Explique com suas palavras o que é uma função de programação e quais suas vantagens."
   ]
  },
  {
   "cell_type": "markdown",
   "metadata": {},
   "source": [
    "- Pesquise e explique com suas palavras o que é um parâmetro de função de programação."
   ]
  },
  {
   "cell_type": "markdown",
   "metadata": {},
   "source": [
    "- O que faz o comando ```return``` em Python. "
   ]
  },
  {
   "cell_type": "markdown",
   "metadata": {},
   "source": [
    "- Explique o que é o corpo da função."
   ]
  },
  {
   "cell_type": "markdown",
   "metadata": {},
   "source": [
    "### Chamando uma função\n",
    "\n",
    "Definir uma função não faz com que ela seja executada. É necessário fazer uma *chamada à função*. No entanto, uma função não pode ser chamada se não for estiver definida. As funções podem ser definidas pelo próprio programador como no caso de ```hipotenusa(x, y)```, numa biblioteca externa como no caso de ```sqrt(n)```, que fica na biblioteca ```math``` ou ainda ser fornecida pela própria linguagem de programação como no caso de ```print()```, ```float()``` e ```input()```. \n",
    "\n",
    "\n",
    "A sintaxe da chamada de função é a seguinte.\n",
    "\n",
    "```\n",
    "<nome-da-função>(<argumentos>)\n",
    "```"
   ]
  },
  {
   "cell_type": "code",
   "execution_count": 24,
   "metadata": {},
   "outputs": [
    {
     "name": "stdout",
     "output_type": "stream",
     "text": [
      "Olá\n",
      "Hello\n"
     ]
    }
   ],
   "source": [
    "saudar1()"
   ]
  },
  {
   "cell_type": "code",
   "execution_count": 28,
   "metadata": {},
   "outputs": [
    {
     "name": "stdout",
     "output_type": "stream",
     "text": [
      "Olá Paula\n"
     ]
    }
   ],
   "source": [
    "nome = \"Paula\"\n",
    "saudar2(nome)"
   ]
  },
  {
   "cell_type": "code",
   "execution_count": 31,
   "metadata": {
    "scrolled": true
   },
   "outputs": [
    {
     "name": "stdout",
     "output_type": "stream",
     "text": [
      "Olá Jeff\n"
     ]
    }
   ],
   "source": [
    "print(saudar3(\"Jeff\"))"
   ]
  },
  {
   "cell_type": "markdown",
   "metadata": {},
   "source": [
    "**Exercício de fixação**"
   ]
  },
  {
   "cell_type": "markdown",
   "metadata": {},
   "source": [
    "- Pesquise e explique o que é um argumento de função em programação."
   ]
  },
  {
   "cell_type": "markdown",
   "metadata": {},
   "source": [
    "- Por que é necessário incluir um nome (i.e., string) como ```\"Jeff\"``` em ```saudar2()``` e ```saudar3()```?"
   ]
  },
  {
   "cell_type": "markdown",
   "metadata": {},
   "source": [
    "- Compare atentamente a saída de ```saudar2()``` e ```saudar3()```."
   ]
  },
  {
   "cell_type": "markdown",
   "metadata": {},
   "source": [
    "- Como a definição da função ```saudar2()``` deve ser alterada se fosse necessário saudar duas pessoas ao invés de uma única?"
   ]
  },
  {
   "cell_type": "markdown",
   "metadata": {},
   "source": [
    "- O que acontece com a chamada à função ```saudar2()``` caso ela seja chamada com um número inteiro, por exemplo ```saudar2(5)```?"
   ]
  },
  {
   "cell_type": "markdown",
   "metadata": {},
   "source": [
    "**A função ```main()```**"
   ]
  },
  {
   "cell_type": "code",
   "execution_count": 1,
   "metadata": {},
   "outputs": [
    {
     "name": "stdout",
     "output_type": "stream",
     "text": [
      "Hipotenusa:  7.0710678118654755\n"
     ]
    }
   ],
   "source": [
    "# Listagem\n",
    "\n",
    "from math import sqrt\n",
    "\n",
    "def hipotenusa(x, y):\n",
    "    return sqrt(x ** 2 + y ** 2)\n",
    "    \n",
    "def main():\n",
    "    a = float( input(\"a: \") )\n",
    "    b = float( input(\"b: \") )\n",
    "    print(\"Hipotenusa: \", hipotenusa(a, b) )\n",
    "    \n",
    "main()"
   ]
  },
  {
   "cell_type": "markdown",
   "metadata": {},
   "source": [
    "## Variáveis locais\n",
    "\n",
    "As variáveis que forem definidas dentro de uma função só existem enquanto ela estiver sendo executada."
   ]
  },
  {
   "cell_type": "markdown",
   "metadata": {},
   "source": [
    "a = 5\n"
   ]
  },
  {
   "cell_type": "markdown",
   "metadata": {},
   "source": [
    "## Conversões de Tipos\n",
    "\n",
    "```\n",
    "int(x)       # Converte x em um inteiro, truncando floats em 0\n",
    "int(x, b)    # Converte x dado uma base b em inteiro\n",
    "float(x)     # Converte x em um ponto flutuante\n",
    "str(x)       # Converte x em uma string (texto)\n",
    "```"
   ]
  },
  {
   "cell_type": "markdown",
   "metadata": {},
   "source": [
    "## Exercícios"
   ]
  },
  {
   "cell_type": "markdown",
   "metadata": {},
   "source": [
    "**[1]** Use a Listagem 3.1 para a responder às seguintes questões:"
   ]
  },
  {
   "cell_type": "markdown",
   "metadata": {},
   "source": [
    "(a) Descreva em suas próprias palavras a subtarefa que a função `hipotenusa(x, y)` realiza."
   ]
  },
  {
   "cell_type": "markdown",
   "metadata": {},
   "source": [
    "(b) Qual(is) linha(s) de código define(m) o corpo da função `main()`?"
   ]
  },
  {
   "cell_type": "markdown",
   "metadata": {},
   "source": [
    "(c) Existe um retorno dentro da função `main()` e qual valor a função retorna?"
   ]
  },
  {
   "cell_type": "markdown",
   "metadata": {},
   "source": [
    "(d) Descreva o resultado se a linha com ```return sqrt(x ** 2 + y ** 2)``` da função ```hipotenusa``` for substituída pela linha:\n",
    "\n",
    "```hyp = sqrt(x ** 2 + y ** 2)```\n",
    "\n",
    "Explique o comportamento que você observar."
   ]
  },
  {
   "cell_type": "markdown",
   "metadata": {},
   "source": [
    "*****"
   ]
  },
  {
   "cell_type": "markdown",
   "metadata": {},
   "source": [
    "**[2]** A função `main()` contém variáveis locais? Em caso positivo, identifique-as; caso contrário, explique porque não."
   ]
  },
  {
   "cell_type": "markdown",
   "metadata": {},
   "source": [
    "****"
   ]
  },
  {
   "cell_type": "markdown",
   "metadata": {},
   "source": [
    "**[3]** Modifique a função `main()` para chamar `hipotenusa(a, b)` antes do comando `print()` armazenando o resultado em uma variável local, e então, usar a variável local no comando `print()`. Discuta os prós e contras dessa nova abordagem."
   ]
  },
  {
   "cell_type": "markdown",
   "metadata": {},
   "source": [
    "******"
   ]
  },
  {
   "cell_type": "markdown",
   "metadata": {},
   "source": [
    "**[4]** Utilizando o código do cálculo da hipotenusa, crie um código que calcule a área de uma círculo a partir de um raio. Utilize uma função ```área()``` e uma função `main()`."
   ]
  },
  {
   "cell_type": "markdown",
   "metadata": {},
   "source": [
    "*****"
   ]
  },
  {
   "cell_type": "markdown",
   "metadata": {},
   "source": [
    "**[5]** Escreva um código que peça ao usuário dois números na função ```main()``` e utilize uma função separada para o cálculo da média desses números."
   ]
  },
  {
   "cell_type": "markdown",
   "metadata": {},
   "source": [
    "****"
   ]
  },
  {
   "cell_type": "markdown",
   "metadata": {},
   "source": [
    "**[6]** Escreva um código que peça ao usuário por uma temperatura em Fahrenheit e então calcule e imprima a temperatura correspondente em Celsius. Use uma função para fazer a conversão."
   ]
  },
  {
   "cell_type": "markdown",
   "metadata": {},
   "source": [
    "****"
   ]
  },
  {
   "cell_type": "markdown",
   "metadata": {},
   "source": [
    "**[7]** Modifique o exercício anterior para também computar e mostrar a temperatura equivalente em Kelvin. Use uma outra função de conversão (ou duas)."
   ]
  },
  {
   "cell_type": "markdown",
   "metadata": {},
   "source": [
    "****"
   ]
  },
  {
   "cell_type": "markdown",
   "metadata": {},
   "source": [
    "**[8]** Escreva um programa `heart.py` que peça ao usuário sua idade em anos (*y*) e então estime seu batimento cardíaco máximo em batidas por minuto, usando a fórmula $208 - 0.7y$. Use funções apropriadas."
   ]
  },
  {
   "cell_type": "markdown",
   "metadata": {},
   "source": [
    "****"
   ]
  },
  {
   "cell_type": "markdown",
   "metadata": {},
   "source": [
    "**[9]** Escreva um programa que peça ao usuário pelos lados de um triângulo ($a$, $b$, $c$) e então compute a área de um triângulo utilizando a fórmula de Heron (Procure a fórmula se não se lembrar). Utilize funções apropriadas."
   ]
  },
  {
   "cell_type": "markdown",
   "metadata": {},
   "source": [
    "*****"
   ]
  },
  {
   "cell_type": "markdown",
   "metadata": {},
   "source": [
    "**[10]** Escreva um programa que calcule o novo saldo de uma conta poupança se os juros forem computados anualmente. Peça ao usuário pelo valor do principal (*p*), taxa de juros (*r*), e número de anos (*t*), e então mostre o novo saldo. Use a fórmula: $p(1 + r)^t$ e use funções apropriadas.\n",
    "\n",
    "Entre com a taxa de juros como decimais: por exemplo, uma taxa de $4\\%$ deve ser colocada como $0.04$. Use seu programa para determinar o número de anos que se leva para dobrar o valor do principal com uma taxa de juros de $1.5\\%$ ao ano."
   ]
  }
 ],
 "metadata": {
  "kernelspec": {
   "display_name": "Python 3",
   "language": "python",
   "name": "python3"
  },
  "language_info": {
   "codemirror_mode": {
    "name": "ipython",
    "version": 3
   },
   "file_extension": ".py",
   "mimetype": "text/x-python",
   "name": "python",
   "nbconvert_exporter": "python",
   "pygments_lexer": "ipython3",
   "version": "3.8.5"
  }
 },
 "nbformat": 4,
 "nbformat_minor": 2
}
