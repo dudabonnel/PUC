{
 "cells": [
  {
   "cell_type": "markdown",
   "metadata": {},
   "source": [
    "# Exercícios\n",
    "### Semana 08 | Correção dos exercícios"
   ]
  },
  {
   "cell_type": "markdown",
   "metadata": {},
   "source": [
    "# Estruturas de Repetição - FOR"
   ]
  },
  {
   "cell_type": "markdown",
   "metadata": {},
   "source": [
    "**[1]** Crie um programa para contar a quantidade de números pares entre $2$ e $99$.\n",
    "\n",
    "Dica: utilize o operador $\\%$, conhecido como módulo."
   ]
  },
  {
   "cell_type": "code",
   "execution_count": 1,
   "metadata": {},
   "outputs": [
    {
     "data": {
      "text/plain": [
       "49"
      ]
     },
     "execution_count": 1,
     "metadata": {},
     "output_type": "execute_result"
    }
   ],
   "source": [
    "cont = 0\n",
    "for i in range(2, 100):\n",
    "    if (i % 2 == 0):\n",
    "        cont += 1\n",
    "cont"
   ]
  },
  {
   "cell_type": "markdown",
   "metadata": {},
   "source": [
    "**[2]** Crie um programa para somar todos os pares entre $2$ e $99$. "
   ]
  },
  {
   "cell_type": "code",
   "execution_count": 9,
   "metadata": {},
   "outputs": [
    {
     "data": {
      "text/plain": [
       "2450"
      ]
     },
     "execution_count": 9,
     "metadata": {},
     "output_type": "execute_result"
    }
   ],
   "source": [
    "soma = 0\n",
    "for i in range(2, 100):\n",
    "    if (i % 2 == 0):\n",
    "        soma += i\n",
    "soma"
   ]
  },
  {
   "cell_type": "markdown",
   "metadata": {},
   "source": [
    "**[3]** Crie um programa para somar $n$ números gerados aleatoriamente entre $1$ e $10$, onde $n$ é informado pelo usuário."
   ]
  },
  {
   "cell_type": "code",
   "execution_count": 38,
   "metadata": {},
   "outputs": [
    {
     "name": "stdout",
     "output_type": "stream",
     "text": [
      "Quantos números a serem somados? 4\n",
      "2 9 3 5 "
     ]
    },
    {
     "data": {
      "text/plain": [
       "19"
      ]
     },
     "execution_count": 38,
     "metadata": {},
     "output_type": "execute_result"
    }
   ],
   "source": [
    "from random import randrange\n",
    "n = input(\"Quantos números a serem somados? \")\n",
    "n = int(n)\n",
    "soma = 0\n",
    "for _ in range(n):\n",
    "    a = randrange(1, 10)\n",
    "    soma += a\n",
    "    print(a, end=\" \")\n",
    "soma"
   ]
  },
  {
   "cell_type": "markdown",
   "metadata": {},
   "source": [
    "**[4]** Crie um programa para imprimir uma agenda diária com horários de $15$ em $15$ minutos, conforme a listagem a seguir.\n",
    "\n",
    "```\n",
    "00:00\n",
    "00:15\n",
    "00:30\n",
    "00:45\n",
    "01:00\n",
    "01:15\n",
    "...\n",
    "23:30\n",
    "23:45\n",
    "00:00\n",
    "```"
   ]
  },
  {
   "cell_type": "code",
   "execution_count": null,
   "metadata": {},
   "outputs": [],
   "source": [
    "for hora in range(24):\n",
    "    for minuto in range(0,60,15):\n",
    "        str_hora = str(hora)\n",
    "        str_min = str(minuto)\n",
    "        if (len(str_hora) == 1):\n",
    "            str_hora = \"0\" + str_hora\n",
    "        if (len(str_min) == 1):\n",
    "            str_min = \"0\" + str_min\n",
    "        print(str_hora + \":\" + str_min)\n",
    "print(\"00:00\")"
   ]
  },
  {
   "cell_type": "markdown",
   "metadata": {},
   "source": [
    "**[5]** Criar um programa para imprimir a tabela de jogos para $5$ times, onde cada time joga com todos os outros duas vezes, a primeira vez em casa e a segunda, na casa do adversário.\n",
    "\n",
    "```python\n",
    "times = ['FLA', 'FLU', 'COR', 'PAL', 'VAS']\n",
    "```"
   ]
  },
  {
   "cell_type": "code",
   "execution_count": 40,
   "metadata": {},
   "outputs": [
    {
     "name": "stdout",
     "output_type": "stream",
     "text": [
      "FLA x FLU\n",
      "FLA x COR\n",
      "FLA x PAL\n",
      "FLA x VAS\n",
      "FLU x FLA\n",
      "FLU x COR\n",
      "FLU x PAL\n",
      "FLU x VAS\n",
      "COR x FLA\n",
      "COR x FLU\n",
      "COR x PAL\n",
      "COR x VAS\n",
      "PAL x FLA\n",
      "PAL x FLU\n",
      "PAL x COR\n",
      "PAL x VAS\n",
      "VAS x FLA\n",
      "VAS x FLU\n",
      "VAS x COR\n",
      "VAS x PAL\n"
     ]
    }
   ],
   "source": [
    "times = ['FLA', 'FLU', 'COR', 'PAL', 'VAS']\n",
    "\n",
    "for time1 in times:\n",
    "    for time2 in times:\n",
    "        if time1 != time2:\n",
    "            print(\"{} x {}\".format(time1, time2))\n"
   ]
  }
 ],
 "metadata": {
  "kernelspec": {
   "display_name": "Python 3",
   "language": "python",
   "name": "python3"
  },
  "language_info": {
   "codemirror_mode": {
    "name": "ipython",
    "version": 3
   },
   "file_extension": ".py",
   "mimetype": "text/x-python",
   "name": "python",
   "nbconvert_exporter": "python",
   "pygments_lexer": "ipython3",
   "version": "3.8.5"
  }
 },
 "nbformat": 4,
 "nbformat_minor": 4
}
