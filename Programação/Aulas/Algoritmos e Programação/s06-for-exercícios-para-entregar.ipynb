{
 "cells": [
  {
   "cell_type": "markdown",
   "metadata": {},
   "source": [
    "# Exercícios"
   ]
  },
  {
   "cell_type": "markdown",
   "metadata": {},
   "source": [
    "### Semana 06"
   ]
  },
  {
   "cell_type": "markdown",
   "metadata": {},
   "source": [
    "**[1]** Considere a progressão geométrica (PG) $1, 2, 4, 8, 16, 32, ...$ e um inteiro positivo $n$. Deseja-se:"
   ]
  },
  {
   "cell_type": "markdown",
   "metadata": {},
   "source": [
    "a) Imprimir o $n$ primeiros termos."
   ]
  },
  {
   "cell_type": "markdown",
   "metadata": {},
   "source": [
    "b) Calcular e imprimir a soma dos $n$ primeiros termos da PG sem utilizar a fórmula da soma por meio de um programa Python."
   ]
  },
  {
   "cell_type": "markdown",
   "metadata": {},
   "source": [
    "**[2]** Imprimir os $n$ primeiros termos das sequências definidas pelas relações de recorrência:"
   ]
  },
  {
   "cell_type": "markdown",
   "metadata": {},
   "source": [
    "a) $y_{k+1} = y_{k} + k$, em que $k = 1,2,3...$ e $y_{1}=1$"
   ]
  },
  {
   "cell_type": "markdown",
   "metadata": {},
   "source": [
    "$y_{1} = 1$ \n",
    "\n",
    "$y_{1+1} = y_{1} + 1$ => $ y_{2} = 1 + 1$ => $y_{2} = 2$\n",
    "\n",
    "$y_{2+1} = y_{2} + 2$ => $y_{3} = 2 + 2$ => $y_{3} = 4$\n",
    "\n",
    "$y_{3+1} = y_{3} + 3$ \n",
    "\n",
    "...\n",
    "\n",
    "$y_{k+1} = y_{k} + k$ "
   ]
  },
  {
   "cell_type": "markdown",
   "metadata": {},
   "source": [
    "b) $y_{k+1} = y_{k} + (2k + 1)$, em que $k = 0,1,2...$ e $y_{0}=1$"
   ]
  },
  {
   "cell_type": "markdown",
   "metadata": {},
   "source": [
    "c) $y_{k+1} = y_{k} + 3k^2 + 3k + 1$, em que $k = 0,1,2...$ e $y_{0}=1$"
   ]
  },
  {
   "cell_type": "markdown",
   "metadata": {},
   "source": [
    "d) $y_{k+1} = 2y_{k}$, em que $k = 1,2...$ e $y_{1}=1$"
   ]
  },
  {
   "cell_type": "markdown",
   "metadata": {},
   "source": [
    "**[3]** Calcular as somas:"
   ]
  },
  {
   "cell_type": "markdown",
   "metadata": {},
   "source": [
    "a) $S = \\sum_{k=1}^{20} 2k$"
   ]
  },
  {
   "cell_type": "markdown",
   "metadata": {},
   "source": [
    "b) $T = \\sum_{k=5}^{50} k^2$ "
   ]
  },
  {
   "cell_type": "markdown",
   "metadata": {},
   "source": [
    "c) $U = \\sum_{k=0}^{100} k$"
   ]
  },
  {
   "cell_type": "markdown",
   "metadata": {},
   "source": [
    "**[4]** Partindo-se de um único casal de coelhos filhotes recém-nascidos e supondo que um casal de coelhos torna-se fértil após dois meses de vida e, a partir de então, produz um novo casal a cada mês e que os coelhos nunca morrem, quantidade de casal de coelhos após $n$ meses é dado pelo $n$-ésimo termo da seguinte sequência:\n",
    "\n",
    "$F_{n} = F_{n-2} + F_{n-1}$, para $n \\geq 2$\n",
    "\n",
    "$F_{0} = 1$\n",
    "\n",
    "$F_{1} = 1$\n",
    "\n",
    "Sobre esta sequência:"
   ]
  },
  {
   "cell_type": "markdown",
   "metadata": {},
   "source": [
    "a) Explique como os termos dessa série correspondem à solução do problema proposto."
   ]
  },
  {
   "cell_type": "markdown",
   "metadata": {},
   "source": [
    "b) Escreva um programa para calcular a quantidade de casais de coelhos após $n$ meses."
   ]
  },
  {
   "cell_type": "markdown",
   "metadata": {},
   "source": [
    "**[5]** Tabelar $n!$ para $n$ variando de 0 a 10. Por definição, $k! = k(k-1)(k-2)...(1)$ para $k \\in N^{*}$ e $0! = 1$."
   ]
  },
  {
   "cell_type": "markdown",
   "metadata": {},
   "source": [
    "**[6]** Em um campeonato de futebol cada time tem uma lista oficial de 23 jogadores. Cada time prepara uma relação contendo o peso e a idade de cada um de seus jogadores. Os 40 times que participaram do torneio enviam listas para o CPD da confederação. Deseja-se a seguinte informação."
   ]
  },
  {
   "cell_type": "markdown",
   "metadata": {},
   "source": [
    "a) o peso médio e a idade média para cada um dos times."
   ]
  },
  {
   "cell_type": "markdown",
   "metadata": {},
   "source": [
    "b) o peso médio e a idade média de todos os participantes."
   ]
  },
  {
   "cell_type": "markdown",
   "metadata": {},
   "source": [
    "**[7]** Escreva um programa para calcular a soma:"
   ]
  },
  {
   "cell_type": "markdown",
   "metadata": {},
   "source": [
    "$1 - \\frac{1}{2} + \\frac{1}{4} - \\frac{1}{6} + \\frac{1}{8} - ... + \\frac{1}{200}$"
   ]
  },
  {
   "cell_type": "markdown",
   "metadata": {},
   "source": [
    "### Exercício Desafio (só para quem já sabe programar)"
   ]
  },
  {
   "cell_type": "markdown",
   "metadata": {},
   "source": [
    "**[8]** Considere a sequência a seguir.\n",
    "\n",
    "```\n",
    "1\n",
    "2  4\n",
    "3  9  27\n",
    "4  16 64  256\n",
    "...\n",
    "n  n^2 n^3 ... n^n\n",
    "```\n",
    "\n",
    "A sequência deve ser lida desconsiderando a formatação: $1, 2, 4, 3, 9, 27, ..., n^2, n^3, n^{n} $.\n",
    "\n",
    "Desconsiderando a formatação (como a mudança de linhas), dado um número $n > 0$,\n",
    "\n",
    "a) Escreva um programa que retorne essa sequência.\n",
    "\n",
    "b) Com uma única linha de código, escreva uma programa que retorne essa sequência."
   ]
  }
 ],
 "metadata": {
  "kernelspec": {
   "display_name": "Python 3",
   "language": "python",
   "name": "python3"
  },
  "language_info": {
   "codemirror_mode": {
    "name": "ipython",
    "version": 3
   },
   "file_extension": ".py",
   "mimetype": "text/x-python",
   "name": "python",
   "nbconvert_exporter": "python",
   "pygments_lexer": "ipython3",
   "version": "3.8.8"
  }
 },
 "nbformat": 4,
 "nbformat_minor": 4
}
