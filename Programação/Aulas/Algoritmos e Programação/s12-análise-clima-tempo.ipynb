{
 "cells": [
  {
   "cell_type": "markdown",
   "metadata": {
    "_cell_guid": "b1076dfc-b9ad-4769-8c92-a6c4dae69d19",
    "_uuid": "8f2839f25d086af736a60e9eeb907d3b93b6e0e5"
   },
   "source": [
    "# Análise Clima-Tempo"
   ]
  },
  {
   "cell_type": "markdown",
   "metadata": {},
   "source": [
    "#### Semana 12 | Web Scraping, Regex e Pandas"
   ]
  },
  {
   "cell_type": "markdown",
   "metadata": {},
   "source": [
    "## Objetivo do miniprojeto"
   ]
  },
  {
   "cell_type": "markdown",
   "metadata": {},
   "source": [
    "A partir de sua escolha de uma cidade qualquer, faça a raspagem de uma página e descubra a temperatura média da próxima semana nesta cidade. Utilize o serviço [Tempo](https://www.tempo.com/) na sua solução. (Desejável incluir gráficos do Plotly)."
   ]
  },
  {
   "cell_type": "markdown",
   "metadata": {},
   "source": [
    "## Projeto-piloto"
   ]
  },
  {
   "cell_type": "markdown",
   "metadata": {},
   "source": [
    "Aqui, importamos as bibliotecas que utilizaremos para fazer a raspagem e análise de dados."
   ]
  },
  {
   "cell_type": "code",
   "execution_count": 53,
   "metadata": {},
   "outputs": [],
   "source": [
    "import requests\n",
    "from bs4 import BeautifulSoup\n",
    "import pandas as pd\n",
    "import numpy as np\n",
    "import plotly.express as px"
   ]
  },
  {
   "cell_type": "markdown",
   "metadata": {},
   "source": [
    "**Seleção do serviço de clima-tempo**"
   ]
  },
  {
   "cell_type": "markdown",
   "metadata": {},
   "source": [
    "Apenas para a ilustração dos passos, vamos fazer a raspagem do [National Weather Service](https://forecast.weather.gov/), um serviço de climatologia norte-americano. A cidade indicada na `url` pela latitude e longitude aponta para a cidade de *Ciudad Juarez* (MX), na fronteira dos EUA.\n",
    "\n",
    "> **Para que estes passos sejam aplicáveis, é importante verificar se o serviço de clima-tempo apresenta as informações utilizando HTML ou Javascript. Estes passos só servem para respostas em HTML.**"
   ]
  },
  {
   "cell_type": "code",
   "execution_count": 5,
   "metadata": {},
   "outputs": [],
   "source": [
    "# Localizamos uma cidade usando o próprio serviço de clima-tempo\n",
    "url = \"https://forecast.weather.gov/MapClick.php?lat=31.604&lon=-106.2511#.XoOR725v9PU\""
   ]
  },
  {
   "cell_type": "markdown",
   "metadata": {},
   "source": [
    "Download da página. Uma resposta $200$ indica que o retorno da página foi bem-sucedido. "
   ]
  },
  {
   "cell_type": "code",
   "execution_count": 6,
   "metadata": {},
   "outputs": [
    {
     "data": {
      "text/plain": [
       "<Response [200]>"
      ]
     },
     "execution_count": 6,
     "metadata": {},
     "output_type": "execute_result"
    }
   ],
   "source": [
    "# usamos a biblioteca requests para fazer o download da página web\n",
    "page = requests.get( url )\n",
    "page"
   ]
  },
  {
   "cell_type": "markdown",
   "metadata": {},
   "source": [
    "A biblioteca `BeautifulSoup` permite que manipulemos o HTML da página. "
   ]
  },
  {
   "cell_type": "code",
   "execution_count": 10,
   "metadata": {},
   "outputs": [],
   "source": [
    "# criamos um objeto beautiful soup para poder fazer a raspagem dos dados\n",
    "soup = BeautifulSoup(page.content, 'html.parser')\n",
    "#soup\n",
    "#print(soup.prettify())"
   ]
  },
  {
   "cell_type": "markdown",
   "metadata": {},
   "source": [
    "Utilizando o modo de inspeção do navegador (ex: Chrome, Firefox, Safari...), identifique o elemento HTML em que deseja extrair as informações."
   ]
  },
  {
   "cell_type": "code",
   "execution_count": 12,
   "metadata": {},
   "outputs": [
    {
     "data": {
      "text/plain": [
       "<div class=\"panel panel-default\" id=\"seven-day-forecast\">\n",
       "<div class=\"panel-heading\">\n",
       "<b>Extended Forecast for</b>\n",
       "<h2 class=\"panel-title\">\n",
       "\t    \t    2 Miles NW Clint TX\t</h2>\n",
       "</div>\n",
       "<div class=\"panel-body\" id=\"seven-day-forecast-body\">\n",
       "<div id=\"seven-day-forecast-container\"><ul class=\"list-unstyled\" id=\"seven-day-forecast-list\"><li class=\"forecast-tombstone\">\n",
       "<div class=\"tombstone-container\">\n",
       "<p class=\"period-name\">Today<br/><br/></p>\n",
       "<p><img alt=\"Today: Sunny, with a high near 95. Calm wind becoming west southwest 5 to 9 mph in the morning. \" class=\"forecast-icon\" src=\"newimages/medium/few.png\" title=\"Today: Sunny, with a high near 95. Calm wind becoming west southwest 5 to 9 mph in the morning. \"/></p><p class=\"short-desc\">Sunny</p><p class=\"temp temp-high\">High: 95 °F</p></div></li><li class=\"forecast-tombstone\">\n",
       "<div class=\"tombstone-container\">\n",
       "<p class=\"period-name\">Tonight<br/><br/></p>\n",
       "<p><img alt=\"Tonight: Mostly clear, with a low around 62. West wind 5 to 10 mph becoming light and variable  after midnight. \" class=\"forecast-icon\" src=\"newimages/medium/nfew.png\" title=\"Tonight: Mostly clear, with a low around 62. West wind 5 to 10 mph becoming light and variable  after midnight. \"/></p><p class=\"short-desc\">Mostly Clear</p><p class=\"temp temp-low\">Low: 62 °F</p></div></li><li class=\"forecast-tombstone\">\n",
       "<div class=\"tombstone-container\">\n",
       "<p class=\"period-name\">Wednesday<br/><br/></p>\n",
       "<p><img alt=\"Wednesday: Mostly sunny, with a high near 96. South wind 5 to 15 mph becoming west southwest in the afternoon. \" class=\"forecast-icon\" src=\"newimages/medium/sct.png\" title=\"Wednesday: Mostly sunny, with a high near 96. South wind 5 to 15 mph becoming west southwest in the afternoon. \"/></p><p class=\"short-desc\">Mostly Sunny</p><p class=\"temp temp-high\">High: 96 °F</p></div></li><li class=\"forecast-tombstone\">\n",
       "<div class=\"tombstone-container\">\n",
       "<p class=\"period-name\">Wednesday<br/>Night</p>\n",
       "<p><img alt=\"Wednesday Night: Partly cloudy, with a low around 64. West southwest wind 5 to 15 mph. \" class=\"forecast-icon\" src=\"newimages/medium/nsct.png\" title=\"Wednesday Night: Partly cloudy, with a low around 64. West southwest wind 5 to 15 mph. \"/></p><p class=\"short-desc\">Partly Cloudy</p><p class=\"temp temp-low\">Low: 64 °F</p></div></li><li class=\"forecast-tombstone\">\n",
       "<div class=\"tombstone-container\">\n",
       "<p class=\"period-name\">Thursday<br/><br/></p>\n",
       "<p><img alt=\"Thursday: Mostly sunny, with a high near 96. Light south southwest wind becoming west 11 to 16 mph in the morning. \" class=\"forecast-icon\" src=\"newimages/medium/sct.png\" title=\"Thursday: Mostly sunny, with a high near 96. Light south southwest wind becoming west 11 to 16 mph in the morning. \"/></p><p class=\"short-desc\">Mostly Sunny</p><p class=\"temp temp-high\">High: 96 °F</p></div></li><li class=\"forecast-tombstone\">\n",
       "<div class=\"tombstone-container\">\n",
       "<p class=\"period-name\">Thursday<br/>Night</p>\n",
       "<p><img alt=\"Thursday Night: Mostly clear, with a low around 64. West wind 11 to 16 mph decreasing to 5 to 10 mph after midnight. \" class=\"forecast-icon\" src=\"newimages/medium/nfew.png\" title=\"Thursday Night: Mostly clear, with a low around 64. West wind 11 to 16 mph decreasing to 5 to 10 mph after midnight. \"/></p><p class=\"short-desc\">Mostly Clear</p><p class=\"temp temp-low\">Low: 64 °F</p></div></li><li class=\"forecast-tombstone\">\n",
       "<div class=\"tombstone-container\">\n",
       "<p class=\"period-name\">Friday<br/><br/></p>\n",
       "<p><img alt=\"Friday: Sunny, with a high near 97. West wind 5 to 14 mph. \" class=\"forecast-icon\" src=\"newimages/medium/few.png\" title=\"Friday: Sunny, with a high near 97. West wind 5 to 14 mph. \"/></p><p class=\"short-desc\">Sunny</p><p class=\"temp temp-high\">High: 97 °F</p></div></li><li class=\"forecast-tombstone\">\n",
       "<div class=\"tombstone-container\">\n",
       "<p class=\"period-name\">Friday<br/>Night</p>\n",
       "<p><img alt=\"Friday Night: Clear, with a low around 64. West wind 7 to 14 mph becoming south southwest after midnight. \" class=\"forecast-icon\" src=\"newimages/medium/nskc.png\" title=\"Friday Night: Clear, with a low around 64. West wind 7 to 14 mph becoming south southwest after midnight. \"/></p><p class=\"short-desc\">Clear</p><p class=\"temp temp-low\">Low: 64 °F</p></div></li><li class=\"forecast-tombstone\">\n",
       "<div class=\"tombstone-container\">\n",
       "<p class=\"period-name\">Saturday<br/><br/></p>\n",
       "<p><img alt=\"Saturday: Sunny, with a high near 100. South wind 7 to 13 mph becoming west in the afternoon. \" class=\"forecast-icon\" src=\"newimages/medium/few.png\" title=\"Saturday: Sunny, with a high near 100. South wind 7 to 13 mph becoming west in the afternoon. \"/></p><p class=\"short-desc\">Sunny</p><p class=\"temp temp-high\">High: 100 °F</p></div></li></ul></div>\n",
       "<script type=\"text/javascript\">\n",
       "// equalize forecast heights\n",
       "$(function () {\n",
       "\tvar maxh = 0;\n",
       "\t$(\".forecast-tombstone .short-desc\").each(function () {\n",
       "\t\tvar h = $(this).height();\n",
       "\t\tif (h > maxh) { maxh = h; }\n",
       "\t});\n",
       "\t$(\".forecast-tombstone .short-desc\").height(maxh);\n",
       "});\n",
       "</script> </div>\n",
       "</div>"
      ]
     },
     "execution_count": 12,
     "metadata": {},
     "output_type": "execute_result"
    }
   ],
   "source": [
    "# após investigar, com um navegador web, a estrutura da página e localizar o elemento HTML que queremos, aplicamos o comando\n",
    "seven_day = soup.find(id=\"seven-day-forecast\")\n",
    "seven_day"
   ]
  },
  {
   "cell_type": "markdown",
   "metadata": {},
   "source": [
    "Dentro do elemento HTML `seven-day-forecast`, pegamos todos os elementos da classe `tombstone-container`."
   ]
  },
  {
   "cell_type": "code",
   "execution_count": 19,
   "metadata": {},
   "outputs": [],
   "source": [
    "forecast_items = seven_day.find_all(class_=\"tombstone-container\")\n",
    "#forecast_items"
   ]
  },
  {
   "cell_type": "markdown",
   "metadata": {},
   "source": [
    "O primeiro elemento da lista `forecast_items` representa a manhã de hoje."
   ]
  },
  {
   "cell_type": "code",
   "execution_count": 20,
   "metadata": {},
   "outputs": [
    {
     "data": {
      "text/plain": [
       "<div class=\"tombstone-container\">\n",
       "<p class=\"period-name\">Today<br/><br/></p>\n",
       "<p><img alt=\"Today: Sunny, with a high near 95. Calm wind becoming west southwest 5 to 9 mph in the morning. \" class=\"forecast-icon\" src=\"newimages/medium/few.png\" title=\"Today: Sunny, with a high near 95. Calm wind becoming west southwest 5 to 9 mph in the morning. \"/></p><p class=\"short-desc\">Sunny</p><p class=\"temp temp-high\">High: 95 °F</p></div>"
      ]
     },
     "execution_count": 20,
     "metadata": {},
     "output_type": "execute_result"
    }
   ],
   "source": [
    "morning = forecast_items[0]\n",
    "morning"
   ]
  },
  {
   "cell_type": "code",
   "execution_count": 21,
   "metadata": {},
   "outputs": [
    {
     "name": "stdout",
     "output_type": "stream",
     "text": [
      "<div class=\"tombstone-container\">\n",
      " <p class=\"period-name\">\n",
      "  Today\n",
      "  <br/>\n",
      "  <br/>\n",
      " </p>\n",
      " <p>\n",
      "  <img alt=\"Today: Sunny, with a high near 95. Calm wind becoming west southwest 5 to 9 mph in the morning. \" class=\"forecast-icon\" src=\"newimages/medium/few.png\" title=\"Today: Sunny, with a high near 95. Calm wind becoming west southwest 5 to 9 mph in the morning. \"/>\n",
      " </p>\n",
      " <p class=\"short-desc\">\n",
      "  Sunny\n",
      " </p>\n",
      " <p class=\"temp temp-high\">\n",
      "  High: 95 °F\n",
      " </p>\n",
      "</div>\n"
     ]
    }
   ],
   "source": [
    "# Impressão na tela formatado\n",
    "print(morning.prettify())"
   ]
  },
  {
   "cell_type": "markdown",
   "metadata": {},
   "source": [
    "O segundo elemento da lista `forecast_items` representa o próximo período."
   ]
  },
  {
   "cell_type": "code",
   "execution_count": 22,
   "metadata": {},
   "outputs": [
    {
     "name": "stdout",
     "output_type": "stream",
     "text": [
      "<div class=\"tombstone-container\">\n",
      " <p class=\"period-name\">\n",
      "  Tonight\n",
      "  <br/>\n",
      "  <br/>\n",
      " </p>\n",
      " <p>\n",
      "  <img alt=\"Tonight: Mostly clear, with a low around 62. West wind 5 to 10 mph becoming light and variable  after midnight. \" class=\"forecast-icon\" src=\"newimages/medium/nfew.png\" title=\"Tonight: Mostly clear, with a low around 62. West wind 5 to 10 mph becoming light and variable  after midnight. \"/>\n",
      " </p>\n",
      " <p class=\"short-desc\">\n",
      "  Mostly Clear\n",
      " </p>\n",
      " <p class=\"temp temp-low\">\n",
      "  Low: 62 °F\n",
      " </p>\n",
      "</div>\n"
     ]
    }
   ],
   "source": [
    "afternoon = forecast_items[1]\n",
    "print(afternoon.prettify())"
   ]
  },
  {
   "cell_type": "markdown",
   "metadata": {},
   "source": [
    "**Extraindo informações da página**"
   ]
  },
  {
   "cell_type": "markdown",
   "metadata": {},
   "source": [
    "A etiqueta representada pela variável `morning` contém toda a informação de que precisamos:\n",
    "\n",
    "- O nome do item da previsão - neste caso, Morning\n",
    "\n",
    "- A descrição das condições - está localizado no título da propriedade de img\n",
    "\n",
    "- Uma descrição breve das condições - neste caso Patchy Blowing Dust then Cloudy\n",
    "\n",
    "- A temperatura mínima - neste caso 81 °F"
   ]
  },
  {
   "cell_type": "code",
   "execution_count": 30,
   "metadata": {},
   "outputs": [
    {
     "data": {
      "text/plain": [
       "<div class=\"tombstone-container\">\n",
       "<p class=\"period-name\">Today<br/><br/></p>\n",
       "<p><img alt=\"Today: Sunny, with a high near 95. Calm wind becoming west southwest 5 to 9 mph in the morning. \" class=\"forecast-icon\" src=\"newimages/medium/few.png\" title=\"Today: Sunny, with a high near 95. Calm wind becoming west southwest 5 to 9 mph in the morning. \"/></p><p class=\"short-desc\">Sunny</p><p class=\"temp temp-high\">High: 95 °F</p></div>"
      ]
     },
     "execution_count": 30,
     "metadata": {},
     "output_type": "execute_result"
    }
   ],
   "source": [
    "morning"
   ]
  },
  {
   "cell_type": "code",
   "execution_count": 29,
   "metadata": {},
   "outputs": [],
   "source": [
    "#morning.find(class_=\"period-name\").get_text()"
   ]
  },
  {
   "cell_type": "code",
   "execution_count": 27,
   "metadata": {},
   "outputs": [
    {
     "data": {
      "text/plain": [
       "'Today'"
      ]
     },
     "execution_count": 27,
     "metadata": {},
     "output_type": "execute_result"
    }
   ],
   "source": [
    "period = morning.find(class_=\"period-name\").get_text()\n",
    "period"
   ]
  },
  {
   "cell_type": "code",
   "execution_count": 31,
   "metadata": {},
   "outputs": [
    {
     "data": {
      "text/plain": [
       "'Sunny'"
      ]
     },
     "execution_count": 31,
     "metadata": {},
     "output_type": "execute_result"
    }
   ],
   "source": [
    "short_desc = morning.find(class_=\"short-desc\").get_text()\n",
    "short_desc"
   ]
  },
  {
   "cell_type": "code",
   "execution_count": 32,
   "metadata": {},
   "outputs": [
    {
     "data": {
      "text/plain": [
       "'High: 95 °F'"
      ]
     },
     "execution_count": 32,
     "metadata": {},
     "output_type": "execute_result"
    }
   ],
   "source": [
    "temp = morning.find(class_=\"temp\").get_text()\n",
    "temp"
   ]
  },
  {
   "cell_type": "markdown",
   "metadata": {},
   "source": [
    "Uma opção seria pegar as informações contidas na tag `<img>`."
   ]
  },
  {
   "cell_type": "code",
   "execution_count": 34,
   "metadata": {},
   "outputs": [
    {
     "data": {
      "text/plain": [
       "<img alt=\"Today: Sunny, with a high near 95. Calm wind becoming west southwest 5 to 9 mph in the morning. \" class=\"forecast-icon\" src=\"newimages/medium/few.png\" title=\"Today: Sunny, with a high near 95. Calm wind becoming west southwest 5 to 9 mph in the morning. \"/>"
      ]
     },
     "execution_count": 34,
     "metadata": {},
     "output_type": "execute_result"
    }
   ],
   "source": [
    "img = morning.find(\"img\")\n",
    "img"
   ]
  },
  {
   "cell_type": "code",
   "execution_count": 35,
   "metadata": {},
   "outputs": [
    {
     "data": {
      "text/plain": [
       "'Today: Sunny, with a high near 95. Calm wind becoming west southwest 5 to 9 mph in the morning. '"
      ]
     },
     "execution_count": 35,
     "metadata": {},
     "output_type": "execute_result"
    }
   ],
   "source": [
    "# Obtem o título (title) da descrição da img\n",
    "desc = img['title']\n",
    "desc"
   ]
  },
  {
   "cell_type": "markdown",
   "metadata": {},
   "source": [
    "**Extraindo toda a informação da página**"
   ]
  },
  {
   "cell_type": "markdown",
   "metadata": {},
   "source": [
    "Agora que sabemos como extrair a informação de um elemento, vamos obter todos os outros."
   ]
  },
  {
   "cell_type": "code",
   "execution_count": 37,
   "metadata": {},
   "outputs": [
    {
     "data": {
      "text/plain": [
       "<div class=\"panel panel-default\" id=\"seven-day-forecast\">\n",
       "<div class=\"panel-heading\">\n",
       "<b>Extended Forecast for</b>\n",
       "<h2 class=\"panel-title\">\n",
       "\t    \t    2 Miles NW Clint TX\t</h2>\n",
       "</div>\n",
       "<div class=\"panel-body\" id=\"seven-day-forecast-body\">\n",
       "<div id=\"seven-day-forecast-container\"><ul class=\"list-unstyled\" id=\"seven-day-forecast-list\"><li class=\"forecast-tombstone\">\n",
       "<div class=\"tombstone-container\">\n",
       "<p class=\"period-name\">Today<br/><br/></p>\n",
       "<p><img alt=\"Today: Sunny, with a high near 95. Calm wind becoming west southwest 5 to 9 mph in the morning. \" class=\"forecast-icon\" src=\"newimages/medium/few.png\" title=\"Today: Sunny, with a high near 95. Calm wind becoming west southwest 5 to 9 mph in the morning. \"/></p><p class=\"short-desc\">Sunny</p><p class=\"temp temp-high\">High: 95 °F</p></div></li><li class=\"forecast-tombstone\">\n",
       "<div class=\"tombstone-container\">\n",
       "<p class=\"period-name\">Tonight<br/><br/></p>\n",
       "<p><img alt=\"Tonight: Mostly clear, with a low around 62. West wind 5 to 10 mph becoming light and variable  after midnight. \" class=\"forecast-icon\" src=\"newimages/medium/nfew.png\" title=\"Tonight: Mostly clear, with a low around 62. West wind 5 to 10 mph becoming light and variable  after midnight. \"/></p><p class=\"short-desc\">Mostly Clear</p><p class=\"temp temp-low\">Low: 62 °F</p></div></li><li class=\"forecast-tombstone\">\n",
       "<div class=\"tombstone-container\">\n",
       "<p class=\"period-name\">Wednesday<br/><br/></p>\n",
       "<p><img alt=\"Wednesday: Mostly sunny, with a high near 96. South wind 5 to 15 mph becoming west southwest in the afternoon. \" class=\"forecast-icon\" src=\"newimages/medium/sct.png\" title=\"Wednesday: Mostly sunny, with a high near 96. South wind 5 to 15 mph becoming west southwest in the afternoon. \"/></p><p class=\"short-desc\">Mostly Sunny</p><p class=\"temp temp-high\">High: 96 °F</p></div></li><li class=\"forecast-tombstone\">\n",
       "<div class=\"tombstone-container\">\n",
       "<p class=\"period-name\">Wednesday<br/>Night</p>\n",
       "<p><img alt=\"Wednesday Night: Partly cloudy, with a low around 64. West southwest wind 5 to 15 mph. \" class=\"forecast-icon\" src=\"newimages/medium/nsct.png\" title=\"Wednesday Night: Partly cloudy, with a low around 64. West southwest wind 5 to 15 mph. \"/></p><p class=\"short-desc\">Partly Cloudy</p><p class=\"temp temp-low\">Low: 64 °F</p></div></li><li class=\"forecast-tombstone\">\n",
       "<div class=\"tombstone-container\">\n",
       "<p class=\"period-name\">Thursday<br/><br/></p>\n",
       "<p><img alt=\"Thursday: Mostly sunny, with a high near 96. Light south southwest wind becoming west 11 to 16 mph in the morning. \" class=\"forecast-icon\" src=\"newimages/medium/sct.png\" title=\"Thursday: Mostly sunny, with a high near 96. Light south southwest wind becoming west 11 to 16 mph in the morning. \"/></p><p class=\"short-desc\">Mostly Sunny</p><p class=\"temp temp-high\">High: 96 °F</p></div></li><li class=\"forecast-tombstone\">\n",
       "<div class=\"tombstone-container\">\n",
       "<p class=\"period-name\">Thursday<br/>Night</p>\n",
       "<p><img alt=\"Thursday Night: Mostly clear, with a low around 64. West wind 11 to 16 mph decreasing to 5 to 10 mph after midnight. \" class=\"forecast-icon\" src=\"newimages/medium/nfew.png\" title=\"Thursday Night: Mostly clear, with a low around 64. West wind 11 to 16 mph decreasing to 5 to 10 mph after midnight. \"/></p><p class=\"short-desc\">Mostly Clear</p><p class=\"temp temp-low\">Low: 64 °F</p></div></li><li class=\"forecast-tombstone\">\n",
       "<div class=\"tombstone-container\">\n",
       "<p class=\"period-name\">Friday<br/><br/></p>\n",
       "<p><img alt=\"Friday: Sunny, with a high near 97. West wind 5 to 14 mph. \" class=\"forecast-icon\" src=\"newimages/medium/few.png\" title=\"Friday: Sunny, with a high near 97. West wind 5 to 14 mph. \"/></p><p class=\"short-desc\">Sunny</p><p class=\"temp temp-high\">High: 97 °F</p></div></li><li class=\"forecast-tombstone\">\n",
       "<div class=\"tombstone-container\">\n",
       "<p class=\"period-name\">Friday<br/>Night</p>\n",
       "<p><img alt=\"Friday Night: Clear, with a low around 64. West wind 7 to 14 mph becoming south southwest after midnight. \" class=\"forecast-icon\" src=\"newimages/medium/nskc.png\" title=\"Friday Night: Clear, with a low around 64. West wind 7 to 14 mph becoming south southwest after midnight. \"/></p><p class=\"short-desc\">Clear</p><p class=\"temp temp-low\">Low: 64 °F</p></div></li><li class=\"forecast-tombstone\">\n",
       "<div class=\"tombstone-container\">\n",
       "<p class=\"period-name\">Saturday<br/><br/></p>\n",
       "<p><img alt=\"Saturday: Sunny, with a high near 100. South wind 7 to 13 mph becoming west in the afternoon. \" class=\"forecast-icon\" src=\"newimages/medium/few.png\" title=\"Saturday: Sunny, with a high near 100. South wind 7 to 13 mph becoming west in the afternoon. \"/></p><p class=\"short-desc\">Sunny</p><p class=\"temp temp-high\">High: 100 °F</p></div></li></ul></div>\n",
       "<script type=\"text/javascript\">\n",
       "// equalize forecast heights\n",
       "$(function () {\n",
       "\tvar maxh = 0;\n",
       "\t$(\".forecast-tombstone .short-desc\").each(function () {\n",
       "\t\tvar h = $(this).height();\n",
       "\t\tif (h > maxh) { maxh = h; }\n",
       "\t});\n",
       "\t$(\".forecast-tombstone .short-desc\").height(maxh);\n",
       "});\n",
       "</script> </div>\n",
       "</div>"
      ]
     },
     "execution_count": 37,
     "metadata": {},
     "output_type": "execute_result"
    }
   ],
   "source": [
    "seven_day"
   ]
  },
  {
   "cell_type": "markdown",
   "metadata": {},
   "source": [
    "```html\n",
    "<div class=\"tombstone-container\">\n",
    "    <p class=\"period-name\">\n",
    "        \n",
    "    </p>\n",
    "</div>\n",
    "<div class=\"tombstone-container\">\n",
    "    <p class=\"period-name\">\n",
    "        \n",
    "    </p>\n",
    "</div>\n",
    "<div class=\"tombstone-container\">\n",
    "    <p class=\"period-name\">\n",
    "        \n",
    "    </p>\n",
    "</div>\n",
    "```"
   ]
  },
  {
   "cell_type": "code",
   "execution_count": 36,
   "metadata": {},
   "outputs": [
    {
     "data": {
      "text/plain": [
       "[<p class=\"period-name\">Today<br/><br/></p>,\n",
       " <p class=\"period-name\">Tonight<br/><br/></p>,\n",
       " <p class=\"period-name\">Wednesday<br/><br/></p>,\n",
       " <p class=\"period-name\">Wednesday<br/>Night</p>,\n",
       " <p class=\"period-name\">Thursday<br/><br/></p>,\n",
       " <p class=\"period-name\">Thursday<br/>Night</p>,\n",
       " <p class=\"period-name\">Friday<br/><br/></p>,\n",
       " <p class=\"period-name\">Friday<br/>Night</p>,\n",
       " <p class=\"period-name\">Saturday<br/><br/></p>]"
      ]
     },
     "execution_count": 36,
     "metadata": {},
     "output_type": "execute_result"
    }
   ],
   "source": [
    "seven_day.select(\".tombstone-container .period-name\")"
   ]
  },
  {
   "cell_type": "code",
   "execution_count": 41,
   "metadata": {},
   "outputs": [
    {
     "data": {
      "text/plain": [
       "['Today',\n",
       " 'Tonight',\n",
       " 'Wednesday',\n",
       " 'WednesdayNight',\n",
       " 'Thursday',\n",
       " 'ThursdayNight',\n",
       " 'Friday',\n",
       " 'FridayNight',\n",
       " 'Saturday']"
      ]
     },
     "execution_count": 41,
     "metadata": {},
     "output_type": "execute_result"
    }
   ],
   "source": [
    "# Usa o seletor CSS para extrair todos os period-name dentro de tombstone-container\n",
    "period_tags = seven_day.select(\".tombstone-container .period-name\")\n",
    "\n",
    "# Usando list comprehensions (não vimos ainda)\n",
    "#periods = [pt.get_text() for pt in period_tags]\n",
    "\n",
    "periods = []\n",
    "for pt in period_tags:\n",
    "    periods.append(pt.get_text())\n",
    "periods"
   ]
  },
  {
   "cell_type": "markdown",
   "metadata": {},
   "source": [
    "Vamos usar a mesma técnica para os outros três campos."
   ]
  },
  {
   "cell_type": "code",
   "execution_count": 42,
   "metadata": {},
   "outputs": [
    {
     "data": {
      "text/plain": [
       "['Sunny',\n",
       " 'Mostly Clear',\n",
       " 'Mostly Sunny',\n",
       " 'Partly Cloudy',\n",
       " 'Mostly Sunny',\n",
       " 'Mostly Clear',\n",
       " 'Sunny',\n",
       " 'Clear',\n",
       " 'Sunny']"
      ]
     },
     "execution_count": 42,
     "metadata": {},
     "output_type": "execute_result"
    }
   ],
   "source": [
    "# Usando list comprehensions (não vimos ainda)\n",
    "#short_descs = [sd.get_text() for sd in seven_day.select(\".tombstone-container .short-desc\")]\n",
    "\n",
    "short_descs_tags = seven_day.select(\".tombstone-container .short-desc\")\n",
    "short_descs = []\n",
    "for sd in short_descs_tags:\n",
    "    short_descs.append(sd.get_text())\n",
    "short_descs"
   ]
  },
  {
   "cell_type": "code",
   "execution_count": 43,
   "metadata": {},
   "outputs": [
    {
     "data": {
      "text/plain": [
       "['High: 95 °F',\n",
       " 'Low: 62 °F',\n",
       " 'High: 96 °F',\n",
       " 'Low: 64 °F',\n",
       " 'High: 96 °F',\n",
       " 'Low: 64 °F',\n",
       " 'High: 97 °F',\n",
       " 'Low: 64 °F',\n",
       " 'High: 100 °F']"
      ]
     },
     "execution_count": 43,
     "metadata": {},
     "output_type": "execute_result"
    }
   ],
   "source": [
    "# Usando list comprehensions (não vimos ainda)\n",
    "# temps = [t.get_text() for t in seven_day.select(\".tombstone-container .temp\")]\n",
    "\n",
    "temps_tags = seven_day.select(\".tombstone-container .temp\")\n",
    "temps = [] \n",
    "for tp in temps_tags:\n",
    "    temps.append(tp.get_text())\n",
    "temps"
   ]
  },
  {
   "cell_type": "code",
   "execution_count": 45,
   "metadata": {},
   "outputs": [
    {
     "data": {
      "text/plain": [
       "['Today: Sunny, with a high near 95. Calm wind becoming west southwest 5 to 9 mph in the morning. ',\n",
       " 'Tonight: Mostly clear, with a low around 62. West wind 5 to 10 mph becoming light and variable  after midnight. ',\n",
       " 'Wednesday: Mostly sunny, with a high near 96. South wind 5 to 15 mph becoming west southwest in the afternoon. ',\n",
       " 'Wednesday Night: Partly cloudy, with a low around 64. West southwest wind 5 to 15 mph. ',\n",
       " 'Thursday: Mostly sunny, with a high near 96. Light south southwest wind becoming west 11 to 16 mph in the morning. ',\n",
       " 'Thursday Night: Mostly clear, with a low around 64. West wind 11 to 16 mph decreasing to 5 to 10 mph after midnight. ',\n",
       " 'Friday: Sunny, with a high near 97. West wind 5 to 14 mph. ',\n",
       " 'Friday Night: Clear, with a low around 64. West wind 7 to 14 mph becoming south southwest after midnight. ',\n",
       " 'Saturday: Sunny, with a high near 100. South wind 7 to 13 mph becoming west in the afternoon. ']"
      ]
     },
     "execution_count": 45,
     "metadata": {},
     "output_type": "execute_result"
    }
   ],
   "source": [
    "# Usando list comprehensions (não vimos ainda)\n",
    "# descs = [d[\"title\"] for d in seven_day.select(\".tombstone-container img\")]\n",
    "\n",
    "descs_tags = seven_day.select(\".tombstone-container img\")\n",
    "descs = []\n",
    "for d in descs_tags:\n",
    "    descs.append(d['title'])\n",
    "descs"
   ]
  },
  {
   "cell_type": "markdown",
   "metadata": {},
   "source": [
    "#### Pandas"
   ]
  },
  {
   "cell_type": "markdown",
   "metadata": {},
   "source": [
    "Um DataFrame é um objeto que pode armazenar dados tabulares, facilitando a análise. \n",
    "\n",
    "Vamos instanciar uma classe DataFrame e passar a lista de itens que temos. Vamos passar como parte de um dicionário. Cada chave do dicionário irá virar uma coluna no DataFrame e os elementos da lista irão se tornar os valores das colunas."
   ]
  },
  {
   "cell_type": "code",
   "execution_count": 46,
   "metadata": {},
   "outputs": [
    {
     "data": {
      "text/html": [
       "<div>\n",
       "<style scoped>\n",
       "    .dataframe tbody tr th:only-of-type {\n",
       "        vertical-align: middle;\n",
       "    }\n",
       "\n",
       "    .dataframe tbody tr th {\n",
       "        vertical-align: top;\n",
       "    }\n",
       "\n",
       "    .dataframe thead th {\n",
       "        text-align: right;\n",
       "    }\n",
       "</style>\n",
       "<table border=\"1\" class=\"dataframe\">\n",
       "  <thead>\n",
       "    <tr style=\"text-align: right;\">\n",
       "      <th></th>\n",
       "      <th>Período</th>\n",
       "      <th>Minidescrição</th>\n",
       "      <th>Temperatura</th>\n",
       "      <th>Descrição</th>\n",
       "    </tr>\n",
       "  </thead>\n",
       "  <tbody>\n",
       "    <tr>\n",
       "      <th>0</th>\n",
       "      <td>Today</td>\n",
       "      <td>Sunny</td>\n",
       "      <td>High: 95 °F</td>\n",
       "      <td>Today: Sunny, with a high near 95. Calm wind b...</td>\n",
       "    </tr>\n",
       "    <tr>\n",
       "      <th>1</th>\n",
       "      <td>Tonight</td>\n",
       "      <td>Mostly Clear</td>\n",
       "      <td>Low: 62 °F</td>\n",
       "      <td>Tonight: Mostly clear, with a low around 62. W...</td>\n",
       "    </tr>\n",
       "    <tr>\n",
       "      <th>2</th>\n",
       "      <td>Wednesday</td>\n",
       "      <td>Mostly Sunny</td>\n",
       "      <td>High: 96 °F</td>\n",
       "      <td>Wednesday: Mostly sunny, with a high near 96. ...</td>\n",
       "    </tr>\n",
       "    <tr>\n",
       "      <th>3</th>\n",
       "      <td>WednesdayNight</td>\n",
       "      <td>Partly Cloudy</td>\n",
       "      <td>Low: 64 °F</td>\n",
       "      <td>Wednesday Night: Partly cloudy, with a low aro...</td>\n",
       "    </tr>\n",
       "    <tr>\n",
       "      <th>4</th>\n",
       "      <td>Thursday</td>\n",
       "      <td>Mostly Sunny</td>\n",
       "      <td>High: 96 °F</td>\n",
       "      <td>Thursday: Mostly sunny, with a high near 96. L...</td>\n",
       "    </tr>\n",
       "    <tr>\n",
       "      <th>5</th>\n",
       "      <td>ThursdayNight</td>\n",
       "      <td>Mostly Clear</td>\n",
       "      <td>Low: 64 °F</td>\n",
       "      <td>Thursday Night: Mostly clear, with a low aroun...</td>\n",
       "    </tr>\n",
       "    <tr>\n",
       "      <th>6</th>\n",
       "      <td>Friday</td>\n",
       "      <td>Sunny</td>\n",
       "      <td>High: 97 °F</td>\n",
       "      <td>Friday: Sunny, with a high near 97. West wind ...</td>\n",
       "    </tr>\n",
       "    <tr>\n",
       "      <th>7</th>\n",
       "      <td>FridayNight</td>\n",
       "      <td>Clear</td>\n",
       "      <td>Low: 64 °F</td>\n",
       "      <td>Friday Night: Clear, with a low around 64. Wes...</td>\n",
       "    </tr>\n",
       "    <tr>\n",
       "      <th>8</th>\n",
       "      <td>Saturday</td>\n",
       "      <td>Sunny</td>\n",
       "      <td>High: 100 °F</td>\n",
       "      <td>Saturday: Sunny, with a high near 100. South w...</td>\n",
       "    </tr>\n",
       "  </tbody>\n",
       "</table>\n",
       "</div>"
      ],
      "text/plain": [
       "          Período  Minidescrição   Temperatura  \\\n",
       "0           Today          Sunny   High: 95 °F   \n",
       "1         Tonight   Mostly Clear    Low: 62 °F   \n",
       "2       Wednesday   Mostly Sunny   High: 96 °F   \n",
       "3  WednesdayNight  Partly Cloudy    Low: 64 °F   \n",
       "4        Thursday   Mostly Sunny   High: 96 °F   \n",
       "5   ThursdayNight   Mostly Clear    Low: 64 °F   \n",
       "6          Friday          Sunny   High: 97 °F   \n",
       "7     FridayNight          Clear    Low: 64 °F   \n",
       "8        Saturday          Sunny  High: 100 °F   \n",
       "\n",
       "                                           Descrição  \n",
       "0  Today: Sunny, with a high near 95. Calm wind b...  \n",
       "1  Tonight: Mostly clear, with a low around 62. W...  \n",
       "2  Wednesday: Mostly sunny, with a high near 96. ...  \n",
       "3  Wednesday Night: Partly cloudy, with a low aro...  \n",
       "4  Thursday: Mostly sunny, with a high near 96. L...  \n",
       "5  Thursday Night: Mostly clear, with a low aroun...  \n",
       "6  Friday: Sunny, with a high near 97. West wind ...  \n",
       "7  Friday Night: Clear, with a low around 64. Wes...  \n",
       "8  Saturday: Sunny, with a high near 100. South w...  "
      ]
     },
     "execution_count": 46,
     "metadata": {},
     "output_type": "execute_result"
    }
   ],
   "source": [
    "import pandas as pd\n",
    "df_clima_tempo = pd.DataFrame({\n",
    "    \"Período\": periods,\n",
    "    \"Minidescrição\": short_descs,\n",
    "    \"Temperatura\": temps,\n",
    "    \"Descrição\":descs\n",
    "})\n",
    "df_clima_tempo"
   ]
  },
  {
   "cell_type": "markdown",
   "metadata": {},
   "source": [
    "Com a tabela anterior, podemos fazer a análise do clima em uma cidade, incluindo as brasileiras."
   ]
  },
  {
   "cell_type": "markdown",
   "metadata": {},
   "source": [
    "**Desafio**"
   ]
  },
  {
   "cell_type": "markdown",
   "metadata": {},
   "source": [
    "Podemos utilizar [expressões regulares](https://pt.wikipedia.org/wiki/Express%C3%A3o_regular) e o método Series.str.extract para extrair o valor numérico das temperaturas. Esta [página](http://turing.com.br/material/regex/introducao.html) oferece uma introdução sobre o tópico."
   ]
  },
  {
   "cell_type": "code",
   "execution_count": 47,
   "metadata": {},
   "outputs": [
    {
     "data": {
      "text/plain": [
       "0     High: 95 °F\n",
       "1      Low: 62 °F\n",
       "2     High: 96 °F\n",
       "3      Low: 64 °F\n",
       "4     High: 96 °F\n",
       "5      Low: 64 °F\n",
       "6     High: 97 °F\n",
       "7      Low: 64 °F\n",
       "8    High: 100 °F\n",
       "Name: Temperatura, dtype: object"
      ]
     },
     "execution_count": 47,
     "metadata": {},
     "output_type": "execute_result"
    }
   ],
   "source": [
    "df_clima_tempo[\"Temperatura\"]"
   ]
  },
  {
   "cell_type": "markdown",
   "metadata": {},
   "source": [
    "Utilizamos o método [Series.str.extract](https://pandas.pydata.org/pandas-docs/stable/reference/api/pandas.Series.str.extract.html), que utiliza expressões regulares para extrair padrões do texto."
   ]
  },
  {
   "cell_type": "code",
   "execution_count": 48,
   "metadata": {},
   "outputs": [
    {
     "data": {
      "text/plain": [
       "0     95\n",
       "1     62\n",
       "2     96\n",
       "3     64\n",
       "4     96\n",
       "5     64\n",
       "6     97\n",
       "7     64\n",
       "8    100\n",
       "Name: Temperatura, dtype: object"
      ]
     },
     "execution_count": 48,
     "metadata": {},
     "output_type": "execute_result"
    }
   ],
   "source": [
    "# Neste caso, a expressão regular para extrair os digitos da string \n",
    "temp_nums = df_clima_tempo[\"Temperatura\"].str.extract(r\"(\\d+)\", expand=False)\n",
    "temp_nums"
   ]
  },
  {
   "cell_type": "code",
   "execution_count": 23,
   "metadata": {},
   "outputs": [
    {
     "data": {
      "text/plain": [
       "pandas.core.series.Series"
      ]
     },
     "execution_count": 23,
     "metadata": {},
     "output_type": "execute_result"
    }
   ],
   "source": [
    "# O tipo resultante de Series.str.extract\n",
    "type(temp_nums)"
   ]
  },
  {
   "cell_type": "code",
   "execution_count": 50,
   "metadata": {},
   "outputs": [
    {
     "data": {
      "text/plain": [
       "0     95\n",
       "1     62\n",
       "2     96\n",
       "3     64\n",
       "4     96\n",
       "5     64\n",
       "6     97\n",
       "7     64\n",
       "8    100\n",
       "Name: Temperatura, dtype: int64"
      ]
     },
     "execution_count": 50,
     "metadata": {},
     "output_type": "execute_result"
    }
   ],
   "source": [
    "# Converte os valores da coluna temp_num em inteiro\n",
    "df_clima_tempo[\"Temperatura\"] = temp_nums.astype('int')\n",
    "df_clima_tempo[\"Temperatura\"]"
   ]
  },
  {
   "cell_type": "code",
   "execution_count": 51,
   "metadata": {},
   "outputs": [
    {
     "data": {
      "text/html": [
       "<div>\n",
       "<style scoped>\n",
       "    .dataframe tbody tr th:only-of-type {\n",
       "        vertical-align: middle;\n",
       "    }\n",
       "\n",
       "    .dataframe tbody tr th {\n",
       "        vertical-align: top;\n",
       "    }\n",
       "\n",
       "    .dataframe thead th {\n",
       "        text-align: right;\n",
       "    }\n",
       "</style>\n",
       "<table border=\"1\" class=\"dataframe\">\n",
       "  <thead>\n",
       "    <tr style=\"text-align: right;\">\n",
       "      <th></th>\n",
       "      <th>Período</th>\n",
       "      <th>Minidescrição</th>\n",
       "      <th>Temperatura</th>\n",
       "      <th>Descrição</th>\n",
       "    </tr>\n",
       "  </thead>\n",
       "  <tbody>\n",
       "    <tr>\n",
       "      <th>0</th>\n",
       "      <td>Today</td>\n",
       "      <td>Sunny</td>\n",
       "      <td>95</td>\n",
       "      <td>Today: Sunny, with a high near 95. Calm wind b...</td>\n",
       "    </tr>\n",
       "    <tr>\n",
       "      <th>1</th>\n",
       "      <td>Tonight</td>\n",
       "      <td>Mostly Clear</td>\n",
       "      <td>62</td>\n",
       "      <td>Tonight: Mostly clear, with a low around 62. W...</td>\n",
       "    </tr>\n",
       "    <tr>\n",
       "      <th>2</th>\n",
       "      <td>Wednesday</td>\n",
       "      <td>Mostly Sunny</td>\n",
       "      <td>96</td>\n",
       "      <td>Wednesday: Mostly sunny, with a high near 96. ...</td>\n",
       "    </tr>\n",
       "    <tr>\n",
       "      <th>3</th>\n",
       "      <td>WednesdayNight</td>\n",
       "      <td>Partly Cloudy</td>\n",
       "      <td>64</td>\n",
       "      <td>Wednesday Night: Partly cloudy, with a low aro...</td>\n",
       "    </tr>\n",
       "    <tr>\n",
       "      <th>4</th>\n",
       "      <td>Thursday</td>\n",
       "      <td>Mostly Sunny</td>\n",
       "      <td>96</td>\n",
       "      <td>Thursday: Mostly sunny, with a high near 96. L...</td>\n",
       "    </tr>\n",
       "    <tr>\n",
       "      <th>5</th>\n",
       "      <td>ThursdayNight</td>\n",
       "      <td>Mostly Clear</td>\n",
       "      <td>64</td>\n",
       "      <td>Thursday Night: Mostly clear, with a low aroun...</td>\n",
       "    </tr>\n",
       "    <tr>\n",
       "      <th>6</th>\n",
       "      <td>Friday</td>\n",
       "      <td>Sunny</td>\n",
       "      <td>97</td>\n",
       "      <td>Friday: Sunny, with a high near 97. West wind ...</td>\n",
       "    </tr>\n",
       "    <tr>\n",
       "      <th>7</th>\n",
       "      <td>FridayNight</td>\n",
       "      <td>Clear</td>\n",
       "      <td>64</td>\n",
       "      <td>Friday Night: Clear, with a low around 64. Wes...</td>\n",
       "    </tr>\n",
       "    <tr>\n",
       "      <th>8</th>\n",
       "      <td>Saturday</td>\n",
       "      <td>Sunny</td>\n",
       "      <td>100</td>\n",
       "      <td>Saturday: Sunny, with a high near 100. South w...</td>\n",
       "    </tr>\n",
       "  </tbody>\n",
       "</table>\n",
       "</div>"
      ],
      "text/plain": [
       "          Período  Minidescrição  Temperatura  \\\n",
       "0           Today          Sunny           95   \n",
       "1         Tonight   Mostly Clear           62   \n",
       "2       Wednesday   Mostly Sunny           96   \n",
       "3  WednesdayNight  Partly Cloudy           64   \n",
       "4        Thursday   Mostly Sunny           96   \n",
       "5   ThursdayNight   Mostly Clear           64   \n",
       "6          Friday          Sunny           97   \n",
       "7     FridayNight          Clear           64   \n",
       "8        Saturday          Sunny          100   \n",
       "\n",
       "                                           Descrição  \n",
       "0  Today: Sunny, with a high near 95. Calm wind b...  \n",
       "1  Tonight: Mostly clear, with a low around 62. W...  \n",
       "2  Wednesday: Mostly sunny, with a high near 96. ...  \n",
       "3  Wednesday Night: Partly cloudy, with a low aro...  \n",
       "4  Thursday: Mostly sunny, with a high near 96. L...  \n",
       "5  Thursday Night: Mostly clear, with a low aroun...  \n",
       "6  Friday: Sunny, with a high near 97. West wind ...  \n",
       "7  Friday Night: Clear, with a low around 64. Wes...  \n",
       "8  Saturday: Sunny, with a high near 100. South w...  "
      ]
     },
     "execution_count": 51,
     "metadata": {},
     "output_type": "execute_result"
    }
   ],
   "source": [
    "df_clima_tempo"
   ]
  },
  {
   "cell_type": "markdown",
   "metadata": {},
   "source": [
    "Calcula a média para as temperaturas altas e baixas. "
   ]
  },
  {
   "cell_type": "code",
   "execution_count": 52,
   "metadata": {},
   "outputs": [
    {
     "data": {
      "text/plain": [
       "82.0"
      ]
     },
     "execution_count": 52,
     "metadata": {},
     "output_type": "execute_result"
    }
   ],
   "source": [
    "df_clima_tempo[\"Temperatura\"].mean()"
   ]
  }
 ],
 "metadata": {
  "kernelspec": {
   "display_name": "Python 3",
   "language": "python",
   "name": "python3"
  },
  "language_info": {
   "codemirror_mode": {
    "name": "ipython",
    "version": 3
   },
   "file_extension": ".py",
   "mimetype": "text/x-python",
   "name": "python",
   "nbconvert_exporter": "python",
   "pygments_lexer": "ipython3",
   "version": "3.8.5"
  }
 },
 "nbformat": 4,
 "nbformat_minor": 4
}
