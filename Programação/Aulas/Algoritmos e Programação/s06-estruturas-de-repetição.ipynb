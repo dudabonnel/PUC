{
 "cells": [
  {
   "cell_type": "markdown",
   "metadata": {},
   "source": [
    "# ESTRUTURAS DE REPETIÇÃO\n",
    "\n",
    "### Semana 06"
   ]
  },
  {
   "cell_type": "markdown",
   "metadata": {},
   "source": [
    "Uma estrutura de repetição permite que um ou mais comandos sejam executados repetidamente.\n",
    "\n",
    "Neste caderno, estudamos uma estrutura de repetição chamada `for`. Como vamos ver, estruturar o programa para utilizar repetições permite com que problemas complexos possam ser escritos com poucas linhas."
   ]
  },
  {
   "cell_type": "markdown",
   "metadata": {},
   "source": [
    "## O laço ```for```"
   ]
  },
  {
   "cell_type": "markdown",
   "metadata": {},
   "source": [
    "Vamos começar com um exemplo simples.\n",
    "\n",
    "O programa a seguir imprime a saudação `olá mundo` $10$ vezes na tela. Preste atenção que o comando que será repetido está identado (com espaçamento) em relação ao `for`."
   ]
  },
  {
   "cell_type": "code",
   "execution_count": 2,
   "metadata": {},
   "outputs": [
    {
     "name": "stdout",
     "output_type": "stream",
     "text": [
      "olá mundo\n",
      "olá mundo\n",
      "olá mundo\n",
      "olá mundo\n",
      "olá mundo\n",
      "olá mundo\n",
      "olá mundo\n",
      "olá mundo\n",
      "olá mundo\n",
      "olá mundo\n"
     ]
    }
   ],
   "source": [
    "for i in range(10):\n",
    "    print(\"olá mundo\")"
   ]
  },
  {
   "cell_type": "markdown",
   "metadata": {},
   "source": [
    "Vamos ver o que acontece quando colocamos dois comandos para serem repetidos na sequência"
   ]
  },
  {
   "cell_type": "code",
   "execution_count": 5,
   "metadata": {},
   "outputs": [
    {
     "name": "stdout",
     "output_type": "stream",
     "text": [
      "olá mundo\n",
      "hello world\n",
      "olá mundo\n",
      "hello world\n",
      "olá mundo\n",
      "hello world\n",
      "olá mundo\n",
      "hello world\n",
      "olá mundo\n",
      "hello world\n",
      "olá mundo\n",
      "hello world\n",
      "olá mundo\n",
      "hello world\n",
      "olá mundo\n",
      "hello world\n",
      "olá mundo\n",
      "hello world\n",
      "olá mundo\n",
      "hello world\n"
     ]
    }
   ],
   "source": [
    "for i in range(10):\n",
    "    print(\"olá mundo\")\n",
    "    print(\"hello world\")"
   ]
  },
  {
   "cell_type": "markdown",
   "metadata": {},
   "source": [
    "A execução anterior resultou nas mensagens intercaladas. No entanto, uma outra possibilidade seria estruturar o programa como a seguir"
   ]
  },
  {
   "cell_type": "code",
   "execution_count": 6,
   "metadata": {},
   "outputs": [
    {
     "name": "stdout",
     "output_type": "stream",
     "text": [
      "olá mundo\n",
      "olá mundo\n",
      "olá mundo\n",
      "olá mundo\n",
      "olá mundo\n",
      "olá mundo\n",
      "olá mundo\n",
      "olá mundo\n",
      "olá mundo\n",
      "olá mundo\n",
      "hello world\n",
      "hello world\n",
      "hello world\n",
      "hello world\n",
      "hello world\n",
      "hello world\n",
      "hello world\n",
      "hello world\n",
      "hello world\n",
      "hello world\n"
     ]
    }
   ],
   "source": [
    "for i in range(10):\n",
    "    print(\"olá mundo\")\n",
    "for i in range(10):\n",
    "    print(\"hello world\")"
   ]
  },
  {
   "cell_type": "markdown",
   "metadata": {},
   "source": [
    "No caso anterior, o comando `print(\"olá mundo\")` é repetido $10$ vezes. Em seguida, um novo `for` repete $10$ vezes o comando `print(\"hello world\")`"
   ]
  },
  {
   "cell_type": "markdown",
   "metadata": {},
   "source": [
    "Uso do passo."
   ]
  },
  {
   "cell_type": "code",
   "execution_count": 9,
   "metadata": {},
   "outputs": [
    {
     "name": "stdout",
     "output_type": "stream",
     "text": [
      "0\n",
      "2\n",
      "4\n",
      "6\n",
      "8\n"
     ]
    }
   ],
   "source": [
    "for i in range(0, 10, 2):\n",
    "    print(i)"
   ]
  },
  {
   "cell_type": "markdown",
   "metadata": {},
   "source": [
    "### Sintaxe"
   ]
  },
  {
   "cell_type": "markdown",
   "metadata": {},
   "source": [
    "A sintaxe da estrutura de repetição `for`\n",
    "\n",
    "```\n",
    "for <variável> in <sequência>:\n",
    "  <comando 1>\n",
    "  <comando 2>\n",
    "  ...\n",
    "  <comando n>\n",
    "```"
   ]
  },
  {
   "cell_type": "markdown",
   "metadata": {},
   "source": [
    "### A função `range()`\n",
    "\n",
    "A função `range()` cria um intervalo.\n",
    "\n",
    "Existem 3 formas de utilizá-la. \n",
    "\n",
    "#### Forma 1\n",
    "\n",
    "Nesta forma, a linguagem cria o intervalo semi-aberto $[0,stop[$\n",
    "\n",
    "```\n",
    "range(stop)\n",
    "\n",
    "\n",
    "\n",
    "\n",
    "\n",
    "\n",
    "```\n",
    "\n",
    "\n",
    "\n",
    "\n",
    "#### Forma 2\n",
    "\n",
    "Nesta forma, a linguagem cria o intervalo semi-aberto $[start,stop[$\n",
    "\n",
    "```\n",
    "range(start, stop)\n",
    "\n",
    "\n",
    "\n",
    "\n",
    "\n",
    "\n",
    "\n",
    "```\n",
    "\n",
    "\n",
    "\n",
    "#### Forma 3\n",
    "\n",
    "Nesta forma, a linguagem cria o intervalo semi-aberto $[start,stop[$ com passo $2$\n",
    "\n",
    "```\n",
    "range(start, stop, step)\n",
    "\n",
    "\n",
    "\n",
    "\n",
    "\n",
    "\n",
    "\n",
    "```"
   ]
  },
  {
   "cell_type": "markdown",
   "metadata": {},
   "source": [
    "#### Visualização dos intervalos\n",
    "\n",
    "Para ver os elementos que a função `range()` irá iterar, podemos utilizar um conversor para `list()`.\n",
    "\n",
    "```\n",
    "list(x)      # Convert x para uma lista\n",
    "```\n",
    "\n",
    "Exemplos.\n",
    "\n",
    "```\n",
    "list( range(4) ) \n",
    "   => [0, 1, 2, 3]\n",
    "   \n",
    "list( range(2, 4) ) \n",
    "   => [2, 3]\n",
    "   \n",
    "list( range(2, 10, 3) ) \n",
    "   => [2, 5, 8]\n",
    "   \n",
    "list( range(5, 2, -1)) \n",
    "   => [5, 4, 3]\n",
    "```"
   ]
  },
  {
   "cell_type": "code",
   "execution_count": 12,
   "metadata": {},
   "outputs": [
    {
     "data": {
      "text/plain": [
       "[2, 3, 4, 5, 6, 7, 8, 9]"
      ]
     },
     "execution_count": 12,
     "metadata": {},
     "output_type": "execute_result"
    }
   ],
   "source": [
    "list( range(2, 10) )"
   ]
  },
  {
   "cell_type": "markdown",
   "metadata": {},
   "source": [
    "Note que quando o passo é `-1`, a sequência ainda *para antes* do final (*stop*) fornecido"
   ]
  },
  {
   "cell_type": "markdown",
   "metadata": {},
   "source": [
    "### Iterando sequências"
   ]
  },
  {
   "cell_type": "markdown",
   "metadata": {},
   "source": [
    "O comando `for` permite a iteraração de **sequências**. Uma **sequência** em Python é um conjunto de elementos ordenados. A forma mais simples da sequência é uma **lista**, onde os elementos ficam entre colchetes.\n",
    "\n",
    "Note que a variável `i` vai assumir o valor de cada elemento da lista `[8,3,0]` em cada iteração."
   ]
  },
  {
   "cell_type": "code",
   "execution_count": 14,
   "metadata": {},
   "outputs": [
    {
     "name": "stdout",
     "output_type": "stream",
     "text": [
      "8 64\n",
      "3 9\n",
      "0 0\n"
     ]
    }
   ],
   "source": [
    "for i in [8, 3, 0]:\n",
    "    print(i, i ** 2)"
   ]
  },
  {
   "cell_type": "markdown",
   "metadata": {},
   "source": [
    "Veja que a forma a seguir é equivalente ao código anterior. "
   ]
  },
  {
   "cell_type": "code",
   "execution_count": 15,
   "metadata": {},
   "outputs": [
    {
     "name": "stdout",
     "output_type": "stream",
     "text": [
      "8 64\n",
      "3 9\n",
      "0 0\n"
     ]
    }
   ],
   "source": [
    "lista = [8, 3, 0]\n",
    "for i in lista:\n",
    "    print(i, i ** 2)"
   ]
  },
  {
   "cell_type": "markdown",
   "metadata": {},
   "source": [
    "### Loops de acumulação"
   ]
  },
  {
   "cell_type": "markdown",
   "metadata": {},
   "source": [
    "Em alguns casos, é necessário utilizar loops de acumulação. Considere por exemplo a somatória."
   ]
  },
  {
   "cell_type": "markdown",
   "metadata": {},
   "source": [
    "$$\\sum_{k=0}^{10} {k}$$"
   ]
  },
  {
   "cell_type": "code",
   "execution_count": 21,
   "metadata": {},
   "outputs": [
    {
     "name": "stdout",
     "output_type": "stream",
     "text": [
      "O valor final do acumulador eh:  55\n"
     ]
    }
   ],
   "source": [
    "k = 0\n",
    "for i in range(11):\n",
    "    k = k + i\n",
    "\n",
    "print(\"O valor final do acumulador eh: \", k)"
   ]
  },
  {
   "cell_type": "markdown",
   "metadata": {},
   "source": [
    "O caso do produtório é bem similar."
   ]
  },
  {
   "cell_type": "markdown",
   "metadata": {},
   "source": [
    "$$\\prod_{i=1}^{10} {k}$$"
   ]
  },
  {
   "cell_type": "code",
   "execution_count": 20,
   "metadata": {},
   "outputs": [
    {
     "name": "stdout",
     "output_type": "stream",
     "text": [
      "O valor final do acumulador de multiplicacao eh:  3628800\n"
     ]
    }
   ],
   "source": [
    "k = 1\n",
    "for i in range(1,11):\n",
    "    k = k * i\n",
    "\n",
    "print(\"O valor final do acumulador de multiplicacao eh: \", k)"
   ]
  },
  {
   "cell_type": "markdown",
   "metadata": {},
   "source": [
    "**Exercício de fixação**\n",
    "\n",
    "Por que na somatória a variável `k` é inicializada com $0$, e no produtório a variável `k` é inicializada com $1$?"
   ]
  },
  {
   "cell_type": "markdown",
   "metadata": {},
   "source": [
    "#### Sintaxe dos acumuladores\n",
    "\n",
    "```\n",
    "<acumulador> = <valor-inicial>\n",
    "loop:\n",
    "     <acumulador> = <acumulador> <operação> <quantidade>\n",
    "```"
   ]
  },
  {
   "cell_type": "markdown",
   "metadata": {},
   "source": [
    "### A soma harmônica"
   ]
  },
  {
   "cell_type": "markdown",
   "metadata": {},
   "source": [
    "A **soma harmônica** pode ser definida da seguinte forma.\n",
    "\n",
    "$$1 + \\frac{1}{2} + \\frac{1}{3} + \\frac{1}{4} +\\cdots \\frac{1}{n} = \\sum_{k=1}^{n} \\frac{1}{k}$$"
   ]
  },
  {
   "cell_type": "code",
   "execution_count": 22,
   "metadata": {},
   "outputs": [
    {
     "name": "stdout",
     "output_type": "stream",
     "text": [
      "Entre com um inteiro positivo: 3\n",
      "A soma de 1/k para k = 1 a 3 eh 1.8333333333333333\n"
     ]
    }
   ],
   "source": [
    "def harmonica(n):\n",
    "    # Computa a soma de 1/k para k=1 a n\n",
    "    total = 0\n",
    "    for k in range(1, n + 1):\n",
    "        total = total + 1 / k\n",
    "    return total\n",
    "\n",
    "def main():\n",
    "    n = int(input('Entre com um inteiro positivo: '))\n",
    "    print(\"A soma de 1/k para k = 1 a\", n, \"eh\", harmonica(n))\n",
    "\n",
    "main()"
   ]
  },
  {
   "cell_type": "markdown",
   "metadata": {},
   "source": [
    "#### Atalhos de atribuição\n",
    "\n",
    "```\n",
    "x += y\n",
    "x -= y\n",
    "x *= y\n",
    "x /= y\n",
    "```"
   ]
  },
  {
   "cell_type": "markdown",
   "metadata": {},
   "source": [
    "## Exercícios"
   ]
  },
  {
   "cell_type": "markdown",
   "metadata": {},
   "source": [
    "**[1]** No programa da soma harmônica, explique o uso de `n + 1` ao invés de `n` no ```range(n + 1)```."
   ]
  },
  {
   "cell_type": "markdown",
   "metadata": {},
   "source": [
    "*A função `range(ini, fim)` estabelece um intervalo semi-aberto à direita $[ini, fim[$ Por exemplo, uma chamada à função `range(1,10)` criará o intervalo semi-aberto $[1,10[$, que equivale a $1,2,3,4,5,6,7,8,9$. O cálculo da função `harmonica(n)` requer que o comando `total += 1/k` execute `n` vezes. Existem duas maneiras disso acontecer. A primeira seria criar uma estrutura de repetição utilizando `for k in range(0, n):`. No entanto, isso faria com que o primeiro valor de `k` fosse `0`, o que causaria um erro quando o programa tentasse realizar uma divisão por zero. A segunda maneira é a representada no código `range(1, n+1)`. Nessa segunda forma, não acontece a tentativa de divisão por `0` porque o primeiro valor de `k` é $1$. Por este motivo, optou-se pela segunda forma.*"
   ]
  },
  {
   "cell_type": "markdown",
   "metadata": {},
   "source": [
    "**[2]** Liste todas as variáveis usadas no programa da soma harmônica e descreva o escopo de cada."
   ]
  },
  {
   "cell_type": "markdown",
   "metadata": {},
   "source": [
    "*Informalmente, podemos entender as variáveis em Python como espaços em memória que podem ser acessados seus nomes. O escopo da variável se refere ao espaço onde a variável existe. Por exemplo, a função `main()` usa duas variáveis: `str_n` e `n`, o que significa que esses espaços em memória só podem ser acessados quando a função `main()` estiver executando. A função `harmonica(n)` usa três variáveis: `n`, `total` e `k`. Porque `n` aparece junto com a declaração da função, `n` recebe o nome especial de **parâmetro**. Assim como antes, as variáveis em `harmonica(n)` só podem ser acessadas quando a função estiver em execução. Assim, o escopo das variáveis em `main()` e `harmonica(n)` é a função onde são declaradas em utilizadas.*"
   ]
  },
  {
   "cell_type": "markdown",
   "metadata": {},
   "source": [
    "**[3]** Determine os elementos que serão iterados para cada uma dessas funções `range`. Dica: utilize a função `list()` para visualizar o retorno de cada chamada de função ao `range()`"
   ]
  },
  {
   "cell_type": "markdown",
   "metadata": {},
   "source": [
    "(a) `range(10)`"
   ]
  },
  {
   "cell_type": "markdown",
   "metadata": {},
   "source": [
    "(b) `range(5, 10)`"
   ]
  },
  {
   "cell_type": "markdown",
   "metadata": {},
   "source": [
    "(c) `range(10, 5)`"
   ]
  },
  {
   "cell_type": "markdown",
   "metadata": {},
   "source": [
    "(d) `range(3, 10, 2)`"
   ]
  },
  {
   "cell_type": "markdown",
   "metadata": {},
   "source": [
    "(e) `range(10, 0, -1)`"
   ]
  },
  {
   "cell_type": "markdown",
   "metadata": {},
   "source": [
    "(f) `range(10, 0, -2)`"
   ]
  },
  {
   "cell_type": "markdown",
   "metadata": {},
   "source": [
    "(g) `range(0, 10, -1)`"
   ]
  },
  {
   "cell_type": "markdown",
   "metadata": {},
   "source": [
    "(h) `range(0, 1, 0.1)`"
   ]
  },
  {
   "cell_type": "markdown",
   "metadata": {},
   "source": [
    "**[4]** Escreva um programa que imprime uma citação de sua escolha exatamente $1000$ vezes."
   ]
  },
  {
   "cell_type": "markdown",
   "metadata": {},
   "source": [
    "**[5]** Escreva um programa que imprime uma tabela de valores de $n$ e $2^n$ para $n = 1, 2, ... , 10$. Estes valores parecem familiares?"
   ]
  },
  {
   "cell_type": "markdown",
   "metadata": {},
   "source": [
    "**[6]** Escreva um programa que imprime uma tabela de valores de $n$, $\\log{n}$, $n\\log{n}$, $n^2$, e $2^n$ para $n = 10, 20, ...., 200$. O `log` é uma função do módulo `math`. A função $n\\log{n}$ cresce mais que $n$ ou $n^2$? Como você descreveria o crescimento de $2^n$? E de $\\log{n}$?\n",
    "\n",
    "> Dica: utilize a função ```log``` na biblioteca ```math```."
   ]
  },
  {
   "cell_type": "markdown",
   "metadata": {},
   "source": [
    "**[7]** Escreva um programa que imprime uma tabela para as áreas dos círculos de raio $r = 1, 2, ... , 10$."
   ]
  },
  {
   "cell_type": "markdown",
   "metadata": {},
   "source": [
    "**[8]** Escreva um programa que, dado um número $n$, calcule a soma dos $n$ pares utilizando o laço `for`. Não considere o $0$ como par."
   ]
  }
 ],
 "metadata": {
  "kernelspec": {
   "display_name": "Python 3",
   "language": "python",
   "name": "python3"
  },
  "language_info": {
   "codemirror_mode": {
    "name": "ipython",
    "version": 3
   },
   "file_extension": ".py",
   "mimetype": "text/x-python",
   "name": "python",
   "nbconvert_exporter": "python",
   "pygments_lexer": "ipython3",
   "version": "3.8.8"
  }
 },
 "nbformat": 4,
 "nbformat_minor": 4
}
