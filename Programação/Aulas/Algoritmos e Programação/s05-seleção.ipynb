{
 "cells": [
  {
   "cell_type": "markdown",
   "metadata": {},
   "source": [
    "# SELEÇÃO"
   ]
  },
  {
   "cell_type": "markdown",
   "metadata": {},
   "source": [
    "Os comandos de seleção permitem que os programas executem código dependendo do que acontece em execução. "
   ]
  },
  {
   "cell_type": "markdown",
   "metadata": {},
   "source": [
    "# `if`"
   ]
  },
  {
   "cell_type": "markdown",
   "metadata": {},
   "source": [
    "## Seleção de um ramo"
   ]
  },
  {
   "cell_type": "markdown",
   "metadata": {},
   "source": [
    "**Sintaxe**"
   ]
  },
  {
   "cell_type": "markdown",
   "metadata": {},
   "source": [
    "```python\n",
    "if (<expressão booleana>):\n",
    "   <corpo>\n",
    "```"
   ]
  },
  {
   "cell_type": "markdown",
   "metadata": {},
   "source": [
    "Se a `<expressão booleana>` for `True` (verdadeira), então os comandos em `<corpo>` serão executados. Se a expressão é `False`, então os comandos do `<corpo>` não serão executados. "
   ]
  },
  {
   "cell_type": "markdown",
   "metadata": {},
   "source": [
    "**Expressões Booleanas**"
   ]
  },
  {
   "cell_type": "markdown",
   "metadata": {},
   "source": [
    "Uma expressão booleana é uma expressão que retorna um resultado lógico: `True` ou `False`."
   ]
  },
  {
   "cell_type": "markdown",
   "metadata": {},
   "source": [
    "| Expressão | Descrição         | \n",
    "| -------  | :----------------: |\n",
    "| `x == y` |  Igual             |\n",
    "| `x != y` | Diferente          |\n",
    "| `x < y`  | Menor que          |\n",
    "| `x > y`  | Maior que          |\n",
    "| `x <= y` | Menor ou igual que |\n",
    "| `x >= y` | Maior ou igual que |\n"
   ]
  },
  {
   "cell_type": "markdown",
   "metadata": {},
   "source": [
    "**Exemplo**"
   ]
  },
  {
   "cell_type": "markdown",
   "metadata": {},
   "source": [
    "Loteria"
   ]
  },
  {
   "cell_type": "code",
   "execution_count": 4,
   "metadata": {},
   "outputs": [
    {
     "name": "stdout",
     "output_type": "stream",
     "text": [
      "Parabens! Voce esta com sorte.\n",
      "Se não leu os parabéns, é porque você não ganhou\n"
     ]
    }
   ],
   "source": [
    "# Biblioteca\n",
    "from random import *\n",
    "\n",
    "# Escolhemos um número premiado\n",
    "num_premiado = 5\n",
    "\n",
    "# cria um numero aleatório entre 0 e 1, multiplica por 10 e converte pra inteiro\n",
    "# Por exemplo, suponha que: \n",
    "# n = random()                => 0.9164925035276017 \n",
    "# n = n * 10                  => 9.164925035276017\n",
    "# n = int(9.164925035276017)  => 9\n",
    "n = random()\n",
    "n = int(n*10)\n",
    "\n",
    "num_sorteado = n\n",
    "if (num_sorteado == num_premiado):\n",
    "    # espaço chama-se indentação => to indent\n",
    "    print(\"Parabens! Voce esta com sorte.\")\n",
    "print(\"Se não leu os parabéns, é porque você não ganhou\")"
   ]
  },
  {
   "cell_type": "markdown",
   "metadata": {},
   "source": [
    "**Exercícios de fixação**"
   ]
  },
  {
   "cell_type": "markdown",
   "metadata": {},
   "source": [
    "**[a]** Explique a diferença entre `=` e `==` em Python."
   ]
  },
  {
   "cell_type": "markdown",
   "metadata": {},
   "source": []
  },
  {
   "cell_type": "markdown",
   "metadata": {},
   "source": [
    "**[b]** Por que a frase ```\"Parabens! Voce esta com sorte.\"``` ora aparece como resultado da execução e ora não?"
   ]
  },
  {
   "cell_type": "markdown",
   "metadata": {},
   "source": []
  },
  {
   "cell_type": "markdown",
   "metadata": {},
   "source": [
    "### Seleção com dois ramos"
   ]
  },
  {
   "cell_type": "markdown",
   "metadata": {},
   "source": [
    "Opcionalmente, o comando `if` pode ter uma cláusula `else`, que contém um código alternativo para rodar quando a expressão booleana é `False`."
   ]
  },
  {
   "cell_type": "markdown",
   "metadata": {},
   "source": [
    "**Sintaxe**"
   ]
  },
  {
   "cell_type": "markdown",
   "metadata": {},
   "source": [
    "```python\n",
    "if <expressão booleana>:\n",
    "   <corpo1>\n",
    "else:\n",
    "   <corpo2>\n",
    "```"
   ]
  },
  {
   "cell_type": "markdown",
   "metadata": {},
   "source": [
    "**Exemplo**"
   ]
  },
  {
   "cell_type": "code",
   "execution_count": 16,
   "metadata": {},
   "outputs": [
    {
     "name": "stdout",
     "output_type": "stream",
     "text": [
      "Não foi dessa vez campeão.\n",
      "Jogue novamente\n"
     ]
    }
   ],
   "source": [
    " from random import *\n",
    "\n",
    "# Escolhemos um número premiado\n",
    "num_premiado = 5\n",
    "\n",
    "# cria um numero aleatório entre 0 e 1, multiplica por 10 e converte pra inteiro\n",
    "# Por exemplo, suponha que: \n",
    "# n = random()                => 0.9164925035276017 \n",
    "# n = n * 10                  => 9.164925035276017\n",
    "# n = int(9.164925035276017)  => 9\n",
    "n = random()\n",
    "n = int(n*10)\n",
    "\n",
    "num_sorteado = n\n",
    "if (num_sorteado == num_premiado):\n",
    "    print(\"Parabens! Voce esta com sorte.\")\n",
    "else:\n",
    "    print(\"Não foi dessa vez campeão.\")\n",
    "print(\"Jogue novamente\")"
   ]
  },
  {
   "cell_type": "markdown",
   "metadata": {},
   "source": [
    "**Exercício de fixação**"
   ]
  },
  {
   "cell_type": "markdown",
   "metadata": {},
   "source": [
    "**[c]** Como essa esta versão do código difere da versão sem o ```else```?"
   ]
  },
  {
   "cell_type": "markdown",
   "metadata": {},
   "source": []
  },
  {
   "cell_type": "markdown",
   "metadata": {},
   "source": [
    "### Seleção com n ramos"
   ]
  },
  {
   "cell_type": "markdown",
   "metadata": {},
   "source": [
    "Finalmente, uma sequência de testes pode ser feita com a cláusula `elif`."
   ]
  },
  {
   "cell_type": "markdown",
   "metadata": {},
   "source": [
    "**Sintaxe**"
   ]
  },
  {
   "cell_type": "markdown",
   "metadata": {},
   "source": [
    "```python\n",
    "if <expressão booleana 1>:\n",
    "   <corpo 1>\n",
    "elif <expressão booleana 2>:\n",
    "   <corpo 2>\n",
    "elif <expressão booleana 3>:\n",
    "   <corpo 3>\n",
    "#...\n",
    "elif <expressão booleana N-1>:\n",
    "   <corpo N-1>\n",
    "else:\n",
    "    <corpo N>\n",
    "```"
   ]
  },
  {
   "cell_type": "markdown",
   "metadata": {},
   "source": [
    "**Exemplo**"
   ]
  },
  {
   "cell_type": "code",
   "execution_count": 26,
   "metadata": {},
   "outputs": [
    {
     "name": "stdout",
     "output_type": "stream",
     "text": [
      "O tempo esta agradavel\n"
     ]
    }
   ],
   "source": [
    "temp = float(input(\"Qual a temperatura agora em Celsius? \"))\n",
    "\n",
    "classe = None\n",
    "if (temp < 10.0):\n",
    "    classe = \"frio\"\n",
    "elif (temp <= 27.0):\n",
    "    classe = \"agradavel\"\n",
    "elif (temp <= 35.0):\n",
    "    classe = \"quente\"\n",
    "else:\n",
    "    classe = \"um inferno\"\n",
    "\n",
    "print(\"O tempo esta {}\".format(classe))"
   ]
  },
  {
   "cell_type": "markdown",
   "metadata": {},
   "source": [
    "**Exercício de fixação**"
   ]
  },
  {
   "cell_type": "markdown",
   "metadata": {},
   "source": [
    "**[d]** A partir do código anterior, crie um programa que classifique a classe social (A, B, C, D ou E) de uma pessoa a partir de sua renda familiar."
   ]
  },
  {
   "cell_type": "code",
   "execution_count": null,
   "metadata": {},
   "outputs": [],
   "source": []
  },
  {
   "cell_type": "markdown",
   "metadata": {},
   "source": [
    "## Exercícios"
   ]
  },
  {
   "cell_type": "markdown",
   "metadata": {},
   "source": [
    "**[1]** Escreva um programa que imprima o conceito correspondente para uma nota numérica. Considere $9$ ou acima para $A$, $8$ ou acima para um $B$ etc."
   ]
  },
  {
   "cell_type": "code",
   "execution_count": null,
   "metadata": {},
   "outputs": [],
   "source": []
  },
  {
   "cell_type": "markdown",
   "metadata": {},
   "source": [
    "**[2]** Escreva um programa que retorne o maior valor entre $x$ e $y$, dados pelo usuário. Não utilize a função pronta do Python como a `max()`. Implemente sua própria lógica."
   ]
  },
  {
   "cell_type": "code",
   "execution_count": 33,
   "metadata": {},
   "outputs": [
    {
     "name": "stdout",
     "output_type": "stream",
     "text": [
      "Entre com um valor: 5.4\n",
      "Entre com um outro valor: 7.6\n",
      "O maior é: 7.6\n"
     ]
    }
   ],
   "source": [
    "x = float(input(\"Entre com um valor: \"))\n",
    "y = float(input(\"Entre com um outro valor: \"))\n",
    "\n",
    "if (x > y):\n",
    "    maior = x\n",
    "else:\n",
    "    maior = y\n",
    "print(\"O maior é: {}\".format(maior))"
   ]
  },
  {
   "cell_type": "markdown",
   "metadata": {},
   "source": [
    "**[3]** Escreva um programa que retorne o maior valor entre $x$, $y$ e $z$, dados pelo usuário. Não utilize a função pronta do Python como a `max()`. Implemente sua própria lógica."
   ]
  },
  {
   "cell_type": "code",
   "execution_count": 15,
   "metadata": {},
   "outputs": [
    {
     "name": "stdout",
     "output_type": "stream",
     "text": [
      "O maior é: 10\n"
     ]
    }
   ],
   "source": [
    "#x = float(input(\"Entre com o 1o valor: \"))\n",
    "#y = float(input(\"Entre com o 2o valor: \"))\n",
    "#z = float(input(\"Entre com o 3o valor: \"))\n",
    "\n",
    "#  Teste seu programa com os seguintes valores\n",
    "#x, y, z = 10, 5, 1\n",
    "#x, y, z = 10, 1, 5\n",
    "#x, y, z = 1, 10, 5\n",
    "#x, y, z = 1, 5, 10\n",
    "#x, y, z = 5, 10, 1\n",
    "#x, y, z = 5, 1, 10\n",
    "\n",
    "if (x > y):\n",
    "    maior = x\n",
    "else:\n",
    "    maior = y\n",
    "\n",
    "if (maior < z):\n",
    "    maior = z\n",
    "    \n",
    "print(\"O maior é: {}\".format(maior))"
   ]
  },
  {
   "cell_type": "markdown",
   "metadata": {},
   "source": [
    "**[4]** Escreva um programa que imprima os três valores $x$, $y$, e $z$ em ordem não decrescente (a, b, c), onde $a <= b <= c$. Não utilize a função pronta do Python como a `max()`. Implemente sua própria lógica."
   ]
  },
  {
   "cell_type": "code",
   "execution_count": 8,
   "metadata": {},
   "outputs": [
    {
     "name": "stdout",
     "output_type": "stream",
     "text": [
      "1\t5\t10\n"
     ]
    }
   ],
   "source": [
    "#a = float(input(\"Entre com o 1o valor: \"))\n",
    "#b = float(input(\"Entre com o 2o valor: \"))\n",
    "#c = float(input(\"Entre com o 3o valor: \"))\n",
    "\n",
    "#  Teste seu programa com os seguintes valores\n",
    "#a, b, c = 10, 5, 1\n",
    "#a, b, c = 10, 1, 5\n",
    "#a, b, c = 1, 10, 5\n",
    "#a, b, c = 1, 5, 10\n",
    "#a, b, c = 5, 10, 1\n",
    "#a, b, c = 5, 1, 10\n",
    "\n",
    "if (a > b):\n",
    "    maior_ab, menor_ab = a, b\n",
    "else:\n",
    "    maior_ab, menor_ab = b, a\n",
    "\n",
    "if (maior_ab < c):\n",
    "    maior, meio, menor = c, maior_ab, menor_ab\n",
    "elif (menor_ab > c):\n",
    "    maior, meio, menor = maior_ab, menor_ab, c\n",
    "else:\n",
    "    maior, meio, menor = maior_ab, c, menor_ab\n",
    "    \n",
    "print(\"{}\\t{}\\t{}\".format(menor, meio, maior))"
   ]
  }
 ],
 "metadata": {
  "kernelspec": {
   "display_name": "Python 3",
   "language": "python",
   "name": "python3"
  },
  "language_info": {
   "codemirror_mode": {
    "name": "ipython",
    "version": 3
   },
   "file_extension": ".py",
   "mimetype": "text/x-python",
   "name": "python",
   "nbconvert_exporter": "python",
   "pygments_lexer": "ipython3",
   "version": "3.8.8"
  }
 },
 "nbformat": 4,
 "nbformat_minor": 4
}
