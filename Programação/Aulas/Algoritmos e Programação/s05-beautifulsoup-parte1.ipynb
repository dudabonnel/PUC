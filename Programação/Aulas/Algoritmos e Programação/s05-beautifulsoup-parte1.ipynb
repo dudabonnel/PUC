{
 "cells": [
  {
   "cell_type": "markdown",
   "metadata": {},
   "source": [
    "<img src=\"img/brasao-PUCSP-assinatura-principal-RGB.png\" width=\"10%\"/>"
   ]
  },
  {
   "cell_type": "markdown",
   "metadata": {
    "_cell_guid": "b1076dfc-b9ad-4769-8c92-a6c4dae69d19",
    "_uuid": "8f2839f25d086af736a60e9eeb907d3b93b6e0e5"
   },
   "source": [
    "# CDIA21 | BeautifulSoup"
   ]
  },
  {
   "cell_type": "markdown",
   "metadata": {},
   "source": [
    "#### Semana 05 |  Raspagem de Dados com Beautiful Soup"
   ]
  },
  {
   "cell_type": "markdown",
   "metadata": {},
   "source": [
    "Em muitas situações, necessitamos de dados que não estão estruturados em um formato de dados legível por máquinas como por exemplo um ```.csv``` ou  *[Application Programming Interface (API)](https://pt.wikipedia.org/wiki/Interface_de_programa%C3%A7%C3%A3o_de_aplica%C3%A7%C3%B5es)*. Frequentemente os dados estão em páginas da Web. Neste caso, necessitamos utilizar técnicas de raspagem de dados (em inglês, *Web scraping*) para extrair os dados de uma página Web em um formato útil para análise.\n",
    "\n",
    "Neste tutorial, mostramos como fazer a raspagem de dados do serviço de metereologia americano *[National Weather Service](https://www.weather.gov/)*. Usaremos a biblioteca [Beautiful Soup](https://www.crummy.com/software/BeautifulSoup/) para fazer a raspagem e [Pandas](https://pandas.pydata.org/) para fazer a análise dos dados."
   ]
  },
  {
   "cell_type": "markdown",
   "metadata": {},
   "source": [
    "## Os componentes de uma página Web"
   ]
  },
  {
   "cell_type": "markdown",
   "metadata": {},
   "source": [
    "Quando visitamos uma página web, o navegador faz uma requisição a um servidor web. Esta requisição é chamada de requisição `GET`, uma vez que vamos 'pegar' arquivos do servidor. O servidor manda de volta os arquivos que informam nosso navegador como renderizar a página."
   ]
  },
  {
   "cell_type": "markdown",
   "metadata": {},
   "source": [
    "#### O modelo cliente-servidor\n",
    "\n",
    ">É uma arquitetura de aplicação distribuída, em que um ou mais clientes solicitam recursos ou serviços a servidores, que retornam aos clientes aquilo que lhes foi solicitado."
   ]
  },
  {
   "cell_type": "markdown",
   "metadata": {},
   "source": [
    "Os arquivos que retornam dos servidores se encaixam em algumas poucas categorias.\n",
    "\n",
    "- HTML - contém o conteúdo de uma página\n",
    "\n",
    "- CSS - adiciona estilo à página pra ficar mais bonita\n",
    "\n",
    "- JS - Arquivos Javascript adicionam interatividade às páginas web\n",
    "\n",
    "- Imagens - Arquivos de imagens PNG ou JPG que permitem que as páginas web mostrem imagens"
   ]
  },
  {
   "cell_type": "markdown",
   "metadata": {},
   "source": [
    "## HTML"
   ]
  },
  {
   "cell_type": "markdown",
   "metadata": {},
   "source": [
    "HTML é uma linguagem de marcação e consiste de elementos chamados etiquetas (em inglês, tags). As etiquetas informam ao navegador qual a função de cada parte do texto. "
   ]
  },
  {
   "cell_type": "markdown",
   "metadata": {},
   "source": [
    "```html\n",
    "<html>\n",
    "</html>\n",
    "```"
   ]
  },
  {
   "cell_type": "markdown",
   "metadata": {},
   "source": [
    "Este próximo exemplo contém um pouco mais de comandos HTML e nenhum conteúdo a ser renderizado na página."
   ]
  },
  {
   "cell_type": "markdown",
   "metadata": {},
   "source": [
    "```html\n",
    "<html>\n",
    "    <head>\n",
    "    </head>\n",
    "    <body>\n",
    "    </body>\n",
    "</html>\n",
    "```"
   ]
  },
  {
   "cell_type": "markdown",
   "metadata": {},
   "source": [
    "No próximo exemplo, temos dois parágrafos que podem ser renderizados pelo navegador."
   ]
  },
  {
   "cell_type": "markdown",
   "metadata": {},
   "source": [
    "```html\n",
    "<html>\n",
    "    <head>\n",
    "    </head>\n",
    "    <body>\n",
    "        <p>\n",
    "           Olá mundo HTML!\n",
    "        </p>\n",
    "        <p>\n",
    "           Hello HTML World!\n",
    "        </p>\n",
    "    </body>\n",
    "</html>\n",
    "```"
   ]
  },
  {
   "cell_type": "markdown",
   "metadata": {},
   "source": [
    "Isso apareceria assim no navegador."
   ]
  },
  {
   "cell_type": "markdown",
   "metadata": {},
   "source": [
    "Olá Mundo HTML!\n",
    "\n",
    "Hello HTML World!"
   ]
  },
  {
   "cell_type": "markdown",
   "metadata": {},
   "source": [
    "As etiquetas possuem nomes que dependem da posição relativa em relação às outras etiquetas.\n",
    "\n",
    "- **filho**: é uma etiqueta que está dentro de outra. Assim, as duas etiquetas ```<p>``` são filhas da etiqueta ```body```.\n",
    "\n",
    "- **pai**: é a etiqueta que contém uma outra. Por exemplo, a etiqueta ```<html>``` é pai de ```<body>```.\n",
    "\n",
    "- **irmão**: é uma etiqueta que compartilha o mesmo pai que outra. No exemplo, ambas etiquetas ```<p>``` são irmãs."
   ]
  },
  {
   "cell_type": "markdown",
   "metadata": {},
   "source": [
    "Podemos adicionar propriedades às etiquetas HTML que alteram seu comportamento:"
   ]
  },
  {
   "cell_type": "markdown",
   "metadata": {},
   "source": [
    "```html\n",
    "<html>\n",
    "<head>\n",
    "</head>\n",
    "<body>\n",
    "<p>\n",
    "Here's a paragraph of text!\n",
    "<a href=\"https://www.dataquest.io\">Learn Data Science Online</a>\n",
    "</p>\n",
    "<p>\n",
    "    Here's a second paragraph of text!\n",
    "    <a href=\"https://www.python.org\">Python</a> \n",
    "</p>\n",
    "</body>\n",
    "</html>\n",
    "```"
   ]
  },
  {
   "cell_type": "markdown",
   "metadata": {},
   "source": [
    "O resultado no navegador será assim:\n",
    "\n",
    "Here's a paragraph of text! [Learn Data Science Online](https://www.dataquest.io)\n",
    "\n",
    "Here's a second paragraph of text! [Python](https://www.python.org)"
   ]
  },
  {
   "cell_type": "markdown",
   "metadata": {},
   "source": [
    "Etiquetas comuns:\n",
    "\n",
    "- `a` --- renderiza um link para uma outra página web\n",
    "\n",
    "- `div` --- indica uma divisão, ou uma área de uma página\n",
    "\n",
    "- `b` --- torna um texto em negrito\n",
    "\n",
    "- `i` --- torna um texto em itálico\n",
    "\n",
    "- `table` --- cria uma tabela\n",
    "\n",
    "- `form` --- cria um form de entrada de dados\n",
    "\n",
    "\n",
    "Este [link](https://developer.mozilla.org/en-US/docs/Web/HTML/Element) contém todas as etiquetas HTML."
   ]
  },
  {
   "cell_type": "markdown",
   "metadata": {},
   "source": [
    "Antes de partir para a raspagem web, precisamos conhecer as propriedades ```class``` e ```id```. Um elemento pode ter múltiplas classes, e uma classe pode ser compartilhada por vários elementos. Cada elemento pode ter somente um id e um id só pode ser usado uma vez na página. Classes e ids são opcionais e nem todos os elementos as incluem.\n",
    "\n",
    "Vamos adicionar classes e ids ao nosso exemplo."
   ]
  },
  {
   "cell_type": "markdown",
   "metadata": {},
   "source": [
    "```html\n",
    "<html>\n",
    "<head>\n",
    "</head>\n",
    "<body>\n",
    "<p class=\"bold-paragraph\">\n",
    "Here's a paragraph of text!\n",
    "<a href=\"https://www.dataquest.io\" id=\"learn-link\">Learn Data Science Online</a>\n",
    "</p>\n",
    "<p class=\"bold-paragraph extra-large\">\n",
    "Here's a second paragraph of text!\n",
    "<a href=\"https://www.python.org\" class=\"extra-large\">Python</a>\n",
    "</p>\n",
    "</body>\n",
    "</html>\n",
    "```"
   ]
  },
  {
   "cell_type": "markdown",
   "metadata": {},
   "source": [
    "# ```requests```"
   ]
  },
  {
   "cell_type": "markdown",
   "metadata": {},
   "source": [
    "### Instalando a biblioteca requests"
   ]
  },
  {
   "cell_type": "markdown",
   "metadata": {},
   "source": [
    "```bash\n",
    "pip install requests\n",
    "```"
   ]
  },
  {
   "cell_type": "markdown",
   "metadata": {},
   "source": [
    "### Usando a biblioteca requests"
   ]
  },
  {
   "cell_type": "code",
   "execution_count": 9,
   "metadata": {},
   "outputs": [
    {
     "data": {
      "text/plain": [
       "b'<!DOCTYPE html>\\n<html>\\n    <head>\\n        <title>A simple example page</title>\\n    </head>\\n    <body>\\n        <p>Here is some simple content for this page.</p>\\n    </body>\\n</html>'"
      ]
     },
     "execution_count": 9,
     "metadata": {},
     "output_type": "execute_result"
    }
   ],
   "source": [
    "import requests\n",
    "page = requests.get(\"http://dataquestio.github.io/web-scraping-pages/simple.html\")\n",
    "#page\n",
    "page.content"
   ]
  },
  {
   "cell_type": "markdown",
   "metadata": {},
   "source": [
    "`requests.get(uri)` retorna um objeto que possui uma propriedade chamada `status_code`, que indica se o download da página foi bem sucedido."
   ]
  },
  {
   "cell_type": "code",
   "execution_count": 18,
   "metadata": {},
   "outputs": [
    {
     "data": {
      "text/plain": [
       "<Response [200]>"
      ]
     },
     "execution_count": 18,
     "metadata": {},
     "output_type": "execute_result"
    }
   ],
   "source": [
    "page"
   ]
  },
  {
   "cell_type": "code",
   "execution_count": 17,
   "metadata": {},
   "outputs": [
    {
     "data": {
      "text/plain": [
       "200"
      ]
     },
     "execution_count": 17,
     "metadata": {},
     "output_type": "execute_result"
    }
   ],
   "source": [
    "page.status_code"
   ]
  },
  {
   "cell_type": "markdown",
   "metadata": {},
   "source": [
    "Imprimindo o conteúdo de uma página."
   ]
  },
  {
   "cell_type": "code",
   "execution_count": null,
   "metadata": {},
   "outputs": [],
   "source": [
    "page.content"
   ]
  },
  {
   "cell_type": "markdown",
   "metadata": {},
   "source": [
    "**Exercício de fixação**"
   ]
  },
  {
   "cell_type": "markdown",
   "metadata": {},
   "source": [
    "Escolha uma URL que retorne um HTML (páginas não formadas por JavaScript) e mostre o resultado na tela."
   ]
  },
  {
   "cell_type": "code",
   "execution_count": null,
   "metadata": {},
   "outputs": [],
   "source": [
    "import requests\n",
    "page = requests.get(\"<URL>\")"
   ]
  },
  {
   "cell_type": "markdown",
   "metadata": {},
   "source": [
    "## ```BeautifulSoup```"
   ]
  },
  {
   "cell_type": "markdown",
   "metadata": {},
   "source": [
    "#### Instalando a biblioteca BeautifulSoup"
   ]
  },
  {
   "cell_type": "code",
   "execution_count": null,
   "metadata": {},
   "outputs": [],
   "source": [
    "pip install bs4"
   ]
  },
  {
   "cell_type": "markdown",
   "metadata": {},
   "source": [
    "#### Usando a biblioteca BeautifulSoup"
   ]
  },
  {
   "cell_type": "code",
   "execution_count": 10,
   "metadata": {},
   "outputs": [
    {
     "data": {
      "text/plain": [
       "<!DOCTYPE html>\n",
       "\n",
       "<html>\n",
       "<head>\n",
       "<title>A simple example page</title>\n",
       "</head>\n",
       "<body>\n",
       "<p>Here is some simple content for this page.</p>\n",
       "</body>\n",
       "</html>"
      ]
     },
     "execution_count": 10,
     "metadata": {},
     "output_type": "execute_result"
    }
   ],
   "source": [
    "from bs4 import BeautifulSoup\n",
    "soup = BeautifulSoup(page.content, 'html.parser')\n",
    "soup"
   ]
  },
  {
   "cell_type": "code",
   "execution_count": 16,
   "metadata": {},
   "outputs": [
    {
     "name": "stdout",
     "output_type": "stream",
     "text": [
      "<!DOCTYPE html>\n",
      "<html>\n",
      " <head>\n",
      "  <title>\n",
      "   A simple example page\n",
      "  </title>\n",
      " </head>\n",
      " <body>\n",
      "  <p>\n",
      "   Here is some simple content for this page.\n",
      "  </p>\n",
      " </body>\n",
      "</html>\n"
     ]
    }
   ],
   "source": [
    "print(soup.prettify())"
   ]
  },
  {
   "cell_type": "markdown",
   "metadata": {},
   "source": [
    "Podemos selecionar todos os elementos no topo na página usando a propriedade `children` de `soup`. É necessário usar uma função `list` no resutado:"
   ]
  },
  {
   "cell_type": "code",
   "execution_count": 13,
   "metadata": {},
   "outputs": [
    {
     "data": {
      "text/plain": [
       "<list_iterator at 0x10a06f580>"
      ]
     },
     "execution_count": 13,
     "metadata": {},
     "output_type": "execute_result"
    }
   ],
   "source": [
    "soup.children"
   ]
  },
  {
   "cell_type": "code",
   "execution_count": 19,
   "metadata": {},
   "outputs": [
    {
     "data": {
      "text/plain": [
       "['html',\n",
       " '\\n',\n",
       " <html>\n",
       " <head>\n",
       " <title>A simple example page</title>\n",
       " </head>\n",
       " <body>\n",
       " <p>Here is some simple content for this page.</p>\n",
       " </body>\n",
       " </html>]"
      ]
     },
     "execution_count": 19,
     "metadata": {},
     "output_type": "execute_result"
    }
   ],
   "source": [
    "list(soup.children)"
   ]
  },
  {
   "cell_type": "markdown",
   "metadata": {},
   "source": [
    "**Pergunta** Quantos elementos a lista anterior (i.e., ```list(soup.children)```) possui?"
   ]
  },
  {
   "cell_type": "code",
   "execution_count": 20,
   "metadata": {
    "_kg_hide-output": true
   },
   "outputs": [
    {
     "data": {
      "text/plain": [
       "3"
      ]
     },
     "execution_count": 20,
     "metadata": {},
     "output_type": "execute_result"
    }
   ],
   "source": [
    "l = list(soup.children)\n",
    "## Contagem de elementos\n",
    "len(l)"
   ]
  },
  {
   "cell_type": "markdown",
   "metadata": {},
   "source": [
    "Vamos ver qual o tipo de cada elemento."
   ]
  },
  {
   "cell_type": "code",
   "execution_count": null,
   "metadata": {},
   "outputs": [],
   "source": [
    "lista = list(soup.children)\n",
    "\n",
    "for elemento in lista:\n",
    "    print(type(elemento))"
   ]
  },
  {
   "cell_type": "markdown",
   "metadata": {},
   "source": [
    "O item final `Tag` é o que contém as etiquetas e é por ele que navegamos no documento HTML. É o terceiro elemento da lista."
   ]
  },
  {
   "cell_type": "code",
   "execution_count": null,
   "metadata": {},
   "outputs": [],
   "source": [
    "html = list(soup.children)[2]\n",
    "html"
   ]
  },
  {
   "cell_type": "code",
   "execution_count": null,
   "metadata": {},
   "outputs": [],
   "source": [
    "type(html)"
   ]
  },
  {
   "cell_type": "code",
   "execution_count": null,
   "metadata": {},
   "outputs": [],
   "source": [
    "list(html.children)"
   ]
  },
  {
   "cell_type": "code",
   "execution_count": null,
   "metadata": {},
   "outputs": [],
   "source": [
    "body = list(html.children)[3]\n",
    "body"
   ]
  },
  {
   "cell_type": "code",
   "execution_count": null,
   "metadata": {},
   "outputs": [],
   "source": [
    "list(body.children)"
   ]
  },
  {
   "cell_type": "code",
   "execution_count": null,
   "metadata": {},
   "outputs": [],
   "source": [
    "p = list(body.children)[1]\n",
    "p"
   ]
  },
  {
   "cell_type": "code",
   "execution_count": null,
   "metadata": {},
   "outputs": [],
   "source": [
    "p.get_text()"
   ]
  },
  {
   "cell_type": "markdown",
   "metadata": {},
   "source": [
    "### Encontrando todas as instâncias de uma etiqueta de uma vez"
   ]
  },
  {
   "cell_type": "markdown",
   "metadata": {},
   "source": [
    "Usando o método `find_all`, que encontra todas as instâncias de uma etiqueta em uma página."
   ]
  },
  {
   "cell_type": "code",
   "execution_count": null,
   "metadata": {},
   "outputs": [],
   "source": [
    "soup = BeautifulSoup(page.content, 'html.parser')\n",
    "soup.find_all('p')"
   ]
  },
  {
   "cell_type": "code",
   "execution_count": null,
   "metadata": {},
   "outputs": [],
   "source": [
    "soup.find_all('p')[0].get_text()"
   ]
  },
  {
   "cell_type": "code",
   "execution_count": null,
   "metadata": {},
   "outputs": [],
   "source": [
    "soup.find('p')"
   ]
  },
  {
   "cell_type": "markdown",
   "metadata": {},
   "source": [
    "### Pesquisando etiquetas por classe e por identificador"
   ]
  },
  {
   "cell_type": "markdown",
   "metadata": {},
   "source": [
    "Classes e identificadores (ids) são utilizados pelo CSS para determinar os estilos que será aplicado a cada elemento HTML. Veja o exemplo. \n",
    "\n",
    "Esta página se encontra [aqui](http://dataquestio.github.io/web-scraping-pages/ids_and_classes.html):"
   ]
  },
  {
   "cell_type": "markdown",
   "metadata": {},
   "source": [
    "```html\n",
    "<html>\n",
    "<head>\n",
    "<title>A simple example page</title>\n",
    "</head>\n",
    "<body>\n",
    "<div>\n",
    "<p class=\"inner-text first-item\" id=\"first\">\n",
    "First paragraph.\n",
    "</p>\n",
    "<p class=\"inner-text\">\n",
    "Second paragraph.\n",
    "</p>\n",
    "</div>\n",
    "<p class=\"outer-text first-item\" id=\"second\">\n",
    "<b>\n",
    "First outer paragraph.\n",
    "</b>\n",
    "</p>\n",
    "<p class=\"outer-text\">\n",
    "<b>\n",
    "Second outer paragraph.\n",
    "</b>\n",
    "</p>\n",
    "</body>\n",
    "</html>\n",
    "```"
   ]
  },
  {
   "cell_type": "code",
   "execution_count": null,
   "metadata": {},
   "outputs": [],
   "source": [
    "page = requests.get(\"http://dataquestio.github.io/web-scraping-pages/ids_and_classes.html\")\n",
    "soup = BeautifulSoup(page.content, 'html.parser')\n",
    "soup"
   ]
  },
  {
   "cell_type": "code",
   "execution_count": null,
   "metadata": {},
   "outputs": [],
   "source": [
    "soup.find_all('p', class_='outer-text')"
   ]
  },
  {
   "cell_type": "code",
   "execution_count": null,
   "metadata": {},
   "outputs": [],
   "source": [
    "soup.find_all(class_=\"outer-text\")"
   ]
  },
  {
   "cell_type": "code",
   "execution_count": null,
   "metadata": {},
   "outputs": [],
   "source": [
    "soup.find_all(id=\"first\")"
   ]
  },
  {
   "cell_type": "markdown",
   "metadata": {},
   "source": [
    "### Usando seletores CSS"
   ]
  },
  {
   "cell_type": "markdown",
   "metadata": {},
   "source": [
    "Podemos pesquisar por itens da página usando seletores CSS. Estes seletores CSS permitem que as etiquetas HTML sejam estilizadas.\n",
    "\n",
    "- ```p a``` --- encontra todas as etiquetas ```a``` dentro de uma etiqueta ```p```\n",
    "\n",
    "- ``` ``` --- encontra todas as etiquetas ```a``` dentro de uma etiqueta ```p``` dentro de uma etiqueta ```a```\n",
    "\n",
    "- ```html body``` --- encontra todas as etiquetas ```body``` dentro de uma etiqueta ```html```\n",
    "\n",
    "- ```p.outer-text``` --- encontra todas as etiquetas ```p``` dentro da classe ```outer-text```\n",
    "\n",
    "- ```p#first``` --- encontra todas as etiquetas ```p``` com ```id``` igual a ```first``` \n",
    "\n",
    "- ```body p.outer-text``` --- encontra toda etiqueta ```p``` com classe ```outer-text``` dentro da etiqueta ```body```"
   ]
  },
  {
   "cell_type": "code",
   "execution_count": null,
   "metadata": {},
   "outputs": [],
   "source": [
    "soup.select(\"div p\")"
   ]
  },
  {
   "cell_type": "markdown",
   "metadata": {},
   "source": [
    "## Referências"
   ]
  },
  {
   "cell_type": "markdown",
   "metadata": {},
   "source": [
    "DATA QUEST. https://www.dataquest.io/blog/web-scraping-tutorial-python/. Acesso em 06/04/2021"
   ]
  }
 ],
 "metadata": {
  "kernelspec": {
   "display_name": "Python 3",
   "language": "python",
   "name": "python3"
  },
  "language_info": {
   "codemirror_mode": {
    "name": "ipython",
    "version": 3
   },
   "file_extension": ".py",
   "mimetype": "text/x-python",
   "name": "python",
   "nbconvert_exporter": "python",
   "pygments_lexer": "ipython3",
   "version": "3.8.8"
  }
 },
 "nbformat": 4,
 "nbformat_minor": 4
}
