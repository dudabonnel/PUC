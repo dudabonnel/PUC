{
 "cells": [
  {
   "cell_type": "markdown",
   "metadata": {},
   "source": [
    "# Pilhas e Filas"
   ]
  },
  {
   "cell_type": "markdown",
   "metadata": {},
   "source": [
    "# Pilhas"
   ]
  },
  {
   "cell_type": "markdown",
   "metadata": {},
   "source": [
    "Uma Pilha é uma coleção de objetos que são inseridos e removidos de acordo com a política <b><i>last-in, first-out</i></b> (LIFO)."
   ]
  },
  {
   "cell_type": "markdown",
   "metadata": {},
   "source": [
    "## O Tipo Dados Abstrato da Pilha"
   ]
  },
  {
   "cell_type": "markdown",
   "metadata": {},
   "source": [
    "`S.push(e)`: Adiciona o elemento `e` para o topo da pilha `S`\n",
    "    \n",
    "`S.pop()`: Remove e retorna o elemento topo da pilha `S` e ocasiona erro se a pilha é vazia\n",
    "\n",
    "`S.top()`: Retorna uma referência para o elemento topo da pilha `S`, sem removê-lo; um erro ocorre caso a pilha esteja vazia\n",
    "\n",
    "`S.is_empty()`: Retorna `True` se a pilha `S` não contiver quaisquer elementos\n",
    "\n",
    "`len(S)`: Retorna o número de elementos na pilha `S`; em Python, implementamos esse método com o `__len__`."
   ]
  },
  {
   "cell_type": "markdown",
   "metadata": {},
   "source": [
    "### Exemplo de operações"
   ]
  },
  {
   "cell_type": "markdown",
   "metadata": {},
   "source": [
    "<img src=\"img/stack-operations.png\" width=\"50%\" />"
   ]
  },
  {
   "cell_type": "markdown",
   "metadata": {},
   "source": [
    "### Implementando uma Pilha (usando o Python)"
   ]
  },
  {
   "cell_type": "markdown",
   "metadata": {},
   "source": [
    "Implementação do erro de Pilha Vazia."
   ]
  },
  {
   "cell_type": "code",
   "execution_count": 27,
   "metadata": {},
   "outputs": [],
   "source": [
    "class EmptyStackException(Exception):\n",
    "    pass"
   ]
  },
  {
   "cell_type": "markdown",
   "metadata": {},
   "source": [
    "A implementação de uma Pilha utilizando listas como mecanismo de armazenagem."
   ]
  },
  {
   "cell_type": "code",
   "execution_count": 2,
   "metadata": {},
   "outputs": [],
   "source": [
    "class ArrayStack:\n",
    "    \"\"\"\n",
    "    A implementação de uma Pilha LIFO usando listas Python como mecanismo de armazenamento \n",
    "    \"\"\"\n",
    "    \n",
    "    def __init__(self):\n",
    "        \"\"\"\n",
    "        Cria uma pilha vazia\n",
    "        \"\"\"\n",
    "        self._data = []\n",
    "        \n",
    "    def __len__(self):\n",
    "        \"\"\"\n",
    "        Retorna o número de elementos na Pilha\n",
    "        \"\"\"\n",
    "        return len(self._data)\n",
    "    \n",
    "    def is_empty(self):\n",
    "        \"\"\"\n",
    "        Retorna True se a pilha é vazia\n",
    "        \"\"\"\n",
    "        return len(self._data) == 0\n",
    "    \n",
    "    def push(self, e):\n",
    "        \"\"\"\n",
    "        Adiciona o elemento e ao topo da pilha\n",
    "        \"\"\"\n",
    "        self._data.append(e)\n",
    "        \n",
    "    def top(self):\n",
    "        \"\"\"\n",
    "        Retorna (mas não remove) o elemento do topo da pilha (i.e., LIFO)\n",
    "        Lança um exceção caso a pilha esteja vazia\n",
    "        \"\"\"\n",
    "\n",
    "        if (self.is_empty()):\n",
    "            raise EmptyStackException(\"A Pilha está vazia\")\n",
    "        return self._data[-1]\n",
    "    \n",
    "    def pop(self):\n",
    "        \"\"\"\n",
    "        Remove e retorna o elemento do topo da pilha (i.e., LIFO)\n",
    "        Lança um exceção caso a pilha esteja vazia\n",
    "        \"\"\"\n",
    "        if (self.is_empty()):\n",
    "            raise EmptyStackException(\"A Pilha está vazia\")\n",
    "        return self._data.pop()\n",
    "    \n",
    "    def __str__(self):\n",
    "        \"\"\"\n",
    "        Mostra o conteúdo da pilha\n",
    "        \"\"\"\n",
    "        return str(self._data)"
   ]
  },
  {
   "cell_type": "markdown",
   "metadata": {},
   "source": [
    "### Pratique"
   ]
  },
  {
   "cell_type": "markdown",
   "metadata": {},
   "source": [
    "Verifique o funcionamento da Pilha, digitando um a um os comandos ilustrados a seguir."
   ]
  },
  {
   "cell_type": "markdown",
   "metadata": {},
   "source": [
    "<img src=\"img/exemplo-de--uso-da-pilha.png\" width=\"50%\" />"
   ]
  },
  {
   "cell_type": "code",
   "execution_count": 11,
   "metadata": {},
   "outputs": [
    {
     "name": "stdout",
     "output_type": "stream",
     "text": [
      "[5]\n",
      "[5, 3]\n",
      "len(S): 2\n",
      "3\n",
      "False\n",
      "5\n"
     ]
    }
   ],
   "source": [
    "# Escreva a sequência de comandos aqui\n",
    "S = ArrayStack()\n",
    "S.push(5)\n",
    "print(S)\n",
    "S.push(3)\n",
    "print(S)\n",
    "print(f\"len(S): {len(S)}\")\n",
    "print(S.pop())\n",
    "print(S.is_empty())\n",
    "print(S.top())"
   ]
  },
  {
   "cell_type": "markdown",
   "metadata": {},
   "source": [
    "### Exercícios sobre Pilha"
   ]
  },
  {
   "cell_type": "markdown",
   "metadata": {},
   "source": [
    "#### Reforço"
   ]
  },
  {
   "cell_type": "markdown",
   "metadata": {},
   "source": [
    "**[01]** Que valores são retornados durante a seguinte série de operações, se executadas a partir de uma pilha vazia? \n",
    "\n",
    "`push(5)`, `push(3)`, `pop()`, `push(2)`, `push(8)`, `pop()`, `push(9)`, `push(1)`, `pop()`, `push(7)`, `push(6)`, `pop()`, `pop()`, `push(4)`, `pop()`, `pop()`"
   ]
  },
  {
   "cell_type": "code",
   "execution_count": 14,
   "metadata": {},
   "outputs": [
    {
     "name": "stdout",
     "output_type": "stream",
     "text": [
      "3\n",
      "8\n",
      "1\n",
      "6\n",
      "7\n",
      "4\n",
      "9\n"
     ]
    }
   ],
   "source": [
    "# Sua resposta aqui\n",
    "S = ArrayStack()\n",
    "S.push(5)\n",
    "S.push(3)\n",
    "print(S.pop())\n",
    "S.push(2)\n",
    "S.push(8)\n",
    "print(S.pop())\n",
    "S.push(9)\n",
    "S.push(1)\n",
    "print(S.pop())\n",
    "S.push(7)\n",
    "S.push(6)\n",
    "print(S.pop())\n",
    "print(S.pop())\n",
    "S.push(4)\n",
    "print(S.pop())\n",
    "print(S.pop())"
   ]
  },
  {
   "cell_type": "markdown",
   "metadata": {},
   "source": [
    "**[02]** Implemente uma função que inverta uma lista de elementos, empilhando-os na pilha em uma ordem e escrevendo-os na lista de volta na ordem reversa."
   ]
  },
  {
   "cell_type": "code",
   "execution_count": 18,
   "metadata": {},
   "outputs": [
    {
     "name": "stdout",
     "output_type": "stream",
     "text": [
      "[10, 9, 8, 7, 6, 5, 4, 3, 2, 1]\n"
     ]
    }
   ],
   "source": [
    "# Sua resposta aqui\n",
    "\n",
    "# dada uma lista qualquer de tamanho n\n",
    "lst = [1,2,3,4,5,6,7,8,9,10]\n",
    "\n",
    "# usar a pilha S para inverter os elementos\n",
    "\n",
    "# empilhamento\n",
    "S = ArrayStack()\n",
    "for e in lst:\n",
    "    S.push(e)\n",
    "\n",
    "# desempilhamento\n",
    "for i in range(len(lst)):\n",
    "    lst[i] = S.pop()\n",
    "\n",
    "print(lst)\n",
    "# no final a lista deve estar assim\n",
    "#lst = [10,9,8,7,6,5,4,3,2,1]"
   ]
  },
  {
   "cell_type": "markdown",
   "metadata": {},
   "source": [
    "#### Criatividade"
   ]
  },
  {
   "cell_type": "markdown",
   "metadata": {},
   "source": [
    "**[03]** Modifique a classe `ArrayStack` para que a capacidade máxima da pilha esteja limitada a um número `maxlen`, em que `maxlen` é um parâmetro opcional no construtor (default = None). Se o `push` for chamado quando a pilha estiver na capacidade máxima, uma exceção `FullStackException` ocorre (definida similarmente a `EmptyStackException`)."
   ]
  },
  {
   "cell_type": "code",
   "execution_count": null,
   "metadata": {},
   "outputs": [],
   "source": [
    "# Sua resposta aqui\n",
    "\n",
    "class FullStackException(Exception):\n",
    "    pass\n",
    "\n",
    "# Apresentando somente o método push e o construtor\n",
    "def __init__(self, maxlen=None):\n",
    "    \"\"\"\n",
    "    Cria uma pilha vazia\n",
    "    \"\"\"\n",
    "    self._data = []\n",
    "    self.maxlen = maxlen\n",
    "\n",
    "def push(self, e):\n",
    "    \"\"\"\n",
    "    Adiciona o elemento e ao topo da pilha\n",
    "    \"\"\"\n",
    "    if (len(self) >= self.maxlen):\n",
    "        raise FullStackException(\"A pilha está cheia!\")\n",
    "    self._data.append(e)"
   ]
  },
  {
   "cell_type": "markdown",
   "metadata": {},
   "source": [
    "# Filas"
   ]
  },
  {
   "cell_type": "markdown",
   "metadata": {},
   "source": [
    "Uma Fila é uma coleção de objetos que são inseridos e removidos de acordo com a política <b><i>first-in, first-out</i></b> (FIFO)."
   ]
  },
  {
   "cell_type": "markdown",
   "metadata": {},
   "source": [
    "## O Tipo de Dados Abstrato da Fila"
   ]
  },
  {
   "cell_type": "markdown",
   "metadata": {},
   "source": [
    "`Q.enqueue(e)`: Adiciona um elemento `e` ao fim da fila `Q`.\n",
    "\n",
    "`Q.dequeue()`: Remove e retorna o primeiro elemento da fila `Q`; um erro ocorre se a fila é vazia\n",
    "\n",
    "`Q.first()`: Retorna uma referência para o elemento na frente da fila `Q`, sem removê-lo; um erro ocorre se a fila é vazia\n",
    "\n",
    "`Q.is_empty()`: Retorna `True` se a fila `Q` não contiver elementos\n",
    "\n",
    "`len(Q)`: Retorna o número de elementos na fila `Q`; em Python, implementamos este método com `__len__`."
   ]
  },
  {
   "cell_type": "markdown",
   "metadata": {},
   "source": [
    "### Implementando uma Fila (usando Python)"
   ]
  },
  {
   "cell_type": "code",
   "execution_count": 38,
   "metadata": {},
   "outputs": [],
   "source": [
    "class EmptyQueueException(Exception):\n",
    "    pass"
   ]
  },
  {
   "cell_type": "code",
   "execution_count": 33,
   "metadata": {},
   "outputs": [],
   "source": [
    "class ArrayQueue:\n",
    "    \"\"\"\n",
    "    Implementação FIFO usando uma lista Python como mecanismo de armazenagem \n",
    "    \"\"\"\n",
    "    DEFAULT_CAPACITY = 10\n",
    "    \n",
    "    def __init__(self):\n",
    "        \"\"\"\n",
    "        Cria uma fila vazia\n",
    "        \"\"\"\n",
    "        self._data = [None] * ArrayQueue.DEFAULT_CAPACITY\n",
    "        self._size = 0\n",
    "        self._front = 0\n",
    "    \n",
    "    def __len__(self):\n",
    "        \"\"\"\n",
    "        Retorna o número de elementos na fila\n",
    "        \"\"\"\n",
    "        return self._size\n",
    "    \n",
    "    def is_empty(self):\n",
    "        \"\"\"\n",
    "        Retorna True se a fila é vazia\n",
    "        \"\"\"\n",
    "        return self._size == 0\n",
    "    \n",
    "    def first(self):\n",
    "        \"\"\"\n",
    "        Retorna (mas não remove) o elemento na frente da fila\n",
    "        Lança uma exceção caso contrário\n",
    "        \"\"\"\n",
    "        if (self.is_empty()):\n",
    "            raise EmptyQueueException('A Fila está vazia')\n",
    "        return self._data[self._front]\n",
    "    \n",
    "    def dequeue(self):\n",
    "        \"\"\"\n",
    "        Remove e retorna o primeiro elemento da fila (i.e., FIFO)\n",
    "        Lança uma exceção se a fila for vazia\n",
    "        \"\"\"\n",
    "        if (self.is_empty()):\n",
    "            raise EmptyQueueException('A Fila está vazia')\n",
    "        answer = self._data[self._front]\n",
    "        self._data[self._front] = None\n",
    "        self._front = (self._front + 1) % len(self._data)\n",
    "        self._size -= 1\n",
    "        return answer\n",
    "    \n",
    "    def enqueue(self, e):\n",
    "        \"\"\"\n",
    "        Adiciona um elemento ao fim da fila\n",
    "        \"\"\"\n",
    "        if (self._size == len(self._data)):\n",
    "            self._resize(2 * len(self._data))\n",
    "        avail = (self._front + self._size) % len(self._data)\n",
    "        self._data[avail] = e\n",
    "        self._size += 1\n",
    "    \n",
    "    def _resize(self, cap):\n",
    "        \"\"\"\n",
    "        Redimensiona a capacidade da nova lista\n",
    "        \"\"\"\n",
    "        old = self._data\n",
    "        self._data = [None] * cap\n",
    "        walk = self._front\n",
    "        for k in range(self._size):\n",
    "            self._data[k] = old[walk]\n",
    "            walk = (1 + walk) % len(old)\n",
    "        self._front = 0\n",
    "        \n",
    "    def __str__(self):\n",
    "        return str(self._data)"
   ]
  },
  {
   "cell_type": "markdown",
   "metadata": {},
   "source": [
    "### Visualização do enfileiramento de elementos"
   ]
  },
  {
   "cell_type": "markdown",
   "metadata": {},
   "source": [
    "A figura a seguir ilustra o enfileiramento de uma sequência de elementos."
   ]
  },
  {
   "cell_type": "markdown",
   "metadata": {},
   "source": [
    "<img src=\"img/inserindo-elementos-na-fila.gif\" width=\"50%\">"
   ]
  },
  {
   "cell_type": "markdown",
   "metadata": {},
   "source": [
    "A figura a seguir ilustra o desenfileiramento do primeiro elemento da fila (FIFO)."
   ]
  },
  {
   "cell_type": "markdown",
   "metadata": {},
   "source": [
    "<img src=\"img/desenfileirando-1o-elemento.png\" width=\"45%\"/>"
   ]
  },
  {
   "cell_type": "markdown",
   "metadata": {},
   "source": [
    "**Questão**\n",
    "\n",
    "O elemento da posição $0$ está vago, mas a fila `Q` irá indicar que não existe mais espaço disponível."
   ]
  },
  {
   "cell_type": "markdown",
   "metadata": {},
   "source": [
    "<img src=\"img/fila-cheia.png\" width=\"45%\">"
   ]
  },
  {
   "cell_type": "markdown",
   "metadata": {},
   "source": [
    "# Enfileirando com ponteiros"
   ]
  },
  {
   "cell_type": "markdown",
   "metadata": {},
   "source": [
    "<img src=\"img/enfileirando-com-ponteiros.gif\" width=\"50%\">"
   ]
  },
  {
   "cell_type": "markdown",
   "metadata": {},
   "source": [
    "### Desenfileirando com ponteiros"
   ]
  },
  {
   "cell_type": "markdown",
   "metadata": {},
   "source": [
    "<img src=\"img/desenfileirando.gif\" width=\"45%\">"
   ]
  },
  {
   "cell_type": "markdown",
   "metadata": {},
   "source": [
    "### Pratique"
   ]
  },
  {
   "cell_type": "markdown",
   "metadata": {},
   "source": [
    "<img src=\"img/exemplos-operações-fila.png\" width=\"50%\" />"
   ]
  },
  {
   "cell_type": "markdown",
   "metadata": {},
   "source": [
    "Verifique o funcionamento da Fila, digitando um a um os comandos ilustrados a seguir."
   ]
  },
  {
   "cell_type": "code",
   "execution_count": 36,
   "metadata": {},
   "outputs": [
    {
     "name": "stdout",
     "output_type": "stream",
     "text": [
      "[None, None, None, None, None, None, None, None, None, None]\n"
     ]
    }
   ],
   "source": [
    "# Escreva suas respostas aqui\n",
    "\n",
    "Q = ArrayQueue()\n",
    "print(Q)"
   ]
  },
  {
   "cell_type": "markdown",
   "metadata": {},
   "source": [
    "#### Exercícios"
   ]
  },
  {
   "cell_type": "markdown",
   "metadata": {},
   "source": [
    "**[01]** Que valores são retornados durante a sequência de operações de fila, se executadas em uma fila vazia?\n",
    "\n",
    "`enqueue(5)`, `enqueue(3)`, `dequeue()`, `enqueue(2)`, `enqueue(8)`, `dequeue()`, `dequeue()`, `enqueue(9)`, `enqueue(1)`, `dequeue()`, `enqueue(7)`, `enqueue(6)`, `dequeue()`, `dequeue()`, `enqueue(4)`, `dequeue()`, `dequeue()`, `dequeue()`"
   ]
  },
  {
   "cell_type": "code",
   "execution_count": 37,
   "metadata": {},
   "outputs": [
    {
     "name": "stdout",
     "output_type": "stream",
     "text": [
      "5\n",
      "3\n",
      "2\n",
      "8\n",
      "9\n",
      "1\n",
      "7\n",
      "6\n",
      "4\n"
     ]
    }
   ],
   "source": [
    "# Escreva suas respostas aqui\n",
    "\n",
    "Q.enqueue(5)\n",
    "Q.enqueue(3)\n",
    "print(Q.dequeue())\n",
    "Q.enqueue(2)\n",
    "Q.enqueue(8)\n",
    "print(Q.dequeue())\n",
    "print(Q.dequeue())\n",
    "Q.enqueue(9)\n",
    "Q.enqueue(1)\n",
    "print(Q.dequeue())\n",
    "Q.enqueue(7)\n",
    "Q.enqueue(6)\n",
    "print(Q.dequeue())\n",
    "print(Q.dequeue())\n",
    "Q.enqueue(4)\n",
    "print(Q.dequeue())\n",
    "print(Q.dequeue())\n",
    "print(Q.dequeue())"
   ]
  }
 ],
 "metadata": {
  "kernelspec": {
   "display_name": "Python 3",
   "language": "python",
   "name": "python3"
  },
  "language_info": {
   "codemirror_mode": {
    "name": "ipython",
    "version": 3
   },
   "file_extension": ".py",
   "mimetype": "text/x-python",
   "name": "python",
   "nbconvert_exporter": "python",
   "pygments_lexer": "ipython3",
   "version": "3.8.8"
  }
 },
 "nbformat": 4,
 "nbformat_minor": 4
}
