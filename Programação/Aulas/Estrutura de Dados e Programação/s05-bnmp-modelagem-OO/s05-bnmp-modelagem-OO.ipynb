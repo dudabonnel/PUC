{
 "cells": [
  {
   "cell_type": "markdown",
   "id": "c2871af7",
   "metadata": {},
   "source": [
    "# Modelagem OO do BNMP"
   ]
  },
  {
   "cell_type": "code",
   "execution_count": 1,
   "id": "90ea95bc",
   "metadata": {},
   "outputs": [],
   "source": [
    "from selenium import webdriver\n",
    "from selenium.webdriver.common.keys import Keys\n",
    "from time import sleep"
   ]
  },
  {
   "cell_type": "code",
   "execution_count": 35,
   "id": "9f40b52e",
   "metadata": {},
   "outputs": [],
   "source": [
    "class ExtratorBNMP:\n",
    "    \"\"\"\n",
    "    O ExtratorBNMP é uma classe utilitária que facilita a extração das informações contidas no Banco Nacional de Mandados de Prisão\n",
    "    \"\"\"\n",
    "    def __init__(self, driver=None):\n",
    "        \"\"\"\n",
    "        Construtor\n",
    "        \"\"\"\n",
    "        self.driver = webdriver.Chrome() if not driver else driver\n",
    "        self.driver.get(\"https://portalbnmp.cnj.jus.br/\")\n",
    "        self.lst_mandados = []\n",
    "        self.ELEMS_POR_PAGINA = 10\n",
    "        self.NUMS_PAGINAS = 3\n",
    "        self.INTERVALO_ENTRE_PÁGINAS = 3\n",
    "        \n",
    "    def selecionar_UF(self, uf):\n",
    "        \"\"\"\n",
    "        Seleciona a UF baseada na lista dropdown do site\n",
    "        Args\n",
    "            uf: UF a ser extraída. Exemplo \"Acre\"\n",
    "        \"\"\"\n",
    "        dropdown = self.driver.find_element_by_xpath(\"\"\"//*[@id=\"ui-fieldset-1-content\"]/div/form/div[6]/div/p-dropdown/div/div[2]\"\"\")\n",
    "        dropdown.click()\n",
    "\n",
    "        # Obtém o input\n",
    "        cmp_input = self.driver.find_element_by_xpath(\"\"\"//*[@id=\"ui-fieldset-1-content\"]/div/form/div[6]/div/p-dropdown/div/div[3]/div[1]/input\"\"\")\n",
    "\n",
    "        cmp_input.send_keys(uf)\n",
    "\n",
    "        # Seleciona o estado resultante\n",
    "        cmp_li = self.driver.find_element_by_xpath(\"\"\"//*[@id=\"ui-fieldset-1-content\"]/div/form/div[6]/div/p-dropdown/div/div[3]/div[2]/ul/li\"\"\")\n",
    "\n",
    "        # Clica no pesquisar do estado para preencher com o nome\n",
    "        cmp_li.click()\n",
    "\n",
    "        botão_pesq = self.driver.find_element_by_xpath(\"\"\"//*[@id=\"ui-fieldset-1-content\"]/div/form/div[14]/button[2]\"\"\")\n",
    "        botão_pesq.click()\n",
    "        \n",
    "    def extrair_info_páginas(self):\n",
    "        \"\"\"\n",
    "        Extrai informações das páginas para a UF selecionada\n",
    "        \"\"\"\n",
    "        for j in range(1,self.NUMS_PAGINAS+1):\n",
    "            for i in range(1,self.ELEMS_POR_PAGINA+1):\n",
    "                xpath_elem = f\"/html/body/app-root/div/div/div[2]/div/app-pesquisa-peca/div[1]/p-datatable/div/div[1]/table/tbody/tr[{i}]/td[1]/span[2]/span\"\n",
    "                num_mandado = self.driver.find_element_by_xpath(xpath_elem)\n",
    "                self.lst_mandados.append(num_mandado.text)\n",
    "            btn_next = self.driver.find_element_by_xpath(\"\"\"/html/body/app-root/div/div/div[2]/div/app-pesquisa-peca/div[1]/p-datatable/div/p-paginator/div/a[3]\"\"\")\n",
    "            btn_next.click()\n",
    "            sleep(self.INTERVALO_ENTRE_PÁGINAS)"
   ]
  },
  {
   "cell_type": "code",
   "execution_count": 36,
   "id": "5bbcd666",
   "metadata": {},
   "outputs": [],
   "source": [
    "# Instancia um objeto bnmp\n",
    "bnmp = ExtratorBNMP()"
   ]
  },
  {
   "cell_type": "code",
   "execution_count": 37,
   "id": "7a618330",
   "metadata": {},
   "outputs": [],
   "source": [
    "# Seleciona a UF para a extração\n",
    "bnmp.selecionar_UF(\"Acre\")"
   ]
  },
  {
   "cell_type": "code",
   "execution_count": 38,
   "id": "6e63cad8",
   "metadata": {},
   "outputs": [],
   "source": [
    "# Extrai as informações das páginas\n",
    "bnmp.extrair_info_páginas()"
   ]
  },
  {
   "cell_type": "code",
   "execution_count": 39,
   "id": "2aaf1274",
   "metadata": {},
   "outputs": [
    {
     "data": {
      "text/plain": [
       "['0004396-57.2016.8.01.0001.10.0001-25',\n",
       " '0012284-14.2015.8.01.0001.10.0001-15',\n",
       " '0002945-02.2013.8.01.0001.01.0001-23',\n",
       " '0023362-88.2004.8.01.0001.01.0001-17',\n",
       " '0009159-53.2006.8.01.0001.01.0001-09',\n",
       " '0501339-30.2013.8.01.0081.01.0001-07',\n",
       " '0000386-81.2004.8.01.0003.01.0001-18',\n",
       " '0000202-67.2000.8.01.0003.01.0002-03',\n",
       " '0000220-88.2000.8.01.0003.01.0001-06',\n",
       " '0011797-73.2017.8.01.0001.01.0001-13',\n",
       " '0000361-68.2004.8.01.0003.01.0001-18',\n",
       " '0000831-52.2011.8.01.0004.01.0003-00',\n",
       " '0005091-40.2018.8.01.0001.01.0001-03',\n",
       " '0002956-30.2015.8.01.0011.01.0001-15',\n",
       " '0000948-96.2018.8.01.0004.01.0001-01',\n",
       " '0008821-98.2014.8.01.0001.01.0001-17',\n",
       " '0001242-36.2018.8.01.0009.01.0002-24',\n",
       " '0001088-22.2006.4.01.3000.01.0002-11',\n",
       " '0000189-40.2015.8.01.0004.01.0001-03',\n",
       " '0003112-28.2009.8.01.0011.01.0004-05',\n",
       " '0500005-82.2018.8.01.0081.01.0001-05',\n",
       " '0501286-49.2013.8.01.0081.01.0001-26',\n",
       " '0001774-10.2018.8.01.0009.01.0001-07',\n",
       " '0700467-65.2018.8.01.0013.01.0001-13',\n",
       " '0003285-67.2018.8.01.0001.01.0001-12',\n",
       " '0001163-15.2017.8.01.0002.01.0004-24',\n",
       " '0018132-89.2009.8.01.0001.01.0001-10',\n",
       " '0701502-62.2019.8.01.0001.01.0001-08',\n",
       " '0000256-47.2016.8.01.0011.01.0001-02',\n",
       " '0007361-03.2019.8.01.0001.01.0002-20']"
      ]
     },
     "execution_count": 39,
     "metadata": {},
     "output_type": "execute_result"
    }
   ],
   "source": [
    "# Lista de mandados para as três primeiras páginas\n",
    "bnmp.lst_mandados"
   ]
  }
 ],
 "metadata": {
  "kernelspec": {
   "display_name": "Python 3",
   "language": "python",
   "name": "python3"
  },
  "language_info": {
   "codemirror_mode": {
    "name": "ipython",
    "version": 3
   },
   "file_extension": ".py",
   "mimetype": "text/x-python",
   "name": "python",
   "nbconvert_exporter": "python",
   "pygments_lexer": "ipython3",
   "version": "3.8.8"
  }
 },
 "nbformat": 4,
 "nbformat_minor": 5
}
