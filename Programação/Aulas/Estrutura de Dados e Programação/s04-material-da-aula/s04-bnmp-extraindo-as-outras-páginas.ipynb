{
 "cells": [
  {
   "cell_type": "markdown",
   "id": "c2871af7",
   "metadata": {},
   "source": [
    "# Extração das Informações da Capa (outras páginas)"
   ]
  },
  {
   "cell_type": "code",
   "execution_count": 22,
   "id": "90ea95bc",
   "metadata": {},
   "outputs": [],
   "source": [
    "from selenium import webdriver\n",
    "from selenium.webdriver.common.keys import Keys\n",
    "from time import sleep"
   ]
  },
  {
   "cell_type": "code",
   "execution_count": 2,
   "id": "d6acc83a",
   "metadata": {},
   "outputs": [],
   "source": [
    "def obter_driver():\n",
    "    return webdriver.Chrome()\n",
    "\n",
    "def abrir_pagina(driver):\n",
    "    driver.get(\"https://portalbnmp.cnj.jus.br/\")"
   ]
  },
  {
   "cell_type": "code",
   "execution_count": 3,
   "id": "7a618330",
   "metadata": {},
   "outputs": [],
   "source": [
    "driver = obter_driver()\n",
    "abrir_pagina(driver)"
   ]
  },
  {
   "cell_type": "code",
   "execution_count": 4,
   "id": "187244a0",
   "metadata": {},
   "outputs": [],
   "source": [
    "dropdown = driver.find_element_by_xpath(\"\"\"//*[@id=\"ui-fieldset-1-content\"]/div/form/div[6]/div/p-dropdown/div/div[2]/span\"\"\")\n",
    "dropdown.click()"
   ]
  },
  {
   "cell_type": "code",
   "execution_count": 5,
   "id": "59bb885f",
   "metadata": {},
   "outputs": [],
   "source": [
    "estado = \"Acre\""
   ]
  },
  {
   "cell_type": "code",
   "execution_count": 6,
   "id": "386f64da",
   "metadata": {},
   "outputs": [],
   "source": [
    "cmp_input = driver.find_element_by_xpath(\"\"\"//*[@id=\"ui-fieldset-1-content\"]/div/form/div[6]/div/p-dropdown/div/div[3]/div[1]/input\"\"\")\n",
    "cmp_input.send_keys(estado)"
   ]
  },
  {
   "cell_type": "code",
   "execution_count": 7,
   "id": "37f76815",
   "metadata": {},
   "outputs": [],
   "source": [
    "cmp_li = driver.find_element_by_xpath(\"\"\"//*[@id=\"ui-fieldset-1-content\"]/div/form/div[6]/div/p-dropdown/div/div[3]/div[2]/ul/li\"\"\")\n",
    "cmp_li.click()"
   ]
  },
  {
   "cell_type": "code",
   "execution_count": 8,
   "id": "655493dc",
   "metadata": {},
   "outputs": [],
   "source": [
    "btn_pesq = driver.find_element_by_xpath(\"\"\"//*[@id=\"ui-fieldset-1-content\"]/div/form/div[14]/button[2]\"\"\")\n",
    "btn_pesq.click()"
   ]
  },
  {
   "cell_type": "markdown",
   "id": "147bcc9d",
   "metadata": {},
   "source": [
    "----"
   ]
  },
  {
   "cell_type": "markdown",
   "id": "2bc15294",
   "metadata": {},
   "source": [
    "Elementos da primeira página"
   ]
  },
  {
   "cell_type": "markdown",
   "id": "f509cc4e",
   "metadata": {},
   "source": [
    "```\n",
    "/html/body/app-root/div/div/div[2]/div/app-pesquisa-peca/div[1]/p-datatable/div/div[1]/table/tbody/tr[1]/td[1]/span[2]/span\n",
    "\n",
    "\n",
    "/html/body/app-root/div/div/div[2]/div/app-pesquisa-peca/div[1]/p-datatable/div/div[1]/table/tbody/tr[2]/td[1]/span[2]/span\n",
    "\n",
    "\n",
    "/html/body/app-root/div/div/div[2]/div/app-pesquisa-peca/div[1]/p-datatable/div/div[1]/table/tbody/tr[3]/td[1]/span[2]/span\n",
    "\n",
    "\n",
    "/html/body/app-root/div/div/div[2]/div/app-pesquisa-peca/div[1]/p-datatable/div/div[1]/table/tbody/tr[4]/td[1]/span[2]/span\n",
    "\n",
    "\n",
    "/html/body/app-root/div/div/div[2]/div/app-pesquisa-peca/div[1]/p-datatable/div/div[1]/table/tbody/tr[5]/td[1]/span[2]/span\n",
    "\n",
    "...\n",
    "\n",
    "\n",
    "/html/body/app-root/div/div/div[2]/div/app-pesquisa-peca/div[1]/p-datatable/div/div[1]/table/tbody/tr[10]/td[1]/span[2]/span\n",
    "\n",
    "```"
   ]
  },
  {
   "cell_type": "code",
   "execution_count": 9,
   "id": "578f0311",
   "metadata": {},
   "outputs": [
    {
     "name": "stdout",
     "output_type": "stream",
     "text": [
      "/html/body/app-root/div/div/div[2]/div/app-pesquisa-peca/div[1]/p-datatable/div/div[1]/table/tbody/tr[1]/td[1]/span[2]/span\n",
      "/html/body/app-root/div/div/div[2]/div/app-pesquisa-peca/div[1]/p-datatable/div/div[1]/table/tbody/tr[2]/td[1]/span[2]/span\n",
      "/html/body/app-root/div/div/div[2]/div/app-pesquisa-peca/div[1]/p-datatable/div/div[1]/table/tbody/tr[3]/td[1]/span[2]/span\n",
      "/html/body/app-root/div/div/div[2]/div/app-pesquisa-peca/div[1]/p-datatable/div/div[1]/table/tbody/tr[4]/td[1]/span[2]/span\n",
      "/html/body/app-root/div/div/div[2]/div/app-pesquisa-peca/div[1]/p-datatable/div/div[1]/table/tbody/tr[5]/td[1]/span[2]/span\n",
      "/html/body/app-root/div/div/div[2]/div/app-pesquisa-peca/div[1]/p-datatable/div/div[1]/table/tbody/tr[6]/td[1]/span[2]/span\n",
      "/html/body/app-root/div/div/div[2]/div/app-pesquisa-peca/div[1]/p-datatable/div/div[1]/table/tbody/tr[7]/td[1]/span[2]/span\n",
      "/html/body/app-root/div/div/div[2]/div/app-pesquisa-peca/div[1]/p-datatable/div/div[1]/table/tbody/tr[8]/td[1]/span[2]/span\n",
      "/html/body/app-root/div/div/div[2]/div/app-pesquisa-peca/div[1]/p-datatable/div/div[1]/table/tbody/tr[9]/td[1]/span[2]/span\n",
      "/html/body/app-root/div/div/div[2]/div/app-pesquisa-peca/div[1]/p-datatable/div/div[1]/table/tbody/tr[10]/td[1]/span[2]/span\n"
     ]
    }
   ],
   "source": [
    "for i in range(1,11):\n",
    "    print(f\"/html/body/app-root/div/div/div[2]/div/app-pesquisa-peca/div[1]/p-datatable/div/div[1]/table/tbody/tr[{i}]/td[1]/span[2]/span\")    "
   ]
  },
  {
   "cell_type": "markdown",
   "id": "a7e6bc61",
   "metadata": {},
   "source": [
    "Elementos da segunda página"
   ]
  },
  {
   "cell_type": "markdown",
   "id": "3470b0eb",
   "metadata": {},
   "source": [
    "```\n",
    "/html/body/app-root/div/div/div[2]/div/app-pesquisa-peca/div[1]/p-datatable/div/div[1]/table/tbody/tr[1]/td[1]/span[2]/span\n",
    "\n",
    "/html/body/app-root/div/div/div[2]/div/app-pesquisa-peca/div[1]/p-datatable/div/div[1]/table/tbody/tr[2]/td[1]/span[2]/span\n",
    "\n",
    "...\n",
    "\n",
    "/html/body/app-root/div/div/div[2]/div/app-pesquisa-peca/div[1]/p-datatable/div/div[1]/table/tbody/tr[10]/td[1]/span[2]/span\n",
    "```"
   ]
  },
  {
   "cell_type": "code",
   "execution_count": 26,
   "id": "6e63cad8",
   "metadata": {},
   "outputs": [],
   "source": [
    "ELEMS_POR_PAGINA = 10\n",
    "NUMS_PAGINAS = 3"
   ]
  },
  {
   "cell_type": "code",
   "execution_count": 27,
   "id": "c649a40b",
   "metadata": {},
   "outputs": [
    {
     "name": "stdout",
     "output_type": "stream",
     "text": [
      "0500005-82.2018.8.01.0081.01.0001-05\n",
      "0501286-49.2013.8.01.0081.01.0001-26\n",
      "0001774-10.2018.8.01.0009.01.0001-07\n",
      "0700467-65.2018.8.01.0013.01.0001-13\n",
      "0003285-67.2018.8.01.0001.01.0001-12\n",
      "0001163-15.2017.8.01.0002.01.0004-24\n",
      "0018132-89.2009.8.01.0001.01.0001-10\n",
      "0701502-62.2019.8.01.0001.01.0001-08\n",
      "0000256-47.2016.8.01.0011.01.0001-02\n",
      "0007361-03.2019.8.01.0001.01.0002-20\n",
      "0500019-76.2012.8.01.0081.01.0001-21\n",
      "0010423-47.2002.8.01.0001.01.0001-27\n",
      "0500421-60.2012.8.01.0081.01.0001-01\n",
      "0007469-08.2014.8.01.0001.01.0001-05\n",
      "0003521-48.2020.8.01.0001.01.0003-24\n",
      "0001010-14.2019.8.01.0001.01.0004-27\n",
      "0007452-59.2020.8.01.0001.01.0001-23\n",
      "0022056-06.2012.8.01.0001.01.0001-26\n",
      "0002308-17.2014.8.01.0001.01.0001-18\n",
      "0002998-11.2017.8.01.0011.01.0001-14\n",
      "0014938-52.2007.8.01.0001.01.0005-09\n",
      "0003198-21.2012.8.01.0002.01.0001-22\n",
      "0001544-31.2014.8.01.0001.01.0003-02\n",
      "0000709-38.2017.8.01.0001.01.0003-23\n",
      "0001400-57.2014.8.01.0001.01.0003-17\n",
      "0000756-51.2018.8.01.0009.01.0001-24\n",
      "0002329-58.2012.8.01.0002.01.0005-00\n",
      "0700386-19.2018.8.01.0013.01.0001-17\n",
      "0000126-36.2011.8.01.0010.01.0001-15\n",
      "0500089-83.2018.8.01.0081.01.0001-04\n"
     ]
    }
   ],
   "source": [
    "for j in range(1,NUMS_PAGINAS+1):\n",
    "    for i in range(1,ELEMS_POR_PAGINA+1):\n",
    "        xpath_elem = f\"/html/body/app-root/div/div/div[2]/div/app-pesquisa-peca/div[1]/p-datatable/div/div[1]/table/tbody/tr[{i}]/td[1]/span[2]/span\"\n",
    "        num_mandado = driver.find_element_by_xpath(xpath_elem)\n",
    "        print(num_mandado.text)\n",
    "    btn_next = driver.find_element_by_xpath(\"\"\"/html/body/app-root/div/div/div[2]/div/app-pesquisa-peca/div[1]/p-datatable/div/p-paginator/div/a[3]\"\"\")\n",
    "    btn_next.click()\n",
    "    sleep(3)"
   ]
  }
 ],
 "metadata": {
  "kernelspec": {
   "display_name": "Python 3",
   "language": "python",
   "name": "python3"
  },
  "language_info": {
   "codemirror_mode": {
    "name": "ipython",
    "version": 3
   },
   "file_extension": ".py",
   "mimetype": "text/x-python",
   "name": "python",
   "nbconvert_exporter": "python",
   "pygments_lexer": "ipython3",
   "version": "3.8.8"
  }
 },
 "nbformat": 4,
 "nbformat_minor": 5
}
