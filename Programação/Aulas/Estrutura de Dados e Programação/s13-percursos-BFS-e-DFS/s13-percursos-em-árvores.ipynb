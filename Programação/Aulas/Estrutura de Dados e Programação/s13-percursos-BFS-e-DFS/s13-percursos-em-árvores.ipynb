{
 "cells": [
  {
   "cell_type": "markdown",
   "metadata": {},
   "source": [
    "# Percursos em Árvores"
   ]
  },
  {
   "cell_type": "markdown",
   "metadata": {},
   "source": [
    "# Introdução"
   ]
  },
  {
   "cell_type": "markdown",
   "metadata": {},
   "source": [
    "* O problema de um contador de células\n",
    "\n",
    "* Encontrar saídas em labirintos\n",
    "\n",
    "* Criar um caminho em um mapa"
   ]
  },
  {
   "cell_type": "markdown",
   "metadata": {},
   "source": [
    "Nesta aula estudaremos o funcionamento de algoritmos de percursos em árvores (ou mais genericamente, em grafos), além de ter uma introdução sobre recursão. Mais especificamente, veremos os algoritmos de busca em largura e busca em profundidade."
   ]
  },
  {
   "cell_type": "markdown",
   "metadata": {},
   "source": [
    "### Material"
   ]
  },
  {
   "cell_type": "markdown",
   "metadata": {},
   "source": [
    "Para os algoritmos funcionarem, precisamos montar uma árvore e de uma fila e pilha."
   ]
  },
  {
   "cell_type": "markdown",
   "metadata": {},
   "source": [
    "**A classe Nó**"
   ]
  },
  {
   "cell_type": "markdown",
   "metadata": {},
   "source": [
    "Lembre que uma árvore é uma relação hierarquica entre nós (ou vértices)."
   ]
  },
  {
   "cell_type": "code",
   "execution_count": 3,
   "metadata": {},
   "outputs": [],
   "source": [
    "class Nó:\n",
    "    \"\"\"\n",
    "    Uma implementação mínima de um nó\n",
    "    \"\"\"\n",
    "    def __init__(self, val, pai=None, esq=None, dir=None):\n",
    "        self.val = val\n",
    "        self.pai = pai\n",
    "        self.esq = esq\n",
    "        self.dir = dir\n",
    "        self.visitado = False\n",
    "    \n",
    "    def filhos(self):\n",
    "        \"\"\"\n",
    "        Retorna os filhos de um nó\n",
    "        \"\"\"\n",
    "        lst = []\n",
    "        if (self.esq):\n",
    "            lst.append(self.esq)\n",
    "        if (self.dir):\n",
    "            lst.append(self.dir)\n",
    "        return lst\n",
    "    \n",
    "    def relacs(self, pai, esq, dir):\n",
    "        \"\"\"\n",
    "        Estabelece relacionamento de pai, esq e dir\n",
    "        \"\"\"\n",
    "        self.pai = pai\n",
    "        self.esq = esq\n",
    "        self.dir = dir\n",
    "        \n",
    "    def visitar(self):\n",
    "        \"\"\"\n",
    "        Marca o visitado como True e imprime na tela para conferência\n",
    "        \"\"\"\n",
    "        self.visitado = True\n",
    "        print(str(self.val) + \" \", end=\" \")"
   ]
  },
  {
   "cell_type": "markdown",
   "metadata": {},
   "source": [
    "**Árvore**"
   ]
  },
  {
   "cell_type": "markdown",
   "metadata": {},
   "source": [
    "Considere a árvore a seguir."
   ]
  },
  {
   "cell_type": "markdown",
   "metadata": {},
   "source": [
    "<img src=\"img/arvore.png\" width=\"40%\"/>"
   ]
  },
  {
   "cell_type": "markdown",
   "metadata": {},
   "source": [
    "Implementamos um método que constrói a árvore da figura e retorna a raiz."
   ]
  },
  {
   "cell_type": "code",
   "execution_count": 4,
   "metadata": {},
   "outputs": [],
   "source": [
    "def ini_árvore():\n",
    "    \"\"\"\n",
    "    Retorna a implementação da Figura\n",
    "    \"\"\"\n",
    "    # Criação dos nós\n",
    "    n8 = Nó(8)\n",
    "    n3 = Nó(3)\n",
    "    n10 = Nó(10)\n",
    "    n1 = Nó(1)\n",
    "    n6 = Nó(6)\n",
    "    n4 = Nó(4)\n",
    "    n7 = Nó(7)\n",
    "    n14 = Nó(14)\n",
    "    n13 = Nó(13)\n",
    "\n",
    "    # Relacionamentos\n",
    "    n8.relacs(pai=None, esq=n3, dir=n10)\n",
    "    n3.relacs(pai=n8, esq=n1, dir=n6)\n",
    "    n10.relacs(pai=n8, esq=None, dir=n14)\n",
    "    n1.relacs(pai=n3, esq=None, dir=None)\n",
    "    n6.relacs(pai=n3, esq=n4, dir=n7)\n",
    "    n14.relacs(pai=n10, esq=n13, dir=None)\n",
    "    n4.relacs(pai=n6, esq=None, dir=None)\n",
    "    n7.relacs(pai=n6, esq=None, dir=None)\n",
    "    n13.relacs(pai=n14, esq=None, dir=None)\n",
    "    return n8"
   ]
  },
  {
   "cell_type": "markdown",
   "metadata": {},
   "source": [
    "**Pilha**"
   ]
  },
  {
   "cell_type": "markdown",
   "metadata": {},
   "source": [
    "Vamos precisar de uma pilha. Veja as aulas anteriores para uma implementação mais completa. Para simplificar, utilizamos uma implementação mínima de uma pilha."
   ]
  },
  {
   "cell_type": "code",
   "execution_count": 5,
   "metadata": {},
   "outputs": [],
   "source": [
    "# Uma classe de exceção\n",
    "class EmptyStackException(Exception):\n",
    "    pass\n",
    "\n",
    "class Pilha:\n",
    "    \"\"\"\n",
    "    A implementação de uma Pilha LIFO usando listas Python como mecanismo de armazenamento \n",
    "    \"\"\"\n",
    "    \n",
    "    def __init__(self):\n",
    "        \"\"\"\n",
    "        Cria uma pilha vazia\n",
    "        \"\"\"\n",
    "        self._data = []\n",
    "            \n",
    "    def eh_vazia(self):\n",
    "        \"\"\"\n",
    "        Retorna True se a pilha é vazia\n",
    "        \"\"\"\n",
    "        return len(self._data) == 0\n",
    "    \n",
    "    def empilhar(self, e):\n",
    "        \"\"\"\n",
    "        Adiciona o elemento e ao topo da pilha\n",
    "        \"\"\"\n",
    "        self._data.append(e)\n",
    "        \n",
    "    def desempilhar(self):\n",
    "        \"\"\"\n",
    "        Remove e retorna o elemento do topo da pilha (i.e., LIFO)\n",
    "        Lança um exceção caso a pilha esteja vazia\n",
    "        \"\"\"\n",
    "        if (self.eh_vazia()):\n",
    "            raise EmptyStackException(\"A Pilha está vazia\")\n",
    "        return self._data.pop()"
   ]
  },
  {
   "cell_type": "markdown",
   "metadata": {},
   "source": [
    "**Fila**"
   ]
  },
  {
   "cell_type": "markdown",
   "metadata": {},
   "source": [
    "Uma implementação mínima de Fila."
   ]
  },
  {
   "cell_type": "code",
   "execution_count": 6,
   "metadata": {},
   "outputs": [],
   "source": [
    "class EmptyQueueException(Exception):\n",
    "    pass\n",
    "\n",
    "class Fila:\n",
    "    \"\"\"\n",
    "    Implementação FIFO usando uma lista Python como mecanismo de armazenagem \n",
    "    \"\"\"\n",
    "    DEFAULT_CAPACITY = 10\n",
    "    \n",
    "    def __init__(self):\n",
    "        \"\"\"\n",
    "        Cria uma fila vazia\n",
    "        \"\"\"\n",
    "        self._data = [None] * Fila.DEFAULT_CAPACITY\n",
    "        self._size = 0\n",
    "        self._front = 0\n",
    "        \n",
    "    def eh_vazia(self):\n",
    "        \"\"\"\n",
    "        Retorna True se a fila é vazia\n",
    "        \"\"\"\n",
    "        return self._size == 0\n",
    "        \n",
    "    def desenfileirar(self):\n",
    "        \"\"\"\n",
    "        Remove e retorna o primeiro elemento da fila (i.e., FIFO)\n",
    "        Lança uma exceção se a fila for vazia\n",
    "        \"\"\"\n",
    "        if (self.eh_vazia()):\n",
    "            raise EmptyQueueException('A Fila está vazia')\n",
    "        answer = self._data[self._front]\n",
    "        self._data[self._front] = None\n",
    "        self._front = (self._front + 1) % len(self._data)\n",
    "        self._size -= 1\n",
    "        return answer\n",
    "    \n",
    "    def enfileirar(self, e):\n",
    "        \"\"\"\n",
    "        Adiciona um elemento ao fim da fila\n",
    "        \"\"\"\n",
    "        avail = (self._front + self._size) % len(self._data)\n",
    "        self._data[avail] = e\n",
    "        self._size += 1"
   ]
  },
  {
   "cell_type": "markdown",
   "metadata": {},
   "source": [
    "# Busca em Largura"
   ]
  },
  {
   "cell_type": "markdown",
   "metadata": {},
   "source": [
    "O Busca em Largura (em inglês, *Breadth First Search*) é um algoritmo de percurso de nós em grafos de tal forma que percorre o grafo em por camadas."
   ]
  },
  {
   "cell_type": "markdown",
   "metadata": {},
   "source": [
    "<img src=\"img/bfs-simples.gif\" width=\"30%\">"
   ]
  },
  {
   "cell_type": "markdown",
   "metadata": {},
   "source": [
    "### Implementação"
   ]
  },
  {
   "cell_type": "code",
   "execution_count": 7,
   "metadata": {},
   "outputs": [],
   "source": [
    "# Algoritmo BFS\n",
    "def bfs(nó_inicial):\n",
    "    \"\"\"\n",
    "    Faz o percurso em largura em uma árvore\n",
    "    Args:\n",
    "        nó_inicial: O nó inicial que se deseja realizar o percurso BFS. Normalmente o nó raiz\n",
    "    \"\"\"\n",
    "    fila = Fila()\n",
    "    fila.enfileirar(nó_inicial)\n",
    "    while (not fila.eh_vazia()):\n",
    "        nó = fila.desenfileirar()\n",
    "        for filho in nó.filhos():\n",
    "            if (not filho.visitado):\n",
    "                fila.enfileirar(filho)\n",
    "        nó.visitar()"
   ]
  },
  {
   "cell_type": "markdown",
   "metadata": {},
   "source": [
    "#### Visualizando os detalhes de funcionamento"
   ]
  },
  {
   "cell_type": "markdown",
   "metadata": {},
   "source": [
    "<img src=\"img/s13-percurso-BFS.gif\" width=\"90%\"/>"
   ]
  },
  {
   "cell_type": "code",
   "execution_count": 8,
   "metadata": {},
   "outputs": [
    {
     "name": "stdout",
     "output_type": "stream",
     "text": [
      "8  3  10  1  6  14  4  7  13  "
     ]
    }
   ],
   "source": [
    "# Testando o exemplo\n",
    "raiz = ini_árvore()\n",
    "bfs(raiz)"
   ]
  },
  {
   "cell_type": "markdown",
   "metadata": {},
   "source": [
    "# Busca em Profundidade"
   ]
  },
  {
   "cell_type": "markdown",
   "metadata": {},
   "source": [
    "O Busca em Profundidade (em inglês, *Depth First Search*) é um algoritmo de visitação de grafos que explora completamente um vértice (i.e., em profundidade) antes de passar para o próximo."
   ]
  },
  {
   "cell_type": "markdown",
   "metadata": {},
   "source": [
    "<img src=\"img/dfs-simples.gif\" width=\"30%\">"
   ]
  },
  {
   "cell_type": "markdown",
   "metadata": {},
   "source": [
    "Existem duas versões desse algoritmo. A versão não recursiva e a recursiva."
   ]
  },
  {
   "cell_type": "markdown",
   "metadata": {},
   "source": [
    "### Algoritmo Não Recursivo"
   ]
  },
  {
   "cell_type": "code",
   "execution_count": 69,
   "metadata": {},
   "outputs": [],
   "source": [
    "def dfs(nó_inicial):\n",
    "    pilha = Pilha()\n",
    "    pilha.empilhar(nó_inicial)\n",
    "    while (not pilha.eh_vazia()):\n",
    "        nó = pilha.desempilhar()\n",
    "        for filho in nó.filhos():\n",
    "            if (not filho.visitado):\n",
    "                pilha.empilhar(filho)\n",
    "        nó.visitar()"
   ]
  },
  {
   "cell_type": "markdown",
   "metadata": {},
   "source": [
    "#### Visualizando os detalhes de funcionamento"
   ]
  },
  {
   "cell_type": "markdown",
   "metadata": {},
   "source": [
    "<img src=\"img/s13-percurso-DFS.gif\" width=\"90%\"/>"
   ]
  },
  {
   "cell_type": "code",
   "execution_count": 70,
   "metadata": {},
   "outputs": [
    {
     "name": "stdout",
     "output_type": "stream",
     "text": [
      "8  10  14  13  3  6  7  4  1  "
     ]
    }
   ],
   "source": [
    "# Testando\n",
    "raiz = ini_árvore()\n",
    "dfs(raiz)"
   ]
  },
  {
   "cell_type": "markdown",
   "metadata": {},
   "source": [
    "## Recursão"
   ]
  },
  {
   "cell_type": "code",
   "execution_count": 12,
   "metadata": {},
   "outputs": [
    {
     "data": {
      "text/plain": [
       "120"
      ]
     },
     "execution_count": 12,
     "metadata": {},
     "output_type": "execute_result"
    }
   ],
   "source": [
    "def fat(n):\n",
    "    f = 1\n",
    "    for k in range(n, 1, -1):\n",
    "        f = f * k\n",
    "    return f\n",
    "fat(5)"
   ]
  },
  {
   "cell_type": "code",
   "execution_count": 16,
   "metadata": {},
   "outputs": [
    {
     "data": {
      "text/plain": [
       "120"
      ]
     },
     "execution_count": 16,
     "metadata": {},
     "output_type": "execute_result"
    }
   ],
   "source": [
    "def fatR(n):\n",
    "    if (n == 1):\n",
    "        return 1\n",
    "    return n * fatR(n-1)\n",
    "\n",
    "fatR(4)"
   ]
  },
  {
   "cell_type": "markdown",
   "metadata": {},
   "source": [
    "### Algoritmo Recursivo"
   ]
  },
  {
   "cell_type": "code",
   "execution_count": 92,
   "metadata": {},
   "outputs": [],
   "source": [
    "def dfsR(nó):\n",
    "    if (not nó.visitado):\n",
    "        for filho in nó.filhos():\n",
    "            if (not filho.visitado):\n",
    "                dfsR(filho)\n",
    "        nó.visitar()"
   ]
  },
  {
   "cell_type": "markdown",
   "metadata": {},
   "source": [
    "#### Visualizando os detalhes de funcionamento"
   ]
  },
  {
   "cell_type": "markdown",
   "metadata": {},
   "source": [
    "<img src=\"img/s13-percurso-DFS-R.gif\" width=\"90%\"/>"
   ]
  },
  {
   "cell_type": "code",
   "execution_count": 91,
   "metadata": {},
   "outputs": [
    {
     "name": "stdout",
     "output_type": "stream",
     "text": [
      "1  4  7  6  3  13  14  10  8  "
     ]
    }
   ],
   "source": [
    "# Testando\n",
    "raiz = ini_árvore()\n",
    "dfsR(raiz)"
   ]
  },
  {
   "cell_type": "markdown",
   "metadata": {},
   "source": [
    "## Exercícios"
   ]
  },
  {
   "cell_type": "markdown",
   "metadata": {},
   "source": [
    "**Fixação conceitual**"
   ]
  },
  {
   "cell_type": "markdown",
   "metadata": {},
   "source": [
    "**[01]** Escreva com suas palavras o que é um algoritmo de percurso em grafos."
   ]
  },
  {
   "cell_type": "markdown",
   "metadata": {},
   "source": [
    "**[02]** Explique com suas palavras o que é o algoritmo de busca em largura."
   ]
  },
  {
   "cell_type": "markdown",
   "metadata": {},
   "source": [
    "**[03]** Explique com suas palavras o que é o algoritmo de busca em profunidade."
   ]
  },
  {
   "cell_type": "markdown",
   "metadata": {},
   "source": [
    "**[04]** Explique com suas palavras o que é a recursão."
   ]
  },
  {
   "cell_type": "markdown",
   "metadata": {},
   "source": [
    "**[05]** Que tipos de problemas podem ser resolvidos com recursão?"
   ]
  },
  {
   "cell_type": "markdown",
   "metadata": {},
   "source": [
    "**[06]** Pesquise exemplos de problemas que podem ser resolvidos com o busca em largura."
   ]
  },
  {
   "cell_type": "markdown",
   "metadata": {},
   "source": [
    "**[07]** Cite exemplos de problemas que podem ser resolvidos com o busca em profundidade."
   ]
  },
  {
   "cell_type": "markdown",
   "metadata": {},
   "source": [
    "**Práticos**"
   ]
  },
  {
   "cell_type": "markdown",
   "metadata": {},
   "source": [
    "Crie uma árvore com cerca de $10$ nós."
   ]
  },
  {
   "cell_type": "markdown",
   "metadata": {},
   "source": [
    "**[08]** Sem utilizar o código disponibilizado, determine a ordem de impressão para o busca em largura para a árvore que você criou."
   ]
  },
  {
   "cell_type": "markdown",
   "metadata": {},
   "source": [
    "**[09]** Sem utilizar o código disponibilizado, determine a ordem de impressão para o busca em profundidade com Pilha para a árvore que você criou."
   ]
  },
  {
   "cell_type": "markdown",
   "metadata": {},
   "source": [
    "**[10]** Sem utilizar o código disponibilizado, determine a ordem de impressão para o busca em profundidade recursivo para a árvore que você criou."
   ]
  },
  {
   "cell_type": "markdown",
   "metadata": {},
   "source": [
    "**[11]** Sem executar o código, determine a ordem de impressão se o algoritmo fosse escrito como a seguir."
   ]
  },
  {
   "cell_type": "markdown",
   "metadata": {},
   "source": [
    "```python\n",
    "def dfsR(nó):\n",
    "    nó.visitar()\n",
    "    for filho in nó.filhos():\n",
    "        dfsR(filho)\n",
    "```"
   ]
  }
 ],
 "metadata": {
  "kernelspec": {
   "display_name": "Python 3",
   "language": "python",
   "name": "python3"
  },
  "language_info": {
   "codemirror_mode": {
    "name": "ipython",
    "version": 3
   },
   "file_extension": ".py",
   "mimetype": "text/x-python",
   "name": "python",
   "nbconvert_exporter": "python",
   "pygments_lexer": "ipython3",
   "version": "3.8.5"
  }
 },
 "nbformat": 4,
 "nbformat_minor": 4
}
