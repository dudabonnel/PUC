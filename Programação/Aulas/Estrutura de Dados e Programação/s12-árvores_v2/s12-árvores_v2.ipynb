{
 "cells": [
  {
   "cell_type": "markdown",
   "metadata": {},
   "source": [
    "# Árvores"
   ]
  },
  {
   "cell_type": "markdown",
   "metadata": {},
   "source": [
    "# Introdução"
   ]
  },
  {
   "cell_type": "markdown",
   "metadata": {},
   "source": [
    "Como procurar em uma lista eficientemente?"
   ]
  },
  {
   "cell_type": "markdown",
   "metadata": {},
   "source": [
    "**Situação 1: lista não ordenada**"
   ]
  },
  {
   "cell_type": "code",
   "execution_count": null,
   "metadata": {},
   "outputs": [],
   "source": [
    "lst1 = [34, 12, -3, 0, 100, 432, ...]"
   ]
  },
  {
   "cell_type": "markdown",
   "metadata": {},
   "source": [
    "Tempo de busca: $\\mathcal{O}(n)$"
   ]
  },
  {
   "cell_type": "markdown",
   "metadata": {},
   "source": [
    "**Situação 2: lista ordenada**"
   ]
  },
  {
   "cell_type": "code",
   "execution_count": null,
   "metadata": {},
   "outputs": [],
   "source": [
    "lst2 = [-3, 0, 12, 34, 100, 432, ...]"
   ]
  },
  {
   "cell_type": "markdown",
   "metadata": {},
   "source": [
    "Tempo de busca: $\\mathcal{O}(logn)$"
   ]
  },
  {
   "cell_type": "markdown",
   "metadata": {},
   "source": [
    "# Árvores"
   ]
  },
  {
   "cell_type": "markdown",
   "metadata": {},
   "source": [
    "Uma árvore é uma estrutura de dados que organiza os elementos hierarquicamente. Com exceção de elemento do topo, cada elemento tem um pai e zero ou mais filhos."
   ]
  },
  {
   "cell_type": "markdown",
   "metadata": {},
   "source": [
    "<Exemplo de visualização de árvore>"
   ]
  },
  {
   "cell_type": "markdown",
   "metadata": {},
   "source": [
    "Formalmente, definimos uma árvore $T$ como um conjunto de nós de tal forma que os relacionamentos pai-filhos satisfaçam a seguinte propriedade.\n",
    "\n",
    "* Se $T$ é não vazia, a árvore contém um nó especial chamado **raiz**, que não contém um pai.\n",
    "\n",
    "* Cada nó $v$ de $T$ diferente da **raiz** tem um único pai $w$; todo nó com pai $w$ é filho de $w$."
   ]
  },
  {
   "cell_type": "markdown",
   "metadata": {},
   "source": [
    "# O Tipo de Dados Abstrato de Árvore"
   ]
  },
  {
   "cell_type": "markdown",
   "metadata": {},
   "source": [
    "`N.root()`: Retorna a raiz da árvore $T$, ou `None` e $T$ é vazia\n",
    "\n",
    "`N.is_root()`: Retorna `True` se o nó é a raiz da árvore $T$\n",
    "\n",
    "`N.parent()`: Retorna o pai de `N`, ou `None` se é a raiz de $T$\n",
    "\n",
    "`N.children()`: Retorna os filhos de `N`\n",
    "\n",
    "`N.is_leaf()`: Retorna `True` se `N` é folha\n",
    "\n",
    "`len(N)`: Retorna o número de nós que estão contidos em uma árvore $T$ \n",
    "\n",
    "`N.is_empty()`: Retorna `True` se a árvore $T$ não contiver quaisquer nós"
   ]
  },
  {
   "cell_type": "markdown",
   "metadata": {},
   "source": [
    "## Implementação"
   ]
  },
  {
   "cell_type": "code",
   "execution_count": 58,
   "metadata": {},
   "outputs": [],
   "source": [
    "class Node:\n",
    "    def __init__(self, val, parent=None, left=None, right=None):\n",
    "        self.val = val\n",
    "        self.parent = parent\n",
    "        self.left = left\n",
    "        self.right = right\n",
    "    \n",
    "    def is_root(self):\n",
    "        return self.parent == None\n",
    "    \n",
    "    def parent(self):\n",
    "        return self.parent\n",
    "                \n",
    "    def __len__(self):\n",
    "        raise NotImplementedError('Método ainda não implementado')\n",
    "\n",
    "    def is_leaf(self):\n",
    "        return (self.left == None and self.right == None)\n",
    "        \n",
    "    def insert(self, val):\n",
    "        if (self.val):\n",
    "            if (val < self.val):\n",
    "                if (self.left is None):\n",
    "                    self.left = Node(val, parent=self)\n",
    "                else:\n",
    "                    self.left.insert(val)\n",
    "            elif (val > self.val):\n",
    "                if (self.right is None):\n",
    "                    self.right = Node(val, parent=self)\n",
    "                else:\n",
    "                    self.right.insert(val)\n",
    "    \n",
    "    def __str__(self):\n",
    "        return str(self.val)"
   ]
  },
  {
   "cell_type": "code",
   "execution_count": 59,
   "metadata": {},
   "outputs": [
    {
     "data": {
      "text/plain": [
       "3"
      ]
     },
     "execution_count": 59,
     "metadata": {},
     "output_type": "execute_result"
    }
   ],
   "source": [
    "n1 = Node(10)\n",
    "n1.insert(5)\n",
    "n1.insert(3)\n",
    "n1.minimum()"
   ]
  },
  {
   "cell_type": "markdown",
   "metadata": {},
   "source": [
    "### Exercícios"
   ]
  },
  {
   "cell_type": "markdown",
   "metadata": {},
   "source": [
    "Para os exercícios a seguir considere a seguinte árvore."
   ]
  },
  {
   "cell_type": "markdown",
   "metadata": {},
   "source": [
    "<img src=\"https://upload.wikimedia.org/wikipedia/commons/thumb/d/da/Binary_search_tree.svg/1200px-Binary_search_tree.svg.png\" width=\"30%\"/>"
   ]
  },
  {
   "cell_type": "markdown",
   "metadata": {},
   "source": [
    "**[00]** Implementar a árvore do desenho."
   ]
  },
  {
   "cell_type": "code",
   "execution_count": 50,
   "metadata": {},
   "outputs": [],
   "source": [
    "# Solução do exercício\n",
    "\n",
    "n9 = Node(13)\n",
    "n8 = Node(7)\n",
    "n7 = Node(4)\n",
    "n6 = Node(14)\n",
    "n5 = Node(6)\n",
    "n4 = Node(1)\n",
    "n3 = Node(10)\n",
    "n2 = Node(3)\n",
    "n1 = Node(8)\n",
    "\n",
    "n9.parent = n6\n",
    "n8.parent = n5\n",
    "n7.parent = n5\n",
    "n6.parent = n3\n",
    "n6.left = n9\n",
    "n3.parent = n1\n",
    "n3.right = n6\n",
    "n1.right = n3\n",
    "n1.left = n2\n",
    "n2.parent = n1\n",
    "n2.left = n4\n",
    "n2.right = n5\n",
    "n4.parent = n2\n",
    "n5.parent = n2\n",
    "n5.left = n7\n",
    "n5.right = n8"
   ]
  },
  {
   "cell_type": "markdown",
   "metadata": {},
   "source": [
    "**[01]** Dada a raiz contar quantos níveis tem **uma árvore completa**."
   ]
  },
  {
   "cell_type": "code",
   "execution_count": 60,
   "metadata": {},
   "outputs": [],
   "source": [
    "# Sua solução\n",
    "\n",
    "# Estrutura de repetição\n",
    "#   obtem a esq até que seja nula\n",
    "#   para cada iteração soma 1 ao contador\n",
    "#   "
   ]
  },
  {
   "cell_type": "markdown",
   "metadata": {},
   "source": [
    "<i>Clique **aqui** para ver a solução.</i>\n",
    "\n",
    "<!--\n",
    "Inclua o seguinte método na implementação da árvore\n",
    "\n",
    "def h_completa(self):\n",
    "    h = 0\n",
    "    node = self\n",
    "    while (node.left != None):\n",
    "       h += 1\n",
    "       node = node.left\n",
    "    return h\n",
    "-->"
   ]
  },
  {
   "cell_type": "markdown",
   "metadata": {},
   "source": [
    "**[02]** Dado um nó qualquer, contar quantos níveis existem até a raiz."
   ]
  },
  {
   "cell_type": "code",
   "execution_count": null,
   "metadata": {},
   "outputs": [],
   "source": [
    "# Sua solução\n",
    "\n",
    "# Estrutura de repetição\n",
    "#   obtem a parent até que seja nula\n",
    "#   para cada iteração soma 1 ao contador\n",
    "#   "
   ]
  },
  {
   "cell_type": "markdown",
   "metadata": {},
   "source": [
    "<i>Clique **aqui** para ver a solução.</i>\n",
    "\n",
    "<!--\n",
    "Inclua o seguinte método na implementação da árvore\n",
    "\n",
    "def h_node(self):\n",
    "    h = 0\n",
    "    node = self\n",
    "    while (node.parent != None):\n",
    "       h += 1\n",
    "       node = node.parent\n",
    "    return h\n",
    "-->"
   ]
  },
  {
   "cell_type": "markdown",
   "metadata": {},
   "source": [
    "**[03]** Dado um nó qualquer, contar o número de filhos imediatos."
   ]
  },
  {
   "cell_type": "code",
   "execution_count": 56,
   "metadata": {},
   "outputs": [],
   "source": [
    "# Sua solução"
   ]
  },
  {
   "cell_type": "markdown",
   "metadata": {},
   "source": [
    "<i>Clique **aqui** para ver a solução.</i>\n",
    "\n",
    "<!--\n",
    "Inclua o seguinte método na implementação da árvore\n",
    "\n",
    "def n_children(self):\n",
    "    k = 0\n",
    "    if (self.left != None):\n",
    "        k += 1\n",
    "    if (self.right != None):\n",
    "        k += 1\n",
    "    return k\n",
    "-->"
   ]
  },
  {
   "cell_type": "markdown",
   "metadata": {},
   "source": [
    "**[04]** Encontrar o menor elemento de uma árvore balanceada."
   ]
  },
  {
   "cell_type": "code",
   "execution_count": null,
   "metadata": {},
   "outputs": [],
   "source": [
    "# Sua solução"
   ]
  },
  {
   "cell_type": "markdown",
   "metadata": {},
   "source": [
    "<i>Clique **aqui** para ver a solução.</i>\n",
    "\n",
    "<!--\n",
    "Inclua o seguinte método na implementação da árvore\n",
    "\n",
    "def minimum(self):\n",
    "    node = self\n",
    "    while (node.left != None):\n",
    "       node = node.left\n",
    "    return node.val\n",
    "-->"
   ]
  },
  {
   "cell_type": "markdown",
   "metadata": {},
   "source": [
    "**[05]** Encontrar o maior elemento de uma árvore balanceada."
   ]
  },
  {
   "cell_type": "code",
   "execution_count": null,
   "metadata": {},
   "outputs": [],
   "source": [
    "# Sua solução"
   ]
  },
  {
   "cell_type": "markdown",
   "metadata": {},
   "source": [
    "<i>Clique **aqui** para ver a solução.</i>\n",
    "\n",
    "<!--\n",
    "Inclua o seguinte método na implementação da árvore\n",
    "\n",
    "def maximum(self):\n",
    "    node = self\n",
    "    while (node.right != None):\n",
    "       node = node.right\n",
    "    return node.val\n",
    "-->"
   ]
  }
 ],
 "metadata": {
  "kernelspec": {
   "display_name": "Python 3",
   "language": "python",
   "name": "python3"
  },
  "language_info": {
   "codemirror_mode": {
    "name": "ipython",
    "version": 3
   },
   "file_extension": ".py",
   "mimetype": "text/x-python",
   "name": "python",
   "nbconvert_exporter": "python",
   "pygments_lexer": "ipython3",
   "version": "3.8.5"
  }
 },
 "nbformat": 4,
 "nbformat_minor": 4
}
