{
  "nbformat": 4,
  "nbformat_minor": 0,
  "metadata": {
    "colab": {
      "name": "Web_Scraping_com_Beautiful_Soup_12_04.ipynb",
      "provenance": []
    },
    "kernelspec": {
      "name": "python3",
      "display_name": "Python 3"
    },
    "language_info": {
      "name": "python"
    }
  },
  "cells": [
    {
      "cell_type": "markdown",
      "metadata": {
        "id": "5QruShFdp5wJ"
      },
      "source": [
        "#Trabalho de Algoritmos e Programação\n",
        "Aluno: Lucas Lopes Amorim\n",
        "\n",
        "Objetivo: Extrair do Wikipédia a secção nome da Tabela de protestos Pós-redemocratização."
      ]
    },
    {
      "cell_type": "code",
      "metadata": {
        "id": "j8ZPSKfejcnD"
      },
      "source": [
        "#Importando as Bibliotecas\n",
        "import requests\n",
        "from bs4 import BeautifulSoup\n",
        "\n",
        "#Definindo o site de coleta de dados e um User Agent para que o requests colete os dados da página conforme faz o meu navegador para evitar problemas(Posso chanmar de Defensive Programming?)\n",
        "url = 'https://pt.wikipedia.org/wiki/Lista_de_protestos_no_Brasil'\n",
        "headers = {'User-Agent': 'Mozilla/5.0 (Windows NT 10.0; Win64; x64) AppleWebKit/537.36 (KHTML, like Gecko) Chrome/89.0.4389.114 Safari/537.36 Edg/89.0.774.75'}\n",
        "\n",
        "#Importando a página e analisando ela como HTML no BeautifulSoup\n",
        "page = requests.get(url, headers)\n",
        "soup = BeautifulSoup(page.content, 'html.parser')\n",
        "\n",
        "pre_tabela = soup.find('table', class_='wikitable')\n",
        "\n",
        "tabela = pre_tabela.tbody\n",
        "\n"
      ],
      "execution_count": 2,
      "outputs": []
    },
    {
      "cell_type": "code",
      "metadata": {
        "id": "Ktl4XneM0uO1"
      },
      "source": [
        "#Separando a coluna de legenda das colunas de dados\n",
        "legenda = []\n",
        "corpo = []\n",
        "count = 0\n",
        "\n",
        "for i in tabela.find_all('tr'):\n",
        "  if count == 0:\n",
        "    legenda.append(i)\n",
        "  #print(type(i))\n",
        "  else:\n",
        "    corpo.append(i)\n",
        "  count += 1\n",
        "\n",
        "print(corpo[1])\n",
        "\n"
      ],
      "execution_count": null,
      "outputs": []
    },
    {
      "cell_type": "code",
      "metadata": {
        "colab": {
          "base_uri": "https://localhost:8080/"
        },
        "id": "MAsgagZc3U42",
        "outputId": "f1f74ac3-671c-4674-83a8-6a1b9fbfe4b6"
      },
      "source": [
        "#Tratando os dados do corpo do texto\n",
        "k= 0\n",
        "for i in corpo:\n",
        "  temp = corpo[k].find_all('td')\n",
        "  print(temp[0].text)\n",
        "  k += 1\n",
        "  \n",
        "  "
      ],
      "execution_count": 18,
      "outputs": [
        {
          "output_type": "stream",
          "text": [
            "Protestos contra o governo Jair Bolsonaro\n",
            "\n",
            "Protestos e manifestações no Brasil em 2020\n",
            "\n",
            "Greve geral no Brasil em 2019\n",
            "\n",
            "Atos Pró-Bolsonaro\n",
            "\n",
            "Protestos estudantis em 2019\n",
            "\n",
            "Movimento Ele Não\n",
            "\n",
            "Greve dos caminhoneiros em 2018\n",
            "\n",
            "Greve geral no Brasil em 2017\n",
            "\n",
            "Fora Temer\n",
            "\n",
            "Mobilização estudantil em 2016\n",
            "\n",
            "Protestos contra o governo Dilma Rousseff\n",
            "\n",
            "Mobilização estudantil em São Paulo\n",
            "\n",
            "Protestos contra a Copa do Mundo de 2014\n",
            "\n",
            "Jornadas de Junho\n",
            "\n",
            "Marcha pela Reforma Antimanicomial\n",
            "\n",
            "Movimento Cívico pelo Direito dos Brasileiros\n",
            "\n",
            "Marcha dos 100 mil de Brasília\n",
            "\n",
            "Greve dos caminhoneiros em 1999\n",
            "\n",
            "Grito dos Excluídos\n",
            "\n",
            "Caras-pintadas\n",
            "\n",
            "Greve na CSN em Volta Redonda\n",
            "\n"
          ],
          "name": "stdout"
        }
      ]
    }
  ]
}