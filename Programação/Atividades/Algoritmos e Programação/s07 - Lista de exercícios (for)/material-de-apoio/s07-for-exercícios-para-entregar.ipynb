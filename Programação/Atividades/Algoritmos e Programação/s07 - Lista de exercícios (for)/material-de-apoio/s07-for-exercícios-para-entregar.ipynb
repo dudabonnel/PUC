{
 "cells": [
  {
   "cell_type": "markdown",
   "metadata": {},
   "source": [
    "# Exercícios\n",
    "### Semana 07"
   ]
  },
  {
   "cell_type": "markdown",
   "metadata": {},
   "source": [
    "# Estruturas de Repetição - FOR"
   ]
  },
  {
   "cell_type": "markdown",
   "metadata": {},
   "source": [
    "**[1]** Crie um programa para contar a quantidade de números pares entre $2$ e $99$.\n",
    "\n",
    "Dica: utilize o operador $\\%$, conhecido como módulo."
   ]
  },
  {
   "cell_type": "markdown",
   "metadata": {},
   "source": [
    "**[2]** Crie um programa para somar todos os pares entre $2$ e $99$. "
   ]
  },
  {
   "cell_type": "markdown",
   "metadata": {},
   "source": [
    "**[3]** Crie um programa para somar $n$ números gerados aleatoriamente entre $1$ e $10$, onde $n$ é informado pelo usuário."
   ]
  },
  {
   "cell_type": "markdown",
   "metadata": {},
   "source": [
    "**[4]** Crie um programa para imprimir uma agenda diária com horários de $15$ em $15$ minutos, conforme a listagem a seguir.\n",
    "\n",
    "```\n",
    "00:00\n",
    "00:15\n",
    "00:30\n",
    "00:45\n",
    "01:00\n",
    "01:15\n",
    "...\n",
    "23:30\n",
    "23:45\n",
    "00:00\n",
    "```"
   ]
  },
  {
   "cell_type": "markdown",
   "metadata": {},
   "source": [
    "**[5]** Criar um programa para imprimir a tabela de jogos para $5$ times, onde cada time joga com todos os outros duas vezes, a primeira vez em casa e a segunda, na casa do adversário.\n",
    "\n",
    "```python\n",
    "times = ['FLA', 'FLU', 'COR', 'PAL', 'VAS']\n",
    "```"
   ]
  }
 ],
 "metadata": {
  "kernelspec": {
   "display_name": "Python 3",
   "language": "python",
   "name": "python3"
  },
  "language_info": {
   "codemirror_mode": {
    "name": "ipython",
    "version": 3
   },
   "file_extension": ".py",
   "mimetype": "text/x-python",
   "name": "python",
   "nbconvert_exporter": "python",
   "pygments_lexer": "ipython3",
   "version": "3.8.5"
  }
 },
 "nbformat": 4,
 "nbformat_minor": 4
}
