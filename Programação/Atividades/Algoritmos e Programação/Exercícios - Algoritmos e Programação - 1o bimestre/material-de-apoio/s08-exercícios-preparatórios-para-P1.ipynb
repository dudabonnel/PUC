{
 "cells": [
  {
   "cell_type": "markdown",
   "metadata": {},
   "source": [
    "# Exercícios de Consolidação de Entendimento"
   ]
  },
  {
   "cell_type": "markdown",
   "metadata": {},
   "source": [
    "### Semana 08"
   ]
  },
  {
   "cell_type": "markdown",
   "metadata": {},
   "source": [
    "# Conceituais"
   ]
  },
  {
   "cell_type": "markdown",
   "metadata": {},
   "source": [
    "Utilize sempre as suas palavras nas explicações a seguir."
   ]
  },
  {
   "cell_type": "markdown",
   "metadata": {},
   "source": [
    "**01)** Quais são os principais componentes de um computador?"
   ]
  },
  {
   "cell_type": "markdown",
   "metadata": {},
   "source": [
    "**02)** Para que existem os Sistemas Operacionais? Cite exemplos."
   ]
  },
  {
   "cell_type": "markdown",
   "metadata": {},
   "source": [
    "**03)** O que são linguagens de programação? Quais são as vantagens do Python em relação a alguma outra linguagem de programação de sua escolha?"
   ]
  },
  {
   "cell_type": "markdown",
   "metadata": {},
   "source": [
    "**04)** Faria sentido ter uma linguagem de programação que não utilizasse variáveis? Por quê?"
   ]
  },
  {
   "cell_type": "markdown",
   "metadata": {},
   "source": [
    "**05)** O que são bibliotecas no contexto de linguagens de programação?"
   ]
  },
  {
   "cell_type": "markdown",
   "metadata": {},
   "source": [
    "**06)** O que são bibliotecas no contexto de linguagens de programação?"
   ]
  },
  {
   "cell_type": "markdown",
   "metadata": {},
   "source": [
    "**07)** Diferencie as situações em que é mais vantajoso utilizar laços `para` e, laços `enquanto`."
   ]
  },
  {
   "cell_type": "markdown",
   "metadata": {},
   "source": [
    "**08)** Explique como funcionam o comando de seleção `if` no Python. Inclua em sua explicação, o funcionamento do `else` e do  `elif`."
   ]
  },
  {
   "cell_type": "markdown",
   "metadata": {},
   "source": [
    "# Lógica de Programação"
   ]
  },
  {
   "cell_type": "markdown",
   "metadata": {},
   "source": [
    "**09)** Refaça todos os exercícios da semana $06$ com o laço `enquanto` ao invés do `for` como originalmente proposto."
   ]
  },
  {
   "cell_type": "markdown",
   "metadata": {},
   "source": [
    "**10)** Refaça todos os exercícios da semana $07$ com o laço `enquanto` ao invés do `for` como originalmente proposto."
   ]
  },
  {
   "cell_type": "markdown",
   "metadata": {},
   "source": [
    "**11)** Explique o que acontece quando executamos o código a seguir?"
   ]
  },
  {
   "cell_type": "code",
   "execution_count": null,
   "metadata": {},
   "outputs": [],
   "source": [
    "i = 0\n",
    "while (True):\n",
    "    i += 1\n",
    "    print(i)"
   ]
  },
  {
   "cell_type": "markdown",
   "metadata": {},
   "source": [
    "**12)** Crie um programa que imprima a tabuada de 1 a 10 com o laço `while` e o `for`."
   ]
  },
  {
   "cell_type": "markdown",
   "metadata": {},
   "source": [
    "**13**) Escreva um programa que liste todos os divisores de um número $n$ informado pelo usuário. O programa deve informar se o número for primo, caso não haja divisores."
   ]
  },
  {
   "cell_type": "markdown",
   "metadata": {},
   "source": [
    "**14**) Suponha que no ano $N$ a população americana seja maior que a brasileira. Sabendo-se que os Estados Unidos possuem um crescimento anual de $2%$ na sua população e que o Brasil tem crescimento anual de $4%$, determinar o ano em que as duas populações serão iguais (em quantidade)."
   ]
  },
  {
   "cell_type": "markdown",
   "metadata": {},
   "source": [
    "**15)** O departamento de marketing da Educ está com o problema de calcular o ponto de equilíbrio para qualquer livro que se propõe a publicar. Isso é, deve estabelecer o preço de venda que cobre os custos de produção. Os custos de produção consistem em um custo fixo mais um custo de cópia que depende do número de cópias produzidas e do número de páginas do livro:\n",
    "\n",
    "$$\n",
    "custo\\_produção = custo\\_fixo + (n\\_cópias) * (n\\_páginas) * 0,031\n",
    "$$\n",
    "\n",
    "Para cada livro que se pretende publicar é feita uma pesquisa de campo para determinar o número provável de vendas. Esse número é utilizado como o número de cópias. Em seguida, é organizada uma lista dos livros que se pretende publicar contendo as seguintes informações: número de identificação do livro, previsão de vendas, custo fixo e número de páginas.\n",
    "\n",
    "Desenvolva um algoritmo que, a partir dos dados dessa lista, emita um relatório contendo o número de identificação do livro, as vendas previstas e o preço de venda do livro que cobre os custos de produção, com 80% de margem de lucro."
   ]
  },
  {
   "cell_type": "markdown",
   "metadata": {},
   "source": [
    "> Atenção: Para resolver o exercício, você não precisa entender o código da célula a seguir. Para obter uma lista de livros gerada aleatoriamente, baseie-se apenas no exemplo de Uso 2, ao final deste caderno."
   ]
  },
  {
   "cell_type": "code",
   "execution_count": null,
   "metadata": {},
   "outputs": [],
   "source": [
    "from random import random, randint\n",
    "def obter_dados_pesq_campo(n_livros):\n",
    "    \"\"\"\n",
    "    Isto é uma função. Ela gera dados aleatoriamente para tornar o exercício mais realista. Esta função retorna, \n",
    "    um conjunto de dados que deve ser utilizado para produzir o relatório solicitado no enunciado. Este conjunto \n",
    "    de dados é formado por várias listas com o seguinte formato: \n",
    "\n",
    "    [n_identificação_livro, n_vendas_prováveis, custo_fixo, n_páginas]\n",
    "\n",
    "    Para usar a função basta chamá-la (escrever) da seguinte forma:\n",
    "\n",
    "    obter_dados_pesq_campo(100)\n",
    "\n",
    "    Neste caso, a função retorna uma lista contendo 100 listas menores, com cada uma representando um livro diferente.\n",
    "    Para guardar os resultados da lista em uma variável, utilize:\n",
    "\n",
    "    lista = obter_dados_pesq_campo(100)\n",
    "\n",
    "    Confira o exemplo logo após a declaração da função.\n",
    "    \"\"\"\n",
    "    livros = []\n",
    "    for id in range(1,n_livros+1):\n",
    "        n_vendas_proba = randint(10e2, 10e4) # número de vendas provável aleatório\n",
    "        custo_fixo = random() * 10e3 # Custo fixo do livro aleatório\n",
    "        n_páginas = randint(50, 900) # número de páginas do livro aleatório\n",
    "        livros.append([id, n_vendas_proba, custo_fixo, n_páginas])\n",
    "    return livros"
   ]
  },
  {
   "cell_type": "code",
   "execution_count": null,
   "metadata": {},
   "outputs": [],
   "source": [
    "# Exemplo de uso 1\n",
    "# Chamada de função que não armazena os valores na lista\n",
    "# Observe que embora se retorne uma lista, os valores não são armazenados em uma variável\n",
    "obter_dados_pesq_campo(5)"
   ]
  },
  {
   "cell_type": "code",
   "execution_count": null,
   "metadata": {},
   "outputs": [],
   "source": [
    "# Exemplo de uso 2\n",
    "# Chamada de função com armazenamento dos valores em uma variável\n",
    "livros = obter_dados_pesq_campo(5)\n",
    "livros"
   ]
  },
  {
   "cell_type": "code",
   "execution_count": null,
   "metadata": {},
   "outputs": [],
   "source": [
    "n_livros = 10\n",
    "livros = livros = obter_dados_pesq_campo(n_livros)\n",
    "\n",
    "# Seu código aqui (while)"
   ]
  }
 ],
 "metadata": {
  "kernelspec": {
   "display_name": "Python 3",
   "language": "python",
   "name": "python3"
  },
  "language_info": {
   "codemirror_mode": {
    "name": "ipython",
    "version": 3
   },
   "file_extension": ".py",
   "mimetype": "text/x-python",
   "name": "python",
   "nbconvert_exporter": "python",
   "pygments_lexer": "ipython3",
   "version": "3.8.5"
  }
 },
 "nbformat": 4,
 "nbformat_minor": 4
}
