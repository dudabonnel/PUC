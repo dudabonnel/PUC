{
  "nbformat": 4,
  "nbformat_minor": 0,
  "metadata": {
    "kernelspec": {
      "display_name": "Python 3",
      "language": "python",
      "name": "python3"
    },
    "language_info": {
      "codemirror_mode": {
        "name": "ipython",
        "version": 3
      },
      "file_extension": ".py",
      "mimetype": "text/x-python",
      "name": "python",
      "nbconvert_exporter": "python",
      "pygments_lexer": "ipython3",
      "version": "3.8.5"
    },
    "colab": {
      "name": "while s07-for-exercícios-para-entregar.ipynb",
      "provenance": []
    }
  },
  "cells": [
    {
      "cell_type": "markdown",
      "metadata": {
        "id": "4aHJ3QmzIumZ"
      },
      "source": [
        "# Exercícios\n",
        "### Semana 07"
      ]
    },
    {
      "cell_type": "markdown",
      "metadata": {
        "id": "1rkSHMtAIumd"
      },
      "source": [
        "# Estruturas de Repetição - FOR"
      ]
    },
    {
      "cell_type": "markdown",
      "metadata": {
        "id": "J1r4cLjSIume"
      },
      "source": [
        "**[1]** Crie um programa para contar a quantidade de números pares entre $2$ e $99$.\n",
        "\n",
        "Dica: utilize o operador $\\%$, conhecido como módulo."
      ]
    },
    {
      "cell_type": "code",
      "metadata": {
        "colab": {
          "base_uri": "https://localhost:8080/"
        },
        "id": "xMGBTEHO3YMs",
        "outputId": "b8cba82e-6291-4450-f3d2-53d84a2b51b7"
      },
      "source": [
        "numero = 2\n",
        "count = 0\n",
        "while True:\n",
        "  if numero > 99:\n",
        "    break\n",
        "  if numero%2 == 0:\n",
        "    count += 1\n",
        "  numero += 1\n",
        "print(count)"
      ],
      "execution_count": null,
      "outputs": [
        {
          "output_type": "stream",
          "text": [
            "49\n"
          ],
          "name": "stdout"
        }
      ]
    },
    {
      "cell_type": "markdown",
      "metadata": {
        "id": "xTXYc5q4Iumf"
      },
      "source": [
        "**[2]** Crie um programa para somar todos os pares entre $2$ e $99$. "
      ]
    },
    {
      "cell_type": "code",
      "metadata": {
        "colab": {
          "base_uri": "https://localhost:8080/"
        },
        "id": "NNKUjDgCJWPp",
        "outputId": "e37acc7d-3da3-4762-ea61-8dcb7dc34b34"
      },
      "source": [
        "numero = 2\n",
        "count = 0\n",
        "soma = 0\n",
        "while True:\n",
        "  if numero > 99:\n",
        "    break\n",
        "  if numero%2 == 0:\n",
        "    soma += numero\n",
        "  numero += 1\n",
        "print(soma)"
      ],
      "execution_count": null,
      "outputs": [
        {
          "output_type": "stream",
          "text": [
            "2450\n"
          ],
          "name": "stdout"
        }
      ]
    },
    {
      "cell_type": "markdown",
      "metadata": {
        "id": "1wCdDcOTIumg"
      },
      "source": [
        "**[3]** Crie um programa para somar $n$ números gerados aleatoriamente entre $1$ e $10$, onde $n$ é informado pelo usuário."
      ]
    },
    {
      "cell_type": "code",
      "metadata": {
        "colab": {
          "base_uri": "https://localhost:8080/"
        },
        "id": "z-ytI0TQndoQ",
        "outputId": "232da902-3389-433b-97e0-1f2cb7d3ccf8"
      },
      "source": [
        "from random import random\n",
        "n = 5\n",
        "lista = []\n",
        "while n > 0:\n",
        "  n_gerado = randrange(1,11) \n",
        "  lista.append(n_gerado)\n",
        "  n -= 1\n",
        "print(\"Eu gerei os números \", str(lista)[1:-1])\n",
        "print(\"A soma é \", sum(lista))"
      ],
      "execution_count": null,
      "outputs": [
        {
          "output_type": "stream",
          "text": [
            "Eu gerei os números  1, 2, 5, 10, 10\n",
            "A soma é  28\n"
          ],
          "name": "stdout"
        }
      ]
    },
    {
      "cell_type": "markdown",
      "metadata": {
        "id": "siT8-LSgIumh"
      },
      "source": [
        "**[4]** Crie um programa para imprimir uma agenda diária com horários de $15$ em $15$ minutos, conforme a listagem a seguir.\n",
        "\n",
        "```\n",
        "00:00\n",
        "00:15\n",
        "00:30\n",
        "00:45\n",
        "01:00\n",
        "01:15\n",
        "...\n",
        "23:30\n",
        "23:45\n",
        "00:00\n",
        "```"
      ]
    },
    {
      "cell_type": "code",
      "metadata": {
        "colab": {
          "base_uri": "https://localhost:8080/"
        },
        "id": "9P4_YqUVotqK",
        "outputId": "0ed271f5-ed4d-4ab5-9b2b-1b1ac8012741"
      },
      "source": [
        "h = 0\n",
        "while h != 24:\n",
        "  m = 0\n",
        "  while m != 60:\n",
        "    print(f\"{h:02d}:{m:02d}\")\n",
        "    m += 15\n",
        "  h += 1\n",
        "print(\"00:00\")"
      ],
      "execution_count": null,
      "outputs": [
        {
          "output_type": "stream",
          "text": [
            "00:00\n",
            "00:15\n",
            "00:30\n",
            "00:45\n",
            "01:00\n",
            "01:15\n",
            "01:30\n",
            "01:45\n",
            "02:00\n",
            "02:15\n",
            "02:30\n",
            "02:45\n",
            "03:00\n",
            "03:15\n",
            "03:30\n",
            "03:45\n",
            "04:00\n",
            "04:15\n",
            "04:30\n",
            "04:45\n",
            "05:00\n",
            "05:15\n",
            "05:30\n",
            "05:45\n",
            "06:00\n",
            "06:15\n",
            "06:30\n",
            "06:45\n",
            "07:00\n",
            "07:15\n",
            "07:30\n",
            "07:45\n",
            "08:00\n",
            "08:15\n",
            "08:30\n",
            "08:45\n",
            "09:00\n",
            "09:15\n",
            "09:30\n",
            "09:45\n",
            "10:00\n",
            "10:15\n",
            "10:30\n",
            "10:45\n",
            "11:00\n",
            "11:15\n",
            "11:30\n",
            "11:45\n",
            "12:00\n",
            "12:15\n",
            "12:30\n",
            "12:45\n",
            "13:00\n",
            "13:15\n",
            "13:30\n",
            "13:45\n",
            "14:00\n",
            "14:15\n",
            "14:30\n",
            "14:45\n",
            "15:00\n",
            "15:15\n",
            "15:30\n",
            "15:45\n",
            "16:00\n",
            "16:15\n",
            "16:30\n",
            "16:45\n",
            "17:00\n",
            "17:15\n",
            "17:30\n",
            "17:45\n",
            "18:00\n",
            "18:15\n",
            "18:30\n",
            "18:45\n",
            "19:00\n",
            "19:15\n",
            "19:30\n",
            "19:45\n",
            "20:00\n",
            "20:15\n",
            "20:30\n",
            "20:45\n",
            "21:00\n",
            "21:15\n",
            "21:30\n",
            "21:45\n",
            "22:00\n",
            "22:15\n",
            "22:30\n",
            "22:45\n",
            "23:00\n",
            "23:15\n",
            "23:30\n",
            "23:45\n",
            "00:00\n"
          ],
          "name": "stdout"
        }
      ]
    },
    {
      "cell_type": "markdown",
      "metadata": {
        "id": "mSW-q_eOIumh"
      },
      "source": [
        "**[5]** Criar um programa para imprimir a tabela de jogos para $5$ times, onde cada time joga com todos os outros duas vezes, a primeira vez em casa e a segunda, na casa do adversário.\n",
        "\n",
        "```python\n",
        "times = ['FLA', 'FLU', 'COR', 'PAL', 'VAS']\n",
        "```"
      ]
    },
    {
      "cell_type": "code",
      "metadata": {
        "id": "5ZIskoYvVQp7",
        "colab": {
          "base_uri": "https://localhost:8080/"
        },
        "outputId": "5ee96463-458f-4ae4-9f57-907cf396e4ca"
      },
      "source": [
        "times = ['FLA', 'FLU', 'COR', 'PAL', 'VAS']\n",
        "for e in times:\n",
        "  print(f\"Tabela {e}:\")\n",
        "  tabtemp = times[:]\n",
        "  count = 0\n",
        "  tabtemp.remove(e)\n",
        "  for i in tabtemp:\n",
        "    if count%2 == 0:\n",
        "      print(f\"{e} x {i}\")\n",
        "      count += 1\n",
        "    else:\n",
        "      print(f\"{i} x {e}\")\n",
        "      count += 1\n",
        "\n"
      ],
      "execution_count": null,
      "outputs": [
        {
          "output_type": "stream",
          "text": [
            "Tabela FLA:\n",
            "FLA x FLU\n",
            "COR x FLA\n",
            "FLA x PAL\n",
            "VAS x FLA\n",
            "Tabela FLU:\n",
            "FLU x FLA\n",
            "COR x FLU\n",
            "FLU x PAL\n",
            "VAS x FLU\n",
            "Tabela COR:\n",
            "COR x FLA\n",
            "FLU x COR\n",
            "COR x PAL\n",
            "VAS x COR\n",
            "Tabela PAL:\n",
            "PAL x FLA\n",
            "FLU x PAL\n",
            "PAL x COR\n",
            "VAS x PAL\n",
            "Tabela VAS:\n",
            "VAS x FLA\n",
            "FLU x VAS\n",
            "VAS x COR\n",
            "PAL x VAS\n"
          ],
          "name": "stdout"
        }
      ]
    },
    {
      "cell_type": "code",
      "metadata": {
        "id": "ul8faPztrGb5"
      },
      "source": [
        "#Questão 5\n",
        "times = ['FLA', 'FLU', 'COR', 'PAL', 'VAS']\n",
        "for time_casa in times:\n",
        "    print(f\"time da casa {time_casa}\")\n",
        "    for time_visitante in times:\n",
        "        if (time_visitante != time_casa):\n",
        "           print(f\"{time_casa} X {time_visitante}\")\n",
        "           print()"
      ],
      "execution_count": null,
      "outputs": []
    },
    {
      "cell_type": "code",
      "metadata": {
        "colab": {
          "base_uri": "https://localhost:8080/"
        },
        "id": "E8ZnEJknt0-e",
        "outputId": "234444bb-6e11-45aa-bf29-6e5a86a33b9b"
      },
      "source": [
        "#Questão 5\n",
        "times = ['FLA', 'FLU', 'COR', 'PAL', 'VAS']\n",
        "for time1 in times:\n",
        "    for time2 in times:\n",
        "      if (time1 != time2):\n",
        "        print(time1 + \" x \" + time2)"
      ],
      "execution_count": null,
      "outputs": [
        {
          "output_type": "stream",
          "text": [
            "FLA x FLU\n",
            "FLA x COR\n",
            "FLA x PAL\n",
            "FLA x VAS\n",
            "FLU x FLA\n",
            "FLU x COR\n",
            "FLU x PAL\n",
            "FLU x VAS\n",
            "COR x FLA\n",
            "COR x FLU\n",
            "COR x PAL\n",
            "COR x VAS\n",
            "PAL x FLA\n",
            "PAL x FLU\n",
            "PAL x COR\n",
            "PAL x VAS\n",
            "VAS x FLA\n",
            "VAS x FLU\n",
            "VAS x COR\n",
            "VAS x PAL\n"
          ],
          "name": "stdout"
        }
      ]
    },
    {
      "cell_type": "code",
      "metadata": {
        "colab": {
          "base_uri": "https://localhost:8080/"
        },
        "id": "esqiT-MIuiRj",
        "outputId": "6c823f5c-10d4-4187-8d33-50a09fef32ac"
      },
      "source": [
        "times = ['FLA', 'FLU', 'COR', 'PAL', 'VAS']\n",
        "hanna = 0\n",
        "while hanna < len(times):\n",
        "  time1 = times[hanna]\n",
        "  count = 0\n",
        "  while count <  len(times):\n",
        "    time2 = times[count]\n",
        "    if time1 != time2:\n",
        "      print(f\"{time1} x {time2}\" )\n",
        "    count += 1\n",
        "  hanna += 1"
      ],
      "execution_count": null,
      "outputs": [
        {
          "output_type": "stream",
          "text": [
            "FLA x FLU\n",
            "FLA x COR\n",
            "FLA x PAL\n",
            "FLA x VAS\n",
            "FLU x FLA\n",
            "FLU x COR\n",
            "FLU x PAL\n",
            "FLU x VAS\n",
            "COR x FLA\n",
            "COR x FLU\n",
            "COR x PAL\n",
            "COR x VAS\n",
            "PAL x FLA\n",
            "PAL x FLU\n",
            "PAL x COR\n",
            "PAL x VAS\n",
            "VAS x FLA\n",
            "VAS x FLU\n",
            "VAS x COR\n",
            "VAS x PAL\n"
          ],
          "name": "stdout"
        }
      ]
    }
  ]
}