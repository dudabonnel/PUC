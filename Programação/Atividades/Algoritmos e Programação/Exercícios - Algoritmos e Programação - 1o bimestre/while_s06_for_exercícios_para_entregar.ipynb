{
  "nbformat": 4,
  "nbformat_minor": 0,
  "metadata": {
    "colab": {
      "name": "while s06-for-exercícios-para-entregar.ipynb",
      "provenance": []
    },
    "kernelspec": {
      "display_name": "Python 3",
      "language": "python",
      "name": "python3"
    },
    "language_info": {
      "codemirror_mode": {
        "name": "ipython",
        "version": 3
      },
      "file_extension": ".py",
      "mimetype": "text/x-python",
      "name": "python",
      "nbconvert_exporter": "python",
      "pygments_lexer": "ipython3",
      "version": "3.8.5"
    }
  },
  "cells": [
    {
      "cell_type": "markdown",
      "metadata": {
        "id": "ScJfiSLV_Tku"
      },
      "source": [
        "# Exercícios"
      ]
    },
    {
      "cell_type": "markdown",
      "metadata": {
        "id": "_cRqazQx_Tk_"
      },
      "source": [
        "### Semana 06"
      ]
    },
    {
      "cell_type": "markdown",
      "metadata": {
        "id": "U9939A4V_TlA"
      },
      "source": [
        "**[1]** Considere a progressão geométrica (PG) $1, 2, 4, 8, 16, 32, ...$ e um inteiro positivo $n$. Deseja-se:"
      ]
    },
    {
      "cell_type": "markdown",
      "metadata": {
        "id": "_QL83L19_TlA"
      },
      "source": [
        "a) Imprimir o $n$ primeiros termos."
      ]
    },
    {
      "cell_type": "code",
      "metadata": {
        "colab": {
          "base_uri": "https://localhost:8080/"
        },
        "id": "krx8wDJuy1CC",
        "outputId": "8a835b0c-d21d-4615-e39c-cb36c376b60a"
      },
      "source": [
        "n = 3\n",
        "count = 0\n",
        "number = 1\n",
        "while count != n:\n",
        "  print(number)\n",
        "  number *= 2\n",
        "  count += 1\n"
      ],
      "execution_count": null,
      "outputs": [
        {
          "output_type": "stream",
          "text": [
            "1\n",
            "2\n",
            "4\n"
          ],
          "name": "stdout"
        }
      ]
    },
    {
      "cell_type": "markdown",
      "metadata": {
        "id": "vUdtomal_TlB"
      },
      "source": [
        "b) Calcular e imprimir a soma dos $n$ primeiros termos da PG sem utilizar a fórmula da soma por meio de um programa Python."
      ]
    },
    {
      "cell_type": "code",
      "metadata": {
        "colab": {
          "base_uri": "https://localhost:8080/"
        },
        "id": "VOfdnPoLBZEo",
        "outputId": "6760f7b6-2951-4132-eb00-d100300d3970"
      },
      "source": [
        "n = int(input(\"Me dê um valor positivo pra n: \"))\n",
        "number = 1\n",
        "sum = 0\n",
        "for n in range (n):\n",
        "    sum += number\n",
        "    number *= 2\n",
        "print(sum)"
      ],
      "execution_count": null,
      "outputs": [
        {
          "output_type": "stream",
          "text": [
            "Me dê um valor positivo pra n: 4\n",
            "15\n"
          ],
          "name": "stdout"
        }
      ]
    },
    {
      "cell_type": "code",
      "metadata": {
        "colab": {
          "base_uri": "https://localhost:8080/"
        },
        "id": "GK5EjjwbzxzW",
        "outputId": "c46b2e0e-0abb-4d75-abdd-f63a9431e281"
      },
      "source": [
        "n = 3\n",
        "count = 0\n",
        "number = 1\n",
        "soma = 0\n",
        "while count != n:\n",
        "  soma += number\n",
        "  number *= 2\n",
        "  count += 1\n",
        "print(soma)\n"
      ],
      "execution_count": null,
      "outputs": [
        {
          "output_type": "stream",
          "text": [
            "7\n"
          ],
          "name": "stdout"
        }
      ]
    },
    {
      "cell_type": "markdown",
      "metadata": {
        "id": "SpeRdO7J_TlB"
      },
      "source": [
        "**[2]** Imprimir os $n$ primeiros termos das sequências definidas pelas relações de recorrência:"
      ]
    },
    {
      "cell_type": "markdown",
      "metadata": {
        "id": "sqxy8AwS_TlB"
      },
      "source": [
        "a) $y_{k+1} = y_{k} + k$, em que $k = 1,2,3...$ e $y_{1}=1$"
      ]
    },
    {
      "cell_type": "markdown",
      "metadata": {
        "id": "iJjF962E_TlC"
      },
      "source": [
        "$y_{1} = 1$ \n",
        "\n",
        "$y_{1+1} = y_{1} + 1$ => $ y_{2} = 1 + 1$ => $y_{2} = 2$\n",
        "\n",
        "$y_{2+1} = y_{2} + 2$ => $y_{3} = 2 + 2$ => $y_{3} = 4$\n",
        "\n",
        "$y_{3+1} = y_{3} + 3$ \n",
        "\n",
        "...\n",
        "\n",
        "$y_{k+1} = y_{k} + k$ "
      ]
    },
    {
      "cell_type": "code",
      "metadata": {
        "colab": {
          "base_uri": "https://localhost:8080/"
        },
        "id": "NCFTbGU60HZo",
        "outputId": "3ef835a9-7dc5-4846-94e2-f9ba8feed5ee"
      },
      "source": [
        "n = 5\n",
        "count = 0\n",
        "y = 1\n",
        "k = 1\n",
        "while count != n:\n",
        "  print(y)\n",
        "  y += k\n",
        "  k += 1\n",
        "  count += 1\n"
      ],
      "execution_count": null,
      "outputs": [
        {
          "output_type": "stream",
          "text": [
            "1\n",
            "2\n",
            "4\n",
            "7\n",
            "11\n"
          ],
          "name": "stdout"
        }
      ]
    },
    {
      "cell_type": "markdown",
      "metadata": {
        "id": "niCo4X0d_TlC"
      },
      "source": [
        "b) $y_{k+1} = y_{k} + (2k + 1)$, em que $k = 0,1,2...$ e $y_{0}=1$"
      ]
    },
    {
      "cell_type": "code",
      "metadata": {
        "colab": {
          "base_uri": "https://localhost:8080/"
        },
        "id": "49wtGKEk04h_",
        "outputId": "88b0ac5b-85ba-43d8-ecee-54f2a92c64c8"
      },
      "source": [
        "n = 5\n",
        "count = 0\n",
        "y = 1\n",
        "k = 0\n",
        "while count != n:\n",
        "  print(y)\n",
        "  y += (2*k+1)\n",
        "  k += 1\n",
        "  count += 1\n"
      ],
      "execution_count": null,
      "outputs": [
        {
          "output_type": "stream",
          "text": [
            "1\n",
            "2\n",
            "5\n",
            "10\n",
            "17\n"
          ],
          "name": "stdout"
        }
      ]
    },
    {
      "cell_type": "markdown",
      "metadata": {
        "id": "ycVSq5f9_TlD"
      },
      "source": [
        "c) $y_{k+1} = y_{k} + 3k^2 + 3k + 1$, em que $k = 0,1,2...$ e $y_{0}=1$"
      ]
    },
    {
      "cell_type": "code",
      "metadata": {
        "colab": {
          "base_uri": "https://localhost:8080/"
        },
        "id": "jjjs3INg1tvb",
        "outputId": "402b0a3d-7539-4de0-8753-7ee89cecb395"
      },
      "source": [
        "n = 3\n",
        "count = 0\n",
        "y = 1\n",
        "k = 0\n",
        "while count != n:\n",
        "  print(y)\n",
        "  y += (3*k**2 + 3*k + 1)\n",
        "  k += 1\n",
        "  count += 1\n"
      ],
      "execution_count": null,
      "outputs": [
        {
          "output_type": "stream",
          "text": [
            "1\n",
            "2\n",
            "9\n"
          ],
          "name": "stdout"
        }
      ]
    },
    {
      "cell_type": "markdown",
      "metadata": {
        "id": "lykaXLf9_TlD"
      },
      "source": [
        "d) $y_{k+1} = 2y_{k}$, em que $k = 1,2...$ e $y_{1}=1$"
      ]
    },
    {
      "cell_type": "code",
      "metadata": {
        "colab": {
          "base_uri": "https://localhost:8080/"
        },
        "id": "qtpTxtmY1551",
        "outputId": "0e3c5774-0ae9-4b07-9727-e5f2c293f4bd"
      },
      "source": [
        "n = 4\n",
        "count = 0\n",
        "y = 1\n",
        "while count != n:\n",
        "  print(y)\n",
        "  y = 2*y\n",
        "  count += 1\n"
      ],
      "execution_count": null,
      "outputs": [
        {
          "output_type": "stream",
          "text": [
            "1\n",
            "2\n",
            "4\n",
            "8\n"
          ],
          "name": "stdout"
        }
      ]
    },
    {
      "cell_type": "markdown",
      "metadata": {
        "id": "7M70mmPs_TlD"
      },
      "source": [
        "**[3]** Calcular as somas:"
      ]
    },
    {
      "cell_type": "markdown",
      "metadata": {
        "id": "K7u9JTQr_TlE"
      },
      "source": [
        "a) $S = \\sum_{k=1}^{20} 2k$"
      ]
    },
    {
      "cell_type": "code",
      "metadata": {
        "colab": {
          "base_uri": "https://localhost:8080/"
        },
        "id": "36epi5FU2k5l",
        "outputId": "e3704d5b-6d16-40b1-c363-eef4771eb718"
      },
      "source": [
        "count = 1\n",
        "sum = 0\n",
        "while count <= 20:\n",
        "  sum += 2*count\n",
        "  count += 1\n",
        "print(\"A soma dá \" + str(sum))"
      ],
      "execution_count": null,
      "outputs": [
        {
          "output_type": "stream",
          "text": [
            "A soma dá 420\n"
          ],
          "name": "stdout"
        }
      ]
    },
    {
      "cell_type": "markdown",
      "metadata": {
        "id": "ivXbsUZ2_TlE"
      },
      "source": [
        "b) $T = \\sum_{k=5}^{50} k^2$ "
      ]
    },
    {
      "cell_type": "code",
      "metadata": {
        "colab": {
          "base_uri": "https://localhost:8080/"
        },
        "id": "0GObqhKG3K8p",
        "outputId": "fd764da0-29a7-4392-8aa6-d3250c837075"
      },
      "source": [
        "count = 5\n",
        "sum = 0\n",
        "while count <= 50:\n",
        "  sum += count**2\n",
        "  count += 1\n",
        "print(\"A soma dá \" + str(sum))"
      ],
      "execution_count": null,
      "outputs": [
        {
          "output_type": "stream",
          "text": [
            "A soma dá 42895\n"
          ],
          "name": "stdout"
        }
      ]
    },
    {
      "cell_type": "markdown",
      "metadata": {
        "id": "yGOIWkzW_TlE"
      },
      "source": [
        "c) $U = \\sum_{k=0}^{100} k$"
      ]
    },
    {
      "cell_type": "code",
      "metadata": {
        "id": "CCKPWGtpGqab"
      },
      "source": [
        "sum = 0\n",
        "for k in range (0, 101):\n",
        "    sum += k\n",
        "print(\"A soma dá \" + str(sum))"
      ],
      "execution_count": null,
      "outputs": []
    },
    {
      "cell_type": "code",
      "metadata": {
        "colab": {
          "base_uri": "https://localhost:8080/"
        },
        "id": "4c3_bzYT3WaG",
        "outputId": "57ec1fd2-20b4-48a1-f2c7-52b96b872225"
      },
      "source": [
        "count = 0\n",
        "sum = 0\n",
        "while count <= 100:\n",
        "  sum += count\n",
        "  count += 1\n",
        "print(\"A soma dá \" + str(sum))"
      ],
      "execution_count": null,
      "outputs": [
        {
          "output_type": "stream",
          "text": [
            "A soma dá 5050\n"
          ],
          "name": "stdout"
        }
      ]
    },
    {
      "cell_type": "markdown",
      "metadata": {
        "id": "gE23PDls_TlE"
      },
      "source": [
        "**[4]** Partindo-se de um único casal de coelhos filhotes recém-nascidos e supondo que um casal de coelhos torna-se fértil após dois meses de vida e, a partir de então, produz um novo casal a cada mês e que os coelhos nunca morrem, quantidade de casal de coelhos após $n$ meses é dado pelo $n$-ésimo termo da seguinte sequência:\n",
        "\n",
        "$F_{n} = F_{n-2} + F_{n-1}$, para $n \\geq 2$\n",
        "\n",
        "$F_{0} = 1$\n",
        "\n",
        "$F_{1} = 1$\n",
        "\n",
        "Sobre esta sequência:"
      ]
    },
    {
      "cell_type": "markdown",
      "metadata": {
        "id": "ZG_dQBmv_TlF"
      },
      "source": [
        "a) Explique como os termos dessa série correspondem à solução do problema proposto."
      ]
    },
    {
      "cell_type": "markdown",
      "metadata": {
        "id": "TGuoVWufJp8o"
      },
      "source": [
        "    Cada termo da sequência corresponde a quantidade de coelhos vivos em n meses a partir do casal primário, sendo n o tempo em meses."
      ]
    },
    {
      "cell_type": "markdown",
      "metadata": {
        "id": "cJu-bnLD_TlF"
      },
      "source": [
        "b) Escreva um programa para calcular a quantidade de casais de coelhos após $n$ meses."
      ]
    },
    {
      "cell_type": "code",
      "metadata": {
        "colab": {
          "base_uri": "https://localhost:8080/"
        },
        "id": "1YvQ3VnfHLNd",
        "outputId": "77d5597a-a73f-4910-ce00-7d553299bdae"
      },
      "source": [
        "n = 5\n",
        "t1=1 \n",
        "t2=1 \n",
        "lista = [] \n",
        "for _ in range(n): \n",
        "    \n",
        "    #vamos partir uma mini sequencia\n",
        "    lista.append(t1) #adiciona a lista o 1 elemento a cada vez que rodar o loop\n",
        "    \n",
        "    t3=t1+t2 #define o terceiro termo como sendo a soma dos dois últimos\n",
        "    \n",
        "    #agora vamos avançar uma posição na sequencia\n",
        "    t1=t2  #define a posição 1 com o valor 2 \n",
        "    t2=t3  #define a posição 2 com o valor 3\n",
        "    \n",
        "print(lista) #lista com n primeiros números inteiros da sequência fibonacci\n"
      ],
      "execution_count": 25,
      "outputs": [
        {
          "output_type": "stream",
          "text": [
            "[1, 1, 2, 3, 5]\n"
          ],
          "name": "stdout"
        }
      ]
    },
    {
      "cell_type": "code",
      "metadata": {
        "colab": {
          "base_uri": "https://localhost:8080/"
        },
        "id": "g-2EyiyC4Cu1",
        "outputId": "da6fe931-abc0-4821-f844-aa6a5646285d"
      },
      "source": [
        "n = 5\n",
        "t1=1 \n",
        "t2=1 \n",
        "lista = []\n",
        "count = 1\n",
        "while count <= 5:\n",
        "    \n",
        "    #vamos partir uma mini sequencia\n",
        "    lista.append(t1) #adiciona a lista o 1 elemento a cada vez que rodar o loop\n",
        "    \n",
        "    t3=t1+t2 #define o terceiro termo como sendo a soma dos dois últimos\n",
        "    \n",
        "    #agora vamos avançar uma posição na sequencia\n",
        "    t1=t2  #define a posição 1 com o valor 2 \n",
        "    t2=t3  #define a posição 2 com o valor 3\n",
        "\n",
        "    count += 1\n",
        "    \n",
        "print(lista) #lista com n primeiros números inteiros da sequência fibonacci"
      ],
      "execution_count": 26,
      "outputs": [
        {
          "output_type": "stream",
          "text": [
            "[1, 1, 2, 3, 5]\n"
          ],
          "name": "stdout"
        }
      ]
    },
    {
      "cell_type": "markdown",
      "metadata": {
        "id": "dnDPE8US_TlF"
      },
      "source": [
        "**[5]** Tabelar $n!$ para $n$ variando de 0 a 10. Por definição, $k! = k(k-1)(k-2)...(1)$ para $k \\in N^{*}$ e $0! = 1$."
      ]
    },
    {
      "cell_type": "code",
      "metadata": {
        "colab": {
          "base_uri": "https://localhost:8080/"
        },
        "id": "AYC0xxyes9CI",
        "outputId": "8a3dcee5-7737-49b4-e152-ed27128e6b92"
      },
      "source": [
        "n = 5\n",
        "count = 1\n",
        "print(\"n : n!\")\n",
        "while count <= n:\n",
        "  result = 1\n",
        "  hanna = 1\n",
        "  while hanna <= count:\n",
        "    result *= hanna\n",
        "    hanna += 1\n",
        "  print(f\"{count} : {result}\")\n",
        "  count += 1"
      ],
      "execution_count": 4,
      "outputs": [
        {
          "output_type": "stream",
          "text": [
            "n : n!\n",
            "1 : 1\n",
            "2 : 2\n",
            "3 : 6\n",
            "4 : 24\n",
            "5 : 120\n"
          ],
          "name": "stdout"
        }
      ]
    },
    {
      "cell_type": "markdown",
      "metadata": {
        "id": "rIMoGafN_TlF"
      },
      "source": [
        "**[6]** Em um campeonato de futebol cada time tem uma lista oficial de 23 jogadores. Cada time prepara uma relação contendo o peso e a idade de cada um de seus jogadores. Os 40 times que participaram do torneio enviam listas para o CPD da confederação. Deseja-se a seguinte informação."
      ]
    },
    {
      "cell_type": "markdown",
      "metadata": {
        "id": "6ljcldBa_TlG"
      },
      "source": [
        "a) o peso médio e a idade média para cada um dos times."
      ]
    },
    {
      "cell_type": "code",
      "metadata": {
        "colab": {
          "base_uri": "https://localhost:8080/"
        },
        "id": "kxZf4LAJP-Bt",
        "outputId": "1940cc21-d08d-48d8-a6ec-7f25f86827ed"
      },
      "source": [
        "#considerando que há uma lista chamada times contendo 40 listas, uma de cada time, cada uma com duas outras listas, peso e idade, *nessa ordem*\n",
        "#Exemplo\n",
        "#times = [[[67.42, 63.20, 70.60,...], [27, 18, 23, ...]], [[62.73, 65.42, 69.38,...], [24, 21, 25, ...]], ...]\n",
        "\n",
        "#abrindo arquivo com lista chamada \"times\"\n",
        "from lista import *\n",
        "\n",
        "#peso médio por equipe\n",
        "\n",
        "#extraindo uma lista de outras\n",
        "new_pesos_equipes = []\n",
        "for i in times:\n",
        "  new_pesos_equipes.append(i[0])\n",
        "#print(new_pesos_equipes)\n",
        "\n",
        "#tirando média\n",
        "soma_pesos_equipes = []\n",
        "for i in new_pesos_equipes:\n",
        "  sum = 0\n",
        "  for b in i:\n",
        "    sum += b\n",
        "  soma_pesos_equipes.append(sum)\n",
        "for c in soma_pesos_equipes:\n",
        "  avg = round(c/23, 2)\n",
        "  print(\"O peso médio da equipe \" + str(soma_pesos_equipes.index(c)+1) + ' é '+ str(avg))\n",
        "\n",
        "#idade média por equipe\n",
        "\n",
        "#extraindo uma lista de outras\n",
        "new_idades_equipes = []\n",
        "for i in times:\n",
        "  new_idades_equipes.append(i[1])\n",
        "\n",
        "#tirando média\n",
        "soma_idades_equipes = []\n",
        "for i in new_idades_equipes:\n",
        "  sum = 0\n",
        "  for b in i:\n",
        "    sum += b\n",
        "  soma_idades_equipes.append(sum)\n",
        "count = 0\n",
        "for c in soma_idades_equipes:\n",
        "  count += 1\n",
        "  avg = round(c/23)\n",
        "  print(\"A idade média da equipe \" + str(count) + ' é '+ str(avg))\n"
      ],
      "execution_count": null,
      "outputs": [
        {
          "output_type": "stream",
          "text": [
            "O peso médio da equipe 1 é 73.54\n",
            "O peso médio da equipe 2 é 74.12\n",
            "O peso médio da equipe 3 é 74.02\n",
            "O peso médio da equipe 4 é 74.86\n",
            "O peso médio da equipe 5 é 73.48\n",
            "O peso médio da equipe 6 é 73.93\n",
            "O peso médio da equipe 7 é 72.87\n",
            "O peso médio da equipe 8 é 74.88\n",
            "O peso médio da equipe 9 é 74.13\n",
            "O peso médio da equipe 10 é 74.17\n",
            "O peso médio da equipe 11 é 74.71\n",
            "O peso médio da equipe 12 é 71.46\n",
            "O peso médio da equipe 13 é 70.69\n",
            "O peso médio da equipe 14 é 74.1\n",
            "O peso médio da equipe 15 é 74.63\n",
            "O peso médio da equipe 16 é 71.14\n",
            "O peso médio da equipe 17 é 73.84\n",
            "O peso médio da equipe 18 é 70.14\n",
            "O peso médio da equipe 19 é 73.37\n",
            "O peso médio da equipe 20 é 72.64\n",
            "O peso médio da equipe 21 é 74.02\n",
            "O peso médio da equipe 22 é 73.13\n",
            "O peso médio da equipe 23 é 71.59\n",
            "O peso médio da equipe 24 é 73.95\n",
            "O peso médio da equipe 25 é 72.11\n",
            "O peso médio da equipe 26 é 74.52\n",
            "O peso médio da equipe 27 é 71.97\n",
            "O peso médio da equipe 28 é 72.09\n",
            "O peso médio da equipe 29 é 73.95\n",
            "O peso médio da equipe 30 é 74.4\n",
            "O peso médio da equipe 31 é 72.78\n",
            "O peso médio da equipe 32 é 74.21\n",
            "O peso médio da equipe 33 é 71.72\n",
            "O peso médio da equipe 34 é 73.7\n",
            "O peso médio da equipe 35 é 73.41\n",
            "O peso médio da equipe 36 é 72.7\n",
            "O peso médio da equipe 37 é 74.24\n",
            "O peso médio da equipe 38 é 74.03\n",
            "O peso médio da equipe 39 é 71.91\n",
            "O peso médio da equipe 40 é 71.62\n",
            "A idade média da equipe 1 é 27\n",
            "A idade média da equipe 2 é 27\n",
            "A idade média da equipe 3 é 27\n",
            "A idade média da equipe 4 é 27\n",
            "A idade média da equipe 5 é 28\n",
            "A idade média da equipe 6 é 27\n",
            "A idade média da equipe 7 é 26\n",
            "A idade média da equipe 8 é 25\n",
            "A idade média da equipe 9 é 28\n",
            "A idade média da equipe 10 é 28\n",
            "A idade média da equipe 11 é 27\n",
            "A idade média da equipe 12 é 28\n",
            "A idade média da equipe 13 é 26\n",
            "A idade média da equipe 14 é 28\n",
            "A idade média da equipe 15 é 27\n",
            "A idade média da equipe 16 é 26\n",
            "A idade média da equipe 17 é 25\n",
            "A idade média da equipe 18 é 26\n",
            "A idade média da equipe 19 é 27\n",
            "A idade média da equipe 20 é 26\n",
            "A idade média da equipe 21 é 25\n",
            "A idade média da equipe 22 é 26\n",
            "A idade média da equipe 23 é 29\n",
            "A idade média da equipe 24 é 27\n",
            "A idade média da equipe 25 é 26\n",
            "A idade média da equipe 26 é 25\n",
            "A idade média da equipe 27 é 26\n",
            "A idade média da equipe 28 é 27\n",
            "A idade média da equipe 29 é 28\n",
            "A idade média da equipe 30 é 28\n",
            "A idade média da equipe 31 é 25\n",
            "A idade média da equipe 32 é 28\n",
            "A idade média da equipe 33 é 27\n",
            "A idade média da equipe 34 é 26\n",
            "A idade média da equipe 35 é 27\n",
            "A idade média da equipe 36 é 25\n",
            "A idade média da equipe 37 é 25\n",
            "A idade média da equipe 38 é 26\n",
            "A idade média da equipe 39 é 27\n",
            "A idade média da equipe 40 é 27\n"
          ],
          "name": "stdout"
        }
      ]
    },
    {
      "cell_type": "markdown",
      "metadata": {
        "id": "9QKXyW0j_TlG"
      },
      "source": [
        "b) o peso médio e a idade média de todos os participantes."
      ]
    },
    {
      "cell_type": "code",
      "metadata": {
        "colab": {
          "base_uri": "https://localhost:8080/"
        },
        "id": "odaP8oyZVdEl",
        "outputId": "32464bd2-4e10-4cdc-e0b5-e6115dff785c"
      },
      "source": [
        "#considerando que há uma lista chamada times contendo 40 listas, uma de cada time, cada uma com duas outras listas, peso e idade, *nessa ordem*\n",
        "#Exemplo\n",
        "#times = [[[67.42, 63.20, 70.60,...], [27, 18, 23, ...]], [[62.73, 65.42, 69.38,...], [24, 21, 25, ...]], ...]\n",
        "\n",
        "#abrindo arquivo com lista chamada \"times\"\n",
        "from lista import *\n",
        "\n",
        "#peso médio todos os participantes\n",
        "\n",
        "#extraindo uma lista de outras\n",
        "new_pesos_equipes = []\n",
        "for i in times:\n",
        "  new_pesos_equipes.append(i[0])\n",
        "\n",
        "#tirando média\n",
        "soma_pesos_equipes = []\n",
        "for i in new_pesos_equipes:\n",
        "  sum = 0\n",
        "  for b in i:\n",
        "    sum += b\n",
        "  soma_pesos_equipes.append(sum)\n",
        "\n",
        "sum = 0\n",
        "for c in soma_pesos_equipes:\n",
        "  sum += c\n",
        "avg = round(sum/(40*23), 2)\n",
        "print(\"O peso médio de todos os participantes é \"+ str(avg))\n",
        "\n",
        "#idade média todos os participantes\n",
        "\n",
        "#extraindo uma lista de outras\n",
        "new_idades_equipes = []\n",
        "for i in times:\n",
        "  new_idades_equipes.append(i[1])\n",
        "\n",
        "#tirando média\n",
        "soma_idades_equipes = []\n",
        "for i in new_idades_equipes:\n",
        "  sum = 0\n",
        "  for b in i:\n",
        "    sum += b\n",
        "  soma_idades_equipes.append(sum)\n",
        "\n",
        "sum = 0\n",
        "for c in soma_idades_equipes:\n",
        "  sum += c\n",
        "avg = round(sum/(40*23))\n",
        "print(\"A idade média de todos os participantes é \"+ str(avg))\n",
        "\n"
      ],
      "execution_count": null,
      "outputs": [
        {
          "output_type": "stream",
          "text": [
            "O peso médio de todos os participantes é 73.22\n",
            "A idade média de todos os participantes é 27\n"
          ],
          "name": "stdout"
        }
      ]
    },
    {
      "cell_type": "markdown",
      "metadata": {
        "id": "aqa54_Se_TlG"
      },
      "source": [
        "**[7]** Escreva um programa para calcular a soma:"
      ]
    },
    {
      "cell_type": "markdown",
      "metadata": {
        "id": "A7X9CI7w_TlH"
      },
      "source": [
        "$1 - \\frac{1}{2} + \\frac{1}{4} - \\frac{1}{6} + \\frac{1}{8} - ... + \\frac{1}{200}$"
      ]
    },
    {
      "cell_type": "code",
      "metadata": {
        "colab": {
          "base_uri": "https://localhost:8080/"
        },
        "id": "AcdjwEpDZiBu",
        "outputId": "b18375a2-1d8d-4125-9f95-b67c9c1f6a34"
      },
      "source": [
        "k = 1\n",
        "sinal = 1\n",
        "soma = 1\n",
        "for k in range(2, 201, 2):\n",
        "    sinal = -sinal\n",
        "    soma += sinal * 1/k\n",
        "print(soma)"
      ],
      "execution_count": 6,
      "outputs": [
        {
          "output_type": "stream",
          "text": [
            "0.6559139103449027\n"
          ],
          "name": "stdout"
        }
      ]
    },
    {
      "cell_type": "code",
      "metadata": {
        "colab": {
          "base_uri": "https://localhost:8080/"
        },
        "id": "G9-unRmX28P8",
        "outputId": "f9405dc2-aa5f-4207-d81c-c3b4b6505ff2"
      },
      "source": [
        "k = 2\n",
        "sinal = 1\n",
        "soma = 1\n",
        "while k <= 200:\n",
        "    sinal = -sinal\n",
        "    soma += sinal * 1/k\n",
        "    k += 2\n",
        "print(soma)"
      ],
      "execution_count": 7,
      "outputs": [
        {
          "output_type": "stream",
          "text": [
            "0.6559139103449027\n"
          ],
          "name": "stdout"
        }
      ]
    },
    {
      "cell_type": "markdown",
      "metadata": {
        "id": "5MzFXZYI_TlH"
      },
      "source": [
        "### Exercício Desafio (só para quem já sabe programar)"
      ]
    },
    {
      "cell_type": "markdown",
      "metadata": {
        "id": "oR8eK9Pr_TlI"
      },
      "source": [
        "**[8]** Considere a sequência a seguir.\n",
        "\n",
        "```\n",
        "1\n",
        "2  4\n",
        "3  9  27\n",
        "4  16 64  256\n",
        "...\n",
        "n  n^2 n^3 ... n^n\n",
        "```\n",
        "\n",
        "A sequência deve ser lida desconsiderando a formatação: $1, 2, 4, 3, 9, 27, ..., n^2, n^3, n^{n} $.\n",
        "\n",
        "Desconsiderando a formatação (como a mudança de linhas), dado um número $n > 0$,\n",
        "\n",
        "a) Escreva um programa que retorne essa sequência.\n",
        "\n",
        "b) Com uma única linha de código, escreva uma programa que retorne essa sequência."
      ]
    },
    {
      "cell_type": "code",
      "metadata": {
        "colab": {
          "base_uri": "https://localhost:8080/"
        },
        "id": "aoSNx3yAbImw",
        "outputId": "7f8ebf6e-bae3-4b16-f082-c8ec18085e3c"
      },
      "source": [
        "#letra a\n",
        "n = int(input(\"Me dá um número natural diferente de 0. \"))\n",
        "lista = []\n",
        "for i in range(1, n+1):\n",
        "  count = 2\n",
        "  temp = i\n",
        "  for k in range(i):\n",
        "    lista.append(temp)\n",
        "    temp = i\n",
        "    temp = temp**count\n",
        "    count +=1\n",
        "print(\"A sequência é: \" + str(lista)[1:-1])\n",
        "    \n",
        "    "
      ],
      "execution_count": null,
      "outputs": [
        {
          "output_type": "stream",
          "text": [
            "Me dá um número natural diferente de 0. 3\n",
            "A sequência é: 1, 2, 4, 3, 9, 27\n"
          ],
          "name": "stdout"
        }
      ]
    },
    {
      "cell_type": "code",
      "metadata": {
        "id": "LabopxbXiiMP"
      },
      "source": [
        "#letra b\n",
        "n = int(input(\"Me dá um número natural diferente de 0. \"))\n",
        "\n",
        "\n",
        "for i in range(1, n+1): [print((i)**k) for k in range(1, i+1)]"
      ],
      "execution_count": null,
      "outputs": []
    },
    {
      "cell_type": "markdown",
      "metadata": {
        "id": "WaSC1O9cx4mS"
      },
      "source": [
        ""
      ]
    }
  ]
}