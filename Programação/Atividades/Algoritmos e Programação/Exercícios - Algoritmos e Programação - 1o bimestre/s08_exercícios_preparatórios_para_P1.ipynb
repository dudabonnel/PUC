{
  "cells": [
    {
      "cell_type": "markdown",
      "metadata": {
        "id": "3pVQWaILkkkm"
      },
      "source": [
        "# Exercícios de Consolidação de Entendimento"
      ]
    },
    {
      "cell_type": "markdown",
      "metadata": {
        "id": "x0_Ck-jVkkkq"
      },
      "source": [
        "### Semana 08"
      ]
    },
    {
      "cell_type": "markdown",
      "metadata": {
        "id": "ZhC59apikkkr"
      },
      "source": [
        "# Conceituais"
      ]
    },
    {
      "cell_type": "markdown",
      "metadata": {
        "id": "AceolI4wkkks"
      },
      "source": [
        "Utilize sempre as suas palavras nas explicações a seguir."
      ]
    },
    {
      "cell_type": "markdown",
      "metadata": {
        "id": "--mRZmGUkkkt"
      },
      "source": [
        "**01)** Quais são os principais componentes de um computador?"
      ]
    },
    {
      "cell_type": "markdown",
      "metadata": {
        "id": "XeX_rdOG-SdO"
      },
      "source": [
        "      Processador, Memória RAM, Placa Mãe, HD ou SSD, Placa de *Vídeo*"
      ]
    },
    {
      "cell_type": "markdown",
      "metadata": {
        "id": "6oqcqnEekkku"
      },
      "source": [
        "**02)** Para que existem os Sistemas Operacionais? Cite exemplos."
      ]
    },
    {
      "cell_type": "markdown",
      "metadata": {
        "id": "6WMSfPK8-onF"
      },
      "source": [
        "      Para tornar a interação do usuário com o computador mais ilustrativa e dinâmica. Windows, Linux, Mac OS, Android, IOS"
      ]
    },
    {
      "cell_type": "markdown",
      "metadata": {
        "id": "tn9FDsj-kkku"
      },
      "source": [
        "**03)** O que são linguagens de programação? Quais são as vantagens do Python em relação a alguma outra linguagem de programação de sua escolha?"
      ]
    },
    {
      "cell_type": "markdown",
      "metadata": {
        "id": "26LXqD6b_AoE"
      },
      "source": [
        "      São uma série de códigos que usam uma série de métodos pré-determinados para criar um algoritmo que dita os passos para que o computador faça certa tarifa programada pelo usuário.. Python é uma linguagem muito simples, conscisa(comparada ao Java, por exemplo, você pode escrever o mesmo código em muito menos linhas na maioria das vezes); outra vantagem é que o Python roda em várias plataformas e sistemas operacionais sem nenhuma alteração"
      ]
    },
    {
      "cell_type": "markdown",
      "metadata": {
        "id": "eidiRStdkkkv"
      },
      "source": [
        "**04)** Faria sentido ter uma linguagem de programação que não utilizasse variáveis? Por quê?"
      ]
    },
    {
      "cell_type": "markdown",
      "metadata": {
        "id": "EuRQ4hTUAXxZ"
      },
      "source": [
        "      Não. Pois só com as variáveis é que podemos guardar uma informação determinada que precisamos\n",
        "\n"
      ]
    },
    {
      "cell_type": "markdown",
      "metadata": {
        "id": "qHVny5xSkkkv"
      },
      "source": [
        "**05)** O que são bibliotecas no contexto de linguagens de programação?"
      ]
    },
    {
      "cell_type": "markdown",
      "metadata": {
        "id": "7zkHqcnTA-XA"
      },
      "source": [
        "      São coleções de programas ou subprogramas que são utilizados no contexto da programação."
      ]
    },
    {
      "cell_type": "markdown",
      "metadata": {
        "id": "EiN6VHVukkkw"
      },
      "source": [
        "**06)** O que são bibliotecas no contexto de linguagens de programação?"
      ]
    },
    {
      "cell_type": "markdown",
      "metadata": {
        "id": "g1AGJvJGBMPO"
      },
      "source": [
        "      São coleções de programas ou subprogramas que são utilizados no contexto da programação."
      ]
    },
    {
      "cell_type": "markdown",
      "metadata": {
        "id": "4975lyvjkkkw"
      },
      "source": [
        "**07)** Diferencie as situações em que é mais vantajoso utilizar laços `para` e, laços `enquanto`."
      ]
    },
    {
      "cell_type": "markdown",
      "metadata": {
        "id": "8Rwkib0bBS2H"
      },
      "source": [
        "      É mais vantajoso usar o laço for quando já sabemos a quantidade de vezes que queremos rodar o loop ou quando pensamos que poderíamos tirar vantagem do for atribuindo uma variável a um elemento do range. "
      ]
    },
    {
      "cell_type": "markdown",
      "metadata": {
        "id": "UfQ3csoVkkkx"
      },
      "source": [
        "**08)** Explique como funcionam o comando de seleção `if` no Python. Inclua em sua explicação, o funcionamento do `else` e do  `elif`."
      ]
    },
    {
      "cell_type": "markdown",
      "metadata": {
        "id": "Pfwq56puByOZ"
      },
      "source": [
        "      Tudo aquilo que está dentro do if clause vai ser executado caso aquela clausula do if seja avaliada como verdadeira, se não, será o if não vai ser executado. Podemos querer verificar outra clausula caso a alterior não tenha sido avaliado como verdadeira, nesse caso, podemos usar o elif; o código que está dentro da identação do elif será executado caso a clausula anterior seja falsa e a clausula do elif seja verdadeira. O else serve para executar algo caso todas as clausulas sejam avaliadas como falas."
      ]
    },
    {
      "cell_type": "markdown",
      "metadata": {
        "id": "SwcjYnUgkkky"
      },
      "source": [
        "# Lógica de Programação"
      ]
    },
    {
      "cell_type": "markdown",
      "metadata": {
        "id": "HKZeAbS6kkkz"
      },
      "source": [
        "**09)** Refaça todos os exercícios da semana $06$ com o laço `enquanto` ao invés do `for` como originalmente proposto."
      ]
    },
    {
      "attachments": {},
      "cell_type": "markdown",
      "metadata": {},
      "source": [
        "    Resposta no arquivo while_s06_for_exercícios_para_entregar.ipynb"
      ]
    },
    {
      "cell_type": "markdown",
      "metadata": {
        "id": "YWxQl1tdkkk0"
      },
      "source": [
        "**10)** Refaça todos os exercícios da semana $07$ com o laço `enquanto` ao invés do `for` como originalmente proposto."
      ]
    },
    {
      "attachments": {},
      "cell_type": "markdown",
      "metadata": {},
      "source": [
        "    Resposta no arquivo while_s07_for_exercícios_para_entregar.ipynb"
      ]
    },
    {
      "cell_type": "markdown",
      "metadata": {
        "id": "x7vYKhYzkkk1"
      },
      "source": [
        "**11)** Explique o que acontece quando executamos o código a seguir?"
      ]
    },
    {
      "cell_type": "code",
      "execution_count": null,
      "metadata": {
        "id": "SORIkjMckkk2"
      },
      "outputs": [],
      "source": [
        "i = 0\n",
        "while (True):\n",
        "    i += 1\n",
        "    print(i)"
      ]
    },
    {
      "cell_type": "markdown",
      "metadata": {
        "id": "mJiNdIyJ4XOc"
      },
      "source": [
        "    Como não há uma condição para o loop parar, ele irá rodar infinitamente."
      ]
    },
    {
      "cell_type": "markdown",
      "metadata": {
        "id": "5Xaa3cXzkkk3"
      },
      "source": [
        "**12)** Crie um programa que imprima a tabuada de 1 a 10 com o laço `while` e o `for`."
      ]
    },
    {
      "cell_type": "code",
      "execution_count": null,
      "metadata": {
        "id": "8lS9bx6j4d2w"
      },
      "outputs": [],
      "source": [
        "for number in range(1, 11):\n",
        "  for i in range(1, 11):\n",
        "    result = number * i\n",
        "    print(f\"{number} x {i} = {result}\")\n",
        "  print()"
      ]
    },
    {
      "cell_type": "code",
      "execution_count": null,
      "metadata": {
        "id": "rV5ebOSV52uD"
      },
      "outputs": [],
      "source": [
        "number_var = 1\n",
        "while number_var <= 10:\n",
        "  i_var = 1\n",
        "  while i_var <= 10:\n",
        "    result = number_var * i_var\n",
        "    print(f\"{number_var} x {i_var} = {result}\")\n",
        "    i_var += 1\n",
        "  print()\n",
        "  number_var += 1"
      ]
    },
    {
      "cell_type": "markdown",
      "metadata": {
        "id": "mHwXu-QFkkk3"
      },
      "source": [
        "**13**) Escreva um programa que liste todos os divisores de um número $n$ informado pelo usuário. O programa deve informar se o número for primo, caso não haja divisores."
      ]
    },
    {
      "cell_type": "code",
      "execution_count": 20,
      "metadata": {
        "colab": {
          "base_uri": "https://localhost:8080/"
        },
        "id": "Tu9aRPzH6syK",
        "outputId": "f835c0d6-0de1-4eb3-e68b-cfa1709a6409"
      },
      "outputs": [
        {
          "name": "stdout",
          "output_type": "stream",
          "text": [
            "O número 123 NÃO é primo! Seus divisores são:  123, 41, 3, 1\n"
          ]
        }
      ],
      "source": [
        "n = 123\n",
        "div = n\n",
        "lista_div = []\n",
        "isPrime = True\n",
        "while div >= 1:\n",
        "  if n%div == 0:\n",
        "    if div != 1 and n != div:\n",
        "      isPrime = False\n",
        "    lista_div.append(div)\n",
        "  div -= 1\n",
        "if isPrime:\n",
        "  print(f\"O número {n} É primo! Seus divisores são: \", str(lista_div)[1:-1])\n",
        "else:\n",
        "  print(f\"O número {n} NÃO é primo! Seus divisores são: \", str(lista_div)[1:-1])"
      ]
    },
    {
      "cell_type": "markdown",
      "metadata": {
        "id": "I6GgssDNkkk3"
      },
      "source": [
        "**14**) Suponha que no ano $N$ a população americana seja maior que a brasileira. Sabendo-se que os Estados Unidos possuem um crescimento anual de $2%$ na sua população e que o Brasil tem crescimento anual de $4%$, determinar o ano em que as duas populações serão iguais (em quantidade)."
      ]
    },
    {
      "cell_type": "code",
      "execution_count": null,
      "metadata": {
        "id": "ievoG1XPy1oR"
      },
      "outputs": [],
      "source": [
        "ano = 2021\n",
        "pop_usa = float(input(\"Digite a população dos EUA: \"))\n",
        "pop_bra = float(input(\"Digite a população do BRA: \"))\n",
        "\n",
        "while pop_bra < pop_usa:\n",
        "  pop_usa = pop_usa*1.02\n",
        "  pop_bra = pop_bra*1.04\n",
        "  ano += 1\n",
        "\n",
        "print(f\"Ano que a população brasileira se iguala ou se sobrepoem a população american: {ano}\")"
      ]
    },
    {
      "cell_type": "markdown",
      "metadata": {
        "id": "kmlrpFHZkkk4"
      },
      "source": [
        "**15)** O departamento de marketing da Educ está com o problema de calcular o ponto de equilíbrio para qualquer livro que se propõe a publicar. Isso é, deve estabelecer o preço de venda que cobre os custos de produção. Os custos de produção consistem em um custo fixo mais um custo de cópia que depende do número de cópias produzidas e do número de páginas do livro:\n",
        "\n",
        "$$\n",
        "custo\\_produção = custo\\_fixo + (n\\_cópias) * (n\\_páginas) * 0,031\n",
        "$$\n",
        "\n",
        "Para cada livro que se pretende publicar é feita uma pesquisa de campo para determinar o número provável de vendas. Esse número é utilizado como o número de cópias. Em seguida, é organizada uma lista dos livros que se pretende publicar contendo as seguintes informações: número de identificação do livro, previsão de vendas, custo fixo e número de páginas.\n",
        "\n",
        "Desenvolva um algoritmo que, a partir dos dados dessa lista, emita um relatório contendo o número de identificação do livro, as vendas previstas e o preço de venda do livro que cobre os custos de produção, com 80% de margem de lucro."
      ]
    },
    {
      "cell_type": "markdown",
      "metadata": {
        "id": "fuYgdK5zkkk4"
      },
      "source": [
        "> Atenção: Para resolver o exercício, você não precisa entender o código da célula a seguir. Para obter uma lista de livros gerada aleatoriamente, baseie-se apenas no exemplo de Uso 2, ao final deste caderno."
      ]
    },
    {
      "cell_type": "code",
      "execution_count": null,
      "metadata": {
        "id": "4Gh7HJYbkkk5"
      },
      "outputs": [],
      "source": [
        "from random import random, randint\n",
        "def obter_dados_pesq_campo(n_livros):\n",
        "    \"\"\"\n",
        "    Isto é uma função. Ela gera dados aleatoriamente para tornar o exercício mais realista. Esta função retorna, \n",
        "    um conjunto de dados que deve ser utilizado para produzir o relatório solicitado no enunciado. Este conjunto \n",
        "    de dados é formado por várias listas com o seguinte formato: \n",
        "\n",
        "    [n_identificação_livro, n_vendas_prováveis, custo_fixo, n_páginas]\n",
        "\n",
        "    Para usar a função basta chamá-la (escrever) da seguinte forma:\n",
        "\n",
        "    obter_dados_pesq_campo(100)\n",
        "\n",
        "    Neste caso, a função retorna uma lista contendo 100 listas menores, com cada uma representando um livro diferente.\n",
        "    Para guardar os resultados da lista em uma variável, utilize:\n",
        "\n",
        "    lista = obter_dados_pesq_campo(100)\n",
        "\n",
        "    Confira o exemplo logo após a declaração da função.\n",
        "    \"\"\"\n",
        "    livros = []\n",
        "    for id in range(1,n_livros+1):\n",
        "        n_vendas_proba = randint(10e2, 10e4) # número de vendas provável aleatório\n",
        "        custo_fixo = random() * 10e3 # Custo fixo do livro aleatório\n",
        "        n_páginas = randint(50, 900) # número de páginas do livro aleatório\n",
        "        livros.append([id, n_vendas_proba, custo_fixo, n_páginas])\n",
        "    return livros"
      ]
    },
    {
      "cell_type": "code",
      "execution_count": null,
      "metadata": {
        "id": "E_3fri5Wkkk6"
      },
      "outputs": [],
      "source": [
        "# Exemplo de uso 1\n",
        "# Chamada de função que não armazena os valores na lista\n",
        "# Observe que embora se retorne uma lista, os valores não são armazenados em uma variável\n",
        "obter_dados_pesq_campo(5)"
      ]
    },
    {
      "cell_type": "code",
      "execution_count": null,
      "metadata": {
        "colab": {
          "base_uri": "https://localhost:8080/"
        },
        "id": "fyQpj3K9kkk6",
        "outputId": "a1480447-3bd3-4db3-de71-0a3f0ad75e8f"
      },
      "outputs": [
        {
          "data": {
            "text/plain": [
              "[[1, 16902, 1095.15836214369, 59],\n",
              " [2, 60211, 4495.8543794134, 154],\n",
              " [3, 14021, 6056.778556282329, 437],\n",
              " [4, 68793, 5179.971538178526, 390],\n",
              " [5, 60060, 8693.006008618695, 421]]"
            ]
          },
          "execution_count": 8,
          "metadata": {
            "tags": []
          },
          "output_type": "execute_result"
        }
      ],
      "source": [
        "# Exemplo de uso 2\n",
        "# Chamada de função com armazenamento dos valores em uma variável\n",
        "livros = obter_dados_pesq_campo(5)\n",
        "livros"
      ]
    },
    {
      "cell_type": "code",
      "execution_count": null,
      "metadata": {
        "id": "fJ4jAkn7kkk7"
      },
      "outputs": [],
      "source": [
        "n_livros = 10\n",
        "livros = obter_dados_pesq_campo(n_livros)\n",
        "\n"
      ]
    },
    {
      "cell_type": "code",
      "execution_count": null,
      "metadata": {
        "id": "aomeMpumqv1O"
      },
      "outputs": [],
      "source": [
        "# Seu código aqui (while)\n",
        "count = 0\n",
        "while count < len(livros):\n",
        "  e = livros[count]\n",
        "  print()\n",
        "  print(f\"Número de identificação: {e[0]}\")\n",
        "  print(f\"Vendas previstas: {e[1]}\")\n",
        "  custo_producao = e[2] + ((e[1])*(e[-1])* (0.031))     #custo_produção=custo_fixo+(n_cópias)∗(n_páginas)∗0,031\n",
        "  preco_venda = round((5 * custo_producao)/e[1], 2)\n",
        "  print(f\"Preço de venda: R${preco_venda}\")\n",
        "  print()\n",
        "  count += 1\n"
      ]
    },
    {
      "cell_type": "code",
      "execution_count": null,
      "metadata": {
        "id": "eKYh6Y7dCutw"
      },
      "outputs": [],
      "source": [
        "for e in livros:\n",
        "  print()\n",
        "  print(f\"Número de identificação: {e[0]}\")\n",
        "  print(f\"Vendas previstas: {e[1]}\")\n",
        "  custo_producao = e[2] + ((e[1])*(e[-1])* (0.031))     #custo_produção=custo_fixo+(n_cópias)∗(n_páginas)∗0,031\n",
        "  preco_venda = round((5 * custo_producao)/e[1], 2)\n",
        "  print(f\"Preço de venda: R${preco_venda}\")\n",
        "  print()"
      ]
    }
  ],
  "metadata": {
    "colab": {
      "name": "s08-exercícios-preparatórios-para-P1.ipynb",
      "provenance": []
    },
    "kernelspec": {
      "display_name": "Python 3",
      "language": "python",
      "name": "python3"
    },
    "language_info": {
      "codemirror_mode": {
        "name": "ipython",
        "version": 3
      },
      "file_extension": ".py",
      "mimetype": "text/x-python",
      "name": "python",
      "nbconvert_exporter": "python",
      "pygments_lexer": "ipython3",
      "version": "3.8.5"
    }
  },
  "nbformat": 4,
  "nbformat_minor": 0
}
