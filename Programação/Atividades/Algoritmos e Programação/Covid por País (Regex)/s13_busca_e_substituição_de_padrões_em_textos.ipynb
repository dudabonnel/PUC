{
  "nbformat": 4,
  "nbformat_minor": 0,
  "metadata": {
    "kernelspec": {
      "display_name": "Python 3",
      "language": "python",
      "name": "python3"
    },
    "language_info": {
      "codemirror_mode": {
        "name": "ipython",
        "version": 3
      },
      "file_extension": ".py",
      "mimetype": "text/x-python",
      "name": "python",
      "nbconvert_exporter": "python",
      "pygments_lexer": "ipython3",
      "version": "3.8.5"
    },
    "colab": {
      "name": "s13-busca-e-substituição-de-padrões-em-textos.ipynb",
      "provenance": []
    }
  },
  "cells": [
    {
      "cell_type": "markdown",
      "metadata": {
        "id": "qERR8N3Br_DZ"
      },
      "source": [
        "# Busca e Substituição de Padrões em Textos"
      ]
    },
    {
      "cell_type": "markdown",
      "metadata": {
        "id": "H7alFJJDr_Db"
      },
      "source": [
        "### Semana 13 | EaD"
      ]
    },
    {
      "cell_type": "markdown",
      "metadata": {
        "id": "dbP_bScer_Dc"
      },
      "source": [
        "# Introdução"
      ]
    },
    {
      "cell_type": "markdown",
      "metadata": {
        "id": "58vXHdOjr_Dd"
      },
      "source": [
        "Python oferece algumas opções para a busca de padrões em textos e possivelmente suas substituições por outros textos. Quando editamos textos frequentemente executamos ferramentas de pesquisar e substituir padrões em textos."
      ]
    },
    {
      "cell_type": "markdown",
      "metadata": {
        "id": "zHCIAFMtr_De"
      },
      "source": [
        "## `String.replace()`"
      ]
    },
    {
      "cell_type": "markdown",
      "metadata": {
        "id": "Kg3cCbt8r_Df"
      },
      "source": [
        "O método `String.replace()` substitui uma substring específica com alguma outra."
      ]
    },
    {
      "cell_type": "markdown",
      "metadata": {
        "id": "t98Nopvmr_Df"
      },
      "source": [
        "**Sintaxe**\n",
        "\n",
        "```python\n",
        "string.replace(str_ant,str_sub,cont)\n",
        "```\n",
        "`str_ant`: string anterior\n",
        "\n",
        "`str_sub`: string a ser substituída\n",
        "\n",
        "`cont`: controla quantas aplicações (opcional)"
      ]
    },
    {
      "cell_type": "markdown",
      "metadata": {
        "id": "TgNZOzcjr_Dg"
      },
      "source": [
        "**Exemplos**"
      ]
    },
    {
      "cell_type": "markdown",
      "metadata": {
        "id": "Yw1Jgpocr_Dg"
      },
      "source": [
        "Quando a contagem não está explícita, o Python substitui todas ocorrências do padrão na string."
      ]
    },
    {
      "cell_type": "code",
      "metadata": {
        "colab": {
          "base_uri": "https://localhost:8080/",
          "height": 35
        },
        "id": "STejQpTTr_Dh",
        "outputId": "4ec94ab7-90f2-4d16-932d-a49f4d5bf207"
      },
      "source": [
        "\"o brasil tá lascado!\".replace(\"brasil\", \"Brasil\")"
      ],
      "execution_count": null,
      "outputs": [
        {
          "output_type": "execute_result",
          "data": {
            "application/vnd.google.colaboratory.intrinsic+json": {
              "type": "string"
            },
            "text/plain": [
              "'o Brasil tá lascado!'"
            ]
          },
          "metadata": {
            "tags": []
          },
          "execution_count": 1
        }
      ]
    },
    {
      "cell_type": "code",
      "metadata": {
        "colab": {
          "base_uri": "https://localhost:8080/",
          "height": 35
        },
        "id": "HJ1iuEior_Dh",
        "outputId": "880e46c4-903e-4c10-86bb-10165573b93b"
      },
      "source": [
        "\"o brasil brasil tá lascado!\".replace(\"brasil\", \"Brasil\")"
      ],
      "execution_count": null,
      "outputs": [
        {
          "output_type": "execute_result",
          "data": {
            "application/vnd.google.colaboratory.intrinsic+json": {
              "type": "string"
            },
            "text/plain": [
              "'o Brasil Brasil tá lascado!'"
            ]
          },
          "metadata": {
            "tags": []
          },
          "execution_count": 2
        }
      ]
    },
    {
      "cell_type": "code",
      "metadata": {
        "colab": {
          "base_uri": "https://localhost:8080/",
          "height": 35
        },
        "id": "1yu5uuUVr_Di",
        "outputId": "d9e7e43a-e376-4df7-afc1-9d43e74143db"
      },
      "source": [
        "\"o brasil brasil tá lascado! brasil\".replace(\"brasil\", \"Brasil\")"
      ],
      "execution_count": null,
      "outputs": [
        {
          "output_type": "execute_result",
          "data": {
            "application/vnd.google.colaboratory.intrinsic+json": {
              "type": "string"
            },
            "text/plain": [
              "'o Brasil Brasil tá lascado! Brasil'"
            ]
          },
          "metadata": {
            "tags": []
          },
          "execution_count": 3
        }
      ]
    },
    {
      "cell_type": "markdown",
      "metadata": {
        "id": "A6N4dd7or_Dj"
      },
      "source": [
        "*Contagem explícita*"
      ]
    },
    {
      "cell_type": "markdown",
      "metadata": {
        "id": "DU0PbdsOr_Dj"
      },
      "source": [
        "Busca e substitui somente a 1a ocorrência de `\"r\"`."
      ]
    },
    {
      "cell_type": "code",
      "metadata": {
        "colab": {
          "base_uri": "https://localhost:8080/",
          "height": 35
        },
        "id": "hE4eRn03r_Dj",
        "outputId": "b3eabadf-f94f-4250-ebb6-4ad8412b63db"
      },
      "source": [
        "\"O rato roeu a roupa do rei de roma\".replace(\"r\", \"R\", 1)"
      ],
      "execution_count": null,
      "outputs": [
        {
          "output_type": "execute_result",
          "data": {
            "application/vnd.google.colaboratory.intrinsic+json": {
              "type": "string"
            },
            "text/plain": [
              "'O Rato roeu a roupa do rei de roma'"
            ]
          },
          "metadata": {
            "tags": []
          },
          "execution_count": 4
        }
      ]
    },
    {
      "cell_type": "markdown",
      "metadata": {
        "id": "WP9Jgg1Hr_Dk"
      },
      "source": [
        "Busca e substitui as duas primeiras ocorrência de `\"r\"`."
      ]
    },
    {
      "cell_type": "code",
      "metadata": {
        "colab": {
          "base_uri": "https://localhost:8080/",
          "height": 35
        },
        "id": "eFC3NLxmr_Dk",
        "outputId": "03080312-d82b-427b-ccab-49e042ce3682"
      },
      "source": [
        "\"O rato roeu a roupa do rei de roma\".replace(\"r\", \"R\", 2)"
      ],
      "execution_count": null,
      "outputs": [
        {
          "output_type": "execute_result",
          "data": {
            "application/vnd.google.colaboratory.intrinsic+json": {
              "type": "string"
            },
            "text/plain": [
              "'O Rato Roeu a roupa do rei de roma'"
            ]
          },
          "metadata": {
            "tags": []
          },
          "execution_count": 5
        }
      ]
    },
    {
      "cell_type": "markdown",
      "metadata": {
        "id": "3YX-nHTWr_Dk"
      },
      "source": [
        "Busca e substitui as 15 primeiras ocorrências de `\"r\"`."
      ]
    },
    {
      "cell_type": "code",
      "metadata": {
        "colab": {
          "base_uri": "https://localhost:8080/",
          "height": 35
        },
        "id": "U78eTOIXr_Dl",
        "outputId": "dc1ecc59-afcb-452c-b75a-29e680a68616"
      },
      "source": [
        "\"O rato roeu a roupa do rei de roma\".replace(\"r\", \"R\", 15)"
      ],
      "execution_count": null,
      "outputs": [
        {
          "output_type": "execute_result",
          "data": {
            "application/vnd.google.colaboratory.intrinsic+json": {
              "type": "string"
            },
            "text/plain": [
              "'O Rato Roeu a Roupa do Rei de Roma'"
            ]
          },
          "metadata": {
            "tags": []
          },
          "execution_count": 6
        }
      ]
    },
    {
      "cell_type": "code",
      "metadata": {
        "colab": {
          "base_uri": "https://localhost:8080/",
          "height": 35
        },
        "id": "VIUZEGbMr_Dl",
        "outputId": "7d28845e-5fb6-4a92-b62e-9aaf0965cd27"
      },
      "source": [
        "\"O rato roeu a roupa do rei de roma 0\".replace(r\"[0-9]\", \"R\", 15)"
      ],
      "execution_count": null,
      "outputs": [
        {
          "output_type": "execute_result",
          "data": {
            "application/vnd.google.colaboratory.intrinsic+json": {
              "type": "string"
            },
            "text/plain": [
              "'O rato roeu a roupa do rei de roma 0'"
            ]
          },
          "metadata": {
            "tags": []
          },
          "execution_count": 7
        }
      ]
    },
    {
      "cell_type": "markdown",
      "metadata": {
        "id": "M9QgNX6pr_Dl"
      },
      "source": [
        "**Exercícios de fixação**"
      ]
    },
    {
      "cell_type": "markdown",
      "metadata": {
        "id": "e94xEG5Kr_Dm"
      },
      "source": [
        "Implemente a função a seguir que receba uma string e remova todos os caracteres de espaço ` `."
      ]
    },
    {
      "cell_type": "code",
      "metadata": {
        "colab": {
          "base_uri": "https://localhost:8080/",
          "height": 35
        },
        "id": "UlAeL9ybr_Dm",
        "outputId": "13de92ff-e3f1-46c8-82bd-c53d5f6d3317"
      },
      "source": [
        "def rem_esp(str_num):\n",
        "    # str_num = transforme o str_num com o string.replace() e o retorne transformado\n",
        "    return str_num.replace(\" \", \"\")\n",
        "\n",
        "str_num = \"12 344 666\"\n",
        "rem_esp(str_num)"
      ],
      "execution_count": null,
      "outputs": [
        {
          "output_type": "execute_result",
          "data": {
            "application/vnd.google.colaboratory.intrinsic+json": {
              "type": "string"
            },
            "text/plain": [
              "'12344666'"
            ]
          },
          "metadata": {
            "tags": []
          },
          "execution_count": 32
        }
      ]
    },
    {
      "cell_type": "markdown",
      "metadata": {
        "id": "vuS0ijtnr_Dm"
      },
      "source": [
        "Implemente a função a seguir que remove todos os caracteres de nova linha `\\n` do texto e os substituem por uma caractere de espaço ` `."
      ]
    },
    {
      "cell_type": "code",
      "metadata": {
        "colab": {
          "base_uri": "https://localhost:8080/",
          "height": 35
        },
        "id": "Q6mlrwcYr_Dn",
        "outputId": "059f6fe2-c958-4ab2-d078-fbc0200bffa0"
      },
      "source": [
        "def rem_nl(texto):\n",
        "    # texto = transforme o texto com o string.replace() e o transformado\n",
        "    return texto.replace(\"\\n\", \" \")\n",
        "\n",
        "texto = \"Parágrafo 1. blá blá blá.\\n\\nParágrafo 2. ti ti ti.\\n\\n\\n\"\n",
        "rem_nl(texto)"
      ],
      "execution_count": null,
      "outputs": [
        {
          "output_type": "execute_result",
          "data": {
            "application/vnd.google.colaboratory.intrinsic+json": {
              "type": "string"
            },
            "text/plain": [
              "'Parágrafo 1. blá blá blá.  Parágrafo 2. ti ti ti.   '"
            ]
          },
          "metadata": {
            "tags": []
          },
          "execution_count": 9
        }
      ]
    },
    {
      "cell_type": "markdown",
      "metadata": {
        "id": "UjXF-RmRr_Dn"
      },
      "source": [
        "Implemente uma função que utilize o `String.replace()` para remover dígitos de 0-9?"
      ]
    },
    {
      "cell_type": "code",
      "metadata": {
        "colab": {
          "base_uri": "https://localhost:8080/",
          "height": 35
        },
        "id": "Fahvo9D-r_Dn",
        "outputId": "8bc0befb-a3eb-49a8-c672-0c46714a8968"
      },
      "source": [
        "def rem0_9(str_num):\n",
        "    # Utilizando o replace, remova os dígitos de 0-9 da string\n",
        "    for n in range(10):\n",
        "      str_num = str_num.replace(str(n), \"\")\n",
        "    return str_num\n",
        "\n",
        "str_num = \"nesta string não nos importamos com os dígitos0123456789, mas somente com caracteres do alfabeto\"\n",
        "rem0_9(str_num)"
      ],
      "execution_count": null,
      "outputs": [
        {
          "output_type": "execute_result",
          "data": {
            "application/vnd.google.colaboratory.intrinsic+json": {
              "type": "string"
            },
            "text/plain": [
              "'nesta string não nos importamos com os dígitos, mas somente com caracteres do alfabeto'"
            ]
          },
          "metadata": {
            "tags": []
          },
          "execution_count": 35
        }
      ]
    },
    {
      "cell_type": "markdown",
      "metadata": {
        "id": "mx7Nq9Qrr_Do"
      },
      "source": [
        "Implemente uma função que substitua todas as duplas de aspas duplas `\"\"` de uma string de texto por um caractere de aspas duplas `\"`. O caractere de escape `\\` indica ao Python que o símbolo faz parte do texto e não deve ser interpretado como um comando."
      ]
    },
    {
      "cell_type": "code",
      "metadata": {
        "colab": {
          "base_uri": "https://localhost:8080/",
          "height": 35
        },
        "id": "V6mzfx7Or_Do",
        "outputId": "472f00d2-2baf-4001-d95c-2a13f40c5694"
      },
      "source": [
        "def rm_aspas(uma_str):\n",
        "    return uma_str.replace(\"\\\"\\\"\", \"\\\"\")\n",
        "\n",
        "texto = \"...e então o pastor disse-lhes: \\\"\\\"não temam, pois estarei convosco\\\"\\\".\"\n",
        "rm_aspas(texto)"
      ],
      "execution_count": null,
      "outputs": [
        {
          "output_type": "execute_result",
          "data": {
            "application/vnd.google.colaboratory.intrinsic+json": {
              "type": "string"
            },
            "text/plain": [
              "'...e então o pastor disse-lhes: \"não temam, pois estarei convosco\".'"
            ]
          },
          "metadata": {
            "tags": []
          },
          "execution_count": 36
        }
      ]
    },
    {
      "cell_type": "markdown",
      "metadata": {
        "id": "S9r1jRKnr_Dp"
      },
      "source": [
        "**Exercícios de fixação**"
      ]
    },
    {
      "cell_type": "markdown",
      "metadata": {
        "id": "C5Cl4A5Dr_Dp"
      },
      "source": [
        "Explique com suas palavras porque o caractere de aspas duplas `\"` necessita de escape."
      ]
    },
    {
      "cell_type": "markdown",
      "metadata": {
        "id": "irw5YLcpr_Dp"
      },
      "source": [
        "Porque se não assim que o Python encontrasse o primeiro caractere de aspas ele iria interpretar como se fosse o fim da string."
      ]
    },
    {
      "cell_type": "markdown",
      "metadata": {
        "id": "xw1KOcxpr_Dp"
      },
      "source": [
        "Que outro(s) caractere(s) necessita(m) de escape no uso de strings (comuns)?"
      ]
    },
    {
      "cell_type": "markdown",
      "metadata": {
        "id": "ysqYxs6Dr_Dp"
      },
      "source": [
        "\\n, \\t"
      ]
    },
    {
      "cell_type": "markdown",
      "metadata": {
        "id": "r_R9-kAzr_Dq"
      },
      "source": [
        "## `String.strip()`"
      ]
    },
    {
      "cell_type": "markdown",
      "metadata": {
        "id": "SjfML8Kfr_Dq"
      },
      "source": [
        "Remove todos os caracteres passados como parâmetros do começo ao fim da string."
      ]
    },
    {
      "cell_type": "markdown",
      "metadata": {
        "id": "JvBR0VaAr_Dq"
      },
      "source": [
        "**Sintaxe**"
      ]
    },
    {
      "cell_type": "markdown",
      "metadata": {
        "id": "9V7e08nDr_Dq"
      },
      "source": [
        "```python\n",
        "string.strip(caracteres)\n",
        "```"
      ]
    },
    {
      "cell_type": "markdown",
      "metadata": {
        "id": "RGiItmyOr_Dr"
      },
      "source": [
        "**Exemplos**"
      ]
    },
    {
      "cell_type": "markdown",
      "metadata": {
        "id": "2P-lBh3Lr_Dr"
      },
      "source": [
        "O `strip()` aplicado a seguir remove todos os caracters `\\n` do começo e fim da string, mas não faz nada com os `\\n` entre os parágrafos."
      ]
    },
    {
      "cell_type": "code",
      "metadata": {
        "colab": {
          "base_uri": "https://localhost:8080/"
        },
        "id": "tDq3L2Q8r_Ds",
        "outputId": "857f7cfe-171b-4855-dca3-0e3531ea587a"
      },
      "source": [
        "\"\\n\\n\\n.. \\n\\tParágrafo 1. Texto texto texto\\n\\n\\n\\nParágrafo 2. Mais textos. \\n\\n\\n\".strip(\"\\n\")"
      ],
      "execution_count": null,
      "outputs": [
        {
          "output_type": "execute_result",
          "data": {
            "application/vnd.google.colaboratory.intrinsic+json": {
              "type": "string"
            },
            "text/plain": [
              "'.. \\n\\tParágrafo 1. Texto texto texto\\n\\n\\n\\nParágrafo 2. Mais textos. '"
            ]
          },
          "metadata": {
            "tags": []
          },
          "execution_count": 12
        }
      ]
    },
    {
      "cell_type": "markdown",
      "metadata": {
        "id": "DZZWF3V3r_Ds"
      },
      "source": [
        "Neste outro exemplo, todos os caracteres listados como argumentos são extraídos do começo e fim da string."
      ]
    },
    {
      "cell_type": "code",
      "metadata": {
        "colab": {
          "base_uri": "https://localhost:8080/"
        },
        "id": "NWeaTtiEr_Ds",
        "outputId": "de22dbdb-a24e-4957-fb43-3c8458395776"
      },
      "source": [
        "\"\\n\\n\\n.. \\n\\tParágrafo 1. Texto texto texto\\n\\n\\n\\nParágrafo 2. Mais textos. \\n\\n\\n\".strip(\"\\n .\\t\")"
      ],
      "execution_count": null,
      "outputs": [
        {
          "output_type": "execute_result",
          "data": {
            "application/vnd.google.colaboratory.intrinsic+json": {
              "type": "string"
            },
            "text/plain": [
              "'Parágrafo 1. Texto texto texto\\n\\n\\n\\nParágrafo 2. Mais textos'"
            ]
          },
          "metadata": {
            "tags": []
          },
          "execution_count": 13
        }
      ]
    },
    {
      "cell_type": "markdown",
      "metadata": {
        "id": "t5HSTzWRr_Dt"
      },
      "source": [
        "**Exercício de fixação**"
      ]
    },
    {
      "cell_type": "markdown",
      "metadata": {
        "id": "i4AhMdPSr_Dt"
      },
      "source": [
        "Explique o resultado do `strip()` apresentado a seguir."
      ]
    },
    {
      "cell_type": "code",
      "metadata": {
        "colab": {
          "base_uri": "https://localhost:8080/"
        },
        "id": "k_xO1BZkr_Dt",
        "outputId": "61aabe00-3d2e-407f-f4af-3a4f8e973be3"
      },
      "source": [
        "\",,,,,rrtggg.......banana.....rrrr\".strip(\"r.,rtg\")"
      ],
      "execution_count": null,
      "outputs": [
        {
          "output_type": "execute_result",
          "data": {
            "application/vnd.google.colaboratory.intrinsic+json": {
              "type": "string"
            },
            "text/plain": [
              "'banana'"
            ]
          },
          "metadata": {
            "tags": []
          },
          "execution_count": 14
        }
      ]
    },
    {
      "cell_type": "markdown",
      "metadata": {
        "id": "YPoccHkz09wM"
      },
      "source": [
        "O Strip remove cada um dos caracteres passados no começo e no fim da string aplicada."
      ]
    },
    {
      "cell_type": "markdown",
      "metadata": {
        "id": "tWHQLoQ4r_Du"
      },
      "source": [
        "**`String.lstrip()`**"
      ]
    },
    {
      "cell_type": "markdown",
      "metadata": {
        "id": "i80uli-Yr_Du"
      },
      "source": [
        "Opcionalmente, pode-se extrair somente de um lado da string. O `String.lstrip()` extrai apenas do lado esquerdo da string."
      ]
    },
    {
      "cell_type": "code",
      "metadata": {
        "colab": {
          "base_uri": "https://localhost:8080/"
        },
        "id": "JpSE_7TJr_Du",
        "outputId": "10ea540f-c2e6-4d98-a1d0-9e55c4964efd"
      },
      "source": [
        "\"\\n\\nTexto texto texto\\n\\n\\n\\n\".lstrip(\"\\n\")"
      ],
      "execution_count": null,
      "outputs": [
        {
          "output_type": "execute_result",
          "data": {
            "application/vnd.google.colaboratory.intrinsic+json": {
              "type": "string"
            },
            "text/plain": [
              "'Texto texto texto\\n\\n\\n\\n'"
            ]
          },
          "metadata": {
            "tags": []
          },
          "execution_count": 15
        }
      ]
    },
    {
      "cell_type": "markdown",
      "metadata": {
        "id": "mE81ol-Br_Du"
      },
      "source": [
        "**`String.rstrip()`**"
      ]
    },
    {
      "cell_type": "markdown",
      "metadata": {
        "id": "XxlBl8Cer_Dv"
      },
      "source": [
        "Para extrair apenas do um lado direito da string, utilize o `String.rstrip()`."
      ]
    },
    {
      "cell_type": "code",
      "metadata": {
        "colab": {
          "base_uri": "https://localhost:8080/"
        },
        "id": "PjwKlytor_Dv",
        "outputId": "fe620284-938d-40e8-cf20-dce69d127ef8"
      },
      "source": [
        "\"\\n\\nTexto texto texto\\n\\n\\n\\n\".rstrip(\"\\n\")"
      ],
      "execution_count": null,
      "outputs": [
        {
          "output_type": "execute_result",
          "data": {
            "application/vnd.google.colaboratory.intrinsic+json": {
              "type": "string"
            },
            "text/plain": [
              "'\\n\\nTexto texto texto'"
            ]
          },
          "metadata": {
            "tags": []
          },
          "execution_count": 16
        }
      ]
    },
    {
      "cell_type": "markdown",
      "metadata": {
        "id": "NsVqhCX1r_Dv"
      },
      "source": [
        "## Regex"
      ]
    },
    {
      "cell_type": "markdown",
      "metadata": {
        "id": "Y2IZjJ1sr_Dv"
      },
      "source": [
        "## `re.sub()`"
      ]
    },
    {
      "cell_type": "markdown",
      "metadata": {
        "id": "DBnYdztgr_Dw"
      },
      "source": [
        "**Sintaxe**"
      ]
    },
    {
      "cell_type": "markdown",
      "metadata": {
        "id": "01EymDmCr_Dw"
      },
      "source": [
        "```python\n",
        "re.sub(regex, str_sub, string)\n",
        "```"
      ]
    },
    {
      "cell_type": "markdown",
      "metadata": {
        "id": "hbAvmO8dr_Dw"
      },
      "source": [
        "No entanto, embora o método `String.replace()` seja muito bom para encontrar strings específicas dentro de um texto. Por exemplo, podemos utilizar o `String.replace()` para encontrar o número `\"1\"`, mas o que fazer para substituir os caracteres de a-z e A-Z? O método manual é muito trabalho para este caso e inviável para vários outros. "
      ]
    },
    {
      "cell_type": "markdown",
      "metadata": {
        "id": "vh5cR8fxr_Dw"
      },
      "source": [
        "As expressões regulares entram em cena. A biblioteca Python que implementa o uso de expressões regulares chama-se `re`, contração de *`r`egular `e`xpressions*."
      ]
    },
    {
      "cell_type": "code",
      "metadata": {
        "id": "Sq7urYDkr_Dw"
      },
      "source": [
        "# Digite o seguinte comando para utilizar expressões regulares em Python\n",
        "import re"
      ],
      "execution_count": null,
      "outputs": []
    },
    {
      "cell_type": "markdown",
      "metadata": {
        "id": "Cspvm9k6r_Dx"
      },
      "source": [
        "### Substituição de duas ou mais ocorrências de um padrão por outro"
      ]
    },
    {
      "cell_type": "markdown",
      "metadata": {
        "id": "cN9-88bEr_Dx"
      },
      "source": [
        "Suponha o seguinte texto."
      ]
    },
    {
      "cell_type": "code",
      "metadata": {
        "colab": {
          "base_uri": "https://localhost:8080/"
        },
        "id": "UzvwY6Sjr_Dx",
        "outputId": "78912298-5ab6-41fd-c384-a9ca6e78a27d"
      },
      "source": [
        "texto = \"Coluna1\\n\\n\\nColuna2\\n\\n\\nColuna3\"\n",
        "print(texto)"
      ],
      "execution_count": null,
      "outputs": [
        {
          "output_type": "stream",
          "text": [
            "Coluna1\n",
            "\n",
            "\n",
            "Coluna2\n",
            "\n",
            "\n",
            "Coluna3\n"
          ],
          "name": "stdout"
        }
      ]
    },
    {
      "cell_type": "markdown",
      "metadata": {
        "id": "ENT8axOzr_Dy"
      },
      "source": [
        "Se minha intenção é transformar este texto em uma linha de um arquivo `.csv.`, preciso tratar os caracteres `\\n`, uma vez que cada `\\n` indica uma nova linha. Um `.csv.` tradicional é separado por `;`. Assim, vamos trocar cada trio de `\\n` por um `;`."
      ]
    },
    {
      "cell_type": "code",
      "metadata": {
        "colab": {
          "base_uri": "https://localhost:8080/"
        },
        "id": "pYbQB16Zr_Dy",
        "outputId": "7969074e-0783-470f-ea1b-6fde922513f3"
      },
      "source": [
        "import re\n",
        "# O sinal de + após o \\n indica que um ou mais \\n serão substituídos pela str_sub\n",
        "texto = re.sub(\"\\n+\", \";\", \"Coluna1\\n\\n\\nColuna2\\n\\n\\nColuna3\")\n",
        "print(texto)"
      ],
      "execution_count": null,
      "outputs": [
        {
          "output_type": "stream",
          "text": [
            "Coluna1;Coluna2;Coluna3\n"
          ],
          "name": "stdout"
        }
      ]
    },
    {
      "cell_type": "markdown",
      "metadata": {
        "id": "94KZiKd-r_Dy"
      },
      "source": [
        "**Exercício de fixação**"
      ]
    },
    {
      "cell_type": "markdown",
      "metadata": {
        "id": "9NATnf3ar_Dy"
      },
      "source": [
        "Utilizando uma combinação de métodos vistos anteriormente, transforme o texto a seguir de tal forma que o resultado seja igual ao do exemplo anterior."
      ]
    },
    {
      "cell_type": "code",
      "metadata": {
        "colab": {
          "base_uri": "https://localhost:8080/",
          "height": 35
        },
        "id": "rC0BCN5tr_Dz",
        "outputId": "0fe398d0-2b3c-4fee-8d84-78ebeb44e2f2"
      },
      "source": [
        "import re\n",
        "\n",
        "def prep_texto(linha):\n",
        "    # Transforme a string nesta parte do código\n",
        "    linha = linha.strip(\"\\t\\n\")\n",
        "    linha = re.sub(\"\\n+\", \";\", linha)\n",
        "    return linha\n",
        "\n",
        "linha = \"\\t\\t\\nColuna1\\n\\n\\nColuna2\\n\\n\\nColuna3\\n\\n\\n\"\n",
        "prep_texto(linha)"
      ],
      "execution_count": null,
      "outputs": [
        {
          "output_type": "execute_result",
          "data": {
            "application/vnd.google.colaboratory.intrinsic+json": {
              "type": "string"
            },
            "text/plain": [
              "'Coluna1;Coluna2;Coluna3'"
            ]
          },
          "metadata": {
            "tags": []
          },
          "execution_count": 5
        }
      ]
    },
    {
      "cell_type": "markdown",
      "metadata": {
        "id": "MN27m9UBr_Dz"
      },
      "source": [
        "### Substituição de dois ou mais caracteres com escape"
      ]
    },
    {
      "cell_type": "markdown",
      "metadata": {
        "id": "3OuxLAM2r_Dz"
      },
      "source": [
        "Como substituir uma ou mais aspas duplas por uma única ocorrência utilizando o método `re.sub()` em um texto qualquer?"
      ]
    },
    {
      "cell_type": "code",
      "metadata": {
        "colab": {
          "base_uri": "https://localhost:8080/",
          "height": 35
        },
        "id": "wKnKZ4gmr_Dz",
        "outputId": "1d4da4bb-76b9-4df8-d159-78f44be5aba3"
      },
      "source": [
        "# Implemente o padrão de busca e a string de substituição\n",
        "re.sub(\"\\\"+\", \"\\\"\", \"O jogador saiu de campo dizendo: \\\"\\\"\\\"quando o jogo está a mil, a naftalina sobe\\\"\\\"\\\".\")"
      ],
      "execution_count": null,
      "outputs": [
        {
          "output_type": "execute_result",
          "data": {
            "application/vnd.google.colaboratory.intrinsic+json": {
              "type": "string"
            },
            "text/plain": [
              "'O jogador saiu de campo dizendo: \"quando o jogo está a mil, a naftalina sobe\".'"
            ]
          },
          "metadata": {
            "tags": []
          },
          "execution_count": 7
        }
      ]
    },
    {
      "cell_type": "markdown",
      "metadata": {
        "id": "qcMi1VAcr_D0"
      },
      "source": [
        "Explique porque o caractere `[` necessita de escape em uma expressão regular."
      ]
    },
    {
      "cell_type": "markdown",
      "metadata": {
        "id": "nYccxi-2r_D0"
      },
      "source": [
        "Porque o [ é um metacaractere e nós escapamos-no para suprimir seu significado."
      ]
    },
    {
      "cell_type": "markdown",
      "metadata": {
        "id": "5EKVzQOQr_D0"
      },
      "source": [
        "Como remover as ocorrências do caractere `[` no padrão de busca do método `re.sub()`?"
      ]
    },
    {
      "cell_type": "code",
      "metadata": {
        "colab": {
          "base_uri": "https://localhost:8080/",
          "height": 35
        },
        "id": "22Chq1lqr_D1",
        "outputId": "b450c9c3-6fd4-41b5-a4fc-959468fd247f"
      },
      "source": [
        "# Implemente o padrão de busca e a string de substituição \n",
        "re.sub(\"[\\[|\\]]\", \"\", \"e então ele disse: [se não comprar nada o desconto é maior] Julius Rock\")"
      ],
      "execution_count": null,
      "outputs": [
        {
          "output_type": "execute_result",
          "data": {
            "application/vnd.google.colaboratory.intrinsic+json": {
              "type": "string"
            },
            "text/plain": [
              "'e então ele disse: se não comprar nada o desconto é maior Julius Rock'"
            ]
          },
          "metadata": {
            "tags": []
          },
          "execution_count": 9
        }
      ]
    },
    {
      "cell_type": "markdown",
      "metadata": {
        "id": "06smgrdXr_D1"
      },
      "source": [
        "### Substituição com mais de um padrão de busca"
      ]
    },
    {
      "cell_type": "markdown",
      "metadata": {
        "id": "xVf28DXcr_D1"
      },
      "source": [
        "O uso de regex permite o uso de mais de um padrão de busca. Neste caso, usa-se o caractere pipe `|`, que costuma ser lido como `ou`."
      ]
    },
    {
      "cell_type": "code",
      "metadata": {
        "colab": {
          "base_uri": "https://localhost:8080/"
        },
        "id": "lZgRNJstr_D1",
        "outputId": "bee2242f-89d1-4625-fc82-8f9402e43bf6"
      },
      "source": [
        "re.sub(\"\\n|\\t\", \"\", \"\\n\\n\\t\\nNão sabendo que era impossível foi lá e soube\\n\\n\\n\\t\\t\")"
      ],
      "execution_count": null,
      "outputs": [
        {
          "output_type": "execute_result",
          "data": {
            "application/vnd.google.colaboratory.intrinsic+json": {
              "type": "string"
            },
            "text/plain": [
              "'Não sabendo que era impossível foi lá e soube'"
            ]
          },
          "metadata": {
            "tags": []
          },
          "execution_count": 23
        }
      ]
    },
    {
      "cell_type": "markdown",
      "metadata": {
        "id": "Jmw8XKMVr_D2"
      },
      "source": [
        "**Exercício de fixação**"
      ]
    },
    {
      "cell_type": "markdown",
      "metadata": {
        "id": "t7_FOzdar_D2"
      },
      "source": [
        "Como remover as ocorrências do caractere `[` e do `]` e do no padrão de busca do método `re.sub()`?"
      ]
    },
    {
      "cell_type": "code",
      "metadata": {
        "colab": {
          "base_uri": "https://localhost:8080/",
          "height": 35
        },
        "id": "h2Qx0m9ir_D2",
        "outputId": "d844955c-7c81-4ddb-962d-7d69121c9dc5"
      },
      "source": [
        "re.sub(\"\\[|\\]\", \"\", \"Beber, [ter um livro, escrever uma árvore] e plantar um filho\")"
      ],
      "execution_count": null,
      "outputs": [
        {
          "output_type": "execute_result",
          "data": {
            "application/vnd.google.colaboratory.intrinsic+json": {
              "type": "string"
            },
            "text/plain": [
              "'Beber, ter um livro, escrever uma árvore e plantar um filho'"
            ]
          },
          "metadata": {
            "tags": []
          },
          "execution_count": 10
        }
      ]
    },
    {
      "cell_type": "markdown",
      "metadata": {
        "id": "1CDmlX5Er_D3"
      },
      "source": [
        "### Caractere Estrela"
      ]
    },
    {
      "cell_type": "markdown",
      "metadata": {
        "id": "F9b6T6Osr_D3"
      },
      "source": [
        "Explique este resultado. Numa expressão regular, o que significam o caractere `.` e a estrela `*`?"
      ]
    },
    {
      "cell_type": "code",
      "metadata": {
        "colab": {
          "base_uri": "https://localhost:8080/"
        },
        "id": "b5yx5Uipr_D3",
        "outputId": "d7684689-7e39-488f-db7a-ff1a11e23eff"
      },
      "source": [
        "re.sub(\".*\", \"\", \"O que o lápis escreveu a borracha apagou.\")"
      ],
      "execution_count": null,
      "outputs": [
        {
          "output_type": "execute_result",
          "data": {
            "application/vnd.google.colaboratory.intrinsic+json": {
              "type": "string"
            },
            "text/plain": [
              "''"
            ]
          },
          "metadata": {
            "tags": []
          },
          "execution_count": 25
        }
      ]
    },
    {
      "cell_type": "markdown",
      "metadata": {
        "id": "POKBbZLbr_D3"
      },
      "source": [
        "Nas Expressões Regulares o ponto é um metacaractere que casa com qualquer coisa, a estrela é um multiplicador que nesse caso faz o ponto casar-se com todos os caracteres, do contrário, ele só se casaria com o primeiro."
      ]
    },
    {
      "cell_type": "markdown",
      "metadata": {
        "id": "EKY61DKtr_D4"
      },
      "source": [
        "Explique porque a sring retorna vazia?"
      ]
    },
    {
      "cell_type": "code",
      "metadata": {
        "colab": {
          "base_uri": "https://localhost:8080/"
        },
        "id": "NVtt-GlVr_D4",
        "outputId": "3ebe0ba0-0c3d-44ce-aff5-4f831699c7bc"
      },
      "source": [
        "re.sub(\"\\[.*\\]\", \"\", \"[1];[2];[3]\")"
      ],
      "execution_count": null,
      "outputs": [
        {
          "output_type": "execute_result",
          "data": {
            "application/vnd.google.colaboratory.intrinsic+json": {
              "type": "string"
            },
            "text/plain": [
              "''"
            ]
          },
          "metadata": {
            "tags": []
          },
          "execution_count": 26
        }
      ]
    },
    {
      "cell_type": "markdown",
      "metadata": {
        "id": "3JT7oryIr_D4"
      },
      "source": [
        "Porque ponto e estrela quando colocados dentro do colchetes são literais."
      ]
    },
    {
      "cell_type": "markdown",
      "metadata": {
        "id": "FzDLRxEer_D4"
      },
      "source": [
        "Explique porque o uso do caractere coringa `\\d` limita o padrão de busca."
      ]
    },
    {
      "cell_type": "code",
      "metadata": {
        "colab": {
          "base_uri": "https://localhost:8080/"
        },
        "id": "XTcUjGJFr_D5",
        "outputId": "f60a2c54-9056-4a0b-a89f-e537cff955c0"
      },
      "source": [
        "re.sub(\"\\[\\d\\]\", \"\", \"Fulano [1], Ciclano [2] e Beltrano [3]\")"
      ],
      "execution_count": null,
      "outputs": [
        {
          "output_type": "execute_result",
          "data": {
            "application/vnd.google.colaboratory.intrinsic+json": {
              "type": "string"
            },
            "text/plain": [
              "'Fulano , Ciclano  e Beltrano '"
            ]
          },
          "metadata": {
            "tags": []
          },
          "execution_count": 27
        }
      ]
    },
    {
      "cell_type": "markdown",
      "metadata": {
        "id": "Y-ZHp5gDr_D5"
      },
      "source": [
        "O que é necessário acrescentar ao padrão de busca para que todas as referências sejam removidas?"
      ]
    },
    {
      "cell_type": "code",
      "metadata": {
        "colab": {
          "base_uri": "https://localhost:8080/",
          "height": 35
        },
        "id": "Y4p9rqW2r_D5",
        "outputId": "ca94f1e4-823c-48d9-e6f4-213d94acff7c"
      },
      "source": [
        "re.sub(\"\\[\\d+\\]\", \"\", \"Fulano [1], Ciclano [2] e Beltrano [33]\")"
      ],
      "execution_count": null,
      "outputs": [
        {
          "output_type": "execute_result",
          "data": {
            "application/vnd.google.colaboratory.intrinsic+json": {
              "type": "string"
            },
            "text/plain": [
              "'Fulano , Ciclano  e Beltrano '"
            ]
          },
          "metadata": {
            "tags": []
          },
          "execution_count": 3
        }
      ]
    },
    {
      "cell_type": "markdown",
      "metadata": {
        "id": "F2QwEIccr_D6"
      },
      "source": [
        "É necessário acrecentar-se um sinal de + para que se remova todas as sequências de números dentro do conchetes."
      ]
    },
    {
      "cell_type": "markdown",
      "metadata": {
        "id": "L82m4MJ-r_D6"
      },
      "source": [
        "Como modificar o padrão de busca para que todas as referências sejam removidas, assumindo que dentro dos colchetes podem aparecer um único dígito `\\d` ou uma única letra de `a-z`? Dica: é necessário agrupar o padrão de busca."
      ]
    },
    {
      "cell_type": "code",
      "metadata": {
        "colab": {
          "base_uri": "https://localhost:8080/",
          "height": 35
        },
        "id": "-TwXV-Byr_D7",
        "outputId": "5bfacfc2-3169-4bb2-8ce0-d13ff5b348a2"
      },
      "source": [
        "re.sub(\"\\[(\\d|[a-z])\\]\", \"\", \"Fulano [1], Ciclano [2] e Beltrano [a]\")"
      ],
      "execution_count": null,
      "outputs": [
        {
          "output_type": "execute_result",
          "data": {
            "application/vnd.google.colaboratory.intrinsic+json": {
              "type": "string"
            },
            "text/plain": [
              "'Fulano , Ciclano  e Beltrano '"
            ]
          },
          "metadata": {
            "tags": []
          },
          "execution_count": 19
        }
      ]
    },
    {
      "cell_type": "markdown",
      "metadata": {
        "id": "-5uMw16ir_D7"
      },
      "source": [
        "## Modularizando código em funções"
      ]
    },
    {
      "cell_type": "markdown",
      "metadata": {
        "id": "5MsjIAs-r_D8"
      },
      "source": [
        "As funções são excelentes para agruparmos transformações comuns a várias casos. Por exemplo, suponha que temos duas strings de texto e duas transformações em cada uma delas."
      ]
    },
    {
      "cell_type": "code",
      "metadata": {
        "colab": {
          "base_uri": "https://localhost:8080/"
        },
        "id": "7UEtQBxyr_D9",
        "outputId": "c67846f1-b849-4f93-d2a9-8acd92d9fe02"
      },
      "source": [
        "str_1 = \"\\t\\t\\nPaís\\n\\n\\nCasos\\n\\n\\nMortes\\n\\n\\n\"\n",
        "str_2 = \"\\t\\t\\nBrasil\\n\\n\\n1000\\n\\n\\n100\\n\\n\\n\"\n",
        "\n",
        "str_1 = str_1.strip(\"\\n\\t\")\n",
        "str_1 = re.sub(\"\\n+\", \";\", str_1)\n",
        "\n",
        "str_2 = str_2.strip(\"\\n\\t\")\n",
        "str_2 = re.sub(\"\\n+\", \";\", str_2)\n",
        "\n",
        "print(str_1)\n",
        "print(str_2)"
      ],
      "execution_count": null,
      "outputs": [
        {
          "output_type": "stream",
          "text": [
            "País;Casos;Mortes\n",
            "Brasil;1000;100\n"
          ],
          "name": "stdout"
        }
      ]
    },
    {
      "cell_type": "markdown",
      "metadata": {
        "id": "vyX0CnnBr_D-"
      },
      "source": [
        "As funções fazem com que essas transformações fiquem mais gerais, isto é, possam ser aplicadas em quaisquer strings que necessitem destas mesmas tranformações."
      ]
    },
    {
      "cell_type": "code",
      "metadata": {
        "colab": {
          "base_uri": "https://localhost:8080/"
        },
        "id": "TQEFRRipr_D-",
        "outputId": "92423e1f-ff23-4ee3-db93-368aa9a580ee"
      },
      "source": [
        "str_1 = \"\\t\\t\\nPaís\\n\\n\\nCasos\\n\\n\\nMortes\\n\\n\\n\"\n",
        "str_2 = \"\\t\\t\\nBrasil\\n\\n\\n1000\\n\\n\\n100\\n\\n\\n\"\n",
        "\n",
        "def prep_linha(linha):\n",
        "    linha = linha.strip(\"\\n\\t\")\n",
        "    linha = re.sub(\"\\n+\", \";\", linha)\n",
        "    return linha\n",
        "\n",
        "print(prep_linha(str_1))\n",
        "print(prep_linha(str_2))\n",
        "\n",
        "# Novos casos podem utilizar a mesma função\n",
        "str_3 = \"\\t\\t\\nEUA\\n\\n\\n2000\\n\\n\\n200\\n\\n\\n\"\n",
        "print(prep_linha(str_3))"
      ],
      "execution_count": null,
      "outputs": [
        {
          "output_type": "stream",
          "text": [
            "País;Casos;Mortes\n",
            "Brasil;1000;100\n",
            "EUA;2000;200\n"
          ],
          "name": "stdout"
        }
      ]
    }
  ]
}