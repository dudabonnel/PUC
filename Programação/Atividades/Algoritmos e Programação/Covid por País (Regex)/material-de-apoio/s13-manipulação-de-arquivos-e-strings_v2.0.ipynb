{
 "cells": [
  {
   "cell_type": "markdown",
   "metadata": {},
   "source": [
    "# Manipulação de Arquivos e Strings"
   ]
  },
  {
   "cell_type": "markdown",
   "metadata": {},
   "source": [
    "### Semana 13 | Uso do Regex"
   ]
  },
  {
   "cell_type": "markdown",
   "metadata": {},
   "source": [
    "## Questão Dirigida"
   ]
  },
  {
   "cell_type": "markdown",
   "metadata": {},
   "source": [
    "Como gravar em um arquivo CSV os dados da pandemia de COVID-19 por país desta [página](https://pt.wikipedia.org/wiki/Portal:COVID-19) da Wikipedia?"
   ]
  },
  {
   "cell_type": "markdown",
   "metadata": {},
   "source": [
    "## Desenvolvimento do Projeto"
   ]
  },
  {
   "cell_type": "markdown",
   "metadata": {},
   "source": [
    "Para desenvolver este projeto, vamos utilizar técnicas de raspagem de dados na Web (Web Scraping), com a biblioteca `requests`, `BeautifulSoup` e expressões regulares."
   ]
  },
  {
   "cell_type": "code",
   "execution_count": 1,
   "metadata": {},
   "outputs": [],
   "source": [
    "# download\n",
    "import requests\n",
    "\n",
    "# parsing do HTML\n",
    "from bs4 import BeautifulSoup\n",
    "\n",
    "# expressões regulares\n",
    "import re"
   ]
  },
  {
   "cell_type": "markdown",
   "metadata": {},
   "source": [
    "A incidência de COVID-19 por país pode ser encontrada na página da Wikipedia."
   ]
  },
  {
   "cell_type": "code",
   "execution_count": 2,
   "metadata": {},
   "outputs": [],
   "source": [
    "# URL de análise\n",
    "url_pagina = 'https://pt.wikipedia.org/wiki/Portal:COVID-19'"
   ]
  },
  {
   "cell_type": "code",
   "execution_count": 3,
   "metadata": {},
   "outputs": [
    {
     "data": {
      "text/plain": [
       "<Response [200]>"
      ]
     },
     "execution_count": 3,
     "metadata": {},
     "output_type": "execute_result"
    }
   ],
   "source": [
    "# Utiliza a biblioteca requests para fazer o download da pagina HTML\n",
    "pagina_html = requests.get(url_pagina)\n",
    "\n",
    "# O Código 200 indica que o download foi bem sucedido\n",
    "pagina_html"
   ]
  },
  {
   "cell_type": "code",
   "execution_count": 4,
   "metadata": {},
   "outputs": [],
   "source": [
    "# O Beautiful Soup \n",
    "soup = BeautifulSoup(pagina_html.content, 'html.parser')\n",
    "#print(soup.prettify())"
   ]
  },
  {
   "cell_type": "markdown",
   "metadata": {},
   "source": [
    "**Inspeção da página**"
   ]
  },
  {
   "cell_type": "markdown",
   "metadata": {},
   "source": [
    "Inspecionando o código-fonte da página HTML no navegador (Chrome, Firefox etc) podemos ver que a tabela de interesse contém a classe CSS: `wikitable sortable mw-collapsible no-ref`. Vamos utilizar esta classe CSS para restringir a busca pelos elementos de interesse."
   ]
  },
  {
   "cell_type": "code",
   "execution_count": 5,
   "metadata": {},
   "outputs": [],
   "source": [
    "tb_covid_pais = soup.find(class_='wikitable sortable mw-collapsible no-ref')\n",
    "#tb_covid_pais"
   ]
  },
  {
   "cell_type": "markdown",
   "metadata": {},
   "source": [
    "Opcionalmente, pode-se fazer o seguinte."
   ]
  },
  {
   "cell_type": "code",
   "execution_count": 6,
   "metadata": {},
   "outputs": [],
   "source": [
    "tbs_covid_pais = soup.find_all(class_='wikitable sortable mw-collapsible no-ref')\n",
    "# Lembre-se que o método find_all retorna uma lista. No caso deste exemplo, \n",
    "# só existe um elemento na lista\n",
    "tb_covid_pais = tbs_covid_pais[0]\n",
    "# tb_covid_pais"
   ]
  },
  {
   "cell_type": "code",
   "execution_count": 7,
   "metadata": {},
   "outputs": [],
   "source": [
    "# Retorna uma lista com todas as linhas da tabela\n",
    "linhas_tb = tb_covid_pais.find_all('tr')\n",
    "#linhas_tb"
   ]
  },
  {
   "cell_type": "markdown",
   "metadata": {},
   "source": [
    "> **Atenção**: É sempre importante entender o tipo de uma variável."
   ]
  },
  {
   "cell_type": "code",
   "execution_count": 8,
   "metadata": {},
   "outputs": [
    {
     "data": {
      "text/plain": [
       "bs4.element.ResultSet"
      ]
     },
     "execution_count": 8,
     "metadata": {},
     "output_type": "execute_result"
    }
   ],
   "source": [
    "type(linhas_tb)"
   ]
  },
  {
   "cell_type": "code",
   "execution_count": 9,
   "metadata": {},
   "outputs": [
    {
     "data": {
      "text/plain": [
       "bs4.element.Tag"
      ]
     },
     "execution_count": 9,
     "metadata": {},
     "output_type": "execute_result"
    }
   ],
   "source": [
    "type(linhas_tb[0])"
   ]
  },
  {
   "cell_type": "markdown",
   "metadata": {},
   "source": [
    "**Investigando os resultados**"
   ]
  },
  {
   "cell_type": "markdown",
   "metadata": {},
   "source": [
    "Primeiro país ocorre na posição 2."
   ]
  },
  {
   "cell_type": "code",
   "execution_count": 10,
   "metadata": {},
   "outputs": [
    {
     "data": {
      "text/plain": [
       "'\\n Estados Unidos[a]\\n33\\xa0448\\xa0422\\n\\n601\\xa0079\\n\\n–\\n\\n[3]\\n'"
      ]
     },
     "execution_count": 10,
     "metadata": {},
     "output_type": "execute_result"
    }
   ],
   "source": [
    "linhas_tb[2].get_text()"
   ]
  },
  {
   "cell_type": "markdown",
   "metadata": {},
   "source": [
    "Último ocorre na posição 226."
   ]
  },
  {
   "cell_type": "code",
   "execution_count": 11,
   "metadata": {},
   "outputs": [
    {
     "data": {
      "text/plain": [
       "'\\n Saba\\n7\\n\\n0\\n\\n7\\n\\n[292]\\n'"
      ]
     },
     "execution_count": 11,
     "metadata": {},
     "output_type": "execute_result"
    }
   ],
   "source": [
    "linhas_tb[226].get_text()"
   ]
  },
  {
   "cell_type": "code",
   "execution_count": 12,
   "metadata": {},
   "outputs": [],
   "source": [
    "ini_tb = 2\n",
    "fim_tb = 226"
   ]
  },
  {
   "cell_type": "markdown",
   "metadata": {},
   "source": [
    "Brincando um pouco com esses objetos podemos ver que eles contém os dados que desejamos. No entanto, esses dados precisem ser tratados. Por exemplo: podemos ver que o resultado a seguir começa e termina com `\\n` (caractere de nova linha); existe um espaço antes do nome do país; existem vários `\\n` e `\\xa0` (*line feed*) no meio da linha. Além disso, existem notas associadas ao nome do país e ao final da linha. Vamos cuidar de cada um desses problemas."
   ]
  },
  {
   "cell_type": "code",
   "execution_count": 13,
   "metadata": {},
   "outputs": [
    {
     "data": {
      "text/plain": [
       "'\\n Estados Unidos[a]\\n33\\xa0448\\xa0422\\n\\n601\\xa0079\\n\\n–\\n\\n[3]\\n'"
      ]
     },
     "execution_count": 13,
     "metadata": {},
     "output_type": "execute_result"
    }
   ],
   "source": [
    "lin = linhas_tb[2].get_text()\n",
    "lin"
   ]
  },
  {
   "cell_type": "markdown",
   "metadata": {},
   "source": [
    "##### Removendo os `\\n` e os espaços no começo e ao final da linha. "
   ]
  },
  {
   "cell_type": "markdown",
   "metadata": {},
   "source": [
    "O método `strip()` remove caracteres no começo e ao final da linha."
   ]
  },
  {
   "cell_type": "code",
   "execution_count": 14,
   "metadata": {},
   "outputs": [
    {
     "data": {
      "text/plain": [
       "'\\n Estados Unidos[a]\\n33\\xa0448\\xa0422\\n\\n601\\xa0079\\n\\n–\\n\\n[3]\\n'"
      ]
     },
     "execution_count": 14,
     "metadata": {},
     "output_type": "execute_result"
    }
   ],
   "source": [
    "lin"
   ]
  },
  {
   "cell_type": "code",
   "execution_count": 15,
   "metadata": {},
   "outputs": [
    {
     "data": {
      "text/plain": [
       "'Estados Unidos[a]\\n33\\xa0448\\xa0422\\n\\n601\\xa0079\\n\\n–\\n\\n[3]'"
      ]
     },
     "execution_count": 15,
     "metadata": {},
     "output_type": "execute_result"
    }
   ],
   "source": [
    "lin.strip(\"\\n \\t\")"
   ]
  },
  {
   "cell_type": "markdown",
   "metadata": {},
   "source": [
    "Note que a variável `lin` não é alterada desta forma."
   ]
  },
  {
   "cell_type": "code",
   "execution_count": 16,
   "metadata": {},
   "outputs": [
    {
     "data": {
      "text/plain": [
       "'\\n Estados Unidos[a]\\n33\\xa0448\\xa0422\\n\\n601\\xa0079\\n\\n–\\n\\n[3]\\n'"
      ]
     },
     "execution_count": 16,
     "metadata": {},
     "output_type": "execute_result"
    }
   ],
   "source": [
    "lin"
   ]
  },
  {
   "cell_type": "markdown",
   "metadata": {},
   "source": [
    "Para que a variável `lin` seja alterada, é necessário utilizar a atribuição."
   ]
  },
  {
   "cell_type": "code",
   "execution_count": 17,
   "metadata": {},
   "outputs": [
    {
     "data": {
      "text/plain": [
       "'Estados Unidos[a]\\n33\\xa0448\\xa0422\\n\\n601\\xa0079\\n\\n–\\n\\n[3]'"
      ]
     },
     "execution_count": 17,
     "metadata": {},
     "output_type": "execute_result"
    }
   ],
   "source": [
    "lin = lin.strip(\"\\n \")\n",
    "lin"
   ]
  },
  {
   "cell_type": "markdown",
   "metadata": {},
   "source": [
    "##### Removendo os caracteres `\\xa0` e `\\n` no meio da string"
   ]
  },
  {
   "cell_type": "markdown",
   "metadata": {},
   "source": [
    "Podemos utilizar o método `replace()` para substituir o caractere `\\xa0` com a string vazia, para que o número de casos não esteja com espaços entre eles. Note que o caractere `\\xa0` está em Unicode (que podem ser representados por hexadecimais), por isso necessitam do `u` antes do começo da string."
   ]
  },
  {
   "cell_type": "code",
   "execution_count": 18,
   "metadata": {},
   "outputs": [
    {
     "data": {
      "text/plain": [
       "'Estados Unidos[a]\\n33448422\\n\\n601079\\n\\n–\\n\\n[3]'"
      ]
     },
     "execution_count": 18,
     "metadata": {},
     "output_type": "execute_result"
    }
   ],
   "source": [
    "lin = lin.replace(u\"\\xa0\", u\"\")\n",
    "lin"
   ]
  },
  {
   "cell_type": "markdown",
   "metadata": {},
   "source": [
    "Como desejamos criar um arquivo CSV ao final do processo, vamos substituir um ou mais `\\n` e `\\t` que separa cada coluna da tabela por um `\\t`."
   ]
  },
  {
   "cell_type": "code",
   "execution_count": 19,
   "metadata": {},
   "outputs": [
    {
     "data": {
      "text/plain": [
       "'Estados Unidos[a]\\t33448422\\t601079\\t–\\t[3]'"
      ]
     },
     "execution_count": 19,
     "metadata": {},
     "output_type": "execute_result"
    }
   ],
   "source": [
    "lin = re.sub(\"[\\n|\\t]+\",\"\\t\", lin)\n",
    "lin"
   ]
  },
  {
   "cell_type": "markdown",
   "metadata": {},
   "source": [
    "##### Removendo as notas do nome do país e ao final da linha"
   ]
  },
  {
   "cell_type": "markdown",
   "metadata": {},
   "source": [
    "Para remover as notas do nome do país, vamos utilizar a seguinte expressão regular: `r\"\\[[\\d|a-z]+\\]\"`. A expressão pode ser lida da seguinte forma: selecione o texto de dígitos ou caracteres alfa-numéricos que estejam entre `[` e `]`. "
   ]
  },
  {
   "cell_type": "code",
   "execution_count": 20,
   "metadata": {},
   "outputs": [
    {
     "data": {
      "text/plain": [
       "'Estados Unidos[a]\\t33448422\\t601079\\t–\\t[3]'"
      ]
     },
     "execution_count": 20,
     "metadata": {},
     "output_type": "execute_result"
    }
   ],
   "source": [
    "lin"
   ]
  },
  {
   "cell_type": "code",
   "execution_count": 21,
   "metadata": {},
   "outputs": [
    {
     "data": {
      "text/plain": [
       "'Estados Unidos\\t33448422\\t601079\\t–\\t'"
      ]
     },
     "execution_count": 21,
     "metadata": {},
     "output_type": "execute_result"
    }
   ],
   "source": [
    "lin = re.sub(r\"\\[[\\d|a-z]+\\]\", \"\", lin)\n",
    "lin"
   ]
  },
  {
   "cell_type": "markdown",
   "metadata": {},
   "source": [
    "Remove-se finalmente o `\\t` ao final da string."
   ]
  },
  {
   "cell_type": "code",
   "execution_count": 22,
   "metadata": {},
   "outputs": [
    {
     "data": {
      "text/plain": [
       "'Estados Unidos\\t33448422\\t601079\\t–'"
      ]
     },
     "execution_count": 22,
     "metadata": {},
     "output_type": "execute_result"
    }
   ],
   "source": [
    "# Coluna Fontes\n",
    "lin = lin.rstrip(\"\\t\")\n",
    "lin"
   ]
  },
  {
   "cell_type": "code",
   "execution_count": 23,
   "metadata": {},
   "outputs": [
    {
     "data": {
      "text/plain": [
       "'Estados Unidos\\t33448422\\t601079\\t0'"
      ]
     },
     "execution_count": 23,
     "metadata": {},
     "output_type": "execute_result"
    }
   ],
   "source": [
    "lin = lin.replace(\"–\", \"0\")\n",
    "lin"
   ]
  },
  {
   "cell_type": "markdown",
   "metadata": {},
   "source": [
    "### Criação de uma função de preparação da linha"
   ]
  },
  {
   "cell_type": "markdown",
   "metadata": {},
   "source": [
    "Para se criar a função, vamos começar aplicando a sequência de passos para preparar a linha dos EUA e em seguida analisar se o que fizemos é suficiente para os outros casos."
   ]
  },
  {
   "cell_type": "code",
   "execution_count": 24,
   "metadata": {},
   "outputs": [],
   "source": [
    "def prep_linha_v1(linha):\n",
    "    # Remove os caracteres \\n no começo e final da string\n",
    "    # Em seguida, remove os espaços\n",
    "    linha = linha.strip(\"\\n \")\n",
    "    linha = linha.replace(u\"\\xa0\", u\"\")\n",
    "    linha = re.sub(\"[\\n|\\t]+\",\"\\t\", linha)\n",
    "    linha = re.sub(r\"\\[[\\d|a-z]+\\]\", \"\", linha)\n",
    "    linha = linha.strip(\"\\t\")\n",
    "    linha = re.sub(r\"–\", \"0\", linha)\n",
    "    return linha"
   ]
  },
  {
   "cell_type": "markdown",
   "metadata": {},
   "source": [
    "Como esperado, a função funciona para os EUA."
   ]
  },
  {
   "cell_type": "code",
   "execution_count": 25,
   "metadata": {},
   "outputs": [
    {
     "data": {
      "text/plain": [
       "'Estados Unidos\\t33448422\\t601079\\t0'"
      ]
     },
     "execution_count": 25,
     "metadata": {},
     "output_type": "execute_result"
    }
   ],
   "source": [
    "eua = prep_linha_v1(linhas_tb[2].get_text())\n",
    "eua"
   ]
  },
  {
   "cell_type": "markdown",
   "metadata": {},
   "source": [
    "#### Preste atenção nos tipos de dados da entrada das funções."
   ]
  },
  {
   "cell_type": "markdown",
   "metadata": {},
   "source": [
    "Chamada com String."
   ]
  },
  {
   "cell_type": "code",
   "execution_count": 26,
   "metadata": {},
   "outputs": [
    {
     "data": {
      "text/plain": [
       "str"
      ]
     },
     "execution_count": 26,
     "metadata": {},
     "output_type": "execute_result"
    }
   ],
   "source": [
    "type(linhas_tb[2].get_text())"
   ]
  },
  {
   "cell_type": "code",
   "execution_count": 27,
   "metadata": {},
   "outputs": [
    {
     "data": {
      "text/plain": [
       "'Estados Unidos\\t33448422\\t601079\\t0'"
      ]
     },
     "execution_count": 27,
     "metadata": {},
     "output_type": "execute_result"
    }
   ],
   "source": [
    "prep_linha_v1(linhas_tb[2].get_text())"
   ]
  },
  {
   "cell_type": "markdown",
   "metadata": {},
   "source": [
    "Chamada com `Tag`"
   ]
  },
  {
   "cell_type": "code",
   "execution_count": 28,
   "metadata": {},
   "outputs": [
    {
     "data": {
      "text/plain": [
       "bs4.element.Tag"
      ]
     },
     "execution_count": 28,
     "metadata": {},
     "output_type": "execute_result"
    }
   ],
   "source": [
    "type(linhas_tb[2])"
   ]
  },
  {
   "cell_type": "code",
   "execution_count": 29,
   "metadata": {},
   "outputs": [
    {
     "ename": "TypeError",
     "evalue": "'NoneType' object is not callable",
     "output_type": "error",
     "traceback": [
      "\u001b[0;31m---------------------------------------------------------------------------\u001b[0m",
      "\u001b[0;31mTypeError\u001b[0m                                 Traceback (most recent call last)",
      "\u001b[0;32m<ipython-input-29-8861c948244d>\u001b[0m in \u001b[0;36m<module>\u001b[0;34m\u001b[0m\n\u001b[0;32m----> 1\u001b[0;31m \u001b[0mprep_linha_v1\u001b[0m\u001b[0;34m(\u001b[0m\u001b[0mlinhas_tb\u001b[0m\u001b[0;34m[\u001b[0m\u001b[0;36m2\u001b[0m\u001b[0;34m]\u001b[0m\u001b[0;34m)\u001b[0m\u001b[0;34m\u001b[0m\u001b[0;34m\u001b[0m\u001b[0m\n\u001b[0m",
      "\u001b[0;32m<ipython-input-24-aaca6aa99a27>\u001b[0m in \u001b[0;36mprep_linha_v1\u001b[0;34m(linha)\u001b[0m\n\u001b[1;32m      2\u001b[0m     \u001b[0;31m# Remove os caracteres \\n no começo e final da string\u001b[0m\u001b[0;34m\u001b[0m\u001b[0;34m\u001b[0m\u001b[0;34m\u001b[0m\u001b[0m\n\u001b[1;32m      3\u001b[0m     \u001b[0;31m# Em seguida, remove os espaços\u001b[0m\u001b[0;34m\u001b[0m\u001b[0;34m\u001b[0m\u001b[0;34m\u001b[0m\u001b[0m\n\u001b[0;32m----> 4\u001b[0;31m     \u001b[0mlinha\u001b[0m \u001b[0;34m=\u001b[0m \u001b[0mlinha\u001b[0m\u001b[0;34m.\u001b[0m\u001b[0mstrip\u001b[0m\u001b[0;34m(\u001b[0m\u001b[0;34m\"\\n \"\u001b[0m\u001b[0;34m)\u001b[0m\u001b[0;34m\u001b[0m\u001b[0;34m\u001b[0m\u001b[0m\n\u001b[0m\u001b[1;32m      5\u001b[0m     \u001b[0mlinha\u001b[0m \u001b[0;34m=\u001b[0m \u001b[0mlinha\u001b[0m\u001b[0;34m.\u001b[0m\u001b[0mreplace\u001b[0m\u001b[0;34m(\u001b[0m\u001b[0;34mu\"\\xa0\"\u001b[0m\u001b[0;34m,\u001b[0m \u001b[0;34mu\"\"\u001b[0m\u001b[0;34m)\u001b[0m\u001b[0;34m\u001b[0m\u001b[0;34m\u001b[0m\u001b[0m\n\u001b[1;32m      6\u001b[0m     \u001b[0mlinha\u001b[0m \u001b[0;34m=\u001b[0m \u001b[0mre\u001b[0m\u001b[0;34m.\u001b[0m\u001b[0msub\u001b[0m\u001b[0;34m(\u001b[0m\u001b[0;34m\"[\\n|\\t]+\"\u001b[0m\u001b[0;34m,\u001b[0m\u001b[0;34m\"\\t\"\u001b[0m\u001b[0;34m,\u001b[0m \u001b[0mlinha\u001b[0m\u001b[0;34m)\u001b[0m\u001b[0;34m\u001b[0m\u001b[0;34m\u001b[0m\u001b[0m\n",
      "\u001b[0;31mTypeError\u001b[0m: 'NoneType' object is not callable"
     ]
    }
   ],
   "source": [
    "prep_linha_v1(linhas_tb[2])"
   ]
  },
  {
   "cell_type": "markdown",
   "metadata": {},
   "source": [
    "#### Investigando outros casos"
   ]
  },
  {
   "cell_type": "markdown",
   "metadata": {},
   "source": [
    "Listando as transformações nos países."
   ]
  },
  {
   "cell_type": "code",
   "execution_count": 30,
   "metadata": {},
   "outputs": [
    {
     "name": "stdout",
     "output_type": "stream",
     "text": [
      "2 Estados Unidos\t33448422\t601079\t0\n",
      "3 Índia\t26752447\t303720\t23728011\n",
      "4 Brasil\t16720081\t467706\t15168330\n",
      "5 França\t5667324\t109557\t0\n",
      "6 Turquia\t5263697\t47768\t5131463\n",
      "7 Rússia\t5090249\t122267\t4702599\n",
      "8 Reino Unido\t4494699\t127794\t0\n",
      "9 Itália\t4220304\t126221\t3868332\n",
      "10 Argentina\t3852093\t79320\t3409253\n",
      "11 Espanha\t3687762\t80049\t0\n",
      "12 Alemanha\t3703807\t89316\t3498050\n",
      "13 Colômbia\t3432422\t89297\t3193406\n",
      "14 Irã\t2935443\t80488\t2494108\n",
      "15 Polônia\t2873527\t73984\t2641139\n",
      "16 México\t2420659\t227840\t1930608\n",
      "17 Ucrânia\t2206836\t50857\t2062572\n",
      "18 Peru\t1961087\t69342\t1914169\n",
      "19 Chéquia\t1662256\t30126\t1622432\n",
      "20 África do Sul\t1669231\t56601\t1563719\n",
      "21 Países Baixos\t1651780\t17632\t0\n",
      "22 Indonésia\t1 511 712\t40 858\t1 348 330\n",
      "23 Canadá\t1383214\t25566\t1326484\n",
      "24 Chile\t1394973\t29385\t1321600\n",
      "25 Filipinas\t1240716\t21158\t1167426\n",
      "26 Iraque\t1205522\t16405\t1120799\n",
      "27 Romênia\t1078142\t30415\t1040869\n",
      "28 Suécia\t1068473\t14451\t0\n",
      "29 Bélgica\t1063499\t24968\t0\n",
      "30 Paquistão\t924667\t20930\t848685\n",
      "31 Portugal\t850262\t17026\t810271\n",
      "32 Israel\t839508\t6413\t832693\n",
      "33 Hungria\t804382\t29728\t696029\n",
      "34 Bangladesh\t802305\t12660\t742151\n",
      "35 Jordânia\t737888\t9489\t718123\n",
      "36 Japão\t749130\t13140\t685365\n",
      "37 Sérvia\t712989\t6881\t0\n",
      "38 Suíça\t696213\t10268\t317600\n",
      "39 Áustria\t645552\t10621\t630274\n",
      "40 Emirados Árabes Unidos\t574958\t1686\t554589\n",
      "41 Nepal\t571111\t7555\t461563\n",
      "42 Malásia\t587165\t2993\t501898\n",
      "43 Líbano\t540630\t7735\t520473\n",
      "44 Marrocos\t519610\t9154\t507528\n",
      "45 Arábia Saudita\t451687\t7377\t434439\n",
      "46 Equador\t427690\t20620\t375151\n",
      "47 Bulgária\t418813\t17726\t383765\n",
      "48 Grécia\t404163\t12122\tdata-sort-value=\"−1\"\n",
      "49 Bielorrússia\t395990\t2871\t387338\n",
      "50 Eslováquia\t389990\t12366\t0\n",
      "51 Cazaquistão\t387672\t3974\t357826\n",
      "52 Panamá\t378828\t6377\t366039\n",
      "53 Bolívia\t374718\t14639\t297580\n",
      "54 Croácia\t356829\t8042\t346796\n",
      "55 Paraguai\t358244\t9293\t294994\n",
      "56 Geórgia\t346150\t4834\t329516\n",
      "57 Tunísia\t346986\t12720\t305055\n",
      "58 Azerbaijão\t334132\t4921\t325040\n",
      "59 Costa Rica\t321279\t4074\t244782\n",
      "60 Palestina\t308732\t3503\t300919\n",
      "61 Kuwait\t311846\t1779\t296242\n",
      "62 República Dominicana\t294021\t3634\t241806\n",
      "63 Uruguai\t298006\t4342\t257030\n",
      "64 Dinamarca\t283089\t2516\t267808\n",
      "65 Lituânia\t275198\t4283\t256887\n",
      "66 Etiópia\t271790\t4171\t239475\n",
      "67 Irlanda\t262319\t4941\t0\n",
      "68 Egito\t263606\t15136\t192823\n",
      "69 Moldávia\t255241\t6114\t247609\n",
      "70 Eslovênia\t254419\t4380\t0\n",
      "71 Guatemala\t257167\t8214\t235641\n",
      "72 Honduras\t238820\t6379\t85279\n",
      "73 Venezuela\t235567\t2661\t216746\n",
      "74 Bahrain\t242790\t1009\t213827\n",
      "75 Armênia\t222870\t4446\t213578\n",
      "76 Qatar\t217882\t562\t214020\n",
      "77 Omã\t218271\t2356\t200421\n",
      "78 Bósnia e Herzegovina\t204172\t9303\t175704\n",
      "79 Líbia\t186072\t3127\t172117\n",
      "80 Sri Lanka\t192547\t1566\t160714\n",
      "81 Quênia\t171226\t3206\t117039\n",
      "82 Nigéria\t166535\t2099\t159935\n",
      "83 Macedônia do Norte\t155304\t5423\t148798\n",
      "84 Tailândia\t165462\t1107\t114578\n",
      "85 Myanmar\t143823\t3218\t132388\n",
      "86 Coreia do Sul\t141476\t1965\t132068\n",
      "87 Cuba\t144514\t977\t137614\n",
      "88 Albânia\t132351\t2451\t129521\n",
      "89 Letônia\t133866\t2386\t126999\n",
      "90 Estônia\t129804\t1259\t123589\n",
      "91 Argélia\t128913\t3472\t89839\n",
      "92 Noruega\t125764\t785\t88952\n",
      "93 Porto Rico\t122097\t2509\t0\n",
      "94 Kosovo\t107410\t2243\t102966\n",
      "95 Quirguistão\t105469\t1821\t99175\n",
      "96 Montenegro\t99683\t1587\t97351\n",
      "97 Uzbequistão\t100726\t691\t96569\n",
      "98 Zâmbia\t96563\t1284\t92108\n",
      "99 Gana\t94011\t785\t92057\n",
      "100 Finlândia\t92770\t959\t31000\n",
      "101 China (continental)\t91146\t4636\t86164\n",
      "102 Camarões\t78929\t1275\t57008\n",
      "103 El Salvador\t73702\t2252\t68803\n",
      "104 Chipre\t72515\t360\t0\n",
      "105 Moçambique\t70923\t836\t69555\n",
      "106 Luxemburgo\t70027\t818\t68316\n",
      "107 Afeganistão\t75144\t3034\t57963\n",
      "108 Singapura\t62100\t33\t61481\n",
      "109 Maldivas\t64396\t161\t35595\n",
      "110 Mongólia\t60372\t286\t51448\n",
      "111 Namíbia\t56264\t865\t51048\n",
      "112 Botswana\t54973\t849\t51259\n",
      "113 Jamaica\t48594\t949\t25485\n",
      "114 Costa do Marfim\t47319\t306\t46758\n",
      "115 Uganda\t48676\t364\t46150\n",
      "116 Senegal\t41494\t1142\t40146\n",
      "117 Madagáscar\t41366\t841\t39101\n",
      "118 Zimbábue\t39031\t1599\t36661\n",
      "119 Donetsk\t39230\t2965\t31693\n",
      "120 Sudão\t35656\t2662\t29364\n",
      "121 Malawi\t34360\t1156\t32629\n",
      "122 Angola\t34752\t792\t28190\n",
      "123 Rep. Dem. do Congo\t31934\t786\t27666\n",
      "124 Malta\t30553\t419\t30058\n",
      "125 Austrália\t30130\t910\t0\n",
      "126 Cabo Verde\t30694\t266\t28944\n",
      "127 Camboja\t31460\t230\t24042\n",
      "128 Ruanda\t27064\t358\t25948\n",
      "129 Síria\t24495\t1770\t21604\n",
      "130 Gabão\t24429\t152\t22118\n",
      "131 Guiné\t23194\t162\t21193\n",
      "132 Trinidad e Tobago\t24314\t507\t14249\n",
      "133 Mauritânia\t19598\t463\t18582\n",
      "134 Polinésia Francesa\t18879\t142\t18658\n",
      "135 Essuatíni\t18618\t673\t17882\n",
      "136 Guiana\t16952\t389\t14552\n",
      "137 Papua-Nova Guiné\t15910\t162\t15067\n",
      "138 Abecásia\t15360\t234\t14737\n",
      "139 Somália\t14660\t769\t6764\n",
      "140 Mali\t14281\t517\t9740\n",
      "141 Haiti\t14931\t321\t12552\n",
      "142 Suriname\t15128\t313\t11877\n",
      "143 Tajiquistão\t13714\t91\t13218\n",
      "144 Andorra\t13744\t127\t13507\n",
      "145 Burkina Faso\t13435\t167\t13256\n",
      "146 Togo\t13481\t125\t12950\n",
      "147 Belize\t12819\t325\t12417\n",
      "148 Curaçao\t12274\t122\t12132\n",
      "149 Hong Kong\t11849\t210\t11561\n",
      "150 República do Congo\t11845\t154\t8208\n",
      "151 Bahamas\t11893\t230\t10903\n",
      "152 Djibouti\t11542\t154\t11381\n",
      "153 Seicheles\t11621\t42\t10499\n",
      "154 Aruba\t11006\t107\t10845\n",
      "155 Lesoto\t10831\t326\t6434\n",
      "156 Sudão do Sul\t10688\t115\t10514\n",
      "157 Guiné Equatorial\t8529\t118\t8146\n",
      "158 Guam\t8187\t139\t7986\n",
      "159 Benim\t8025\t101\t7893\n",
      "160 Nicarágua\t7324\t186\t0\n",
      "161 Chipre do Norte\t7345\t33\t6998\n",
      "162 República Centro-Africana\t7091\t98\t5112\n",
      "163 Taiwan\t9389\t149\t1133\n",
      "164 Iémen\t6759\t1323\t3472\n",
      "165 Islândia\t6595\t30\t6521\n",
      "166 Vietnã\t7813\t49\t3085\n",
      "167 Gâmbia\t5993\t179\t5780\n",
      "168 Timor-Leste\t6897\t16\t4233\n",
      "169 Níger\t5410\t192\t5083\n",
      "170 San Marino\t5090\t90\t4998\n",
      "171 Santa Lúcia\t5072\t79\t4826\n",
      "172 Chade\t4935\t173\t4747\n",
      "173 Lugansk\t4784\t441\t4172\n",
      "174 Burundi\t4828\t6\t773\n",
      "175 Gibraltar\t4298\t94\t4194\n",
      "176 Serra Leoa\t4140\t79\t3128\n",
      "177 Eritreia\t4145\t14\t3855\n",
      "178 Barbados\t4017\t47\t3922\n",
      "179 Somalilândia\t4608\t311\t3899\n",
      "180 Comores\t3882\t146\t3719\n",
      "181 Guiné-Bissau\t3766\t68\t3516\n",
      "182 Ilhas Virgens Americanas\t3465\t27\t3313\n",
      "183 Ossétia do Sul\t3343\t60+\t3198\n",
      "184 Jersey\t3243\t69\t3179\n",
      "185 Liechtenstein\t3016\t58\t2934\n",
      "186 Artsaque\t2751\t31\t337\n",
      "187 Mônaco\t2508\t33\t2467\n",
      "188 Bermudas\t2494\t33\t2441\n",
      "189 Ilhas Turcas e Caicos\t2417\t17\t2384\n",
      "190 São Martinho (Países Baixos)\t2433\t28\t2334\n",
      "191 São Tomé e Príncipe\t2345\t38\t2290\n",
      "192 Nova Zelândia\t2323\t26\t2274\n",
      "193 Libéria\t2219\t86\t2044\n",
      "194 Laos\t1929\t3\t1599\n",
      "195 Ilha de Man\t1594\t29\t1562\n",
      "196 Bonaire\t1589\t17\t1549\n",
      "197 Butão\t1639\t1\t1308\n",
      "198 Maurícia\t1418\t18\t1198\n",
      "199 Antígua e Barbuda\t1262\t42\t1213\n",
      "200 Guernsey\t823\t14\t808\n",
      "201 Diamond Princess\t712\t14\t698\n",
      "202 Tanzânia\t0\t0\t0\n",
      "203 Ilhas Faroe\t723\t1\t677\n",
      "204 Ilhas Cayman\t584\t2\t571\n",
      "205 Fiji\t508\t4\t181\n",
      "206 Ilhas Virgens Britânicas\t292\t1\t285\n",
      "207 Brunei\t244\t3\t231\n",
      "208 Dominica\t188\t0\t186\n",
      "209 Ilhas Marianas Setentrionais\t183\t2\t32\n",
      "210 Granada\t160\t1\t158\n",
      "211 Costa Atlantica\t148\t0\t148\n",
      "212 Greg Mortimer\t128\t1\t0\n",
      "213 Nova Caledônia\t128\t0\t30\n",
      "214 Anguilla\t109\t0\t109\n",
      "215 São Vicente e Granadinas\t98\t0\t81\n",
      "216 Ilhas Malvinas\t63\t0\t63\n",
      "217 São Cristóvão e Neves\t73\t0\t48\n",
      "218 Macau\t51\t0\t49\n",
      "219 Gronelândia\t40\t0\t34\n",
      "220 Vaticano\t29\t0\t27\n",
      "221 Saint Pierre e Miquelon\t25\t0\t25\n",
      "222 Santo Eustáquio\t20\t0\t20\n",
      "223 Montserrat\t20\t1\t18\n",
      "224 MS Zaandam\t13\t4\t0\n",
      "225 Coral Princess\t12\t3\t0\n",
      "226 Saba\t7\t0\t7\n"
     ]
    }
   ],
   "source": [
    "for i in range(ini_tb,fim_tb+1):\n",
    "    linha = linhas_tb[i].get_text()\n",
    "    print(i, prep_linha_v1(linha))"
   ]
  },
  {
   "cell_type": "markdown",
   "metadata": {},
   "source": [
    "Pela Grécia, vemos que remos ter tratar um comando HTML em uma das colunas."
   ]
  },
  {
   "cell_type": "code",
   "execution_count": null,
   "metadata": {},
   "outputs": [],
   "source": [
    "prep_linha_v1(linhas_tb[48].get_text())"
   ]
  },
  {
   "cell_type": "markdown",
   "metadata": {},
   "source": [
    "A Ossétia do Sul também necessita ser tratada."
   ]
  },
  {
   "cell_type": "code",
   "execution_count": 31,
   "metadata": {},
   "outputs": [
    {
     "data": {
      "text/plain": [
       "'Ossétia do Sul\\t3343\\t60+\\t3198'"
      ]
     },
     "execution_count": 31,
     "metadata": {},
     "output_type": "execute_result"
    }
   ],
   "source": [
    "prep_linha_v1(linhas_tb[183].get_text())"
   ]
  },
  {
   "cell_type": "code",
   "execution_count": 32,
   "metadata": {},
   "outputs": [],
   "source": [
    "def prep_linha_v2(linha):\n",
    "    # Remove os caracteres \\n no começo e final da string\n",
    "    # Em seguida, remove os espaços\n",
    "    linha = linha.strip(\"\\n \")\n",
    "    linha = linha.replace(u\"\\xa0\", u\"\")\n",
    "    linha = re.sub(\"[\\n|\\t]+\",\"\\t\", linha)\n",
    "    linha = re.sub(r\"\\[[\\d|a-z]+\\]\", \"\", linha)\n",
    "    linha = linha.strip(\"\\t\")\n",
    "    linha = re.sub(r\"–\", \"0\", linha)\n",
    "        \n",
    "    # Trata a Grécia (parte por parte)\n",
    "    linha = linha.replace(\"data-sort-value=\\\"−1\\\"\", \"0\")\n",
    "    \n",
    "    # Trata a Ossétia do Sul\n",
    "    linha = linha.replace(\"+\", \"\")\n",
    "    return linha"
   ]
  },
  {
   "cell_type": "code",
   "execution_count": 33,
   "metadata": {},
   "outputs": [
    {
     "data": {
      "text/plain": [
       "'Grécia\\t404163\\t12122\\t0'"
      ]
     },
     "execution_count": 33,
     "metadata": {},
     "output_type": "execute_result"
    }
   ],
   "source": [
    "prep_linha_v2(linhas_tb[48].get_text())"
   ]
  },
  {
   "cell_type": "code",
   "execution_count": 35,
   "metadata": {},
   "outputs": [
    {
     "data": {
      "text/plain": [
       "'Ossétia do Sul\\t3343\\t60\\t3198'"
      ]
     },
     "execution_count": 35,
     "metadata": {},
     "output_type": "execute_result"
    }
   ],
   "source": [
    "prep_linha_v2(linhas_tb[183].get_text())"
   ]
  },
  {
   "cell_type": "markdown",
   "metadata": {},
   "source": [
    "Analisando a Indonésia, descobrimos mais uma surpresa."
   ]
  },
  {
   "cell_type": "code",
   "execution_count": 36,
   "metadata": {},
   "outputs": [
    {
     "data": {
      "text/plain": [
       "'Indonésia\\t1 511 712\\t40 858\\t1 348 330'"
      ]
     },
     "execution_count": 36,
     "metadata": {},
     "output_type": "execute_result"
    }
   ],
   "source": [
    "prep_linha_v2(linhas_tb[22].get_text())"
   ]
  },
  {
   "cell_type": "markdown",
   "metadata": {},
   "source": [
    "Para facilitar, vamos tratar este caso direto no Pandas."
   ]
  },
  {
   "cell_type": "markdown",
   "metadata": {},
   "source": [
    "##### Preparando o texto do arquivo final"
   ]
  },
  {
   "cell_type": "markdown",
   "metadata": {},
   "source": [
    "Para criarmos o texto arquivo CSV final, basta fazer uma concatenação de todas as linhas da tabela, incluindo um `\\n` ao final da linha. "
   ]
  },
  {
   "cell_type": "code",
   "execution_count": 37,
   "metadata": {},
   "outputs": [
    {
     "name": "stdout",
     "output_type": "stream",
     "text": [
      "País\tCasos\tMortes\tCurados\n",
      "Estados Unidos\t33448422\t601079\t0\n",
      "Índia\t26752447\t303720\t23728011\n",
      "Brasil\t16720081\t467706\t15168330\n",
      "França\t5667324\t109557\t0\n",
      "Turquia\t5263697\t47768\t5131463\n",
      "Rússia\t5090249\t122267\t4702599\n",
      "Reino Unido\t4494699\t127794\t0\n",
      "Itália\t4220304\t126221\t3868332\n",
      "Argentina\t3852093\t79320\t3409253\n",
      "Espanha\t3687762\t80049\t0\n",
      "Alemanha\t3703807\t89316\t3498050\n",
      "Colômbia\t3432422\t89297\t3193406\n",
      "Irã\t2935443\t80488\t2494108\n",
      "Polônia\t2873527\t73984\t2641139\n",
      "México\t2420659\t227840\t1930608\n",
      "Ucrânia\t2206836\t50857\t2062572\n",
      "Peru\t1961087\t69342\t1914169\n",
      "Chéquia\t1662256\t30126\t1622432\n",
      "África do Sul\t1669231\t56601\t1563719\n",
      "Países Baixos\t1651780\t17632\t0\n",
      "Indonésia\t1 511 712\t40 858\t1 348 330\n",
      "Canadá\t1383214\t25566\t1326484\n",
      "Chile\t1394973\t29385\t1321600\n",
      "Filipinas\t1240716\t21158\t1167426\n",
      "Iraque\t1205522\t16405\t1120799\n",
      "Romênia\t1078142\t30415\t1040869\n",
      "Suécia\t1068473\t14451\t0\n",
      "Bélgica\t1063499\t24968\t0\n",
      "Paquistão\t924667\t20930\t848685\n",
      "Portugal\t850262\t17026\t810271\n",
      "Israel\t839508\t6413\t832693\n",
      "Hungria\t804382\t29728\t696029\n",
      "Bangladesh\t802305\t12660\t742151\n",
      "Jordânia\t737888\t9489\t718123\n",
      "Japão\t749130\t13140\t685365\n",
      "Sérvia\t712989\t6881\t0\n",
      "Suíça\t696213\t10268\t317600\n",
      "Áustria\t645552\t10621\t630274\n",
      "Emirados Árabes Unidos\t574958\t1686\t554589\n",
      "Nepal\t571111\t7555\t461563\n",
      "Malásia\t587165\t2993\t501898\n",
      "Líbano\t540630\t7735\t520473\n",
      "Marrocos\t519610\t9154\t507528\n",
      "Arábia Saudita\t451687\t7377\t434439\n",
      "Equador\t427690\t20620\t375151\n",
      "Bulgária\t418813\t17726\t383765\n",
      "Grécia\t404163\t12122\t0\n",
      "Bielorrússia\t395990\t2871\t387338\n",
      "Eslováquia\t389990\t12366\t0\n",
      "Cazaquistão\t387672\t3974\t357826\n",
      "Panamá\t378828\t6377\t366039\n",
      "Bolívia\t374718\t14639\t297580\n",
      "Croácia\t356829\t8042\t346796\n",
      "Paraguai\t358244\t9293\t294994\n",
      "Geórgia\t346150\t4834\t329516\n",
      "Tunísia\t346986\t12720\t305055\n",
      "Azerbaijão\t334132\t4921\t325040\n",
      "Costa Rica\t321279\t4074\t244782\n",
      "Palestina\t308732\t3503\t300919\n",
      "Kuwait\t311846\t1779\t296242\n",
      "República Dominicana\t294021\t3634\t241806\n",
      "Uruguai\t298006\t4342\t257030\n",
      "Dinamarca\t283089\t2516\t267808\n",
      "Lituânia\t275198\t4283\t256887\n",
      "Etiópia\t271790\t4171\t239475\n",
      "Irlanda\t262319\t4941\t0\n",
      "Egito\t263606\t15136\t192823\n",
      "Moldávia\t255241\t6114\t247609\n",
      "Eslovênia\t254419\t4380\t0\n",
      "Guatemala\t257167\t8214\t235641\n",
      "Honduras\t238820\t6379\t85279\n",
      "Venezuela\t235567\t2661\t216746\n",
      "Bahrain\t242790\t1009\t213827\n",
      "Armênia\t222870\t4446\t213578\n",
      "Qatar\t217882\t562\t214020\n",
      "Omã\t218271\t2356\t200421\n",
      "Bósnia e Herzegovina\t204172\t9303\t175704\n",
      "Líbia\t186072\t3127\t172117\n",
      "Sri Lanka\t192547\t1566\t160714\n",
      "Quênia\t171226\t3206\t117039\n",
      "Nigéria\t166535\t2099\t159935\n",
      "Macedônia do Norte\t155304\t5423\t148798\n",
      "Tailândia\t165462\t1107\t114578\n",
      "Myanmar\t143823\t3218\t132388\n",
      "Coreia do Sul\t141476\t1965\t132068\n",
      "Cuba\t144514\t977\t137614\n",
      "Albânia\t132351\t2451\t129521\n",
      "Letônia\t133866\t2386\t126999\n",
      "Estônia\t129804\t1259\t123589\n",
      "Argélia\t128913\t3472\t89839\n",
      "Noruega\t125764\t785\t88952\n",
      "Porto Rico\t122097\t2509\t0\n",
      "Kosovo\t107410\t2243\t102966\n",
      "Quirguistão\t105469\t1821\t99175\n",
      "Montenegro\t99683\t1587\t97351\n",
      "Uzbequistão\t100726\t691\t96569\n",
      "Zâmbia\t96563\t1284\t92108\n",
      "Gana\t94011\t785\t92057\n",
      "Finlândia\t92770\t959\t31000\n",
      "China (continental)\t91146\t4636\t86164\n",
      "Camarões\t78929\t1275\t57008\n",
      "El Salvador\t73702\t2252\t68803\n",
      "Chipre\t72515\t360\t0\n",
      "Moçambique\t70923\t836\t69555\n",
      "Luxemburgo\t70027\t818\t68316\n",
      "Afeganistão\t75144\t3034\t57963\n",
      "Singapura\t62100\t33\t61481\n",
      "Maldivas\t64396\t161\t35595\n",
      "Mongólia\t60372\t286\t51448\n",
      "Namíbia\t56264\t865\t51048\n",
      "Botswana\t54973\t849\t51259\n",
      "Jamaica\t48594\t949\t25485\n",
      "Costa do Marfim\t47319\t306\t46758\n",
      "Uganda\t48676\t364\t46150\n",
      "Senegal\t41494\t1142\t40146\n",
      "Madagáscar\t41366\t841\t39101\n",
      "Zimbábue\t39031\t1599\t36661\n",
      "Donetsk\t39230\t2965\t31693\n",
      "Sudão\t35656\t2662\t29364\n",
      "Malawi\t34360\t1156\t32629\n",
      "Angola\t34752\t792\t28190\n",
      "Rep. Dem. do Congo\t31934\t786\t27666\n",
      "Malta\t30553\t419\t30058\n",
      "Austrália\t30130\t910\t0\n",
      "Cabo Verde\t30694\t266\t28944\n",
      "Camboja\t31460\t230\t24042\n",
      "Ruanda\t27064\t358\t25948\n",
      "Síria\t24495\t1770\t21604\n",
      "Gabão\t24429\t152\t22118\n",
      "Guiné\t23194\t162\t21193\n",
      "Trinidad e Tobago\t24314\t507\t14249\n",
      "Mauritânia\t19598\t463\t18582\n",
      "Polinésia Francesa\t18879\t142\t18658\n",
      "Essuatíni\t18618\t673\t17882\n",
      "Guiana\t16952\t389\t14552\n",
      "Papua-Nova Guiné\t15910\t162\t15067\n",
      "Abecásia\t15360\t234\t14737\n",
      "Somália\t14660\t769\t6764\n",
      "Mali\t14281\t517\t9740\n",
      "Haiti\t14931\t321\t12552\n",
      "Suriname\t15128\t313\t11877\n",
      "Tajiquistão\t13714\t91\t13218\n",
      "Andorra\t13744\t127\t13507\n",
      "Burkina Faso\t13435\t167\t13256\n",
      "Togo\t13481\t125\t12950\n",
      "Belize\t12819\t325\t12417\n",
      "Curaçao\t12274\t122\t12132\n",
      "Hong Kong\t11849\t210\t11561\n",
      "República do Congo\t11845\t154\t8208\n",
      "Bahamas\t11893\t230\t10903\n",
      "Djibouti\t11542\t154\t11381\n",
      "Seicheles\t11621\t42\t10499\n",
      "Aruba\t11006\t107\t10845\n",
      "Lesoto\t10831\t326\t6434\n",
      "Sudão do Sul\t10688\t115\t10514\n",
      "Guiné Equatorial\t8529\t118\t8146\n",
      "Guam\t8187\t139\t7986\n",
      "Benim\t8025\t101\t7893\n",
      "Nicarágua\t7324\t186\t0\n",
      "Chipre do Norte\t7345\t33\t6998\n",
      "República Centro-Africana\t7091\t98\t5112\n",
      "Taiwan\t9389\t149\t1133\n",
      "Iémen\t6759\t1323\t3472\n",
      "Islândia\t6595\t30\t6521\n",
      "Vietnã\t7813\t49\t3085\n",
      "Gâmbia\t5993\t179\t5780\n",
      "Timor-Leste\t6897\t16\t4233\n",
      "Níger\t5410\t192\t5083\n",
      "San Marino\t5090\t90\t4998\n",
      "Santa Lúcia\t5072\t79\t4826\n",
      "Chade\t4935\t173\t4747\n",
      "Lugansk\t4784\t441\t4172\n",
      "Burundi\t4828\t6\t773\n",
      "Gibraltar\t4298\t94\t4194\n",
      "Serra Leoa\t4140\t79\t3128\n",
      "Eritreia\t4145\t14\t3855\n",
      "Barbados\t4017\t47\t3922\n",
      "Somalilândia\t4608\t311\t3899\n",
      "Comores\t3882\t146\t3719\n",
      "Guiné-Bissau\t3766\t68\t3516\n",
      "Ilhas Virgens Americanas\t3465\t27\t3313\n",
      "Ossétia do Sul\t3343\t60\t3198\n",
      "Jersey\t3243\t69\t3179\n",
      "Liechtenstein\t3016\t58\t2934\n",
      "Artsaque\t2751\t31\t337\n",
      "Mônaco\t2508\t33\t2467\n",
      "Bermudas\t2494\t33\t2441\n",
      "Ilhas Turcas e Caicos\t2417\t17\t2384\n",
      "São Martinho (Países Baixos)\t2433\t28\t2334\n",
      "São Tomé e Príncipe\t2345\t38\t2290\n",
      "Nova Zelândia\t2323\t26\t2274\n",
      "Libéria\t2219\t86\t2044\n",
      "Laos\t1929\t3\t1599\n",
      "Ilha de Man\t1594\t29\t1562\n",
      "Bonaire\t1589\t17\t1549\n",
      "Butão\t1639\t1\t1308\n",
      "Maurícia\t1418\t18\t1198\n",
      "Antígua e Barbuda\t1262\t42\t1213\n",
      "Guernsey\t823\t14\t808\n",
      "Diamond Princess\t712\t14\t698\n",
      "Tanzânia\t0\t0\t0\n",
      "Ilhas Faroe\t723\t1\t677\n",
      "Ilhas Cayman\t584\t2\t571\n",
      "Fiji\t508\t4\t181\n",
      "Ilhas Virgens Britânicas\t292\t1\t285\n",
      "Brunei\t244\t3\t231\n",
      "Dominica\t188\t0\t186\n",
      "Ilhas Marianas Setentrionais\t183\t2\t32\n",
      "Granada\t160\t1\t158\n",
      "Costa Atlantica\t148\t0\t148\n",
      "Greg Mortimer\t128\t1\t0\n",
      "Nova Caledônia\t128\t0\t30\n",
      "Anguilla\t109\t0\t109\n",
      "São Vicente e Granadinas\t98\t0\t81\n",
      "Ilhas Malvinas\t63\t0\t63\n",
      "São Cristóvão e Neves\t73\t0\t48\n",
      "Macau\t51\t0\t49\n",
      "Gronelândia\t40\t0\t34\n",
      "Vaticano\t29\t0\t27\n",
      "Saint Pierre e Miquelon\t25\t0\t25\n",
      "Santo Eustáquio\t20\t0\t20\n",
      "Montserrat\t20\t1\t18\n",
      "MS Zaandam\t13\t4\t0\n",
      "Coral Princess\t12\t3\t0\n",
      "Saba\t7\t0\t7\n"
     ]
    }
   ],
   "source": [
    "# Esta primeira linha define o título da tabela\n",
    "texto_final = \"País\\tCasos\\tMortes\\tCurados\\n\"\n",
    "for i in range(ini_tb, fim_tb+1):\n",
    "    # Preste atenção no .get_text(), que transforma a chamada em string\n",
    "    linha = prep_linha_v2(linhas_tb[i].get_text())\n",
    "    texto_final += linha\n",
    "    if (i < fim_tb):\n",
    "        texto_final += \"\\n\"\n",
    "print(texto_final)"
   ]
  },
  {
   "cell_type": "markdown",
   "metadata": {},
   "source": [
    "## Gravando o texto em um arquivo"
   ]
  },
  {
   "cell_type": "markdown",
   "metadata": {},
   "source": [
    "Para se gravar o texto em um arquivo, basta utilizar o código a seguir."
   ]
  },
  {
   "cell_type": "code",
   "execution_count": 38,
   "metadata": {},
   "outputs": [],
   "source": [
    "arquivo = open(\"lista-paises.tsv\", \"w\")\n",
    "arquivo.write(texto_final)\n",
    "arquivo.close()"
   ]
  },
  {
   "cell_type": "markdown",
   "metadata": {},
   "source": [
    "### Lendo o arquivo CSV com o Pandas"
   ]
  },
  {
   "cell_type": "code",
   "execution_count": 39,
   "metadata": {},
   "outputs": [
    {
     "data": {
      "text/html": [
       "<div>\n",
       "<style scoped>\n",
       "    .dataframe tbody tr th:only-of-type {\n",
       "        vertical-align: middle;\n",
       "    }\n",
       "\n",
       "    .dataframe tbody tr th {\n",
       "        vertical-align: top;\n",
       "    }\n",
       "\n",
       "    .dataframe thead th {\n",
       "        text-align: right;\n",
       "    }\n",
       "</style>\n",
       "<table border=\"1\" class=\"dataframe\">\n",
       "  <thead>\n",
       "    <tr style=\"text-align: right;\">\n",
       "      <th></th>\n",
       "      <th>País</th>\n",
       "      <th>Casos</th>\n",
       "      <th>Mortes</th>\n",
       "      <th>Curados</th>\n",
       "    </tr>\n",
       "  </thead>\n",
       "  <tbody>\n",
       "    <tr>\n",
       "      <th>0</th>\n",
       "      <td>Estados Unidos</td>\n",
       "      <td>33448422</td>\n",
       "      <td>601079</td>\n",
       "      <td>0</td>\n",
       "    </tr>\n",
       "    <tr>\n",
       "      <th>1</th>\n",
       "      <td>Índia</td>\n",
       "      <td>26752447</td>\n",
       "      <td>303720</td>\n",
       "      <td>23728011</td>\n",
       "    </tr>\n",
       "    <tr>\n",
       "      <th>2</th>\n",
       "      <td>Brasil</td>\n",
       "      <td>16720081</td>\n",
       "      <td>467706</td>\n",
       "      <td>15168330</td>\n",
       "    </tr>\n",
       "    <tr>\n",
       "      <th>3</th>\n",
       "      <td>França</td>\n",
       "      <td>5667324</td>\n",
       "      <td>109557</td>\n",
       "      <td>0</td>\n",
       "    </tr>\n",
       "    <tr>\n",
       "      <th>4</th>\n",
       "      <td>Turquia</td>\n",
       "      <td>5263697</td>\n",
       "      <td>47768</td>\n",
       "      <td>5131463</td>\n",
       "    </tr>\n",
       "    <tr>\n",
       "      <th>...</th>\n",
       "      <td>...</td>\n",
       "      <td>...</td>\n",
       "      <td>...</td>\n",
       "      <td>...</td>\n",
       "    </tr>\n",
       "    <tr>\n",
       "      <th>220</th>\n",
       "      <td>Santo Eustáquio</td>\n",
       "      <td>20</td>\n",
       "      <td>0</td>\n",
       "      <td>20</td>\n",
       "    </tr>\n",
       "    <tr>\n",
       "      <th>221</th>\n",
       "      <td>Montserrat</td>\n",
       "      <td>20</td>\n",
       "      <td>1</td>\n",
       "      <td>18</td>\n",
       "    </tr>\n",
       "    <tr>\n",
       "      <th>222</th>\n",
       "      <td>MS Zaandam</td>\n",
       "      <td>13</td>\n",
       "      <td>4</td>\n",
       "      <td>0</td>\n",
       "    </tr>\n",
       "    <tr>\n",
       "      <th>223</th>\n",
       "      <td>Coral Princess</td>\n",
       "      <td>12</td>\n",
       "      <td>3</td>\n",
       "      <td>0</td>\n",
       "    </tr>\n",
       "    <tr>\n",
       "      <th>224</th>\n",
       "      <td>Saba</td>\n",
       "      <td>7</td>\n",
       "      <td>0</td>\n",
       "      <td>7</td>\n",
       "    </tr>\n",
       "  </tbody>\n",
       "</table>\n",
       "<p>225 rows × 4 columns</p>\n",
       "</div>"
      ],
      "text/plain": [
       "                País     Casos  Mortes   Curados\n",
       "0     Estados Unidos  33448422  601079         0\n",
       "1              Índia  26752447  303720  23728011\n",
       "2             Brasil  16720081  467706  15168330\n",
       "3             França   5667324  109557         0\n",
       "4            Turquia   5263697   47768   5131463\n",
       "..               ...       ...     ...       ...\n",
       "220  Santo Eustáquio        20       0        20\n",
       "221       Montserrat        20       1        18\n",
       "222       MS Zaandam        13       4         0\n",
       "223   Coral Princess        12       3         0\n",
       "224             Saba         7       0         7\n",
       "\n",
       "[225 rows x 4 columns]"
      ]
     },
     "execution_count": 39,
     "metadata": {},
     "output_type": "execute_result"
    }
   ],
   "source": [
    "import pandas as pd\n",
    "df = pd.read_csv(\"lista-paises.tsv\", sep='\\t')\n",
    "df"
   ]
  },
  {
   "cell_type": "markdown",
   "metadata": {},
   "source": [
    "### Indonésia"
   ]
  },
  {
   "cell_type": "code",
   "execution_count": 40,
   "metadata": {},
   "outputs": [
    {
     "data": {
      "text/html": [
       "<div>\n",
       "<style scoped>\n",
       "    .dataframe tbody tr th:only-of-type {\n",
       "        vertical-align: middle;\n",
       "    }\n",
       "\n",
       "    .dataframe tbody tr th {\n",
       "        vertical-align: top;\n",
       "    }\n",
       "\n",
       "    .dataframe thead th {\n",
       "        text-align: right;\n",
       "    }\n",
       "</style>\n",
       "<table border=\"1\" class=\"dataframe\">\n",
       "  <thead>\n",
       "    <tr style=\"text-align: right;\">\n",
       "      <th></th>\n",
       "      <th>País</th>\n",
       "      <th>Casos</th>\n",
       "      <th>Mortes</th>\n",
       "      <th>Curados</th>\n",
       "    </tr>\n",
       "  </thead>\n",
       "  <tbody>\n",
       "    <tr>\n",
       "      <th>20</th>\n",
       "      <td>Indonésia</td>\n",
       "      <td>1 511 712</td>\n",
       "      <td>40 858</td>\n",
       "      <td>1 348 330</td>\n",
       "    </tr>\n",
       "  </tbody>\n",
       "</table>\n",
       "</div>"
      ],
      "text/plain": [
       "         País      Casos  Mortes    Curados\n",
       "20  Indonésia  1 511 712  40 858  1 348 330"
      ]
     },
     "execution_count": 40,
     "metadata": {},
     "output_type": "execute_result"
    }
   ],
   "source": [
    "df[df['País'] == 'Indonésia']"
   ]
  },
  {
   "cell_type": "markdown",
   "metadata": {},
   "source": [
    "A função lambda é uma função anônima (sem nome), em que o parâmetro é designado por celula. A função é aplicada sobre cada célula da coluna. Assim para cada célula, a função replace será executada."
   ]
  },
  {
   "cell_type": "code",
   "execution_count": 41,
   "metadata": {},
   "outputs": [],
   "source": [
    "df['Casos'] = df.Casos.apply(lambda celula: celula.replace(\" \", \"\"))\n",
    "df['Mortes'] = df.Mortes.apply(lambda celula: celula.replace(\" \", \"\"))\n",
    "df['Curados'] = df.Curados.apply(lambda celula: celula.replace(\" \", \"\"))"
   ]
  },
  {
   "cell_type": "code",
   "execution_count": 42,
   "metadata": {},
   "outputs": [
    {
     "data": {
      "text/html": [
       "<div>\n",
       "<style scoped>\n",
       "    .dataframe tbody tr th:only-of-type {\n",
       "        vertical-align: middle;\n",
       "    }\n",
       "\n",
       "    .dataframe tbody tr th {\n",
       "        vertical-align: top;\n",
       "    }\n",
       "\n",
       "    .dataframe thead th {\n",
       "        text-align: right;\n",
       "    }\n",
       "</style>\n",
       "<table border=\"1\" class=\"dataframe\">\n",
       "  <thead>\n",
       "    <tr style=\"text-align: right;\">\n",
       "      <th></th>\n",
       "      <th>País</th>\n",
       "      <th>Casos</th>\n",
       "      <th>Mortes</th>\n",
       "      <th>Curados</th>\n",
       "    </tr>\n",
       "  </thead>\n",
       "  <tbody>\n",
       "    <tr>\n",
       "      <th>20</th>\n",
       "      <td>Indonésia</td>\n",
       "      <td>1511712</td>\n",
       "      <td>40858</td>\n",
       "      <td>1348330</td>\n",
       "    </tr>\n",
       "  </tbody>\n",
       "</table>\n",
       "</div>"
      ],
      "text/plain": [
       "         País    Casos Mortes  Curados\n",
       "20  Indonésia  1511712  40858  1348330"
      ]
     },
     "execution_count": 42,
     "metadata": {},
     "output_type": "execute_result"
    }
   ],
   "source": [
    "df[df['País'] == 'Indonésia']"
   ]
  },
  {
   "cell_type": "markdown",
   "metadata": {},
   "source": [
    "**Convertendo para tipos numéricos**"
   ]
  },
  {
   "cell_type": "markdown",
   "metadata": {},
   "source": [
    "Se tudo correr bem nessa conversão, é porque tudo foi tratado adequadamente. Caso ocorra problemas aqui, você deve inspecionar a tabela para encontrar onde estão os problemas."
   ]
  },
  {
   "cell_type": "code",
   "execution_count": 45,
   "metadata": {},
   "outputs": [],
   "source": [
    "df['Casos'] = df.Casos.astype(int)\n",
    "df['Mortes'] = df.Mortes.astype(int)\n",
    "df['Curados'] = df.Curados.astype(int)"
   ]
  },
  {
   "cell_type": "markdown",
   "metadata": {},
   "source": [
    "### Tarefas"
   ]
  },
  {
   "cell_type": "markdown",
   "metadata": {},
   "source": [
    "1) Utilizando o plotly, faça a análise da evolução de Casos, Mortes e Curados do Dataset. "
   ]
  },
  {
   "cell_type": "markdown",
   "metadata": {},
   "source": [
    "2) Calcule a estatística descritiva (média, soma, mediana e desvio-padrão) dos países do dataset."
   ]
  },
  {
   "cell_type": "markdown",
   "metadata": {},
   "source": [
    "3) Encontre uma tabela na Wikipedia do seu interesse e aplique as técnicas apresentadas neste caderno para criar um DataFrame, criar gráficos no Plotly e fazer as estatísticas descritivas."
   ]
  }
 ],
 "metadata": {
  "kernelspec": {
   "display_name": "Python 3",
   "language": "python",
   "name": "python3"
  },
  "language_info": {
   "codemirror_mode": {
    "name": "ipython",
    "version": 3
   },
   "file_extension": ".py",
   "mimetype": "text/x-python",
   "name": "python",
   "nbconvert_exporter": "python",
   "pygments_lexer": "ipython3",
   "version": "3.8.5"
  }
 },
 "nbformat": 4,
 "nbformat_minor": 2
}
