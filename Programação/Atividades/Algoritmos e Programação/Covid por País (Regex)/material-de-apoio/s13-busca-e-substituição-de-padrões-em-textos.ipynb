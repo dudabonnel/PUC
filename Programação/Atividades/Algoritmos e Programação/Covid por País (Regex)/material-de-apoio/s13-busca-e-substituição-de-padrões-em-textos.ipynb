{
 "cells": [
  {
   "cell_type": "markdown",
   "metadata": {},
   "source": [
    "# Busca e Substituição de Padrões em Textos"
   ]
  },
  {
   "cell_type": "markdown",
   "metadata": {},
   "source": [
    "### Semana 13 | EaD"
   ]
  },
  {
   "cell_type": "markdown",
   "metadata": {},
   "source": [
    "# Introdução"
   ]
  },
  {
   "cell_type": "markdown",
   "metadata": {},
   "source": [
    "Python oferece algumas opções para a busca de padrões em textos e possivelmente suas substituições por outros textos. Quando editamos textos frequentemente executamos ferramentas de pesquisar e substituir padrões em textos."
   ]
  },
  {
   "cell_type": "markdown",
   "metadata": {},
   "source": [
    "## `String.replace()`"
   ]
  },
  {
   "cell_type": "markdown",
   "metadata": {},
   "source": [
    "O método `String.replace()` substitui uma substring específica com alguma outra."
   ]
  },
  {
   "cell_type": "markdown",
   "metadata": {},
   "source": [
    "**Sintaxe**\n",
    "\n",
    "```python\n",
    "string.replace(str_ant,str_sub,cont)\n",
    "```\n",
    "`str_ant`: string anterior\n",
    "\n",
    "`str_sub`: string a ser substituída\n",
    "\n",
    "`cont`: controla quantas aplicações (opcional)"
   ]
  },
  {
   "cell_type": "markdown",
   "metadata": {},
   "source": [
    "**Exemplos**"
   ]
  },
  {
   "cell_type": "markdown",
   "metadata": {},
   "source": [
    "Quando a contagem não está explícita, o Python substitui todas ocorrências do padrão na string."
   ]
  },
  {
   "cell_type": "code",
   "execution_count": 11,
   "metadata": {},
   "outputs": [
    {
     "data": {
      "text/plain": [
       "'o Brasil tá lascado!'"
      ]
     },
     "execution_count": 11,
     "metadata": {},
     "output_type": "execute_result"
    }
   ],
   "source": [
    "\"o brasil tá lascado!\".replace(\"brasil\", \"Brasil\")"
   ]
  },
  {
   "cell_type": "code",
   "execution_count": 18,
   "metadata": {},
   "outputs": [
    {
     "data": {
      "text/plain": [
       "'o Brasil Brasil tá lascado!'"
      ]
     },
     "execution_count": 18,
     "metadata": {},
     "output_type": "execute_result"
    }
   ],
   "source": [
    "\"o brasil brasil tá lascado!\".replace(\"brasil\", \"Brasil\")"
   ]
  },
  {
   "cell_type": "code",
   "execution_count": 20,
   "metadata": {},
   "outputs": [
    {
     "data": {
      "text/plain": [
       "'o Brasil Brasil tá lascado! Brasil'"
      ]
     },
     "execution_count": 20,
     "metadata": {},
     "output_type": "execute_result"
    }
   ],
   "source": [
    "\"o brasil brasil tá lascado! brasil\".replace(\"brasil\", \"Brasil\")"
   ]
  },
  {
   "cell_type": "markdown",
   "metadata": {},
   "source": [
    "*Contagem explícita*"
   ]
  },
  {
   "cell_type": "markdown",
   "metadata": {},
   "source": [
    "Busca e substitui somente a 1a ocorrência de `\"r\"`."
   ]
  },
  {
   "cell_type": "code",
   "execution_count": 12,
   "metadata": {},
   "outputs": [
    {
     "data": {
      "text/plain": [
       "'O Rato roeu a roupa do rei de roma'"
      ]
     },
     "execution_count": 12,
     "metadata": {},
     "output_type": "execute_result"
    }
   ],
   "source": [
    "\"O rato roeu a roupa do rei de roma\".replace(\"r\", \"R\", 1)"
   ]
  },
  {
   "cell_type": "markdown",
   "metadata": {},
   "source": [
    "Busca e substitui as duas primeiras ocorrência de `\"r\"`."
   ]
  },
  {
   "cell_type": "code",
   "execution_count": 13,
   "metadata": {},
   "outputs": [
    {
     "data": {
      "text/plain": [
       "'O Rato Roeu a roupa do rei de roma'"
      ]
     },
     "execution_count": 13,
     "metadata": {},
     "output_type": "execute_result"
    }
   ],
   "source": [
    "\"O rato roeu a roupa do rei de roma\".replace(\"r\", \"R\", 2)"
   ]
  },
  {
   "cell_type": "markdown",
   "metadata": {},
   "source": [
    "Busca e substitui as 15 primeiras ocorrências de `\"r\"`."
   ]
  },
  {
   "cell_type": "code",
   "execution_count": 17,
   "metadata": {},
   "outputs": [
    {
     "data": {
      "text/plain": [
       "'O Rato Roeu a Roupa do Rei de Roma'"
      ]
     },
     "execution_count": 17,
     "metadata": {},
     "output_type": "execute_result"
    }
   ],
   "source": [
    "\"O rato roeu a roupa do rei de roma\".replace(\"r\", \"R\", 15)"
   ]
  },
  {
   "cell_type": "code",
   "execution_count": 24,
   "metadata": {},
   "outputs": [
    {
     "data": {
      "text/plain": [
       "'O rato roeu a roupa do rei de roma 0'"
      ]
     },
     "execution_count": 24,
     "metadata": {},
     "output_type": "execute_result"
    }
   ],
   "source": [
    "\"O rato roeu a roupa do rei de roma 0\".replace(r\"[0-9]\", \"R\", 15)"
   ]
  },
  {
   "cell_type": "markdown",
   "metadata": {},
   "source": [
    "**Exercícios de fixação**"
   ]
  },
  {
   "cell_type": "markdown",
   "metadata": {},
   "source": [
    "Implemente a função a seguir que receba uma string e remova todos os caracteres de espaço ` `."
   ]
  },
  {
   "cell_type": "code",
   "execution_count": 71,
   "metadata": {},
   "outputs": [
    {
     "data": {
      "text/plain": [
       "'12 344 666'"
      ]
     },
     "execution_count": 71,
     "metadata": {},
     "output_type": "execute_result"
    }
   ],
   "source": [
    "def rem_esp(str_num):\n",
    "    # str_num = transforme o str_num com o string.replace() e o retorne transformado\n",
    "    return str_num\n",
    "\n",
    "str_num = \"12 344 666\"\n",
    "rem_esp(str_num)"
   ]
  },
  {
   "cell_type": "markdown",
   "metadata": {},
   "source": [
    "Implemente a função a seguir que remove todos os caracteres de nova linha `\\n` do texto e os substituem por uma caractere de espaço ` `."
   ]
  },
  {
   "cell_type": "code",
   "execution_count": 39,
   "metadata": {},
   "outputs": [
    {
     "data": {
      "text/plain": [
       "'Parágrafo 1. blá blá blá.  Parágrafo 2. ti ti ti.   '"
      ]
     },
     "execution_count": 39,
     "metadata": {},
     "output_type": "execute_result"
    }
   ],
   "source": [
    "def rem_nl(texto):\n",
    "    # texto = transforme o texto com o string.replace() e o transformado\n",
    "    return texto.replace(\"\\n\", \" \")\n",
    "\n",
    "texto = \"Parágrafo 1. blá blá blá.\\n\\nParágrafo 2. ti ti ti.\\n\\n\\n\"\n",
    "rem_nl(texto)"
   ]
  },
  {
   "cell_type": "markdown",
   "metadata": {},
   "source": [
    "Implemente uma função que utilize o `String.replace()` para remover dígitos de 0-9?"
   ]
  },
  {
   "cell_type": "code",
   "execution_count": 77,
   "metadata": {},
   "outputs": [
    {
     "data": {
      "text/plain": [
       "'nesta string não nos importamos com os dígitos0123456789, mas somente com caracteres do alfabeto'"
      ]
     },
     "execution_count": 77,
     "metadata": {},
     "output_type": "execute_result"
    }
   ],
   "source": [
    "def rem0_9(str_num):\n",
    "    # Utilizando o replace, remova os dígitos de 0-9 da string\n",
    "    return str_num\n",
    "\n",
    "str_num = \"nesta string não nos importamos com os dígitos0123456789, mas somente com caracteres do alfabeto\"\n",
    "rem0_9(str_num)"
   ]
  },
  {
   "cell_type": "markdown",
   "metadata": {},
   "source": [
    "Implemente uma função que substitua todas as duplas de aspas duplas `\"\"` de uma string de texto por um caractere de aspas duplas `\"`. O caractere de escape `\\` indica ao Python que o símbolo faz parte do texto e não deve ser interpretado como um comando."
   ]
  },
  {
   "cell_type": "code",
   "execution_count": 94,
   "metadata": {},
   "outputs": [
    {
     "data": {
      "text/plain": [
       "'...e então o pastor disse-lhes: \"não temam, pois estarei convosco\".'"
      ]
     },
     "execution_count": 94,
     "metadata": {},
     "output_type": "execute_result"
    }
   ],
   "source": [
    "def rm_aspas(uma_str):\n",
    "    return uma_str.replace(\"\\\"\\\"\", \"\\\"\")\n",
    "\n",
    "texto = \"...e então o pastor disse-lhes: \\\"\\\"não temam, pois estarei convosco\\\"\\\".\"\n",
    "rm_aspas(texto)"
   ]
  },
  {
   "cell_type": "markdown",
   "metadata": {},
   "source": [
    "**Exercícios de fixação**"
   ]
  },
  {
   "cell_type": "markdown",
   "metadata": {},
   "source": [
    "Explique com suas palavras porque o caractere de aspas duplas `\"` necessita de escape."
   ]
  },
  {
   "cell_type": "markdown",
   "metadata": {},
   "source": [
    "*Sua resposta*"
   ]
  },
  {
   "cell_type": "markdown",
   "metadata": {},
   "source": [
    "Que outro(s) caractere(s) necessita(m) de escape no uso de strings (comuns)?"
   ]
  },
  {
   "cell_type": "markdown",
   "metadata": {},
   "source": [
    "*Sua Resposta*"
   ]
  },
  {
   "cell_type": "markdown",
   "metadata": {},
   "source": [
    "## `String.strip()`"
   ]
  },
  {
   "cell_type": "markdown",
   "metadata": {},
   "source": [
    "Remove todos os caracteres passados como parâmetros do começo ao fim da string."
   ]
  },
  {
   "cell_type": "markdown",
   "metadata": {},
   "source": [
    "**Sintaxe**"
   ]
  },
  {
   "cell_type": "markdown",
   "metadata": {},
   "source": [
    "```python\n",
    "string.strip(caracteres)\n",
    "```"
   ]
  },
  {
   "cell_type": "markdown",
   "metadata": {},
   "source": [
    "**Exemplos**"
   ]
  },
  {
   "cell_type": "markdown",
   "metadata": {},
   "source": [
    "O `strip()` aplicado a seguir remove todos os caracters `\\n` do começo e fim da string, mas não faz nada com os `\\n` entre os parágrafos."
   ]
  },
  {
   "cell_type": "code",
   "execution_count": 64,
   "metadata": {},
   "outputs": [
    {
     "data": {
      "text/plain": [
       "'.. \\n\\tParágrafo 1. Texto texto texto\\n\\n\\n\\nParágrafo 2. Mais textos. '"
      ]
     },
     "execution_count": 64,
     "metadata": {},
     "output_type": "execute_result"
    }
   ],
   "source": [
    "\"\\n\\n\\n.. \\n\\tParágrafo 1. Texto texto texto\\n\\n\\n\\nParágrafo 2. Mais textos. \\n\\n\\n\".strip(\"\\n\")"
   ]
  },
  {
   "cell_type": "markdown",
   "metadata": {},
   "source": [
    "Neste outro exemplo, todos os caracteres listados como argumentos são extraídos do começo e fim da string."
   ]
  },
  {
   "cell_type": "code",
   "execution_count": 67,
   "metadata": {},
   "outputs": [
    {
     "data": {
      "text/plain": [
       "'Parágrafo 1. Texto texto texto\\n\\n\\n\\nParágrafo 2. Mais textos'"
      ]
     },
     "execution_count": 67,
     "metadata": {},
     "output_type": "execute_result"
    }
   ],
   "source": [
    "\"\\n\\n\\n.. \\n\\tParágrafo 1. Texto texto texto\\n\\n\\n\\nParágrafo 2. Mais textos. \\n\\n\\n\".strip(\"\\n .\\t\")"
   ]
  },
  {
   "cell_type": "markdown",
   "metadata": {},
   "source": [
    "**Exercício de fixação**"
   ]
  },
  {
   "cell_type": "markdown",
   "metadata": {},
   "source": [
    "Explique o resultado do `strip()` apresentado a seguir."
   ]
  },
  {
   "cell_type": "code",
   "execution_count": 68,
   "metadata": {},
   "outputs": [
    {
     "data": {
      "text/plain": [
       "'banana'"
      ]
     },
     "execution_count": 68,
     "metadata": {},
     "output_type": "execute_result"
    }
   ],
   "source": [
    "\",,,,,rrtggg.......banana.....rrrr\".strip(\"r.,rtg\")"
   ]
  },
  {
   "cell_type": "markdown",
   "metadata": {},
   "source": [
    "**`String.lstrip()`**"
   ]
  },
  {
   "cell_type": "markdown",
   "metadata": {},
   "source": [
    "Opcionalmente, pode-se extrair somente de um lado da string. O `String.lstrip()` extrai apenas do lado esquerdo da string."
   ]
  },
  {
   "cell_type": "code",
   "execution_count": 69,
   "metadata": {},
   "outputs": [
    {
     "data": {
      "text/plain": [
       "'Texto texto texto\\n\\n\\n\\n'"
      ]
     },
     "execution_count": 69,
     "metadata": {},
     "output_type": "execute_result"
    }
   ],
   "source": [
    "\"\\n\\nTexto texto texto\\n\\n\\n\\n\".lstrip(\"\\n\")"
   ]
  },
  {
   "cell_type": "markdown",
   "metadata": {},
   "source": [
    "**`String.rstrip()`**"
   ]
  },
  {
   "cell_type": "markdown",
   "metadata": {},
   "source": [
    "Para extrair apenas do um lado direito da string, utilize o `String.rstrip()`."
   ]
  },
  {
   "cell_type": "code",
   "execution_count": 70,
   "metadata": {},
   "outputs": [
    {
     "data": {
      "text/plain": [
       "'\\n\\nTexto texto texto'"
      ]
     },
     "execution_count": 70,
     "metadata": {},
     "output_type": "execute_result"
    }
   ],
   "source": [
    "\"\\n\\nTexto texto texto\\n\\n\\n\\n\".rstrip(\"\\n\")"
   ]
  },
  {
   "cell_type": "markdown",
   "metadata": {},
   "source": [
    "## Regex"
   ]
  },
  {
   "cell_type": "markdown",
   "metadata": {},
   "source": [
    "## `re.sub()`"
   ]
  },
  {
   "cell_type": "markdown",
   "metadata": {},
   "source": [
    "**Sintaxe**"
   ]
  },
  {
   "cell_type": "markdown",
   "metadata": {},
   "source": [
    "```python\n",
    "re.sub(regex, str_sub, string)\n",
    "```"
   ]
  },
  {
   "cell_type": "markdown",
   "metadata": {},
   "source": [
    "No entanto, embora o método `String.replace()` seja muito bom para encontrar strings específicas dentro de um texto. Por exemplo, podemos utilizar o `String.replace()` para encontrar o número `\"1\"`, mas o que fazer para substituir os caracteres de a-z e A-Z? O método manual é muito trabalho para este caso e inviável para vários outros. "
   ]
  },
  {
   "cell_type": "markdown",
   "metadata": {},
   "source": [
    "As expressões regulares entram em cena. A biblioteca Python que implementa o uso de expressões regulares chama-se `re`, contração de *`r`egular `e`xpressions*."
   ]
  },
  {
   "cell_type": "code",
   "execution_count": 1,
   "metadata": {},
   "outputs": [],
   "source": [
    "# Digite o seguinte comando para utilizar expressões regulares em Python\n",
    "import re"
   ]
  },
  {
   "cell_type": "markdown",
   "metadata": {},
   "source": [
    "### Substituição de duas ou mais ocorrências de um padrão por outro"
   ]
  },
  {
   "cell_type": "markdown",
   "metadata": {},
   "source": [
    "Suponha o seguinte texto."
   ]
  },
  {
   "cell_type": "code",
   "execution_count": 78,
   "metadata": {},
   "outputs": [
    {
     "name": "stdout",
     "output_type": "stream",
     "text": [
      "Coluna1\n",
      "\n",
      "\n",
      "Coluna2\n",
      "\n",
      "\n",
      "Coluna3\n"
     ]
    }
   ],
   "source": [
    "texto = \"Coluna1\\n\\n\\nColuna2\\n\\n\\nColuna3\"\n",
    "print(texto)"
   ]
  },
  {
   "cell_type": "markdown",
   "metadata": {},
   "source": [
    "Se minha intenção é transformar este texto em uma linha de um arquivo `.csv.`, preciso tratar os caracteres `\\n`, uma vez que cada `\\n` indica uma nova linha. Um `.csv.` tradicional é separado por `;`. Assim, vamos trocar cada trio de `\\n` por um `;`."
   ]
  },
  {
   "cell_type": "code",
   "execution_count": 81,
   "metadata": {},
   "outputs": [
    {
     "name": "stdout",
     "output_type": "stream",
     "text": [
      "Coluna1;Coluna2;Coluna3\n"
     ]
    }
   ],
   "source": [
    "import re\n",
    "# O sinal de + após o \\n indica que um ou mais \\n serão substituídos pela str_sub\n",
    "texto = re.sub(\"\\n+\", \";\", \"Coluna1\\n\\n\\nColuna2\\n\\n\\nColuna3\")\n",
    "print(texto)"
   ]
  },
  {
   "cell_type": "markdown",
   "metadata": {},
   "source": [
    "**Exercício de fixação**"
   ]
  },
  {
   "cell_type": "markdown",
   "metadata": {},
   "source": [
    "Utilizando uma combinação de métodos vistos anteriormente, transforme o texto a seguir de tal forma que o resultado seja igual ao do exemplo anterior."
   ]
  },
  {
   "cell_type": "code",
   "execution_count": 82,
   "metadata": {},
   "outputs": [
    {
     "data": {
      "text/plain": [
       "'\\t\\t\\nColuna1\\n\\n\\nColuna2\\n\\n\\nColuna3\\n\\n\\n'"
      ]
     },
     "execution_count": 82,
     "metadata": {},
     "output_type": "execute_result"
    }
   ],
   "source": [
    "import re\n",
    "\n",
    "def prep_texto(linha):\n",
    "    # Transforme a string nesta parte do código\n",
    "    return linha\n",
    "\n",
    "linha = \"\\t\\t\\nColuna1\\n\\n\\nColuna2\\n\\n\\nColuna3\\n\\n\\n\"\n",
    "prep_texto(linha)"
   ]
  },
  {
   "cell_type": "markdown",
   "metadata": {},
   "source": [
    "### Substituição de dois ou mais caracteres com escape"
   ]
  },
  {
   "cell_type": "markdown",
   "metadata": {},
   "source": [
    "Como substituir uma ou mais aspas duplas por uma única ocorrência utilizando o método `re.sub()` em um texto qualquer?"
   ]
  },
  {
   "cell_type": "code",
   "execution_count": 105,
   "metadata": {},
   "outputs": [
    {
     "data": {
      "text/plain": [
       "'O jogador saiu de campo dizendo: \"\"\"quando o jogo está a mil, a naftalina sobe\"\"\".'"
      ]
     },
     "execution_count": 105,
     "metadata": {},
     "output_type": "execute_result"
    }
   ],
   "source": [
    "# Implemente o padrão de busca e a string de substituição\n",
    "re.sub(\"\", \"\", \"O jogador saiu de campo dizendo: \\\"\\\"\\\"quando o jogo está a mil, a naftalina sobe\\\"\\\"\\\".\")"
   ]
  },
  {
   "cell_type": "markdown",
   "metadata": {},
   "source": [
    "Explique porque o caractere `[` necessita de escape em uma expressão regular."
   ]
  },
  {
   "cell_type": "markdown",
   "metadata": {},
   "source": [
    "*Sua resposta*"
   ]
  },
  {
   "cell_type": "markdown",
   "metadata": {},
   "source": [
    "Como remover as ocorrências do caractere `[` no padrão de busca do método `re.sub()`?"
   ]
  },
  {
   "cell_type": "code",
   "execution_count": 109,
   "metadata": {},
   "outputs": [
    {
     "data": {
      "text/plain": [
       "'e então ele disse: [se não comprar nada o desconto é maior] Julius Rock'"
      ]
     },
     "execution_count": 109,
     "metadata": {},
     "output_type": "execute_result"
    }
   ],
   "source": [
    "# Implemente o padrão de busca e a string de substituição \n",
    "re.sub(\"\", \"\", \"e então ele disse: [se não comprar nada o desconto é maior] Julius Rock\")"
   ]
  },
  {
   "cell_type": "markdown",
   "metadata": {},
   "source": [
    "### Substituição com mais de um padrão de busca"
   ]
  },
  {
   "cell_type": "markdown",
   "metadata": {},
   "source": [
    "O uso de regex permite o uso de mais de um padrão de busca. Neste caso, usa-se o caractere pipe `|`, que costuma ser lido como `ou`."
   ]
  },
  {
   "cell_type": "code",
   "execution_count": 114,
   "metadata": {},
   "outputs": [
    {
     "data": {
      "text/plain": [
       "'Não sabendo que era impossível foi lá e soube'"
      ]
     },
     "execution_count": 114,
     "metadata": {},
     "output_type": "execute_result"
    }
   ],
   "source": [
    "re.sub(\"\\n|\\t\", \"\", \"\\n\\n\\t\\nNão sabendo que era impossível foi lá e soube\\n\\n\\n\\t\\t\")"
   ]
  },
  {
   "cell_type": "markdown",
   "metadata": {},
   "source": [
    "**Exercício de fixação**"
   ]
  },
  {
   "cell_type": "markdown",
   "metadata": {},
   "source": [
    "Como remover as ocorrências do caractere `[` e do `]` e do no padrão de busca do método `re.sub()`?"
   ]
  },
  {
   "cell_type": "code",
   "execution_count": 116,
   "metadata": {},
   "outputs": [
    {
     "data": {
      "text/plain": [
       "'Beber, [ter um livro, escrever uma árvore] e plantar um filho'"
      ]
     },
     "execution_count": 116,
     "metadata": {},
     "output_type": "execute_result"
    }
   ],
   "source": [
    "re.sub(\"\", \"\", \"Beber, [ter um livro, escrever uma árvore] e plantar um filho\")"
   ]
  },
  {
   "cell_type": "markdown",
   "metadata": {},
   "source": [
    "### Caractere Estrela"
   ]
  },
  {
   "cell_type": "markdown",
   "metadata": {},
   "source": [
    "Explique este resultado. Numa expressão regular, o que significam o caractere `.` e a estrela `*`?"
   ]
  },
  {
   "cell_type": "code",
   "execution_count": 125,
   "metadata": {},
   "outputs": [
    {
     "data": {
      "text/plain": [
       "''"
      ]
     },
     "execution_count": 125,
     "metadata": {},
     "output_type": "execute_result"
    }
   ],
   "source": [
    "re.sub(\".*\", \"\", \"O que o lápis escreveu a borracha apagou.\")"
   ]
  },
  {
   "cell_type": "markdown",
   "metadata": {},
   "source": [
    "*Sua resposta*"
   ]
  },
  {
   "cell_type": "markdown",
   "metadata": {},
   "source": [
    "Explique porque a sring retorna vazia?"
   ]
  },
  {
   "cell_type": "code",
   "execution_count": 127,
   "metadata": {},
   "outputs": [
    {
     "data": {
      "text/plain": [
       "''"
      ]
     },
     "execution_count": 127,
     "metadata": {},
     "output_type": "execute_result"
    }
   ],
   "source": [
    "re.sub(\"\\[.*\\]\", \"\", \"[1];[2];[3]\")"
   ]
  },
  {
   "cell_type": "markdown",
   "metadata": {},
   "source": [
    "*Sua resposta*"
   ]
  },
  {
   "cell_type": "markdown",
   "metadata": {},
   "source": [
    "Explique porque o uso do caractere coringa `\\d` limita o padrão de busca."
   ]
  },
  {
   "cell_type": "code",
   "execution_count": 129,
   "metadata": {},
   "outputs": [
    {
     "data": {
      "text/plain": [
       "'Fulano , Ciclano  e Beltrano '"
      ]
     },
     "execution_count": 129,
     "metadata": {},
     "output_type": "execute_result"
    }
   ],
   "source": [
    "re.sub(\"\\[\\d\\]\", \"\", \"Fulano [1], Ciclano [2] e Beltrano [3]\")"
   ]
  },
  {
   "cell_type": "markdown",
   "metadata": {},
   "source": [
    "O que é necessário acrescentar ao padrão de busca para que todas as referências sejam removidas?"
   ]
  },
  {
   "cell_type": "code",
   "execution_count": 132,
   "metadata": {},
   "outputs": [
    {
     "data": {
      "text/plain": [
       "'Fulano , Ciclano  e Beltrano [33]'"
      ]
     },
     "execution_count": 132,
     "metadata": {},
     "output_type": "execute_result"
    }
   ],
   "source": [
    "re.sub(\"\\[\\d\\]\", \"\", \"Fulano [1], Ciclano [2] e Beltrano [33]\")"
   ]
  },
  {
   "cell_type": "markdown",
   "metadata": {},
   "source": [
    "*Sua resposta*"
   ]
  },
  {
   "cell_type": "markdown",
   "metadata": {},
   "source": [
    "Como modificar o padrão de busca para que todas as referências sejam removidas, assumindo que dentro dos colchetes podem aparecer um único dígito `\\d` ou uma única letra de `a-z`? Dica: é necessário agrupar o padrão de busca."
   ]
  },
  {
   "cell_type": "code",
   "execution_count": 136,
   "metadata": {},
   "outputs": [
    {
     "data": {
      "text/plain": [
       "'Fulano , Ciclano  e Beltrano [a]'"
      ]
     },
     "execution_count": 136,
     "metadata": {},
     "output_type": "execute_result"
    }
   ],
   "source": [
    "re.sub(\"\\[\\d\\]\", \"\", \"Fulano [1], Ciclano [2] e Beltrano [a]\")"
   ]
  },
  {
   "cell_type": "markdown",
   "metadata": {},
   "source": [
    "## Modularizando código em funções"
   ]
  },
  {
   "cell_type": "markdown",
   "metadata": {},
   "source": [
    "As funções são excelentes para agruparmos transformações comuns a várias casos. Por exemplo, suponha que temos duas strings de texto e duas transformações em cada uma delas."
   ]
  },
  {
   "cell_type": "code",
   "execution_count": 118,
   "metadata": {},
   "outputs": [
    {
     "name": "stdout",
     "output_type": "stream",
     "text": [
      "País;Casos;Mortes\n",
      "Brasil;1000;100\n"
     ]
    }
   ],
   "source": [
    "str_1 = \"\\t\\t\\nPaís\\n\\n\\nCasos\\n\\n\\nMortes\\n\\n\\n\"\n",
    "str_2 = \"\\t\\t\\nBrasil\\n\\n\\n1000\\n\\n\\n100\\n\\n\\n\"\n",
    "\n",
    "str_1 = str_1.strip(\"\\n\\t\")\n",
    "str_1 = re.sub(\"\\n+\", \";\", str_1)\n",
    "\n",
    "str_2 = str_2.strip(\"\\n\\t\")\n",
    "str_2 = re.sub(\"\\n+\", \";\", str_2)\n",
    "\n",
    "print(str_1)\n",
    "print(str_2)"
   ]
  },
  {
   "cell_type": "markdown",
   "metadata": {},
   "source": [
    "As funções fazem com que essas transformações fiquem mais gerais, isto é, possam ser aplicadas em quaisquer strings que necessitem destas mesmas tranformações."
   ]
  },
  {
   "cell_type": "code",
   "execution_count": 123,
   "metadata": {},
   "outputs": [
    {
     "name": "stdout",
     "output_type": "stream",
     "text": [
      "País;Casos;Mortes\n",
      "Brasil;1000;100\n",
      "EUA;2000;200\n"
     ]
    }
   ],
   "source": [
    "str_1 = \"\\t\\t\\nPaís\\n\\n\\nCasos\\n\\n\\nMortes\\n\\n\\n\"\n",
    "str_2 = \"\\t\\t\\nBrasil\\n\\n\\n1000\\n\\n\\n100\\n\\n\\n\"\n",
    "\n",
    "def prep_linha(linha):\n",
    "    linha = linha.strip(\"\\n\\t\")\n",
    "    linha = re.sub(\"\\n+\", \";\", linha)\n",
    "    return linha\n",
    "\n",
    "print(prep_linha(str_1))\n",
    "print(prep_linha(str_2))\n",
    "\n",
    "# Novos casos podem utilizar a mesma função\n",
    "str_3 = \"\\t\\t\\nEUA\\n\\n\\n2000\\n\\n\\n200\\n\\n\\n\"\n",
    "print(prep_linha(str_3))"
   ]
  }
 ],
 "metadata": {
  "kernelspec": {
   "display_name": "Python 3",
   "language": "python",
   "name": "python3"
  },
  "language_info": {
   "codemirror_mode": {
    "name": "ipython",
    "version": 3
   },
   "file_extension": ".py",
   "mimetype": "text/x-python",
   "name": "python",
   "nbconvert_exporter": "python",
   "pygments_lexer": "ipython3",
   "version": "3.8.5"
  }
 },
 "nbformat": 4,
 "nbformat_minor": 2
}
