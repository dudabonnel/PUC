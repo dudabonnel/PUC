{
 "cells": [
  {
   "cell_type": "markdown",
   "id": "c2871af7",
   "metadata": {},
   "source": [
    "# Extração das Informações da Capa"
   ]
  },
  {
   "cell_type": "code",
   "execution_count": 2,
   "id": "90ea95bc",
   "metadata": {},
   "outputs": [],
   "source": [
    "from selenium import webdriver\n",
    "from selenium.webdriver.common.keys import Keys"
   ]
  },
  {
   "cell_type": "code",
   "execution_count": 3,
   "id": "d6acc83a",
   "metadata": {},
   "outputs": [],
   "source": [
    "def obter_driver():\n",
    "    return webdriver.Chrome()\n",
    "\n",
    "def abrir_pagina(driver):\n",
    "    driver.get(\"https://portalbnmp.cnj.jus.br/\")"
   ]
  },
  {
   "cell_type": "code",
   "execution_count": 4,
   "id": "7a618330",
   "metadata": {},
   "outputs": [],
   "source": [
    "driver = obter_driver()\n",
    "abrir_pagina(driver)"
   ]
  },
  {
   "cell_type": "code",
   "execution_count": 11,
   "id": "187244a0",
   "metadata": {},
   "outputs": [],
   "source": [
    "dropdown = driver.find_element_by_xpath(\"\"\"//*[@id=\"ui-fieldset-1-content\"]/div/form/div[6]/div/p-dropdown/div/div[2]/span\"\"\")\n",
    "dropdown.click()"
   ]
  },
  {
   "cell_type": "code",
   "execution_count": 15,
   "id": "59bb885f",
   "metadata": {},
   "outputs": [],
   "source": [
    "estado = \"Acre\""
   ]
  },
  {
   "cell_type": "code",
   "execution_count": 12,
   "id": "386f64da",
   "metadata": {},
   "outputs": [],
   "source": [
    "cmp_input = driver.find_element_by_xpath(\"\"\"//*[@id=\"ui-fieldset-1-content\"]/div/form/div[6]/div/p-dropdown/div/div[3]/div[1]/input\"\"\")\n",
    "cmp_input.send_keys(estado)"
   ]
  },
  {
   "cell_type": "code",
   "execution_count": 13,
   "id": "37f76815",
   "metadata": {},
   "outputs": [],
   "source": [
    "cmp_li = driver.find_element_by_xpath(\"\"\"//*[@id=\"ui-fieldset-1-content\"]/div/form/div[6]/div/p-dropdown/div/div[3]/div[2]/ul/li\"\"\")\n",
    "cmp_li.click()"
   ]
  },
  {
   "cell_type": "code",
   "execution_count": 14,
   "id": "655493dc",
   "metadata": {},
   "outputs": [],
   "source": [
    "btn_pesq = driver.find_element_by_xpath(\"\"\"//*[@id=\"ui-fieldset-1-content\"]/div/form/div[14]/button[2]\"\"\")\n",
    "btn_pesq.click()"
   ]
  },
  {
   "cell_type": "markdown",
   "id": "0a3c77d6",
   "metadata": {},
   "source": [
    "Primeiro elemento \n",
    "```\n",
    "/html/body/app-root/div/div/div[2]/div/app-pesquisa-peca/div[1]/p-datatable/div/div[1]/table/tbody/tr[1]/td[1]/span[2]/span\n",
    "```"
   ]
  },
  {
   "cell_type": "markdown",
   "id": "41d672f7",
   "metadata": {},
   "source": [
    "Segundo elemento\n",
    "```\n",
    "/html/body/app-root/div/div/div[2]/div/app-pesquisa-peca/div[1]/p-datatable/div/div[1]/table/tbody/tr[2]/td[1]/span[2]/span\n",
    "```"
   ]
  },
  {
   "cell_type": "markdown",
   "id": "fbfb6605",
   "metadata": {},
   "source": [
    "Terceiro elemento\n",
    "```\n",
    "/html/body/app-root/div/div/div[2]/div/app-pesquisa-peca/div[1]/p-datatable/div/div[1]/table/tbody/tr[3]/td[1]/span[2]/span\n",
    "```"
   ]
  }
 ],
 "metadata": {
  "kernelspec": {
   "display_name": "Python 3",
   "language": "python",
   "name": "python3"
  },
  "language_info": {
   "codemirror_mode": {
    "name": "ipython",
    "version": 3
   },
   "file_extension": ".py",
   "mimetype": "text/x-python",
   "name": "python",
   "nbconvert_exporter": "python",
   "pygments_lexer": "ipython3",
   "version": "3.8.8"
  }
 },
 "nbformat": 4,
 "nbformat_minor": 5
}
