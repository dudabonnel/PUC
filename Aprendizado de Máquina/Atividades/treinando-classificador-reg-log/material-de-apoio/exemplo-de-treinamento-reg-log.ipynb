{
 "cells": [
  {
   "cell_type": "markdown",
   "id": "8ced9033",
   "metadata": {},
   "source": [
    "# Exemplo de Uso (Regressão Logística)"
   ]
  },
  {
   "cell_type": "markdown",
   "id": "a0cb69ad",
   "metadata": {},
   "source": [
    "### Passo 1. Estabeleça um contexto de pesquisa/negócio"
   ]
  },
  {
   "cell_type": "markdown",
   "id": "8948c24f",
   "metadata": {},
   "source": [
    "Identificar estudantes que estejam desmotivados e agir antes que ocorra evasão."
   ]
  },
  {
   "cell_type": "markdown",
   "id": "1cfeec1e",
   "metadata": {},
   "source": [
    "### Passo 2. Obtenha os dados"
   ]
  },
  {
   "cell_type": "code",
   "execution_count": 2,
   "id": "6349c0ae",
   "metadata": {},
   "outputs": [
    {
     "data": {
      "text/html": [
       "<div>\n",
       "<style scoped>\n",
       "    .dataframe tbody tr th:only-of-type {\n",
       "        vertical-align: middle;\n",
       "    }\n",
       "\n",
       "    .dataframe tbody tr th {\n",
       "        vertical-align: top;\n",
       "    }\n",
       "\n",
       "    .dataframe thead th {\n",
       "        text-align: right;\n",
       "    }\n",
       "</style>\n",
       "<table border=\"1\" class=\"dataframe\">\n",
       "  <thead>\n",
       "    <tr style=\"text-align: right;\">\n",
       "      <th></th>\n",
       "      <th>idade</th>\n",
       "      <th>renda</th>\n",
       "      <th>ano_curso</th>\n",
       "      <th>motivação</th>\n",
       "    </tr>\n",
       "  </thead>\n",
       "  <tbody>\n",
       "    <tr>\n",
       "      <th>0</th>\n",
       "      <td>19</td>\n",
       "      <td>391.0</td>\n",
       "      <td>3</td>\n",
       "      <td>1</td>\n",
       "    </tr>\n",
       "    <tr>\n",
       "      <th>1</th>\n",
       "      <td>19</td>\n",
       "      <td>217.0</td>\n",
       "      <td>3</td>\n",
       "      <td>1</td>\n",
       "    </tr>\n",
       "    <tr>\n",
       "      <th>2</th>\n",
       "      <td>19</td>\n",
       "      <td>164.0</td>\n",
       "      <td>3</td>\n",
       "      <td>1</td>\n",
       "    </tr>\n",
       "    <tr>\n",
       "      <th>3</th>\n",
       "      <td>19</td>\n",
       "      <td>66.0</td>\n",
       "      <td>3</td>\n",
       "      <td>1</td>\n",
       "    </tr>\n",
       "    <tr>\n",
       "      <th>4</th>\n",
       "      <td>19</td>\n",
       "      <td>249.0</td>\n",
       "      <td>3</td>\n",
       "      <td>1</td>\n",
       "    </tr>\n",
       "  </tbody>\n",
       "</table>\n",
       "</div>"
      ],
      "text/plain": [
       "   idade  renda  ano_curso  motivação\n",
       "0     19  391.0          3          1\n",
       "1     19  217.0          3          1\n",
       "2     19  164.0          3          1\n",
       "3     19   66.0          3          1\n",
       "4     19  249.0          3          1"
      ]
     },
     "execution_count": 2,
     "metadata": {},
     "output_type": "execute_result"
    }
   ],
   "source": [
    "from cdia.datasets import DatasetEstudantes\n",
    "\n",
    "# Neste caso, utilizamos um framework para a geração de dados\n",
    "n_amostra = 1000\n",
    "df = DatasetEstudantes.criar(n_amostra)\n",
    "\n",
    "# Transforma a motivação em um atributo binário\n",
    "df.motivação = df.motivação.apply(lambda x: 0 if x < 5 else 1)\n",
    "\n",
    "# Redução do dataset para atributos com poder preditivo\n",
    "df = df.filter(['idade', 'renda', 'ano_curso', 'motivação'])\n",
    "\n",
    "df.head()"
   ]
  },
  {
   "cell_type": "code",
   "execution_count": 3,
   "id": "bae15cda",
   "metadata": {},
   "outputs": [],
   "source": [
    "# Variáveis independentes\n",
    "X = df.filter(['idade', 'renda', 'ano_curso']).to_numpy()\n",
    "\n",
    "# Variável dependente\n",
    "y = df.filter(['motivação'])\n",
    "y = list(y.motivação)"
   ]
  },
  {
   "cell_type": "markdown",
   "id": "72c975d9",
   "metadata": {},
   "source": [
    "### Passo 3. Divide o conjunto de treinamento em treino e testes"
   ]
  },
  {
   "cell_type": "code",
   "execution_count": null,
   "id": "9cc2a722",
   "metadata": {},
   "outputs": [],
   "source": [
    "from sklearn.model_selection import train_test_split\n",
    "\n",
    "# Divide o conjunto de dados em treino e testes\n",
    "X_train, X_test, y_train, y_test = train_test_split(X, y, \n",
    "                                                    train_size=0.75, \n",
    "                                                    test_size=0.25, \n",
    "                                                    random_state=42) "
   ]
  },
  {
   "cell_type": "markdown",
   "id": "97bc05b0",
   "metadata": {},
   "source": [
    "### Passo 3.1. Treinando o modelo com `sklearn`."
   ]
  },
  {
   "cell_type": "code",
   "execution_count": 5,
   "id": "eceeb95a",
   "metadata": {},
   "outputs": [],
   "source": [
    "# Importa as bibliotecas\n",
    "from sklearn.linear_model import LogisticRegression"
   ]
  },
  {
   "cell_type": "code",
   "execution_count": 7,
   "id": "d6d4fbef",
   "metadata": {},
   "outputs": [],
   "source": [
    "# Configura os parâmetros\n",
    "model_params = {\n",
    "    'random_state': 42,\n",
    "    'max_iter': 10 ** 4,\n",
    "}\n",
    "\n",
    "# Treina um modelo de regressão logística\n",
    "logreg = LogisticRegression(**model_params)\n",
    "skl_model = logreg.fit(X_train, y_train)"
   ]
  },
  {
   "cell_type": "code",
   "execution_count": 8,
   "id": "ea628510",
   "metadata": {},
   "outputs": [
    {
     "data": {
      "text/plain": [
       "array([1, 0, 0, 0, 1, 1, 1, 1, 0, 1, 0, 1, 1, 0, 0, 0, 1, 0, 0, 1, 1, 1,\n",
       "       1, 1, 1, 1, 1, 0, 0, 0, 1, 1, 1, 1, 1, 1, 0, 1, 0, 1, 1, 1, 1, 0,\n",
       "       1, 1, 0, 1, 1, 0, 1, 0, 1, 1, 1, 1, 1, 1, 1, 0, 1, 1, 1, 1, 1, 0,\n",
       "       0, 0, 1, 1, 1, 1, 1, 0, 1, 1, 0, 1, 1, 1, 0, 1, 1, 1, 1, 1, 0, 0,\n",
       "       0, 1, 1, 1, 1, 1, 0, 1, 0, 1, 1, 0, 0, 1, 0, 1, 1, 1, 1, 0, 1, 0,\n",
       "       1, 0, 0, 0, 1, 1, 1, 0, 1, 1, 0, 1, 0, 1, 1, 1, 1, 1, 0, 0, 1, 0,\n",
       "       1, 0, 1, 1, 1, 1, 1, 1, 1, 1, 0, 1, 0, 0, 0, 1, 0, 1, 1, 1, 0, 1,\n",
       "       0, 1, 1, 0, 1, 0, 1, 0, 0, 0, 0, 0, 1, 0, 1, 1, 1, 1, 1, 0, 1, 1,\n",
       "       1, 1, 0, 1, 1, 0, 1, 1, 0, 1, 1, 1, 0, 0, 0, 0, 0, 1, 1, 1, 1, 1,\n",
       "       1, 1, 1, 1, 1, 1, 0, 1, 1, 0, 1, 0, 1, 1, 0, 0, 0, 1, 0, 1, 0, 0,\n",
       "       1, 0, 0, 1, 0, 1, 1, 1, 0, 1, 1, 0, 1, 1, 1, 1, 1, 0, 1, 1, 1, 1,\n",
       "       1, 0, 1, 1, 1, 1, 1, 1])"
      ]
     },
     "execution_count": 8,
     "metadata": {},
     "output_type": "execute_result"
    }
   ],
   "source": [
    "# Faz para a previsão para todas instâncias no X_test\n",
    "skl_model.predict(X_test)"
   ]
  },
  {
   "cell_type": "code",
   "execution_count": 9,
   "id": "01013708",
   "metadata": {},
   "outputs": [
    {
     "data": {
      "text/plain": [
       "0.956"
      ]
     },
     "execution_count": 9,
     "metadata": {},
     "output_type": "execute_result"
    }
   ],
   "source": [
    "# Verifica a acurácia\n",
    "skl_model.score(X_test, y_test)"
   ]
  },
  {
   "cell_type": "markdown",
   "id": "f3cf4f62",
   "metadata": {},
   "source": [
    "### Passo 3.2. Treinando o modelo com `statsmodel`"
   ]
  },
  {
   "cell_type": "code",
   "execution_count": 11,
   "id": "e418ecb9",
   "metadata": {},
   "outputs": [],
   "source": [
    "# Importa as bibliotecas\n",
    "import statsmodels.api as sm\n",
    "import numpy as np"
   ]
  },
  {
   "cell_type": "code",
   "execution_count": 13,
   "id": "e4d0806d",
   "metadata": {},
   "outputs": [
    {
     "name": "stdout",
     "output_type": "stream",
     "text": [
      "Optimization terminated successfully.\n",
      "         Current function value: 0.245964\n",
      "         Iterations 11\n",
      "                          Results: Logit\n",
      "==================================================================\n",
      "Model:              Logit            Pseudo R-squared: 0.619      \n",
      "Dependent Variable: y                AIC:              374.9458   \n",
      "Date:               2022-05-04 08:12 BIC:              388.8060   \n",
      "No. Observations:   750              Log-Likelihood:   -184.47    \n",
      "Df Model:           2                LL-Null:          -484.02    \n",
      "Df Residuals:       747              LLR p-value:      8.1053e-131\n",
      "Converged:          1.0000           Scale:            1.0000     \n",
      "No. Iterations:     11.0000                                       \n",
      "---------------------------------------------------------------------\n",
      "       Coef.     Std.Err.       z        P>|z|      [0.025     0.975]\n",
      "---------------------------------------------------------------------\n",
      "x1     0.4649      0.0448     10.3852    0.0000     0.3771     0.5526\n",
      "x2    -0.0037      0.0003    -12.1579    0.0000    -0.0042    -0.0031\n",
      "x3    -0.1763      0.1328     -1.3276    0.1843    -0.4365     0.0840\n",
      "==================================================================\n",
      "\n"
     ]
    },
    {
     "name": "stderr",
     "output_type": "stream",
     "text": [
      "/Users/jeff/opt/anaconda3/lib/python3.8/site-packages/statsmodels/discrete/discrete_model.py:1810: RuntimeWarning: overflow encountered in exp\n",
      "  return 1/(1+np.exp(-X))\n"
     ]
    }
   ],
   "source": [
    "sm_logit = sm.Logit(y_train,X_train)\n",
    "sm_model = sm_logit.fit()\n",
    "y_pred = sm_model.predict(X_test)\n",
    "print(sm_model.summary2())"
   ]
  }
 ],
 "metadata": {
  "kernelspec": {
   "display_name": "Python 3",
   "language": "python",
   "name": "python3"
  },
  "language_info": {
   "codemirror_mode": {
    "name": "ipython",
    "version": 3
   },
   "file_extension": ".py",
   "mimetype": "text/x-python",
   "name": "python",
   "nbconvert_exporter": "python",
   "pygments_lexer": "ipython3",
   "version": "3.8.8"
  }
 },
 "nbformat": 4,
 "nbformat_minor": 5
}
