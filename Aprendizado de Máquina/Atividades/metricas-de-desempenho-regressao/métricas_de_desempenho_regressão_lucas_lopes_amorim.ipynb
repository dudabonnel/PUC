{
 "cells": [
  {
   "cell_type": "markdown",
   "id": "445bf3f7",
   "metadata": {
    "id": "445bf3f7"
   },
   "source": [
    "# Métricas de Desempenho - Regressão"
   ]
  },
  {
   "cell_type": "markdown",
   "id": "ef1d67c2",
   "metadata": {
    "id": "ef1d67c2"
   },
   "source": [
    "Como medir o desempenho de modelos de regressão?"
   ]
  },
  {
   "cell_type": "markdown",
   "id": "40f4c570",
   "metadata": {
    "id": "40f4c570"
   },
   "source": [
    "## O Erro Absoluto Médio (*Mean Absolute Error*)"
   ]
  },
  {
   "cell_type": "markdown",
   "id": "49b91390",
   "metadata": {
    "id": "49b91390"
   },
   "source": [
    "O MAE é uma medida de erro que computa a média arimética dos erros absolutos."
   ]
  },
  {
   "cell_type": "markdown",
   "id": "5c5a530b",
   "metadata": {
    "id": "5c5a530b"
   },
   "source": [
    "$$\n",
    "MAE(y, \\hat{y}) = \\frac{1}{n}\\sum_{i=1}^{n} |y_{i} - \\hat{y_{i}}|\n",
    "$$"
   ]
  },
  {
   "cell_type": "code",
   "execution_count": 1,
   "id": "7b96dc81",
   "metadata": {
    "id": "7b96dc81"
   },
   "outputs": [],
   "source": [
    "from metricas import mae"
   ]
  },
  {
   "cell_type": "code",
   "execution_count": 2,
   "id": "14f0024b",
   "metadata": {
    "colab": {
     "base_uri": "https://localhost:8080/"
    },
    "id": "14f0024b",
    "outputId": "d6dc7991-ce66-4a06-b197-6c5019eda027"
   },
   "outputs": [
    {
     "data": {
      "text/plain": [
       "3.0"
      ]
     },
     "execution_count": 2,
     "metadata": {},
     "output_type": "execute_result"
    }
   ],
   "source": [
    "y = [13, -0.5, 2, 7]\n",
    "y_pred = [2.5, 0.0, 2, 8]\n",
    "\n",
    "mae(y, y_pred)"
   ]
  },
  {
   "cell_type": "markdown",
   "id": "85e01cc2",
   "metadata": {
    "id": "85e01cc2"
   },
   "source": [
    "**QUESTÕES PARA REFLEXÃO**\n",
    "\n",
    "**[01]** Em que situações o MAE é útil?\n",
    "\n",
    "1. Quando precisamos de uma métrica que seja representativa para os dados que estamos avaliando (ex.: quando prevendo o preço de uma casa, um MAE de 10.000 pode significar que em média nós erramos 10 mil reais)\n",
    "\n",
    "2. Quando queremos uma métrica para medir o quanto estamos errando (no intervalo [0, $\\infty$[ )\n",
    "\n",
    "**[02]** Como se dá a interpretação dos resultados no MAE?\n",
    "\n",
    "> O MAE dá a nós a diferença média entre as observações (valores verdadeiro) e os resultados do nosso modelo (valores preditos). Um ponto positivo do MAE é que o seu resultado sempre está na mesma escala de medida que da amostra, então se estamos tentando prevendo o preço de uma casa, um MAE de 10.000 pode significar que em média nós erramos 10 mil reais - repare que a unidade de medida é a mesma que o preço de uma casa.\n",
    "\n",
    "**[03]** O MAE pode ser considerado análogo a alguma medida de tendência central?\n",
    "\n",
    "> O MAE assemelha-se a variância, pois nos diz o quão longe em média estamos da medida correta. Uma diferença é que a variância é calculada a partir do quadrado dos resíduos, e o MAE é calculado a partir do módulo dos resíduos.\n",
    "\n",
    "**[04]** Como o MAE se comporta com *outliers*?\n",
    "\n",
    "> O MAE dá o mesmo peso para os outliers do que para todos os outros exemplos da amostra."
   ]
  },
  {
   "cell_type": "markdown",
   "id": "9a4801a2",
   "metadata": {
    "id": "9a4801a2"
   },
   "source": [
    "## O Percentual do Erro Médio Absoluto (*Mean Absolute Percentage Error*)"
   ]
  },
  {
   "cell_type": "markdown",
   "id": "66e0c8aa",
   "metadata": {
    "id": "66e0c8aa"
   },
   "source": [
    "$$\n",
    "MAPE(y, \\hat{y}) = \\frac{1}{n}\\sum_{i=1}^{n}  \\frac{|{y_{i} - \\hat{y}}|}{max(\\epsilon, |y_{i}|)}\n",
    "$$"
   ]
  },
  {
   "cell_type": "code",
   "execution_count": 1,
   "id": "cc42dc6a",
   "metadata": {
    "colab": {
     "base_uri": "https://localhost:8080/"
    },
    "id": "cc42dc6a",
    "outputId": "925572fc-7c34-4bd8-8e9d-31ca03e31ae6"
   },
   "outputs": [
    {
     "data": {
      "text/plain": [
       "2.5000000000000003e+23"
      ]
     },
     "execution_count": 1,
     "metadata": {},
     "output_type": "execute_result"
    }
   ],
   "source": [
    "from metricas import mape\n",
    "\n",
    "y = [0, 2, 3, 4]\n",
    "y_pred = [1, 2, 3, 8]\n",
    "\n",
    "mape(y, y_pred)"
   ]
  },
  {
   "cell_type": "markdown",
   "id": "15a616ab",
   "metadata": {
    "id": "15a616ab"
   },
   "source": [
    "**QUESTÕES PARA REFLEXÃO**\n",
    "\n",
    "**[05]** Em que situações o MAPE seria útil?\n",
    "\n",
    "> Quando queremos analisar o quanto erramos em percentual em relação ao valor que estamos tentando prever.\\\n",
    "Exemplo: Se estamos tentando prever o valor de uma casa que custa 10.000 (true value) e prevemos 12.000 (predicted value), o nosso MAPE é 0.2 (ou 20%).\\\n",
    "\\\n",
    "Essa análise é especialmente útil no mundo dos negócios, onde é de muito valor compararmos sempre um resultado em relação a um baseline (patamar base)\n",
    "\n",
    "**[06]** Como é a interpretação dos resultados no MAPE?\n",
    "\n",
    "| MAPE | Interpretation |\n",
    "| -- | -- |\n",
    "| < 10 % | Muito bom |\n",
    "| 10 % - 20 % | Bom |\n",
    "| 20 % - 50 % | Razoável |\n",
    "| > 50 % | Ruim |\n",
    "\n",
    "Fonte: https://stephenallwright.com/good-mape-score/\n",
    "\n",
    "**[07]** Como o MAPE se comporta com *outliers*?"
   ]
  },
  {
   "cell_type": "markdown",
   "id": "1edddc96",
   "metadata": {
    "id": "1edddc96"
   },
   "source": [
    "## O Erro Quadrático Médio (*Mean Squared Error*)"
   ]
  },
  {
   "cell_type": "markdown",
   "id": "6ecfa362",
   "metadata": {
    "id": "6ecfa362"
   },
   "source": [
    "O MSE é uma medida de erro que computa a média dos quadrados dos erros."
   ]
  },
  {
   "cell_type": "markdown",
   "id": "b4fb072d",
   "metadata": {
    "id": "b4fb072d"
   },
   "source": [
    "$$\n",
    "MSE(y, \\hat{y}) = \\frac{1}{n}\\sum_{i=1}^{n} (y_{i} - \\hat{y_{i}})^2\n",
    "$$"
   ]
  },
  {
   "cell_type": "code",
   "execution_count": 4,
   "id": "f0bed936",
   "metadata": {
    "id": "f0bed936"
   },
   "outputs": [],
   "source": [
    "from metricas import mse"
   ]
  },
  {
   "cell_type": "code",
   "execution_count": 5,
   "id": "84ec3d17",
   "metadata": {
    "id": "84ec3d17"
   },
   "outputs": [
    {
     "data": {
      "text/plain": [
       "27.875"
      ]
     },
     "execution_count": 5,
     "metadata": {},
     "output_type": "execute_result"
    }
   ],
   "source": [
    "y = [13, -0.5, 2, 7]\n",
    "y_pred = [2.5, 0.0, 2, 8]\n",
    "\n",
    "mse(y, y_pred)"
   ]
  },
  {
   "cell_type": "markdown",
   "id": "50e7c8fa",
   "metadata": {
    "id": "50e7c8fa"
   },
   "source": [
    "**QUESTÕES PARA REFLEXÃO**\n",
    "\n",
    "**[08]** Em que situações o MSE é útil?\n",
    "\n",
    "**[09]** Como é a interpretação dos resultados no MSE?\n",
    "\n",
    "**[10]** O MSE pode ser análogo a alguma medida de variabilidade?\n",
    "\n",
    "**[11]** Como o MSE se comporta com *outliers*?\n"
   ]
  },
  {
   "cell_type": "markdown",
   "id": "jJLNtNQg4qVh",
   "metadata": {
    "id": "jJLNtNQg4qVh"
   },
   "source": [
    "## A Raiz Quadrada do Erro Quadrático Médio (*Root Mean Squared Error*)"
   ]
  },
  {
   "cell_type": "markdown",
   "id": "aD_Zx8dK47lR",
   "metadata": {
    "id": "aD_Zx8dK47lR"
   },
   "source": [
    "O RMSE é computado pela raiz quadrada do MSE. Representa uma medida de variabilidade dos acertos de um modelo."
   ]
  },
  {
   "cell_type": "markdown",
   "id": "HNRHzR_z5QH0",
   "metadata": {
    "id": "HNRHzR_z5QH0"
   },
   "source": [
    "$$\n",
    "RMSE(y, \\hat{y}) = \\sqrt{MSE(y, \\hat{y})}\n",
    "$$"
   ]
  },
  {
   "cell_type": "markdown",
   "id": "r5aBZZTF5jZ2",
   "metadata": {
    "id": "r5aBZZTF5jZ2"
   },
   "source": [
    "**QUESTÕES PARA REFLEXÃO**\n",
    "\n",
    "**[12]** Em que situações o MSE é útil?\n",
    "\n",
    "**[13]** Como é a interpretação dos resultados no MSE?\n",
    "\n",
    "**[14]** O MSE pode ser análogo a alguma medida de variabilidade?\n",
    "\n",
    "**[15]** Como o MSE se comporta com *outliers*?\n"
   ]
  },
  {
   "cell_type": "markdown",
   "id": "76a4df8c",
   "metadata": {
    "id": "76a4df8c"
   },
   "source": [
    "## O Coeficiente de Determinação: $R^2$"
   ]
  },
  {
   "cell_type": "markdown",
   "id": "ae45445d",
   "metadata": {
    "id": "ae45445d"
   },
   "source": [
    "O coeficiente de determinação representa a proporção da variância (de $y$) que é explicada pelas variáveis independentes do modelo. O $R^2$ fornece uma indicação da qualidade do ajuste e portanto uma medida do quão bem instâncias não vistas serão previstas pelo modelo."
   ]
  },
  {
   "cell_type": "markdown",
   "id": "c2fbefd6",
   "metadata": {
    "id": "c2fbefd6"
   },
   "source": [
    "$$\n",
    "R^2(y, \\hat{y}) = 1 - \\frac{\\sum_{i=1}^{n} (y_{i} - \\hat{y_{i}})^2}{\\sum_{i=1}^{n} (y_{i} - \\bar{y})^2}\n",
    "$$"
   ]
  },
  {
   "cell_type": "code",
   "execution_count": 6,
   "id": "226299fc",
   "metadata": {
    "id": "226299fc"
   },
   "outputs": [],
   "source": [
    "from metricas import r2"
   ]
  },
  {
   "cell_type": "code",
   "execution_count": 7,
   "id": "ec1d482d",
   "metadata": {
    "colab": {
     "base_uri": "https://localhost:8080/"
    },
    "id": "ec1d482d",
    "outputId": "3ecd59a9-42d7-4c7c-deb7-a60eb6bf3ee8"
   },
   "outputs": [
    {
     "data": {
      "text/plain": [
       "1.0"
      ]
     },
     "execution_count": 7,
     "metadata": {},
     "output_type": "execute_result"
    }
   ],
   "source": [
    "# Predição perfeita\n",
    "# ==============================================================================\n",
    "\n",
    "y =      [1,2,3,4]\n",
    "y_pred = [1,2,3,4]\n",
    "\n",
    "r2(y, y_pred)"
   ]
  },
  {
   "cell_type": "code",
   "execution_count": 8,
   "id": "480191df",
   "metadata": {
    "id": "480191df"
   },
   "outputs": [
    {
     "data": {
      "text/plain": [
       "0.9486081370449679"
      ]
     },
     "execution_count": 8,
     "metadata": {},
     "output_type": "execute_result"
    }
   ],
   "source": [
    "# Predição imperfeita\n",
    "# ==============================================================================\n",
    "y = [3, -0.5, 2, 7]\n",
    "y_pred = [2.5, 0.0, 2, 8]\n",
    "\n",
    "r2(y, y_pred)"
   ]
  },
  {
   "cell_type": "markdown",
   "id": "54e8de12",
   "metadata": {
    "id": "54e8de12"
   },
   "source": [
    "O $R^2$ é muito sensível a *outliers*."
   ]
  },
  {
   "cell_type": "code",
   "execution_count": 9,
   "id": "7faaa905",
   "metadata": {
    "id": "7faaa905"
   },
   "outputs": [
    {
     "data": {
      "text/plain": [
       "-0.04510837727006445"
      ]
     },
     "execution_count": 9,
     "metadata": {},
     "output_type": "execute_result"
    }
   ],
   "source": [
    "# Outliers\n",
    "# ==============================================================================\n",
    "\n",
    "y = [13, -0.5, 2, 7] # 3 => 13 \n",
    "y_pred = [2.5, 0.0, 2, 8]\n",
    "\n",
    "r2(y, y_pred)"
   ]
  },
  {
   "cell_type": "markdown",
   "id": "aa3858f7",
   "metadata": {
    "id": "aa3858f7"
   },
   "source": [
    "**QUESTÕES PARA REFLEXÃO**\n",
    "\n",
    "**[16]** Em que situações o $R^2$ é útil?\n",
    "\n",
    "**[17]** Como é a interpretação dos resultados no $R^2$?\n",
    "\n",
    "**[18]** Como o $R^2$ se comporta com *outliers*?\n"
   ]
  },
  {
   "cell_type": "markdown",
   "id": "traFZ-VHpQKU",
   "metadata": {
    "id": "traFZ-VHpQKU"
   },
   "source": [
    "## O Erro Absoluto Mediano (*Median Absolute Error*)"
   ]
  },
  {
   "cell_type": "markdown",
   "id": "YrQgMUVBpcwo",
   "metadata": {
    "id": "YrQgMUVBpcwo"
   },
   "source": [
    "O MedAE é calculado ao obter a mediana das diferenças absolutas entre o alvo e a predição."
   ]
  },
  {
   "cell_type": "markdown",
   "id": "svjawo4FpsHa",
   "metadata": {
    "id": "svjawo4FpsHa"
   },
   "source": [
    "$$\n",
    "MedAE(y, \\hat{y}) = mediana(|y_{1} - \\hat{y_{1}}|, ..., |y_{n} - \\hat{y_{n}}|)\n",
    "$$"
   ]
  },
  {
   "cell_type": "code",
   "execution_count": 10,
   "id": "qX6i01DupPYv",
   "metadata": {
    "id": "qX6i01DupPYv"
   },
   "outputs": [
    {
     "data": {
      "text/plain": [
       "1.0"
      ]
     },
     "execution_count": 10,
     "metadata": {},
     "output_type": "execute_result"
    }
   ],
   "source": [
    "from metricas import medae\n",
    "\n",
    "y = [13, -0.5, 2, 7, 10]\n",
    "y_pred = [2.5, 0.0, 2, 8, 12]\n",
    "\n",
    "medae(y, y_pred)"
   ]
  },
  {
   "cell_type": "markdown",
   "id": "xj8A7_fkqT04",
   "metadata": {
    "id": "xj8A7_fkqT04"
   },
   "source": [
    "**[19]** Em que situações o MedAE é útil?\n",
    "\n",
    "**[20]** Como se dá a interpretação dos resultados no MedAE?\n",
    "\n",
    "**[21]** O MedAE pode ser considerado análogo a alguma medida de tendência central?\n",
    "\n",
    "**[22]** Como o MedAE se comporta com *outliers*?\n",
    "\n"
   ]
  },
  {
   "cell_type": "markdown",
   "id": "47dee429",
   "metadata": {},
   "source": [
    "```python\n",
    "def mape(y, y_hat, e=1e-24):\n",
    "    \"\"\"\n",
    "    Calcula o MAPE (Percentual do Erro Médio Absoluto)\n",
    "    \n",
    "    Parameters\n",
    "    ----------\n",
    "    y: list\n",
    "        Target true value\n",
    "    \n",
    "    y_hat: list\n",
    "        Target predicted value\n",
    "    e: float\n",
    "        Arbitrary value to be used in case of division by zero\n",
    "        \n",
    "    Returns\n",
    "    -------\n",
    "    mape: float\n",
    "        Value of Mean Absolute Percentage Error\n",
    "    \"\"\"\n",
    "    \n",
    "    n = len(y)\n",
    "    \n",
    "    soma = 0\n",
    "    for i in range(n):\n",
    "        soma += abs(y[i] - y_hat[i]) / max(abs(y[i]), e)\n",
    "    \n",
    "    return soma / n\n",
    "```"
   ]
  },
  {
   "cell_type": "code",
   "execution_count": 2,
   "id": "a9d08807",
   "metadata": {},
   "outputs": [],
   "source": [
    "y= [1,2,3]\n",
    "y_pred = [1,2,6]"
   ]
  },
  {
   "cell_type": "code",
   "execution_count": 3,
   "id": "809dff0d",
   "metadata": {},
   "outputs": [
    {
     "data": {
      "text/plain": [
       "0.3333333333333333"
      ]
     },
     "execution_count": 3,
     "metadata": {},
     "output_type": "execute_result"
    }
   ],
   "source": [
    "mape(y, y_pred)"
   ]
  }
 ],
 "metadata": {
  "colab": {
   "collapsed_sections": [],
   "provenance": []
  },
  "kernelspec": {
   "display_name": "Python 3 (ipykernel)",
   "language": "python",
   "name": "python3"
  },
  "language_info": {
   "codemirror_mode": {
    "name": "ipython",
    "version": 3
   },
   "file_extension": ".py",
   "mimetype": "text/x-python",
   "name": "python",
   "nbconvert_exporter": "python",
   "pygments_lexer": "ipython3",
   "version": "3.9.7"
  }
 },
 "nbformat": 4,
 "nbformat_minor": 5
}
