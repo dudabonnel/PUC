{
 "cells": [
  {
   "cell_type": "markdown",
   "id": "12bf96bc",
   "metadata": {},
   "source": [
    "# Pontifícia Universidade Católica de São Paulo\n",
    "\n",
    "## Bacharelado em Ciência de Dados e Inteligência Artificial\n",
    "#### 3 Semestre\n",
    "\n",
    "### Aluno: Lucas Lopes Amorim\n"
   ]
  },
  {
   "cell_type": "markdown",
   "id": "8f9dfbb2",
   "metadata": {},
   "source": [
    "## questão dirigida\n",
    "\n",
    "Como examinar os efeitos de duas ou mais variáveis simultaneamente?"
   ]
  },
  {
   "cell_type": "markdown",
   "id": "ad7ddfbc",
   "metadata": {},
   "source": [
    "## contexto e motivação\n",
    "\n",
    "Após fazer a revisão da literatura na procura por proxies da evasão escolar, Horácio necessita coletar dados para poder treinar modelos de aprendizagem de máquina. No entanto, ele ainda não se sente seguro de que um modelo baseado nestes dados pode efetivamente identificar estudantes que estejam em risco de evasão. \n",
    "\n",
    "Horácio decide então fazer um experimento para entender melhor os dados. Para simplificar, Horácio decidiu tentar primeiramente identificar os estudantes desmotivados, assumindo que este grupo possui maior risco de evasão. Mais precisamente, Horácio está interessado em comparar o grau de satisfação dos estudantes de quatro níveis de renda (A, B, C, D) com a motivação com o curso. Horácio aplica um questionário de 40 itens projetado para medir o grau de motivação com o curso.\n",
    "\n",
    "A consolidação dos dados está nesta planilha: http://shorturl.at/ivFWY\n",
    "\n",
    "Horácio estabelece as suas hipóteses:"
   ]
  },
  {
   "cell_type": "markdown",
   "id": "c62b16cd",
   "metadata": {},
   "source": [
    "Horácio estabelece as suas hipóteses:\n",
    "- $H_0$. A renda familiar do estudante não tem relação com sua motivação com o curso\n",
    "<br></br>\n",
    "- $H_1$. A renda familiar do estudante tem relação com sua motivação com o curso\n",
    "\n",
    "Como Horácio pode testar suas hipóteses?"
   ]
  },
  {
   "cell_type": "markdown",
   "id": "7681d455",
   "metadata": {},
   "source": [
    "O teste que precisa ser feito é o teste **ANOVA**"
   ]
  },
  {
   "cell_type": "markdown",
   "id": "cadce9a4",
   "metadata": {},
   "source": [
    "## Teste ANOVA"
   ]
  },
  {
   "cell_type": "code",
   "execution_count": 1,
   "id": "612b932d",
   "metadata": {},
   "outputs": [],
   "source": [
    "# Importando bibiotecas necessárias\n",
    "import pandas as pd"
   ]
  },
  {
   "cell_type": "code",
   "execution_count": 3,
   "id": "e2ea0787",
   "metadata": {
    "scrolled": true
   },
   "outputs": [
    {
     "data": {
      "text/html": [
       "<div>\n",
       "<style scoped>\n",
       "    .dataframe tbody tr th:only-of-type {\n",
       "        vertical-align: middle;\n",
       "    }\n",
       "\n",
       "    .dataframe tbody tr th {\n",
       "        vertical-align: top;\n",
       "    }\n",
       "\n",
       "    .dataframe thead th {\n",
       "        text-align: right;\n",
       "    }\n",
       "</style>\n",
       "<table border=\"1\" class=\"dataframe\">\n",
       "  <thead>\n",
       "    <tr style=\"text-align: right;\">\n",
       "      <th></th>\n",
       "      <th>Nível de renda</th>\n",
       "      <th>Motivação com o curso</th>\n",
       "    </tr>\n",
       "  </thead>\n",
       "  <tbody>\n",
       "    <tr>\n",
       "      <th>0</th>\n",
       "      <td>D</td>\n",
       "      <td>3</td>\n",
       "    </tr>\n",
       "    <tr>\n",
       "      <th>1</th>\n",
       "      <td>D</td>\n",
       "      <td>6</td>\n",
       "    </tr>\n",
       "    <tr>\n",
       "      <th>2</th>\n",
       "      <td>D</td>\n",
       "      <td>7</td>\n",
       "    </tr>\n",
       "    <tr>\n",
       "      <th>3</th>\n",
       "      <td>D</td>\n",
       "      <td>2</td>\n",
       "    </tr>\n",
       "    <tr>\n",
       "      <th>4</th>\n",
       "      <td>D</td>\n",
       "      <td>0</td>\n",
       "    </tr>\n",
       "  </tbody>\n",
       "</table>\n",
       "</div>"
      ],
      "text/plain": [
       "  Nível de renda  Motivação com o curso\n",
       "0              D                      3\n",
       "1              D                      6\n",
       "2              D                      7\n",
       "3              D                      2\n",
       "4              D                      0"
      ]
     },
     "execution_count": 3,
     "metadata": {},
     "output_type": "execute_result"
    }
   ],
   "source": [
    "# Carregando os dados\n",
    "df = pd.read_csv('renda-e-motivação.tsv', sep='\\t')\n",
    "df.head()"
   ]
  },
  {
   "cell_type": "markdown",
   "id": "d034f5f8",
   "metadata": {},
   "source": [
    "### 1. Encontre a média para cada amostra"
   ]
  },
  {
   "cell_type": "code",
   "execution_count": 8,
   "id": "8e4c57bf",
   "metadata": {},
   "outputs": [
    {
     "data": {
      "text/plain": [
       "{'A': 25.6, 'B': 25.0, 'C': 14.0, 'D': 3.6}"
      ]
     },
     "execution_count": 8,
     "metadata": {},
     "output_type": "execute_result"
    }
   ],
   "source": [
    "means = df.groupby('Nível de renda')['Motivação com o curso'].mean().to_dict()\n",
    "means"
   ]
  },
  {
   "cell_type": "markdown",
   "id": "eb4e3540",
   "metadata": {},
   "source": [
    "### 2. Encontre a soma dos escores, soma dos quadrados dos escores, número total de respondetes e a média de todos os grupos"
   ]
  },
  {
   "cell_type": "code",
   "execution_count": 19,
   "id": "85fe17eb",
   "metadata": {},
   "outputs": [
    {
     "data": {
      "text/plain": [
       "8099"
      ]
     },
     "execution_count": 19,
     "metadata": {},
     "output_type": "execute_result"
    }
   ],
   "source": [
    "# Calcule a soma dos escores e a soma dos escores quadrados.\n",
    "soma_escores = df['Motivação com o curso'].sum()\n",
    "df['Motivação com o curso quadrado'] = df['Motivação com o curso'].apply(lambda x: x**2)\n",
    "soma_escores_quadrados = df['Motivação com o curso quadrado'].sum()\n",
    "soma_escores_quadrados"
   ]
  },
  {
   "cell_type": "code",
   "execution_count": 20,
   "id": "162f8255",
   "metadata": {},
   "outputs": [
    {
     "data": {
      "text/plain": [
       "17.05"
      ]
     },
     "execution_count": 20,
     "metadata": {},
     "output_type": "execute_result"
    }
   ],
   "source": [
    "# Calcule o número total de participantes da amostra e a média para todos os grupos combinados.\n",
    "x_total = df['Motivação com o curso'].sum()/len(df)\n",
    "x_total"
   ]
  },
  {
   "cell_type": "markdown",
   "id": "70337a49",
   "metadata": {},
   "source": [
    "### 3. Calcule a soma dos quadrados totais"
   ]
  },
  {
   "cell_type": "code",
   "execution_count": 22,
   "id": "5e500a70",
   "metadata": {},
   "outputs": [
    {
     "data": {
      "text/plain": [
       "2284.949999999999"
      ]
     },
     "execution_count": 22,
     "metadata": {},
     "output_type": "execute_result"
    }
   ],
   "source": [
    "SS_total = soma_escores_quadrados - len(df)*(x_total)**2\n",
    "SS_total"
   ]
  },
  {
   "cell_type": "markdown",
   "id": "1550e75b",
   "metadata": {},
   "source": [
    "### 4. Calcule a soma dos quadrados entre grupos"
   ]
  },
  {
   "cell_type": "code",
   "execution_count": 45,
   "id": "b09fdbfd",
   "metadata": {},
   "outputs": [
    {
     "data": {
      "text/plain": [
       "1632.5500000000002"
      ]
     },
     "execution_count": 45,
     "metadata": {},
     "output_type": "execute_result"
    }
   ],
   "source": [
    "groups_stats = df.groupby('Nível de renda')['Motivação com o curso'].agg(['count', 'mean'])\n",
    "SS_entre = (groups_stats['count']*groups_stats['mean']**2).sum() - len(df)*(x_total)**2\n",
    "SS_entre"
   ]
  },
  {
   "cell_type": "markdown",
   "id": "07dff6e3",
   "metadata": {},
   "source": [
    "### 5. Calcule a soma dos quadrados intra-grupos."
   ]
  },
  {
   "cell_type": "code",
   "execution_count": 38,
   "id": "08e0e682",
   "metadata": {},
   "outputs": [
    {
     "data": {
      "text/plain": [
       "652.3999999999987"
      ]
     },
     "execution_count": 38,
     "metadata": {},
     "output_type": "execute_result"
    }
   ],
   "source": [
    "SS_intra = soma_escores_quadrados - (groups_stats['count']*groups_stats['mean']**2).sum()\n",
    "SS_intra"
   ]
  },
  {
   "cell_type": "markdown",
   "id": "9cf6c555",
   "metadata": {},
   "source": [
    "### 6. Calcule os graus de liberdade entre grupos."
   ]
  },
  {
   "cell_type": "code",
   "execution_count": 42,
   "id": "62d5153c",
   "metadata": {},
   "outputs": [
    {
     "data": {
      "text/plain": [
       "3"
      ]
     },
     "execution_count": 42,
     "metadata": {},
     "output_type": "execute_result"
    }
   ],
   "source": [
    "k = len(df['Nível de renda'].unique())\n",
    "df_entre = k - 1\n",
    "df_entre"
   ]
  },
  {
   "cell_type": "markdown",
   "id": "afa57363",
   "metadata": {},
   "source": [
    "### 7. Calcule os graus de liberdade intra-grupos."
   ]
  },
  {
   "cell_type": "code",
   "execution_count": 43,
   "id": "f79e5c32",
   "metadata": {},
   "outputs": [
    {
     "data": {
      "text/plain": [
       "16"
      ]
     },
     "execution_count": 43,
     "metadata": {},
     "output_type": "execute_result"
    }
   ],
   "source": [
    "df_intra = len(df) - k\n",
    "df_intra"
   ]
  },
  {
   "cell_type": "markdown",
   "id": "6d778b72",
   "metadata": {},
   "source": [
    "### 8. Calcule o quadrado médio entre grupos."
   ]
  },
  {
   "cell_type": "code",
   "execution_count": 46,
   "id": "b4a4aea5",
   "metadata": {},
   "outputs": [
    {
     "data": {
      "text/plain": [
       "544.1833333333334"
      ]
     },
     "execution_count": 46,
     "metadata": {},
     "output_type": "execute_result"
    }
   ],
   "source": [
    "MS_entre = SS_entre/df_entre\n",
    "MS_entre"
   ]
  },
  {
   "cell_type": "markdown",
   "id": "ab94cda1",
   "metadata": {},
   "source": [
    "### 9. Calcule o quadrado médio intra-grupos."
   ]
  },
  {
   "cell_type": "code",
   "execution_count": 47,
   "id": "a3c2d596",
   "metadata": {},
   "outputs": [
    {
     "data": {
      "text/plain": [
       "40.77499999999992"
      ]
     },
     "execution_count": 47,
     "metadata": {},
     "output_type": "execute_result"
    }
   ],
   "source": [
    "MS_intra = SS_intra/df_intra\n",
    "MS_intra"
   ]
  },
  {
   "cell_type": "markdown",
   "id": "2802d053",
   "metadata": {},
   "source": [
    "### 10. Calcule a Razão F."
   ]
  },
  {
   "cell_type": "code",
   "execution_count": 48,
   "id": "9181caba",
   "metadata": {},
   "outputs": [
    {
     "data": {
      "text/plain": [
       "13.346004496219116"
      ]
     },
     "execution_count": 48,
     "metadata": {},
     "output_type": "execute_result"
    }
   ],
   "source": [
    "F = MS_entre/MS_intra\n",
    "F"
   ]
  },
  {
   "cell_type": "markdown",
   "id": "48fbf7f1",
   "metadata": {},
   "source": [
    "Valor do F na tabela de significância para α = 0.05 e df_entre = 3 e df_intra = 16: **3.24**\n",
    "\n",
    "Como 13.346 >> 3.24 temos que **a classe (nível de renda) afeta** a motivação dos estudantes."
   ]
  }
 ],
 "metadata": {
  "kernelspec": {
   "display_name": "Python 3 (ipykernel)",
   "language": "python",
   "name": "python3"
  },
  "language_info": {
   "codemirror_mode": {
    "name": "ipython",
    "version": 3
   },
   "file_extension": ".py",
   "mimetype": "text/x-python",
   "name": "python",
   "nbconvert_exporter": "python",
   "pygments_lexer": "ipython3",
   "version": "3.9.7"
  }
 },
 "nbformat": 4,
 "nbformat_minor": 5
}
