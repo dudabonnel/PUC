{
 "cells": [
  {
   "cell_type": "markdown",
   "id": "f6dff998",
   "metadata": {},
   "source": [
    "# Métricas de Desempenho de Classificação\n",
    "\n",
    "## Lista de Exercícios"
   ]
  },
  {
   "cell_type": "markdown",
   "id": "de51a0d4",
   "metadata": {},
   "source": [
    "Na resolução dos exercícios a seguir **NÃO** utilize funções de bibliotecas prontas."
   ]
  },
  {
   "cell_type": "code",
   "execution_count": 1,
   "id": "f6ae287e",
   "metadata": {},
   "outputs": [],
   "source": [
    "NEG, POS = 0, 1"
   ]
  },
  {
   "cell_type": "markdown",
   "id": "87e856b2",
   "metadata": {},
   "source": [
    "**[01]** Implemente a função `binarizar()` de tal forma que o vetor de entrada `v` seja binarizado de acordo com um limiar especificado."
   ]
  },
  {
   "cell_type": "code",
   "execution_count": 2,
   "id": "1e0011bc",
   "metadata": {},
   "outputs": [],
   "source": [
    "def binarizar(v, limiar=0.5):\n",
    "    \"\"\"\n",
    "    Transforma um vetor de entrada v em binário\n",
    "    Args:\n",
    "        v: um vetor de entrada\n",
    "        limiar: um limiar de corte\n",
    "    Retorna:\n",
    "        Um vetor binarizado: acima ou igual ao valor do limiar cada valor em v[i] é considerado 1. Abaixo do limiar, 0.\n",
    "    Exemplos\n",
    "        binarizar([0,0,1]) => [0,0,1]\n",
    "        binarizar([0.6, 0.7, 0.2], limiar=0.5) => [1,1,0]\n",
    "    \"\"\"\n",
    "    return [POS if prob >= limiar else NEG for prob in v]"
   ]
  },
  {
   "cell_type": "markdown",
   "id": "1082b040",
   "metadata": {},
   "source": [
    "**[02]** Implemente a função `classificar()`, que deve calcular os verdadeiros positivos (vp), verdadeiros negativos (vn), falsos positivos (fp) e falsos negativos (fn), dados um vetor `y` e `y_pred`."
   ]
  },
  {
   "cell_type": "code",
   "execution_count": 3,
   "id": "f9032027",
   "metadata": {},
   "outputs": [],
   "source": [
    "def classificar(y, y_pred, limiar=0.5):\n",
    "    \"\"\"\n",
    "    Contabiliza os VPs, VNs, FPs e FNs a partir dos vetores y e y_pred.\n",
    "    Args:\n",
    "        y: vetor com as classificações reais\n",
    "        y_pred: vetor com as classificações do modelo\n",
    "    Retorna:\n",
    "        As quantidades de VPs, VNs, FPs e FNs\n",
    "    \"\"\"\n",
    "    assert len(y) == len(y_pred)\n",
    "    vp, vn, fp, fn = 0, 0, 0, 0\n",
    "    \n",
    "    binarizado = binarizar(y_pred, limiar)\n",
    "    for i in range(len(y)):\n",
    "        if (y[i] == binarizado[i]):\n",
    "            if (binarizado[i] == NEG):\n",
    "                vn += 1\n",
    "            elif (binarizado[i] == POS):\n",
    "                vp += 1\n",
    "        elif (y[i] != binarizado[i]):\n",
    "            # neg => pos\n",
    "            if (binarizado[i] == POS):\n",
    "                fp += 1\n",
    "            # pos => neg\n",
    "            elif  (binarizado[i] == NEG):\n",
    "                fn += 1\n",
    "    return vp, vn, fp, fn"
   ]
  },
  {
   "cell_type": "markdown",
   "id": "84908b95",
   "metadata": {},
   "source": [
    "**[03]** Implemente a função `acurácia()`, que deve calcular a acurácia a partir dos vetores `y` e `y_pred`."
   ]
  },
  {
   "cell_type": "code",
   "execution_count": 28,
   "id": "3d24298f",
   "metadata": {},
   "outputs": [],
   "source": [
    "def acurácia(y, y_pred, limiar=0.5):\n",
    "    \"\"\"\n",
    "    Retorna a acurácia a partir dos vetores y e y_pred\n",
    "    Args:\n",
    "        y: vetor com as classificaçõe reais\n",
    "        y_pred: vetor com as predições\n",
    "    Retorna\n",
    "        O valor da acurácia\n",
    "    \"\"\"\n",
    "    vp, vn, fp, fn = classificar(y, y_pred, limiar)\n",
    "    return round((vp + vn) / (vp + vn + fp + fn), 2)"
   ]
  },
  {
   "cell_type": "markdown",
   "id": "73b14750",
   "metadata": {},
   "source": [
    "**[04]** Implemente a função `precisão()`, que deve calcular a precisão a partir dos vetores `y` e `y_pred`."
   ]
  },
  {
   "cell_type": "code",
   "execution_count": 27,
   "id": "19fd37d2",
   "metadata": {},
   "outputs": [],
   "source": [
    "def precisão(y, y_pred, limiar=0.5):\n",
    "    \"\"\"\n",
    "    Retorna a precisão a partir dos vetores y e y_pred\n",
    "    Args:\n",
    "        y: vetor com as classificaçõe reais\n",
    "        y_pred: vetor com as predições\n",
    "    Retorna\n",
    "        O valor da precisão\n",
    "    \"\"\"\n",
    "    vp, vn, fp, fn = classificar(y, y_pred, limiar)\n",
    "    if (vp + fp == 0):\n",
    "        return .0\n",
    "    return round(vp / (vp + fp), 2)"
   ]
  },
  {
   "cell_type": "markdown",
   "id": "be353357",
   "metadata": {},
   "source": [
    "**[05]** Implemente a função `revocação()`, que deve calcular a revocação a partir dos vetores `y` e `y_pred`."
   ]
  },
  {
   "cell_type": "code",
   "execution_count": 26,
   "id": "a3572d72",
   "metadata": {},
   "outputs": [],
   "source": [
    "def revocação(y, y_pred, limiar=0.5):\n",
    "    \"\"\"\n",
    "    Retorna a revocação a partir dos vetores y e y_pred\n",
    "    Args:\n",
    "        y: vetor com as classificaçõe reais\n",
    "        y_pred: vetor com as predições\n",
    "    Retorna\n",
    "        O valor da revocação\n",
    "    \"\"\"\n",
    "    vp, vn, fp, fn = classificar(y, y_pred, limiar)\n",
    "    if (vp + fn == 0):\n",
    "        return .0\n",
    "    return round(vp / (vp + fn), 2)"
   ]
  },
  {
   "cell_type": "markdown",
   "id": "a19972db",
   "metadata": {},
   "source": [
    "**[06]** Implemente a função `fbeta()`, que deve calcular a métrica `F` a partir dos vetores `y` e `y_pred` e um valor de `beta`."
   ]
  },
  {
   "cell_type": "markdown",
   "id": "15f031b1",
   "metadata": {},
   "source": [
    "$$\n",
    "F_{\\beta} = (1 + \\beta^2) \\cdot \\frac{precision \\cdot recall}{\\beta^2 \\cdot precision + recall}\n",
    "$$"
   ]
  },
  {
   "cell_type": "code",
   "execution_count": 25,
   "id": "2e95dd1a",
   "metadata": {},
   "outputs": [],
   "source": [
    "def fbeta(y, y_pred, beta=1, limiar=0.5):\n",
    "    \"\"\"\n",
    "    Retorna a revocação a partir dos vetores y e y_pred\n",
    "    Args:\n",
    "        y: vetor com as classificaçõe reais\n",
    "        y_pred: vetor com as predições\n",
    "        beta: Tipicamnete, 0.5, 1 ou 2\n",
    "        limiar: Um valor de corte para a binarização\n",
    "    Retorna\n",
    "        O valor da revocação\n",
    "    \"\"\"\n",
    "    p = precisão(y, y_pred, limiar)\n",
    "    r = revocação(y, y_pred, limiar)\n",
    "    if (p + r == 0):\n",
    "        return .0\n",
    "    return round((1 + beta ** 2) * (p * r) / (beta ** 2 * p + r), 2)"
   ]
  },
  {
   "cell_type": "markdown",
   "id": "e654293f",
   "metadata": {},
   "source": [
    "**[07]** Implemente a função `taxa_erro()`, que deve calcular a taxa de erro $(1 - acurácia)$ a partir dos vetores `y` e `y_pred`."
   ]
  },
  {
   "cell_type": "code",
   "execution_count": 24,
   "id": "3b9e34da",
   "metadata": {},
   "outputs": [],
   "source": [
    "def taxa_erro(y, y_pred, limiar=0.5):\n",
    "    \"\"\"\n",
    "    Retorna a taxa de erro () a partir dos vetores y e y_pred\n",
    "    Args:\n",
    "        y: vetor com as classificaçõe reais\n",
    "        y_pred: vetor com as predições\n",
    "        limiar: Um valor de corte para a binarização\n",
    "    Retorna\n",
    "        O valor da taxa de erro\n",
    "    \"\"\"\n",
    "    return round(1 - acurácia(y, y_pred, limiar), 2)"
   ]
  },
  {
   "cell_type": "markdown",
   "id": "add0bdc0",
   "metadata": {},
   "source": [
    "**[08]** Implemente a função `m_confusão()`, que deve imprimir os valores de VPs, VNs, FPs e FNs a partir dos vetores `y` e `y_pred`."
   ]
  },
  {
   "cell_type": "code",
   "execution_count": 9,
   "id": "6975b49f",
   "metadata": {},
   "outputs": [],
   "source": [
    "def m_confusão(y, y_pred, limiar=0.5):\n",
    "    \"\"\"\n",
    "    Imprime os VPs, VNs, FPs e FNs\n",
    "    Args:\n",
    "        y: vetor com as classificaçõe reais\n",
    "        y_pred: vetor com as predições\n",
    "        limiar: Um valor de corte para a binarização\n",
    "    Retorna\n",
    "        None. Não há retorno, uma vez que a função deve imprimir seus cálculos\n",
    "    \"\"\"\n",
    "    vp, vn, fp, fn = classificar(y, y_pred, limiar)\n",
    "    print(\"Matriz de Confusão\")\n",
    "    cols = 15\n",
    "    print(\"+\" + \"=\" * cols + \"+\")\n",
    "    print(f\"| VP: {vp} | FP: {fp} |\")\n",
    "    print(\"+\" + \"-\" * cols + \"+\")\n",
    "    print(f\"| FN: {fn} | VN: {vn} |\")\n",
    "    print(\"+\" + \"=\" * cols + \"+\")"
   ]
  },
  {
   "cell_type": "code",
   "execution_count": 13,
   "id": "61902e8f",
   "metadata": {},
   "outputs": [],
   "source": [
    "def linha_sep(cols, sep='-'):\n",
    "    print(f\"+\" + sep * cols + \"+\")"
   ]
  },
  {
   "cell_type": "code",
   "execution_count": 63,
   "id": "e645d41a",
   "metadata": {},
   "outputs": [],
   "source": [
    "def relat_clf(y, y_pred, limiar=0.5):\n",
    "    p = precisão(y, y_pred, limiar)\n",
    "    r = revocação(y, y_pred, limiar)\n",
    "    a = acurácia(y, y_pred, limiar)\n",
    "    f1 = fbeta(y, y_pred, beta=1, limiar=0.5)\n",
    "    f2 = fbeta(y, y_pred, beta=2, limiar=0.5)\n",
    "    f05 = fbeta(y, y_pred, beta=0.5, limiar=0.5)\n",
    "    te = taxa_erro(y, y_pred, limiar)\n",
    "    \n",
    "    print(\"Relatório de Desempenho\")\n",
    "    cols = 80\n",
    "    linha_sep(cols, \"=\")\n",
    "    print(f\"Acurácia: {a}  | Taxa de Erro: {te}   | Precisão: {p}  | Revocação: {r}\")\n",
    "    linha_sep(cols)\n",
    "    print(f\"f1: {f1}  | f2: {f2}  | f.5: {f05}\")\n",
    "    linha_sep(cols)\n",
    "    print(\"\")\n",
    "    m_confusão(y, y_pred, limiar)"
   ]
  },
  {
   "cell_type": "markdown",
   "id": "d63fdaae",
   "metadata": {},
   "source": [
    "**[09]** Estude as métricas `acurácia`, `taxa de erro`, `precisão`, `revocação`, `F1`, `F2`, `F0.5` para os seguintes vetores:"
   ]
  },
  {
   "cell_type": "markdown",
   "id": "44d4409f",
   "metadata": {},
   "source": [
    "*a)* `y=[0,0,0,0,0,0,0,0,0,0]` e `y_pred=[1,1,1,1,1,1,1,1,1,1]`:"
   ]
  },
  {
   "cell_type": "markdown",
   "id": "982032a7",
   "metadata": {},
   "source": [
    "*Se o modelo não acertar nenhuma classificação, então a acurácia, precisão, revocação e as métricas $f$ são $0$.*"
   ]
  },
  {
   "cell_type": "code",
   "execution_count": 64,
   "id": "d7e35af6",
   "metadata": {},
   "outputs": [
    {
     "name": "stdout",
     "output_type": "stream",
     "text": [
      "Relatório de Desempenho\n",
      "+================================================================================+\n",
      "Acurácia: 0.0  | Taxa de Erro: 1.0   | Precisão: 0.0  | Revocação: 0.0\n",
      "+--------------------------------------------------------------------------------+\n",
      "f1: 0.0  | f2: 0.0  | f.5: 0.0\n",
      "+--------------------------------------------------------------------------------+\n",
      "\n",
      "Matriz de Confusão\n",
      "+===============+\n",
      "| VP: 0 | FP: 10 |\n",
      "+---------------+\n",
      "| FN: 0 | VN: 0 |\n",
      "+===============+\n"
     ]
    }
   ],
   "source": [
    "y=[0,0,0,0,0,0,0,0,0,0]\n",
    "y_pred=[1,1,1,1,1,1,1,1,1,1]\n",
    "relat_clf(y, y_pred, limiar=0.5)"
   ]
  },
  {
   "cell_type": "markdown",
   "id": "bc2d0929",
   "metadata": {},
   "source": [
    "*b)* `y=[1,1,1,1,1,1,1,1,1,1]` e `y_pred=[0,0,0,0,0,0,0,0,0,0]`:"
   ]
  },
  {
   "cell_type": "markdown",
   "id": "49b287e8",
   "metadata": {},
   "source": [
    "*Se o modelo não acertar nenhuma classificação, então a acurácia, precisão, revocação e as métricas $f$ são $0$. Esse segundo caso confirma que as métricas são $0$ independentemente de erros aos VPs ou VNs.*"
   ]
  },
  {
   "cell_type": "code",
   "execution_count": 65,
   "id": "f84ac155",
   "metadata": {},
   "outputs": [
    {
     "name": "stdout",
     "output_type": "stream",
     "text": [
      "Relatório de Desempenho\n",
      "+================================================================================+\n",
      "Acurácia: 0.0  | Taxa de Erro: 1.0   | Precisão: 0.0  | Revocação: 0.0\n",
      "+--------------------------------------------------------------------------------+\n",
      "f1: 0.0  | f2: 0.0  | f.5: 0.0\n",
      "+--------------------------------------------------------------------------------+\n",
      "\n",
      "Matriz de Confusão\n",
      "+===============+\n",
      "| VP: 0 | FP: 0 |\n",
      "+---------------+\n",
      "| FN: 10 | VN: 0 |\n",
      "+===============+\n"
     ]
    }
   ],
   "source": [
    "y=[1,1,1,1,1,1,1,1,1,1]\n",
    "y_pred=[0,0,0,0,0,0,0,0,0,0]\n",
    "relat_clf(y, y_pred, limiar=0.5)"
   ]
  },
  {
   "cell_type": "markdown",
   "id": "cac79f87",
   "metadata": {},
   "source": [
    "*c)* `y=[0,0,0,0,0,0,0,0,0,1]` e `y_pred=[0,0,0,0,0,0,0,0,0,0]`:"
   ]
  },
  {
   "cell_type": "markdown",
   "id": "4cf61b9f",
   "metadata": {},
   "source": [
    "*Acertar muitos VNs faz com que haja uma boa acurácia, mas isso não é refletido na precisão, revocação e nas métricas $f$*."
   ]
  },
  {
   "cell_type": "code",
   "execution_count": 66,
   "id": "afc58542",
   "metadata": {},
   "outputs": [
    {
     "name": "stdout",
     "output_type": "stream",
     "text": [
      "Relatório de Desempenho\n",
      "+================================================================================+\n",
      "Acurácia: 0.9  | Taxa de Erro: 0.1   | Precisão: 0.0  | Revocação: 0.0\n",
      "+--------------------------------------------------------------------------------+\n",
      "f1: 0.0  | f2: 0.0  | f.5: 0.0\n",
      "+--------------------------------------------------------------------------------+\n",
      "\n",
      "Matriz de Confusão\n",
      "+===============+\n",
      "| VP: 0 | FP: 0 |\n",
      "+---------------+\n",
      "| FN: 1 | VN: 9 |\n",
      "+===============+\n"
     ]
    }
   ],
   "source": [
    "y=[0,0,0,0,0,0,0,0,0,1]\n",
    "y_pred=[0,0,0,0,0,0,0,0,0,0]\n",
    "relat_clf(y, y_pred, limiar=0.5)"
   ]
  },
  {
   "cell_type": "markdown",
   "id": "037c5efe",
   "metadata": {},
   "source": [
    "*d)* `y=[1,1,1,1,1,1,1,1,1,0]` e `y_pred=[1,1,1,1,1,1,1,1,1,1]`:"
   ]
  },
  {
   "cell_type": "markdown",
   "id": "3a060a80",
   "metadata": {},
   "source": [
    "*Ao contrário do anterior, acertar muitos VPs faz com que o modelo tenha não somente uma boa acurácia, mas boa precisão e revocação também. Falsos positivos diminuem a precisão e afetam as métricas $f2$ e $f.5$ de modos diferentes. A redução da precisão não afeta $f2$ tanto quanto f.5.*"
   ]
  },
  {
   "cell_type": "code",
   "execution_count": 67,
   "id": "924ed453",
   "metadata": {},
   "outputs": [
    {
     "name": "stdout",
     "output_type": "stream",
     "text": [
      "Relatório de Desempenho\n",
      "+================================================================================+\n",
      "Acurácia: 0.9  | Taxa de Erro: 0.1   | Precisão: 0.9  | Revocação: 1.0\n",
      "+--------------------------------------------------------------------------------+\n",
      "f1: 0.95  | f2: 0.98  | f.5: 0.92\n",
      "+--------------------------------------------------------------------------------+\n",
      "\n",
      "Matriz de Confusão\n",
      "+===============+\n",
      "| VP: 9 | FP: 1 |\n",
      "+---------------+\n",
      "| FN: 0 | VN: 0 |\n",
      "+===============+\n"
     ]
    }
   ],
   "source": [
    "y=[1,1,1,1,1,1,1,1,1,0]\n",
    "y_pred=[1,1,1,1,1,1,1,1,1,1]\n",
    "relat_clf(y, y_pred, limiar=0.5)"
   ]
  },
  {
   "cell_type": "markdown",
   "id": "067fbca2",
   "metadata": {},
   "source": [
    "*e)* `y=[1,1,1,0,0,0]`, `y_pred=[.8, .7, .8, .2, .3, .4]` e `limiar=.5`:"
   ]
  },
  {
   "cell_type": "markdown",
   "id": "dd48347a",
   "metadata": {},
   "source": [
    "*Acertar todas as previsões leva todas as métricas aos seus máximos. No entanto, esse cenário não é realista.*"
   ]
  },
  {
   "cell_type": "code",
   "execution_count": 68,
   "id": "6a321335",
   "metadata": {},
   "outputs": [
    {
     "name": "stdout",
     "output_type": "stream",
     "text": [
      "Relatório de Desempenho\n",
      "+================================================================================+\n",
      "Acurácia: 1.0  | Taxa de Erro: 0.0   | Precisão: 1.0  | Revocação: 1.0\n",
      "+--------------------------------------------------------------------------------+\n",
      "f1: 1.0  | f2: 1.0  | f.5: 1.0\n",
      "+--------------------------------------------------------------------------------+\n",
      "\n",
      "Matriz de Confusão\n",
      "+===============+\n",
      "| VP: 3 | FP: 0 |\n",
      "+---------------+\n",
      "| FN: 0 | VN: 3 |\n",
      "+===============+\n"
     ]
    }
   ],
   "source": [
    "y=[1,1,1,0,0,0]\n",
    "y_pred=[.8, .7, .8, .2, .3, .4]\n",
    "relat_clf(y, y_pred, limiar=0.5)"
   ]
  },
  {
   "cell_type": "markdown",
   "id": "4d22f578",
   "metadata": {},
   "source": [
    "*f)* `y=[1,1,1,0,0,0]`, `y_pred=[.2, .7, .8, .2, .3, .4]` e `limiar=.5`:"
   ]
  },
  {
   "cell_type": "markdown",
   "id": "ab2512b5",
   "metadata": {},
   "source": [
    "*Falsos negativos diminuem a revocação, sem afetar a precisão. $f2$ A redução da revocação não afeta $f.5$ tanto quanto $f2$*."
   ]
  },
  {
   "cell_type": "code",
   "execution_count": 69,
   "id": "aaa6a959",
   "metadata": {},
   "outputs": [
    {
     "name": "stdout",
     "output_type": "stream",
     "text": [
      "Relatório de Desempenho\n",
      "+================================================================================+\n",
      "Acurácia: 0.83  | Taxa de Erro: 0.17   | Precisão: 1.0  | Revocação: 0.67\n",
      "+--------------------------------------------------------------------------------+\n",
      "f1: 0.8  | f2: 0.72  | f.5: 0.91\n",
      "+--------------------------------------------------------------------------------+\n",
      "\n",
      "Matriz de Confusão\n",
      "+===============+\n",
      "| VP: 2 | FP: 0 |\n",
      "+---------------+\n",
      "| FN: 1 | VN: 3 |\n",
      "+===============+\n"
     ]
    }
   ],
   "source": [
    "y=[1,1,1,0,0,0]\n",
    "y_pred=[.2, .7, .8, .2, .3, .4]\n",
    "relat_clf(y, y_pred, limiar=0.5)"
   ]
  },
  {
   "cell_type": "markdown",
   "id": "1b831e60",
   "metadata": {},
   "source": [
    "*g)* `y=[1,1,1,0,0,0]`, `y_pred=[.8, .7, .8, .2, .3, .8]` e `limiar=.5`:"
   ]
  },
  {
   "cell_type": "markdown",
   "id": "f6c87862",
   "metadata": {},
   "source": [
    "*Falsos positivos diminuem a precisão, sem afetar a revocação. A redução da precisão não afeta $f2$ tanto quanto f.5.*"
   ]
  },
  {
   "cell_type": "code",
   "execution_count": 70,
   "id": "5a8ee2d9",
   "metadata": {},
   "outputs": [
    {
     "name": "stdout",
     "output_type": "stream",
     "text": [
      "Relatório de Desempenho\n",
      "+================================================================================+\n",
      "Acurácia: 0.83  | Taxa de Erro: 0.17   | Precisão: 0.75  | Revocação: 1.0\n",
      "+--------------------------------------------------------------------------------+\n",
      "f1: 0.86  | f2: 0.94  | f.5: 0.79\n",
      "+--------------------------------------------------------------------------------+\n",
      "\n",
      "Matriz de Confusão\n",
      "+===============+\n",
      "| VP: 3 | FP: 1 |\n",
      "+---------------+\n",
      "| FN: 0 | VN: 2 |\n",
      "+===============+\n"
     ]
    }
   ],
   "source": [
    "y=[1,1,1,0,0,0]\n",
    "y_pred=[.8, .7, .8, .2, .3, .8]\n",
    "relat_clf(y, y_pred, limiar=0.5)"
   ]
  },
  {
   "cell_type": "markdown",
   "id": "82462360",
   "metadata": {},
   "source": [
    "*h)* `y=[1,1,1,0,0,0]`, `y_pred=[.2, .7, .8, .2, .3, .8]` e `limiar=.5`:"
   ]
  },
  {
   "cell_type": "markdown",
   "id": "7316325a",
   "metadata": {},
   "source": [
    "*Em situações reais, não é possível classificar as instâncias perfeitamente. Inevitavelmente, instâncias positivas e negativas serão classificadas com probabilidades similares. Independentemente da direção, movimentar um limiar irá reclassificar corretamente algumas corretamente ao mesmo tempo em que irá reclassificar outras erroneamente. Essa característica é o que faz com que haja na prática uma relação inversa entre a precisão e revocação.*"
   ]
  },
  {
   "cell_type": "code",
   "execution_count": 71,
   "id": "81d7c369",
   "metadata": {},
   "outputs": [
    {
     "name": "stdout",
     "output_type": "stream",
     "text": [
      "Relatório de Desempenho\n",
      "+================================================================================+\n",
      "Acurácia: 0.67  | Taxa de Erro: 0.33   | Precisão: 0.67  | Revocação: 0.67\n",
      "+--------------------------------------------------------------------------------+\n",
      "f1: 0.67  | f2: 0.67  | f.5: 0.67\n",
      "+--------------------------------------------------------------------------------+\n",
      "\n",
      "Matriz de Confusão\n",
      "+===============+\n",
      "| VP: 2 | FP: 1 |\n",
      "+---------------+\n",
      "| FN: 1 | VN: 2 |\n",
      "+===============+\n"
     ]
    }
   ],
   "source": [
    "y=[1,1,1,0,0,0]\n",
    "y_pred=[.2, .7, .8, .2, .3, .8]\n",
    "relat_clf(y, y_pred, limiar=0.5)"
   ]
  }
 ],
 "metadata": {
  "kernelspec": {
   "display_name": "Python 3",
   "language": "python",
   "name": "python3"
  },
  "language_info": {
   "codemirror_mode": {
    "name": "ipython",
    "version": 3
   },
   "file_extension": ".py",
   "mimetype": "text/x-python",
   "name": "python",
   "nbconvert_exporter": "python",
   "pygments_lexer": "ipython3",
   "version": "3.8.8"
  }
 },
 "nbformat": 4,
 "nbformat_minor": 5
}
